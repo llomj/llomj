{
 "cells": [
  {
   "metadata": {
    "trusted": false
   },
   "cell_type": "code",
   "source": "\"\"\"\n- **Definition**:\n  - The `zip()` function in Python takes **iterable** objects (like lists, tuples, or strings) as arguments and returns an **iterator** of tuples. Each tuple contains elements from the input iterables paired together by their index position.\n  - It \"zips\" together the items at corresponding positions from each iterable, creating pairs (or n-tuples if more than two iterables are provided).\n  - If the input iterables are of different lengths, `zip()` stops creating pairs when the shortest iterable is exhausted.\n\n- **How It Works**:\n  1. **Iterates Over Multiple Iterables Simultaneously**:\n     - The `zip()` function iterates over all the provided iterables at the same time, extracting one element from each at the same index and combining them into a tuple.\n  \n  2. **Pairs or Tuples**:\n     - For two iterables, `zip()` will produce a series of **pairs** (2-tuple) where the first elements of each iterable are paired, the second elements are paired, and so on.\n     - For three or more iterables, `zip()` will produce **n-tuples** where one element from each iterable is included in each tuple.\n\n- **Structure**:\n  - The basic syntax for `zip()` is:\n    ```python\n    zip(*iterables)\n    ```\n    - The asterisk `*` means that any number of iterables can be passed as arguments.\n    - The function returns an **iterator** that can be converted to a list, tuple, or other collection types to view the result.\n\n  Example:\n  ```python\n  names = ['Alice', 'Bob', 'Charlie']\n  ages = [25, 30, 35]\n  zipped = zip(names, ages)\n  print(list(zipped))",
   "execution_count": null,
   "outputs": []
  },
  {
   "metadata": {
    "trusted": false
   },
   "cell_type": "code",
   "source": "\"\"\"\nProblem: 251\nWrite a Python program to pair elements from two lists of equal length using `zip()`.\n\"\"\"\n\ndef pair_elements(lst1, lst2):\n    paired = list(zip(lst1, lst2))\n    return paired\n\nlst1 = [\"Jon\", \"Chris\", \"Nathan\", \"Sam\"]\nlst2 = [\"A\", \"B\", \"C\", \"D\"]\nprint(pair_elements(lst1, lst2))",
   "execution_count": null,
   "outputs": []
  },
  {
   "metadata": {
    "trusted": true
   },
   "cell_type": "code",
   "source": "\"\"\"\nProblem: 252\nWrite a Python program to find the sum of corresponding elements from two lists using `zip()`.\n\"\"\"\n\ndef sum_of_2_lst(lst1, lst2):\n    summed_list = []\n    for x, y in zip(lst1, lst2):\n        summed_list.append(x + y)\n    return summed_list\n\nlst1 = [2, 4, 6, 8]\nlst2 = [2, 4, 6, 8]\nprint(sum_of_2_lst(lst1, lst2))",
   "execution_count": 1,
   "outputs": [
    {
     "output_type": "stream",
     "text": "[4, 8, 12, 16]\n",
     "name": "stdout"
    }
   ]
  },
  {
   "metadata": {
    "trusted": false
   },
   "cell_type": "code",
   "source": "\"\"\"\nProblem: 253\nWrite a Python function to sort a list of tuples by the second element in each tuple using the key parameter.\n\"\"\"\n\ndef sort_tuples_by_second(tuples_list):\n    return sorted(tuples_list, key=lambda x: x[1])\n\ntuples_list = [(1, 3), (3, 2), (5, 1)]\nresult = sort_tuples_by_second(tuples_list)\nprint(result)",
   "execution_count": null,
   "outputs": []
  },
  {
   "metadata": {
    "trusted": false
   },
   "cell_type": "code",
   "source": "\"\"\"\nProblem: 254\nWrite a Python program to create a dictionary from two lists, one for keys and one for values, using `zip()`.\n\"\"\"\n\ndef dic_lst(lst1, lst2):\n    result = {}\n    for x, y in zip(lst1, lst2):\n        result[x] = y\n    return result\n    \nlst1 = [1, 2, 3, 4]\nlst2 = [\"Ron\", \"break\", \"tree\", \"son\"]\nprint(dic_lst(lst1, lst2))",
   "execution_count": null,
   "outputs": []
  },
  {
   "metadata": {
    "trusted": false
   },
   "cell_type": "code",
   "source": "\"\"\"\nProblem: 255\nWrite a Python program to combine three lists into a list of tuples using `zip()`.\n\"\"\"\ndef combine_3_lst(lst1, lst2, lst3):\n    result = []\n    for x, y, z in zip(lst1, lst2, lst3):\n         result.append((x, y, z))\n         \n    return result\n     \nlst1 = [\"Sam\", \"Nike\", \"system\"]\nlst2 = [\"Sammy\", \"Mikey\", \"Steven\"]\nlst3 = [\"Son\", \"monkey\", \"star\"]\nprint(combine_3_lst(lst1, lst2, lst3))",
   "execution_count": null,
   "outputs": []
  },
  {
   "metadata": {
    "trusted": false
   },
   "cell_type": "code",
   "source": "\"\"\"\nProblem: 256\nWrite a Python program to transpose a 2D matrix (list of lists) using `zip()`.\n\"\"\"\n\ndef transpose_matrix(matrix):\n    transposed = zip(*matrix)\n    result = []\n    for row in transposed:\n        result.append(list(row))\n    \n    return result\nmatrix = [\n    [1, 2, 3],\n    [4, 5, 6],\n    [7, 8, 9]\n]\nprint(transpose_matrix(matrix))",
   "execution_count": null,
   "outputs": []
  },
  {
   "metadata": {
    "trusted": false
   },
   "cell_type": "code",
   "source": "\"\"\"\nProblem: 257\nWrite a Python program to unzip a list of tuples into individual lists using `zip()`.\n\"\"\"\n\ndef list_tuples(lst):\n    unzipped = zip(*lst)\n    result = []\n    for x in unzipped:\n        result.append(list(x))\n    \nlst = [(1, 2, 3), (4, 5, 6), (7, 8, 9)]\nprint(list_tuples(lst))",
   "execution_count": null,
   "outputs": []
  },
  {
   "metadata": {
    "trusted": false
   },
   "cell_type": "code",
   "source": "\"\"\"\nProblem: 258\nWrite a Python program to unzip a list of tuples into individual lists using `zip()`.\n\"\"\"\n\ndef individualists(lst):\n    result = []\n    for num in zip(*lst):\n        result.append(list(num))\n        \n    return result\n\nlst = [(1, 2, 3), (4, 5, 6)]\nprint(individualists(lst))",
   "execution_count": null,
   "outputs": []
  },
  {
   "metadata": {
    "trusted": false
   },
   "cell_type": "code",
   "source": "\"\"\"\nProblem: 259\nWrite a Python program to find the element-wise maximum of two lists using `zip()`.\n\"\"\"\n\ndef maxium_element_wise(lst1, lst2):\n    result = []\n    for x, y in zip(lst1, lst2):\n        result.append(max(x, y))\n    return result\n    \nlst1 = [2, 4, 6]\nlst2 = [7, 8, 9]\nprint(maxium_element_wise(lst1, lst2))",
   "execution_count": null,
   "outputs": []
  },
  {
   "metadata": {
    "trusted": true
   },
   "cell_type": "code",
   "source": "\"\"\"\nProblem: 260\nWrite a Python program to concatenate corresponding strings from two lists using `zip()`\n\"\"\"\n\ndef concatenate(lst1, lst2):\n    result = []\n    for x, y in zip(lst1, lst2):\n        result.append(f\"{x} {y}\")\n    return result\n    \nlst1 = [\"fruite\", \"apple\", \"tomato\"]\nlst2 = [\"orange\", \"banana\", \"carrot\"]\nprint(concatenate(lst1, lst2))",
   "execution_count": 2,
   "outputs": [
    {
     "output_type": "stream",
     "text": "['fruite orange', 'apple banana', 'tomato carrot']\n",
     "name": "stdout"
    }
   ]
  },
  {
   "metadata": {
    "trusted": false
   },
   "cell_type": "code",
   "source": "\"\"\"\nProblem: 261\nWrite a Python program to combine two lists into a list of dictionaries using `zip()`. Each dictionary should have keys 'a' and 'b'.\n\"\"\"\n\ndef combine_to_dict(lst1, lst2):\n    result = []\n    for x, y in zip(lst1, lst2):\n        result.append({'a': x, 'b': y})\n    \n    return result\n\nlst1 = [1, 2, 3]\nlst2 = ['one', 'two', 'three']\nprint(combine_to_dict(lst1, lst2))",
   "execution_count": null,
   "outputs": []
  },
  {
   "metadata": {
    "trusted": false
   },
   "cell_type": "code",
   "source": "\"\"\"\nProblem: 262\nWrite a Python program to filter pairs of elements from two lists where the first element is greater than the second using `zip()`.\n\"\"\"\n\ndef filter_pairs(lst1, lst2):\n    result = []\n    for x, y in zip(lst1, lst2):\n        if x > y:\n            result.append((x, y))\n    \n    return result\n\nlst1 = [5, 8, 3, 10]\nlst2 = [4, 7, 6, 2]\nprint(filter_pairs(lst1, lst2))",
   "execution_count": null,
   "outputs": []
  },
  {
   "metadata": {
    "trusted": false
   },
   "cell_type": "code",
   "source": "\"\"\"\nProblem: 263\nWrite a Python program to filter pairs of elements from two lists where the first element is lesser than the second using `zip()`.\n\"\"\"\n\ndef filter_pairs(lst1, lst2):\n    result = []\n    for x, y in zip(lst1, lst2):\n        if x < y:\n            result.append((x, y))\n    \n    return result\n\nlst1 = [5, 8, 3, 10]\nlst2 = [4, 7, 6, 2]\nprint(filter_pairs(lst1, lst2))",
   "execution_count": null,
   "outputs": []
  },
  {
   "metadata": {
    "trusted": false
   },
   "cell_type": "code",
   "source": "\"\"\"\nProblem: 264\nWrite a Python program to add corresponding elements of nested lists using `zip()`.\n\"\"\"\n\ndef add_nested_lists(lst1, lst2):\n    result = []\n    for sublist1, sublist2 in zip(lst1, lst2):\n        added_sublist = []\n        for x, y in zip(sublist1, sublist2):\n            added_sublist.append(x + y)\n        result.append(added_sublist)\n    \n    return result\n\nlst1 = [[1, 2, 3], [4, 5, 6]]\nlst2 = [[7, 8, 9], [10, 11, 12]]\nprint(add_nested_lists(lst1, lst2))",
   "execution_count": null,
   "outputs": []
  },
  {
   "metadata": {
    "trusted": false
   },
   "cell_type": "code",
   "source": "\"\"\"\nProblem: 265\nWrite a Python program to calculate the Euclidean distance between two points in 2D space using `zip()`.\n\"\"\"\n\nimport math\n\ndef euclidean_distance(point1, point2):\n    distance_squared = 0\n    \n    for x1, x2 in zip(point1, point2):\n        distance_squared += (x1 - x2) ** 2\n        \n    return math.sqrt(distance_squared)\n\npoint1 = (3, 4)\npoint2 = (6, 8)\nprint(euclidean_distance(point1, point2))",
   "execution_count": null,
   "outputs": []
  },
  {
   "metadata": {
    "trusted": true
   },
   "cell_type": "code",
   "source": "\"\"\"\nProblem: 266\nWrite a Python program to interleave two lists into a single list using `zip()`.\n\"\"\"\n\ndef interleave(lst1, lst2):\n    result = []\n    for x, y in zip(lst1, lst2):\n        result.append(x)\n        result.append(y)\n    return result\n        \nlst1 = [\"crissy\", \"missy\", \"sissy\"]\nlst2 = [\"spotty\", \"motty\", \"hotty\"]\nprint(interleave(lst1, lst2))",
   "execution_count": 3,
   "outputs": [
    {
     "output_type": "stream",
     "text": "['crissy', 'spotty', 'missy', 'motty', 'sissy', 'hotty']\n",
     "name": "stdout"
    }
   ]
  },
  {
   "metadata": {
    "trusted": false
   },
   "cell_type": "code",
   "source": "\"\"\"\nProblem: 267\nWrite a Python program to multiply corresponding elements of two lists using `zip()`.\n\"\"\"\n\ndef multiply_2_lst(lst1, lst2):\n    result = []\n    for x, y in zip(lst1, lst2):\n        result.append(x * y)\n    return result\n            \nlst1 = [2, 4, 6]\nlst2 = [3, 6, 9]\nprint(multiply_2_lst(lst1, lst2))",
   "execution_count": null,
   "outputs": []
  },
  {
   "metadata": {
    "trusted": true
   },
   "cell_type": "code",
   "source": "\"\"\"\nProblem: 268\nWrite a Python program to calculate the dot product of two vectors represented as lists using `zip()`.\n\"\"\"\n\ndef dot_product(vector1, vector2):\n    result = 0\n    for x, y in zip(vector1, vector2):\n        result += x * y \n    return result\n    \nvector1 = [1, 2, 3]\nvector2 = [4, 5, 6]\nprint(dot_product(vector1, vector2))",
   "execution_count": 4,
   "outputs": [
    {
     "output_type": "stream",
     "text": "32\n",
     "name": "stdout"
    }
   ]
  }
 ],
 "metadata": {
  "kernelspec": {
   "name": "python3",
   "display_name": "Python 3",
   "language": "python"
  },
  "language_info": {
   "name": "python",
   "version": "3.10.4",
   "mimetype": "text/x-python",
   "codemirror_mode": {
    "name": "ipython",
    "version": 3
   },
   "pygments_lexer": "ipython3",
   "nbconvert_exporter": "python",
   "file_extension": ".py"
  }
 },
 "nbformat": 4,
 "nbformat_minor": 2
}