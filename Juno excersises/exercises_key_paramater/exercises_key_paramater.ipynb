{
 "cells": [
  {
   "metadata": {
    "trusted": false
   },
   "cell_type": "code",
   "source": "\"\"\"\n- **Definition**:\n  - The `key` parameter is an optional argument used in certain Python functions (like `sorted()`, `list.sort()`, and `filter()`) to specify a function that extracts a comparison key from each element in an iterable (such as a list or a dictionary). This allows for customized sorting or filtering behavior based on specific criteria.\n\n- **Purpose**:\n  - The primary purpose of the `key` parameter is to control how the elements of the iterable are processed during sorting or filtering. By providing a custom function, you can dictate what aspect of the elements should be used for the operation.\n\n- **How It Works**:\n  - When a function with a `key` parameter is called, it applies the specified key function to each element in the iterable before performing the operation. The result of the key function determines the order (in sorting) or whether the element is included (in filtering).\n\n- **Common Use Cases**:\n  - **Sorting**: You can sort a list of tuples based on a specific element within each tuple.\n    - Example: Sorting a list of tuples by the second element.\n    ```python\n    data = [(1, 'apple'), (2, 'banana'), (3, 'cherry')]\n    sorted_data = sorted(data, key=lambda x: x[1])  # Sort by the second element (fruit name)\n    ```\n  \n  - **Filtering**: You can filter a list based on specific criteria.\n    - Example: Filtering a list of numbers to keep only even numbers.\n    ```python\n    numbers = [1, 2, 3, 4, 5, 6]\n    even_numbers = list(filter(lambda x: x % 2 == 0, numbers))  # Keep only even numbers\n    ```\n\n- **Creating a Key Function**:\n  - The key function can be defined as a standalone function or as a lambda (anonymous) function. It should take one argument and return a value that will be used for comparison or filtering.\n  - Example of a standalone function:\n    ```python\n    def get_length(item):\n        return len(item)\n\n    names = [\"John\", \"Alice\", \"Bob\"]\n    sorted_names = sorted(names, key=get_length)  # Sort by length of names\n    ```\n\n- **Advantages of Using `key`**:\n  - **Customization**: The `key` parameter allows for highly customizable sorting and filtering, enabling developers to tailor operations to specific needs.\n  - **Readability**: Using a `key` function can make code more readable and expressive, as it clearly defines the criteria for sorting or filtering.\n  - **Flexibility**: You can pass different key functions without altering the original data, providing flexibility in how data is processed.\n\n- **Limitations**:\n  - **Performance**: While using a `key` function can add flexibility, it may introduce additional overhead. The function is called for every element, which can slow down performance for large datasets.\n  - **Complexity**: Overly complex key functions may reduce code readability and can introduce bugs if not carefully managed.\n\n- **Examples of Common Key Functions**:\n  - **Extracting Attributes**: When working with objects, you can use a key function to extract a specific attribute for sorting.\n    ```python\n    class Person:\n        def __init__(self, name, age):\n            self.name = name\n            self.age = age\n\n    people = [Person(\"Alice\", 30), Person(\"Bob\", 25)]\n    sorted_people = sorted(people, key=lambda p: p.age)  # Sort by age\n    ```\n  \n  - **Handling Complex Data**: You can use key functions to handle data structures like dictionaries or lists of lists.\n    ```python\n    students = [{\"name\": \"John\", \"grade\": 88}, {\"name\": \"Alice\", \"grade\": 95}]\n    sorted_students = sorted(students, key=lambda s: s['grade'])  # Sort by grade\n    ```\n\n- **Conclusion**:\n  - In summary, the `key` parameter in Python provides a powerful mechanism for customizing how elements in an iterable are processed during operations like sorting and filtering. By using a key function, developers can define specific criteria for comparing or selecting elements, enhancing code readability and flexibility. Understanding how to effectively utilize the `key` parameter is essential for manipulating and processing data in Python.\n\n\"\"\"",
   "execution_count": null,
   "outputs": []
  },
  {
   "metadata": {
    "trusted": false
   },
   "cell_type": "code",
   "source": "",
   "execution_count": null,
   "outputs": []
  },
  {
   "metadata": {
    "trusted": false
   },
   "cell_type": "code",
   "source": "",
   "execution_count": null,
   "outputs": []
  },
  {
   "metadata": {
    "trusted": false
   },
   "cell_type": "code",
   "source": "",
   "execution_count": null,
   "outputs": []
  },
  {
   "metadata": {
    "trusted": false
   },
   "cell_type": "code",
   "source": "",
   "execution_count": null,
   "outputs": []
  },
  {
   "metadata": {
    "trusted": false
   },
   "cell_type": "code",
   "source": "",
   "execution_count": null,
   "outputs": []
  },
  {
   "metadata": {
    "trusted": false
   },
   "cell_type": "code",
   "source": "",
   "execution_count": null,
   "outputs": []
  },
  {
   "metadata": {
    "trusted": false
   },
   "cell_type": "code",
   "source": "",
   "execution_count": null,
   "outputs": []
  },
  {
   "metadata": {
    "trusted": false
   },
   "cell_type": "code",
   "source": "",
   "execution_count": null,
   "outputs": []
  },
  {
   "metadata": {
    "trusted": false
   },
   "cell_type": "code",
   "source": "",
   "execution_count": null,
   "outputs": []
  },
  {
   "metadata": {
    "trusted": false
   },
   "cell_type": "code",
   "source": "",
   "execution_count": null,
   "outputs": []
  },
  {
   "metadata": {
    "trusted": false
   },
   "cell_type": "code",
   "source": "",
   "execution_count": null,
   "outputs": []
  },
  {
   "metadata": {
    "trusted": false
   },
   "cell_type": "code",
   "source": "",
   "execution_count": null,
   "outputs": []
  },
  {
   "metadata": {
    "trusted": false
   },
   "cell_type": "code",
   "source": "",
   "execution_count": null,
   "outputs": []
  },
  {
   "metadata": {
    "trusted": false
   },
   "cell_type": "code",
   "source": "",
   "execution_count": null,
   "outputs": []
  },
  {
   "metadata": {
    "trusted": false
   },
   "cell_type": "code",
   "source": "",
   "execution_count": null,
   "outputs": []
  },
  {
   "metadata": {
    "trusted": false
   },
   "cell_type": "code",
   "source": "",
   "execution_count": null,
   "outputs": []
  },
  {
   "metadata": {
    "trusted": false
   },
   "cell_type": "code",
   "source": "",
   "execution_count": null,
   "outputs": []
  },
  {
   "metadata": {
    "trusted": false
   },
   "cell_type": "code",
   "source": "",
   "execution_count": null,
   "outputs": []
  },
  {
   "metadata": {
    "trusted": false
   },
   "cell_type": "code",
   "source": "",
   "execution_count": null,
   "outputs": []
  },
  {
   "metadata": {
    "trusted": false
   },
   "cell_type": "code",
   "source": "",
   "execution_count": null,
   "outputs": []
  },
  {
   "metadata": {
    "trusted": false
   },
   "cell_type": "code",
   "source": "",
   "execution_count": null,
   "outputs": []
  },
  {
   "metadata": {
    "trusted": false
   },
   "cell_type": "code",
   "source": "",
   "execution_count": null,
   "outputs": []
  },
  {
   "metadata": {
    "trusted": false
   },
   "cell_type": "code",
   "source": "",
   "execution_count": null,
   "outputs": []
  },
  {
   "metadata": {
    "trusted": false
   },
   "cell_type": "code",
   "source": "",
   "execution_count": null,
   "outputs": []
  },
  {
   "metadata": {
    "trusted": false
   },
   "cell_type": "code",
   "source": "",
   "execution_count": null,
   "outputs": []
  },
  {
   "metadata": {
    "trusted": false
   },
   "cell_type": "code",
   "source": "",
   "execution_count": null,
   "outputs": []
  },
  {
   "metadata": {
    "trusted": false
   },
   "cell_type": "code",
   "source": "",
   "execution_count": null,
   "outputs": []
  },
  {
   "metadata": {
    "trusted": false
   },
   "cell_type": "code",
   "source": "",
   "execution_count": null,
   "outputs": []
  },
  {
   "metadata": {
    "trusted": false
   },
   "cell_type": "code",
   "source": "",
   "execution_count": null,
   "outputs": []
  },
  {
   "metadata": {
    "trusted": false
   },
   "cell_type": "code",
   "source": "",
   "execution_count": null,
   "outputs": []
  },
  {
   "metadata": {
    "trusted": false
   },
   "cell_type": "code",
   "source": "",
   "execution_count": null,
   "outputs": []
  },
  {
   "metadata": {
    "trusted": false
   },
   "cell_type": "code",
   "source": "",
   "execution_count": null,
   "outputs": []
  },
  {
   "metadata": {
    "trusted": false
   },
   "cell_type": "code",
   "source": "",
   "execution_count": null,
   "outputs": []
  },
  {
   "metadata": {
    "trusted": false
   },
   "cell_type": "code",
   "source": "",
   "execution_count": null,
   "outputs": []
  },
  {
   "metadata": {
    "trusted": false
   },
   "cell_type": "code",
   "source": "",
   "execution_count": null,
   "outputs": []
  },
  {
   "metadata": {
    "trusted": false
   },
   "cell_type": "code",
   "source": "",
   "execution_count": null,
   "outputs": []
  },
  {
   "metadata": {
    "trusted": false
   },
   "cell_type": "code",
   "source": "",
   "execution_count": null,
   "outputs": []
  },
  {
   "metadata": {
    "trusted": false
   },
   "cell_type": "code",
   "source": "",
   "execution_count": null,
   "outputs": []
  },
  {
   "metadata": {
    "trusted": false
   },
   "cell_type": "code",
   "source": "",
   "execution_count": null,
   "outputs": []
  },
  {
   "metadata": {
    "trusted": false
   },
   "cell_type": "code",
   "source": "\"\"\"\nProblem: 459\nWrite a Python function to sort a list of dictionaries by the value associated with a specific key using the key parameter.\n\"\"\"\n\nfrom operator import itemgetter\n\ndef sort_dicts_by_key(dict_list, sort_key):\n    # Use itemgetter \n    return sorted(dict_list, key=itemgetter(sort_key))\n\ndict_list = [\n    {'name': 'John', 'age': 30},\n    {'name': 'Jane', 'age': 25},\n    {'name': 'Doe', 'age': 35}\n]\n\nsorted_list = sort_dicts_by_key(dict_list, 'age')\nprint(sorted_list)\n\n\"\"\"\nProblem: 460\nWrite a Python function to sort a list of integers by their absolute value using the key parameter.\n\"\"\"\n\ndef sort_by_absolute_value(lst):\n    return sorted(lst, key=abs)\n\nlst = [3, -1, -4, 2, 0]\nsorted_lst = sort_by_absolute_value(lst)\nprint(sorted_lst)\n\n\"\"\"\nProblem: 461\nWrite a Python function that sorts a list of words by the number of vowels they contain using the key parameter.\n\"\"\"\n\ndef sort_words_by_vowel_count(lst):\n    \n    def count_vowels(word):\n        vowels = 'aeiou'\n        count = 0\n        for char in word:\n            if char in vowels:\n                count += 1\n        return count\n    \n    return sorted(lst, key=count_vowels)\n\nlst = [\"apple\", \"banana\", \"cherry\", \"date\"]\nprint(sort_words_by_vowel_count(lst))\n\n\"\"\"\nProblem: 462\nWrite a Python function to find the longest word in a list using the max() function with the key parameter.\n\"\"\"\n\ndef longest_word(lst):\n    longest_w = max(lst, key=len)\n    \n    return longest_w\n    \nlst = [\"cheater\", \"lepard\", \"lion\"]\nprint(longest_word(lst))\n    \n\"\"\"\nProblem: 463\nWrite a Python function to sort a list of tuples by the sum of the elements in each tuple using the key parameter.\n\"\"\"\n\ndef sum_of_tuple(lst):\n    \n    return sorted(lst, key=sum)\n    \nlst = [(9, 9, 9), (5, 5, 5), (8, 8, 8)]\nprint(sum_of_tuple(lst))\n\n\"\"\"\nProblem: 464\nWrite a Python function to sort a list of strings by the last character of each string using the key parameter.\n\"\"\"\n\ndef list_of_strings_lst(lst):\n    \n    def last_char(s):\n        return s[-1]\n    \n    return sorted(lst, key=last_char)\n\nlst = [\"car\", \"side\", \"beach\"]\nprint(list_of_strings_lst(lst))\n\n\"\"\"\nProblem: 465\nWrite a Python function to sort a list of strings by the number of uppercase letters in each string using the key parameter.\n\"\"\"\n\ndef sort_number_uppercases(lst):\n    \n    def uppercase_count(x):\n        count = 0\n        for char in x:\n            if char.isupper():\n                count += 1\n        return count\n                \n    return sorted(lst,\n    key=uppercase_count)\n\nlst = [\"SNSKEYHG\", \"SlIppery\", \"SNAKEGG\"]\nprint(sort_number_uppercases(lst))\n\n\"\"\"\nProblem: 466\nWrite a Python function to find the tuple with the largest product of its elements using the key parameter.\n\"\"\"\n\ndef tuple_largest_product(lst):\n    \n    def product(x):\n        count = 1\n        for number in x:\n            count *= number\n        return count\n    \n    return max(lst, key=product)\n\nlst = [(2, 2, 2), (4, 4, 4)]\nprint(tuple_largest_product(lst))\n\n\"\"\"\nProblem: 467\nWrite a Python function to sort a list of floating-point numbers by their rounded value using the key parameter.\n\"\"\"\n\ndef floating_point(numbers):\n    return sorted(numbers, key=round)\n    \nnumbers = [3.7, 3.3, 2.7, 1.2, 35.4, 677.9]\nprint(floating_point(numbers))\n\n\"\"\"\nProblem: 468\nWrite a Python function to sort a list of tuples based on the first element in descending order using the key parameter.\n\"\"\"\n\ndef first_element_decending_order(lst):\n    def first_element(x):\n        return x[0] \n    \n    return sorted(lst, key=first_element, reverse=True)\n\nlst = [(\"see\", \"sea\", \"saw\"), (\"zoat\", \"zite\", \"zank\")]\nprint(first_element_decending_order(lst))\n\n\"\"\"\nProblem: 469\nWrite a Python function that sorts a list of words by the number of consonants using the key parameter.\n\"\"\"\n\ndef number_of_consonants(lst):\n    \n    def consonants(word):\n    \n        consonants_set = \"bcdfghjklmnpqrstvwxyz\"\n        \n        count = 0\n\n        for char in word.lower():\n            if char in consonants_set:\n                count += 1\n        return count\n\n    return sorted(lst, key=consonants)\n    \nlst = [\"zzzzzzzzz\", \"yyyyyy\", \"bbb\"]\nprint(number_of_consonants(lst))\n\n\"\"\"\nProblem: 470\nWrite a Python function to find the shortest string in a list using the min() function with the key parameter.\n\"\"\"\n\ndef min_string(lst):\n    return min(lst, key=len)\n    \nlst = [\"down\", \"up\"]\nprint(min_string(lst))\n\n\"\"\"\nProblem: 471\nWrite a Python function to sort a list of dictionaries by the length of the value associated with a specific key using the key parameter.\n\"\"\"\n\ndef length_of_value(lst, key):\n    \n    def length_function(x):\n        return len(x.get(key, \"\"))\n        \n    return sorted(lst, key=length_function)\n\nlst = [{\"a\": \"tree\", \"b\": \"bushen\"}, {\"a\": \"tin\", \"b\": \"bash\"}, {\"a\": \"tumb\", \"b\": \"bat\"}]\nsorted_lst = length_of_value(lst, \"b\")\nprint(sorted_lst)\n\n\"\"\"\nProblem: 472\nWrite a Python function to find the person with the longest name in a list of dictionaries containing ‘name’ as a key using the max() function with the key parameter.\n\"\"\"\n\ndef find_person(lst_dict, key):\n\n    def longest_name(d):\n        return len(d.get(key, \"\"))\n\n    return max(lst_dict, key=longest_name)\n\nlst_dict = [{\"name\": \"Beth\"}, {\"name\": \"Brett\"}, {\"name\": \"Jhonivan\"}, {\"name\": \"Jonathan\"}]\nkey = \"name\"\n\nprint(find_person(lst_dict, key))\n\n\"\"\"\nProblem: 473\nWrite a Python function that sorts a list of integers by their remainder when divided by a given number using the key parameter.\n\"\"\"\n\ndef remainder_key(x, divisor):\n    return x % divisor\n\ndef sort_by_remainder(lst, divisor):\n\n    def key_func(x):\n        return remainder_key(x, divisor)\n    \n    return sorted(lst, key=key_func)\n\nlst = [10, 23, 4, 7, 15]\ndivisor = 5\nprint(sort_by_remainder(lst, divisor))\n\n\"\"\"\nProblem: 474\nWrite a Python function to sort a list of dates by the year using the key parameter.\n\"\"\"\n\nfrom datetime import datetime\n\ndef year_key(date):\n    return date.year\n\ndef sort_by_year(dates):\n\n    date_objects = []\n    \n    for date in dates:\n        date_objects.append(datetime.strptime(date, \"%d.%m.%Y\"))\n    \n    sorted_dates = sorted(date_objects, key=year_key)\n\n    sorted_date_strings = []\n    for date in sorted_dates:\n        sorted_date_strings.append(date.strftime(\"%d.%m.%Y\"))\n    \n    return sorted_date_strings\n\ndates = [\"01.02.1908\", \"12.11.1955\", \"23.04.1989\", \"07.07.1967\"]\nsorted_dates = sort_by_year(dates)\nprint(sorted_dates)\n\n\"\"\"\nProblem: 475\nWrite a Python function to sort a list of names by the number of times the letter ‘a’ appears in each name using the key parameter.\n\"\"\"\n\ndef sort_by_a_count(names):\n    \n    def count_a(name):\n        \n        return name.lower().count('a')\n    \n    return sorted(names, key=count_a)\n\nnames = [\"Anna\", \"Alice\", \"Bob\", \"Amanda\", \"Ava\"]\nsorted_names = sort_by_a_count(names)\nprint(sorted_names)\n\n\"\"\"\nProblem: 476\nWrite a Python function to sort a list of numbers by their square using the key parameter.\n\"\"\"\n\ndef sort_sqaure(lst):\n    \n    def sqaured(x):\n        return x * x\n        \n    return sorted(lst, key=sqaured)\n        \n    \nlst = [9, 5, 4, 1 ]\nprint(sort_sqaure(lst))\n\n\"\"\"\nProblem: 477\nWrite a Python function to find the list element closest to a target value using the key parameter.\n\"\"\"\n\ndef closest_to_target(lst, target):\n\n    def difference_from_target(x):\n        return abs(x - target)\n    \n    return min(lst, key=difference_from_target)\n\nlst = [10, 22, 14, 3, 8]\ntarget = 7\nclosest_value = closest_to_target(lst, target)\nprint(closest_value)\n\n\"\"\"\nProblem: 478\nWrite a Python function that sorts a list of tuples based on the length of the first element in each tuple using the key parameter.\n\"\"\"\n\ndef length_of_first_element(lst):\n    \n    def length_of_first(x):\n        return len(x[0])\n        \n    return sorted(lst, key=length_of_first)\n\nlst = [(\"initiate\", \"love\", \"seat\"), (\"sweet\", \"beat\", \"hell\")]\nsorted_list = length_of_first_element(lst)\nprint(sorted_list)\n\n\n\n\"\"\"\nProblem: 479\nWrite a Python function to sort a list of strings by the number of spaces they contain using the key parameter.\n\"\"\"\n\ndef number_of_spaces(lst):\n    \n    def spaces_count(x):\n        return x.count(\" \")\n        \n    return sorted(lst, key=spaces_count)\n    \nlst = [\"what is happening\", \"why all the hate in your brain\", \"stop it\"]\nprint(number_of_spaces(lst))\n\n\"\"\"\nProblem: 480\nWrite a Python function that finds the word with the most vowels in a list using the max() function with the key parameter.\n\"\"\"\n\ndef most_vowels(lst):\n    \n    def count_vowels(word):\n        vowels = \"aeiou\"\n        \n        count = 0\n        for char in word:\n            if char in vowels:\n                count += 1\n        return count\n            \n    return max(lst, key=count_vowels)\n    \nlst = [\"aamost\", \"Aaron\", \"bible\", \"buttom\", \"aeiouthian\"]\nprint(most_vowels(lst))\n\n\"\"\"\nProblem: 481\nWrite a Python function to sort a list of integers by the number of digits they contain using the key parameter.\n\"\"\"\n\ndef sort_lst_integers(lst):\n    \n    def count_digits(n):\n        return len(str(abs(n)))\n    return sorted(lst, key=count_digits)\n        \nlst = [456, 56, 8, 788, 89, 1]\nprint(sort_lst_integers(lst))\n\n\"\"\"\nProblem: 482\nWrite a Python function that sorts a list of tuples by the difference between their elements using the key parameter.\n\"\"\"\n\ndef sort_tuples_by_difference(lst):\n\n    def difference(tup):\n        return abs(tup[0] - tup[1]) \n    \n    return sorted(lst, key=difference)\n\nlst = [(3, 8), (1, 7), (5, 5), (9, 2), (6, 10)]\n\nprint(sort_tuples_by_difference(lst))\n\n\"\"\"\nProblem: 483\nWrite a Python function to sort a list of strings by the ASCII value of their first character using the key parameter.\n\"\"\"\n\ndef sort_strings_by_ascii(lst):\n    \n    def ascii_value(s):\n        return ord(s[0])\n        \n    return sorted(lst, key=ascii_value)\n\nlst = [\"banana\", \"apple\", \"cherry\", \"date\", \"elderberry\"]\nprint(sort_strings_by_ascii(lst))\n\n\"\"\"\nProblem: 484\nWrite a Python function to sort a list of lists by the sum of the elements in each sublist using the key parameter.\n\"\"\"\n\ndef sort_lists_by_sum(lst):\n\n    def sum_of_elements(sublist):\n        return sum(sublist)\n        \n    return sorted(lst, key=sum_of_elements)\n\nlst = [[3, 4], [1, 2, 3], [10], [5, 1, 1]]\n\nprint(sort_lists_by_sum(lst))\n\n\"\"\"\nProblem: 485\nWrite a Python function to find the word with the fewest consonants in a list using the min() function with the key parameter.\n\"\"\"\n\ndef number_of_consonants(lst):\n    \n    def consonants(word):\n    \n        consonants_set = \"bcdfghjklmnpqrstvwxyz\"\n        \n        count = 0\n\n        for char in word.lower():\n            if char in consonants_set:\n                count += 1\n        return count\n\n    return min(lst, key=consonants)\n    \nlst = [\"zzzzzzzzz\", \"yyyyyy\", \"bbb\"]\nprint(number_of_consonants(lst))\n\n\n\"\"\"\nProblem: 486\nWrite a Python function that sorts a list of file names by their file extension using the key parameter.\n\"\"\"\n\ndef sort_files_by_extension(lst):\n    \n    def file_extension(filename):\n        return filename.split('.')[-1]\n        \n    return sorted(lst, key=file_extension)\n\nlst = [\"document.txt\", \"photo.jpeg\", \"music.mp3\", \"video.mp4\", \"archive.zip\"]\n\nprint(sort_files_by_extension(lst))\n\n\"\"\"\nProblem: 487\nWrite a Python function to sort a list of numbers by the square root of each number using the key parameter.\n\"\"\"\n\ndef sqaure_numbers_lst(lst):\n    \n    def sqaure(n):\n        return n * n\n        \n    return sorted(lst, key=sqaure)\n    \nlst = [12, 46, 2, 10]\nprint(sqaure_numbers_lst(lst))\n\n\"\"\"\nProblem: 488\nWrite a Python function to sort a list of words by the number of distinct letters in each word using the key parameter.\n\"\"\"\n\ndef sort_words_by_distinct_letters(words):\n\n    def distinct_letter_count(word):\n        return len(set(word))\n        \n    return sorted(words, key=distinct_letter_count)\n\nwords = [\"apple\", \"banana\", \"cherry\", \"orange\"]\nprint(sort_words_by_distinct_letters(words))\n\n\"\"\"\nProblem: 489\nWrite a Python function that sorts a list of strings by the second letter in each string using the key parameter.\n\"\"\"\n\ndef sort_second_letter(lst):\n    \n    def second_letter(x):\n        return x[1]\n        \n    return sorted(lst, key=second_letter)\n    \nlst = [\"mountain\", \"law\", \"lebany\"]\nprint(sort_second_letter(lst))\n\n\"\"\"\nProblem: 490\nWrite a Python function to sort a list of people by their age stored in a dictionary using the key parameter.\n\"\"\"\n\ndef people_age(dic):\n    \n    def sort_age(person):\n        return dic[person]\n        \n    return sorted(dic, key=sort_age)\n    \ndic = {\"Sam\": 27, \"Tom\": 56, \"Chantelle\": 18}\nprint(people_age(dic))\n\n\"\"\"\nProblem: 491\nWrite a Python function that sorts a list of numbers by their binary representation using the key parameter.\n\"\"\"\n\ndef sort_by_binary_representation(lst):\n    \n    def binary_representation(x):\n        return bin(x)\n        \n    return sorted(lst, key=binary_representation)\n\nlst = [5, 3, 8, 1, 12]\n\nprint(sort_by_binary_representation(lst))\n\n\"\"\"\nProblem: 492\nWrite a Python function to find the person with the shortest name in a list of dictionaries using the min() function with the key parameter.\n\"\"\"\n\ndef sort_keys_by_value(dic):\n\n    def get_value(key):\n        return dic[key]\n        \n    return sorted(dic.keys(), key=get_value)\n   \ndic = {\"Sam\": 27, \"Tommy\": 56, \"Chantelle\": 18}\nprint(sort_keys_by_value(dic))\n\n\"\"\"\nProblem: 493\nWrite a Python function to sort a list of fractions by their decimal value using the key parameter.\n\"\"\"\n\nfrom fractions import Fraction\n\ndef sort_fractions_by_decimal(fractions):\n\n    def decimal_value(fraction):\n        return float(fraction)\n        \n    return sorted(fractions, key=decimal_value)\n\nfractions = [Fraction(1, 3), Fraction(3, 4), Fraction(2, 5), Fraction(7, 10)]\n\nprint(sort_fractions_by_decimal(fractions))\n\n\"\"\"\nProblem: 494\nWrite a Python function to find the longest string that ends with a specific letter using the max() function with the key parameter.\n\"\"\"\n\ndef longest_string_letter(lst, letter):\n    \n    def longest_letter(s):\n        return len(s) if s.endswith(letter) else -1\n    \n    return max(lst, key=longest_letter)\n\nlst = [\"Jonathan\", \"Nathan\", \"Sarah\", \"Martha\"]",
   "execution_count": null,
   "outputs": []
  }
 ],
 "metadata": {
  "kernelspec": {
   "name": "python3",
   "display_name": "Python 3",
   "language": "python"
  },
  "language_info": {
   "name": "python",
   "version": "3.10.4",
   "mimetype": "text/x-python",
   "codemirror_mode": {
    "name": "ipython",
    "version": 3
   },
   "pygments_lexer": "ipython3",
   "nbconvert_exporter": "python",
   "file_extension": ".py"
  }
 },
 "nbformat": 4,
 "nbformat_minor": 2
}