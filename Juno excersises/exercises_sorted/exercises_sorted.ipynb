{
 "cells": [
  {
   "metadata": {
    "trusted": false
   },
   "cell_type": "code",
   "source": "\"\"\"\n- **Definition**:\n  - The `sorted()` function in Python is used to return a **new sorted list** from the elements of any iterable (e.g., lists, tuples, or strings). It doesn't modify the original iterable but produces a new list with the elements sorted in a specific order (ascending by default).\n  - It is one of the built-in functions in Python and provides various customization options for sorting, including reverse order and custom sorting using the `key` parameter.\n\n- **How It Works**:\n  1. **Input**:\n     - The `sorted()` function takes an **iterable** as input (e.g., a list, tuple, or string) and produces a sorted list.\n  2. **Output**:\n     - The output is a **new list** containing the sorted elements of the original iterable.\n     - The original iterable remains unchanged.\n  3. **Default Behavior**:\n     - By default, `sorted()` sorts elements in **ascending order**.\n     - Sorting is done based on the type of elements. For example:\n       - Numbers are sorted numerically.\n       - Strings are sorted lexicographically (dictionary order).\n     - Mixed data types (e.g., integers and strings) will raise an error because Python cannot compare them directly.\n\n- **Key Parameters**:\n  1. **`reverse` (optional)**:\n     - If you want to sort the elements in **descending order**, you can pass `reverse=True` as an argument.\n     - Example:\n       ```python\n       sorted([4, 1, 7, 3], reverse=True)\n       ```\n       Output: `[7, 4, 3, 1]`\n  2. **`key` (optional)**:\n     - This parameter allows you to pass a function that specifies **how to transform each element** before sorting.\n     - It is particularly useful when sorting based on specific criteria, such as sorting a list of strings by their length or sorting tuples by a specific element.\n     - Example:\n       ```python\n       sorted([\"apple\", \"banana\", \"pear\", \"kiwi\"], key=len)\n       ```\n       Output: `['pear', 'kiwi', 'apple', 'banana']` (sorted by length of the strings).\n\n- **Examples**:\n  1. **Sorting Numbers**:\n     - Sorting a list of numbers in ascending order:\n       ```python\n       sorted([10, 3, 7, 1, 4])\n       ```\n       Output: `[1, 3, 4, 7, 10]`\n\n  2. **Sorting Strings Alphabetically**:\n     - Sorting a list of strings lexicographically (alphabetically):\n       ```python\n       sorted(['orange', 'banana', 'apple'])\n       ```\n       Output: `['apple', 'banana', 'orange']`\n\n  3. **Sorting in Reverse Order**:\n     - Sorting a list of strings in reverse alphabetical order:\n       ```python\n       sorted(['orange', 'banana', 'apple'], reverse=True)\n       ```\n       Output: `['orange', 'banana', 'apple']`\n\n  4. **Using the `key` Parameter**:\n     - Sorting a list of tuples by the second element in each tuple:\n       ```python\n       sorted([(2, 'banana'), (1, 'apple'), (3, 'orange')], key=lambda x: x[1])\n       ```\n       Output: `[(1, 'apple'), (2, 'banana'), (3, 'orange')]` (sorted by fruit name).\n\n  5. **Sorting by Length of Strings**:\n     - Sorting a list of strings by their length:\n       ```python\n       sorted(['kiwi', 'banana', 'apple', 'pear'], key=len)\n       ```\n       Output: `['kiwi', 'pear', 'apple', 'banana']`\n\n  6. **Sorting Mixed Case Strings**:\n     - Sorting a list of strings ignoring case:\n       ```python\n       sorted(['Banana', 'apple', 'Pear'], key=str.lower)\n       ```\n       Output: `['apple', 'Banana', 'Pear']`\n\n- **Detailed Explanation of Key Concepts**:\n  1. **Stable Sorting**:\n     - Python’s `sorted()` function uses **Timsort**, which is a hybrid sorting algorithm derived from merge sort and insertion sort.\n     - Timsort is **stable**, meaning that if two elements have the same value, their original order is preserved in the sorted output.\n     - For example:\n       ```python\n       sorted([('a', 2), ('b', 1), ('c', 2)], key=lambda x: x[1])\n       ```\n       Output: `[('b', 1), ('a', 2), ('c', 2)]` (order of 'a' and 'c' is maintained for the same value `2`).\n\n  2. **Custom Sorting with `key`**:\n     - The `key` argument is especially powerful because it allows custom transformations before sorting. Instead of sorting elements directly, you can transform them (e.g., sort by length, or sort by the second element in tuples).\n     - The function passed to `key` takes one element at a time from the iterable and returns a value used for sorting. For example, `key=len` sorts by length, `key=lambda x: x[1]` sorts by the second element of a tuple.\n\n  3. **Comparing `sorted()` vs `list.sort()`**:\n     - `sorted()` returns a **new list** and works on any iterable (not just lists).\n     - `list.sort()` modifies the **original list** in place and can only be used on lists.\n\n  4. **Using `reverse`**:\n     - The `reverse` parameter is a simple way to reverse the sorting order (from ascending to descending). When `reverse=True`, the elements are sorted in the opposite direction.\n\n- **Common Use Cases**:\n  1. **Sorting Data**: Useful when you need to organize data, such as sorting a list of names alphabetically or sorting numerical data in ascending or descending order.\n  2. **Custom Sorting**: Handy when you need to sort complex data structures (e.g., a list of dictionaries or tuples) based on specific fields or conditions.\n  3. **Natural Sorting**: You can use the `key` parameter to implement natural sorting (i.e., sorting in a way that humans expect, like sorting file names with numbers in a natural order).\n\n- **Advanced Custom Sorting**:\n  - You can combine the `key` parameter with other functions like `lambda`, `str.lower`, or user-defined functions for highly customized sorting logic.\n  - You can also combine multiple sorting criteria by using tuples in the `key` argument:\n    ```python\n    sorted(items, key=lambda x: (x[1], x[0]))  # Sort by second element, then by first\n    ```\n\n- **Conclusion**:\n  - The `sorted()` function is a powerful and flexible tool for organizing data in Python. With its ability to handle custom sorting logic via the `key` parameter and its support for sorting in both ascending and descending order, it is an essential tool for many real-world applications where sorting is required. The function's stable nature ensures that the original order is preserved for equal elements, making it a reliable choice for sorting complex data structures.\n\"\"\"",
   "execution_count": null,
   "outputs": []
  },
  {
   "metadata": {
    "trusted": false
   },
   "cell_type": "code",
   "source": "\"\"\"\nProblem: 305\nWrite a Python program to sort a list of numbers in ascending order using `sorted()`.\n\"\"\"\n\ndef sort_list(numbers):\n    numbers.sort()\n    return numbers\n\n# Example usage\nnumbers = [5, 2, 9, 1, 5, 6]\nsorted_numbers = sort_list(numbers)\nprint(\"Original list:\", numbers)\nprint(\"Sorted list:\", sorted_numbers)",
   "execution_count": null,
   "outputs": []
  },
  {
   "metadata": {
    "trusted": false
   },
   "cell_type": "code",
   "source": "\"\"\"\n306\nWrite a Python program to sort a list of integers by the sum of their digits using `sorted()` with the `key` parameter.\n\"\"\"\n\ndef sum_of_digits(n):\n    total = 0\n    for digit in str(n): \n        total += int(digit)\n    return total\n\ndef integers_lst(lst):\n    sorted_lst = sorted(lst, key=sum_of_digits)\n    return sorted_lst\n\nlst = [4, 56, 56, 36, 123]\nprint(integers_lst(lst))",
   "execution_count": null,
   "outputs": []
  },
  {
   "metadata": {
    "trusted": false
   },
   "cell_type": "code",
   "source": "\"\"\"\nProblem 307:\nWrite a Python function called find_min_max that takes a list of numbers as input and returns a tuple containing the minimum and maximum numbers in the list, dont not call the fuction using print(find_min_max). Do not use sort() or max() or min().\n\"\"\"\n\ndef find_min_max():\n    user = input(\"type list of numbers: \").split()\n\n    int_num = []\n    for number in user:\n        int_num.append(int(number))\n    \n    min_num = int_num[-1]\n    max_num = int_num[0]\n    \n    print(min_num, max_num)\n           \nfind_min_max()",
   "execution_count": null,
   "outputs": []
  },
  {
   "metadata": {
    "trusted": false
   },
   "cell_type": "code",
   "source": "\"\"\"\nProblem: 308\nWrite a function group_by_first_letter that takes a list of strings as input and returns a dictionary. The dictionary should group the strings by their first letter. Each key in the dictionary should be a first letter, and the corresponding value should be a list of strings that start with that letter. User should type list as input():\n\"\"\"\n\ndef group_by_first_letter():\n    lst = input(\"type word list: \").split()\n    \n    result = {}\n    for word in lst:\n        first_letter = word[0]\n        if first_letter not in result:\n            result[first_letter] = [word]\n        else:\n            result[first_letter].append(word)\n            \n    print(result)\n        \ngroup_by_first_letter()",
   "execution_count": null,
   "outputs": []
  },
  {
   "metadata": {
    "trusted": false
   },
   "cell_type": "code",
   "source": "\"\"\"\nProplem: 309\nWrite a increasing triangle using *\n\"\"\"\n\ndef increasing_triangle(n):\n    for i in range(n):\n        for j in range(i+1):\n            print(\"*\", end=\" \")\n        print()\n            \nrows = 5\nincreasing_triangle(rows)",
   "execution_count": null,
   "outputs": []
  },
  {
   "metadata": {
    "trusted": false
   },
   "cell_type": "code",
   "source": "\"\"\"\nProblem: 310\nWrite a Python function called find_longest_word that takes a list of words as input and returns the longest word in the list. If there are multiple longest words, return the first one encountered. Do not use sorted().\n\"\"\"\n\ndef find_longest_word(lst):\n    longest_word = \"\"\n    count = 0\n    \n    for word in lst:\n        if len(word) > count:\n            count = len(word)\n            longest_word = word\n    return longest_word\n\nlst = [\"Jonathan\", \"noll\"]    \nprint(find_longest_word(lst))",
   "execution_count": null,
   "outputs": []
  },
  {
   "metadata": {
    "trusted": false
   },
   "cell_type": "code",
   "source": "\"\"\"\nProblem: 311\nWrite a Python function called find_longest_word that takes a list of words as input and returns the longest word in the list. If there are multiple longest words, return the first one encountered. Do not use sorted()and len().\n\"\"\"\n\ndef find_longest_word(lst):\n    longest_word = \"\"\n    max_length = 0\n    for word in lst:\n        current_length = 0\n        for char in word:\n            current_length += 1\n        if current_length > max_length:\n            max_length = current_length \n            longest_word = word\n            \n    return longest_word\n    \nlst = [\"Jonathan\", \"noll\", \"it\"]    \nprint(find_longest_word(lst))",
   "execution_count": null,
   "outputs": []
  },
  {
   "metadata": {
    "trusted": false
   },
   "cell_type": "code",
   "source": "\"\"\"\nProblem: 312\nWrite a Python program to find the second largest number in a list. Prompt the user to enter a list of numbers, do not use a for loop.\n\"\"\"\n\ndef second_largest_number():\n    user = input(\"Type numbers separated by spaces: \").split()\n    user_int = list(map(int, user))\n    user_int.sort()  \n    second_largest = user_int[-2]  \n\n    print(second_largest)\n\nsecond_largest_number()",
   "execution_count": null,
   "outputs": []
  },
  {
   "metadata": {
    "trusted": false
   },
   "cell_type": "code",
   "source": "",
   "execution_count": null,
   "outputs": []
  },
  {
   "metadata": {
    "trusted": false
   },
   "cell_type": "code",
   "source": "",
   "execution_count": null,
   "outputs": []
  },
  {
   "metadata": {
    "trusted": false
   },
   "cell_type": "code",
   "source": "",
   "execution_count": null,
   "outputs": []
  },
  {
   "metadata": {
    "trusted": false
   },
   "cell_type": "code",
   "source": "",
   "execution_count": null,
   "outputs": []
  },
  {
   "metadata": {
    "trusted": false
   },
   "cell_type": "code",
   "source": "",
   "execution_count": null,
   "outputs": []
  },
  {
   "metadata": {
    "trusted": false
   },
   "cell_type": "code",
   "source": "",
   "execution_count": null,
   "outputs": []
  },
  {
   "metadata": {
    "trusted": false
   },
   "cell_type": "code",
   "source": "",
   "execution_count": null,
   "outputs": []
  },
  {
   "metadata": {
    "trusted": false
   },
   "cell_type": "code",
   "source": "",
   "execution_count": null,
   "outputs": []
  },
  {
   "metadata": {
    "trusted": false
   },
   "cell_type": "code",
   "source": "",
   "execution_count": null,
   "outputs": []
  },
  {
   "metadata": {
    "trusted": false
   },
   "cell_type": "code",
   "source": "",
   "execution_count": null,
   "outputs": []
  },
  {
   "metadata": {
    "trusted": false
   },
   "cell_type": "code",
   "source": "",
   "execution_count": null,
   "outputs": []
  },
  {
   "metadata": {
    "trusted": false
   },
   "cell_type": "code",
   "source": "",
   "execution_count": null,
   "outputs": []
  },
  {
   "metadata": {
    "trusted": false
   },
   "cell_type": "code",
   "source": "",
   "execution_count": null,
   "outputs": []
  },
  {
   "metadata": {
    "trusted": false
   },
   "cell_type": "code",
   "source": "",
   "execution_count": null,
   "outputs": []
  },
  {
   "metadata": {
    "trusted": false
   },
   "cell_type": "code",
   "source": "",
   "execution_count": null,
   "outputs": []
  },
  {
   "metadata": {
    "trusted": false
   },
   "cell_type": "code",
   "source": "",
   "execution_count": null,
   "outputs": []
  },
  {
   "metadata": {
    "trusted": false
   },
   "cell_type": "code",
   "source": "",
   "execution_count": null,
   "outputs": []
  },
  {
   "metadata": {
    "trusted": false
   },
   "cell_type": "code",
   "source": "",
   "execution_count": null,
   "outputs": []
  },
  {
   "metadata": {
    "trusted": false
   },
   "cell_type": "code",
   "source": "\n\n\"\"\"\nProblem: 313\nWrite a Python program to convert a list of strings to uppercase using `map()`.\n\"\"\"\n\ndef convert_to_uppercase(strings):\n    def to_uppercase(s):\n        return s.upper()\n    return list(map(to_uppercase, strings))\n\n# Example usage\nstrings = [\"hello\", \"world\", \"python\", \"programming\"]\nuppercase_strings = convert_to_uppercase(strings)\nprint(\"Original list:\", strings)\nprint(\"Uppercase list:\", uppercase_strings)\n\n\"\"\"\nProblem: 314\nWrite a Python program to convert a list of strings representing numbers to a list of integers using `map()`.\n\"\"\"\n\ndef convert_to_integers(strings):\n    def to_integer(s):\n        return int(s)\n    return list(map(to_integer, strings))\n\n# Example usage\nstring_numbers = [\"1\", \"2\", \"3\", \"4\", \"5\"]\ninteger_numbers = convert_to_integers(string_numbers)\nprint(\"Original list of strings:\", string_numbers)\nprint(\"Converted list of integers:\", integer_numbers)\n\n\"\"\"\nProblem: 315\nWrite a Python program to square each number in a list using `map()`.\n\"\"\"\n\ndef square_numbers(numbers):\n    def square(x):\n        return x * x\n    return list(map(square, numbers))\n\n# Example usage\noriginal_numbers = [1, 2, 3, 4, 5]\nsquared_numbers = square_numbers(original_numbers)\nprint(\"Original list of numbers:\", original_numbers)\nprint(\"Squared list of numbers:\", squared_numbers)\n\n\"\"\"\nProblem: 316\nWrite a Python program to find the length of each string in a list using `map()`.\n\"\"\"\n\ndef string_lengths(strings):\n    def length(s):\n        return len(s)\n    return list(map(length, strings))\n\n# Example usage\nstring_list = [\"apple\", \"banana\", \"cherry\", \"date\"]\nlengths = string_lengths(string_list)\nprint(\"Original list of strings:\", string_list)\nprint(\"Lengths of each string:\", lengths)\n\n\"\"\"\nProblem: 317\nWrite a Python program to convert a list of temperatures from Fahrenheit to Celsius using `map()`.\n\"\"\"\n\ndef fahrenheit_to_celsius(temperatures):\n    def to_celsius(f):\n        return (f - 32) * 5 / 9\n    return list(map(to_celsius, temperatures))\n\n# Example usage\nfahrenheit_temps = [32, 68, 100, 212]  # Sample temperatures in Fahrenheit\ncelsius_temps = fahrenheit_to_celsius(fahrenheit_temps)\nprint(\"Temperatures in Fahrenheit:\", fahrenheit_temps)\nprint(\"Temperatures in Celsius:\", celsius_temps)\n\n\n\"\"\"\nProblem: 319\nWrite a Python program to add 5 to each number in a list using `map()`.\n\"\"\"\n\ndef add_five_to_number(x):\n    return x + 5\n\ndef add_five(lst):\n    return list(map(add_five_to_number, lst))\n\nlst = [1, 2, 3, 4]\nprint(add_five(lst))\n\n\"\"\"\nProblem: 320\nWrite a Python program to compute the square root of each number in a list using `map()`.\n\"\"\"\n\nimport math\ndef square_roots(numbers):\n    def square_root(x):\n        return math.sqrt(x)\n    return list(map(square_root, numbers))\n\n# Example usage\nnumber_list = [1, 4, 9, 16, 25]\nroots = square_roots(number_list)\nprint(\"Original numbers:\", number_list)\nprint(\"Square roots:\", roots)\n\n\"\"\"\nProblem: 321\nWrite a Python program to convert a list of strings to a list of their lengths using `map()`.\n\"\"\"\n\ndef lengths_of_strings(strings):\n    def length(s):\n        return len(s)\n    return list(map(length, strings))\n\n# Example usage\nstring_list = [\"apple\", \"banana\", \"cherry\", \"date\"]\nlengths = lengths_of_strings(string_list)\nprint(\"Original strings:\", string_list)\nprint(\"Lengths of strings:\", lengths)\n\n\"\"\"\nProblem: 322\nWrite a Python program to normalize a list of scores to a range of 0 to 1 using `map()`.\n\"\"\"\n\ndef normalize_scores(scores):\n    def normalize(score):\n        min_score = min(scores)\n        max_score = max(scores)\n        return (score - min_score) / (max_score - min_score)\n    return list(map(normalize, scores))\n\n# Example usage\nscore_list = [50, 60, 70, 80, 90]\nnormalized_scores = normalize_scores(score_list)\nprint(\"Original scores:\", score_list)\nprint(\"Normalized scores:\", normalized_scores)\n\n\"\"\"\nProblem: 323\nWrite a Python program to reverse each string in a list using `map()`.\n\"\"\"\n\ndef reverse_strings(strings):\n    def reverse(s):\n        return s[::-1]\n    return list(map(reverse, strings))\n\n# Example usage\nstring_list = [\"hello\", \"world\", \"python\", \"programming\"]\nreversed_strings = reverse_strings(string_list)\nprint(\"Original strings:\", string_list)\nprint(\"Reversed strings:\", reversed_strings)\n\n\"\"\"\nProblem: 324\nWrite a Python program to double each number in a list using `map()`.\n\"\"\"\n\ndef double_numbers(numbers):\n    def double(x):\n        return x * 2\n    return list(map(double, numbers))\n\n# Example usage\nnumber_list = [1, 2, 3, 4, 5]\ndoubled_numbers = double_numbers(number_list)\nprint(\"Original numbers:\", number_list)\nprint(\"Doubled numbers:\", doubled_numbers)\n\n\"\"\"\nProblem: 325\nWrite a Python program to remove leading and trailing whitespace from each string in a list using `map()`.\n\"\"\"\n\ndef strip_whitespace(strings):\n    def strip(s):\n        return s.strip()\n    return list(map(strip, strings))\n# Example usage\nstring_list = [\"  Hello  \", \"  World  \", \"  Python  \", \"  Programming  \"]\nstripped_strings = strip_whitespace(string_list)\nprint(\"Original strings:\", string_list)\nprint(\"Stripped strings:\", stripped_strings)\n    \n\"\"\"\nProblem: 326\nWrite a Python program to create a list of tuples where each tuple contains a number and its square using `map()`.\n\"\"\"\n\ndef number_and_square(numbers):\n    def create_tuple(x):\n        return (x, x * x)\n    return list(map(create_tuple, numbers))\n\n# Example usage\nnumbers_list = [1, 2, 3, 4, 5]\nsquared_tuples = number_and_square(numbers_list)\nprint(\"Numbers and their squares:\", squared_tuples)\n\n\"\"\"\nProblem: 327\nWrite a Python program to convert a list of strings to title case using `map()`.\n\"\"\"\n\ndef to_title_case(strings):\n    def title_case(s):\n        return s.title()\n    return list(map(title_case, strings))\n\n# Example usage\nwords = [\"hello world\", \"python programming\", \"enumerate function\"]\nresult = to_title_case(words)\nprint(result)  # ['Hello World', 'Python Programming', 'Enumerate Function']\n\n\"\"\"\nProblem: 328\nWrite a Python program to find the second largest number in a list. Prompt the user to enter a list of numbers, do not use a for loop, do not use map().\n\"\"\"\n\ndef second_largest_number():\n    user_input = input(\"Type numbers separated by spaces: \").split()\n\n    user_int = []\n    for num in user_input:\n        user_int.append(int(num))\n\n    unique_numbers = set(user_int)\n    unique_numbers = list(unique_numbers)\n    unique_numbers.sort()\n\n    if len(unique_numbers) > 1:\n        second_largest = unique_numbers[-2]\n    else:\n        second_largest = \"Not enough unique numbers\"\n\n    print(second_largest)\n\nsecond_largest_number()\n\n\"\"\"\nProblem 329:\nWrite a function where user types a list of numbers in string and returns a list of numbers from smallest to biggest. Do not use a for loop.\n\"\"\"\n\ndef list_string(numbers):\n    sort = sorted(numbers, key=int)\n    return sort\n   \nlst = [\"377\", \"55\", \"44\"]\nprint(list_string(lst))\n\ndef type_smallest_biggest():\n    user = input(\"type number list: \").split()\n    sort_number = sorted(user, key=int)\n       \n    print(sort_number)\n    \ntype_smallest_biggest()\n\n\"\"\"\nProblem 330:\nWrite a function where user types a list of numbers in string and returns a list of numbers from biggest to smallest. Do not use a for loop.\n\"\"\"\n\ndef list_of_string_numbers(n):\n    sort = sorted(n, key=int)[::-1]\n    \n    return sort\n        \nnumbers = [\"44\", \"66\", \"3\", \"477\"]\nprint(list_of_string_numbers(numbers))\n\ndef type_biggest_smallest():\n    user = input(\"Type numbers: \").split()\n    int_list = list(map(int, user))\n    sorted_list = sorted(int_list, reverse=True)\n    \n    print(sorted_list)\n\ntype_biggest_smallest()",
   "execution_count": null,
   "outputs": []
  }
 ],
 "metadata": {
  "kernelspec": {
   "name": "python3",
   "display_name": "Python 3",
   "language": "python"
  },
  "language_info": {
   "name": "python",
   "version": "3.10.4",
   "mimetype": "text/x-python",
   "codemirror_mode": {
    "name": "ipython",
    "version": 3
   },
   "pygments_lexer": "ipython3",
   "nbconvert_exporter": "python",
   "file_extension": ".py"
  }
 },
 "nbformat": 4,
 "nbformat_minor": 2
}