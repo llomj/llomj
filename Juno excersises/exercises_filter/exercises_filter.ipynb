{
 "cells": [
  {
   "metadata": {
    "trusted": false
   },
   "cell_type": "code",
   "source": "\"\"\"\n- **Definition**:\n  - The `filter()` function in Python is a built-in function that creates an iterator from elements of an iterable (like a list, tuple, or string) for which a specified function returns `True`. It effectively filters out elements based on the condition defined in the function.\n\n- **Purpose**:\n  - The primary purpose of `filter()` is to allow programmers to extract a subset of items from a larger collection that meet specific criteria, promoting cleaner and more readable code.\n\n- **Syntax**:\n  - The syntax of the `filter()` function is as follows:\n\n    ```python\n    filter(function, iterable)\n    ```\n\n    - **Parameters**:\n      - **`function`**: A function that tests whether each element of the iterable meets a certain condition. If the function returns `True`, the element is included in the output. If the function is `None`, it will filter out all `False` values (e.g., `0`, `None`, `False`, `''`, etc.).\n      - **`iterable`**: An iterable (like a list, tuple, or string) whose elements will be filtered.\n\n- **Creating a Filter Function**:\n  - A typical filter function can be defined using a regular function or a lambda function.\n  \n  - **Example of a regular function**:\n    ```python\n    def is_even(num):\n        return num % 2 == 0\n    ```\n\n  - **Example of a lambda function**:\n    ```python\n    is_even = lambda num: num % 2 == 0\n    ```\n\n- **Using `filter()`**:\n  - To use the `filter()` function, you pass the filtering function and the iterable as arguments.\n  \n  - **Example**:\n    ```python\n    numbers = [1, 2, 3, 4, 5, 6]\n    even_numbers = filter(is_even, numbers)\n    print(list(even_numbers))  # Output: [2, 4, 6]\n    ```\n\n- **Output of `filter()`**:\n  - The output of the `filter()` function is an iterator, not a list. To get a list of filtered results, you must convert the iterator to a list using the `list()` constructor or by iterating through it.\n\n- **Examples of Common Use Cases**:\n  - **Filtering Numbers**: You can filter even or odd numbers from a list.\n    ```python\n    odd_numbers = filter(lambda x: x % 2 != 0, numbers)\n    print(list(odd_numbers))  # Output: [1, 3, 5]\n    ```\n  \n  - **Filtering Strings**: You can filter strings based on length or character content.\n    ```python\n    names = [\"Alice\", \"Bob\", \"Charlie\", \"David\"]\n    long_names = filter(lambda name: len(name) > 3, names)\n    print(list(long_names))  # Output: ['Alice', 'Charlie', 'David']\n    ```\n\n- **Performance Considerations**:\n  - Using `filter()` can be more efficient than using a list comprehension in cases where the filtered result is large because it produces results lazily, meaning it only processes elements as needed.\n  \n  - However, if you need to access all results multiple times, converting it to a list may be beneficial.\n\n- **Limitations**:\n  - The `filter()` function does not modify the original iterable; it produces a new iterator.\n  \n  - It can only be used with callable objects. If `None` is passed as the function, it filters out all values considered false.\n\n- **Conclusion**:\n  - In summary, the `filter()` function is a powerful tool in Python for creating filtered iterators based on specified conditions. It enhances code readability and efficiency when working with collections by enabling straightforward extraction of items that satisfy particular criteria. Its ability to work with any callable and produce results lazily makes it a valuable function in the Python programming toolkit.\n\n\"\"\"",
   "execution_count": null,
   "outputs": []
  },
  {
   "metadata": {
    "trusted": false
   },
   "cell_type": "code",
   "source": "",
   "execution_count": null,
   "outputs": []
  },
  {
   "metadata": {
    "trusted": false
   },
   "cell_type": "code",
   "source": "",
   "execution_count": null,
   "outputs": []
  },
  {
   "metadata": {
    "trusted": false
   },
   "cell_type": "code",
   "source": "",
   "execution_count": null,
   "outputs": []
  },
  {
   "metadata": {
    "trusted": false
   },
   "cell_type": "code",
   "source": "",
   "execution_count": null,
   "outputs": []
  },
  {
   "metadata": {
    "trusted": false
   },
   "cell_type": "code",
   "source": "",
   "execution_count": null,
   "outputs": []
  },
  {
   "metadata": {
    "trusted": false
   },
   "cell_type": "code",
   "source": "",
   "execution_count": null,
   "outputs": []
  },
  {
   "metadata": {
    "trusted": false
   },
   "cell_type": "code",
   "source": "",
   "execution_count": null,
   "outputs": []
  },
  {
   "metadata": {
    "trusted": false
   },
   "cell_type": "code",
   "source": "",
   "execution_count": null,
   "outputs": []
  },
  {
   "metadata": {
    "trusted": false
   },
   "cell_type": "code",
   "source": "",
   "execution_count": null,
   "outputs": []
  },
  {
   "metadata": {
    "trusted": false
   },
   "cell_type": "code",
   "source": "",
   "execution_count": null,
   "outputs": []
  },
  {
   "metadata": {
    "trusted": false
   },
   "cell_type": "code",
   "source": "",
   "execution_count": null,
   "outputs": []
  },
  {
   "metadata": {
    "trusted": false
   },
   "cell_type": "code",
   "source": "",
   "execution_count": null,
   "outputs": []
  },
  {
   "metadata": {
    "trusted": false
   },
   "cell_type": "code",
   "source": "",
   "execution_count": null,
   "outputs": []
  },
  {
   "metadata": {
    "trusted": false
   },
   "cell_type": "code",
   "source": "",
   "execution_count": null,
   "outputs": []
  },
  {
   "metadata": {
    "trusted": false
   },
   "cell_type": "code",
   "source": "",
   "execution_count": null,
   "outputs": []
  },
  {
   "metadata": {
    "trusted": false
   },
   "cell_type": "code",
   "source": "",
   "execution_count": null,
   "outputs": []
  },
  {
   "metadata": {
    "trusted": false
   },
   "cell_type": "code",
   "source": "",
   "execution_count": null,
   "outputs": []
  },
  {
   "metadata": {
    "trusted": false
   },
   "cell_type": "code",
   "source": "",
   "execution_count": null,
   "outputs": []
  },
  {
   "metadata": {
    "trusted": false
   },
   "cell_type": "code",
   "source": "",
   "execution_count": null,
   "outputs": []
  },
  {
   "metadata": {
    "trusted": false
   },
   "cell_type": "code",
   "source": "\"\"\"\nProblem: 269\nWrite a Python program to filter out all even numbers from a list using `filter()`.\n\"\"\"\n\ndef is_odd(x):\n    return x % 2 != 0\n\ndef filter_even_numbers(lst):\n    return list(filter(is_odd, lst))\n\nlst = [1, 2, 3, 4, 5, 6]\nresult = filter_even_numbers(lst)\nprint(result)\n\n\"\"\"\nProblem: 270\nWrite a Python program to filter out all odd numbers from a list using `filter()`.\n\"\"\"\n\ndef is_even(x):\n    return x % 2 == 0\n\ndef filter_odd_numbers(lst):\n    return list(filter(is_even, lst))\n\nlst = [1, 2, 3, 4, 5, 6]\nresult = filter_odd_numbers(lst)\nprint(result)\n\n\"\"\"\nProblem: 271\nWrite a Python program to filter out all positive numbers from a list using `filter()`.\n\"\"\"\n\ndef is_non_positive(x):\n    return x <= 0\n\ndef filter_positive_numbers(lst):\n    return list(filter(is_non_positive, lst))\n\nlst = [-2, -1, 0, 1, 2, 3]\nresult = filter_positive_numbers(lst)\nprint(result)\n\n\"\"\"\nProblem: 272\nWrite a Python program to filter out all negative numbers from a list using `filter()`.\n\n\"\"\"\ndef is_non_negative(x):\n    return x >= 0\n\ndef filter_negative_numbers(lst):\n    return list(filter(is_non_negative, lst))\n\nlst = [-2, -1, 0, 1, 2, 3]\nresult = filter_negative_numbers(lst)\nprint(result)\n\n\"\"\"\n273\nWrite a Python program to filter out all words from a list that start with a specific letter using `filter()`.\n\"\"\"\n\ndef filter_words_starting_with_letter(words, letter):\n    def starts_with(word):\n        return not word.startswith(letter)\n\n    filtered_words = filter(starts_with, words)\n    return list(filtered_words)\n\nwords = [\"apple\", \"banana\", \"cherry\", \"apricot\", \"blueberry\"]\nletter = \"a\"\nfiltered_words = filter_words_starting_with_letter(words, letter)\nprint(filtered_words)\n\n\"\"\"\nProblem: 274\nWrite a Python program to filter out all palindromes from a list of strings using `filter()`.\n\"\"\"\n\ndef is_palindrome(s):\n    return s == s[::-1]\n\ndef filter_palindromes(lst):\n    return list(filter(is_palindrome, lst))\n\nlst = ['madam', 'hello', 'racecar', 'world', 'level']\nresult = filter_palindromes(lst)\nprint(result)\n\n\"\"\"\n275\nWrite a Python program to filter out all strings from a list that have a specific length using `filter()`.\n\"\"\"\n\ndef filter_by_length(strings, length):\n    def check_length(s):\n        return len(s) == length\n    return list(filter(check_length, strings))\n\nstrings = [\"apple\", \"banana\", \"cherry\", \"date\", \"fig\"]\nlength = 5\nresult = filter_by_length(strings, length)\nprint(result)\n\ndef filter_by_length(strings, length):\n    \n    def has_length(s):\n        return len(s) == length\n\n    filtered_strings = filter(has_length, strings)\n\n    return list(filtered_strings)\n\nstrings = [\"apple\", \"banana\", \"cherry\", \"date\", \"fig\"]\nlength = 5\nresult = filter_by_length(strings, length)\n\nprint(result) \n\n\"\"\"\nProblem: 276\nWrite a Python program to filter out all numbers from a list that are divisible by a given number using `filter()`.\n\"\"\"\n\ndef filter_divisible(numbers, divisor):\n    def is_divisible(n):\n        return n % divisor == 0\n    return list(filter(is_divisible, numbers))\n\nnumbers = [10, 15, 20, 25, 30, 35, 40]\ndivisor = 5\nresult = filter_divisible(numbers, divisor)\nprint(result)\n\n\"\"\"\nProblem: 278\nWrite a Python program to filter out all non-empty strings from a list using `filter()`.\n\"\"\"\n\ndef filter_non_empty(strings):\n    def is_non_empty(s):\n        return s != \"\"\n    return list(filter(is_non_empty, strings))\n\nstrings = [\"apple\", \"\", \"banana\", \"\", \"cherry\", \"date\", \"\"]\nresult = filter_non_empty(strings)\nprint(result)\n\n\"\"\"\nProblem: 279\nWrite a Python program to filter out all prime numbers from a list using `filter()`.\n\"\"\"\n\ndef filter_prime(numbers):\n    def is_prime(n):\n        if n < 2:\n            return False\n        for i in range(2, int(n**0.5) + 1):\n            if n % i == 0:\n                return False\n        return True\n    return list(filter(is_prime, numbers))\nnumbers = [2, 3, 4, 5, 6, 7, 8, 9, 10, 11, 13, 15, 17]\nresult = filter_prime(numbers)\nprint(result)\n\n\"\"\"\nProblem: 280\nWrite a Python program to filter out all floating-point numbers from a list using `filter()`.\n\"\"\"\n\ndef filter_floats(items):\n    def is_not_float(x):\n        return not isinstance(x, float)\n    return list(filter(is_not_float, items))\n\nitems = [1, 2.5, \"apple\", 3.7, 10, 8.9, 7, 4.0]\nresult = filter_floats(items)\nprint(result)\n\n\"\"\"\nProblem: 281\nWrite a Python program to filter out all uppercase strings from a list using `filter()`.\n\"\"\"\n\ndef filter_uppercase(strings):\n    def is_not_uppercase(s):\n        return not s.isupper()\n    return list(filter(is_not_uppercase, strings))\n\nstrings = [\"HELLO\", \"world\", \"PYTHON\", \"code\", \"CHATGPT\", \"example\"]\nresult = filter_uppercase(strings)\nprint(result)\n\n\"\"\"\nProblem: 282\nWrite a Python program to filter out all uppercase strings from a list using `filter()`.\n\"\"\"\n\ndef filter_uppercase_again(strings):\n    def is_not_uppercase(s):\n        return not s.isupper()\n    return list(filter(is_not_uppercase, strings))\n\nstrings = [\"HELLO\", \"WORLD\", \"python\", \"CHATGPT\", \"openai\", \"example\"]\nresult = filter_uppercase_again(strings)\nprint(result)\n\n\"\"\"\nProblem: 283\nWrite a Python program to filter out all non-None values from a list using `filter()`.\n\"\"\"\n\ndef filter_non_none(items):\n    def is_not_none(x):\n        return x is not None\n    return list(filter(is_not_none, items))\n\nitems = [1, None, \"example\", None, 3.14, \"\", None]\nresult = filter_non_none(items)\nprint(result)\n\n\"\"\"\nProblem: 284\nWrite a Python program to filter out all elements from a list that contain a specific substring using `filter()`.\n\"\"\"\n\ndef filter_by_substring(items, substring):\n    def does_not_contain_substring(s):\n        return substring not in s\n    return list(filter(does_not_contain_substring, items))\n\nitems = [\"apple\", \"banana\", \"cherry\", \"pineapple\", \"grape\"]\nsubstring = \"apple\"\nresult = filter_by_substring(items, substring)\nprint(result)",
   "execution_count": null,
   "outputs": []
  }
 ],
 "metadata": {
  "kernelspec": {
   "name": "python3",
   "display_name": "Python 3",
   "language": "python"
  },
  "language_info": {
   "name": "python",
   "version": "3.10.4",
   "mimetype": "text/x-python",
   "codemirror_mode": {
    "name": "ipython",
    "version": 3
   },
   "pygments_lexer": "ipython3",
   "nbconvert_exporter": "python",
   "file_extension": ".py"
  }
 },
 "nbformat": 4,
 "nbformat_minor": 2
}