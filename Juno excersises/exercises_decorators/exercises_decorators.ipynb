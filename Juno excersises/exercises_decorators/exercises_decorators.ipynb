{
 "cells": [
  {
   "metadata": {
    "trusted": false
   },
   "cell_type": "code",
   "source": "\"\"\"\nDecorators in Python\n\n- **Definition**:\n  - Decorators in Python are a powerful and flexible way to modify or enhance the behavior of functions or methods. They are higher-order functions that take another function as an argument and extend its functionality without modifying its structure. Decorators are commonly used for logging, enforcing access control, instrumentation, and memoization.\n\n- **How They Work**:\n  1. **Basic Syntax**:\n     - A decorator is defined using the `@decorator_name` syntax, placed above the function definition that it decorates. The decorator takes the function as an argument and returns a new function.\n     ```python\n     @decorator_name\n     def function_to_decorate():\n         pass\n     ```\n\n  2. **Function Wrapping**:\n     - Inside a decorator, you typically define a nested function that calls the original function, potentially modifying its inputs or outputs. The nested function is then returned by the decorator.\n     ```python\n     def my_decorator(func):\n         def wrapper():\n             print(\"Before the function call\")\n             func()\n             print(\"After the function call\")\n         return wrapper\n     ```\n\n  3. **Applying the Decorator**:\n     - When the decorated function is called, it actually invokes the wrapper function created inside the decorator, allowing for pre- and post-processing around the original function call.\n\n- **Examples**:\n  1. **Basic Decorator Example**:\n     ```python\n     def simple_decorator(func):\n         def wrapper():\n             print(\"Something is happening before the function is called.\")\n             func()\n             print(\"Something is happening after the function is called.\")\n         return wrapper\n\n     @simple_decorator\n     def say_hello():\n         print(\"Hello!\")\n\n     say_hello()\n     ```\n\n  2. **Decorator with Arguments**:\n     - You can create decorators that accept arguments by nesting another function:\n     ```python\n     def repeat(num_times):\n         def decorator_repeat(func):\n             def wrapper(*args, **kwargs):\n                 for _ in range(num_times):\n                     func(*args, **kwargs)\n             return wrapper\n         return decorator_repeat\n\n     @repeat(num_times=3)\n     def greet(name):\n         print(f\"Hello, {name}!\")\n\n     greet(\"Alice\")\n     ```\n\n  3. **Using Built-in Decorators**:\n     - Python has built-in decorators like `@staticmethod`, `@classmethod`, and `@property` that enhance the functionality of class methods:\n     ```python\n     class MyClass:\n         @classmethod\n         def class_method(cls):\n             print(\"This is a class method.\")\n\n         @staticmethod\n         def static_method():\n             print(\"This is a static method.\")\n\n     MyClass.class_method()\n     MyClass.static_method()\n     ```\n\n  4. **Chaining Decorators**:\n     - You can apply multiple decorators to a single function by stacking them:\n     ```python\n     def uppercase_decorator(func):\n         def wrapper(name):\n             original_result = func(name)\n             return original_result.upper()\n         return wrapper\n\n     @uppercase_decorator\n     @repeat(num_times=2)\n     def greet(name):\n         return f\"Hello, {name}\"\n\n     print(greet(\"Alice\"))  # Output: HELLO, ALICE (called twice)\n     ```\n\n- **Key Concepts**:\n  1. **Higher-Order Functions**:\n     - Decorators are higher-order functions, meaning they can take other functions as arguments and return new functions. This allows for a high degree of flexibility in modifying behavior.\n\n  2. **Separation of Concerns**:\n     - Decorators help maintain clean code by separating the core logic of a function from its auxiliary functionalities, such as logging or access control.\n\n  3. **Composition**:\n     - Decorators can be easily composed, allowing multiple decorators to be applied to a single function, thereby enhancing modularity.\n\n- **Common Use Cases**:\n  1. **Logging**:\n     - Decorators are often used to log function calls, making it easier to trace the execution of code and monitor behavior.\n     ```python\n     def log_decorator(func):\n         def wrapper(*args, **kwargs):\n             print(f\"Calling function: {func.__name__}\")\n             return func(*args, **kwargs)\n         return wrapper\n     ```\n\n  2. **Access Control**:\n     - Use decorators to enforce access control or permissions in functions, ensuring that only authorized users can execute certain actions.\n\n  3. **Memoization**:\n     - Decorators can implement caching of results to optimize performance by storing previously computed results for expensive function calls.\n\n- **Limitations**:\n  1. **Debugging Complexity**:\n     - Using decorators can sometimes make debugging more difficult, as the stack trace may obscure the original function being called.\n\n  2. **Readability**:\n     - Excessive use of decorators or complex decorators can reduce code readability, especially for those unfamiliar with the pattern.\n\n  3. **Execution Order**:\n     - The order in which decorators are applied can affect the behavior of the function, which may lead to unexpected results if not managed carefully.\n\n- **Conclusion**:\n  - Decorators are a powerful feature in Python that enhance code modularity and reusability. They provide a clean and effective way to extend functionality, making them an essential tool in the Python programmer's toolkit.\n\"\"\"",
   "execution_count": null,
   "outputs": []
  },
  {
   "metadata": {
    "trusted": true
   },
   "cell_type": "code",
   "source": "",
   "execution_count": null,
   "outputs": []
  },
  {
   "metadata": {
    "trusted": true
   },
   "cell_type": "code",
   "source": "",
   "execution_count": null,
   "outputs": []
  },
  {
   "metadata": {
    "trusted": true
   },
   "cell_type": "code",
   "source": "",
   "execution_count": null,
   "outputs": []
  },
  {
   "metadata": {
    "trusted": true
   },
   "cell_type": "code",
   "source": "",
   "execution_count": null,
   "outputs": []
  },
  {
   "metadata": {
    "trusted": true
   },
   "cell_type": "code",
   "source": "",
   "execution_count": null,
   "outputs": []
  },
  {
   "metadata": {
    "trusted": true
   },
   "cell_type": "code",
   "source": "",
   "execution_count": null,
   "outputs": []
  },
  {
   "metadata": {
    "trusted": true
   },
   "cell_type": "code",
   "source": "",
   "execution_count": null,
   "outputs": []
  },
  {
   "metadata": {
    "trusted": true
   },
   "cell_type": "code",
   "source": "",
   "execution_count": null,
   "outputs": []
  },
  {
   "metadata": {
    "trusted": true
   },
   "cell_type": "code",
   "source": "",
   "execution_count": null,
   "outputs": []
  },
  {
   "metadata": {
    "trusted": true
   },
   "cell_type": "code",
   "source": "",
   "execution_count": null,
   "outputs": []
  },
  {
   "metadata": {
    "trusted": true
   },
   "cell_type": "code",
   "source": "",
   "execution_count": null,
   "outputs": []
  },
  {
   "metadata": {
    "trusted": true
   },
   "cell_type": "code",
   "source": "",
   "execution_count": null,
   "outputs": []
  },
  {
   "metadata": {
    "trusted": true
   },
   "cell_type": "code",
   "source": "",
   "execution_count": null,
   "outputs": []
  },
  {
   "metadata": {
    "trusted": true
   },
   "cell_type": "code",
   "source": "",
   "execution_count": null,
   "outputs": []
  },
  {
   "metadata": {
    "trusted": true
   },
   "cell_type": "code",
   "source": "",
   "execution_count": null,
   "outputs": []
  }
 ],
 "metadata": {
  "kernelspec": {
   "name": "python3",
   "display_name": "Python 3",
   "language": "python"
  },
  "language_info": {
   "name": "python",
   "version": "3.10.4",
   "mimetype": "text/x-python",
   "codemirror_mode": {
    "name": "ipython",
    "version": 3
   },
   "pygments_lexer": "ipython3",
   "nbconvert_exporter": "python",
   "file_extension": ".py"
  }
 },
 "nbformat": 4,
 "nbformat_minor": 2
}