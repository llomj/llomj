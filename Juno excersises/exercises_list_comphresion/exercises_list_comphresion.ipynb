{
 "cells": [
  {
   "metadata": {
    "trusted": false
   },
   "cell_type": "code",
   "source": "\"\"\"\nList Comprehensions in Python\n\n- **Definition**:\n  - A list comprehension is a concise way to create lists in Python. It allows for the construction of new lists by applying an expression to each item in an iterable, such as a list or a range, while optionally filtering items with a condition. List comprehensions provide a syntactically more compact and readable alternative to using traditional loops for list creation.\n\n- **How It Works**:\n  1. **Basic Syntax**:\n     - The syntax for a list comprehension is:\n       ```python\n       [expression for item in iterable if condition]\n       ```\n       - `expression`: The expression to evaluate and add to the new list.\n       - `item`: The variable that takes the value of each element in the iterable.\n       - `iterable`: Any iterable object (like a list, tuple, or range).\n       - `condition` (optional): A filter that determines whether the item should be included in the new list.\n\n  2. **Return Value**:\n     - The result is a new list containing the evaluated expressions of items that satisfy the condition.\n\n- **Examples**:\n  1. **Simple List Comprehension**:\n     ```python\n     squares = [x ** 2 for x in range(5)]\n     print(squares)  # Output: [0, 1, 4, 9, 16]\n     ```\n\n  2. **With a Condition**:\n     ```python\n     even_squares = [x ** 2 for x in range(10) if x % 2 == 0]\n     print(even_squares)  # Output: [0, 4, 16, 36, 64]\n     ```\n\n  3. **Nested List Comprehension**:\n     ```python\n     matrix = [[1, 2, 3], [4, 5, 6], [7, 8, 9]]\n     flattened = [num for row in matrix for num in row]\n     print(flattened)  # Output: [1, 2, 3, 4, 5, 6, 7, 8, 9]\n     ```\n\n  4. **Creating a List from a String**:\n     ```python\n     sentence = \"Hello World\"\n     letters = [char for char in sentence if char.isalpha()]\n     print(letters)  # Output: ['H', 'e', 'l', 'l', 'o', 'W', 'o', 'r', 'l', 'd']\n     ```\n\n- **Key Concepts**:\n  1. **Conciseness**:\n     - List comprehensions allow for the creation of lists in a single line, reducing the amount of code needed compared to traditional loop-based approaches.\n\n  2. **Readability**:\n     - When used appropriately, list comprehensions can enhance code readability by clearly expressing the intent of creating a new list.\n\n  3. **Performance**:\n     - List comprehensions can be more efficient than traditional for-loops, as they are optimized for performance in Python.\n\n- **Common Use Cases**:\n  1. **Transforming Data**:\n     - They are commonly used to apply a transformation to each item in an iterable:\n     ```python\n     words = [\"hello\", \"world\"]\n     capitalized = [word.upper() for word in words]\n     ```\n\n  2. **Filtering Data**:\n     - List comprehensions can easily filter items from an iterable:\n     ```python\n     numbers = [1, 2, 3, 4, 5]\n     odd_numbers = [num for num in numbers if num % 2 != 0]\n     ```\n\n  3. **Flattening Nested Lists**:\n     - They can be used to flatten lists of lists:\n     ```python\n     nested_list = [[1, 2], [3, 4], [5]]\n     flat_list = [item for sublist in nested_list for item in sublist]\n     ```\n\n- **Limitations**:\n  1. **Complexity**:\n     - While list comprehensions can make code more concise, overly complex comprehensions can reduce readability. If the logic becomes too convoluted, using traditional loops may be better.\n\n  2. **Single Expression**:\n     - List comprehensions can only evaluate a single expression. If multiple statements are required, a standard loop is necessary.\n\n- **Conclusion**:\n  - List comprehensions are a powerful feature in Python that facilitate the creation and transformation of lists in a concise and readable manner. When used judiciously, they enhance code clarity and efficiency, making them a favored approach among Python developers.\n\"\"\"",
   "execution_count": null,
   "outputs": []
  },
  {
   "metadata": {
    "trusted": true
   },
   "cell_type": "code",
   "source": "",
   "execution_count": null,
   "outputs": []
  },
  {
   "metadata": {
    "trusted": true
   },
   "cell_type": "code",
   "source": "",
   "execution_count": null,
   "outputs": []
  },
  {
   "metadata": {
    "trusted": true
   },
   "cell_type": "code",
   "source": "",
   "execution_count": null,
   "outputs": []
  },
  {
   "metadata": {
    "trusted": true
   },
   "cell_type": "code",
   "source": "",
   "execution_count": null,
   "outputs": []
  },
  {
   "metadata": {
    "trusted": true
   },
   "cell_type": "code",
   "source": "",
   "execution_count": null,
   "outputs": []
  },
  {
   "metadata": {
    "trusted": true
   },
   "cell_type": "code",
   "source": "",
   "execution_count": null,
   "outputs": []
  },
  {
   "metadata": {
    "trusted": true
   },
   "cell_type": "code",
   "source": "",
   "execution_count": null,
   "outputs": []
  },
  {
   "metadata": {
    "trusted": true
   },
   "cell_type": "code",
   "source": "",
   "execution_count": null,
   "outputs": []
  },
  {
   "metadata": {
    "trusted": true
   },
   "cell_type": "code",
   "source": "",
   "execution_count": null,
   "outputs": []
  },
  {
   "metadata": {
    "trusted": true
   },
   "cell_type": "code",
   "source": "",
   "execution_count": null,
   "outputs": []
  },
  {
   "metadata": {
    "trusted": true
   },
   "cell_type": "code",
   "source": "",
   "execution_count": null,
   "outputs": []
  },
  {
   "metadata": {
    "trusted": true
   },
   "cell_type": "code",
   "source": "",
   "execution_count": null,
   "outputs": []
  },
  {
   "metadata": {
    "trusted": true
   },
   "cell_type": "code",
   "source": "",
   "execution_count": null,
   "outputs": []
  },
  {
   "metadata": {
    "trusted": true
   },
   "cell_type": "code",
   "source": "",
   "execution_count": null,
   "outputs": []
  },
  {
   "metadata": {
    "trusted": true
   },
   "cell_type": "code",
   "source": "",
   "execution_count": null,
   "outputs": []
  },
  {
   "metadata": {
    "trusted": true
   },
   "cell_type": "code",
   "source": "",
   "execution_count": null,
   "outputs": []
  },
  {
   "metadata": {
    "trusted": true
   },
   "cell_type": "code",
   "source": "",
   "execution_count": null,
   "outputs": []
  }
 ],
 "metadata": {
  "kernelspec": {
   "name": "python3",
   "display_name": "Python 3",
   "language": "python"
  },
  "language_info": {
   "name": "python",
   "version": "3.10.4",
   "mimetype": "text/x-python",
   "codemirror_mode": {
    "name": "ipython",
    "version": 3
   },
   "pygments_lexer": "ipython3",
   "nbconvert_exporter": "python",
   "file_extension": ".py"
  }
 },
 "nbformat": 4,
 "nbformat_minor": 2
}