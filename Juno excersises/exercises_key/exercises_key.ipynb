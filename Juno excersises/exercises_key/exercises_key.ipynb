{
 "cells": [
  {
   "metadata": {
    "trusted": false
   },
   "cell_type": "code",
   "source": "\"\"\"\n- **Definition**:\n  - In Python, a key in a dictionary is an immutable value that serves as a unique identifier for each entry (or key-value pair) in the dictionary. Keys are used to access their corresponding values and must be unique within a single dictionary.\n\n- **Characteristics of Keys**:\n  - **Uniqueness**: Each key in a dictionary must be unique. If a duplicate key is added, the previous value associated with that key is overwritten by the new value.\n  - **Immutability**: Keys must be of an immutable data type, such as strings, numbers, or tuples. Mutable types like lists or other dictionaries cannot be used as keys.\n  - **Hashable**: Keys must be hashable, meaning they can be converted into a hash value. This property is essential for the efficient retrieval of values in the dictionary.\n\n- **Creating a Dictionary**:\n  - A dictionary is created by enclosing key-value pairs in curly braces `{}`. Each key is followed by a colon `:`, which separates it from its corresponding value.\n  - Example: \n    ```python\n    my_dict = {\n        \"name\": \"Alice\",\n        \"age\": 30,\n        \"city\": \"New York\"\n    }\n    ```\n\n- **Accessing Values**:\n  - Values in a dictionary can be accessed using their keys. The syntax involves placing the key in square brackets after the dictionary variable.\n  - Example: \n    ```python\n    name = my_dict[\"name\"]  # Accesses the value associated with the key \"name\"\n    ```\n\n- **Common Operations with Keys**:\n  - **Checking for Existence**: You can check if a key exists in a dictionary using the `in` keyword.\n    ```python\n    if \"age\" in my_dict:\n        print(\"Key exists!\")\n    ```\n\n  - **Getting Keys**: You can retrieve all keys from a dictionary using the `.keys()` method, which returns a view object containing the keys.\n    ```python\n    keys = my_dict.keys()  # Returns a view of keys\n    ```\n\n  - **Iterating Over Keys**: You can iterate through the keys of a dictionary using a loop, allowing you to perform operations on each key.\n    ```python\n    for key in my_dict:\n        print(key)\n    ```\n\n- **Examples of Keys**:\n  - **Strings as Keys**: The most common type of key used in dictionaries. \n    ```python\n    user_info = {\n        \"username\": \"johndoe\",\n        \"email\": \"johndoe@example.com\"\n    }\n    ```\n\n  - **Numbers as Keys**: Numeric keys can also be used.\n    ```python\n    numeric_dict = {\n        1: \"one\",\n        2: \"two\",\n        3: \"three\"\n    }\n    ```\n\n  - **Tuples as Keys**: Tuples can serve as keys, provided they contain only immutable elements.\n    ```python\n    tuple_keys = {\n        (1, 2): \"point1\",\n        (3, 4): \"point2\"\n    }\n    ```\n\n- **Best Practices for Using Keys**:\n  - **Descriptive Naming**: Use descriptive names for string keys to enhance code readability. This practice helps clarify the purpose of each key.\n  - **Consistent Data Types**: Ensure that the keys used in a dictionary are consistent in data type for easier management and debugging.\n  - **Avoid Complex Keys**: While tuples can be used as keys, avoid overly complex keys, as they can lead to confusion and harder-to-maintain code.\n\n- **Advantages of Using Keys in Dictionaries**:\n  - **Efficient Lookup**: Dictionaries provide fast access to values based on keys, making them an efficient choice for data retrieval.\n  - **Organized Data**: Keys help organize data in a meaningful way, allowing for easy association between related information (e.g., user profiles, settings).\n  - **Dynamic Storage**: You can easily add, remove, or modify key-value pairs in a dictionary, providing flexibility in data management.\n\n- **Limitations**:\n  - **Memory Usage**: Dictionaries may consume more memory compared to other data structures (like lists) because of the overhead associated with maintaining the hash table.\n  - **Order of Keys**: Although dictionaries in Python 3.7 and later maintain insertion order, relying on this behavior may lead to confusion if the code is executed in different environments or versions.\n\n- **Conclusion**:\n  - In summary, keys in a dictionary are fundamental components that allow for efficient data retrieval and organization. They serve as unique identifiers for their corresponding values and must be immutable and hashable. Understanding how to effectively use keys is crucial for leveraging the full power of dictionaries in Python, enabling developers to manage data in a clear and structured manner.\n\n\"\"\"",
   "execution_count": null,
   "outputs": []
  },
  {
   "metadata": {
    "trusted": false
   },
   "cell_type": "code",
   "source": "",
   "execution_count": null,
   "outputs": []
  },
  {
   "metadata": {
    "trusted": false
   },
   "cell_type": "code",
   "source": "",
   "execution_count": null,
   "outputs": []
  },
  {
   "metadata": {
    "trusted": false
   },
   "cell_type": "code",
   "source": "",
   "execution_count": null,
   "outputs": []
  },
  {
   "metadata": {
    "trusted": false
   },
   "cell_type": "code",
   "source": "",
   "execution_count": null,
   "outputs": []
  },
  {
   "metadata": {
    "trusted": false
   },
   "cell_type": "code",
   "source": "",
   "execution_count": null,
   "outputs": []
  },
  {
   "metadata": {
    "trusted": false
   },
   "cell_type": "code",
   "source": "",
   "execution_count": null,
   "outputs": []
  },
  {
   "metadata": {
    "trusted": false
   },
   "cell_type": "code",
   "source": "",
   "execution_count": null,
   "outputs": []
  },
  {
   "metadata": {
    "trusted": false
   },
   "cell_type": "code",
   "source": "",
   "execution_count": null,
   "outputs": []
  },
  {
   "metadata": {
    "trusted": false
   },
   "cell_type": "code",
   "source": "",
   "execution_count": null,
   "outputs": []
  },
  {
   "metadata": {
    "trusted": false
   },
   "cell_type": "code",
   "source": "",
   "execution_count": null,
   "outputs": []
  },
  {
   "metadata": {
    "trusted": false
   },
   "cell_type": "code",
   "source": "",
   "execution_count": null,
   "outputs": []
  },
  {
   "metadata": {
    "trusted": false
   },
   "cell_type": "code",
   "source": "",
   "execution_count": null,
   "outputs": []
  },
  {
   "metadata": {
    "trusted": false
   },
   "cell_type": "code",
   "source": "",
   "execution_count": null,
   "outputs": []
  },
  {
   "metadata": {
    "trusted": false
   },
   "cell_type": "code",
   "source": "",
   "execution_count": null,
   "outputs": []
  },
  {
   "metadata": {
    "trusted": false
   },
   "cell_type": "code",
   "source": "",
   "execution_count": null,
   "outputs": []
  },
  {
   "metadata": {
    "trusted": false
   },
   "cell_type": "code",
   "source": "",
   "execution_count": null,
   "outputs": []
  },
  {
   "metadata": {
    "trusted": false
   },
   "cell_type": "code",
   "source": "",
   "execution_count": null,
   "outputs": []
  },
  {
   "metadata": {
    "trusted": false
   },
   "cell_type": "code",
   "source": "",
   "execution_count": null,
   "outputs": []
  },
  {
   "metadata": {
    "trusted": false
   },
   "cell_type": "code",
   "source": "",
   "execution_count": null,
   "outputs": []
  },
  {
   "metadata": {
    "trusted": false
   },
   "cell_type": "code",
   "source": "",
   "execution_count": null,
   "outputs": []
  },
  {
   "metadata": {
    "trusted": false
   },
   "cell_type": "code",
   "source": "",
   "execution_count": null,
   "outputs": []
  },
  {
   "metadata": {
    "trusted": false
   },
   "cell_type": "code",
   "source": "",
   "execution_count": null,
   "outputs": []
  },
  {
   "metadata": {
    "trusted": false
   },
   "cell_type": "code",
   "source": "",
   "execution_count": null,
   "outputs": []
  },
  {
   "metadata": {
    "trusted": false
   },
   "cell_type": "code",
   "source": "",
   "execution_count": null,
   "outputs": []
  },
  {
   "metadata": {
    "trusted": false
   },
   "cell_type": "code",
   "source": "",
   "execution_count": null,
   "outputs": []
  },
  {
   "metadata": {
    "trusted": false
   },
   "cell_type": "code",
   "source": "",
   "execution_count": null,
   "outputs": []
  },
  {
   "metadata": {
    "trusted": false
   },
   "cell_type": "code",
   "source": "",
   "execution_count": null,
   "outputs": []
  },
  {
   "metadata": {
    "trusted": false
   },
   "cell_type": "code",
   "source": "",
   "execution_count": null,
   "outputs": []
  },
  {
   "metadata": {
    "trusted": false
   },
   "cell_type": "code",
   "source": "",
   "execution_count": null,
   "outputs": []
  },
  {
   "metadata": {
    "trusted": false
   },
   "cell_type": "code",
   "source": "",
   "execution_count": null,
   "outputs": []
  },
  {
   "metadata": {
    "trusted": false
   },
   "cell_type": "code",
   "source": "",
   "execution_count": null,
   "outputs": []
  },
  {
   "metadata": {
    "trusted": false
   },
   "cell_type": "code",
   "source": "",
   "execution_count": null,
   "outputs": []
  },
  {
   "metadata": {
    "trusted": false
   },
   "cell_type": "code",
   "source": "",
   "execution_count": null,
   "outputs": []
  },
  {
   "metadata": {
    "trusted": false
   },
   "cell_type": "code",
   "source": "",
   "execution_count": null,
   "outputs": []
  },
  {
   "metadata": {
    "trusted": false
   },
   "cell_type": "code",
   "source": "",
   "execution_count": null,
   "outputs": []
  },
  {
   "metadata": {
    "trusted": false
   },
   "cell_type": "code",
   "source": "",
   "execution_count": null,
   "outputs": []
  },
  {
   "metadata": {
    "trusted": false
   },
   "cell_type": "code",
   "source": "",
   "execution_count": null,
   "outputs": []
  },
  {
   "metadata": {
    "trusted": false
   },
   "cell_type": "code",
   "source": "",
   "execution_count": null,
   "outputs": []
  },
  {
   "metadata": {
    "trusted": false
   },
   "cell_type": "code",
   "source": "",
   "execution_count": null,
   "outputs": []
  },
  {
   "metadata": {
    "trusted": false
   },
   "cell_type": "code",
   "source": "",
   "execution_count": null,
   "outputs": []
  },
  {
   "metadata": {
    "trusted": false
   },
   "cell_type": "code",
   "source": "",
   "execution_count": null,
   "outputs": []
  },
  {
   "metadata": {
    "trusted": false
   },
   "cell_type": "code",
   "source": "",
   "execution_count": null,
   "outputs": []
  },
  {
   "metadata": {
    "trusted": false
   },
   "cell_type": "code",
   "source": "",
   "execution_count": null,
   "outputs": []
  },
  {
   "metadata": {
    "trusted": false
   },
   "cell_type": "code",
   "source": "",
   "execution_count": null,
   "outputs": []
  },
  {
   "metadata": {
    "trusted": false
   },
   "cell_type": "code",
   "source": "",
   "execution_count": null,
   "outputs": []
  },
  {
   "metadata": {
    "trusted": false
   },
   "cell_type": "code",
   "source": "",
   "execution_count": null,
   "outputs": []
  },
  {
   "metadata": {
    "trusted": false
   },
   "cell_type": "code",
   "source": "",
   "execution_count": null,
   "outputs": []
  },
  {
   "metadata": {
    "trusted": false
   },
   "cell_type": "code",
   "source": "",
   "execution_count": null,
   "outputs": []
  },
  {
   "metadata": {
    "trusted": false
   },
   "cell_type": "code",
   "source": "",
   "execution_count": null,
   "outputs": []
  },
  {
   "metadata": {
    "trusted": false
   },
   "cell_type": "code",
   "source": "\"\"\"\nProblem: 635\nWrite a program to create a dictionary and retrieve a list of its keys.\n\"\"\"\n\ndef get_keys_from_dictionary(dic):\n\n    return list(dic.keys())\n\nexample_dict = {\n    \"name\": \"Alice\",\n    \"age\": 30,\n    \"city\": \"New York\"\n}\n\nkeys = get_keys_from_dictionary(example_dict)\nprint(keys)\n\n\"\"\"\nProblem: 636\nWrite a function that takes a dictionary and returns a list of keys that have values greater than 10.\n\"\"\"\n\ndef dic_keys(dic):\n    result = []\n    for key, value in dic.items():\n        if value > 10:\n            result.append(key)\n    return result\n\ndic = {\"a\": 5, \"b\": 34, \"c\": 67, \"d\": 9}\nprint(dic_keys(dic))\n\n\"\"\"\nProblem: 637\nCreate a dictionary of fruits with their prices, and print all the keys.\n\"\"\"\n\ndef print_fruit_keys(fruit_prices):\n    return list(fruit_prices.keys())\n    \nfruit_prices = {\n    \"apple\": 1.2,\n    \"banana\": 0.5,\n    \"orange\": 0.75,\n    \"grape\": 2.0\n}\nprint(print_fruit_keys(fruit_prices))\n\n\"\"\"\nProblem: 638\nWrite a program to find the maximum key in a dictionary.\n\"\"\"\n\ndef max_key(dic):\n    return max(dic.keys())\n\nexample_dict = {\n    1: \"apple\",\n    3: \"banana\",\n    5: \"cherry\",\n    2: \"date\"\n}\nprint(max_key(example_dict))\n\n\"\"\"\nProblem: 639\nCreate a dictionary of names and ages, and return the keys sorted by age.\n\"\"\"\n\ndef name_age(dic):\n    \n    def sort_key(name):\n        return dic[name]\n    \n    sorted_keys = sorted(dic.keys(), key=sort_key)\n    \n    return sorted_keys\n\ndic = {\"Natty\": 78, \"Bob\": 45}\nprint(name_age(dic))\n\n\n\"\"\"\nProblem: 640\nWrite a function that accepts a dictionary and returns the keys as a single concatenated string.\n\"\"\"\n\ndef concatenate_keys(dic):\n    result = \"\"\n    for key in dic.keys():\n        result += str(key)\n    return result\n    \ndic = {1: 456, 2: 5566, 3: 566}    \nprint(concatenate_keys(dic))\n\n\"\"\"\nProblem: 641\nCreate a dictionary of countries and their capitals, and print each key with its corresponding value.\n\"\"\"\n\ndef print_countries_and_capitals(dic):\n    for country, capital in dic.items():\n        print(f\"{country}: {capital}\")\n\ncountries_capitals = {\n    \"USA\": \"Washington, D.C.\",\n    \"France\": \"Paris\",\n    \"Japan\": \"Tokyo\",\n    \"Germany\": \"Berlin\",\n    \"India\": \"New Delhi\"\n}\nprint_countries_and_capitals(countries_capitals)\n\n\"\"\"\nProblem: 642\nWrite a program to create a dictionary and count how many keys it has.\n\"\"\"\n\ndef count_key(dic):\n    count = 0\n    for key in dic.keys():\n        count += 1\n    return count\n\ndic = {\"a\":1, \"b\": 2, \"c\": 3}\nprint(count_key(dic))\n\n\"\"\"\nProblem: 643\nWrite a function that takes a dictionary and returns only the keys that start with a specific letter.\n\"\"\"\n\ndef count_key(dic, letter):\n    result = []\n    for key in dic.keys():\n        if key.startswith(letter):\n            result.append(key)\n    return result\n\ndic = {\"apple\": 1, \"banana\": 2, \"apricot\": 3, \"berry\": 4}\nprint(count_key(dic, 'a'))\n\n\"\"\"\nProblem: 644\nCreate a dictionary of students and their grades, and print the keys sorted alphabetically.\n\"\"\"\n\ndef sorted_students_grades(dic):\n    return sorted(dic.keys())\n\nstudents_grades = {\n    \"Alice\": 90,\n    \"Bob\": 85,\n    \"Charlie\": 95,\n    \"David\": 88\n}\nprint(sorted_students_grades(students_grades))\n\n\"\"\"\nProblem: 645\nWrite a program to create a dictionary from two lists: one for keys and one for values.\n\"\"\"\n\ndef list_dictionary(lst1, lst2):\n    dic = {}\n    \n    for key, value in zip(lst1, lst2):\n        dic[key] = value \n    \n    return dic\n\nlst1 = [1, 2, 3]    \nlst2 = [\"goat\", \"boat\", \"soap\"]    \nprint(list_dictionary(lst1, lst2))\n\n\"\"\"\nProblem: 646\nCreate a dictionary of colors and their hexadecimal values, and print the keys in reverse order.\n\"\"\"\n\ndef reverse_keys(dic):\n    return list(dic.keys())[::-1] \n\ncolors = {\n    \"red\": \"#FF0000\",\n    \"green\": \"#00FF00\",\n    \"blue\": \"#0000FF\",\n    \"yellow\": \"#FFFF00\"\n}\nprint(reverse_keys(colors))\n\n\"\"\"\nProblem: 647\nWrite a function that returns the first key in a dictionary.\n\"\"\"\n\ndef first_key(dic):\n    return next(iter(dic))  \n\nexample_dict = {\"Nat\": 90, \"Xav\": 70, \"Zac\": 60}\nprint(first_key(example_dict))\n\n\"\"\"\nProblem: 648\nCreate a dictionary representing a shopping cart, and print the keys of the items in the cart.\n\"\"\"\n\ndef shopping_cart_items(cart):\n    for item in cart.keys():\n        \n        print(item)\n\ncart = {\n    \"apple\": 3,\n    \"banana\": 6,\n    \"orange\": 4,\n    \"milk\": 1\n}\nshopping_cart_items(cart)\n\n\"\"\"\nProblem: 649\nWrite a program that checks if a specific key exists in a dictionary.\n\"\"\"\n\ndef check_key_exists(dic, key):\n    if key in dic:\n        return True\n    else:\n        return False\n\nexample_dict = {\"apple\": 3, \"banana\": 6, \"orange\": 4, \"milk\": 1}\n\nkey_to_check = \"banana\"\nprint(check_key_exists(example_dict, key_to_check))  # Output: True\n\nkey_to_check = \"bread\"\nprint(check_key_exists(example_dict, key_to_check))  # Output: False\n\n\"\"\"\nProblem: 650\nCreate a dictionary of items and their quantities, and print keys with quantities greater than 5.\n\"\"\"\n\ndef print_keys_greater_than_five(dic):\n    for item, quantity in dic.items():\n        if quantity > 5:\n            print(item)\n            \nitems_dict = {\n    \"apple\": 3,\n    \"banana\": 6,\n    \"orange\": 4,\n    \"milk\": 8,\n    \"bread\": 2,\n    \"eggs\": 12\n}\nprint_keys_greater_than_five(items_dict)\n\n\"\"\"\nProblem: 651\nWrite a function that accepts a dictionary and returns a list of keys that are strings.\n\"\"\"\n\ndef returns_strings(dic):\n    result = []\n    for key in dic.keys():\n        if isinstance(key, str):\n            result.append(key)\n    return result\n\nexample_dict = {\"Nat\": 90, 56: 70, \"Zac\": 60, 56: 56}\nprint(returns_strings(example_dict))\n\n\"\"\"\nProblem: 652\nCreate a dictionary of sports and their popularity rankings, and return the keys sorted by ranking.\n\"\"\"\n\ndef sports_by_popularity(sports_dict):\n\n    def get_ranking(sport):\n        return sports_dict[sport]\n\n    return sorted(sports_dict, key=get_ranking)\n\nsports_dict = {\n    \"Soccer\": 1,\n    \"Basketball\": 3,\n    \"Cricket\": 2,\n    \"Tennis\": 4\n}\nprint(sports_by_popularity(sports_dict)) \n\n\"\"\"\nProblem: 653\nWrite a program that retrieves keys from a dictionary that are of type integer.\n\"\"\"\n\ndef sports_by_popularity(sports_dict):\n\n    def get_ranking(sport):\n        return sports_dict[sport]\n\n    return sorted(sports_dict, key=get_ranking)\n\nsports_dict = {\n    \"Soccer\": 1,\n    \"Basketball\": 3,\n    \"Cricket\": 2,\n    \"Tennis\": 4\n}\nprint(sports_by_popularity(sports_dict)) \n\n\"\"\"\nProblem: 654\nCreate a dictionary of books and their authors, and print the keys formatted as a numbered list.\n\"\"\"\n\ndef books_authors(dic):\n    for index, book in enumerate(dic.keys(), start=1):\n        print(f\"{index}. {book}\")\n\ndic = {\n    \"To Kill a Mockingbird\": \"Harper Lee\",\n    \"1984\": \"George Orwell\",\n    \"The Great Gatsby\": \"F. Scott Fitzgerald\",\n    \"Pride and Prejudice\": \"Jane Austen\",\n    \"Moby-Dick\": \"Herman Melville\"\n}\nbooks_authors(dic)\n\n\"\"\"\nProblem: 655\nWrite a function that takes a dictionary and returns a list of keys that are palindromes.\n\"\"\"\n\ndef palindromic_keys(dic):\n    result = []\n    for key in dic.keys():\n        if key == key[::-1]: \n            result.append(key)\n    return result\n\nexample_dict = {\n    \"madam\": 1,\n    \"racecar\": 2,\n    \"hello\": 3,\n    \"world\": 4,\n    \"level\": 5\n}\nprint(palindromic_keys(example_dict))\n\n\"\"\"\nProblem: 656\nCreate a dictionary of pets and their owners, and print all the keys that contain the letter “o”.\n\"\"\"\n\ndef pet_owners(dic):\n    result = []\n    for key in dic.keys():\n        if \"o\" in key: \n            result.append(key)\n    return result\n\ndic = {\n    \"Boudy\": \"Alice\",\n    \"Mittens\": \"Bob\",\n    \"Charlie\": \"Catherine\",\n    \"Monty\": \"David\",\n    \"Bella\": \"Eva\"\n}\nprint(pet_owners(dic))\n\ndef pet_owners(dic):\n    result = []\n    for key in dic.keys():\n        for char in key:\n            if char == \"o\":\n                result.append(key)\n    return result\n    \ndic = {\n    \"Boudy\": \"Alice\",\n    \"Mittens\": \"Bob\",\n    \"Charlie\": \"Catherine\",\n    \"Monty\": \"David\",\n    \"Bella\": \"Eva\"\n}\nprint(pet_owners(dic))\n\n\"\"\"\nProblem: 657\nWrite a program that counts how many keys in a dictionary are of type tuples.\n\"\"\"\n\ndef count_tuple_keys(dic):\n    count = 0\n    for key in dic.keys():\n        if isinstance(key, tuple):\n            count += 1\n    return count\n\ndic = {\n    (1, 2): \"tuple_key_1\",\n    \"string_key\": \"value1\",\n    (3, 4): \"tuple_key_2\",\n    3: \"integer_key\"\n}\nprint(count_tuple_keys(dic)) \n\n\"\"\"\nProblem: 658\nCreate a dictionary of movies and their release years, and return the keys as a sorted list.\n\"\"\"\n\ndef movies(dic):\n    return sorted(dic.keys())\n\ndic = {\n    \"The Shawshank Redemption\": 1994,\n    \"The Godfather\": 1972,\n    \"The Dark Knight\": 2008,\n    \"Pulp Fiction\": 1994,\n    \"Forrest Gump\": 1994,\n    \"Inception\": 2010,\n    \"Fight Club\": 1999,\n    \"The Matrix\": 1999,\n    \"Gladiator\": 2000,\n    \"The Lord of the Rings: The Return of the King\": 2003\n}\nprint(movies(dic))\n\n\"\"\"\nProblem: 659\nWrite a function that returns the keys of a dictionary whose values are lists.\n\"\"\"\n\ndef keys_with_list_values(dic):\n    result = []\n    for key, value in dic.items():\n        if isinstance(value, list):\n            result.append(value)\n    return result\n\ndic = {\n    \"fruits\": [\"apple\", \"banana\", \"cherry\"],\n    \"vegetable\": \"carrot\",\n    \"numbers\": [1, 2, 3],\n    \"color\": \"blue\"\n}\nprint(keys_with_list_values(dic))\n\n\"\"\"\nProblem: 660\nCreate a dictionary of car brands and their models, and print the keys in a formatted manner.\n\"\"\"\n\ndef print_car_brands(dic):\n    print(\"Car Brands:\")\n    for index, brand in enumerate(dic.keys(), start=1):\n        print(f\"{index}. {brand}\")\n\ncar_brands = {\n    \"Toyota\": [\"Camry\", \"Corolla\", \"Prius\"],\n    \"Ford\": [\"Mustang\", \"F-150\", \"Explorer\"],\n    \"Honda\": [\"Civic\", \"Accord\", \"CR-V\"],\n    \"Chevrolet\": [\"Malibu\", \"Impala\", \"Silverado\"],\n}\nprint_car_brands(car_brands)\n\n\"\"\"\nProblem: 661\nWrite a program that retrieves the second key from a dictionary.\n\"\"\"\n\ndef second_key(dic):\n    keys_list = list(dic.keys())\n    return keys_list[1] if len(keys_list) > 1 else None\n\ndic = {\"hope\": 12, \"dispel\": 23, \"faith\": 34}\nprint(second_key(dic))\n\ndef second_key(dic):\n    return list(dic.keys())[1]\n  \n\ndic = {\"hope\": 12, \"dispel\": 23, \"faith\": 34}\nprint(second_key(dic))\n\n\"\"\"\nProblem: 662\nCreate a dictionary of temperatures and their units, and return the keys as uppercase strings.\n\"\"\"\n\ndef temperature(dic):\n    upper_keys = []\n    for key in dic.keys():\n        upper_keys.append(key.upper())\n    return upper_keys\n\ndic = {\n    \"Celsius\": [0, 20, 37, 100],\n    \"Fahrenheit\": [32, 68, 98.6, 212],\n    \"Kelvin\": [273.15, 293.15, 310.15, 373.15]\n}\nprint(temperature(dic))\n\n\"\"\"\nProblem: 663\nWrite a function that takes a dictionary and returns keys that are found in a given list.\n\"\"\"\n\ndef keys_in_list(dic, given_list):\n    result = []\n    for key in dic.keys():\n        if key in given_list:\n            result.append(key)\n    return result\n\ndic = {\n    \"apple\": 1,\n    \"banana\": 2,\n    \"cherry\": 3,\n    \"date\": 4\n}\n\ngiven_list = [\"banana\", \"date\", \"grape\"]\nprint(keys_in_list(dic, given_list))\n\n\"\"\"\nProblem: 664\nCreate a dictionary of electronic devices and their prices, and print all keys with a price less than $100.\n\"\"\"\n\ndevices = {\n    \"Phone\": 999,\n    \"Headphones\": 50,\n    \"Keyboard\": 80,\n    \"Mouse\": 25,\n    \"Charger\": 15\n}\n\nfor device, price in devices.items():\n    if price < 100:\n        print(device)\n\n\"\"\"\nProblem: 665\nWrite a function that takes a dictionary and returns a list of keys that have values greater than 10.\n\"\"\"\n\ndef keys_with_values_greater_than_10(dic):\n    result = []\n    for key in dic.keys(): \n        if dic[key] > 10: \n            result.append(key)\n    return result\n\ndic = {\"Sam\": 5, \"Chris\": 34, \"Simon\": 12, \"Anna\": 9}\nprint(keys_with_values_greater_than_10(dic)) \n\ndef get_dict_keys(dic):\n    result = []\n    for key, value in dic.items():\n        if value > 10:\n            result.append(key)\n    return result\n\nmy_dict = {'apple': 30, 'banana': 50, 'cherry': 2, 'date': 7}\nprint(get_dict_keys(my_dict))\n\n\"\"\"\nProblem: 666\nCreate a dictionary of fruits with their prices, and print all the keys. Use key().\n\"\"\"\n\ndef print_fruit_keys(fruits):\n    \n    for key in fruits.keys():\n        print(key)\n\nfruits = {\n    \"Apple\": 3,\n    \"Banana\": 1,\n    \"Mango\": 2,\n    \"Orange\": 4\n}\nprint_fruit_keys(fruits)\n\n\"\"\"\nProblem: 667\nCreate a dictionary of names and ages, and return the keys sorted by age.\n\"\"\"\n\ndef name_age(dic):\n    \n    def sort_age(x):\n        for keys, values in x:\n            return values\n    return sorted(dic, key=sort_age)\n    \n\ndic = {\"Tom\": 15, \"Lucka\": 66, \"Bob\": 8}    \nprint(name_age(dic))\n\n\"\"\"\nProblem: 668\nWrite a function that accepts a dictionary and returns the keys as a single concatenated string.\n\"\"\"\n\ndef concatenate(dic):\n    result = \"\"\n    for key in dic.keys():\n        result += str(key)\n    return result\n        \ndic = {1: \"one\", 2: \"two\", 3: \"three\", 4: \"four\"}    \nprint(concatenate(dic))\n\n\"\"\"\nProblem: 669\nCreate a dictionary of countries and their capitals, and print each key with its corresponding value.\n\"\"\"\n\ndef countries_capitals(dic):\n    result = \"\"\n    for key, value in dic.items():\n        result += f\"{key}: {value}\\n\" \n    return result\n    \ndic = {\n    \"United States\": \"Washington, D.C.\",\n    \"Canada\": \"Ottawa\",\n    \"United Kingdom\": \"London\",\n    \"France\": \"Paris\",\n    \"Germany\": \"Berlin\",\n    \"Japan\": \"Tokyo\",\n    \"Australia\": \"Canberra\",\n    \"India\": \"New Delhi\",\n    \"Brazil\": \"Brasilia\",\n    \"South Africa\": \"Pretoria\"\n}\nprint(countries_capitals(dic))\n\n\"\"\"\nProblem: 670\nWrite a program to create a dictionary and count how many keys it has.\n\"\"\"\n\ndef count_keys(dic):\n    return len(dic)\n\ndic = {\n    \"United States\": \"Washington, D.C.\",\n    \"Canada\": \"Ottawa\",\n    \"United Kingdom\": \"London\",\n    \"France\": \"Paris\",\n    \"Germany\": \"Berlin\"\n}\nprint(count_keys(dic))\n\n\"\"\"\nProblem: 671\nWrite a function that takes a dictionary and returns only the keys that start with a specific letter.\n\"\"\"\n\ndef keys_starting_with(dic, letter):\n    result = []\n    for key in dic.keys():\n        if key.startswith(letter):\n            result.append(key)\n    return result\n\ndic = {\n    \"apple\": 1,\n    \"banana\": 2,\n    \"apricot\": 3,\n    \"berry\": 4,\n    \"carrot\": 5\n}\nprint(keys_starting_with(dic, \"a\"))\n\n\"\"\"\nProblem: 672\nCreate a dictionary of students and their grades, and print the keys sorted alphabetically.\n\"\"\"\n\ndef students_grades(dic):\n    sorted_keys = sorted(dic.keys())\n\n    for key in sorted_keys:\n        print(key)\n\ndic = {\n    \"John\": 85,\n    \"Alice\": 92,\n    \"Bob\": 78,\n    \"Diana\": 88,\n    \"Charlie\": 90\n}\nstudents_grades(dic)\n\n\"\"\"\nProblem: 673\nWrite a program to create a dictionary from two lists: one for keys and one for values.\n\"\"\"\n\ndef two_lst(lst1, lst2):\n    result = {}\n    for key, value in zip(lst1, lst2):\n        result[key] = value\n        \n    return result\n    \nlst1 = [1, 2, 3, 4]\nlst2 = [\"sand\", \"rock\", \"wood\", \"stone\"]\nprint(two_lst(lst1, lst2))\n\n\"\"\"\nProblem: 674\nCreate a dictionary of colors and their hexadecimal values, and print the keys in reverse order.\n\"\"\"\n\ndef colors_hex(dic):\n    keys_in_reverse = list(dic.keys())[::-1]\n    \n    for key in keys_in_reverse:\n        print(key)\n\ncolors_dict = {\n    \"Red\": \"#FF0000\",\n    \"Green\": \"#00FF00\",\n    \"Blue\": \"#0000FF\",\n    \"Yellow\": \"#FFFF00\",\n    \"Black\": \"#000000\",\n    \"White\": \"#FFFFFF\"\n}\ncolors_hex(colors_dict)\n\n\"\"\"\nProblem: 675\nWrite a function that returns the first key in a dictionary.\n\"\"\"\n\ndef first_key(dic):\n    return next(iter(dic))\n    \nexample_dict = {\n    \"apple\": 1,\n    \"banana\": 2,\n    \"cherry\": 3\n}\nprint(first_key(example_dict))\n\n\"\"\"\nProblem: 676\nCreate a dictionary representing a shopping cart, and print the keys of the items in the cart.\n\"\"\"\n\ndef print_cart_items(cart):\n    for item in cart.keys():\n        print(item)\n\nshopping_cart = {\n    \"apple\": 3,\n    \"banana\": 2,\n    \"bread\": 1,\n    \"milk\": 2\n}\nprint_cart_items(shopping_cart)\n\n\"\"\"\nProblem: 677\nWrite a program that checks if a specific key exists in a dictionary.\n\"\"\"\n\ndef check_key_exists(dic, key):\n    if key in dic:\n        return True\n    else:\n        return False\n\nexample_dict = {\n    \"name\": \"Alice\",\n    \"age\": 30,\n    \"city\": \"New York\"\n}\nkey_to_check = \"age\"\n\nif check_key_exists(example_dict, key_to_check):\n    print(f\"The key '{key_to_check}' exists in the dictionary.\")\nelse:\n    print(f\"The key '{key_to_check}' does not exist in the dictionary.\")\n\n\"\"\"\nProblem: 678\nCreate a dictionary of items and their quantities, and print keys with quantities greater than 5.\n\"\"\"\n\ndef items_with_high_quantity(dic):\n    result = []\n    for item, quantity in dic.items():\n        if quantity > 5:\n            result.append(item)\n    return result\n\ninventory = {\n    \"apples\": 10,\n    \"bananas\": 3,\n    \"oranges\": 7,\n    \"pears\": 5,\n    \"grapes\": 12\n}\nhigh_quantity_items = items_with_high_quantity(inventory)\nprint(\"Items with quantities greater than 5:\")\nfor item in high_quantity_items:\n    print(item)\n\n\"\"\"\nProblem: 679\nWrite a function that accepts a dictionary and returns a list of keys that are strings.\n\"\"\"\n\ndef string_keys(dic):\n    result = []\n    for key in dic.keys():\n        if isinstance(key, str): \n            result.append(key)\n    return result\n\nexample_dict = {\n    \"name\": \"Alice\",\n    42: \"answer\",\n    \"city\": \"Wonderland\",\n    (1, 2): \"tuple_key\",\n    \"age\": 30\n}\nstring_keys_list = string_keys(example_dict)\nprint(\"Keys that are strings:\", string_keys_list)\n\n\"\"\"\nProblem: 680\nCreate a dictionary of sports and their popularity rankings, and return the keys sorted by ranking.\n\"\"\"\n\ndef sports_by_popularity(sports_dict):\n    def get_ranking(sport):\n        return sports_dict[sport]\n\n    return sorted(sports_dict.keys(), key=get_ranking)\n\nsports_dict = {\n    \"Soccer\": 1,\n    \"Basketball\": 3,\n    \"Cricket\": 2,\n    \"Tennis\": 4\n}\nprint(sports_by_popularity(sports_dict))\n\n\"\"\"\nProblem: 681\nWrite a program that retrieves keys from a dictionary that are of type integer.\n\"\"\"\n\ndef retrieve_integer_keys(dic):\n    result = []\n    for key in dic.keys():\n        if isinstance(key, int):\n            result.append(key)\n    return result\n\nexample_dict = {\n    1: \"one\",\n    \"two\": 2,\n    3: \"three\",\n    \"four\": 4\n}\nprint(retrieve_integer_keys(example_dict))\n\n\"\"\"\nProblem: 682\nCreate a dictionary of books and their authors, and print the keys formatted as a numbered list.\n\"\"\"\n\ndef print_numbered_books(dic):\n    for index, key in enumerate(dic.keys(), start=1):\n        print(f\"{index}. {key}\")\n\nbooks = {\n    \"To Kill a Mockingbird\": \"Harper Lee\",\n    \"1984\": \"George Orwell\",\n    \"The Great Gatsby\": \"F. Scott Fitzgerald\",\n    \"Pride and Prejudice\": \"Jane Austen\",\n    \"Moby-Dick\": \"Herman Melville\"\n}\nprint_numbered_books(books)\n\n\"\"\"\nProblem: 683\nWrite a function that takes a dictionary and returns a list of keys that are palindromes.\n\"\"\"\n\ndef palindrome_keys(dic):\n    result = []\n    for key in dic.keys():\n        if str(key) == str(key)[::-1]:\n            result.append(key)\n    return result\n\nexample_dict = {\n    \"racecar\": 1,\n    \"level\": 2,\n    \"hello\": 3,\n    \"madam\": 4,\n    \"world\": 5\n}\nprint(palindrome_keys(example_dict))\n\n\"\"\"\nProblem: 684\nCreate a dictionary of pets and their owners, and print all the keys that contain the letter “o”.\n\"\"\"\n\ndef pets_with_o(dic):\n    result = []\n    for key in dic.keys():\n        if 'o' in key:\n            result.append(key)\n    return result\n\npets_dict = {\n    \"Boudy\": \"Alice\",\n    \"Mittens\": \"Bob\",\n    \"Charlie\": \"Catherine\",\n    \"Monty\": \"David\",\n    \"Bella\": \"Eva\"\n}\nprint(pets_with_o(pets_dict))\n\n\"\"\"\nProblem: 685\nWrite a program that counts how many keys in a dictionary are of type list.\n\"\"\"\n\ndef count_list_keys(dic):\n    count = 0\n    for key in dic.keys():\n        if isinstance(key, list):\n            count += 1\n    return count\n\nexample_dict = {\n    (1, 2): \"tuple_key\",\n    \"string_key\": \"value1\",\n    3: \"integer_key\",\n}\nprint(count_list_keys(example_dict))\n\n\"\"\"\nProblem: 686\nCreate a dictionary of movies and their release years, and return the keys as a sorted list.\n\"\"\"\n\ndef sorted_movie_titles(movies):\n    return sorted(movies.keys())\n\nmovies_dict = {\n    \"The Shawshank Redemption\": 1994,\n    \"The Godfather\": 1972,\n    \"The Dark Knight\": 2008,\n    \"Pulp Fiction\": 1994,\n    \"Forrest Gump\": 1994,\n}\nprint(sorted_movie_titles(movies_dict))\n\n\"\"\"\nProblem: 687\nWrite a function that returns the keys of a dictionary whose values are lists.\n\"\"\"\n\ndef keys_with_list_values(dic):\n    result = []\n    for key, value in dic.items():\n        if isinstance(value, list):\n            result.append(key)\n    return result\n\nexample_dict = {\n    \"fruits\": [\"apple\", \"banana\"],\n    \"vegetable\": \"carrot\",\n    \"grains\": [\"rice\", \"wheat\"]\n}\nprint(keys_with_list_values(example_dict))\n\n\"\"\"\nProblem: 688\nCreate a dictionary of car brands and their models, and print the keys in a formatted manner.\n\"\"\"\n\ndef print_car_brands(dic):\n    for brand in dic.keys():\n        print(f\"Brand: {brand}\")\n\ncar_brands = {\n    \"Toyota\": [\"Camry\", \"Corolla\", \"RAV4\"],\n    \"Honda\": [\"Civic\", \"Accord\", \"CR-V\"],\n    \"Ford\": [\"F-150\", \"Mustang\", \"Explorer\"]\n}\nprint_car_brands(car_brands)\n\n\"\"\"\nProblem: 689\nWrite a program that retrieves the second key from a dictionary.\n\"\"\"\n\ndef second_key(dic):\n    return list(dic.keys())[1]\n\nexample_dict = {\"apple\": 1, \"banana\": 2, \"cherry\": 3}\nprint(second_key(example_dict))\n\n\"\"\"\nProblem: 690\nCreate a dictionary of temperatures and their units, and return the keys as uppercase strings.\n\"\"\"\n\ndef uppercase_keys(dic):\n    result = []\n    for key in dic.keys():\n        result.append(key.upper())\n    return result\n\ndic = {\n    \"Celsius\": [0, 20, 37, 100],\n    \"Fahrenheit\": [32, 68, 98.6, 212],\n    \"Kelvin\": [273.15, 293.15, 310.15, 373.15]\n}\nprint(uppercase_keys(dic))\n\n\"\"\"\nProblem: 691\nWrite a program to find the maximum key in a dictionary.\n\"\"\"\n\ndef key_max(dic):\n    \n    return max(dic)\n    \ndic = {\"banana\": 1.50, \"Apple\": 2, \"apricot\": 3.5}    \nprint(key_max(dic))\n\ndef key_max(dic):\n    max_key = None\n    max_key_lower = None\n    \n    for key in dic:\n\n        key_lower = key.lower()\n        \n        if max_key_lower is None or key_lower > max_key_lower:\n            max_key = key\n            max_key_lower = key_lower\n    \n    return max_key\n\ndic = {\"banana\": 1.50, \"Apple\": 2, \"apricot\": 3.5}\n\nprint(key_max(dic))\n",
   "execution_count": null,
   "outputs": []
  }
 ],
 "metadata": {
  "kernelspec": {
   "name": "python3",
   "display_name": "Python 3",
   "language": "python"
  },
  "language_info": {
   "name": "python",
   "version": "3.10.4",
   "mimetype": "text/x-python",
   "codemirror_mode": {
    "name": "ipython",
    "version": 3
   },
   "pygments_lexer": "ipython3",
   "nbconvert_exporter": "python",
   "file_extension": ".py"
  }
 },
 "nbformat": 4,
 "nbformat_minor": 2
}