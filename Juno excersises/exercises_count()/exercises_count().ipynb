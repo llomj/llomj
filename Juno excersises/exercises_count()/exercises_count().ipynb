{
 "cells": [
  {
   "metadata": {
    "trusted": false
   },
   "cell_type": "code",
   "source": "\"\"\"\n- **Definition**:\n  - The `count()` method is a built-in function available for certain data types in Python, specifically strings, lists, and tuples. It returns the number of occurrences of a specified value within the object.\n\n- **Purpose**:\n  - The primary purpose of the `count()` method is to enable users to easily determine how many times a specific element appears in a sequence, which can be useful for data analysis, validation, and other operations where frequency of elements matters.\n\n- **Syntax**:\n  - The syntax for the `count()` method varies slightly depending on the data type, but the general form is:\n  \n    ```python\n    sequence.count(value)\n    ```\n\n    - **Parameters**:\n      - `value`: This is the element you want to count in the sequence. It can be of any data type (e.g., string, integer, etc.) depending on the context.\n\n    - **Returns**:\n      - The method returns an integer representing the number of times the specified `value` appears in the sequence. If the value is not found, it returns `0`.\n\n- **Usage with Different Data Types**:\n\n  - **1. Strings**:\n    - The `count()` method for strings counts how many times a substring appears within the string.\n    - **Example**:\n      ```python\n      text = \"hello world\"\n      count_h = text.count(\"h\")  # Returns 1\n      count_o = text.count(\"o\")  # Returns 2\n      count_z = text.count(\"z\")  # Returns 0\n      ```\n\n  - **2. Lists**:\n    - For lists, `count()` counts how many times an element appears in the list.\n    - **Example**:\n      ```python\n      numbers = [1, 2, 3, 1, 4, 1]\n      count_1 = numbers.count(1)  # Returns 3\n      count_5 = numbers.count(5)  # Returns 0\n      ```\n\n  - **3. Tuples**:\n    - Similar to lists, `count()` for tuples counts the occurrences of a specified element.\n    - **Example**:\n      ```python\n      items = (1, 2, 3, 1, 4, 1)\n      count_1 = items.count(1)  # Returns 3\n      count_5 = items.count(5)  # Returns 0\n      ```\n\n- **Limitations**:\n  - The `count()` method is case-sensitive when applied to strings. For example, `\"Hello\".count(\"h\")` returns `0` because 'H' and 'h' are treated as different characters.\n  - The method does not support counting non-hashable types, such as dictionaries, when used in a list or tuple.\n\n- **Performance Considerations**:\n  - The time complexity of the `count()` method is O(n), where n is the number of elements in the sequence. This means that the method may take longer to execute on larger sequences, as it needs to traverse the entire sequence to count occurrences.\n\n- **Common Scenarios**:\n  - The `count()` method is often used in data analysis tasks where understanding the frequency of certain elements is important.\n  - It can also be useful in applications that involve user input validation, allowing you to ensure that specific inputs meet certain criteria based on their occurrence.\n\n- **Conclusion**:\n  - In summary, the `count()` method is a versatile and straightforward tool in Python for counting occurrences of specific elements in sequences like strings, lists, and tuples. Its simplicity and ease of use make it an essential function for data manipulation and analysis, contributing to the language's expressiveness and flexibility.\n\n\"\"\"",
   "execution_count": null,
   "outputs": []
  },
  {
   "metadata": {
    "trusted": false
   },
   "cell_type": "code",
   "source": "",
   "execution_count": null,
   "outputs": []
  },
  {
   "metadata": {
    "trusted": false
   },
   "cell_type": "code",
   "source": "",
   "execution_count": null,
   "outputs": []
  },
  {
   "metadata": {
    "trusted": false
   },
   "cell_type": "code",
   "source": "",
   "execution_count": null,
   "outputs": []
  },
  {
   "metadata": {
    "trusted": false
   },
   "cell_type": "code",
   "source": "",
   "execution_count": null,
   "outputs": []
  },
  {
   "metadata": {
    "trusted": false
   },
   "cell_type": "code",
   "source": "",
   "execution_count": null,
   "outputs": []
  },
  {
   "metadata": {
    "trusted": false
   },
   "cell_type": "code",
   "source": "",
   "execution_count": null,
   "outputs": []
  },
  {
   "metadata": {
    "trusted": false
   },
   "cell_type": "code",
   "source": "",
   "execution_count": null,
   "outputs": []
  },
  {
   "metadata": {
    "trusted": false
   },
   "cell_type": "code",
   "source": "",
   "execution_count": null,
   "outputs": []
  },
  {
   "metadata": {
    "trusted": false
   },
   "cell_type": "code",
   "source": "",
   "execution_count": null,
   "outputs": []
  },
  {
   "metadata": {
    "trusted": false
   },
   "cell_type": "code",
   "source": "",
   "execution_count": null,
   "outputs": []
  },
  {
   "metadata": {
    "trusted": false
   },
   "cell_type": "code",
   "source": "",
   "execution_count": null,
   "outputs": []
  },
  {
   "metadata": {
    "trusted": false
   },
   "cell_type": "code",
   "source": "",
   "execution_count": null,
   "outputs": []
  },
  {
   "metadata": {
    "trusted": false
   },
   "cell_type": "code",
   "source": "",
   "execution_count": null,
   "outputs": []
  },
  {
   "metadata": {
    "trusted": false
   },
   "cell_type": "code",
   "source": "",
   "execution_count": null,
   "outputs": []
  },
  {
   "metadata": {
    "trusted": false
   },
   "cell_type": "code",
   "source": "",
   "execution_count": null,
   "outputs": []
  },
  {
   "metadata": {
    "trusted": false
   },
   "cell_type": "code",
   "source": "",
   "execution_count": null,
   "outputs": []
  },
  {
   "metadata": {
    "trusted": false
   },
   "cell_type": "code",
   "source": "",
   "execution_count": null,
   "outputs": []
  },
  {
   "metadata": {
    "trusted": false
   },
   "cell_type": "code",
   "source": "",
   "execution_count": null,
   "outputs": []
  },
  {
   "metadata": {
    "trusted": false
   },
   "cell_type": "code",
   "source": "",
   "execution_count": null,
   "outputs": []
  },
  {
   "metadata": {
    "trusted": false
   },
   "cell_type": "code",
   "source": "",
   "execution_count": null,
   "outputs": []
  },
  {
   "metadata": {
    "trusted": false
   },
   "cell_type": "code",
   "source": "",
   "execution_count": null,
   "outputs": []
  },
  {
   "metadata": {
    "trusted": false
   },
   "cell_type": "code",
   "source": "",
   "execution_count": null,
   "outputs": []
  },
  {
   "metadata": {
    "trusted": false
   },
   "cell_type": "code",
   "source": "",
   "execution_count": null,
   "outputs": []
  },
  {
   "metadata": {
    "trusted": false
   },
   "cell_type": "code",
   "source": "",
   "execution_count": null,
   "outputs": []
  },
  {
   "metadata": {
    "trusted": false
   },
   "cell_type": "code",
   "source": "",
   "execution_count": null,
   "outputs": []
  },
  {
   "metadata": {
    "trusted": false
   },
   "cell_type": "code",
   "source": "",
   "execution_count": null,
   "outputs": []
  },
  {
   "metadata": {
    "trusted": false
   },
   "cell_type": "code",
   "source": "",
   "execution_count": null,
   "outputs": []
  },
  {
   "metadata": {
    "trusted": false
   },
   "cell_type": "code",
   "source": "",
   "execution_count": null,
   "outputs": []
  },
  {
   "metadata": {
    "trusted": false
   },
   "cell_type": "code",
   "source": "",
   "execution_count": null,
   "outputs": []
  },
  {
   "metadata": {
    "trusted": false
   },
   "cell_type": "code",
   "source": "",
   "execution_count": null,
   "outputs": []
  },
  {
   "metadata": {
    "trusted": false
   },
   "cell_type": "code",
   "source": "",
   "execution_count": null,
   "outputs": []
  },
  {
   "metadata": {
    "trusted": false
   },
   "cell_type": "code",
   "source": "",
   "execution_count": null,
   "outputs": []
  },
  {
   "metadata": {
    "trusted": false
   },
   "cell_type": "code",
   "source": "",
   "execution_count": null,
   "outputs": []
  },
  {
   "metadata": {
    "trusted": false
   },
   "cell_type": "code",
   "source": "",
   "execution_count": null,
   "outputs": []
  },
  {
   "metadata": {
    "trusted": false
   },
   "cell_type": "code",
   "source": "",
   "execution_count": null,
   "outputs": []
  },
  {
   "metadata": {
    "trusted": false
   },
   "cell_type": "code",
   "source": "",
   "execution_count": null,
   "outputs": []
  },
  {
   "metadata": {
    "trusted": false
   },
   "cell_type": "code",
   "source": "",
   "execution_count": null,
   "outputs": []
  },
  {
   "metadata": {
    "trusted": false
   },
   "cell_type": "code",
   "source": "",
   "execution_count": null,
   "outputs": []
  },
  {
   "metadata": {
    "trusted": false
   },
   "cell_type": "code",
   "source": "",
   "execution_count": null,
   "outputs": []
  },
  {
   "metadata": {
    "trusted": false
   },
   "cell_type": "code",
   "source": "\"\"\"\nProblem: 535\nWrite a Python program to count the number of times the letter ‘a’ appears in a string. Use count().\n\"\"\"\n\ndef count_letter(s):\n    return s.count(\"a\")\n    \nstring = \"what going on today\"\nprint(count_letter(string))\n\n\"\"\"\nProblem: 536\nWrite a Python function to count the occurrences of the number 5 in a list of integers. Use count().\n\"\"\"\n\ndef count_number(num):\n    return num.count(5)\n\nnumber = [3, 5, 5, 35, 78]\nprint(count_number(number))\n\n\"\"\"\nProblem: 537\nWrite a Python program to count how many times the word “hello” appears in a sentence. Use count().\n\"\"\"\n\ndef count_hello(string):\n    return string.count(\"hello\")\n    \nstring = \"hello, you cunt\"\nprint(count_hello(string))\n\n\"\"\"\nProblem: 538\nWrite a function that counts how many times the character # appears in a string.  Use count().\n\"\"\"\n\ndef count(string):\n    return string.count(\"#\")\n    \nstring = \"hello, you cunt ###\"\nprint(count(string))\n\n\"\"\"\nProblem: 539\nWrite a Python program to count the occurrences of the substring “cat” in a given string. Use count().\n\"\"\"\n\ndef count_substring(s, substring=\"cat\"):\n    return s.count(substring)\n\ninput_string = \"The cat sat on the mat with another cat.\"\ncount = count_substring(input_string)\nprint(f\"The substring 'cat' occurs {count} times.\")\n\n\"\"\"\nProblem: 540\nWrite a Python function to count how many times the digit 0 appears in a list of numbers. Use count().\n\"\"\"\n\ndef count_number(num):\n    return num.count(0)\n    \nnum = [3, 5, 0, 0, 6, 0]\nprint(count_number(num))\n\n\"\"\"\nProblem: 541\nWrite a program to count the number of spaces in a given string. Use count().\n\"\"\"\n\ndef count_spaces(string):\n    return string.count(\" \")\n    \nnum = \"i'm going for a walk today\"\nprint(count_spaces(num))\n\n\"\"\"\nProblem: 542\nWrite a Python function to count the occurrences of a specific character in a string provided by the user. Use count().\n\"\"\"\n\ndef count_occurrences():\n    user_input = input(\"Type a sentence: \")\n    \n    char_to_count = input(\"Enter the character to count: \")\n    \n    if len(char_to_count) != 1:\n        print(\"Please enter exactly one character.\")\n        return\n    \n    count = user_input.count(char_to_count)\n    \n    print(f\"The character '{char_to_count}' occurs {count} times.\")\n\ncount_occurrences()\n\n\"\"\"\nProblem: 543\nWrite a Python program to count how many times a specific word appears in a text file. Use count().\n\"\"\"\n\ndef count_word_in_file(filename, word):\n    try:\n        # Open the file and read its content\n        with open(filename, 'r') as file:\n            content = file.read()\n        \n        # Count the occurrences of the specified word\n        word_count = content.count(word)\n        \n        return word_count\n    except FileNotFoundError:\n        print(f\"The file '{filename}' does not exist.\")\n        return 0\n\n# Example usage\nfilename = 'example.txt'  # Replace with your actual file name\nword_to_count = 'the'     # Replace with the word you want to count\ncount = count_word_in_file(filename, word_to_count)\nprint(f\"The word '{word_to_count}' appears {count} times in the file.\")\n\n\"\"\"\nProblem: 544\nWrite a function to count how many times the letter ‘e’ appears in a list of strings. Use count().\n\"\"\"\n\ndef count_letters(lst):\n    total_count = 0\n    \n    for word in lst:\n        total_count += word.count(\"e\")\n    return total_count\n\nlst = [\"Jonathen\", \"Nathan\", \"Netesha\"]\nprint(count_letters(lst))\n\n\"\"\"\nProblem: 545\nWrite a Python program to count the number of times a certain element appears in a list of mixed types. Use count().\n\"\"\"\n\ndef count_elements_in_lst(lst, element):\n    return lst.count(element)\n\n# Example usage\nlst = [\"tree\", \"sea\", 42, \"world\", \"sea\", 42, 42]\nelement = 42  # Element to count\nprint(count_elements_in_lst(lst, element))\n\n\"\"\"\nProblem: 546\nWrite a function to count the occurrences of the string “test” in a string where multiple “test” substrings might exist. Use count().\n\"\"\"\n\ndef count_test_occurrences(s):\n    return s.count(\"test\")\n\ns = \"This is a test. Test the function with another test. Final test.\"\nprint(count_test_occurrences(s))\n\n\"\"\"\nProblem: 547\nWrite a Python program to count how many times a specific number occurs in a list of floating-point numbers. Use count().\n\"\"\"\n\ndef count_floating_numbers(lst):\n    return float(lst.count())\n    \nlst = [2.3, 5, 6.3, 78, 0.6]\nprint(count_floating_numbers(lst))\n\n\"\"\"\nProblem: 548\nWrite a function to count the number of vowels (a, e, i, o, u) in a given string. Use count().\n\"\"\"\n\ndef count_floating_numbers(lst, number):\n    return lst.count(number)\n\nlst = [2.3, 5.0, 6.3, 78.0, 0.6, 5.0]\nnumber = 5.0\nprint(count_floating_numbers(lst, number))\n\n\"\"\"\nProblem: 549\nWrite a Python program to count the number of uppercase letters in a string. Use count().\n\"\"\"\n\ndef count_uppercase(string):\n    total_uppercase = 0\n    \n    for char in 'ABCDEFGHIJKLMNOPQRSTUVWXYZ':\n        total_uppercase += string.count(char)\n    return total_uppercase\n\nstring = \"AFHHJJ ghgghh\"\nprint(count_uppercase(string))\n\n\"\"\"\nProblem: 550\nWrite a function that counts the occurrences of a specified digit in a number. Use count().\n\"\"\"\n\ndef count_digit(num):\n    return num.count(2)\n\nnum = 1223452\nprint(count_digit(num))\n\n\"\"\"\nProblem: 551\nWrite a Python program to count how many times each letter appears in a given string. Use count().\n\"\"\"\n\ndef count_digit(num, digit):\n    return str(num).count(str(digit))\n\nnum = 1223452\ndigit = 2\nprint(count_digit(num, digit))\n\n\"\"\"\nProblem: 552\nWrite a function to count the number of times the word “Python” appears in a paragraph of text. Use count().\n\"\"\"\n\ndef count_text(string):\n    string = string.lower()\n    \n    return string.count(\"python\")\n\nstring = \"python is python in disguise\"\nprint(count_text(string))\n\n\"\"\"\nProblem: 553\nWrite a Python program to count the occurrences of a specific item in a list of dictionaries. Use count().\n\"\"\"\n\ndef count_item_in_dict_list(dict_list, item):\n    values = []\n    \n    for d in dict_list:\n    \n        for val in d.values():\n            values.append(val)\n\n    return values.count(item)\n\ndict_list = [\n    {\"name\": \"Alice\", \"age\": 30},\n    {\"name\": \"Bob\", \"age\": 25},\n    {\"name\": \"Alice\", \"age\": 30},\n    {\"name\": \"Charlie\", \"age\": 35}\n]\n\nitem = \"Alice\" \nprint(count_item_in_dict_list(dict_list, item))\n\n\"\"\"\nProblem: 554\nWrite a function to count how many times the letter ‘z’ appears in a list of strings. Use count().\n\"\"\"\n\ndef count_letters(lst):\n    total_count = 0\n    for string in lst:\n        total_count += string.count(\"z\")\n    return total_count\n\nlst = [\"z\", \"h\", \"z\", \"gloat\"]\nprint(count_letters(lst))\n\n\"\"\"\nProblem: 555\nWrite a Python program to count the occurrences of the character ‘*’ in a given string. Use count().\n\"\"\"\n\ndef count_asterisks(s):\n    return s.count('*')\n\ns = \"Hello *world* and *everyone*\"\nprint(count_asterisks(s))\n\n\"\"\"\nProblem: 556\nWrite a function to count how many times the substring “123” appears in a string. Use count().\n\"\"\"\n\ndef count_substring(s, substring):\n    return s.count(substring)\n\ns = \"123abc123def123\"\nsubstring = \"123\"\nprint(count_substring(s, substring))\n\n\"\"\"\nProblem: 557\nWrite a Python program to count the number of lines in a text file that contain the word “error”. Use count().\n\"\"\"\n\ndef count_lines_with_word(filename, word):\n    count = 0\n    with open(filename, 'r') as file:\n        for line in file:\n            if line.lower().count(word.lower()) > 0:\n                count += 1\n    return count\n\nfilename = 'example.txt'  # Replace with your actual file path\nword = 'error'\nprint(count_lines_with_word(filename, word))\n\n\"\"\"\nProblem: 558\nWrite a function to count the number of times a particular email domain appears in a list of email addresses. Use count().\n\"\"\"\n\ndef count_email_domain(email_list, domain):\n    \n    count = 0\n    for email in email_list:\n    \n        email_domain = email.split('@')[-1]\n        \n        if email_domain == domain:\n            count += 1\n            \n    return count\n\nemail_list = [\n    \"user1@example.com\",\n    \"user2@example.com\",\n    \"user3@sample.com\",\n    \"user4@example.com\"\n]\ndomain = \"example.com\"\nprint(count_email_domain(email_list, domain))\n\n\"\"\"\nProblem: 559\nWrite a Python program to count the occurrences of the word “happy” in a given list of sentences. Use count().\n\"\"\"\n\ndef count_word(sentences):\n    count = 0\n    for sentence in sentences:\n        count += sentence.count(\"happy\")\n    return count\n\nsentences = [\"I am happy today\", \"She looks very happy\", \"Happy times are here\", \"joy joy happy happy\"]\nprint(count_word(sentences))\n\n\"\"\"\nProblem: 560\nWrite a function to count the number of times the character ‘!’ appears in a list of strings. Use count().\n\"\"\"\n\ndef count_exclamations(lst):\n    count = 0\n    for string in lst:\n        count += string.count('!')\n    return count\n\nlst = [\"Hello!\", \"Wow! Amazing!\", \"No exclamation here\", \"Yes!\"]\nprint(count_exclamations(lst))\n\n\"\"\"\nProblem: 561\nWrite a Python program to count the number of occurrences of a specific phrase in a block of text. Use count().\n\"\"\"\n\ndef count_phrase_occurrences(text, phrase):\n    return text.count(phrase)\n\ntext = \"\"\"The quick brown fox jumps over the lazy dog. The fox is quick and clever.\nQuick thinking by the fox saved the day. Foxes are known to be quick and agile.\"\"\"\nphrase = \"quick\"\nprint(count_phrase_occurrences(text, phrase))\n\n\n\"\"\"\nProblem: 562\nWrite a function to count the number of occurrences of a word in a list of words. Use count().\n\"\"\"\n\ndef count_word_occurrences(lst, word):\n    return lst.count(word)\n\nwords = [\"apple\", \"banana\", \"apple\", \"orange\", \"banana\", \"apple\"]\nword_to_count = \"apple\"\nprint(count_word_occurrences(words, word_to_count))\n\n\"\"\"\nProblem: 563\nWrite a Python program to count how many times the letter ‘x’ appears in a list of mixed data types. Use count().\n\"\"\"\n\ndef count_x_in_mixed_list(lst):\n    count = 0\n    for item in lst:\n\n        if isinstance(item, str):\n            count += item.count('x')\n    return count\n\nmixed_list = [1, \"xylophone\", 3.5, \"example\", \"box\", 7, \"text\", [\"x\", \"x\"], \"extra\"]\nprint(count_x_in_mixed_list(mixed_list))\n\n\"\"\"\nProblem: 564\nWrite a function to count the occurrences of a specific letter in a string and return a formatted message with the result. Use count().\n\"\"\"\n\ndef count_letter_occurrences(string, letter):\n    count = string.count(letter)\n    \n    return f\"The letter '{letter}' appears {count} times in the given string.\"\n\ntext = \"This is an example sentence with several letters.\"\nletter_to_count = \"e\"\nprint(count_letter_occurrences(text, letter_to_count))\n\n\"\"\"\nProblem: 565\nSquare List Elements: Write a function that takes a list of numbers and returns a list of their squares using map().\n\"\"\"\n\ndef square_lst(lst):\n    return list(map(square, lst))\n\ndef square(num):\n    return num ** 2\n\nlst = [2, 4, 6, 8]\nprint(square_lst(lst))\n\n\"\"\"\nProblem: 566\nFilter Odd Numbers: Write a function that takes a list of numbers and returns only the odd numbers using filter().\n\"\"\"\n\ndef filter_odd_numbers(lst):\n    return list(filter(is_odd, lst))\n\ndef is_odd(x):\n    return x % 2 != 0\n\nlst = [1, 2, 3, 4, 5, 6, 7, 8, 9]\nprint(filter_odd_numbers(lst))\n\n\"\"\"\nProblem: 567\nFilter Even Numbers: Write a function that filters all even numbers from a list using filter().\n\"\"\"\n\ndef filters_even_numbers(lst):\n    return list(filter(even_num, lst))\n\ndef even_num(num):\n    if num % 2 != 0:\n        return num\n\nlst = [4, 67, 2, 78, 3, 1, 466, 7]\nprint(filters_even_numbers(lst))\n\n\"\"\"\nProblem: 568\nConvert to Uppercase: Write a function that takes a list of strings and returns the same list with each string converted to uppercase using map().\n\"\"\"\n\ndef convert_to_uppercase(lst):\n    return list(map(str.upper, lst))\n\nlst = [\"sleep\", \"walk\", \"eat\"]    \nprint(convert_to_uppercase(lst))\n\n\"\"\"\nProblem: 569\nRemove Empty Strings: Write a function that filters out empty strings from a list using filter().\n\"\"\"\n\ndef empty_strings(lst):\n    return list(filter(call_filter, lst))\n    \ndef call_filter(string):\n    return string.strip() != \"\"\n    \nlst = [\"dog\", \"  \", \"cat\"]    \nprint(empty_strings(lst))\n\n\"\"\"\nProblem: 570\nMultiply List Elements: Write a function that takes a list of numbers and returns a list where each number is multiplied by 5 using map().\n\"\"\"\n\ndef multiply_lst(lst):\n    \n    def multiply_by_five(x):\n        return x * 5\n    \n    return list(map(multiply_by_five, lst))\n\nlst = [2, 5, 20]\nprint(multiply_lst(lst))\n\n\"\"\"\nProblem: 571\nString Lengths: Write a function that takes a list of strings and returns their lengths using map().\n\"\"\"\n\ndef lst_of_string(lst):\n    \n    def len_string(word):\n        return len(word)\n    return list(map(len_string, lst))\n        \nlst = [\"hot\", \"cold\", \"giraffe\"]\nprint(lst_of_string(lst))\n\n\"\"\"\nProblem: 572\nFilter Palindromes: Write a function that filters out palindromes (words that read the same backward) from a list using filter().\n\"\"\"\n\ndef palindromes(lst):\n    \n    def filter_palindrome(word):\n        if word != word[::-1]:\n            return word\n            \n    return list(filter(filter_palindrome, lst))\n               \nlst = [\"radar\", \"red\", \"blue\", \"level\", \"noon\"]\nprint(palindromes(lst))\n\n\"\"\"\nProblem: 573\nSum of List: Write a function that calculates the sum of a list of numbers using reduce().\n\"\"\"\n\nfrom functools import reduce\n\ndef sum_of_lst(lst):\n    \n    def add(x, y):\n        return x + y\n        \n    return reduce(add, lst)\n\nlst = [1, 2, 3, 4, 5]\nprint(sum_of_list(lst))\n\ndef add(x, y):\n    return x + y\n\ndef sum_of_list(lst):\n    return reduce(add, lst)\n\nlst = [1, 2, 3, 4, 5]\nprint(sum_of_list(lst))\n\n\"\"\"\nProblem: 574\nProduct of List: Write a function that computes the product of a list of numbers using reduce().\n\"\"\"\n\nfrom functools import reduce\n\ndef sum_of_lst(lst):\n    \n    def add(x, y):\n        return x * y\n        \n    return reduce(add, lst)\n\nlst = [1, 2, 3, 4, 5]\nprint(sum_of_list(lst))\n\ndef multiply(x, y):\n    return x * y\n\ndef product_of_list(lst):\n    return reduce(multiply, lst)\n\nlst = [1, 2, 3, 4, 5]\nprint(product_of_list(lst))\n\n\"\"\"\nProblem: 575\nCapitalize Strings: Write a function that takes a list of strings and returns the list with each string capitalized using map().\n\"\"\"\n\ndef lst_strings(lst):\n    \n    def capitalize_lst(word):\n        word = word.capitalize()\n        return word\n        \n    return list(map(capitalize_lst, lst))\n    \n    \nlst = [\"today\", \"hello\", \"sunshine\"]\nprint(lst_strings(lst))  \n\n\"\"\"\nProblem: 576\nFind Minimum: Write a function that finds the minimum number in a list using reduce().\n\"\"\"\n\nfrom functools import reduce\n\ndef min_number(x, y):\n    return x if x < y else y\n\ndef number_lst(lst):\n    return reduce(min_number, lst)\n\nlst = [34, 67, 1, 778]    \nprint(number_lst(lst))\n\n\"\"\"\nProblem: 577\nFind Maximum: Write a function that finds the maximum number in a list using reduce().\n\"\"\"\n\nfrom functools import reduce\n\ndef min_number(x, y):\n    return x if x > y else y\n\ndef number_lst(lst):\n    return reduce(min_number, lst)\n\nlst = [34, 67, 1, 778]    \nprint(number_lst(lst))\n\n\"\"\"\nProblem: 578\nFilter Short Words: Write a function that filters out words shorter than 4 characters from a list using filter().\n\"\"\"\n\ndef list_words(lst):\n    \n    def filter_word(word):\n        if len(word) > 3:\n            return word\n            \n    return list(filter(filter_word, lst))\n    \n    \nlst = [\"bot\", \"not\", \"boat\", \"chop\"]    \nprint(list_words(lst))\n\n\"\"\"\nProblem: 579\nConcatenate Strings: Write a function that concatenates all strings in a list using reduce().\n\"\"\"\n\nfrom functools import reduce\n\ndef lst_strings(lst):\n    \n    def concatenate_lst(x, y):\n        return x + y\n        \n    return reduce(concatenate_lst, lst)\n    \n\nlst = [\"to\", \"day\", \"is\", \"great\"]    \nprint(lst_strings(lst)) \n\n\"\"\"\nProblem: 580\nFilter Positive Numbers: Write a function that filters only positive numbers from a list using filter().\n\"\"\"\n\ndef num_lst(lst):\n    \n    def filter_num(num):\n        if num > 1:\n            return num\n    return list(filter(filter_num, lst))\n    \nlst = [-45, 4, 5, -56, 6]    \nprint(num_lst(lst))\n\n\"\"\"\nProblem: 581\nCube List Elements: Write a function that returns a list where each element of the input list is cubed using map().\n\"\"\"\n\ndef num_lst(lst):\n    \n    def cubed_num(num):\n        return num ** 3\n            \n    return list(map(cubed_num, lst))\n\nlst = [-45, 4, 5, -56, 6]    \nprint(num_lst(lst))\n\n\"\"\"\nProblem: 582\nSum of Squares: Write a function that returns the sum of squares of a list of numbers using map() and reduce().\n\"\"\"\n\nfrom functools import reduce\n\ndef lst_numbers(lst):\n    \n    def square_number(num):\n        return num ** 2\n\n    def add(x, y):\n        return x + y\n    \n    squared_lst = map(square_number, lst)\n    return reduce(add, squared_lst)\n\nlst = [2, 4, 6, 8]    \nprint(lst_numbers(lst))\n\n\"\"\"\nProblem: 583\nCombine Names: Write a function that takes two lists (first names, last names) and returns a list of full names using map().\n\"\"\"\n\ndef lst_2(lst1, lst2):\n    \n    def combine_names(first_last):\n        return f\"{first_last[0]} {first_last[1]}\"\n        \n    return list(map(combine_names, zip(lst1, lst2)))\n    \nlst1 = [\"Tom\", \"Bob\"]\nlst2 = [\"Dupond\", \"lesnake\"]    \nprint(lst_2(lst1, lst2))\n\n\"\"\"\nProblem: 584\nFilter Non-Alphabetic Strings: Write a function that filters out strings that contain non-alphabetic characters using filter().\n\"\"\"\n\ndef non_alphabetical_string(string):\n    \n    def non_alph(char):\n        return char.isalpha()\n            \n    return ''.join(filter(non_alph, string))\n           \nstring = \"whats up dog !?!@$\"\nprint(non_alphabetical_string(string))\n\n\"\"\"\nProblem: 585\nCount Words: Write a function that counts how many times each word appears in a list using reduce()\n\"\"\"\n\nfrom functools import reduce\n\ndef lst_words(lst):\n    \n    def count_word(counts, word):\n        if word in counts:\n            counts[word] += 1\n        else:\n            counts[word] = 1\n        return counts\n        \n    return reduce(count_word, lst, {})\n\nlst = [\"Jon\", \"Chris\", \"Mike\", \"Chris\", \"Chris\"]    \nprint(lst_words(lst))\n\n\"\"\"\nProblem: 586\nUnique Words: Write a function that filters out only unique words from a list using filter() and a helper function.\n\"\"\"\n\ndef unique_words(lst):\n    \n    def is_unique(word):\n        return lst.count(word) == 1\n        \n    return list(filter(is_unique, lst))\n\nwords = [\"apple\", \"banana\", \"apple\", \"orange\", \"kiwi\", \"banana\"]\nprint(unique_words(words))",
   "execution_count": null,
   "outputs": []
  }
 ],
 "metadata": {
  "kernelspec": {
   "name": "python3",
   "display_name": "Python 3",
   "language": "python"
  },
  "language_info": {
   "name": "python",
   "version": "3.10.4",
   "mimetype": "text/x-python",
   "codemirror_mode": {
    "name": "ipython",
    "version": 3
   },
   "pygments_lexer": "ipython3",
   "nbconvert_exporter": "python",
   "file_extension": ".py"
  }
 },
 "nbformat": 4,
 "nbformat_minor": 2
}