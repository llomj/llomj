{
 "cells": [
  {
   "metadata": {
    "trusted": false
   },
   "cell_type": "code",
   "source": "\"\"\"\n- **Definition**:\n  - A `while` loop in Python is a **control flow statement** that allows code to be executed repeatedly based on a given **Boolean condition**. The `while` loop will continue to execute the block of code as long as the condition is `True`. Once the condition becomes `False`, the loop stops and the program continues with the next statement after the loop.\n  \n- **How It Works**:\n  1. **Condition Checking**:\n     - Before entering the loop, the condition specified in the `while` statement is evaluated.\n     - If the condition is `True`, the code inside the loop is executed.\n     - After executing the block, the condition is checked again. If the condition is still `True`, the loop will continue.\n     - If the condition becomes `False`, the loop stops, and control moves to the next line of code after the loop.\n  \n  2. **Iteration**:\n     - Each time the code block inside the loop is executed, it is considered one **iteration**.\n     - The number of iterations depends on when the condition turns `False`.\n\n- **Structure of a `while` loop**:\n  - A `while` loop consists of:\n    1. **The `while` keyword**.\n    2. A **condition** that evaluates to `True` or `False`.\n    3. A block of **code** (indented) that is executed repeatedly while the condition is `True`.\n\n  Example:\n  ```python\n  i = 1\n  while i <= 5:\n      print(i)\n      i += 1\n      \n'while' Loop in Python: A Comprehensive Overview\n\nA 'while' loop is one of the fundamental control flow structures in Python. It allows a block of code to be executed repeatedly as long as a given condition remains true. Unlike 'for' loops, which iterate over a sequence of elements (like lists or ranges), a 'while' loop is based on a condition that is evaluated before each iteration. The loop continues until the condition becomes False.\n\nBasic Structure of a while Loop:\n--------------------------------\nwhile <condition>:\n    # Code block to execute\n    # This block runs repeatedly as long as the condition is True\n\n1. **Condition Evaluation**: \n   Before each iteration of the loop, the condition is checked. If the condition evaluates to True, the code block inside the loop is executed. If it evaluates to False, the loop terminates and the program continues with the next statement after the loop.\n\n2. **Body Execution**: \n   The code inside the loop runs after the condition is checked. This code should ideally include something that modifies the condition to ensure the loop will eventually terminate.\n\n3. **Reevaluation**:\n   After the loop body runs, the condition is checked again. If it's still True, the process repeats. If False, the loop ends.\n\nExample 1: Basic Loop\n---------------------\nThis example demonstrates a basic while loop that prints numbers from 1 to 5:\n\n    i = 1\n    while i <= 5:\n        print(i)\n        i += 1  # Incrementing 'i' to ensure the loop condition eventually becomes False\n\nIn this loop:\n- The condition is `i <= 5`. As long as `i` is less than or equal to 5, the loop continues.\n- Each iteration prints the current value of `i` and then increments `i` by 1.\n- When `i` becomes 6, the condition is False, and the loop terminates.\n\nInfinite Loops:\n---------------\nAn infinite loop occurs when the condition never becomes False, causing the loop to run indefinitely. For example:\n\n    while True:\n        print(\"This will run forever!\")\n\nThis loop will run continuously until manually interrupted or forcefully terminated by the user or system.\n\nCommon causes of infinite loops include:\n- Failing to update the condition inside the loop.\n- Logical errors in the condition itself.\n  \nTo avoid this, ensure that something inside the loop changes in a way that will eventually cause the condition to be False.\n\nExample 2: Breaking Infinite Loops\n----------------------------------\nIn certain cases, an infinite loop might be intended but you may want to break out of it under specific conditions:\n\n    while True:\n        user_input = input(\"Type 'exit' to stop: \")\n        if user_input == \"exit\":\n            break  # Exits the loop if user types \"exit\"\n        print(\"You typed:\", user_input)\n\nHere, the loop would run indefinitely, but the `break` statement will terminate the loop when the user types 'exit'. The `break` statement is often used for conditional exits from loops.\n\nComplex Use Cases:\n------------------\n### 1. Nested While Loops:\nA 'while' loop can also be nested inside another 'while' or 'for' loop. Here's an example where we print a multiplication table:\n\n    i = 1\n    while i <= 5:\n        j = 1\n        while j <= 5:\n            print(i * j, end=\" \")  # Print each product on the same line\n            j += 1\n        print()  # Newline after each row\n        i += 1\n\nIn this case:\n- The outer loop runs from `i = 1` to `i = 5`.\n- For each iteration of the outer loop, the inner loop runs from `j = 1` to `j = 5`, printing the product of `i * j` on the same line.\n- After each inner loop finishes, the outer loop increments `i` and starts again.\n\n### 2. Using 'continue' and 'else' with While:\n- The `continue` statement skips the remaining code in the current iteration and moves to the next iteration. \n- The `else` block in a while loop executes when the condition becomes False naturally (i.e., it won't execute if the loop is terminated by `break`).\n\n    n = 0\n    while n < 5:\n        n += 1\n        if n == 3:\n            continue  # Skip when n is 3\n        print(n)\n    else:\n        print(\"Loop completed normally.\")\n\nIn this example, when `n == 3`, the loop skips the print statement and continues with the next iteration. Once the loop finishes naturally (i.e., `n` reaches 5), the `else` block executes.\n\nReal-World Example:\n-------------------\nOne of the practical applications of a while loop is to implement input validation. Suppose you need to prompt a user to enter a valid age (between 1 and 120). You can keep asking the user for input until they provide a valid value:\n\n    age = int(input(\"Enter your age: \"))\n    while age < 1 or age > 120:\n        print(\"Invalid age. Please enter a valid age between 1 and 120.\")\n        age = int(input(\"Enter your age: \"))\n    print(f\"Your age is {age}.\")\n\nIn this example:\n- The loop ensures the user is only allowed to proceed once they've provided a valid age.\n- If the user enters an invalid age, they are prompted again until they provide a valid input.\n\nEfficiency Considerations:\n--------------------------\nWhile loops can be very efficient for simple conditions, but they may lead to performance issues if not managed carefully, especially in cases where complex calculations or external input (such as network or file I/O) are involved. Infinite loops or long-running while loops can consume CPU resources unnecessarily if not designed with care.\n\nKey takeaways:\n- Always ensure the condition in a while loop will eventually become False.\n- Use control statements like `break` and `continue` judiciously.\n- Be mindful of performance, especially in nested loops or loops that interact with external resources.\n\n\"\"\"",
   "execution_count": null,
   "outputs": []
  },
  {
   "metadata": {
    "trusted": true
   },
   "cell_type": "code",
   "source": "    i = 1\n    while i <= 5:\n        j = 1\n        while j <= 3:\n            print(i * j)  # Print each product on the same line\n            j += 1\n        print()  # Newline after each row\n        i += 1",
   "execution_count": null,
   "outputs": []
  },
  {
   "metadata": {
    "trusted": false
   },
   "cell_type": "code",
   "source": "\"\"\"\nProblem: 285\nWrite a Python program to print numbers from 1 to 10 using a `while` loop.\n\"\"\"\n\ndef print_1_to_10():\n    i = 1\n    while i <= 10:\n        print(i)\n        i += 1\n        \nprint_1_to_10()",
   "execution_count": null,
   "outputs": []
  },
  {
   "metadata": {
    "trusted": false
   },
   "cell_type": "code",
   "source": "\"\"\"\nProblem: 287\nWrite a Python program to print all even numbers between 1 and 20 using a `while` loop.\n\"\"\"\n\ndef print_even_numbers():\n    i = 1\n    while i <= 20:\n        if i % 2 == 0:\n            print(i)\n        i += 1\n\nprint_even_numbers()",
   "execution_count": null,
   "outputs": []
  },
  {
   "metadata": {
    "trusted": false
   },
   "cell_type": "code",
   "source": "\"\"\"\nProblem: 288\nWrite a Python program to print all odd numbers between 1 and 20 using a `while` loop.\n\"\"\"\n\ndef print_odd_numbers():\n    i = 1\n    while i <= 20:\n        if i % 2 != 0:\n            print(i)\n        i += 1\nprint_odd_numbers()",
   "execution_count": null,
   "outputs": []
  },
  {
   "metadata": {
    "trusted": false
   },
   "cell_type": "code",
   "source": "\"\"\"\nProblem: 289\nWrite a Python program to find the sum of the digits of a given number using a `while` loop.\n\"\"\"\n\ndef sum_of_digits(number):\n    total = 0\n    while number > 0:\n        digit = number % 10\n        total += digit\n        number //= 10\n    return total\n\nnumber = 12345\nresult = sum_of_digits(number)\nprint(f\"The sum of the digits of {number} is: {result}\")",
   "execution_count": 1,
   "outputs": [
    {
     "output_type": "stream",
     "text": "The sum of the digits of 12345 is: 15\n",
     "name": "stdout"
    }
   ]
  },
  {
   "metadata": {
    "trusted": true
   },
   "cell_type": "code",
   "source": "\"\"\"\nProblem: 290\nWrite a Python program to find the sum of the digits of a given number using a `while` loop.\n\"\"\"\n\ndef sum_of_digits_again(number):\n    total = 0\n    while number > 0:\n        digit = number % 10\n        total += digit\n        number //= 10\n    return total\nnumber = 6789\nresult = sum_of_digits_again(number)\nprint(f\"The sum of the digits of {number} is: {result}\")",
   "execution_count": 1,
   "outputs": [
    {
     "output_type": "stream",
     "text": "The sum of the digits of 6789 is: 30\n",
     "name": "stdout"
    }
   ]
  },
  {
   "metadata": {
    "trusted": false
   },
   "cell_type": "code",
   "source": "\"\"\"\nProblem: 291\nWrite a Python program to find the factorial of a given number using a `while` loop.\n\"\"\"\n\ndef factorial(number):\n    result = 1\n    while number > 1:\n        result *= number\n        number -= 1\n    return result\n\n# Example usage\nnumber_to_calculate = 5\nresult = factorial(number_to_calculate)\nprint(f\"The factorial of {number_to_calculate} is: {result}\")\n# Additional test cases\ntest_numbers = [0, 1, 2, 3, 4, 5, 6, 7, 8, 9, 10]\nfor num in test_numbers:\n    print(f\"The factorial of {num} is: {factorial(num)}\")",
   "execution_count": null,
   "outputs": []
  },
  {
   "metadata": {
    "trusted": false
   },
   "cell_type": "code",
   "source": "\"\"\"\nProblem: 292\nWrite a Python program to print the multiplication table of a given number using a `while` loop.\n\"\"\"\n\ndef multiplication_table(number):\n    i = 1\n    while i <= 10:\n        print(f\"{number} x {i} = {number * i}\")\n        i += 1\n\n# Example usage\nnumber_to_multiply = 5\nprint(f\"Multiplication table for {number_to_multiply}:\")\nmultiplication_table(number_to_multiply)\n\n# Additional test cases\nprint(\"\\nMultiplication tables for numbers 1 to 5:\")\nfor num in range(1, 6):\n    print(f\"\\nMultiplication table for {num}:\")\n    multiplication_table(num)",
   "execution_count": null,
   "outputs": []
  },
  {
   "metadata": {
    "trusted": false
   },
   "cell_type": "code",
   "source": "\"\"\"\nProblem: 293\nWrite a Python program to check if a given number is prime using a `while` loop.\n\"\"\"\n\ndef is_prime(number):\n    if number < 2:\n        return False\n    i = 2\n    while i * i <= number:\n        if number % i == 0:\n            return False\n        i += 1\n    return True\n\n# Example usage\ntest_numbers = [1, 2, 3, 4, 5, 10, 13, 17, 20, 23, 24, 29]\n\nprint(\"Prime number check:\")\nfor num in test_numbers:\n    if is_prime(num):\n        print(f\"{num} is a prime number.\")\n    else:\n        print(f\"{num} is not a prime number.\")\n    ",
   "execution_count": null,
   "outputs": []
  },
  {
   "metadata": {
    "trusted": false
   },
   "cell_type": "code",
   "source": "\"\"\"\nProblem: 294\nWrite a Python program to count the number of digits in a given number using a `while` loop.\n\"\"\"\n\ndef count_digits(number):\n    count = 0\n    while number > 0:\n        number //= 10\n        count += 1\n    return count\n\n# Example usage\ntest_numbers = [0, 5, 123, 987654321, 1000000000, -456]\n\nprint(\"Counting digits:\")\nfor num in test_numbers:\n    if num < 0:\n        print(f\"The number of digits in {num} is {count_digits(-num)} (ignoring the negative sign).\")\n    else:\n        print(f\"The number of digits in {num} is {count_digits(num)}.\")",
   "execution_count": null,
   "outputs": []
  },
  {
   "metadata": {
    "trusted": false
   },
   "cell_type": "code",
   "source": "\"\"\"\nProblem: 295\nWrite a Python program to find the GCD (Greatest Common Divisor) of two numbers using a `while` loop.\n\"\"\"\n\ndef gcd(a, b):\n    while b:\n        a, b = b, a % b\n    return a\n\n# Example usage\nnum1 = 56\nnum2 = 98\n\nresult = gcd(num1, num2)\nprint(f\"The GCD of {num1} and {num2} is {result}.\")\n\n# Additional test cases\ntest_cases = [(48, 18), (101, 103), (56, 0), (0, 34), (0, 0)]\n\nprint(\"Testing additional cases:\")\nfor case in test_cases:\n    a, b = case\n    result = gcd(a, b)\n    print(f\"The GCD of {a} and {b} is {result}.\")",
   "execution_count": null,
   "outputs": []
  },
  {
   "metadata": {
    "trusted": false
   },
   "cell_type": "code",
   "source": "\"\"\"\nProblem: 296\nWrite a Python program to print the Fibonacci sequence up to N terms using a `while` loop.\n\"\"\"\n\ndef fibonacci_sequence(n):\n    a, b = 0, 1\n    count = 0\n    while count < n:\n        print(a)\n        a, b = b, a + b\n        count += 1\n# Example usage\nterms = 10\nprint(f\"Fibonacci sequence up to {terms} terms:\")\nfibonacci_sequence(terms)\n\n# Additional test case\nadditional_terms = 15\nprint(f\"\\nFibonacci sequence up to {additional_terms} terms:\")\nfibonacci_sequence(additional_terms)",
   "execution_count": null,
   "outputs": []
  },
  {
   "metadata": {
    "trusted": false
   },
   "cell_type": "code",
   "source": "\"\"\"\nProblem: 297\ndescription\": \"Write a Python program to find the sum of all elements in a list using a `while` loop.\n\"\"\"\n\ndef sum_elements(lst):\n    total = 0\n    index = 0\n    \n    while index < len(lst):\n        total += lst[index]\n        index += 1\n        \n    return total\n\nlst = [1, 2, 3, 4, 5]\nprint(sum_elements(lst))",
   "execution_count": null,
   "outputs": []
  },
  {
   "metadata": {
    "trusted": false
   },
   "cell_type": "code",
   "source": "\"\"\"\nProblem: 298\nWrite a Python program to find the largest element in a list using a `while` loop.\n\"\"\"\n\ndef find_largest_element(numbers):\n    i = 1\n    largest = numbers[0]\n    while i < len(numbers):\n        if numbers[i] > largest:\n            largest = numbers[i]\n        i += 1\n    return largest\n\n# Example usage\nnumbers_list = [5, 12, 3, 8, 20, 15]\nlargest_number = find_largest_element(numbers_list)\nprint(f\"The largest element in the list is: {largest_number}\")\n\n# Additional test case\nadditional_numbers_list = [-1, -5, -3, -8]\nlargest_number_in_negative = find_largest_element(additional_numbers_list)\nprint(f\"The largest element in the list of negatives is: {largest_number_in_negative}\")",
   "execution_count": null,
   "outputs": []
  },
  {
   "metadata": {
    "trusted": false
   },
   "cell_type": "code",
   "source": "\"\"\"\nProblem: 299\nWrite a Python program to find the smallest element in a list using a `while` loop.\n\"\"\"\n\ndef smallest_element(lst):\n    if not lst:\n        return None\n\n    smallest_word = lst[0]\n    i = 1 \n\n    while i < len(lst):\n        if lst[i] < smallest_word:\n            smallest_word = lst[i] \n        i += 1  \n\n    return smallest_word\n\nlst = [\"hot\", \"hotty\", \"hotties\"]\nprint(smallest_element(lst))",
   "execution_count": null,
   "outputs": []
  },
  {
   "metadata": {
    "trusted": false
   },
   "cell_type": "code",
   "source": "\"\"\"\nProblem: 300\nWrite a Python program to remove all occurrences of a specific element from a list using a `while` loop.\n\"\"\"\n\ndef remove_all_occurrences(lst, element):\n    i = 0\n    while i < len(lst):\n        if lst[i] == element:\n            lst.pop(i)\n        else:\n            i += 1\n    return lst\n\n# Example usage\nnumbers_list = [1, 2, 3, 4, 3, 5, 3, 6]\nelement_to_remove = 3\nupdated_list = remove_all_occurrences(numbers_list, element_to_remove)\nprint(f\"Updated list after removing {element_to_remove}: {updated_list}\")\n\n# Additional test case\nfruits_list = ['apple', 'banana', 'cherry', 'banana', 'date']\nfruit_to_remove = 'banana'\nupdated_fruits_list = remove_all_occurrences(fruits_list, fruit_to_remove)\nprint(f\"Updated fruits list after removing '{fruit_to_remove}': {updated_fruits_list}\")",
   "execution_count": null,
   "outputs": []
  },
  {
   "metadata": {
    "trusted": false
   },
   "cell_type": "code",
   "source": "\"\"\"\nProblem: 301\nWrite a Python program to check if a given string is a palindrome using a `while` loop.\n\"\"\"\n\ndef is_palindrome(s):\n    i = 0\n    j = len(s) - 1\n    while i < j:\n        if s[i] != s[j]:\n            return False\n        i += 1\n        j -= 1\n    return True\n\n# Example usage\ntest_string_1 = \"radar\"\ntest_string_2 = \"hello\"\ntest_string_3 = \"level\"\ntest_string_4 = \"world\"\n\nresult_1 = is_palindrome(test_string_1)\nresult_2 = is_palindrome(test_string_2)\nresult_3 = is_palindrome(test_string_3)\nresult_4 = is_palindrome(test_string_4)\n\nprint(f'Is \"{test_string_1}\" a palindrome? {result_1}')\nprint(f'Is \"{test_string_2}\" a palindrome? {result_2}')\nprint(f'Is \"{test_string_3}\" a palindrome? {result_3}')\nprint(f'Is \"{test_string_4}\" a palindrome? {result_4}')",
   "execution_count": null,
   "outputs": []
  },
  {
   "metadata": {
    "trusted": false
   },
   "cell_type": "code",
   "source": "\"\"\"\nProblem: 302\nWrite a Python program to count the number of vowels in a given string using a `while` loop.\n\"\"\"\n\ndef count_vowels(s):\n    vowels = \"aeiouAEIOU\"\n    count = 0\n    i = 0\n    while i < len(s):\n        if s[i] in vowels:\n            count += 1\n        i += 1\n    return count\n\n# Example usage\ntest_string_1 = \"Hello, World!\"\ntest_string_2 = \"Python programming\"\ntest_string_3 = \"Count the vowels\"\ntest_string_4 = \"AEIOU and sometimes Y\"\n\nresult_1 = count_vowels(test_string_1)\nresult_2 = count_vowels(test_string_2)\nresult_3 = count_vowels(test_string_3)\nresult_4 = count_vowels(test_string_4)\n\nprint(f'Number of vowels in \"{test_string_1}\": {result_1}')\nprint(f'Number of vowels in \"{test_string_2}\": {result_2}')\nprint(f'Number of vowels in \"{test_string_3}\": {result_3}')\nprint(f'Number of vowels in \"{test_string_4}\": {result_4}')",
   "execution_count": null,
   "outputs": []
  },
  {
   "metadata": {
    "trusted": false
   },
   "cell_type": "code",
   "source": "\"\"\"\nProblem: 303\nWrite a Python program to print each character of a given string using a `while` loop.\n\"\"\"\n\ndef print_each_character(s):\n    i = 0\n    while i < len(s):\n        print(s[i])\n        i += 1\n\n# Example usage\ntest_string_1 = \"Hello, World!\"\ntest_string_2 = \"Python\"\ntest_string_3 = \"While loop example\"\n\nprint(\"Characters in test_string_1:\")\nprint_each_character(test_string_1)\n\nprint(\"\\nCharacters in test_string_2:\")\nprint_each_character(test_string_2)\n\nprint(\"\\nCharacters in test_string_3:\")\nprint_each_character(test_string_3)",
   "execution_count": null,
   "outputs": []
  },
  {
   "metadata": {
    "trusted": false
   },
   "cell_type": "code",
   "source": "\"\"\"\nProblem: 827\nWrite a Python program that prints numbers from 1 to 10 using a while loop.\n\"\"\"\n\ni = 1\nwhile i <= 10:\n    print(i)\n    i += 1",
   "execution_count": null,
   "outputs": []
  },
  {
   "metadata": {
    "trusted": false
   },
   "cell_type": "code",
   "source": "\"\"\"\nProblem: 828\nWrite a Python program that prints even numbers between 1 and 20 using a while loop.\n\"\"\"\n\ni = 2\nwhile i <= 20:\n    print(i)\n    i += 2",
   "execution_count": null,
   "outputs": []
  },
  {
   "metadata": {
    "trusted": false
   },
   "cell_type": "code",
   "source": "\"\"\"\nProblem: 829\nWrite a Python program to print all the numbers from 10 to 1 (in reverse order) using a while loop.\n\"\"\"\n\ni = 10\nwhile i >= 1:\n    print(i)\n    i -= 1",
   "execution_count": null,
   "outputs": []
  },
  {
   "metadata": {
    "trusted": false
   },
   "cell_type": "code",
   "source": "\"\"\"\nProblem: 830\nWrite a Python program that asks the user for a number and keeps printing “Hello” that many times using a while loop.\n\"\"\"\n\ncount = int(input(\"Enter a number: \"))\ni = 0\nwhile i < count:\n    print(\"Hello\")\n    i += 1",
   "execution_count": null,
   "outputs": []
  },
  {
   "metadata": {
    "trusted": false
   },
   "cell_type": "code",
   "source": "\"\"\"\nProblem: 831\nWrite a Python program that keeps asking the user for input until they type “exit”.\n\"\"\"\n\nuser_input = \"\"\nwhile user_input != \"exit\":\n    user_input = input(\"Enter something (type 'exit' to stop): \")",
   "execution_count": null,
   "outputs": []
  },
  {
   "metadata": {
    "trusted": false
   },
   "cell_type": "code",
   "source": "\"\"\"\nProblem: 831\nWrite a Python program to sum all numbers from 1 to 100 using a while loop.\n\"\"\"\n\ni = 1\ntotal = 0\nwhile i <= 100:\n    total += i\n    i += 1\nprint(total)",
   "execution_count": null,
   "outputs": []
  },
  {
   "metadata": {
    "trusted": false
   },
   "cell_type": "code",
   "source": "\"\"\"\nProblem: 832\nWrite a Python program that keeps doubling a number (starting from 1) until it exceeds 1000 using a while loop.\n\"\"\"\n\nnumber = 1\nwhile number <= 1000:\n    print(number)\n    number *= 2",
   "execution_count": null,
   "outputs": []
  },
  {
   "metadata": {
    "trusted": false
   },
   "cell_type": "code",
   "source": "\"\"\"\nProblem: 833\nWrite a Python program that prints the multiplication table of 5 using a while loop.\n\"\"\"\n\ni = 1\nwhile i <= 10:\n    print(5 * i)\n    i += 1",
   "execution_count": null,
   "outputs": []
  },
  {
   "metadata": {
    "trusted": false
   },
   "cell_type": "code",
   "source": "\"\"\"\nProblem: 834\nWrite a Python program that asks the user for numbers and stops when the sum exceeds 50 using a while loop.\n\"\"\"\n\ntotal = 0\nwhile total <= 50:\n    number = int(input(\"Enter a number: \"))\n    total += number\nprint(total)",
   "execution_count": null,
   "outputs": []
  },
  {
   "metadata": {
    "trusted": false
   },
   "cell_type": "code",
   "source": "\"\"\"\nProblem: 835\nWrite a Python program that keeps asking the user for input until they enter an even number using a while loop.\n\"\"\"\n\nnumber = 1\nwhile number % 2 != 0:\n    number = int(input(\"Enter an even number: \"))",
   "execution_count": null,
   "outputs": []
  },
  {
   "metadata": {
    "trusted": false
   },
   "cell_type": "code",
   "source": "\"\"\"\nProblem: 836\nWrite a Python program that asks the user to input numbers, and prints the sum when they input the number 0 using a while loop.\n\"\"\"\n\ntotal = 0\nnumber = None\nwhile number != 0:\n    number = int(input(\"Enter a number (0 to stop): \"))\n    total += number\nprint(total)",
   "execution_count": null,
   "outputs": []
  },
  {
   "metadata": {
    "trusted": false
   },
   "cell_type": "code",
   "source": "\"\"\"\nProblem: 837\nWrite a Python program that prints the Fibonacci sequence up to the 10th number using a while loop.\n\"\"\"\n\na, b = 0, 1\ni = 0\nwhile i < 10:\n    print(a)\n    a, b = b, a + b\n    i += 1",
   "execution_count": null,
   "outputs": []
  },
  {
   "metadata": {
    "trusted": false
   },
   "cell_type": "code",
   "source": "\"\"\"\nProblem: 838\nWrite a Python program that keeps asking the user to guess a secret number between 1 and 10 until they guess it correctly using a while loop.\n\"\"\"\n\nsecret_number = 7\nguess = 0\nwhile guess != secret_number:\n    guess = int(input(\"Guess the secret number (between 1 and 10): \"))",
   "execution_count": null,
   "outputs": []
  },
  {
   "metadata": {
    "trusted": false
   },
   "cell_type": "code",
   "source": "\"\"\"\nProblem: 839\nWrite a Python program that counts the number of vowels in a user-provided string using a while loop.\n\"\"\"\n\nstring = input(\"Enter a string: \")\nvowels = \"aeiouAEIOU\"\ni = 0\ncount = 0\nwhile i < len(string):\n    if string[i] in vowels:\n        count += 1\n    i += 1\nprint(count)",
   "execution_count": null,
   "outputs": []
  },
  {
   "metadata": {
    "trusted": false
   },
   "cell_type": "code",
   "source": "\"\"\"\nProblem: 840\nWrite a Python program that asks the user to input a string and keeps removing the last character of the string until it’s empty using a while loop.\n\"\"\"\n\nstring = input(\"Enter a string: \")\nwhile string:\n    print(string)\n    string = string[:-1]",
   "execution_count": null,
   "outputs": []
  },
  {
   "metadata": {
    "trusted": false
   },
   "cell_type": "code",
   "source": "\"\"\"\nProblem: 841\nWrite a Python program to count down from a user-provided number to 0 using a while loop.\n\"\"\"\n\nnumber = int(input(\"Enter a number: \"))\nwhile number >= 0:\n    print(number)\n    number -= 1",
   "execution_count": null,
   "outputs": []
  },
  {
   "metadata": {
    "trusted": false
   },
   "cell_type": "code",
   "source": "\"\"\"\nProblem: 842\nWrite a Python program to keep asking the user for positive numbers and print the sum when a negative number is entered using a while loop.\n\"\"\"\n\ntotal = 0\nnum = int(input(\"Enter a positive number: \"))\nwhile num >= 0:\n    total += num\n    num = int(input(\"Enter another number: \"))\nprint(total)",
   "execution_count": null,
   "outputs": []
  },
  {
   "metadata": {
    "trusted": false
   },
   "cell_type": "code",
   "source": "\"\"\"\nProblem: 843\nWrite a Python program that asks the user to input numbers and finds the largest number entered using a while loop. Stop when the user types “stop”\n\"\"\"\n\nlargest = float('-inf')\nwhile True:\n    user_input = input(\"Enter a number (type 'stop' to end): \")\n    if user_input == \"stop\":\n        break\n    num = int(user_input)\n    if num > largest:\n        largest = num\nprint(largest)",
   "execution_count": null,
   "outputs": []
  },
  {
   "metadata": {
    "trusted": false
   },
   "cell_type": "code",
   "source": "\"\"\"\nProblem: 844\nWrite a Python program that asks the user for a password and keeps asking until the correct password (“python”) is entered using a while loop.\n\"\"\"\n\npassword = \"\"\nwhile password != \"python\":\n    password = input(\"Enter the password: \")",
   "execution_count": null,
   "outputs": []
  },
  {
   "metadata": {
    "trusted": false
   },
   "cell_type": "code",
   "source": "\"\"\"\nProblem: 845\nWrite a Python program that multiplies a number by itself until it exceeds 10,000 using a while loop.\n\"\"\"\n\nnum = 2\nwhile num <= 10000:\n    print(num)\n    num *= num",
   "execution_count": null,
   "outputs": []
  },
  {
   "metadata": {
    "trusted": false
   },
   "cell_type": "code",
   "source": "\"\"\"\nProblem: 846\nWrite a Python program to reverse the digits of a number using a while loop.\n\"\"\"\n\nnum = int(input(\"Enter a number: \"))\nreversed_num = 0\nwhile num > 0:\n    reversed_num = reversed_num * 10 + num % 10\n    num //= 10\nprint(reversed_num)",
   "execution_count": null,
   "outputs": []
  },
  {
   "metadata": {
    "trusted": false
   },
   "cell_type": "code",
   "source": "\"\"\"\nProblem: 847\nWrite a Python program that asks the user to input numbers and prints the average when they type “done” using a while loop.\n\"\"\"\n\ntotal = 0\ncount = 0\nwhile True:\n    user_input = input(\"Enter a number (type 'done' to end): \")\n    if user_input == \"done\":\n        break\n    total += int(user_input)\n    count += 1\nif count != 0:\n    print(total / count)",
   "execution_count": null,
   "outputs": []
  },
  {
   "metadata": {
    "trusted": false
   },
   "cell_type": "code",
   "source": "\"\"\"\nProblem: 848\nWrite a Python program that asks the user to input a positive number and keeps subtracting 1 until it reaches zero using a while loop.\n\"\"\"\n\nnum = int(input(\"Enter a positive number: \"))\nwhile num > 0:\n    print(num)\n    num -= 1\n",
   "execution_count": null,
   "outputs": []
  },
  {
   "metadata": {
    "trusted": false
   },
   "cell_type": "code",
   "source": "\"\"\"\nProblem: 849\nWrite a Python program that generates random numbers between 1 and 100 and stops when it generates a number divisible by 7 using a while loop.\n\"\"\"\n\nimport random\nnum = random.randint(1, 100)\nwhile num % 7 != 0:\n    print(num)\n    num = random.randint(1, 100)",
   "execution_count": null,
   "outputs": []
  },
  {
   "metadata": {
    "trusted": false
   },
   "cell_type": "code",
   "source": "\"\"\"\nProblem: 850\nWrite a Python program to keep asking the user for a number and print whether it is prime or not. Stop when the user types “exit”.\n\"\"\"\n\ndef is_prime(n):\n    if n < 2:\n        return False\n    for i in range(2, int(n**0.5) + 1):\n        if n % i == 0:\n            return False\n    return True\n\nwhile True:\n    user_input = input(\"Enter a number (type 'exit' to stop): \")\n    if user_input == \"exit\":\n        break\n    num = int(user_input)\n    if is_prime(num):\n        print(f\"{num} is prime\")\n    else:\n        print(f\"{num} is not prime\")",
   "execution_count": null,
   "outputs": []
  },
  {
   "metadata": {
    "trusted": false
   },
   "cell_type": "code",
   "source": "\"\"\"\nProblem: 851\nWrite a Python program that prints all the letters of a string except the vowels using a while loop.\n\"\"\"\n\nstring = input(\"Enter a string: \")\nvowels = \"aeiouAEIOU\"\ni = 0\nwhile i < len(string):\n    if string[i] not in vowels:\n        print(string[i], end=\"\")\n    i += 1",
   "execution_count": null,
   "outputs": []
  },
  {
   "metadata": {
    "trusted": false
   },
   "cell_type": "code",
   "source": "\"\"\"\nProblem: 852\nWrite a Python program to count the number of digits in a number using a while loop.\n\"\"\"\n\nnum = int(input(\"Enter a number: \"))\ncount = 0\nwhile num > 0:\n    count += 1\n    num //= 10\nprint(count)",
   "execution_count": null,
   "outputs": []
  },
  {
   "metadata": {
    "trusted": false
   },
   "cell_type": "code",
   "source": "\"\"\"\nProblem: 853\nWrite a Python program to keep adding numbers to a list until the list contains 10 elements using a while loop.\n\"\"\"\n\nlst = []\nwhile len(lst) < 10:\n    lst.append(int(input(\"Enter a number: \")))\nprint(lst)",
   "execution_count": null,
   "outputs": []
  },
  {
   "metadata": {
    "trusted": false
   },
   "cell_type": "code",
   "source": "\"\"\"\nProblem: 854\nWrite a Python program that keeps dividing a number by 2 until it is smaller than 1 using a while loop.\n\"\"\"\n\nnum = int(input(\"Enter a number: \"))\nwhile num >= 1:\n    print(num)\n    num /= 2",
   "execution_count": null,
   "outputs": []
  },
  {
   "metadata": {
    "trusted": false
   },
   "cell_type": "code",
   "source": "\"\"\"\nProblem: 855\nWrite a Python program that keeps asking the user for input and adds it to a list until the user types “stop”. Then print the list using a while loop.\n\"\"\"\n\nlst = []\nwhile True:\n    user_input = input(\"Enter something (type 'stop' to end): \")\n    if user_input == \"stop\":\n        break\n    lst.append(user_input)\nprint(lst)",
   "execution_count": null,
   "outputs": []
  },
  {
   "metadata": {
    "trusted": false
   },
   "cell_type": "code",
   "source": "\"\"\"\nProblem: 856\nWrite a Python program that asks the user for a number and keeps printing its square until the square exceeds 1000 using a while loop.\n\"\"\"\n\nnum = int(input(\"Enter a number: \"))\nwhile num ** 2 <= 1000:\n    print(num ** 2)\n    num += 1",
   "execution_count": null,
   "outputs": []
  },
  {
   "metadata": {
    "trusted": false
   },
   "cell_type": "code",
   "source": "\"\"\"\nProblem: 857\nWrite a Python program that prints all the numbers from 1 to 50, skipping multiples of 3, using a while loop.\n\"\"\"\n\nnum = 1\nwhile num <= 50:\n    if num % 3 != 0:\n        print(num)\n    num += 1",
   "execution_count": null,
   "outputs": []
  },
  {
   "metadata": {
    "trusted": false
   },
   "cell_type": "code",
   "source": "\"\"\"\nProblem: 858\nWrite a Python program that keeps adding 5 to a number starting from 0 until the number is greater than 100 using a while loop.\n\"\"\"\n\nnum = 0\nwhile num <= 100:\n    print(num)\n    num += 5",
   "execution_count": null,
   "outputs": []
  },
  {
   "metadata": {
    "trusted": false
   },
   "cell_type": "code",
   "source": "\"\"\"\nProblem: 859\nWrite a Python program that prints all the elements of a list using a while loop.\n\"\"\"\n\nlst = [1, 2, 3, 4, 5]\ni = 0\nwhile i < len(lst):\n    print(lst[i])\n    i += 1",
   "execution_count": null,
   "outputs": []
  },
  {
   "metadata": {
    "trusted": false
   },
   "cell_type": "code",
   "source": "\"\"\"\nProblem: 860\nWrite a Python program to sum all the odd numbers from 1 to 100 using a while loop.\n\"\"\"\n\nnum = 1\ntotal = 0\nwhile num <= 100:\n    if num % 2 != 0:\n        total += num\n    num += 1\nprint(total)",
   "execution_count": null,
   "outputs": []
  },
  {
   "metadata": {
    "trusted": false
   },
   "cell_type": "code",
   "source": "\"\"\"\nProblem: 861\nWrite a Python program that keeps doubling a number (starting from 2) and prints how many times it doubled before exceeding 1000 using a while loop.\n\"\"\"\n\nnum = 2\ncount = 0\nwhile num <= 1000:\n    num *= 2\n    count += 1\nprint(count)",
   "execution_count": null,
   "outputs": []
  },
  {
   "metadata": {
    "trusted": false
   },
   "cell_type": "code",
   "source": "\"\"\"\nProblem: 862\nWrite a Python program that keeps asking the user for a number and prints whether it is a palindrome. Stop when the user types “quit”.\n\"\"\"\n\nwhile True:\n    user_input = input(\"Enter a number (type 'quit' to stop): \")\n    if user_input == \"quit\":\n        break\n    if user_input == user_input[::-1]:\n        print(f\"{user_input} is a palindrome\")\n    else:\n        print(f\"{user_input} is not a palindrome\")\n",
   "execution_count": null,
   "outputs": []
  },
  {
   "metadata": {
    "trusted": false
   },
   "cell_type": "code",
   "source": "\"\"\"\nProblem: 863\nWrite a Python program that simulates a countdown timer by printing the numbers from 10 to 1, and then “Lift off!” using a while loop.\n\"\"\"\n\nnum = 10\nwhile num > 0:\n    print(num)\n    num -= 1\nprint(\"Lift off!\")",
   "execution_count": null,
   "outputs": []
  },
  {
   "metadata": {
    "trusted": false
   },
   "cell_type": "code",
   "source": "\"\"\"\nProblem: 864\nWrite a Python program that keeps asking the user for a string and prints its length until the user types “exit”.\n\"\"\"\n\nwhile True:\n    user_input = input(\"Enter a string (type 'exit' to stop): \")\n    if user_input == \"exit\":\n        break\n    print(len(user_input))",
   "execution_count": null,
   "outputs": []
  },
  {
   "metadata": {
    "trusted": false
   },
   "cell_type": "code",
   "source": "\"\"\"\nProblem: 865\nWrite a Python program that asks the user to input 5 numbers and calculates their product using a while loop.\n\"\"\"\n\ni = 0\nproduct = 1\nwhile i < 5:\n    num = int(input(\"Enter a number: \"))\n    product *= num\n    i += 1\nprint(product)",
   "execution_count": null,
   "outputs": []
  }
 ],
 "metadata": {
  "kernelspec": {
   "name": "python3",
   "display_name": "Python 3",
   "language": "python"
  },
  "language_info": {
   "name": "python",
   "version": "3.10.4",
   "mimetype": "text/x-python",
   "codemirror_mode": {
    "name": "ipython",
    "version": 3
   },
   "pygments_lexer": "ipython3",
   "nbconvert_exporter": "python",
   "file_extension": ".py"
  }
 },
 "nbformat": 4,
 "nbformat_minor": 2
}