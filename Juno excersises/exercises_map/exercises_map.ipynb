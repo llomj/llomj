{
 "cells": [
  {
   "metadata": {
    "trusted": false
   },
   "cell_type": "code",
   "source": "\"\"\"\n- **Definition**:\n  - The `map()` function is a built-in Python function that applies a specified function to each item in an iterable (such as a list or tuple) and returns an iterator (or map object) that produces the results. It is primarily used for transforming data by applying a function to each element in the input iterable.\n\n- **Purpose**:\n  - The primary purpose of `map()` is to facilitate functional programming by allowing you to process and transform data efficiently. Instead of using a loop to apply a function to each item, `map()` provides a more concise and readable way to achieve the same result.\n\n- **How It Works**:\n  - When `map()` is called, it takes two or more arguments:\n    - **Function**: A function that defines the transformation or operation to apply to each element.\n    - **Iterable(s)**: One or more iterables that contain the data to be processed.\n  - The function is applied to each element of the iterable(s) in the order they appear, and the results are collected in a new iterable.\n\n- **Common Use Cases**:\n  - **Data Transformation**: Converting data types or applying calculations to data elements.\n    - Example: Doubling each number in a list.\n    ```python\n    numbers = [1, 2, 3, 4]\n    doubled = list(map(lambda x: x * 2, numbers))  # [2, 4, 6, 8]\n    ```\n  \n  - **String Manipulation**: Applying string functions to a list of strings.\n    - Example: Converting a list of names to uppercase.\n    ```python\n    names = [\"alice\", \"bob\", \"charlie\"]\n    uppercase_names = list(map(str.upper, names))  # ['ALICE', 'BOB', 'CHARLIE']\n    ```\n\n  - **Multiple Iterables**: When using multiple iterables, `map()` applies the function to corresponding items from each iterable.\n    - Example: Adding two lists element-wise.\n    ```python\n    a = [1, 2, 3]\n    b = [4, 5, 6]\n    summed = list(map(lambda x, y: x + y, a, b))  # [5, 7, 9]\n    ```\n\n- **Creating a Function for `map()`**:\n  - The function provided to `map()` can be defined as a standalone function or as a lambda function. It should accept as many arguments as there are iterables being processed.\n  - Example of a standalone function:\n    ```python\n    def square(x):\n        return x ** 2\n\n    numbers = [1, 2, 3, 4]\n    squared_numbers = list(map(square, numbers))  # [1, 4, 9, 16]\n    ```\n\n- **Advantages of Using `map()`**:\n  - **Conciseness**: `map()` allows for writing more concise and readable code, reducing the need for explicit loops.\n  - **Performance**: Since `map()` is implemented in C and returns an iterator, it can be more efficient than using a list comprehension or a traditional loop, especially for large datasets.\n  - **Functional Programming Style**: It promotes a functional programming paradigm, making it easier to reason about code behavior by isolating operations in functions.\n\n- **Limitations**:\n  - **Readability**: For very complex functions, using `map()` can reduce readability, as it may not be immediately clear what transformation is applied without reading the function definition.\n  - **Return Type**: The result of `map()` is an iterator, which may need to be converted to a list or another data structure before use.\n  - **Not Suitable for All Scenarios**: In cases where side effects are involved (e.g., printing, modifying global variables), `map()` may not be appropriate, as it is designed for pure functions without side effects.\n\n- **Example of Common Scenarios**:\n  - **Converting Data Types**: Changing a list of strings to integers.\n    ```python\n    string_numbers = [\"1\", \"2\", \"3\"]\n    int_numbers = list(map(int, string_numbers))  # [1, 2, 3]\n    ```\n\n  - **Chaining with Other Functions**: `map()` can be used in conjunction with other functions such as `filter()` to process data in a pipeline.\n    ```python\n    numbers = [1, 2, 3, 4, 5, 6]\n    even_doubled = list(map(lambda x: x * 2, filter(lambda x: x % 2 == 0, numbers)))  # [4, 8, 12]\n    ```\n\n- **Conclusion**:\n  - In summary, the `map()` function in Python is a powerful tool for applying transformations to each element in an iterable. It enhances code readability and efficiency by allowing developers to express operations in a functional programming style. Understanding how to use `map()` effectively can greatly improve your ability to manipulate and process data in Python.\n\n\"\"\"",
   "execution_count": null,
   "outputs": []
  },
  {
   "metadata": {
    "trusted": false
   },
   "cell_type": "code",
   "source": "\"\"\"\nProblem: 692\nWrite a program that takes a list of numbers and returns a new list with each number squared using map().\n\"\"\"\n\ndef square_numbers(lst):\n    \n    def square(num):\n        return num ** 2\n    \n    return list(map(square, lst))\n\nnumbers = [1, 2, 3, 4, 5]\nprint(square_numbers(numbers))",
   "execution_count": null,
   "outputs": []
  },
  {
   "metadata": {
    "trusted": false
   },
   "cell_type": "code",
   "source": "\"\"\"\nProblem: 693\nCreate a program that takes a list of strings and returns a list of their lengths using map().\n\"\"\"\n\ndef string_lengths(lst):\n    \n    def length(string):\n        return len(string)\n    \n    return list(map(length, lst))\n\nstrings = [\"hello\", \"world\", \"python\", \"programming\"]\nprint(string_lengths(strings))",
   "execution_count": null,
   "outputs": []
  },
  {
   "metadata": {
    "trusted": false
   },
   "cell_type": "code",
   "source": "\"\"\"\nProblem: 694\nWrite a function that takes a list of strings and converts all of them to uppercase using `map()`.\n\"\"\"\n\ndef lst_words(lst):\n    \n    def word_len(word):\n        return word.upper()\n        \n    return list(map(word_len, lst))\n\nlst = [\"monkey\", \"lizard\", \"hippopotamus\"]\nprint(lst_words(lst))",
   "execution_count": null,
   "outputs": []
  },
  {
   "metadata": {
    "trusted": false
   },
   "cell_type": "code",
   "source": "\"\"\"\nProblem: 695\nGiven a list of floats, use `map()` to round all the numbers to two decimal places.\n\"\"\"\n\ndef lst_numbers(lst):\n    \n    def round_two_decimals(x):\n        return round(x, 2)\n        \n    return list(map(round_two_decimals, lst))\n\nlst = [2.6666, 4.77, 7.566, 9.55]\nprint(lst_numbers(lst))",
   "execution_count": null,
   "outputs": []
  },
  {
   "metadata": {
    "trusted": false
   },
   "cell_type": "code",
   "source": "\"\"\"\nProblem: 696\nWrite a program that converts a list of temperatures in Celsius to Fahrenheit using `map()`.\n\"\"\"\n\ndef celsius_to_fahrenheit(lst):\n    \n    def convert(celsius):\n        return (celsius * 9/5) + 32\n        \n    return list(map(convert, lst))\n\ncelsius_temps = [0, 20, 37, 100]\nfahrenheit_temps = celsius_to_fahrenheit(celsius_temps)\nprint(fahrenheit_temps)",
   "execution_count": null,
   "outputs": []
  },
  {
   "metadata": {
    "trusted": false
   },
   "cell_type": "code",
   "source": "\"\"\"\nProblem: 697\nUse `map()` to convert a list of numbers into their corresponding ASCII characters.\n\"\"\"\n\ndef numbers_to_ascii(lst):\n    \n    def to_ascii(number):\n        return chr(number)\n        \n    return list(map(to_ascii, lst))\n\nnumbers = [0, 65, 66, 67, 68, 69, 91, 120]\nascii_characters = numbers_to_ascii(numbers)\nprint(ascii_characters)",
   "execution_count": 1,
   "outputs": [
    {
     "output_type": "stream",
     "text": "['\\x00', 'A', 'B', 'C', 'D', 'E', '[', 'x']\n",
     "name": "stdout"
    }
   ]
  },
  {
   "metadata": {
    "trusted": false
   },
   "cell_type": "code",
   "source": "\"\"\"\nProblem: 698\nWrite a function that takes a list of words and returns the reversed version of each word using `map()`.\n\"\"\"\n\ndef lst_words(lst):\n    \n    def reverse_word(word):\n        return word[::-1]\n        \n    return list(map(reverse_word, lst))\n\nlst = [\"monkey\", \"lizard\", \"hippopotamus\"]\nprint(lst_words(lst))",
   "execution_count": null,
   "outputs": []
  },
  {
   "metadata": {
    "trusted": false
   },
   "cell_type": "code",
   "source": "\"\"\"\nProblem: 700\nCreate a program that takes a list of integers and returns a list where each number is doubled using `map()`.\n\"\"\"\n\ndef lst_integers(lst):\n    \n    def double_num(number):\n        return number * 2 \n        \n    return list(map(double_num, lst))\n\nlst = [0, 65, 66, 67, 68, 69, 91, 120]\nprint(lst_integers(lst))",
   "execution_count": null,
   "outputs": []
  },
  {
   "metadata": {
    "trusted": false
   },
   "cell_type": "code",
   "source": "\"\"\"\nProblem: 701\nWrite a program to take a list of strings and return a list of their first characters using `map()`.\n\"\"\"\n\ndef lst_words(lst):\n    \n    def first_char(word):\n        return word[0]\n        \n    return list(map(first_char, lst))\n\nlst = [\"monkey\", \"lizard\", \"hippopotamus\"]\nprint(lst_words(lst))",
   "execution_count": null,
   "outputs": []
  },
  {
   "metadata": {
    "trusted": false
   },
   "cell_type": "code",
   "source": "\"\"\"\nProblem: 702\nUse `map()` to convert a list of binary strings to their decimal equivalents.\n\"\"\"\n\ndef lst_words(lst):\n    \n    def binary(word):\n        return int(word, 2)\n        \n    return list(map(binary, lst))\n\nlst = [\"101\", \"110\", \"1001\"]\nprint(lst_words(lst))\n\"\"\"\nExplanation of `return int(word, 2)`:\n\nThe function `int(word, 2)` is used to convert a binary string (`word`) into its decimal equivalent. In Python, the `int()` function can take two arguments: the string to convert and the base of the number system that the string is represented in.\n\nIn this case:\n- `word` is a binary string (e.g., \"101\", \"110\").\n- The second argument, `2`, indicates that the number is in base-2 (binary).\n\nBy passing `2` as the base, the function converts the binary string to a base-10 (decimal) integer.\n\nFor example:\n- `int(\"101\", 2)` returns `5` because \"101\" in binary equals `5` in decimal.\n- `int(\"110\", 2)` returns `6`.\n- `int(\"1001\", 2)` returns `9`.\n\nSo, the `binary()` function takes a binary string as input and converts it to its decimal form using `int(word, 2)`.\n\"\"\"",
   "execution_count": 2,
   "outputs": [
    {
     "output_type": "stream",
     "text": "[5, 6, 9]\n",
     "name": "stdout"
    }
   ]
  },
  {
   "metadata": {
    "trusted": false
   },
   "cell_type": "code",
   "source": "\"\"\"\nProblem: 703\nWrite a program that takes a list of mixed-case strings and returns all strings in lowercase using `map()`.\n\"\"\"\n\ndef lst_mixed_case(lst):\n    \n    def lowercase(string):\n        return string.lower()\n        \n    return list(map(lowercase, lst))\n\nlst = [\"LIZARD\", \"hiPpopotamus\", \"FroG\"]\nprint(lst_mixed_case(lst))",
   "execution_count": null,
   "outputs": []
  },
  {
   "metadata": {
    "trusted": false
   },
   "cell_type": "code",
   "source": "\"\"\"\nProblem: 704\nGiven two lists of numbers, use `map()` to multiply each pair of numbers from the two lists together.\n\"\"\"\n\ndef lst_integers(lst1, lst2):\n    \n    def multiply(num1, num2):\n        return num1 * num2 \n        \n    return list(map(multiply, lst1, lst2))\n\nlst1 = [6, 12, 23, 68]\nlst2 = [1, 2, 3, 4]\nprint(lst_integers(lst1, lst2))",
   "execution_count": null,
   "outputs": []
  },
  {
   "metadata": {
    "trusted": false
   },
   "cell_type": "code",
   "source": "\"\"\"\nProblem: 705\nUse `map()` to convert a list of tuples (representing x, y points) into a list of their Euclidean distances from the origin.\n\"\"\"\n\nimport math\n\ndef euclidean_distances(points):\n    \n    def distance(point):\n        return math.sqrt(point[0]**2 + point[1]**2)\n        \n    return list(map(distance, points))\n\npoints = [(3, 4), (1, 1), (0, 0), (6, 8)]\nprint(euclidean_distances(points))",
   "execution_count": null,
   "outputs": []
  },
  {
   "metadata": {
    "trusted": false
   },
   "cell_type": "code",
   "source": "\"\"\"\nProblem: 706\nWrite a function that takes a list of email addresses and extracts the domain names using `map()`.\n\"\"\"\n\ndef lst_emails(lst):\n    \n    def domain(string):\n        return string.split('@')[1]\n        \n    return list(map(domain, lst))\n\nlst = [\"user@example.com\", \"admin@domain.org\", \"info@website.net\"]\nprint(lst_emails(lst))",
   "execution_count": null,
   "outputs": []
  },
  {
   "metadata": {
    "trusted": false
   },
   "cell_type": "code",
   "source": "\"\"\"\nProblem: 707\nUse `map()` to take a list of numbers and return a list indicating whether each number is even or odd.\n\"\"\"\n\ndef lst_integers(lst):\n    \n    def even_odd(number):\n        if number % 2 == 0:\n            return \"Even\"\n        else:\n            return \"Odd\"\n        \n    return list(map(even_odd, lst))\n\nlst = [65, 66, 67, 68, 69, 91, 120]\nprint(lst_integers(lst))",
   "execution_count": null,
   "outputs": []
  },
  {
   "metadata": {
    "trusted": false
   },
   "cell_type": "code",
   "source": "\"\"\"\nProblem: 708\nWrite a program that uses `map()` to convert a list of string representations of numbers to a list of integers.\n\"\"\"\n\ndef lst_strings_to_integers(lst):\n    \n    def to_integer(string):\n        return int(string)\n        \n    return list(map(to_integer, lst))\n\nlst = [\"1\", \"2\", \"3\", \"4\", \"5\"]\nprint(lst_strings_to_integers(lst))",
   "execution_count": null,
   "outputs": []
  },
  {
   "metadata": {
    "trusted": false
   },
   "cell_type": "code",
   "source": "\"\"\"\nProblem: 709\nCreate a program that takes a list of Boolean values and negates each value using `map()`.\n\"\"\"\n\ndef lst_strings_to_integers(lst):\n    \n    def booleans(string):\n        return int(string)\n        \n    return list(map(booleans, lst))\n\nlst = [45, -5, 5, -66, 89]\nprint(lst_strings_to_integers(lst))",
   "execution_count": null,
   "outputs": []
  },
  {
   "metadata": {
    "trusted": false
   },
   "cell_type": "code",
   "source": "\"\"\"\nProblem: 710\nWrite a function that takes a list of strings and returns a list of booleans indicating whether each string is a palindrome using `map()`.\n\"\"\"\n\ndef negate_booleans(lst):\n    \n    def negate(value):\n        return not value\n        \n    return list(map(negate, lst))\n\nlst = [True, False, True, False]\nprint(negate_booleans(lst))",
   "execution_count": null,
   "outputs": []
  },
  {
   "metadata": {
    "trusted": true
   },
   "cell_type": "code",
   "source": "\"\"\"\nProblem: 711\nGiven a list of sentences, use `map()` to return a list of the number of words in each sentence.\n\"\"\"\n\ndef lst_sentence(lst):\n    \n    def num_of_words(string):\n        words = string.split()\n        return len(words)\n        \n    return list(map(num_of_words, lst))\n    \nlst = [\"how hot is it\", \"what's up dog\", \"today is the best day of my life\"]    \nprint(lst_sentence(lst))",
   "execution_count": 1,
   "outputs": [
    {
     "output_type": "stream",
     "text": "[4, 3, 8]\n",
     "name": "stdout"
    }
   ]
  },
  {
   "metadata": {
    "trusted": false
   },
   "cell_type": "code",
   "source": "\"\"\"\nProblem: 712\nUse `map()` to take a list of strings and return a list of strings where each word has its first letter capitalized.\n\"\"\"\n\ndef lst_sentence(lst):\n    \n    def cap(word):\n        word = word.capitalize()\n        return word\n           \n    return list(map(cap, lst))\n    \nlst = [\"mop\", \"sop\", \"dop\"]    \nprint(lst_sentence(lst))",
   "execution_count": null,
   "outputs": []
  },
  {
   "metadata": {
    "trusted": false
   },
   "cell_type": "code",
   "source": "\"\"\"\nProblem: 713\nWrite a program that takes a list of strings and removes all spaces from each string using `map()`.\n\"\"\"\n\ndef lst_sentence(lst):\n    \n    def remove_spaces(word):\n        return word.replace(\" \", \"\")\n           \n    return list(map(remove_spaces, lst))\n    \nlst = [\"mop in tate\", \"sop in tate\", \"dop in tate\"]    \nprint(lst_sentence(lst))",
   "execution_count": null,
   "outputs": []
  },
  {
   "metadata": {
    "trusted": false
   },
   "cell_type": "code",
   "source": "\"\"\"\nProblem: 714\nCreate a program that takes a list of tuples representing (width, height) and returns a list of their areas using `map()`.\n\"\"\"\n\ndef lst_of_tuples(lst):\n    \n    def area_lst(dimensions):\n        width, height = dimensions\n        area = width * height\n        return area\n        \n    return list(map(area_lst, lst))\n            \nlst = [(3, 5), (4, 9), (3, 9)]    \nprint(lst_of_tuples(lst))",
   "execution_count": null,
   "outputs": []
  },
  {
   "metadata": {
    "trusted": false
   },
   "cell_type": "code",
   "source": "\"\"\"\nProblem: 715\nUse `map()` to take a list of URLs and extract the domain name from each one.\n\"\"\"\n\ndef extract_domain(lst):\n    \n    def domain(url):\n        return url.split(\"//\")[-1].split(\"/\")[0]\n        \n    return list(map(domain, lst))\n\nurls = [\n    \"https://www.example.com/page\",\n    \"http://another-domain.org\",\n    \"https://sub.domain.com/path/to/resource\"\n]\n\nprint(extract_domain(urls))",
   "execution_count": null,
   "outputs": []
  },
  {
   "metadata": {
    "trusted": false
   },
   "cell_type": "code",
   "source": "\"\"\"\nProblem: 716\nWrite a function that takes two lists: one of numbers and one of strings, and returns a list of tuples pairing the elements using `map()`.\n\"\"\"\n\ndef pair_elements(numbers, strings):\n    \n    def pair(num, string):\n        return (num, string)\n    \n    return list(map(pair, numbers, strings))\n\nnumbers = [1, 2, 3]\nstrings = [\"apple\", \"banana\", \"cherry\"]\nprint(pair_elements(numbers, strings))",
   "execution_count": null,
   "outputs": []
  },
  {
   "metadata": {
    "trusted": false
   },
   "cell_type": "code",
   "source": "\"\"\"\nProblem: 717\nCreate a program that converts a list of lowercase letters to uppercase using `map()`.\n\"\"\"\n\ndef lowercase_to_uppercase(lst):\n    \n    def to_uppercase(letter):\n        return letter.upper()\n    \n    return list(map(to_uppercase, lst))\n\nlst = ['a', 'b', 'c', 'd']\nprint(lowercase_to_uppercase(lst))",
   "execution_count": null,
   "outputs": []
  },
  {
   "metadata": {
    "trusted": false
   },
   "cell_type": "code",
   "source": "\"\"\"\nProblem: 718\nUse `map()` to calculate the factorial of each number in a list.\n\"\"\"\n\ndef factorial_lst(lst):\n    \n    def factorial(num):\n        result = 1\n        for i in range(1, num + 1):\n            result *= i\n        return result\n    \n    return list(map(factorial, lst))\n\nlst = [3, 4, 5, 6]\nprint(factorial_lst(lst))\n\nimport math\n\ndef factorial_lst(lst):\n    \n    def factorial(num):\n        return math.factorial(num)\n    \n    return list(map(factorial, lst))\n\nlst = [3, 4, 5, 6]\nprint(factorial_lst(lst))",
   "execution_count": null,
   "outputs": []
  },
  {
   "metadata": {
    "trusted": true
   },
   "cell_type": "code",
   "source": "\"\"\"\nProblem: 719\nWrite a program that takes a list of sentences and returns a list of sentences in which each word is reversed using `map()`.\n\"\"\"\n\ndef reverse_words_in_sentences(lst):\n    \n    def reverse_sentence(sentence):\n        words = sentence.split()\n        reversed_words = []\n        for word in words:\n            reversed_words.append(word[::-1])\n        return ' '.join(reversed_words)\n        \n    return list(map(reverse_sentence, lst))\n\nlst = [\"The cat is fast\", \"Hello world\", \"Python is fun\"]\nprint(reverse_words_in_sentences(lst))\n\ndef reverse_words_in_sentences(lst):\n    \n    def reverse_sentence(sentence):\n        words = sentence.split()\n        reversed_words = []\n        for word in words:\n            reversed_words.append(word[::-1])\n        return reversed_words\n        \n    return list(map(reverse_sentence, lst))\n\nlst = [\"The cat is fast\", \"Hello world\", \"Python is fun\"]\nprint(reverse_words_in_sentences(lst))",
   "execution_count": 2,
   "outputs": [
    {
     "output_type": "stream",
     "text": "['ehT tac si tsaf', 'olleH dlrow', 'nohtyP si nuf']\n[['ehT', 'tac', 'si', 'tsaf'], ['olleH', 'dlrow'], ['nohtyP', 'si', 'nuf']]\n",
     "name": "stdout"
    }
   ]
  },
  {
   "metadata": {
    "trusted": true
   },
   "cell_type": "code",
   "source": "\"\"\"\nProblem: 720\nUse `map()` to check whether the elements of a list of strings contain only alphabetic characters.\n\"\"\"\n\ndef lst_strings(lst):\n    \n    def alpha_only(word):\n        if word.isalpha():\n            return True\n        else:\n            return False\n            \n    return list(map(alpha_only, lst))\n                \n\nlst = [\"monkey\", \"tomy&\", \"magic\"]\nprint(lst_strings(lst))",
   "execution_count": 3,
   "outputs": [
    {
     "output_type": "stream",
     "text": "[True, False, True]\n",
     "name": "stdout"
    }
   ]
  },
  {
   "metadata": {
    "trusted": false
   },
   "cell_type": "code",
   "source": "\"\"\"\nProblem: 721\nWrite a function that takes a list of floats and returns a list where each float is squared using `map()`.\n\"\"\"\n\ndef square_floats(lst):\n    \n    def square(num):\n        return num * num\n        \n    return list(map(square, lst))\n\nlst = [2.5, 3.1, 4.8, 6.7]\nprint(square_floats(lst))",
   "execution_count": null,
   "outputs": []
  },
  {
   "metadata": {
    "trusted": false
   },
   "cell_type": "code",
   "source": "\"\"\"\nProblem: 722\nGiven a list of phone numbers, use `map()` to format them as international phone numbers.\n\"\"\"\n\ndef format_phone_numbers(lst):\n    \n    def format_number(number):\n        return f\"+1-{number}\"\n        \n    return list(map(format_number, lst))\n\nlst = [\"5551234567\", \"5559876543\", \"5556789123\"]\nprint(format_phone_numbers(lst))",
   "execution_count": null,
   "outputs": []
  },
  {
   "metadata": {
    "trusted": false
   },
   "cell_type": "code",
   "source": "\"\"\"\nProblem: 723\nUse `map()` to find the absolute value of each number in a list.\n\"\"\"\n\ndef absolute_values(lst):\n    \n    def absolute(num):\n        return abs(num)\n        \n    return list(map(absolute, lst))\n\nlst = [-10, 5, -3.2, 8]\nprint(absolute_values(lst))",
   "execution_count": null,
   "outputs": []
  },
  {
   "metadata": {
    "trusted": false
   },
   "cell_type": "code",
   "source": "\"\"\"\nProblem: 724\nWrite a program that takes two lists of integers and returns a list of tuples pairing corresponding numbers from each list using `map()`.\n\"\"\"\n\ndef pair_lists(lst1, lst2):\n    \n    def pair_numbers(num1, num2):\n        return (num1, num2)\n\n    return list(map(pair_numbers, lst1, lst2))\n\nlst1 = [1, 2, 3]\nlst2 = [4, 5, 6]\nprint(pair_lists(lst1, lst2))",
   "execution_count": null,
   "outputs": []
  },
  {
   "metadata": {
    "trusted": true
   },
   "cell_type": "code",
   "source": "\"\"\"\nProblem: 725\nUse `map()` to convert a list of tuples representing (x, y) coordinates into polar coordinates.\n\"\"\"\n\nimport math\n\ndef cartesian_to_polar(lst):\n    \n    def to_polar(coords):\n        x, y = coords\n        r = math.sqrt(x**2 + y**2)\n        theta = math.atan2(y, x)\n        return (r, theta)\n\n    return list(map(to_polar, lst))\n\ncoordinates = [(1, 1), (0, 0), (3, 4)]\nprint(cartesian_to_polar(coordinates))",
   "execution_count": 6,
   "outputs": [
    {
     "output_type": "stream",
     "text": "[(1.4142135623730951, 0.7853981633974483), (0.0, 0.0), (5.0, 0.9272952180016122)]\n",
     "name": "stdout"
    }
   ]
  },
  {
   "metadata": {
    "trusted": false
   },
   "cell_type": "code",
   "source": "\"\"\"\nProblem: 726\nWrite a program that uses `map()` to find the cube of each number in a list.\n\"\"\"\n\ndef lst_cubes(lst):\n    \n    def cube(num):\n        return num ** 3\n        \n    return list(map(cube, lst))\n\nnumbers = [1, 2, 3, 4, 5]\nprint(lst_cubes(numbers))",
   "execution_count": null,
   "outputs": []
  },
  {
   "metadata": {
    "trusted": true
   },
   "cell_type": "code",
   "source": "\"\"\"\nProblem: 727\nUse `map()` to create a program that takes a list of integers and returns a list of their squares and cubes as tuples.\n\"\"\"\n\ndef lst_squares_and_cubes(lst):\n    \n    def square_and_cube(num):\n        return (num ** 2, num ** 3)\n        \n    return list(map(square_and_cube, lst))\n\nlst = [1, 2, 3, 4, 5]\nprint(lst_squares_and_cubes(lst))",
   "execution_count": 7,
   "outputs": [
    {
     "output_type": "stream",
     "text": "[(1, 1), (4, 8), (9, 27), (16, 64), (25, 125)]\n",
     "name": "stdout"
    }
   ]
  },
  {
   "metadata": {
    "trusted": false
   },
   "cell_type": "code",
   "source": "\"\"\"\nProblem: 728\nWrite a program that uses `map()` to convert a list of RGB tuples into hexadecimal color codes.\n\"\"\"\n\ndef rgb_to_hex(lst):\n    \n    def to_hex(rgb):\n        return '#{:02x}{:02x}{:02x}'.format(rgb[0], rgb[1], rgb[2])\n        \n    return list(map(to_hex, lst))\n\nlst = [(255, 0, 0), (0, 255, 0), (0, 0, 255)]\nprint(rgb_to_hex(lst))",
   "execution_count": null,
   "outputs": []
  },
  {
   "metadata": {
    "trusted": false
   },
   "cell_type": "code",
   "source": "\"\"\"\nProblem: 729\nGiven a list of mixed-case strings, use `map()` to return a list of strings where every second string is converted to uppercase.\n\"\"\"\n\ndef mixed_case_string(lst):\n    \n    def second_uppercase(word):\n        return word[0] + word[1].upper() + word[2:]\n\n    return list(map(second_uppercase, lst))\n\nlst = [\"first\", \"second\", \"third\", \"fourth\"]\nprint(mixed_case_string(lst))",
   "execution_count": null,
   "outputs": []
  },
  {
   "metadata": {
    "trusted": false
   },
   "cell_type": "code",
   "source": "\"\"\"\nProblem: 730\nWrite a function that uses `map()` to convert a list of dates (in string format) into Python `datetime` objects.\n\"\"\"\n\nfrom datetime import datetime\n\ndef convert_dates(date_list):\n    \n    def parse_date(date_string):\n        return datetime.strptime(date_string, \"%Y-%m-%d\")\n    \n    return list(map(parse_date, date_list))\n\ndate_list = [\"2024-01-01\", \"2023-12-25\", \"2022-07-04\"]\nprint(convert_dates(date_list))",
   "execution_count": null,
   "outputs": []
  },
  {
   "metadata": {
    "trusted": true
   },
   "cell_type": "code",
   "source": "\"\"\"\nProblem: 731\nUse `map()` to calculate the square roots of each number in a list.\n\"\"\"\n\nimport math\n\ndef calculate_square_roots(numbers):\n    def square_root(x):\n        return math.sqrt(x)\n    \n    return list(map(square_root, numbers))\n\nnumbers = [1, 4, 9, 16, 25]\nprint(calculate_square_roots(numbers))",
   "execution_count": null,
   "outputs": []
  },
  {
   "metadata": {
    "trusted": true
   },
   "cell_type": "code",
   "source": "\"\"\"\nProblem: 732\nCreate a program that uses `map()` to calculate the percentage of each score in a list of scores based on the maximum score.\n\"\"\"\n\ndef calculate_percentage(scores, max_score):\n    def percentage(score):\n        return (score / max_score) * 100\n    \n    return list(map(percentage, scores))\n\nscores = [50, 75, 100, 80]\nmax_score = 100\nprint(calculate_percentage(scores, max_score))",
   "execution_count": 1,
   "outputs": [
    {
     "output_type": "stream",
     "text": "[50.0, 75.0, 100.0, 80.0]\n",
     "name": "stdout"
    }
   ]
  },
  {
   "metadata": {
    "trusted": true
   },
   "cell_type": "code",
   "source": "\"\"\"\nProblem: 733\nWrite a Python program that defines a helper function `add(a, b)` to return the sum of two numbers, and uses it to sum a list of numbers.\n\"\"\"\n\ndef add(a, b):\n    return a + b\n\ndef sum_list(numbers):\n    total = 0\n    for number in numbers:\n        total = add(total, number)\n    return total\n\nnumbers = [1, 2, 3, 4, 5]\nresult = sum_list(numbers)\nprint(result)",
   "execution_count": null,
   "outputs": []
  },
  {
   "metadata": {
    "trusted": true
   },
   "cell_type": "code",
   "source": "\"\"\"\nProblem: 734\nCreate a program with a helper function `is_even(n)` that returns `True` if a number is even and `False` otherwise, and use it to filter a list of numbers.\n\"\"\"\n\ndef is_even(n):\n    return n % 2 == 0\n\ndef filter_even_numbers(numbers):\n    return list(filter(is_even, numbers))\n\nnumbers = [1, 2, 3, 4, 5, 6, 7, 8, 9, 10]\neven_numbers = filter_even_numbers(numbers)\nprint(even_numbers)",
   "execution_count": null,
   "outputs": []
  },
  {
   "metadata": {
    "trusted": true
   },
   "cell_type": "code",
   "source": "\"\"\"\nProblem: 735\nWrite a program that uses a helper function `capitalize_first_letter(word)` to capitalize the first letter of each word in a list of strings.\n\"\"\"\n\ndef capitalize_first_letter(word):\n    return word.capitalize()\n\ndef word_list(lst):\n    return list(map(capitalize_first_letter, lst))\n\nlst = [\"first\", \"letter\", \"word\"]\nprint(word_list(lst))\n\n\ndef word_list(lst):\n    return list(map(capitalize_first_letter, lst))\n\ndef capitalize_first_letter(word):\n    return word.capitalize()\n\nlst = [\"first\", \"letter\", \"word\"]\nprint(word_list(lst))",
   "execution_count": null,
   "outputs": []
  },
  {
   "metadata": {
    "trusted": true
   },
   "cell_type": "code",
   "source": "\"\"\"\nProblem: 736\nDefine a helper function `find_max(numbers)` that returns the maximum number from a list, and use it in a program to find the largest number.\n\"\"\"\n\ndef lst_numbers(lst):\n    return find_max(lst)\n    \ndef find_max(numbers):\n    return max(numbers)\n    \nlst = [2, 4, 6]\nprint(lst_numbers(lst))",
   "execution_count": null,
   "outputs": []
  },
  {
   "metadata": {
    "trusted": true
   },
   "cell_type": "code",
   "source": "\"\"\"\nProblem: 737\nCreate a helper function `convert_to_celsius(fahrenheit)` that converts a temperature from Fahrenheit to Celsius, and use it to convert a list of temperatures.\n\"\"\"\n\ndef lst_tempertures(lst):\n    return list(map(convert_to_celsius, lst))\n    \ndef convert_to_celsius(fahrenheit):\n    return (fahrenheit - 32) / 1.8\n       \nlst = [1, 16, 20, 27]    \nprint(lst_tempertures(lst))",
   "execution_count": null,
   "outputs": []
  },
  {
   "metadata": {
    "trusted": true
   },
   "cell_type": "code",
   "source": "\"\"\"\nProblem: 738\nWrite a program that defines a helper function `reverse_string(s)` that returns the reversed version of a string, and uses it to reverse all strings in a list.\n\"\"\"\n\ndef string_lst(lst):\n    return list(map(reverse_string, lst))\n\ndef reverse_string(word):\n    return word[::-1]\n\nlst = [\"hello\", \"twice\"]    \nprint(string_lst(lst))",
   "execution_count": null,
   "outputs": []
  }
 ],
 "metadata": {
  "kernelspec": {
   "name": "python3",
   "display_name": "Python 3",
   "language": "python"
  },
  "language_info": {
   "name": "python",
   "version": "3.10.4",
   "mimetype": "text/x-python",
   "codemirror_mode": {
    "name": "ipython",
    "version": 3
   },
   "pygments_lexer": "ipython3",
   "nbconvert_exporter": "python",
   "file_extension": ".py"
  }
 },
 "nbformat": 4,
 "nbformat_minor": 2
}