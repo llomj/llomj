{
 "cells": [
  {
   "metadata": {
    "trusted": false
   },
   "cell_type": "code",
   "source": "\"\"\"\n'format()' Method in Python: A Comprehensive Overview\n\nThe `format()` method in Python is a powerful and versatile tool for formatting strings. It allows you to embed variables, expressions, and other data types into strings with a high degree of control over the formatting. The `format()` method replaces placeholders within a string with specified values and is a cleaner alternative to string concatenation or older `%` formatting.\n\nBasic Structure of format():\n----------------------------\nThe basic syntax of `format()` is as follows:\n\n    \"string with placeholders {}\".format(values)\n\nPlaceholders, enclosed in curly braces `{}`, are replaced by the corresponding values passed to the `format()` method.\n\n1. **Positional and Keyword Arguments**:\n   The `format()` method allows both positional and keyword arguments. Positional arguments are replaced in the order they appear, while keyword arguments can be referenced by name.\n\n    Example:\n    \n        \"Hello {}, you are {} years old.\".format(\"Alice\", 30)\n    \n    This replaces the first `{}` with \"Alice\" and the second `{}` with 30. Alternatively, you can use keyword arguments:\n    \n        \"Hello {name}, you are {age} years old.\".format(name=\"Alice\", age=30)\n\n2. **Indexing in Positional Arguments**:\n   You can also refer to positional arguments by their index. For example:\n   \n        \"First: {0}, Second: {1}\".format(\"Apple\", \"Banana\")\n        \n   This refers to the first argument as `{0}` and the second argument as `{1}`. You can repeat or rearrange indices as needed:\n   \n        \"Reversed: {1}, {0}\".format(\"Apple\", \"Banana\")\n\nAdvanced Formatting with format():\n---------------------------------\nThe `format()` method also supports advanced formatting, such as alignment, padding, number formatting, and more.\n\n1. **Alignment and Padding**:\n   You can align text to the left (`<`), right (`>`), or center (`^`) within a specific width by including the alignment symbol after the colon `:` in the placeholder.\n\n    Example:\n    \n        \"{:<10}\".format(\"left\")    # Left-aligns in a 10-character space\n        \"{:>10}\".format(\"right\")   # Right-aligns in a 10-character space\n        \"{:^10}\".format(\"center\")  # Centers text in a 10-character space\n        \n   You can also pad the output with a specific character (other than spaces):\n   \n        \"{:_<10}\".format(\"left\")    # Left-aligns and pads with underscores\n        \"{:*>10}\".format(\"right\")   # Right-aligns and pads with asterisks\n\n2. **Number Formatting**:\n   The `format()` method allows you to format numbers in various ways, such as specifying decimal places, adding commas, or using scientific notation.\n\n    Examples:\n    \n        \"{:.2f}\".format(3.14159)   # Formats the number with 2 decimal places (3.14)\n        \"{:,}\".format(1000000)     # Formats the number with commas as a thousands separator (1,000,000)\n        \"{:.2e}\".format(1234.567)  # Formats the number in scientific notation (1.23e+03)\n\n3. **Percentages and Other Specialized Formats**:\n   You can format numbers as percentages, currencies, or hexadecimal values:\n\n    Example:\n    \n        \"{:.2%}\".format(0.75)    # Formats the number as a percentage (75.00%)\n        \"{:X}\".format(255)       # Formats the number in hexadecimal (FF)\n\nNamed Placeholders and Dictionaries:\n------------------------------------\nYou can pass values to `format()` using named placeholders and even unpack dictionaries using `**`.\n\nExample:\n    \n    \"Name: {name}, Age: {age}\".format(name=\"Bob\", age=25)\n\nIf you have a dictionary, you can unpack it directly into the placeholders:\n\n    person = {\"name\": \"Alice\", \"age\": 30}\n    \"Name: {name}, Age: {age}\".format(**person)\n\nThis allows for clean, readable code when working with data stored in dictionaries.\n\nHandling Complex Expressions:\n------------------------------\n`format()` can also handle more complex expressions and function calls within the placeholders. For example, you can apply arithmetic or method calls:\n\n    \"5 + 3 = {}\".format(5 + 3)\n    \"Uppercase: {}\".format(\"hello\".upper())\n\nThese placeholders support any valid Python expression, making the `format()` method extremely flexible.\n\nExample 1: Basic String Formatting\n----------------------------------\nThis example demonstrates basic usage of `format()` to insert variables into a string:\n\n    name = \"Alice\"\n    age = 30\n    print(\"Name: {}, Age: {}\".format(name, age))\n\nIn this case, the placeholders `{}` are replaced with the values of `name` and `age`. The output would be:\n\n    Name: Alice, Age: 30\n\nExample 2: Formatting Numbers with Decimal Places\n-------------------------------------------------\nIf you need to control the number of decimal places when displaying floating-point numbers, `format()` allows this easily:\n\n    pi = 3.14159265\n    print(\"Pi to 2 decimal places: {:.2f}\".format(pi))\n\nHere, `{:.2f}` formats the value of `pi` to two decimal places, outputting:\n\n    Pi to 2 decimal places: 3.14\n\nExample 3: Padding and Alignment\n-------------------------------\nYou can control the alignment of text within a fixed width using the `format()` method:\n\n    print(\"{:<10} | {:^10} | {:>10}\".format(\"left\", \"center\", \"right\"))\n\nThis formats the three strings within a 10-character wide field, left-aligning the first, centering the second, and right-aligning the third:\n\n    left       |   center   |      right\n\nExample 4: Number Formatting with Commas and Percentages\n--------------------------------------------------------\nFor financial data or percentages, `format()` simplifies formatting significantly:\n\n    total = 1234567.89\n    print(\"Total: ${:,.2f}\".format(total))\n    \n    completion = 0.85\n    print(\"Completion: {:.2%}\".format(completion))\n\nThese will output:\n\n    Total: $1,234,567.89\n    Completion: 85.00%\n\nReal-World Example: Formatting User Input\n-----------------------------------------\nIn a real-world application, you might need to format user input or dynamically generated values. For example, displaying a user’s profile information in a readable format:\n\n    name = \"John\"\n    age = 28\n    occupation = \"Engineer\"\n    print(\"Name: {name}, Age: {age}, Occupation: {occupation}\".format(name=name, age=age, occupation=occupation))\n\nThis method allows you to produce well-structured output, even when working with user input or external data.\n\nEfficiency Considerations:\n--------------------------\nWhile `format()` is versatile, it can be slower than using f-strings (introduced in Python 3.6). For large-scale data formatting, where performance is critical, f-strings may be a better choice. However, `format()` remains highly flexible and powerful, especially for older versions of Python or more complex formatting needs.\n\nKey takeaways:\n- `format()` allows for precise control over how strings and numbers are formatted.\n- It supports positional, keyword arguments, and complex expressions.\n- Use `format()` to handle padding, alignment, and various number formats (decimals, percentages, currency).\n- While f-strings are faster, `format()` remains useful for more advanced use cases and compatibility.\n\"\"\"",
   "execution_count": null,
   "outputs": []
  },
  {
   "metadata": {
    "trusted": false
   },
   "cell_type": "code",
   "source": "\"\"\"\nProblem: 866\nWrite a Python program that takes a name and age as input and prints them using format().\n\"\"\"\nname = input(\"Enter your name: \")\nage = input(\"Enter your age: \")\nprint(\"Name: {}, Age: {}\".format(name, age))",
   "execution_count": null,
   "outputs": []
  },
  {
   "metadata": {
    "trusted": false
   },
   "cell_type": "code",
   "source": "\"\"\"\nProblem: 867\nWrite a Python program to print the value of Pi to 5 decimal places using format().\n\"\"\"\nimport math\nprint(\"Value of Pi: {:.5f}\".format(math.pi))",
   "execution_count": null,
   "outputs": []
  },
  {
   "metadata": {
    "trusted": false
   },
   "cell_type": "code",
   "source": "\"\"\"\nProblem: 868\nWrite a Python program that takes two numbers and prints a sentence saying 'The sum of {a} and {b} is {sum}' using format().\n\"\"\"\na = int(input(\"Enter first number: \"))\nb = int(input(\"Enter second number: \"))\nprint(\"The sum of {} and {} is {}\".format(a, b, a + b))",
   "execution_count": null,
   "outputs": []
  },
  {
   "metadata": {
    "trusted": false
   },
   "cell_type": "code",
   "source": "\"\"\"\nProblem: 869\nWrite a Python program that prints a table of numbers and their squares in a formatted string using format().\n\"\"\"\nfor i in range(1, 11):\n    print(\"Number: {}, Square: {}\".format(i, i**2))",
   "execution_count": null,
   "outputs": []
  },
  {
   "metadata": {
    "trusted": false
   },
   "cell_type": "code",
   "source": "\"\"\"\nProblem: 870\nWrite a Python program that prints the current date in the format 'Day: {day}, Month: {month}, Year: {year}' using format().\n\"\"\"\nfrom datetime import datetime\ncurrent_date = datetime.now()\nprint(\"Day: {}, Month: {}, Year: {}\".format(current_date.day, current_date.month, current_date.year))",
   "execution_count": null,
   "outputs": []
  },
  {
   "metadata": {
    "trusted": false
   },
   "cell_type": "code",
   "source": "\"\"\"\nProblem: 871\nWrite a Python program that asks for a float input and prints it rounded to 2 decimal places using format().\n\"\"\"\nnum = float(input(\"Enter a float number: \"))\nprint(\"{:.2f}\".format(num))",
   "execution_count": null,
   "outputs": []
  },
  {
   "metadata": {
    "trusted": false
   },
   "cell_type": "code",
   "source": "\"\"\"\nProblem: 872\nWrite a Python program that prints a percentage as a float (e.g., '25.50%') using format().\n\"\"\"\npercentage = float(input(\"Enter percentage: \"))\nprint(\"{:.2f}%\".format(percentage))",
   "execution_count": null,
   "outputs": []
  },
  {
   "metadata": {
    "trusted": false
   },
   "cell_type": "code",
   "source": "\"\"\"\nProblem: 873\nWrite a Python program that takes a first name and last name as input and prints them in the format 'Last, First' using format().\n\"\"\"\nfirst_name = input(\"Enter first name: \")\nlast_name = input(\"Enter last name: \")\nprint(\"{}, {}\".format(last_name, first_name))",
   "execution_count": null,
   "outputs": []
  },
  {
   "metadata": {
    "trusted": true
   },
   "cell_type": "code",
   "source": "\"\"\"\nProblem: 874\nWrite a Python program to display numbers in scientific notation using format().\n\"\"\"\nnum = 12345.6789\nprint(\"{:.2e}\".format(num))",
   "execution_count": 2,
   "outputs": [
    {
     "output_type": "stream",
     "text": "1.23e+04\n",
     "name": "stdout"
    }
   ]
  },
  {
   "metadata": {
    "trusted": true
   },
   "cell_type": "code",
   "source": "\"\"\"\nProblem: 875\nWrite a Python program that formats a price (e.g., '$12.50') by padding it with leading zeros using format().\n\"\"\"\nprice = 12.50\nprint(\"${:07.2f}\".format(price))",
   "execution_count": null,
   "outputs": []
  },
  {
   "metadata": {
    "trusted": false
   },
   "cell_type": "code",
   "source": "\"\"\"\nProblem: 876\nWrite a Python program that formats a 10-character string with left, right, and center alignment using format().\n\"\"\"\nstring = \"Hello\"\nprint(\"{:<10}\".format(string))  # Left alignment\nprint(\"{:>10}\".format(string))  # Right alignment\nprint(\"{:^10}\".format(string))  # Center alignment",
   "execution_count": null,
   "outputs": []
  },
  {
   "metadata": {
    "trusted": true
   },
   "cell_type": "code",
   "source": "\"\"\"\nProblem: 877\nWrite a Python program that prints numbers in binary, octal, and hexadecimal formats using format().\n\"\"\"\nnum = 42\nprint(\"Binary: {0:b}, Octal: {0:o}, Hexadecimal: {0:x}\".format(num))",
   "execution_count": 4,
   "outputs": [
    {
     "output_type": "stream",
     "text": "Binary: 101010, Octal: 52, Hexadecimal: 2a\n",
     "name": "stdout"
    }
   ]
  },
  {
   "metadata": {
    "trusted": true
   },
   "cell_type": "code",
   "source": "\"\"\"\nProblem: 878\nWrite a Python program that prints an address in a formatted table using format() (e.g., 'Street', 'City', 'Zip Code').\n\"\"\"\nstreet = \"Main St\"\ncity = \"Springfield\"\nzipcode = \"12345\"\nprint(\"{:<20} {:<20} {:<10}\".format(\"Street\", \"City\", \"Zip Code\"))\nprint(\"{:<20} {:<20} {:<10}\".format(street, city, zipcode))",
   "execution_count": null,
   "outputs": []
  },
  {
   "metadata": {
    "trusted": true
   },
   "cell_type": "code",
   "source": "\"\"\"\nProblem: 879\nWrite a Python program that formats a string to always have a minimum of 10 characters by padding with spaces using format().\n\"\"\"\nshort_str = \"Python\"\nprint(\"{:<10}\".format(short_str))",
   "execution_count": null,
   "outputs": []
  },
  {
   "metadata": {
    "trusted": true
   },
   "cell_type": "code",
   "source": "\"\"\"\nProblem: 880\nWrite a Python program that formats a given number with commas as a thousands separator using format().\n\"\"\"\nnumber = 1234567890\nprint(\"{:,}\".format(number))",
   "execution_count": 7,
   "outputs": [
    {
     "output_type": "stream",
     "text": "1,234,567,890\n",
     "name": "stdout"
    }
   ]
  },
  {
   "metadata": {
    "trusted": false
   },
   "cell_type": "code",
   "source": "\"\"\"\nProblem: 881\nWrite a Python program to format a temperature in Celsius and Fahrenheit using format(), e.g., 'Temperature: {temp}°C / {temp_f}°F'.\n\"\"\"\ncelsius = 25\nfahrenheit = (celsius * 9/5) + 32\nprint(\"Temperature: {}°C / {}°F\".format(celsius, fahrenheit))",
   "execution_count": null,
   "outputs": []
  },
  {
   "metadata": {
    "trusted": true
   },
   "cell_type": "code",
   "source": "\"\"\"\nProblem: 882\nWrite a Python program that prints a list of grades with the average score formatted as a percentage using format().\n\"\"\"\ngrades = [85, 90, 78, 92]\naverage = sum(grades) / len(grades)\nprint(\"Grades: {}. Average: {:.2f}%\".format(grades, average))",
   "execution_count": 8,
   "outputs": [
    {
     "output_type": "stream",
     "text": "Grades: [85, 90, 78, 92]. Average: 86.25%\n",
     "name": "stdout"
    }
   ]
  },
  {
   "metadata": {
    "trusted": false
   },
   "cell_type": "code",
   "source": "\"\"\"\nProblem: 883\nWrite a Python program that takes a user’s weight in kilograms and prints it with units using format(), e.g., 'Weight: 70 kg'.\n\"\"\"\nweight = float(input(\"Enter weight in kg: \"))\nprint(\"Weight: {} kg\".format(weight))",
   "execution_count": null,
   "outputs": []
  },
  {
   "metadata": {
    "trusted": false
   },
   "cell_type": "code",
   "source": "\"\"\"\nProblem: 884\nWrite a Python program to display a given number with a leading plus or minus sign using format().\n\"\"\"\nnumber = -45\nprint(\"{:+}\".format(number))",
   "execution_count": null,
   "outputs": []
  },
  {
   "metadata": {
    "trusted": false
   },
   "cell_type": "code",
   "source": "\"\"\"\nProblem: 885\nWrite a Python program to format a currency value (e.g., 'USD 50.00') with format().\n\"\"\"\ncurrency = 50.00\nprint(\"USD {:.2f}\".format(currency))",
   "execution_count": null,
   "outputs": []
  },
  {
   "metadata": {
    "trusted": false
   },
   "cell_type": "code",
   "source": "\"\"\"\nProblem: 886\nWrite a Python program that displays a person’s height in feet and inches formatted like '5’9’’' using format().\n\"\"\"\nheight_feet = 5\nheight_inches = 9\nprint(\"{}'{}''\".format(height_feet, height_inches))",
   "execution_count": null,
   "outputs": []
  },
  {
   "metadata": {
    "trusted": false
   },
   "cell_type": "code",
   "source": "\"\"\"\nProblem: 887\nWrite a Python program that prints a person’s details (name, age, and profession) in a neatly formatted sentence using format().\n\"\"\"\nname = \"Alice\"\nage = 30\nprofession = \"Engineer\"\nprint(\"Name: {}, Age: {}, Profession: {}\".format(name, age, profession))",
   "execution_count": null,
   "outputs": []
  },
  {
   "metadata": {
    "trusted": true
   },
   "cell_type": "code",
   "source": "\"\"\"\nProblem: 888\nWrite a Python program to print a multiplication table where each entry is formatted with 4 characters wide using format().\n\"\"\"\nfor i in range(1, 11):\n    for j in range(1, 11):\n        print(\"{:4}\".format(i * j), end=\" \")\n    print()",
   "execution_count": null,
   "outputs": []
  },
  {
   "metadata": {
    "trusted": true
   },
   "cell_type": "code",
   "source": "\"\"\"\nProblem: 889\nWrite a Python program that displays a long string and limits its length to 20 characters using format().\n\"\"\"\nlong_str = \"This is a very long string\"\nprint(\"{:.20}\".format(long_str))",
   "execution_count": null,
   "outputs": []
  },
  {
   "metadata": {
    "trusted": false
   },
   "cell_type": "code",
   "source": "\"\"\"\nProblem: 890\nWrite a Python program that prints out the time in a 'hh:mm:ss' format using format().\n\"\"\"\nnow = datetime.now()\nprint(\"{:02}:{:02}:{:02}\".format(now.hour, now.minute, now.second))",
   "execution_count": null,
   "outputs": []
  },
  {
   "metadata": {
    "trusted": false
   },
   "cell_type": "code",
   "source": "\"\"\"\nProblem: 891\nWrite a Python program to format a student’s name and grade in the form '{name} scored {grade}% in the exam' using format().\n\"\"\"\nstudent_name = \"John\"\ngrade = 95\nprint(\"{} scored {}% in the exam\".format(student_name, grade))",
   "execution_count": null,
   "outputs": []
  },
  {
   "metadata": {
    "trusted": false
   },
   "cell_type": "code",
   "source": "\"\"\"\nProblem: 892\nWrite a Python program that prints the sentence 'You have {count} messages' where the count is a dynamically changing number, using format().\n\"\"\"\nmessage_count = 5\nprint(\"You have {} messages\".format(message_count))",
   "execution_count": null,
   "outputs": []
  },
  {
   "metadata": {
    "trusted": false
   },
   "cell_type": "code",
   "source": "\"\"\"\nProblem: 893\nWrite a Python program that formats a float number to 3 decimal places using format().\n\"\"\"\nfloat_num = 123.456789\nprint(\"{:.3f}\".format(float_num))",
   "execution_count": null,
   "outputs": []
  },
  {
   "metadata": {
    "trusted": false
   },
   "cell_type": "code",
   "source": "\"\"\"\nProblem: 894\nWrite a Python program that displays a number as currency with the dollar sign and 2 decimal points using format().\n\"\"\"\namount = 2500.5\nprint(\"${:,.2f}\".format(amount))",
   "execution_count": null,
   "outputs": []
  },
  {
   "metadata": {
    "trusted": false
   },
   "cell_type": "code",
   "source": "\"\"\"\nProblem: 895\nWrite a Python program that prints out the formatted string 'Name: {first_name} {last_name}, Age: {age}' using variables and format().\n\"\"\"\nfirst_name = \"John\"\nlast_name = \"Doe\"\nage = 25\nprint(\"Name: {} {}, Age: {}\".format(first_name, last_name, age))",
   "execution_count": null,
   "outputs": []
  }
 ],
 "metadata": {
  "kernelspec": {
   "name": "python3",
   "display_name": "Python 3",
   "language": "python"
  },
  "language_info": {
   "name": "python",
   "version": "3.10.4",
   "mimetype": "text/x-python",
   "codemirror_mode": {
    "name": "ipython",
    "version": 3
   },
   "pygments_lexer": "ipython3",
   "nbconvert_exporter": "python",
   "file_extension": ".py"
  }
 },
 "nbformat": 4,
 "nbformat_minor": 2
}