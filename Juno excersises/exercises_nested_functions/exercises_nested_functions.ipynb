{
 "cells": [
  {
   "metadata": {
    "trusted": false
   },
   "cell_type": "code",
   "source": "\"\"\"\n- **Definition**:\n  - A **nested function** is a function that is defined inside another function. In Python, functions can be declared inside other functions, meaning you can have one function enclosed within the body of another. The outer function is called the **enclosing function**, and the inner one is the **nested function**.\n\n- **Purpose**:\n  - Nested functions are often used to logically group functionality or to encapsulate functionality within another function. This is useful when you want to avoid polluting the global namespace and keep helper functions limited to the context of the outer function. They can also enable more complex features like **closures**.\n\n- **How It Works**:\n  - A nested function has access to variables and parameters of the outer (enclosing) function. It follows the **scope chain** in Python: the inner function can access the local variables of the outer function but not the other way around.\n  - The nested function is not visible outside of the enclosing function. It can only be called within the outer function.\n\n- **Common Use Cases**:\n  1. **Helper Functions**: When a helper function is only relevant within the scope of a larger function, it can be nested to limit its visibility.\n     - Example: A helper function for calculating interest inside a banking transaction function.\n     ```python\n     def transaction(amount):\n         def calculate_interest(a):\n             return a * 0.05\n         return amount + calculate_interest(amount)\n     ```\n\n  2. **Closures**: A nested function can \"remember\" the state of variables from its enclosing function even after the outer function has completed execution. This allows the nested function to form a closure, which can retain access to the variables it needs from the outer function's context.\n     - Example: \n     ```python\n     def outer(x):\n         def inner(y):\n             return x + y\n         return inner\n     \n     adder = outer(10)  # outer(10) returns the inner function, which now \"remembers\" x = 10\n     result = adder(5)  # inner function is called with y = 5, returns 10 + 5 = 15\n     ```\n\n  3. **Encapsulation**: Nested functions help encapsulate functionality within an outer function, keeping it private and avoiding global name conflicts. They are particularly useful in larger functions to maintain clarity and organization.\n\n  4. **Callback Functions**: When a function requires a small, single-purpose function to be passed to it as an argument, you might define that function within the calling function to keep the code tidy.\n     - Example: Using nested functions in event handling or callbacks within GUI applications.\n\n- **Scopes and Variable Access**:\n  - **Local Scope**: The nested function has access to variables defined in its own local scope.\n  - **Enclosing Scope**: The nested function can access variables from its enclosing function. This is useful for sharing data between the outer and nested function.\n  - **Global Scope**: If necessary, the nested function can also access global variables, but best practice recommends avoiding this unless absolutely required.\n\n- **Practical Benefits**:\n  1. **Modularity**: Nesting functions allows you to divide a large task into smaller, more manageable pieces of code without making them accessible throughout the entire program.\n  2. **Code Readability**: When you need a function that is only relevant within the scope of another function, nesting improves readability and avoids confusion. It makes clear that the inner function is meant to be used solely within the outer function.\n  3. **Avoiding Name Conflicts**: Since the nested function is not available outside the outer function, there’s no risk of name conflicts with other parts of the program.\n\n- **Closures Explained**:\n  - A closure is a type of nested function that retains the values of the variables from the enclosing function even after the enclosing function has finished executing. It effectively \"closes over\" the environment in which it was created.\n  - This is useful for functions that need to be called later with specific context (e.g., event handling, delayed computations).\n\n  - Example of Closure:\n  ```python\n  def multiply_by(factor):\n      def multiply(number):\n          return number * factor\n      return multiply\n\n  double = multiply_by(2)  # Creates a closure where factor = 2\n  result = double(5)  # Outputs 10, since 5 * 2 = 10",
   "execution_count": null,
   "outputs": []
  },
  {
   "metadata": {
    "trusted": false
   },
   "cell_type": "code",
   "source": "",
   "execution_count": null,
   "outputs": []
  },
  {
   "metadata": {
    "trusted": false
   },
   "cell_type": "code",
   "source": "",
   "execution_count": null,
   "outputs": []
  },
  {
   "metadata": {
    "trusted": false
   },
   "cell_type": "code",
   "source": "",
   "execution_count": null,
   "outputs": []
  },
  {
   "metadata": {
    "trusted": false
   },
   "cell_type": "code",
   "source": "",
   "execution_count": null,
   "outputs": []
  },
  {
   "metadata": {
    "trusted": false
   },
   "cell_type": "code",
   "source": "",
   "execution_count": null,
   "outputs": []
  },
  {
   "metadata": {
    "trusted": false
   },
   "cell_type": "code",
   "source": "",
   "execution_count": null,
   "outputs": []
  },
  {
   "metadata": {
    "trusted": false
   },
   "cell_type": "code",
   "source": "",
   "execution_count": null,
   "outputs": []
  },
  {
   "metadata": {
    "trusted": false
   },
   "cell_type": "code",
   "source": "",
   "execution_count": null,
   "outputs": []
  },
  {
   "metadata": {
    "trusted": false
   },
   "cell_type": "code",
   "source": "",
   "execution_count": null,
   "outputs": []
  },
  {
   "metadata": {
    "trusted": false
   },
   "cell_type": "code",
   "source": "",
   "execution_count": null,
   "outputs": []
  },
  {
   "metadata": {
    "trusted": false
   },
   "cell_type": "code",
   "source": "",
   "execution_count": null,
   "outputs": []
  },
  {
   "metadata": {
    "trusted": false
   },
   "cell_type": "code",
   "source": "",
   "execution_count": null,
   "outputs": []
  },
  {
   "metadata": {
    "trusted": false
   },
   "cell_type": "code",
   "source": "",
   "execution_count": null,
   "outputs": []
  },
  {
   "metadata": {
    "trusted": false
   },
   "cell_type": "code",
   "source": "",
   "execution_count": null,
   "outputs": []
  },
  {
   "metadata": {
    "trusted": false
   },
   "cell_type": "code",
   "source": "",
   "execution_count": null,
   "outputs": []
  },
  {
   "metadata": {
    "trusted": false
   },
   "cell_type": "code",
   "source": "",
   "execution_count": null,
   "outputs": []
  },
  {
   "metadata": {
    "trusted": false
   },
   "cell_type": "code",
   "source": "",
   "execution_count": null,
   "outputs": []
  },
  {
   "metadata": {
    "trusted": false
   },
   "cell_type": "code",
   "source": "",
   "execution_count": null,
   "outputs": []
  },
  {
   "metadata": {
    "trusted": false
   },
   "cell_type": "code",
   "source": "",
   "execution_count": null,
   "outputs": []
  },
  {
   "metadata": {
    "trusted": false
   },
   "cell_type": "code",
   "source": "",
   "execution_count": null,
   "outputs": []
  },
  {
   "metadata": {
    "trusted": false
   },
   "cell_type": "code",
   "source": "",
   "execution_count": null,
   "outputs": []
  },
  {
   "metadata": {
    "trusted": false
   },
   "cell_type": "code",
   "source": "",
   "execution_count": null,
   "outputs": []
  },
  {
   "metadata": {
    "trusted": false
   },
   "cell_type": "code",
   "source": "",
   "execution_count": null,
   "outputs": []
  },
  {
   "metadata": {
    "trusted": false
   },
   "cell_type": "code",
   "source": "",
   "execution_count": null,
   "outputs": []
  },
  {
   "metadata": {
    "trusted": false
   },
   "cell_type": "code",
   "source": "",
   "execution_count": null,
   "outputs": []
  },
  {
   "metadata": {
    "trusted": false
   },
   "cell_type": "code",
   "source": "",
   "execution_count": null,
   "outputs": []
  },
  {
   "metadata": {
    "trusted": false
   },
   "cell_type": "code",
   "source": "",
   "execution_count": null,
   "outputs": []
  },
  {
   "metadata": {
    "trusted": false
   },
   "cell_type": "code",
   "source": "",
   "execution_count": null,
   "outputs": []
  },
  {
   "metadata": {
    "trusted": false
   },
   "cell_type": "code",
   "source": "",
   "execution_count": null,
   "outputs": []
  },
  {
   "metadata": {
    "trusted": false
   },
   "cell_type": "code",
   "source": "",
   "execution_count": null,
   "outputs": []
  },
  {
   "metadata": {
    "trusted": false
   },
   "cell_type": "code",
   "source": "",
   "execution_count": null,
   "outputs": []
  },
  {
   "metadata": {
    "trusted": false
   },
   "cell_type": "code",
   "source": "",
   "execution_count": null,
   "outputs": []
  },
  {
   "metadata": {
    "trusted": false
   },
   "cell_type": "code",
   "source": "",
   "execution_count": null,
   "outputs": []
  },
  {
   "metadata": {
    "trusted": false
   },
   "cell_type": "code",
   "source": "",
   "execution_count": null,
   "outputs": []
  },
  {
   "metadata": {
    "trusted": false
   },
   "cell_type": "code",
   "source": "",
   "execution_count": null,
   "outputs": []
  },
  {
   "metadata": {
    "trusted": false
   },
   "cell_type": "code",
   "source": "",
   "execution_count": null,
   "outputs": []
  },
  {
   "metadata": {
    "trusted": false
   },
   "cell_type": "code",
   "source": "",
   "execution_count": null,
   "outputs": []
  },
  {
   "metadata": {
    "trusted": false
   },
   "cell_type": "code",
   "source": "",
   "execution_count": null,
   "outputs": []
  },
  {
   "metadata": {
    "trusted": false
   },
   "cell_type": "code",
   "source": "",
   "execution_count": null,
   "outputs": []
  },
  {
   "metadata": {
    "trusted": false
   },
   "cell_type": "code",
   "source": "",
   "execution_count": null,
   "outputs": []
  },
  {
   "metadata": {
    "trusted": false
   },
   "cell_type": "code",
   "source": "\"\"\"\nProblem: 411\nWrite a Python function called calculate_sum that takes two numbers as arguments. Inside this function, define a nested function that returns their sum.\"\n\"\"\"\ndef calculate_sum(a, b):\n    \n    def inner_sum(x, y):\n        return x + y\n    \n    return inner_sum(a, b)\n\nresult = calculate_sum(7, 3)\nprint(result)\n\n\"\"\"\nProblem: 412\nWrite a Python function called calculate_product that takes two numbers as arguments. Inside this function, define a nested function that returns their product.\n\"\"\"\n\ndef calculate_product(a, b):\n    def product():\n        return a * b\n    return product()\n\nresult = calculate_product(3, 5)\nprint(result)\n\n\"\"\"\nProblem: 413\nWrite a Python function called calculate_difference that takes two numbers as arguments. Inside this function, define a nested function that returns their difference.\n\"\"\"\n\ndef calculate_difference(a, b):\n    def difference():\n        return a - b\n    return difference()\n\nresult = calculate_difference(10, 3)\nprint(result)\n\n\"\"\"\nProblem: 414\nWrite a Python function called calculate_quotient that takes two numbers as arguments. Inside this function, define a nested function that returns their quotient.\n\"\"\"\n\ndef calculate_quotient(a, b):\n    def quotient():\n        return a / b\n    return quotient()\n\nresult = calculate_quotient(10, 2)\nprint(result)\n\n\n\"\"\"\nProblem: 415\nWrite a Python function area_of_rectangle that calculates the area of a rectangle given its length and width. Use a nested function to calculate the area.\n\"\"\"\n\ndef area_of_rectangle(length, width):\n    def area():\n        return length * width\n    return area()\n\nresult = area_of_rectangle(5, 4)\nprint(result)\n\n\"\"\"\nProblem: 416\nWrite a Python function perimeter_of_square that calculates the perimeter of a square given its side length. Use a nested function to calculate the perimeter.\n\"\"\"\n\ndef perimeter_of_square(side_length):\n    def perimeter():\n        return 4 * side_length\n    return perimeter()\n\nresult = perimeter_of_square(5)\nprint(result)\n\n\"\"\"\nProblem: 417\nWrite a Python function called fahrenheit_to_celsius that takes a temperature in Fahrenheit and converts it to Celsius. Use a nested function to do the conversion.\n\"\"\"\n\ndef fahrenheit_to_celsius(fahrenheit):\n    def convert():\n        return (fahrenheit - 32) * 5 / 9\n    return convert()\n\nresult = fahrenheit_to_celsius(68)\nprint(result)\n\n\"\"\"\nProblem: 418\nWrite a Python function called celsius_to_fahrenheit that takes a temperature in Celsius and converts it to Fahrenheit. Use a nested function to do the conversion.\n\"\"\"\n\ndef celsius_to_fahrenheit(celsius):\n    def convert():\n        return (celsius * 9 / 5) + 32\n    return convert()\n\nresult = celsius_to_fahrenheit(20)\nprint(result)\n\n\"\"\"\nProblem: 419\nWrite a Python function called even_or_odd that takes a number and returns whether it’s even or odd. Use a nested function to check this condition.\n\"\"\"\n\ndef even_or_odd(number):\n    def check():\n        if number % 2 == 0:\n            return \"Even\"\n        else:\n            return \"Odd\"\n    return check()\n\nresult = even_or_odd(7)\nprint(result)\n\n\"\"\"\nProblem: 420\nWrite a Python function called is_prime that checks if a number is prime. Use a nested function to iterate and check divisibility of numbers.\n\"\"\"\n\ndef is_prime(number):\n    def check_divisibility(n):\n        for i in range(2, int(n**0.5) + 1):\n            if n % i == 0:\n                return False\n        return True\n\n    if number < 2:\n        return False\n    return check_divisibility(number)\n\nresult = is_prime(29)\nprint(result)\n\n\"\"\"\nProblem: 421\nWrite a Python function called list_sum that takes a list of numbers and returns the sum. Inside it, define a nested function that adds the elements.\n\"\"\"\n\ndef list_sum(numbers):\n    def add_elements():\n        total = 0\n        for number in numbers:\n            total += number\n        return total\n    return add_elements()\n\nresult = list_sum([1, 2, 3, 4])\nprint(result)\n\n\"\"\"\nProblem: 422\nWrite a Python function called list_product that takes a list of numbers and returns the product of all elements. Use a nested function to compute the product.\n\"\"\"\n\ndef list_product(numbers):\n    def multiply_elements():\n        product = 1\n        for number in numbers:\n            product *= number\n        return product\n    return multiply_elements()\n\nresult = list_product([1, 2, 3, 4])\nprint(result)\n\n\"\"\"\nProblem: 423\nWrite a Python function greater_than that takes two numbers and returns True if the first is greater than the second. Use a nested function for comparison.\n\"\"\"\n\ndef greater_than(a, b):\n    def compare():\n        return a > b\n    return compare()\n\nresult = greater_than(10, 5)\nprint(result)\n\n\"\"\"\nProblem: 424\nWrite a Python function string_length that takes a string and returns its length. Use a nested function that calculates and returns the length.\n\"\"\"\n\ndef string_length(s):\n    def calculate_length():\n        length = 0\n        for char in s:\n            length += 1\n        return length\n    return calculate_length()\n\nresult = string_length(\"Hello, World!\")\nprint(result)\n\n\"\"\"\nProblem: 425\nWrite a Python function first_and_last that takes a string and returns its first and last characters using a nested function.\n\"\"\"\n\ndef first_and_last(s):\n    def get_first_last():\n        if len(s) > 0:\n            return s[0], s[-1]\n        else:\n            return None, None\n    return get_first_last()\n\nresult = first_and_last(\"Hello\")\nprint(result)\n\n\"\"\"\nProblem: 426\nWrite a Python function count_vowels that takes a string and counts the number of vowels using a nested function.\n\"\"\"\n\ndef count_vowels(s):\n    def is_vowel(char):\n        return char.lower() in 'aeiou'\n\n    count = 0\n    for char in s:\n        if is_vowel(char):\n            count += 1\n    return count\n\nresult = count_vowels(\"Hello, World!\")\nprint(result)\n\n\"\"\"\nProblem: 427\nWrite a Python function reverse_string that takes a string and returns its reverse using a nested function.\n\"\"\"\n\ndef reverse_string(s):\n    def reverse():\n        reversed_s = \"\"\n        for char in s:\n            reversed_s = char + reversed_s\n        return reversed_s\n    return reverse()\n\nresult = reverse_string(\"Hello\")\nprint(result)\n\n\"\"\"\nProblem: 428\nWrite a Python function is_palindrome that takes a string and checks if it’s a palindrome using a nested function.\n\"\"\"\n\ndef is_palindrome(s):\n    def check():\n        return s == s[::-1]\n    return check()\n\nresult = is_palindrome(\"racecar\")\nprint(result)\n\n\"\"\"\nProblem: 429\nWrite a Python function multiply_by_n that takes a number n and returns another function that multiplies a given number by n.\n\"\"\"\n\ndef multiply_by_n(n):\n    def multiply(x):\n        return n * x\n    return multiply\n\nmultiply_by_3 = multiply_by_n(3)\nresult = multiply_by_3(5)\nprint(result)\n\n\"\"\"\nProblem: 430\nWrite a Python function add_tax that takes a price and returns the price after applying a tax percentage using a nested function.\n\"\"\"\n\ndef add_tax(price):\n    def calculate_tax():\n        tax_rate = 0.15\n        return price + (price * tax_rate)\n    return calculate_tax()\n\nresult = add_tax(100)\nprint(result)\n\n\"\"\"\nProblem: 431\nWrite a Python function greet_person that takes a name and returns a greeting using a nested function.\n\"\"\"\n\ndef greet_person(name):\n    def greeting():\n        return f\"Hello, {name}!\"\n    return greeting()\n\nresult = greet_person(\"Alice\")\nprint(result)\n\n\"\"\"\nProblem: 432\nWrite a Python function factorial that calculates the factorial of a number using a nested recursive function.\n\"\"\"\n\ndef factorial(n):\n    def calc_factorial(num):\n        if num == 0 or num == 1:\n            return 1\n        else:\n            return num * calc_factorial(num - 1)\n\n    return calc_factorial(n)\n\nresult = factorial(5)\nprint(result)\n\n\"\"\"\nProblem: 433\nWrite a Python function exponent that calculates the result of raising a number to a power using a nested function.\n\"\"\"\n\ndef exponent(base, power):\n    def calculate():\n        result = 1\n        for _ in range(power):\n            result *= base\n        return result\n    return calculate()\n\nresult = exponent(2, 3)\nprint(result)\n\n\"\"\"\nProblem: 434\nWrite a Python function gcd that calculates the greatest common divisor of two numbers using a nested function.\n\"\"\"\n\ndef gcd(a, b):\n    def calculate_gcd(x, y):\n        while y != 0:\n            (x, y) = (y, x % y)\n        return x\n    return calculate_gcd(a, b)\n\nresult = gcd(48, 18)\nprint(result)\n\n\"\"\"\nProblem: 435\nWrite a Python function lcm that calculates the least common multiple of two numbers using a nested function.\n\"\"\"\n\ndef lcm(a, b):\n    def calculate_lcm(x, y):\n        return abs(x * y) // gcd(x, y)\n\n    def gcd(x, y):\n        while y != 0:\n            (x, y) = (y, x % y)\n        return x\n\n    return calculate_lcm(a, b)\n\nresult = lcm(4, 5)\nprint(result)\n\n\n\"\"\"\nProblem: 436\nWrite a Python function square_of_number that returns the square of a number using a nested function.\n\"\"\"\n\ndef square_of_number(n):\n    def square():\n        return n * n\n    return square()\n\nresult = square_of_number(5)\nprint(result)\n\n\"\"\"\nProblem: 437\nWrite a Python function cube_of_number that returns the cube of a number using a nested function.\n\"\"\"\n\ndef cube_of_number(n):\n    def cube():\n        return n * n * n\n    return cube()\n\nresult = cube_of_number(3)\nprint(result)\n\n\"\"\"\nProblem: 438\nWrite a Python function sort_list_descending that takes a list and sorts it in descending order using a nested function.\n\"\"\"\n\ndef sort_list_descending(lst):\n    def sort():\n        sorted_list = []\n        while lst:\n            maximum = lst[0]\n            for item in lst:\n                if item > maximum:\n                    maximum = item\n            sorted_list.append(maximum)\n            lst.remove(maximum)\n        return sorted_list\n    return sort()\n\nresult = sort_list_descending([4, 1, 3, 2])\nprint(result)\n\n\"\"\"\nProblem: 439\nWrite a Python function max_of_three that takes three numbers and returns the maximum using a nested function.\n\"\"\"\n\ndef max_of_three(a, b, c):\n    def find_max():\n        max_value = a\n        if b > max_value:\n            max_value = b\n        if c > max_value:\n            max_value = c\n        return max_value\n    return find_max()\n\nresult = max_of_three(10, 20, 15)\nprint(result)\n\n\"\"\"\nProblem: 440\nWrite a Python function average_of_list that calculates the average of a list of numbers using a nested function. Do not use sum() and len()\n\"\"\"\n\ndef average_of_list(lst):\n    def calculate_average():\n        total = 0\n        count = 0\n        for number in lst:\n            total += number\n            count += 1\n        return total / count if count != 0 else 0\n    return calculate_average()\n\nresult = average_of_list([10, 20, 30, 40])\nprint(result)\n\n\"\"\"\nProblem: 441\nWrite a Python function average_of_list that calculates the average of a list of numbers using a nested function.\n\"\"\"\n\ndef average_of_list(lst):\n    def calculate_average():\n        total = 0\n        count = 0\n        for number in lst:\n            total += number\n            count += 1\n        return total / count if count != 0 else 0\n    return calculate_average()\n\nresult = average_of_list([5, 15, 25])\nprint(result)\n\n\"\"\"\nProblem: 442\nWrite a Python function is_uppercase that checks if all characters in a string are uppercase using a nested function.\n\"\"\"\n\ndef is_uppercase(s):\n    def check():\n        for char in s:\n            if not char.isupper():\n                return False\n        return True\n    return check()\n\nresult = is_uppercase(\"HELLO\")\nprint(result)\n\n\"\"\"\nProblem: 443\nWrite a Python function is_lowercase that checks if all characters in a string are lowercase using a nested function.\n\"\"\"\n\ndef is_lowercase(s):\n    def check():\n        for char in s:\n            if not char.islower():\n                return False\n        return True\n    return check()\n\nresult = is_lowercase(\"hello\")\nprint(result)\n\n\"\"\"\nProblem: 444\nWrite a Python function string_contains_digit that checks if a string contains a digit using a nested function.\n\"\"\"\n\ndef string_contains_digit(string):\n    \n    def contains_digit(x):\n        for char in x:\n            if char.isdigit():\n                return True\n        return False\n        \n    return contains_digit(string)\n        \nstring = \"jonathan5\"\nprint(string_contains_digit(string))\n\n\"\"\"\nProblem: 445\nWrite a Python function string_contains_letter that checks if a string contains a letter using a nested function.\n\"\"\"\n\ndef string_contains_letter(string):\n    \n    def contains_letter(x):\n        for char in x:\n            if char.isalpha():\n                return True\n        return False\n        \n    return contains_letter(string)\n        \nstring = \"123455g\"\nprint(string_contains_letter(string))\n\n\"\"\"\nProblem: 446\nWrite a Python function calculate_average that takes three numbers and returns their average using a nested function.\n\"\"\"\n\ndef average_of_list(lst):\n    \n    def average(x):\n        for number in x:\n            count_len = len(x)\n            add_num = sum(x)\n            total = add_num / count_len\n            \n        return total\n        \n    return average(lst)\n\nlst = [34, 67, 667]\nprint(average_of_list(lst))\n\n\"\"\"\nProblem: 447\nWrite a Python function check_multiple_of_n that takes two numbers and checks if the first is a multiple of the second using a nested function.\n\"\"\"\n\ndef check_multiple_of_n(num1, num2):\n    \n    def is_multiple(x, y):\n        return x % y == 0 \n    \n    return is_multiple(num1, num2)\n\nprint(check_multiple_of_n(10, 2))\nprint(check_multiple_of_n(10, 3)) \n\n\"\"\"\nProblem: 448\nWrite a Python function longest_string that takes a list of strings and returns the longest one using a nested function.\n\"\"\"\n\ndef longest_string(lst):\n    \n    def longest(x):\n        longest_word = x[0]\n        for word in x:\n            if word > longest_word:\n                longest_word = word\n        return longest_word\n            \n    return longest(lst)\n                    \nlst = [\"jon\", \"zonathan\", \"mimi\"]\nprint(longest_string(lst))\n\n\ndef longest_string(lst):\n\n    def find_longest(strings):\n        return max(strings, key=len)\n    \n    return find_longest(lst)\n    \nlst = [\"jon\", \"zonathan\", \"mimi\"]\nprint(longest_string(lst))\n\n\"\"\"\nProblem: 449\nWrite a Python function shortest_string that takes a list of strings and returns the shortest one using a nested function.\n\"\"\"\n\ndef shortest_string(lst):\n    \n    def shortest(x):\n        return min(x, key=len)\n        \n    return shortest(lst)\n        \nlst = [\"chris\", \"tit\", \"mountain\"]\nprint(shortest_string(lst))\n\n\"\"\"\nProblem: 450\nWrite a Python function remove_duplicates that takes a list and removes duplicates using a nested function.\n\"\"\"\n\ndef remove_duplicates(lst):\n    \n    def duplicates_removed(x):\n        unique = set()\n        \n        for word in x:\n            unique.add(word)\n        return unique\n        \n    return duplicates_removed(lst)\n\nlst = [\"not\", \"not\", \"today\", \"today\"]\nprint(remove_duplicates(lst))\n\n\"\"\"\nProblem: 451\nWrite a Python function fibonacci that generates the nth Fibonacci number using a nested recursive function.\n\"\"\"\n\ndef fibonacci(n):\n\n    def fib_recursive(n):\n        if n <= 1:\n            return n\n        else:\n            return fib_recursive(n - 1) + fib_recursive(n - 2)\n    \n    return fib_recursive(n)\n\nn = 10 \nprint(fibonacci(n))\n\n\"\"\"\nProblem: 452\nWrite a Python function called calculate_sum that takes two numbers as arguments. Inside this function, define a nested function that returns their sum and another function that returns the multiplication.\"\n\"\"\"\ndef calculate_sum(a, b):\n    \n    def inner_sum(x, y):\n        return x + y\n    \n    def inner_mult(x, y):\n        return x * y\n    \n    return inner_sum(a, b), inner_mult(a, b)\n\nprint(calculate_sum(7, 3))\n\n\n\"\"\"\nProblem: 453\nWrite a Python function called calculate_integers that takes two numbers as arguments. Inside this function, define nested functions that returns their product, sum and division.\n\"\"\"\n\ndef calculate_integers(a, b):\n    \n    def product(x, y):\n        return x * y\n        \n    def sum_int(x, y):\n        return x + y\n        \n    def division(x, y):\n        return x / y\n        \n    return product(a, b), sum_int(a, b), division(a, b)\n    \nprint(calculate_integers(10, 5))\n\n\"\"\"\nProblem: 455\nWrite a Python function average_of_list that calculates the average of a list of numbers using a nested function. Use len() and sum().\n\"\"\"\n\ndef average_of_list(lst):\n    \n    def average(x):\n        for number in x:\n            count_len = len(x)\n            add_num = sum(x)\n            total = add_num / count_len\n            \n        return total\n        \n    return average(lst)\n\nlst = [34, 67, 667]\nprint(average_of_list(lst))\n\n\n\"\"\"\nProblem: 565\nSquare List Elements: Write a function that takes a list of numbers and returns a list of their squares using map().\n\"\"\"\n\ndef square_lst(lst):\n    return list(map(square, lst))\n\ndef square(num):\n    return num ** 2\n\nlst = [2, 4, 6, 8]\nprint(square_lst(lst))\n\n\"\"\"\nProblem: 566\nFilter Odd Numbers: Write a function that takes a list of numbers and returns only the odd numbers using filter().\n\"\"\"\n\ndef filter_odd_numbers(lst):\n    return list(filter(is_odd, lst))\n\ndef is_odd(x):\n    return x % 2 != 0\n\nlst = [1, 2, 3, 4, 5, 6, 7, 8, 9]\nprint(filter_odd_numbers(lst))\n\n\"\"\"\nProblem: 567\nFilter Even Numbers: Write a function that filters all even numbers from a list using filter().\n\"\"\"\n\ndef filters_even_numbers(lst):\n    return list(filter(even_num, lst))\n\ndef even_num(num):\n    if num % 2 != 0:\n        return num\n\nlst = [4, 67, 2, 78, 3, 1, 466, 7]\nprint(filters_even_numbers(lst))\n\n\"\"\"\nProblem: 568\nConvert to Uppercase: Write a function that takes a list of strings and returns the same list with each string converted to uppercase using map().\n\"\"\"\n\ndef convert_to_uppercase(lst):\n    return list(map(str.upper, lst))\n\nlst = [\"sleep\", \"walk\", \"eat\"]    \nprint(convert_to_uppercase(lst))\n\n\"\"\"\nProblem: 569\nRemove Empty Strings: Write a function that filters out empty strings from a list using filter().\n\"\"\"\n\ndef empty_strings(lst):\n    return list(filter(call_filter, lst))\n    \ndef call_filter(string):\n    return string.strip() != \"\"\n    \nlst = [\"dog\", \"  \", \"cat\"]    \nprint(empty_strings(lst))\n\n\"\"\"\nProblem: 570\nMultiply List Elements: Write a function that takes a list of numbers and returns a list where each number is multiplied by 5 using map().\n\"\"\"\n\ndef multiply_lst(lst):\n    \n    def multiply_by_five(x):\n        return x * 5\n    \n    return list(map(multiply_by_five, lst))\n\nlst = [2, 5, 20]\nprint(multiply_lst(lst))\n\n\"\"\"\nProblem: 571\nString Lengths: Write a function that takes a list of strings and returns their lengths using map().\n\"\"\"\n\ndef lst_of_string(lst):\n    \n    def len_string(word):\n        return len(word)\n    return list(map(len_string, lst))\n        \nlst = [\"hot\", \"cold\", \"giraffe\"]\nprint(lst_of_string(lst))\n\n\"\"\"\nProblem: 572\nFilter Palindromes: Write a function that filters out palindromes (words that read the same backward) from a list using filter().\n\"\"\"\n\ndef palindromes(lst):\n    \n    def filter_palindrome(word):\n        if word != word[::-1]:\n            return word\n            \n    return list(filter(filter_palindrome, lst))\n               \nlst = [\"radar\", \"red\", \"blue\", \"level\", \"noon\"]\nprint(palindromes(lst))\n\n\"\"\"\nProblem: 573\nSum of List: Write a function that calculates the sum of a list of numbers using reduce().\n\"\"\"\n\nfrom functools import reduce\n\ndef sum_of_lst(lst):\n    \n    def add(x, y):\n        return x + y\n        \n    return reduce(add, lst)\n\nlst = [1, 2, 3, 4, 5]\nprint(sum_of_list(lst))\n\ndef add(x, y):\n    return x + y\n\ndef sum_of_list(lst):\n    return reduce(add, lst)\n\nlst = [1, 2, 3, 4, 5]\nprint(sum_of_list(lst))\n\n\"\"\"\nProblem: 574\nProduct of List: Write a function that computes the product of a list of numbers using reduce().\n\"\"\"\n\nfrom functools import reduce\n\ndef sum_of_lst(lst):\n    \n    def add(x, y):\n        return x * y\n        \n    return reduce(add, lst)\n\nlst = [1, 2, 3, 4, 5]\nprint(sum_of_list(lst))\n\ndef multiply(x, y):\n    return x * y\n\ndef product_of_list(lst):\n    return reduce(multiply, lst)\n\nlst = [1, 2, 3, 4, 5]\nprint(product_of_list(lst))\n\n\"\"\"\nProblem: 575\nCapitalize Strings: Write a function that takes a list of strings and returns the list with each string capitalized using map().\n\"\"\"\n\ndef lst_strings(lst):\n    \n    def capitalize_lst(word):\n        word = word.capitalize()\n        return word\n        \n    return list(map(capitalize_lst, lst))\n    \n    \nlst = [\"today\", \"hello\", \"sunshine\"]\nprint(lst_strings(lst))  \n\n\"\"\"\nProblem: 576\nFind Minimum: Write a function that finds the minimum number in a list using reduce().\n\"\"\"\n\nfrom functools import reduce\n\ndef min_number(x, y):\n    return x if x < y else y\n\ndef number_lst(lst):\n    return reduce(min_number, lst)\n\nlst = [34, 67, 1, 778]    \nprint(number_lst(lst))\n\n\"\"\"\nProblem: 577\nFind Maximum: Write a function that finds the maximum number in a list using reduce().\n\"\"\"\n\nfrom functools import reduce\n\ndef min_number(x, y):\n    return x if x > y else y\n\ndef number_lst(lst):\n    return reduce(min_number, lst)\n\nlst = [34, 67, 1, 778]    \nprint(number_lst(lst))\n\n\"\"\"\nProblem: 578\nFilter Short Words: Write a function that filters out words shorter than 4 characters from a list using filter().\n\"\"\"\n\ndef list_words(lst):\n    \n    def filter_word(word):\n        if len(word) > 3:\n            return word\n            \n    return list(filter(filter_word, lst))\n    \n    \nlst = [\"bot\", \"not\", \"boat\", \"chop\"]    \nprint(list_words(lst))\n\n\"\"\"\nProblem: 579\nConcatenate Strings: Write a function that concatenates all strings in a list using reduce().\n\"\"\"\n\nfrom functools import reduce\n\ndef lst_strings(lst):\n    \n    def concatenate_lst(x, y):\n        return x + y\n        \n    return reduce(concatenate_lst, lst)\n    \n\nlst = [\"to\", \"day\", \"is\", \"great\"]    \nprint(lst_strings(lst)) \n\n\"\"\"\nProblem: 580\nFilter Positive Numbers: Write a function that filters only positive numbers from a list using filter().\n\"\"\"\n\ndef num_lst(lst):\n    \n    def filter_num(num):\n        if num > 1:\n            return num\n    return list(filter(filter_num, lst))\n    \nlst = [-45, 4, 5, -56, 6]    \nprint(num_lst(lst))\n\n\"\"\"\nProblem: 581\nCube List Elements: Write a function that returns a list where each element of the input list is cubed using map().\n\"\"\"\n\ndef num_lst(lst):\n    \n    def cubed_num(num):\n        return num ** 3\n            \n    return list(map(cubed_num, lst))\n\nlst = [-45, 4, 5, -56, 6]    \nprint(num_lst(lst))\n\n\"\"\"\nProblem: 582\nSum of Squares: Write a function that returns the sum of squares of a list of numbers using map() and reduce().\n\"\"\"\n\nfrom functools import reduce\n\ndef lst_numbers(lst):\n    \n    def square_number(num):\n        return num ** 2\n\n    def add(x, y):\n        return x + y\n    \n    squared_lst = map(square_number, lst)\n    return reduce(add, squared_lst)\n\nlst = [2, 4, 6, 8]    \nprint(lst_numbers(lst))\n\n\"\"\"\nProblem: 583\nCombine Names: Write a function that takes two lists (first names, last names) and returns a list of full names using map().\n\"\"\"\n\ndef lst_2(lst1, lst2):\n    \n    def combine_names(first_last):\n        return f\"{first_last[0]} {first_last[1]}\"\n        \n    return list(map(combine_names, zip(lst1, lst2)))\n    \nlst1 = [\"Tom\", \"Bob\"]\nlst2 = [\"Dupond\", \"lesnake\"]    \nprint(lst_2(lst1, lst2))\n\n\"\"\"\nProblem: 584\nFilter Non-Alphabetic Strings: Write a function that filters out strings that contain non-alphabetic characters using filter().\n\"\"\"\n\ndef non_alphabetical_string(string):\n    \n    def non_alph(char):\n        return char.isalpha()\n            \n    return ''.join(filter(non_alph, string))\n           \nstring = \"whats up dog !?!@$\"\nprint(non_alphabetical_string(string))\n\n\"\"\"\nProblem: 585\nCount Words: Write a function that counts how many times each word appears in a list using reduce()\n\"\"\"\n\nfrom functools import reduce\n\ndef lst_words(lst):\n    \n    def count_word(counts, word):\n        if word in counts:\n            counts[word] += 1\n        else:\n            counts[word] = 1\n        return counts\n        \n    return reduce(count_word, lst, {})\n\nlst = [\"Jon\", \"Chris\", \"Mike\", \"Chris\", \"Chris\"]    \nprint(lst_words(lst))\n\n\"\"\"\nProblem: 586\nUnique Words: Write a function that filters out only unique words from a list using filter() and a helper function.\n\"\"\"\n\ndef unique_words(lst):\n    \n    def is_unique(word):\n        return lst.count(word) == 1\n        \n    return list(filter(is_unique, lst))\n\nwords = [\"apple\", \"banana\", \"apple\", \"orange\", \"kiwi\", \"banana\"]\nprint(unique_words(words))\n\n\"\"\"\nProblem: 587\nWord Lengths Greater Than N: Write a function that filters words with a length greater than n using filter().\n\"\"\"\n\ndef word_lst(lst):\n    \n    def filter_word(word):\n        if len(word) > n:\n            return word\n            \n    return list(filter(filter_word, lst))\n    \nlst = [\"not\", \"four\", \"September\", \"October\"]\nn = 4\nprint(word_lst(lst))\n\n\"\"\"\nProblem: 588\nApply Multiple Functions: Write a function that applies two different functions to a list, one after another (e.g., first squares the numbers, then filters out even ones).\n\"\"\"\n\ndef apply_lsts(lst):\n    \n    def square_num(num):\n        return num * num\n        \n    def filter_num(num):\n        return num % 2 != 0 \n    \n    squared_lst = list(map(square_num, lst))\n    \n    filtered_lst = list(filter(filter_num, squared_lst))\n    \n    \n    return filtered_lst\n\nlst = [2, 4, 2, 3, 5, 22, 3, 8]    \nprint(apply_lsts(lst))\n\n\"\"\"\nProblem: 589\nSum of Nested Lists: Write a function that flattens and sums all elements of a nested list using map() and reduce().\n\"\"\"\n\nfrom functools import reduce\n\ndef sum_of_nested(lst):\n    \n    def flatten(nested_list):\n        flat_list = []\n        for item in nested_list:\n            if isinstance(item, list):\n                flat_list.extend(flatten(item))\n            else:\n                flat_list.append(item)\n        return flat_list\n\n    flattened_list = flatten(lst)\n    \n    return reduce(lambda x, y: x + y, flattened_list)\n\nnested_list = [[1, 2], [3, [4, 5]], [6, [7, [8, 9]]]]\nprint(sum_of_nested(nested_list))\n\n\"\"\"\nProblem: 590\nFirst N Fibonacci Numbers: Write a function that generates the first N Fibonacci numbers using reduce().\n\"\"\"\n\nfrom functools import reduce\n\ndef fibonacci_n_numbers(n):\n    \n    def fib(acc, _):\n        return acc + [acc[-1] + acc[-2]]\n        \n    return reduce(fib, range(n - 2), [0, 1])[:n]\n\nprint(fibonacci_n_numbers(10))\n\n\"\"\"\nProblem: 591\nCount Vowels in Strings: Write a function that counts how many vowels are present in each string of a list using map() and a helper function.\n\"\"\"\n\ndef lst_string(lst):\n    \n    def count_vowels(word):\n        vowels = \"aeiou\"\n        count = 0\n        for char in word:\n            if char in vowels:\n                count += 1\n        return count\n        \n    return list(map(count_vowels, lst))\n    \n    \nlst = [\"Jonathan\", \"mountain\", \"lion\"]    \nprint(lst_string(lst))\n\n\"\"\"\nProblem: 592\nSum of Even Numbers: Write a function that computes the sum of all even numbers in a list using filter() and reduce().\n\"\"\"\n\nfrom functools import reduce\n\ndef sum_even_numbers(lst):\n    def is_even(num):\n        return num % 2 == 0\n\n    def sum_numbers(x, y):\n        return x + y\n\n    even_numbers = filter(is_even, lst)\n    return reduce(sum_numbers, even_numbers)\n\nlst = [1, 2, 3, 4, 5, 6]\nprint(sum_even_numbers(lst))\n\n\"\"\"\nProblem: 593\nFind Longest String: Write a function that finds the longest string in a list using reduce().\n\"\"\"\n\nfrom functools import reduce\n\ndef lst_string(lst):\n    \n    def longest_string(x, y):\n        if len(x) > len(y):\n            return x\n        else:\n            return y\n        \n    return reduce(longest_string, lst)\n        \nlst = [\"shop\", \"mountain\", \"not\"]\nprint(lst_string(lst))\n\n\"\"\"\nProblem: 594\nCumulative Sum: Write a function that returns a list of cumulative sums of a given list using reduce().\n\"\"\"\n\nfrom functools import reduce\n\ndef lst_num(lst):\n    \n    def cumulative(x, y):\n       return x + y\n        \n    return reduce(cumulative, lst)\n        \nlst = [2, 2, 2, 2, 2]\nprint(lst_num(lst))\n\n\"\"\"\nProblem: 595\nFlatten Nested Lists: Write a function that flattens a list of lists into a single list using reduce().\n\"\"\"\n\nfrom functools import reduce\n\ndef flatten(lst):\n    \n    def concatenate(x, y):\n        return x + y\n    return reduce(concatenate, lst)\n\nnested_list = [[1, 2, 3], [4, 5], [6, 7, 8]]\nflattened_list = flatten(nested_list)\nprint(flattened_list)\n\n\"\"\"\nProblem: 596\nWord Frequency Count: Write a function that counts the frequency of each word in a list using reduce().\n\"\"\"\n\nfrom functools import reduce\n\ndef lst_words(lst):\n    \n    def count_frequency(result, word):\n        if word in result:\n            result[word] += 1\n        else:\n            result[word] = 1\n        return result\n    \n    return reduce(count_frequency, lst, {})\n\nlst = [\"word\", \"sentence\", \"paragraph\", \"word\", \"word\"]    \nprint(lst_words(lst))\n\n\"\"\"\nProblem: 597\nAnagram Filter: Write a function that filters out words that are anagrams of a given word using filter().\n\"\"\"\n\ndef lst_words(lst, target_word):\n    \n    def anagram_filter(word):\n        return sorted(word) != sorted(target_word)\n\n    return list(filter(anagram_filter, lst))\n\nlst = [\"listen\", \"sentence\", \"stop\", \"word\", \"rat\", \"trail\"]\ntarget_word = \"listen\"\nfiltered_words = lst_words(lst, target_word)\nprint(filtered_words)\n\n\"\"\"\nProblem: 598\nCompose Functions: Write a function that takes two functions and composes them (i.e., applies one after another).\n\"\"\"\n\ndef compose(func1, func2):\n    \n    def composed_function(x):\n        return func2(func1(x))\n    return composed_function\n\ndef add_one(x):\n    return x + 1\n\ndef multiply_by_two(x):\n    return x * 2\n\ncomposed_function = compose(add_one, multiply_by_two)\n\nresult = composed_function(5)  # (5 + 1) * 2\nprint(result)  # Output: 12\n\n\"\"\"\nProblem: 599\nGroup By Length: Write a function that groups words by their lengths using reduce().\n\"\"\"\n\nfrom functools import reduce\n\ndef word_string(string):\n    words = string.split()\n    \n    def sort_len_words(x, y):\n        if len(x) == 0:\n            return [y]\n        if len(y) >= len(x[-1]):\n            x.append(y)\n            return x\n        else:\n            x.insert(0, y)\n            return x\n\n    return reduce(sort_len_words, words, [])\n\nstring = \"let's group words by the length\"\nprint(word_string(string))\n\n\"\"\"\nProblem: 600\nFilter Prime Numbers: Write a function that filters prime numbers from a list using filter() and a helper function to check for primality.\n\"\"\"\n\ndef is_prime(n):\n    if n <= 1:\n        return False\n    for i in range(2, int(n**0.5) + 1):\n        if n % i == 0:\n            return False\n    return True\n\ndef filter_primes(lst):\n    return list(filter(is_prime, lst))\n\nnumbers = [1, 2, 3, 4, 5, 6, 7, 8, 9, 10, 11, 12, 13]\nprime_numbers = filter_primes(numbers)\nprint(prime_numbers)\n\n\"\"\"\nProblem: 601\nMap with Index: Write a function that uses map() but passes the index of each element to the mapping function as well.\n\"\"\"\n\ndef map_with_index(lst, func):\n    \n    def indexed_func(indexed_item):\n        index, item = indexed_item\n        return func(index, item)\n\n    return list(map(indexed_func, enumerate(lst)))\n\n\ndef example_func(index, value):\n    return index * value\n\nnumbers = [10, 20, 30, 40]\nresult = map_with_index(numbers, example_func)\nprint(result)\n\n\"\"\"\nProblem: 602\nIntersection of Two Lists: Write a function that finds the intersection of two lists using filter().\n\"\"\"\n\ndef is_in_list(x, list2):\n    return x in list2\n\ndef intersection(list1, list2):\n    \n    def check_in_list(x):\n        return is_in_list(x, list2)\n    \n    return list(filter(check_in_list, list1))\n\nlist1 = [1, 2, 3, 4, 5]\nlist2 = [4, 5, 6, 7, 8]\nresult = intersection(list1, list2)\nprint(result)\n\n\"\"\"\nProblem: 603\nAverage of List: Write a function that calculates the average of a list of numbers using reduce().\n\"\"\"\n\nfrom functools import reduce\n\ndef add(x, y):\n    return x + y\n\ndef average(lst):\n    if not lst:\n        return 0\n    total = reduce(add, lst)\n    return total / len(lst)\n\nnumbers = [10, 20, 30, 40, 50]\nresult = average(numbers)\nprint(result)\n\n\"\"\"\nProblem: 604\nCompose Multiple Functions: Write a function that takes a list of functions and an initial value, and applies the functions sequentially to the value using reduce().\n\"\"\"\n\nfrom functools import reduce\n\ndef compose_functions(functions, initial_value):\n    def apply_functions(x, func):\n        return func(x)\n    \n    return reduce(apply_functions, functions, initial_value)\n\n# Example usage\ndef add_one(x):\n    return x + 1\n\ndef multiply_by_two(x):\n    return x * 2\n\nfunctions = [add_one, multiply_by_two, add_one]\ninitial_value = 5\nresult = compose_functions(functions, initial_value)\nprint(result)\n\n\"\"\"\nProblem: 605\nWrite a program to create a dictionary and retrieve a list of its keys. Use key().\n\"\"\"\n\ndef get_keys(dic):\n    return list(dic.keys())\n\ndic = {\"Sam\": 56, \"Chris\": 34, \"Simon\": 12}\nprint(get_keys(dic)) \n\ndef get_dict_keys():\n    my_dict = {\n        'apple': 3,\n        'banana': 5,\n        'cherry': 2,\n        'date': 7\n    }\n\n    return list(my_dict.keys())\n\nkeys_list = get_dict_keys()\nprint(keys_list)\n\n\"\"\"\nProblem: 606\nWrite a function that sorts a list of strings by their length using the key parameter. Use key().\n\"\"\"\n\ndef sort_string_len(lst):\n    \n    return sorted(lst, key=len)\n\n\nlst = [\"length\", \"lenny\", \"len\"]    \nprint(sort_string_len(lst))\n\n\"\"\"\nProblem: 607\nWrite a Python program to sort a list of tuples based on the second element of each tuple using key().\n\"\"\"\n\ndef lst_tuples_second(lst):\n    \n    def sort_tuples(x):\n        return x[1]\n        \n    return sorted(lst, key=sort_tuples)\n\nlst = [(\"ton\", 54), (\"tron\", 4), (\"zicn\", 1)]    \nprint(lst_tuples_second(lst))\n\n\"\"\"\nProblem: 608\nWrite a function to sort a list of dictionaries by a specific key in each dictionary using key().\n\"\"\"\n\ndef sort_dicts_by_key(lst, target_key):\n    \n    def get_key_value(d):\n        return d[target_key]\n    \n    return sorted(lst, key=get_key_value)\n\ndicts = [\n    {\"id\": 5, \"name\": \"zinc\"},\n    {\"id\": 3, \"name\": \"metal\"},\n    {\"id\": 8, \"name\": \"gold\"},\n    {\"id\": 6, \"name\": \"copper\"},\n    {\"id\": 3, \"name\": \"ruby\"}\n]\n\ntarget_key = \"id\"\nsorted_dicts = sort_dicts_by_key(dicts, target_key)\nprint(sorted_dicts)\n\n\"\"\"\nProblem: 609\nWrite a Python program to sort a list of names by their last name using the key().\n\"\"\" \n\ndef sort_last_names(names):\n    \n    def get_last_name(name):\n        return name.split()[-1]\n    \n    return sorted(names, key=get_last_name)\n\nnames = [\"Tom Simons\", \"Lisa Johnson\", \"Mark Twain\", \"Sarah Connor\", \"Peter Parker\"]\nprint(sort_last_names(names))\n\n\"\"\"\nProblem: 610\nWrite a function that sorts a list of mixed case strings, ignoring case. use key parameter.\n\"\"\"\n\ndef sort_ignore_case(strings):\n    \n    def case_insensitive_key(s):\n        return s.lower()\n    \n    return sorted(strings, key=case_insensitive_key)\n\nmixed_case_strings = [\"banana\", \"Apple\", \"orange\", \"mango\", \"grape\"]\nsorted_strings = sort_ignore_case(mixed_case_strings)\nprint(sorted_strings)\n\n\"\"\"\nProblem: 611\nWrite a Python program to sort a list of floats in descending order. Use key().\n\"\"\"\n\ndef list_floats(lst):\n    \n    def sort(x):\n        return x\n        \n    return sorted(lst, key=sort, reverse=True)\n\n\nlst = [3.6, 56.5, 78.3, 1.5, 0.006]\nprint(list_floats(lst))\n\n\"\"\"\nProblem: 612\nWrite a function that sorts a list of words by the number of vowels they contain using the key parameter.\n\"\"\"\n\ndef lst_words(lst):\n    \n    def sort(x):\n        vowels = \"aeiou\"\n        \n        count = 0\n        for char in x.lower():\n            if char in vowels:\n                count += 1\n        return count\n        \n    return sorted(lst, key=sort)\n    \nlst = [\"jobaeiou\", \"Jo\", \"aei\"]    \nprint(lst_words(lst))\n\n\"\"\"\nProblem: 613\nWrite a Python program to sort a list of people by their age from a list of dictionaries.\n\"\"\"\n\ndef sort_people_by_age(people):\n    \n    def get_age(person):\n        return person['age']\n    \n    return sorted(people, key=get_age)\n\npeople = [\n    {\"name\": \"Jon\", \"age\": 34},\n    {\"name\": \"Sam\", \"age\": 23},\n    {\"name\": \"Bob\", \"age\": 45}\n]\nsorted_people = sort_people_by_age(people)\nprint(sorted_people)\n\n\"\"\"\nProblem: 614\nWrite a function that sorts a list of integers based on the sum of their digits using the key parameter.\n\"\"\"\n\ndef lst_integers(lst):\n    \n    def sort_sum(x):\n        total = 0\n        for digit in str(x):\n            total += int(digit) \n        return total\n    \n    return sorted(lst, key=sort_sum)\n\nlst = [5666, 566, 56, 6]\nsorted_list = lst_integers(lst)\nprint(sorted_list)\n\n\"\"\"\nProblem: 615\nWrite a Python program to sort a list of products by price using the key parameter.\n\"\"\"\n\ndef lst_products(lst):\n    \n    def sort(product):\n        return product['price']\n\n    return sorted(lst, key=sort)\n\nproducts = [\n    {\"name\": \"chocolate\", \"price\": 2.50},\n    {\"name\": \"bread\", \"price\": 1.20},\n    {\"name\": \"milk\", \"price\": 1.50},\n    {\"name\": \"cheese\", \"price\": 3.00}\n]\nsorted_products = lst_products(products)\nprint(sorted_products)\n\n\"\"\"\nProblem: 616\nWrite a function that sorts a list of dates in string format (e.g., “YYYY-MM-DD”) using the key parameter.\n\"\"\"\n\ndef sort_dates(dates):\n    \n    def date_key(date_str):\n        year, month, day = map(int, date_str.split('-'))\n        return (year, month, day) \n\n    return sorted(dates, key=date_key)\n\ndate_list = [\n    \"2022-01-15\",\n    \"2021-12-25\",\n    \"2023-05-05\",\n    \"2020-11-30\"\n]\n\nsorted_dates = sort_dates(date_list)\nprint(sorted_dates)\n\n\"\"\"\nProblem: 617\nWrite a Python program to sort a list of tuples by the first element, then by the second if the first elements are equal using key.\n\"\"\"\n\ndef lst_tuples(lst):\n    def sort(tup):\n        return (tup[0], tup[1]) \n    \n    return sorted(lst, key=sort)\n\nlst = [(\"nice\", \"good\"), (\"evil\", \"bad\"), (\"nice\", \"better\"), (\"evil\", \"worse\")]\nsorted_tuples = lst_tuples(lst)\nprint(sorted_tuples)\n\n\"\"\"\nProblem: 618\nWrite a function that sorts a list of names based on the number of characters in each name using the key parameter.\n\"\"\"\n\ndef lst_names(lst):\n    \n    def sort_len_of_name(name):\n        return len(name)\n        \n    return sorted(lst, key=sort_len_of_name)\n        \n\nlst = [\"Jonathan\", \"Christopher\", \"Chantelle\", \"Bob\", \"Mimi\"]\nprint(lst_names(lst))\n\ndef lst_names(lst):\n    \n    def sort_len_of_name(name):\n        count = 0\n        for char in name:\n            count += 1\n        return count\n        \n    return sorted(lst, key=sort_len_of_name)\n        \nlst = [\"Jonathan\", \"Christopher\", \"Chantelle\", \"Bob\", \"Mimi\"]\nprint(lst_names(lst))\n\n\n\"\"\"\nProblem: 619\nWrite a Python program to sort a list of employees by their hire date using the key parameter.\n\"\"\"\n\ndef sort_by_hire_date(employees):\n    \n    def get_hire_date(employee):\n        return employee[1]  \n\n    return sorted(employees, key=get_hire_date)\n\nemployees = [\n    (\"Alice\", \"2020-05-15\"),\n    (\"Bob\", \"2019-03-22\"),\n    (\"Charlie\", \"2021-07-30\"),\n    (\"David\", \"2018-12-01\")\n]\n\nsorted_employees = sort_by_hire_date(employees)\nprint(sorted_employees)\n\n\"\"\"\nProblem: 620\nWrite a function that sorts a list of sentences based on their length using the key parameter.\n\"\"\"\n\ndef lst_of_sentences(sentences):\n    \n    def sort(sentence):\n        return len(sentence) \n\n    return sorted(sentences, key=sort)\n\n\nsentences = [\"hey what's happening today?\", \"what is\", \"what about me\"]\nprint(lst_of_sentences(sentences))\n\n\"\"\"\nProblem: 621\nWrite a Python program to sort a list of words based on the frequency of their first letter using the key parameter.\n\"\"\"\n\ndef frequency_first_letter(words):\n    letter_count = {}\n    for word in words:\n        first_letter = word[0]\n        if first_letter in letter_count:\n            letter_count[first_letter] += 1\n        else:\n            letter_count[first_letter] = 1\n    \n    def sort(word):\n        return letter_count[word[0]] \n        \n    return sorted(words, key=sort)\n\nwords = [\"apple\", \"apricot\", \"banana\", \"berry\", \"blueberry\", \"cherry\", \"carrot\"]\nprint(frequency_first_letter(words))\n\n\nfrom collections import Counter\n\ndef frequency_first_letter(words):\n    \n    letter_count = Counter()\n    \n    for word in words:\n        first_letter = word[0] \n        letter_count[first_letter] += 1\n\n    def sort(word):\n        return letter_count[word[0]]\n        \n    return sorted(words, key=sort)\n\nwords = [\"apple\", \"apricot\", \"banana\", \"berry\", \"blueberry\", \"cherry\", \"carrot\"]\nprint(frequency_first_letter(words))\n\n\"\"\"\nProblem: 622\nWrite a function that sorts a list of tuples by the absolute value of the first element using the key parameter.\n\"\"\"\n\ndef lst_of_tuples(lst):\n    \n    def sort(x):\n        return abs((x)[0])\n        \n    return sorted(lst, key=sort)\n\n\nlst = [(2.3, 4.2), (5.3, 7.3), (3.1, 2.4), (5.2, 6.2)]\nprint(lst_of_tuples(lst))\n\n\"\"\"\nProblem: 623\nWrite a Python program to sort a list of strings by their reverse order using the key parameter.\n\"\"\"\n\ndef reverse_order(lst):\n    \n    def sort(word):\n        return word\n        \n    return sorted(lst, key=sort, reverse= True)\n        \nlst = [\"butt\", \"shoulders\", \"legs\"]    \nprint(reverse_order(lst))\n\n\ndef reverse_order(lst):\n    \n    def sort(word):\n        return word[::-1]\n        \n    return sorted(lst, key=sort)\n        \nlst = [\"butt\", \"shoulders\", \"legs\"]    \nprint(reverse_order(lst))\n\n\"\"\"\nProblem: 624\nWrite a function that sorts a list of temperatures in Celsius, converting them to Fahrenheit for sorting using the key parameter.\n\"\"\"\n\ndef temperture(lst):\n    \n    def sort(celsius):\n        \n        fahrenheit = (9/5) * celsius + 32\n        return fahrenheit\n        \n    return sorted(lst, key=sort)\n            \nlst = [23, 33, 12, 45]    \nprint(temperture(lst))\n\n\"\"\"\nProblem: 625\nWrite a Python program to sort a list of scores from a game, taking into account that some scores may be negative using the key parameter.\n\"\"\"\n\ndef sort_scores(scores):\n    \n    def key_function(x):\n        return x  \n    \n    return sorted(scores, key=key_function)\n\nscores = [10, -5, 20, 0, -15, 5]\nsorted_scores = sort_scores(scores)\nprint(sorted_scores)\n\n\"\"\"\nProblem: 626\nWrite a function that sorts a list of email addresses by the domain part using the key parameter.\n\"\"\"\n\ndef sort_emails(emails):\n    \n    def get_domain(email):\n        return email.split('@')[1] \n    \n    return sorted(emails, key=get_domain)\n\nemails = [\"alice@example.com\", \"bob@test.com\", \"charlie@example.com\", \"dave@sample.com\"]\nsorted_emails = sort_emails(emails)\nprint(sorted_emails)\n\n\"\"\"\nProblem: 627\nWrite a Python program to sort a list of cities by their population using the key parameter.\n\"\"\"\n\ndef sort_cities_by_population(cities):\n    \n    def get_population(city):\n        return city[1] \n    \n    return sorted(cities, key=get_population)\n\n# List of cities with their population\ncities = [(\"New York\", 8419600), (\"Los Angeles\", 3980400), (\"Chicago\", 2716000), (\"Houston\", 2328000), (\"Phoenix\", 1690000)]\n\nsorted_cities = sort_cities_by_population(cities)\nprint(sorted_cities)\n\n\"\"\"\nProblem: 628\nWrite a function that sorts a list of words by the last letter of each word using the key parameter.\n\"\"\"\n\ndef last_letter(lst):\n    \n    def sort(word):\n        return word[-1]\n        \n    return sorted(lst, key=sort)\n    \nlst = [\"house\", \"garden\", \"boat\", \"building\"]\nprint(last_letter(lst))\n\n\"\"\"\nProblem: 629\nWrite a Python program to sort a list of numbers by the number of times they appear in another list using the key parameter.\n\"\"\"\n\ndef lst_of_numbers(lst):\n    frequency = {}\n    for number in lst:\n        if number in frequency:\n            frequency[number] += 1\n        else:\n            frequency[number] = 1\n    \n    def sort(number):\n        return frequency[number]\n    \n    return sorted(lst, key=sort)\n\nlst = [3, 677, 4, 3, 67, 4]\nprint(lst_of_numbers(lst))\n\n\"\"\"\nProblem: 630\nWrite a function that sorts a list of students by their grades using the key parameter.\n\"\"\"\n\ndef sort_students_by_grades(students):\n    \n    def get_grade(student):\n        return student[1] \n        \n    return sorted(students, key=get_grade)\n\nstudents = [(\"Alice\", 85), (\"Bob\", 70), (\"Charlie\", 95), (\"David\", 65)]\nprint(sort_students_by_grades(students))\n\n\"\"\"\nProblem: 631\nWrite a Python program to sort a list of book titles by the year they were published using the key parameter.\n\"\"\"\n\ndef sort_books_by_year(books):\n    \n    def get_year(book):\n        return book[1]\n        \n    return sorted(books, key=get_year)\n\nbooks = [(\"Book A\", 2005), (\"Book B\", 1999), (\"Book C\", 2010), (\"Book D\", 1985)]\nprint(sort_books_by_year(books)) \n \n\"\"\"\nProblem: 632\nWrite a function that sorts a list of files based on their file extension using the key parameter.\n\"\"\"\n\ndef sort_files_by_extension(files):\n\n    def get_extension(file):\n        return file.split('.')[-1]\n        \n    return sorted(files, key=get_extension)\n\nfiles = [\"document.pdf\", \"image.png\", \"archive.zip\", \"presentation.pptx\", \"notes.txt\"]\nprint(sort_files_by_extension(files))\n\n\"\"\" \nProblem: 633\nWrite a Python program to sort a list of movies by their release date using the key parameter.\n\"\"\"\n\ndef sort_movies_by_release_date(movies):\n    \n    def get_release_date(movie):\n        return movie['release_date'] \n        \n    return sorted(movies, key=get_release_date)\n\nmovies = [\n    {\"title\": \"Inception\", \"release_date\": \"2010-07-16\"},\n    {\"title\": \"The Matrix\", \"release_date\": \"1999-03-31\"},\n    {\"title\": \"Interstellar\", \"release_date\": \"2014-11-07\"},\n    {\"title\": \"The Godfather\", \"release_date\": \"1972-03-24\"}\n]\nsorted_movies = sort_movies_by_release_date(movies)\nfor movie in sorted_movies:\n    print(f\"{movie['title']} - {movie['release_date']}\")\n\n\"\"\"\nProblem: 634\nWrite a function that sorts a list of sentences based on the number of unique words in each sentence using the key parameter.\n\"\"\"\n\ndef sort_sentences_by_unique_words(sentences):\n\n    def count_unique_words(sentence):\n        words = sentence.split() \n        unique_words = set(words)\n        \n        return len(unique_words)\n        \n    return sorted(sentences, key=count_unique_words)\n\nsentences = [\n    \"This is a test sentence\",\n    \"Hello world\",\n    \"This is a simple sentence\",\n    \"Hello hello world\",\n    \"Unique words are counted here\"\n]\n\nsorted_sentences = sort_sentences_by_unique_words(sentences)\nfor sentence in sorted_sentences:\n    print(sentence)\n\n",
   "execution_count": null,
   "outputs": []
  }
 ],
 "metadata": {
  "kernelspec": {
   "name": "python3",
   "display_name": "Python 3",
   "language": "python"
  },
  "language_info": {
   "name": "python",
   "version": "3.10.4",
   "mimetype": "text/x-python",
   "codemirror_mode": {
    "name": "ipython",
    "version": 3
   },
   "pygments_lexer": "ipython3",
   "nbconvert_exporter": "python",
   "file_extension": ".py"
  }
 },
 "nbformat": 4,
 "nbformat_minor": 2
}