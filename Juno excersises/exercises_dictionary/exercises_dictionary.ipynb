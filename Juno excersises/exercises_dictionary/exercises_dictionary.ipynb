{
 "cells": [
  {
   "metadata": {
    "trusted": false
   },
   "cell_type": "code",
   "source": "\"\"\"\n- **Definition**:\n  - A dictionary in Python is a built-in data structure that stores data in key-value pairs. Each key is unique within the dictionary, and it is associated with a value. Dictionaries are mutable, meaning their contents can be changed after creation.\n\n- **Purpose**:\n  - The primary purpose of a dictionary is to provide a way to efficiently store and retrieve data based on a unique identifier (the key). This allows for quick access to associated values without needing to search through a list or other data structures.\n\n- **Syntax**:\n  - The syntax for creating a dictionary is as follows:\n\n    ```python\n    my_dict = {\n        key1: value1,\n        key2: value2,\n        key3: value3,\n        ...\n    }\n    ```\n\n    - **Keys**: \n      - The keys can be of any immutable data type, such as strings, numbers, or tuples. They must be unique within the dictionary.\n    - **Values**: \n      - The values can be of any data type (mutable or immutable) and can be duplicated across different keys.\n\n- **Creating a Dictionary**:\n  - You can create a dictionary using curly braces `{}` or the `dict()` constructor.\n  - **Examples**:\n    ```python\n    # Using curly braces\n    student = {\n        \"name\": \"Alice\",\n        \"age\": 21,\n        \"major\": \"Computer Science\"\n    }\n\n    # Using dict() constructor\n    employee = dict(name=\"Bob\", age=30, department=\"HR\")\n    ```\n\n- **Accessing Values**:\n  - Values in a dictionary are accessed using their corresponding keys. If the key exists, the associated value is returned; otherwise, a KeyError is raised.\n  - **Example**:\n    ```python\n    print(student[\"name\"])  # Output: Alice\n    print(student[\"age\"])   # Output: 21\n    ```\n\n- **Adding and Modifying Entries**:\n  - You can add new key-value pairs or modify existing values using the assignment operator.\n  - **Example**:\n    ```python\n    student[\"graduation_year\"] = 2025  # Adding a new key-value pair\n    student[\"age\"] = 22                 # Modifying an existing value\n    ```\n\n- **Removing Entries**:\n  - Entries can be removed from a dictionary using the `del` statement or the `pop()` method.\n  - **Example**:\n    ```python\n    del student[\"major\"]          # Removes the key \"major\"\n    age = student.pop(\"age\")      # Removes \"age\" and returns its value\n    ```\n\n- **Checking for Keys**:\n  - You can check if a key exists in a dictionary using the `in` operator.\n  - **Example**:\n    ```python\n    if \"name\" in student:\n        print(\"Name exists in the dictionary.\")\n    ```\n\n- **Iterating Over a Dictionary**:\n  - You can iterate over a dictionary using loops. By default, iterating over a dictionary yields its keys.\n  - **Example**:\n    ```python\n    for key in student:\n        print(f\"{key}: {student[key]}\")\n    \n    # Alternatively, to get both keys and values:\n    for key, value in student.items():\n        print(f\"{key}: {value}\")\n    ```\n\n- **Common Methods**:\n  - Dictionaries come with several built-in methods that enhance their functionality:\n    - **`keys()`**: Returns a view of all the keys in the dictionary.\n    - **`values()`**: Returns a view of all the values in the dictionary.\n    - **`items()`**: Returns a view of all key-value pairs in the dictionary as tuples.\n    - **`get(key)`**: Returns the value for the specified key, or `None` (or a specified default) if the key is not found.\n\n- **Use Cases**:\n  - Dictionaries are widely used for representing structured data, such as JSON-like structures, where keys represent fields and values represent corresponding data.\n  - They are also used in scenarios requiring fast lookups, such as caching or counting occurrences of items.\n\n- **Limitations**:\n  - Keys in a dictionary must be of immutable data types, which excludes lists and other dictionaries as keys.\n  - The order of elements is maintained since Python 3.7, but it is generally recommended to avoid relying on this for code clarity and portability.\n\n- **Performance Considerations**:\n  - Dictionaries have an average time complexity of O(1) for lookups, insertions, and deletions, making them highly efficient for data retrieval.\n\n- **Conclusion**:\n  - In summary, dictionaries in Python provide a powerful and flexible way to store and manipulate data using key-value pairs. Their efficiency in data retrieval and the ability to hold diverse data types make them an essential part of Python programming, suitable for a wide range of applications in data management and organization.\n\n\"\"\"",
   "execution_count": null,
   "outputs": []
  },
  {
   "metadata": {
    "trusted": false
   },
   "cell_type": "code",
   "source": "",
   "execution_count": null,
   "outputs": []
  },
  {
   "metadata": {
    "trusted": false
   },
   "cell_type": "code",
   "source": "",
   "execution_count": null,
   "outputs": []
  },
  {
   "metadata": {
    "trusted": false
   },
   "cell_type": "code",
   "source": "",
   "execution_count": null,
   "outputs": []
  },
  {
   "metadata": {
    "trusted": false
   },
   "cell_type": "code",
   "source": "",
   "execution_count": null,
   "outputs": []
  },
  {
   "metadata": {
    "trusted": false
   },
   "cell_type": "code",
   "source": "",
   "execution_count": null,
   "outputs": []
  },
  {
   "metadata": {
    "trusted": false
   },
   "cell_type": "code",
   "source": "",
   "execution_count": null,
   "outputs": []
  },
  {
   "metadata": {
    "trusted": false
   },
   "cell_type": "code",
   "source": "",
   "execution_count": null,
   "outputs": []
  },
  {
   "metadata": {
    "trusted": false
   },
   "cell_type": "code",
   "source": "",
   "execution_count": null,
   "outputs": []
  },
  {
   "metadata": {
    "trusted": false
   },
   "cell_type": "code",
   "source": "",
   "execution_count": null,
   "outputs": []
  },
  {
   "metadata": {
    "trusted": false
   },
   "cell_type": "code",
   "source": "",
   "execution_count": null,
   "outputs": []
  },
  {
   "metadata": {
    "trusted": false
   },
   "cell_type": "code",
   "source": "",
   "execution_count": null,
   "outputs": []
  },
  {
   "metadata": {
    "trusted": false
   },
   "cell_type": "code",
   "source": "",
   "execution_count": null,
   "outputs": []
  },
  {
   "metadata": {
    "trusted": false
   },
   "cell_type": "code",
   "source": "",
   "execution_count": null,
   "outputs": []
  },
  {
   "metadata": {
    "trusted": false
   },
   "cell_type": "code",
   "source": "",
   "execution_count": null,
   "outputs": []
  },
  {
   "metadata": {
    "trusted": false
   },
   "cell_type": "code",
   "source": "",
   "execution_count": null,
   "outputs": []
  },
  {
   "metadata": {
    "trusted": false
   },
   "cell_type": "code",
   "source": "",
   "execution_count": null,
   "outputs": []
  },
  {
   "metadata": {
    "trusted": false
   },
   "cell_type": "code",
   "source": "",
   "execution_count": null,
   "outputs": []
  },
  {
   "metadata": {
    "trusted": false
   },
   "cell_type": "code",
   "source": "",
   "execution_count": null,
   "outputs": []
  },
  {
   "metadata": {
    "trusted": false
   },
   "cell_type": "code",
   "source": "",
   "execution_count": null,
   "outputs": []
  },
  {
   "metadata": {
    "trusted": false
   },
   "cell_type": "code",
   "source": "",
   "execution_count": null,
   "outputs": []
  },
  {
   "metadata": {
    "trusted": false
   },
   "cell_type": "code",
   "source": "",
   "execution_count": null,
   "outputs": []
  },
  {
   "metadata": {
    "trusted": false
   },
   "cell_type": "code",
   "source": "",
   "execution_count": null,
   "outputs": []
  },
  {
   "metadata": {
    "trusted": false
   },
   "cell_type": "code",
   "source": "",
   "execution_count": null,
   "outputs": []
  },
  {
   "metadata": {
    "trusted": false
   },
   "cell_type": "code",
   "source": "",
   "execution_count": null,
   "outputs": []
  },
  {
   "metadata": {
    "trusted": false
   },
   "cell_type": "code",
   "source": "",
   "execution_count": null,
   "outputs": []
  },
  {
   "metadata": {
    "trusted": false
   },
   "cell_type": "code",
   "source": "",
   "execution_count": null,
   "outputs": []
  },
  {
   "metadata": {
    "trusted": false
   },
   "cell_type": "code",
   "source": "",
   "execution_count": null,
   "outputs": []
  },
  {
   "metadata": {
    "trusted": false
   },
   "cell_type": "code",
   "source": "",
   "execution_count": null,
   "outputs": []
  },
  {
   "metadata": {
    "trusted": false
   },
   "cell_type": "code",
   "source": "",
   "execution_count": null,
   "outputs": []
  },
  {
   "metadata": {
    "trusted": false
   },
   "cell_type": "code",
   "source": "",
   "execution_count": null,
   "outputs": []
  },
  {
   "metadata": {
    "trusted": false
   },
   "cell_type": "code",
   "source": "",
   "execution_count": null,
   "outputs": []
  },
  {
   "metadata": {
    "trusted": false
   },
   "cell_type": "code",
   "source": "",
   "execution_count": null,
   "outputs": []
  },
  {
   "metadata": {
    "trusted": false
   },
   "cell_type": "code",
   "source": "",
   "execution_count": null,
   "outputs": []
  },
  {
   "metadata": {
    "trusted": false
   },
   "cell_type": "code",
   "source": "",
   "execution_count": null,
   "outputs": []
  },
  {
   "metadata": {
    "trusted": false
   },
   "cell_type": "code",
   "source": "",
   "execution_count": null,
   "outputs": []
  },
  {
   "metadata": {
    "trusted": false
   },
   "cell_type": "code",
   "source": "",
   "execution_count": null,
   "outputs": []
  },
  {
   "metadata": {
    "trusted": false
   },
   "cell_type": "code",
   "source": "",
   "execution_count": null,
   "outputs": []
  },
  {
   "metadata": {
    "trusted": false
   },
   "cell_type": "code",
   "source": "",
   "execution_count": null,
   "outputs": []
  },
  {
   "metadata": {
    "trusted": false
   },
   "cell_type": "code",
   "source": "",
   "execution_count": null,
   "outputs": []
  },
  {
   "metadata": {
    "trusted": false
   },
   "cell_type": "code",
   "source": "",
   "execution_count": null,
   "outputs": []
  },
  {
   "metadata": {
    "trusted": false
   },
   "cell_type": "code",
   "source": "",
   "execution_count": null,
   "outputs": []
  },
  {
   "metadata": {
    "trusted": false
   },
   "cell_type": "code",
   "source": "",
   "execution_count": null,
   "outputs": []
  },
  {
   "metadata": {
    "trusted": false
   },
   "cell_type": "code",
   "source": "",
   "execution_count": null,
   "outputs": []
  },
  {
   "metadata": {
    "trusted": false
   },
   "cell_type": "code",
   "source": "",
   "execution_count": null,
   "outputs": []
  },
  {
   "metadata": {
    "trusted": false
   },
   "cell_type": "code",
   "source": "",
   "execution_count": null,
   "outputs": []
  },
  {
   "metadata": {
    "trusted": false
   },
   "cell_type": "code",
   "source": "",
   "execution_count": null,
   "outputs": []
  },
  {
   "metadata": {
    "trusted": false
   },
   "cell_type": "code",
   "source": "",
   "execution_count": null,
   "outputs": []
  },
  {
   "metadata": {
    "trusted": false
   },
   "cell_type": "code",
   "source": "",
   "execution_count": null,
   "outputs": []
  },
  {
   "metadata": {
    "trusted": false
   },
   "cell_type": "code",
   "source": "",
   "execution_count": null,
   "outputs": []
  },
  {
   "metadata": {
    "trusted": false
   },
   "cell_type": "code",
   "source": "",
   "execution_count": null,
   "outputs": []
  },
  {
   "metadata": {
    "trusted": false
   },
   "cell_type": "code",
   "source": "",
   "execution_count": null,
   "outputs": []
  },
  {
   "metadata": {
    "trusted": false
   },
   "cell_type": "code",
   "source": "",
   "execution_count": null,
   "outputs": []
  },
  {
   "metadata": {
    "trusted": false
   },
   "cell_type": "code",
   "source": "",
   "execution_count": null,
   "outputs": []
  },
  {
   "metadata": {
    "trusted": false
   },
   "cell_type": "code",
   "source": "",
   "execution_count": null,
   "outputs": []
  },
  {
   "metadata": {
    "trusted": false
   },
   "cell_type": "code",
   "source": "\"\"\"\nProblem: 773\nWrite a Python program to create a dictionary from two lists, one containing keys and the other containing values.\n\"\"\"\n\ndef lst_to_dic(lst1, lst2):\n    result = {}\n    \n    for x, y in zip(lst1, lst2):\n        result[x] = y\n    return result\n\nlst1 = [1, 2, 3]\nlst2 = [\"start\", \"middle\", \"end\"]\nprint(lst_to_dic(lst1, lst2))\n\ndef lst_to_dic(lst1, lst2):\n    result = {}\n    \n    for i in range(len(lst1)):\n        result[lst1[i]] = lst2[i]\n    return result\n\nlst1 = [1, 2, 3]\nlst2 = [\"start\", \"middle\", \"end\"]\nprint(lst_to_dic(lst1, lst2))\n\n\"\"\"\nProblem: 774\nWrite a Python program to get the value of a specific key from a dictionary, or return a default value if the key is not found.\n\"\"\"\n\ndef main(dic, key_to_find):\n    return dic.get(key_to_find, None)\n\ndic = {\n    \"name\": 777,\n    \"age\": 56,\n    \"city\": 34,\n    \"job\": 1\n}\nkey_to_find = \"job\"\nprint(main(dic, key_to_find))\nkey_to_find = \"unknown\" \nprint(main(dic, key_to_find)) \n\ndef value_of_specific_key(dic, target):\n    return dic.get(target, \"Default value\")\n    \ndic = {\n    \"name\": \"Alice\",\n    \"age\": 30,\n    \"city\": \"New York\",\n    \"job\": \"Engineer\"\n}\ntarget = \"age\"\nprint(value_of_specific_key(dic, target))\n\ndef value_of_specific_key(dic, target):\n    for key, value in dic.items():\n        if key == target:\n            return value\n    return None \n    \ndic = {\n    \"name\": \"Alice\",\n    \"age\": 30,\n    \"city\": \"New York\",\n    \"job\": \"Engineer\"\n}\ntarget = \"age\"\nprint(value_of_specific_key(dic, target))\n\n\"\"\"\nProblem: 775\nWrite a Python program to merge two dictionaries into one.\n\"\"\"\n\ndef main(dic1, dic2):\n    merge_dic = dic1.copy()  \n    for key, value in dic2.items():\n        if key in merge_dic:\n            merge_dic[key] = [merge_dic[key], value]\n        else:\n            merge_dic[key] = value\n    return merge_dic\n\ndic1 = {\n    \"name\": 777,\n    \"age\": 56,\n    \"city\": 34,\n    \"job\": 1\n}\n\ndic2 = {\n    \"name\": 2,\n    \"age\": 2,\n    \"cities\": 2,\n    \"jobless\": 2\n}\n\nprint(main(dic1, dic2))\n\ndef merge_dicts(dic1, dic2):\n    merged_dict = {**dic1, **dic2}\n    return merged_dict\n\ndic1 = {\n    \"name\": \"Steven\",\n    \"age\": 56,\n    \"city\": \"New York\",\n    \"job\": \"Engineer\"\n}\ndic2 = {\n    \"named\": \"Alice\",\n    \"aged\": 30,\n    \"cities\": \"New York\",\n    \"jobless\": \"Engineer\"\n}\nprint(merge_dicts(dic1, dic2))\n\n\"\"\"\nProblem: 776\nWrite a Python program to remove a key from a dictionary.\n\"\"\"\n\ndef remove_key(dic, key_to_remove):\n    if key_to_remove in dic:\n        del dic[key_to_remove]\n    return dic\n\ndic = {\n    \"name\": \"Steven\",\n    \"age\": 56,\n    \"city\": \"New York\",\n    \"job\": \"Engineer\"\n}\nkey_to_remove = \"age\"\nprint(remove_key(dic, key_to_remove))\n\ndef main(dic, target):\n    result = {}\n    for key, value in dic.items():\n        if key != target:\n            result[key] = value\n    return result\n    \ndic = {\n    \"name\": 777,\n    \"age\": 56,\n    \"city\": 34,\n    \"job\": 1\n}\ntarget = \"job\"\nprint(main(dic, target))\n\"\"\"\nProblem: 777\nWrite a Python program to iterate over the keys and values of a dictionary and print them in the format `key: value`.\n\"\"\"\n\ndef print_dict_items(dic):\n    for key, value in dic.items():\n        print(f\"{key}: {value}\")\n\ndic = {\n    \"name\": \"Steven\",\n    \"age\": 56,\n    \"city\": \"New York\",\n    \"job\": \"Engineer\"\n}\nprint_dict_items(dic)\n\n\"\"\"\nProblem: 778\nWrite a Python program to check if a given key exists in a dictionary.\n\"\"\"\n\ndef main(dic1):\n    if target in dic1.keys():\n        return True\n    return False\n           \ndic1 = {\n    \"name\": 777,\n    \"age\": 56,\n    \"city\": 34,\n    \"job\": 1\n}\ntarget = \"names\"\nprint(main(dic1))\n\ndef does_key_exist(dic, target):\n    for key in dic.keys():\n        if key == target:\n            return \"key exists\" \n    return \"key does not exist\"\n\nprint(does_key_exist({\"name\": \"Steven\", \"age\": 56}, \"job\"))\nprint(does_key_exist({\"name\": \"Steven\", \"age\": 56}, \"name\")) \n\n\"\"\"\nProblem: 779\nWrite a Python program to sort a dictionary by its keys.\n\"\"\"\n\ndef sort_dic(dic):\n    return dict(sorted(dic.items()))\n\ndic = {\n    \"name\": \"Steven\",\n    \"age\": 56,\n    \"city\": \"New York\",\n    \"job\": \"Engineer\"\n}\nprint(sort_dic(dic))\n\n\"\"\"\nProblem: 780\nWrite a Python program to sort a dictionary by its values.\n\"\"\"\n\ndef main(dic):\n    dic = dic.items()\n\n    def sort_value(item):\n        return item[1]\n        \n    return dict(sorted(dic, key=sort_value))\n    \n         \ndic = {\n    \"name\": 777,\n    \"age\": 56,\n    \"city\": 34,\n    \"job\": 1\n}\nprint(main(dic))\n\ndef sort_values(dic):\n    sorted_items = sorted(dic.items(), key=sort_key)\n    return dict(sorted_items)\n\ndef sort_key(item):\n    return item[1]\n\ndic = {\n    \"cat\": 34,\n    \"dog\": 56,\n    \"rabbit\": 566,\n    \"fish\": 4\n}\nprint(sort_values(dic))\n\n\"\"\"\nProblem: 781\nWrite a Python program to count the frequency of elements in a list and store the result in a dictionary.\n\"\"\"\n\ndef frequency_elements(lst):\n    result = {}\n    for word in lst:\n        if word in result:\n            result[word] += 1\n        else:\n            result[word] = 1   \n    return result\n    \nlst = [\"tree\", \"tree\", \"flower\", \"flower\"]\nprint(frequency_elements(lst))\n\n\"\"\"\nProblem: 782\nWrite a Python program to create a dictionary where the keys are numbers from 1 to 5, and the values are the squares of the keys.\n\"\"\"\n\ndef square_dic():\n    result = {}\n    for key in range(1, 6):\n        result[key] = key ** 2\n    return result\n        \nprint(square_dic())\n\n\"\"\"\nProblem: 783\nWrite a Python program to update the value of an existing key in a dictionary.\n\"\"\"\n\ndef main(dic, target):\n    key_to_update, new_value = target\n    if key_to_update in dic:\n        dic[key_to_update] = new_value\n    return dic\n\ndic = {\n    \"name\": 777,\n    \"age\": 56,\n    \"city\": 34,\n    \"job\": 1\n}\ntarget = (\"city\", 78)\nprint(main(dic, target))\n\n\ndef update_value(dic, key, new_value):\n    if key in dic:\n        dic[key] = new_value\n    return dic\n\ndic = {\n    \"name\": \"Steven\",\n    \"age\": 56,\n    \"city\": \"New York\",\n    \"job\": \"Engineer\"\n}\n\nupdate_value(dic, \"age\", 60)\nprint(dic)\n\n\"\"\"\nProblem: 784\nWrite a Python program to get all the keys from a dictionary.\n\"\"\"\n\ndef get_keys(dic):\n    return dic.keys()\n\ndic = {\n    \"name\": \"Steven\",\n    \"age\": 56,\n    \"city\": \"New York\",\n    \"job\": \"Engineer\"\n}\nprint(get_keys(dic))\n\ndef main(dic):\n    for key in dic:\n        print(key)\n        \ndic = {\n    \"name\": 777,\n    \"age\": 56,\n    \"city\": 34,\n    \"job\": 1\n}\nprint(main(dic)) \n\n\"\"\"\nProblem: 785\nWrite a Python program to get all the values from a dictionary.\n\"\"\"\n\ndef get_keys(dic):\n    return dic.values()\n\ndic = {\n    \"name\": \"Steven\",\n    \"age\": 56,\n    \"city\": \"New York\",\n    \"job\": \"Engineer\"\n}\nprint(get_keys(dic))\n\n\"\"\"\nProblem: 786\nWrite a Python program to get all the values from a dictionary.\n\"\"\"\n\ndef get_keys(dic):\n    return dic.values()\n\ndic = {\n    \"name\": \"Steven\",\n    \"age\": 56,\n    \"city\": \"New York\",\n    \"job\": \"Engineer\"\n}\nprint(get_keys(dic))\n\n\"\"\"\nProblem: 787\nWrite a Python program to find the key with the largest value in a dictionary.\n\"\"\"\n\ndef largest_value(dic):\n    return max(dic.values())\n\ndic = {\n    \"name\": 777,\n    \"age\": 56,\n    \"city\": 34,\n    \"job\": 1\n}\nprint(largest_value(dic))\n\n\"\"\"\nProblem: 788\nWrite a Python program to find the key with the smallest value in a dictionary.\n\"\"\"\n\ndef largest_value(dic):\n    return min(dic.values())\n\ndic = {\n    \"name\": 777,\n    \"age\": 56,\n    \"city\": 34,\n    \"job\": 1\n}\nprint(largest_value(dic))\n\n\"\"\"\nProblem: 789\nWrite a Python program to convert two lists into a dictionary, where one list contains keys and the other contains values, but skip values if the lists are of unequal length.\n\"\"\"\n\ndef lst_dic(lst1, lst2):\n    result = {}\n    min_length = min(len(lst1), len(lst2))\n    \n    for i in range(min_length):\n        result[lst1[i]] = lst2[i]\n    \n    return result\n\nlst1 = [1, 2, 3]\nlst2 = [\"sand\", \"rock\", \"beach\", \"sea\"]\nprint(lst_dic(lst1, lst2))\n\n\"\"\"\nProblem: 790\nWrite a Python program to combine two dictionaries by adding values of common keys.\n\"\"\"\n\ndef combine_dictionaries(dic1, dic2):\n    result = {}\n    for key in dic1:\n        result[key] = dic1[key]\n    for key, value in dic2.items():\n        if key in result:\n            result[key] += value\n        else:\n            result[key] = value\n    return result\n\ndic1 = {\n    \"a\": 1,\n    \"b\": 2,\n    \"c\": 3\n}\n\ndic2 = {\n    \"b\": 3,\n    \"c\": 4,\n    \"d\": 5\n}\nprint(combine_dictionaries(dic1, dic2))\n\ndef combine_dictionaries(dic1, dic2):\n    result = dic1.copy()\n    for key, value in dic2.items():\n        if key in result:\n            result[key] += value\n        else:\n            result[key] = value\n    return result\n\ndic1 = {\n    \"a\": 1,\n    \"b\": 2,\n    \"c\": 3\n}\n\ndic2 = {\n    \"b\": 3,\n    \"c\": 4,\n    \"d\": 5\n}\nprint(combine_dictionaries(dic1, dic2))\n\n\"\"\"\nProblem: 791\nWrite a Python program to invert the keys and values of a dictionary (i.e., make the keys the values and the values the keys).\n\"\"\"\n\ndef invert_dictionary(dic):\n    inverted = {}\n    for key, value in dic.items():\n        inverted[value] = key\n    return inverted\n\ndic = {\n    \"name\": \"Alice\",\n    \"age\": 30,\n    \"city\": \"New York\"\n}\nprint(invert_dictionary(dic))\n\n\"\"\"\nProblem: 792\nWrite a Python program to remove duplicate values from a dictionary.\n\"\"\"\n\ndef remove_duplicates_values(dic):\n    unique_values = {}\n    for key, value in dic.items():\n        if value not in unique_values.values():\n            unique_values[key] = value\n    return unique_values\n\ndic = {\n    \"name\": \"Alice\",\n    \"age\": 30,\n    \"city\": \"New York\",\n    \"job\": \"Engineer\",\n    \"nickname\": \"Alice\" \n}\nprint(remove_duplicates_values(dic))\n\n\"\"\"\nProblem: 793\nWrite a Python program to check if two dictionaries have the same keys.\n\"\"\"\n\ndef same_keys(dic1, dic2):\n    return dic1.keys() == dic2.keys()\n\ndic1 = {\n    \"name\": \"Alice\",\n    \"ages\": 30,\n    \"cities\": \"New York\",\n    \"job\": \"Engineer\",\n    \"nickname\": \"Alice\" \n}\n\ndic2 = {\n    \"name\": \"Alice\",\n    \"age\": 30,\n    \"city\": \"New York\",\n    \"job\": \"Engineer\",\n    \"nickname\": \"Alice\" \n}\nprint(same_keys(dic1, dic2))\n\n\"\"\"\nProblem: 794\nWrite a Python program to multiply all the values in a dictionary by 2.\n\"\"\"\n\ndef multiply_by2(dic):\n    result = {}\n    for key, value in dic.items():\n        result[key] = value * 2 \n    return result\n    \ndic = {\"a\": 2, \"b\": 8}    \nprint(multiply_by2(dic))\n\n\"\"\"\nProblem: 795\nWrite a Python program to find the length (i.e., number of key-value pairs) of a dictionary.\n\"\"\"\n\ndef len_key_value_pair(dic):\n    return len(dic)\n\ndic = {\n    \"name\": \"Alice\",\n    \"ages\": \"stop\",\n    \"cities\": \"New York\",\n    \"job\": \"Engineer\",\n    \"nickname\": \"Alice\" \n}\nprint(len_key_value_pair(dic))\n\n\"\"\"\nProblem: 796\nWrite a Python program to map a list of strings to their lengths using a dictionary.\n\"\"\"\n\ndef map_lst_string_dic(lst):\n    result = {}\n    for word in lst:\n        result[word] = len(word)\n    return result\n\nlst = [\"it\", \"shop\", \"jonny\"]\nprint(map_lst_string_dic(lst))\n\ndef len_dic(lst):\n    result = {}\n    for word in lst:\n        count = 0\n        for char in word:\n            count += 1\n        result[word] = count\n    return result\n    \n\nlst = [\"not\", \"house\", \"Jonathan\"]\nprint(len_dic(lst))\n\n\"\"\"\nProblem: 797\nWrite a Python program to add a new key-value pair to an existing dictionary.\n\"\"\"\n\ndef add_key_value_pair(dic):\n    dic[\"new_key\"] = \"new_value\"\n    return dic\n    \ndic = {\n    \"name\": \"Alice\",\n    \"ages\": \"stop\",\n    \"cities\": \"New York\",\n    \"job\": \"Engineer\",\n    \"nickname\": \"Alice\" \n}\nprint(add_key_value_pair(dic))\n\n\"\"\"\nProblem: 798\nWrite a Python program to create a dictionary with keys as numbers from 1 to 10 and values as their cubes.\n\"\"\"\n\ndef value_cubes():\n    result = {}\n    for num in range(1, 6):\n        result[num] = num ** 3\n    return result\n    \nprint(value_cubes())\n\n\"\"\"\nProblem: 799\nWrite a Python program to check if a dictionary is empty.\n\"\"\"\n\ndef check_if_empty(dic):\n    if not dic: \n        return \"Dictionary is empty\"\n    return \"Dictionary is not empty\"\n\ndic = {\n    \"name\": \"Alice\",\n    \"ages\": \"stop\",\n    \"cities\": \"New York\",\n    \"job\": \"Engineer\",\n    \"nickname\": \"Alice\" \n}\nprint(check_if_empty(dic))\n\n\"\"\"\nProblem: 800\nWrite a Python program to remove a set of keys from a dictionary.\n\"\"\"\n\ndef remove_set_keys(dic, keys_to_remove):\n    result = {}\n    for key, value in dic.items():\n        if key not in keys_to_remove:\n            result[key] = value\n    return result\n\ndic = {\n    \"name\": \"Alice\",\n    \"age\": 30,\n    \"city\": \"New York\",\n    \"job\": \"Engineer\",\n    \"nickname\": \"Alice\"\n}\nkeys_to_remove = {\"age\", \"city\"}\nprint(remove_set_keys(dic, keys_to_remove))\n\n\"\"\"\nProblem: 801\nWrite a Python program to convert a dictionary into a list of tuples, where each tuple contains a key-value pair.\n\"\"\"\n\ndef dic_lst_tuples(dic):\n    return list(dic.items())\n    \ndic = {\n    \"name\": \"Alice\",\n    \"ages\": \"stop\",\n    \"cities\": \"New York\",\n    \"job\": \"Engineer\",\n    \"nickname\": \"Alice\" \n}\nprint(dic_lst_tuples(dic))\n\n\"\"\"\nProblem: 802\nWrite a Python program to find all keys in a dictionary that map to a given value.\n\"\"\"\n\ndef main(dic):\n    result = {}\n    \n    for key, value in dic.items():\n        if value == 1:\n            result[key] = value\n    return tuple(result.keys())\n    \ndic = {\n    \"name\": 1,\n    \"age\": 56,\n    \"city\": 34,\n    \"job\": 1\n}\nprint(main(dic))\n\ndef map_value(dic, target_value):\n    result = {}\n    for key, value in dic.items():\n        if value == target_value:\n            result[key] = value\n    return result\n\ndic = {\n    \"name\": \"Alice\",\n    \"ages\": \"Alice\",\n    \"cities\": \"New York\",\n    \"job\": \"Engineer\",\n    \"nickname\": \"Alice\" \n}\ntarget_value = \"Alice\"\nprint(map_value(dic, target_value))\n\n\"\"\"\nProblem: 803\nWrite a Python program to replace the value of a key in a dictionary with a list of values if the value is not already a list.\n\"\"\"\n\ndef replace_value(dic, list_values):\n    for key in dic:\n        if not isinstance(dic[key], list):\n            dic[key] = list_values\n    return dic\n\ndic = {\n    \"name\": \"Alice\",\n    \"ages\": \"Alice\",\n    \"cities\": \"New York\",\n    \"job\": \"Engineer\",\n    \"nickname\": \"Alice\" \n}\nlist_values = [\"one\", \"two\", \"three\", \"four\", \"five\"]\nprint(replace_value(dic, list_values))\n\n\"\"\"\nProblem: 804\nWrite a Python program to create a nested dictionary where keys are numbers and values are dictionaries containing the squares and cubes of the keys.\n\"\"\"\n\ndef nested_dic():\n    result = {}\n    for key in range(1, 6):\n        result[key] = {'square': key ** 2, 'cube': key ** 3}\n    return result\n\nprint(nested_dic())\n\ndef nested_dic():\n    result = {}\n    for key in range(1, 6):\n        result[key] = {'square': key ** 2, 'cube': key ** 3}\n    return result\n\nresult = nested_dic()\nfor key, value in result.items():\n    print(f\"{key}: {value}\")\n\n\"\"\"\nProblem: 805\nWrite a Python program to create a dictionary from a string where the keys are characters and the values are the number of occurrences of each character.\n\"\"\"\n\ndef string_dic(string):\n    result = {}\n    for char in string:\n        if char in result:\n            result[char] += 1\n        else:\n            result[char] = 1\n    return result\n\nstring = \"what's happening today?\"\nprint(string_dic(string))\n\n#new line\ndef string_dic(string):\n    result = {}\n    for char in string:\n        if char in result:\n            result[char] += 1\n        else:\n            result[char] = 1\n    return result\n\nstring = \"what's happening today?\"\nresult = string_dic(string)\n\nfor key, value in result.items():\n    print(f\"{key}: {value}\")\n\n#sort keys    \ndef string_dic(string):\n    result = {}\n    for char in string:\n        if char in result:\n            result[char] += 1\n        else:\n            result[char] = 1\n    return result\n\nstring = \"what's happening today?\"\nresult = string_dic(string)\n\nfor key in sorted(result):\n    print(f\"{key}: {result[key]}\")\n\n\n\"\"\"\nProblem: 806\nWrite a Python program to sort a dictionary by its values in descending order.\n\"\"\"\n\ndef sort_dic(dic):\n    \n    def value_sort(item):\n        return item[1]\n    \n    return dict(sorted(dic.items(), key=value_sort, reverse=True))\n\ndic = {\n    \"name\": \"Alice\",\n    \"ages\": \"Alice\",\n    \"cities\": \"New York\",\n    \"job\": \"Engineer\",\n    \"nickname\": \"Alice\"\n}\nprint(sort_dic(dic))\n\n\"\"\"\nProblem: 807\nWrite a Python program to create a dictionary from a list of tuples.\n\"\"\"\n\ndef lst_tuples(lst):\n    return dict(lst)\n\nlst = [(\"a\", 1), (\"b\", 2), (\"c\", 3), (\"d\", 4)]\nprint(lst_tuples(lst))\n\n\"\"\"\nProblem: 808\nWrite a Python program to filter out keys from a dictionary that have a value less than 10.\n\"\"\"\n\n\n    \ndef less_then_10(dic):\n    result = {}\n    for key, value in dic.items():\n        if value >= 10:\n            result[key] = value\n    return result\n    \ndic = {\n    \"name\": 3,\n    \"ages\": 6,\n    \"cities\": 46,\n    \"job\": 12,\n    \"nickname\": 7 \n}\nprint(less_then_10(dic))\n\n\"\"\"\nProblem: 809\nWrite a Python program to print the dictionary in a readable, formatted way (pretty printing).\n\"\"\"\n\ndef print_readable(dic):\n    result = \"\"\n    for key, value in dic.items():\n        result += f\"{key}: {value}\\n\"\n    return result\n\ndic = {\n    \"name\": 3,\n    \"ages\": 6,\n    \"cities\": 46,\n    \"job\": 12,\n    \"nickname\": 7 \n}\nprint(print_readable(dic))\n\n\"\"\"\nProblem: 810\nWrite a Python program to create a dictionary of students and their grades, and print all students who scored more than 75.\n\"\"\"\n\ndef students_grades(dic):\n    result = {}\n    for key, value in dic.items():\n        if value >= 70:\n            result[key] = value\n    return list(result)\n    \ndic = {\n    \"Bob\": 50,\n    \"Alex\": 72,\n    \"Fred\": 87,\n    \"Mike\": 60,\n    \"Liz\": 90 \n}\nprint(students_grades(dic))\n\n\"\"\"\nProblem: 811\nWrite a Python program to create a dictionary of words and their lengths from a given sentence.\n\"\"\"\n\ndef word_len(string):\n    words = string.split()\n    result = {}\n    for word in words:\n        result[word] = len(word)\n    return result\n\nstring = \"today we are going to the beach\"\nprint(word_len(string))\n\n\"\"\"\nProblem: 812\nWrite a Python program to create a dictionary of words and their lengths from a given sentence.\n\"\"\"\n\ndef word_len(string):\n    words = string.split()\n    result = {}\n    for word in words:\n        result[word] = len(word)\n    return result\n\nstring = \"today we are going to the beach\"\nprint(word_len(string))\n\n\"\"\"\nProblem: 813\nWrite a Python program to group words in a dictionary based on their starting letter.\n\"\"\"\n\ndef starting_letter(dic):\n    result = {}\n    for key in dic.keys():\n        first_letter = key[0]\n        if first_letter not in result:\n            result[first_letter] = []\n        result[first_letter].append(key)\n    return result\n\ndic = {\n    \"Bob\": 50,\n    \"Alex\": 72,\n    \"Fred\": 87,\n    \"Mike\": 60,\n    \"Liz\": 90 \n}\nprint(starting_letter(dic))\n\ndef main(dic):\n    result = {}\n    for key, value in dic.items():\n        first_letter = key[0]\n        result[first_letter] = key\n    return result\n    \n\ndic = {\n    \"name\": 777,\n    \"age\": 56,\n    \"city\": 34,\n    \"job\": 1\n}\nprint(main(dic))\n\n\"\"\"\nProblem: 814\nWrite a Python program to iterate through a dictionary and change the case of all keys (upper or lower).\n\"\"\"\n\ndef upper_keys(dic):\n    result = {}\n    for key, value in dic.items():\n        result[key.upper()] = value\n    return result\n    \ndic = {\n    \"Bob\": 50,\n    \"Alex\": 72,\n    \"Fred\": 87,\n    \"Mike\": 60,\n    \"Liz\": 90 \n}\nprint(upper_keys(dic))\n\n\"\"\"\nProblem: 815\nWrite a Python program to find the intersection of two dictionaries (i.e., keys that are common in both dictionaries).\n\"\"\"\n\ndef intersection(dic1, dic2):\n    result = {}\n    for key in dic1:\n        if key in dic2:\n            result[key] = dic1[key]\n    return result\n\ndic1 = {\n    \"Bob\": 500,\n    \"Alex\": 72,\n    \"Fred\": 89,\n    \"Mike\": 61,\n    \"Liz\": 90 \n}\n\ndic2 = {\n    \"Bob\": 50,\n    \"Alexander\": 72,\n    \"Freddy\": 87,\n    \"Zac\": 60,\n    \"Liz\": 90 \n}\nprint(intersection(dic1, dic2))\n\n\"\"\"\nProblem: 816\nWrite a Python program to count how many times each vowel occurs in a given sentence using a dictionary.\n\"\"\"\n\ndef count_vowels(string):\n    vowels = \"aeiou\"\n    result = {}\n    \n    for vowel in vowels:\n        result[vowel] = 0\n    \n    for char in string.lower():\n        if char in vowels:\n            result[char] += 1\n    \n    return result\n\nstring = \"word how many times vowels? How many times many times many\"\nprint(count_vowels(string))\n\n\"\"\"\nProblem: 817\nWrite a Python program to remove all key-value pairs from a dictionary where the value is None.\n\"\"\"\n\ndef remove_value_is_none(dic):\n    result = {}\n    for key, value in dic.items():\n        if value is not None:\n            result[key] = value\n    return result\n\ndic1 = {\n    \"Bob\": None,\n    \"Alex\": None,\n    \"Fred\": 89,\n    \"Mike\": 61,\n    \"Liz\": 90 \n}\nprint(remove_value_is_none(dic1))\n\n\"\"\"\nProblem: 818\nWrite a Python program to check if a dictionary contains a specific key and value pair.\n\"\"\"\n\ndef check_key_value(dic, target):\n    for key, value in dic.items():\n        if key in target and dic[key] == target[key]:\n            return True\n    return False\n\ndic1 = {\n    \"Bob\": 500,\n    \"Alex\": 72,\n    \"Fred\": 89,\n    \"Mike\": 61,\n    \"Liz\": 90 \n}\ntarget = {\"Liz\": 90}\nprint(check_key_value(dic1, target))\n\n\"\"\"\nProblem: 819\nWrite a Python program to convert a dictionary to JSON format using `json.dumps()`.\n\"\"\"\n\nimport json\n\ndef dict_to_json(dic):\n    return json.dumps(dic)\n\ndic1 = {\n    \"Bob\": 500,\n    \"Alex\": 72,\n    \"Fred\": 89,\n    \"Mike\": 61,\n    \"Liz\": 90\n}\nprint(dict_to_json(dic1))\n\n\"\"\"\nProblem: 820\nWrite a Python program to merge multiple dictionaries into one.\n\"\"\"\n\ndef merge_dicts(dic1, dic2):\n    merged_dict = {**dic1, **dic2}\n    return merged_dict\n\ndic1 = {\n    \"name\": \"Steven\",\n    \"age\": 56,\n    \"city\": \"New York\",\n    \"job\": \"Engineer\"\n}\ndic2 = {\n    \"named\": \"Alice\",\n    \"aged\": 30,\n    \"cities\": \"New York\",\n    \"jobless\": \"Engineer\"\n}\nprint(merge_dicts(dic1, dic2))\n\n\"\"\"\nProblem: 821\nWrite a Python program to iterate through a dictionary and calculate the product of all its values.\n\"\"\"\n\ndef product_values(dic):\n    product = 1\n    for value in dic.values():\n        product *= value\n    return product\n\ndic = {\n    \"named\": 2,\n    \"aged\": 2,\n    \"cities\": 2,\n    \"jobless\": 2\n}\nprint(product_values(dic))\n\n\"\"\"\nProblem: 822\nWrite a Python program to calculate the average of all values in a dictionary.\n\"\"\"\n\ndef average_values(dic):\n    sum_values = sum(dic.values())\n    len_values = len(dic)\n    average = sum_values / len_values\n    return average\n\ndic = {\n    \"named\": 200,\n    \"aged\": 257,\n    \"cities\": 230,\n    \"jobless\": 280\n}\nprint(average_values(dic))\n\n\"\"\"\nProblem: 823\nWrite a Python program to swap the values of two keys in a dictionary.\n\"\"\"\n\ndef main(dic):\n    dic[\"city\"] = 1\n    dic[\"job\"] = 34\n    return dic\n        \ndic = {\n    \"name\": 777,\n    \"age\": 56,\n    \"city\": 34,\n    \"job\": 1\n}\ntarget = (\"city\", \"job\")\nprint(main(dic))\n\ndef main(dic, x, y):\n    result = {}\n    reverse_values = dic[x], dic[y] = dic[y], dic[x]\n\n    for key, value in dic.items():\n        if reverse_values not in result:\n            result[key] = value\n    return result\n        \ndic = {\n    \"name\": 777,\n    \"age\": 56,\n    \"city\": 34,\n    \"job\": 1\n}\nprint(main(dic, \"name\", \"job\"))\n\ndef main(dic, change_keys):\n    result = {}\n    change_keys = dic[\"name\"], dic[\"job\"] = dic[\"job\"], dic[\"name\"]\n\n    for key, value in dic.items():\n        if change_keys not in result:\n            result[key] = value\n    return result\n        \ndic = {\n    \"name\": 777,\n    \"age\": 56,\n    \"city\": 34,\n    \"job\": 1\n}\nchange_keys = {\"name\", \"job\"}\nprint(main(dic, change_keys))\n\ndef swap_values(dic, key1, key2):\n    dic[key1], dic[key2] = dic[key2], dic[key1]\n    return dic\n\ndic = {\n    \"a\": 1,\n    \"b\": 2,\n    \"c\": 3\n}\nprint(swap_values(dic, \"a\", \"c\"))\n\n\"\"\"\nProblem: 824\nWrite a Python program to find the key with the largest value in a dictionary. Do not use max().\n\"\"\"\n\ndef largest_value(dic):\n    largest_key = None\n    largest_val = float('-inf')\n    \n    for key, value in dic.items():\n        if value > largest_val:\n            largest_val = value\n            largest_key = key\n    \n    return largest_key\n\ndic = {\n    \"name\": 777,\n    \"age\": 56,\n    \"city\": 34,\n    \"job\": 1\n}\nprint(largest_value(dic))\n\n\"\"\"\nProblem: 825\nWrite a Python program to find the key with the largest value in a dictionary. Do not use min().\n\"\"\"\n\ndef smallest_value(dic):\n    smallest_key = None\n    smallest_val = float('inf')\n    \n    for key, value in dic.items():\n        if value < smallest_val:\n            smallest_val = value\n            smallest_key = key\n    \n    return smallest_key\n\ndic = {\n    \"name\": 777,\n    \"age\": 56,\n    \"city\": 34,\n    \"job\": 1\n}\nprint(smallest_value(dic))\n\n\"\"\"\nProblem: 826\nWrite a Python program to add multiple new key-value pair to an existing dictionary.\n\"\"\"\n\ndef main(dic):\n    dic[\"first\"] = 1\n    dic[\"second\"] = 2\n    return dic\n    \n\ndic = {\n    \"name\": 777,\n    \"age\": 56,\n    \"city\": 34,\n    \"job\": 1\n}\nprint(main(dic))\n\n\ndef add_multiple_pairs(dic, new_pairs):\n    dic.update(new_pairs)\n    return dic\n\ndic = {\n    \"name\": 777,\n    \"age\": 56,\n    \"city\": 34,\n    \"job\": 1\n}\n\nnew_pairs = {\n    \"status\": \"unemployed\",\n    \"country\": \"USA\",\n    \"hobby\": \"coding\"\n}\n\nprint(add_multiple_pairs(dic, new_pairs))\n",
   "execution_count": null,
   "outputs": []
  }
 ],
 "metadata": {
  "kernelspec": {
   "name": "python3",
   "display_name": "Python 3",
   "language": "python"
  },
  "language_info": {
   "name": "python",
   "version": "3.10.4",
   "mimetype": "text/x-python",
   "codemirror_mode": {
    "name": "ipython",
    "version": 3
   },
   "pygments_lexer": "ipython3",
   "nbconvert_exporter": "python",
   "file_extension": ".py"
  }
 },
 "nbformat": 4,
 "nbformat_minor": 2
}