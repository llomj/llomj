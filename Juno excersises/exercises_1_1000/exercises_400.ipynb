{
 "cells": [
  {
   "metadata": {
    "trusted": false
   },
   "cell_type": "code",
   "source": "\"\"\"\nProblem: 301\nWrite a Python program to check if a given string is a palindrome using a `while` loop.\n\"\"\"\n\ndef is_palindrome(s):\n    i = 0\n    j = len(s) - 1\n    while i < j:\n        if s[i] != s[j]:\n            return False\n        i += 1\n        j -= 1\n    return True\n\n# Example usage\ntest_string_1 = \"radar\"\ntest_string_2 = \"hello\"\ntest_string_3 = \"level\"\ntest_string_4 = \"world\"\n\nresult_1 = is_palindrome(test_string_1)\nresult_2 = is_palindrome(test_string_2)\nresult_3 = is_palindrome(test_string_3)\nresult_4 = is_palindrome(test_string_4)\n\nprint(f'Is \"{test_string_1}\" a palindrome? {result_1}')\nprint(f'Is \"{test_string_2}\" a palindrome? {result_2}')\nprint(f'Is \"{test_string_3}\" a palindrome? {result_3}')\nprint(f'Is \"{test_string_4}\" a palindrome? {result_4}')\n",
   "execution_count": null,
   "outputs": []
  },
  {
   "metadata": {
    "trusted": false
   },
   "cell_type": "code",
   "source": "\"\"\"\nProblem: 302\nWrite a Python program to count the number of vowels in a given string using a `while` loop.\n\"\"\"\n\ndef count_vowels(s):\n    vowels = \"aeiouAEIOU\"\n    count = 0\n    i = 0\n    while i < len(s):\n        if s[i] in vowels:\n            count += 1\n        i += 1\n    return count\n\n# Example usage\ntest_string_1 = \"Hello, World!\"\ntest_string_2 = \"Python programming\"\ntest_string_3 = \"Count the vowels\"\ntest_string_4 = \"AEIOU and sometimes Y\"\n\nresult_1 = count_vowels(test_string_1)\nresult_2 = count_vowels(test_string_2)\nresult_3 = count_vowels(test_string_3)\nresult_4 = count_vowels(test_string_4)\n\nprint(f'Number of vowels in \"{test_string_1}\": {result_1}')\nprint(f'Number of vowels in \"{test_string_2}\": {result_2}')\nprint(f'Number of vowels in \"{test_string_3}\": {result_3}')\nprint(f'Number of vowels in \"{test_string_4}\": {result_4}')\n",
   "execution_count": null,
   "outputs": []
  },
  {
   "metadata": {
    "trusted": false
   },
   "cell_type": "code",
   "source": "\"\"\"\nProblem: 303\nWrite a Python program to print each character of a given string using a `while` loop.\n\"\"\"\n\ndef print_each_character(s):\n    i = 0\n    while i < len(s):\n        print(s[i])\n        i += 1\n\n# Example usage\ntest_string_1 = \"Hello, World!\"\ntest_string_2 = \"Python\"\ntest_string_3 = \"While loop example\"\n\nprint(\"Characters in test_string_1:\")\nprint_each_character(test_string_1)\n\nprint(\"\\nCharacters in test_string_2:\")\nprint_each_character(test_string_2)\n\nprint(\"\\nCharacters in test_string_3:\")\nprint_each_character(test_string_3)",
   "execution_count": null,
   "outputs": []
  },
  {
   "metadata": {
    "trusted": false
   },
   "cell_type": "code",
   "source": "\"\"\"\nProblem: 304\nWrite a Python program to repeatedly ask for user input until a specific condition is met using a `while` loop.\n\"\"\"\n\ndef ask_until_condition():\n    while True:\n        user_input = input(\"Enter a number greater than 10: \")\n        if int(user_input) > 10:\n            break\n            \nask_until_condition()",
   "execution_count": null,
   "outputs": []
  },
  {
   "metadata": {
    "trusted": false
   },
   "cell_type": "code",
   "source": "\"\"\"\nProblem: 305\nWrite a Python program to sort a list of numbers in ascending order using `sorted()`.\n\"\"\"\n\ndef sort_list(numbers):\n    numbers.sort()\n    return numbers\n\n# Example usage\nnumbers = [5, 2, 9, 1, 5, 6]\nsorted_numbers = sort_list(numbers)\nprint(\"Original list:\", numbers)\nprint(\"Sorted list:\", sorted_numbers)",
   "execution_count": null,
   "outputs": []
  },
  {
   "metadata": {
    "trusted": false
   },
   "cell_type": "code",
   "source": "\"\"\"\n306\nWrite a Python program to sort a list of integers by the sum of their digits using `sorted()` with the `key` parameter.\n\"\"\"\n\ndef sum_of_digits(n):\n    total = 0\n    for digit in str(n): \n        total += int(digit)\n    return total\n\ndef integers_lst(lst):\n    sorted_lst = sorted(lst, key=sum_of_digits)\n    return sorted_lst\n\nlst = [4, 56, 56, 36, 123]\nprint(integers_lst(lst))",
   "execution_count": null,
   "outputs": []
  },
  {
   "metadata": {
    "trusted": false
   },
   "cell_type": "code",
   "source": "\"\"\"\nProblem 307:\nWrite a Python function called find_min_max that takes a list of numbers as input and returns a tuple containing the minimum and maximum numbers in the list, dont not call the fuction using print(find_min_max). Do not use sort() or max() or min().\n\"\"\"\n\ndef find_min_max():\n    user = input(\"type list of numbers: \").split()\n\n    int_num = []\n    for number in user:\n        int_num.append(int(number))\n    \n    min_num = int_num[-1]\n    max_num = int_num[0]\n    \n    print(min_num, max_num)\n           \nfind_min_max()",
   "execution_count": null,
   "outputs": []
  },
  {
   "metadata": {
    "trusted": false
   },
   "cell_type": "code",
   "source": "\"\"\"\nProblem: 308\nWrite a function group_by_first_letter that takes a list of strings as input and returns a dictionary. The dictionary should group the strings by their first letter. Each key in the dictionary should be a first letter, and the corresponding value should be a list of strings that start with that letter. User should type list as input():\n\"\"\"\n\ndef group_by_first_letter():\n    lst = input(\"type word list: \").split()\n    \n    result = {}\n    for word in lst:\n        first_letter = word[0]\n        if first_letter not in result:\n            result[first_letter] = [word]\n        else:\n            result[first_letter].append(word)\n            \n    print(result)\n        \ngroup_by_first_letter()",
   "execution_count": null,
   "outputs": []
  },
  {
   "metadata": {
    "trusted": false
   },
   "cell_type": "code",
   "source": "\"\"\"\nProplem: 309\nWrite a increasing triangle using *\n\"\"\"\n\ndef increasing_triangle(n):\n    for i in range(n):\n        for j in range(i+1):\n            print(\"*\", end=\" \")\n        print()\n            \nrows = 5\nincreasing_triangle(rows)",
   "execution_count": null,
   "outputs": []
  },
  {
   "metadata": {
    "trusted": false
   },
   "cell_type": "code",
   "source": "\"\"\"\nProblem: 310\nWrite a Python function called find_longest_word that takes a list of words as input and returns the longest word in the list. If there are multiple longest words, return the first one encountered. Do not use sorted().\n\"\"\"\n\ndef find_longest_word(lst):\n    longest_word = \"\"\n    count = 0\n    \n    for word in lst:\n        if len(word) > count:\n            count = len(word)\n            longest_word = word\n    return longest_word\n\nlst = [\"Jonathan\", \"noll\"]    \nprint(find_longest_word(lst))",
   "execution_count": null,
   "outputs": []
  },
  {
   "metadata": {
    "trusted": false
   },
   "cell_type": "code",
   "source": "\"\"\"\nProblem: 311\nWrite a Python function called find_longest_word that takes a list of words as input and returns the longest word in the list. If there are multiple longest words, return the first one encountered. Do not use sorted()and len().\n\"\"\"\n\ndef find_longest_word(lst):\n    longest_word = \"\"\n    max_length = 0\n    \n    for word in lst:\n        current_length = 0\n        for char in word:\n            current_length += 1\n        if current_length > max_length:\n            max_length = current_length \n            longest_word = word\n            \n    return longest_word\n    \nlst = [\"Jonathan\", \"noll\", \"it\"]    \nprint(find_longest_word(lst))",
   "execution_count": null,
   "outputs": []
  },
  {
   "metadata": {
    "trusted": false
   },
   "cell_type": "code",
   "source": "\"\"\"\nProblem: 312\nWrite a Python program to find the second largest number in a list. Prompt the user to enter a list of numbers, do not use a for loop.\n\"\"\"\n\ndef second_largest_number():\n    user = input(\"Type numbers separated by spaces: \").split()\n    user_int = list(map(int, user))\n    user_int.sort()  \n    second_largest = user_int[-2]  \n\n    print(second_largest)\n\nsecond_largest_number()",
   "execution_count": null,
   "outputs": []
  },
  {
   "metadata": {
    "trusted": false
   },
   "cell_type": "code",
   "source": "\"\"\"\nProblem: 313\nWrite a Python program to convert a list of strings to uppercase using `map()`.\n\"\"\"\n\ndef convert_to_uppercase(strings):\n    def to_uppercase(s):\n        return s.upper()\n    return list(map(to_uppercase, strings))\n\n# Example usage\nstrings = [\"hello\", \"world\", \"python\", \"programming\"]\nuppercase_strings = convert_to_uppercase(strings)\nprint(\"Original list:\", strings)\nprint(\"Uppercase list:\", uppercase_strings)",
   "execution_count": null,
   "outputs": []
  },
  {
   "metadata": {
    "trusted": false
   },
   "cell_type": "code",
   "source": "\"\"\"\nProblem: 314\nWrite a Python program to convert a list of strings representing numbers to a list of integers using `map()`.\n\"\"\"\n\ndef convert_to_integers(strings):\n    def to_integer(s):\n        return int(s)\n    return list(map(to_integer, strings))\n\n# Example usage\nstring_numbers = [\"1\", \"2\", \"3\", \"4\", \"5\"]\ninteger_numbers = convert_to_integers(string_numbers)\nprint(\"Original list of strings:\", string_numbers)\nprint(\"Converted list of integers:\", integer_numbers)",
   "execution_count": null,
   "outputs": []
  },
  {
   "metadata": {
    "trusted": false
   },
   "cell_type": "code",
   "source": "\"\"\"\nProblem: 315\nWrite a Python program to square each number in a list using `map()`.\n\"\"\"\n\ndef square_numbers(numbers):\n    def square(x):\n        return x * x\n    return list(map(square, numbers))\n\n# Example usage\noriginal_numbers = [1, 2, 3, 4, 5]\nsquared_numbers = square_numbers(original_numbers)\nprint(\"Original list of numbers:\", original_numbers)\nprint(\"Squared list of numbers:\", squared_numbers)",
   "execution_count": null,
   "outputs": []
  },
  {
   "metadata": {
    "trusted": false
   },
   "cell_type": "code",
   "source": "\"\"\"\nProblem: 316\nWrite a Python program to find the length of each string in a list using `map()`.\n\"\"\"\n\ndef string_lengths(strings):\n    def length(s):\n        return len(s)\n    return list(map(length, strings))\n\n# Example usage\nstring_list = [\"apple\", \"banana\", \"cherry\", \"date\"]\nlengths = string_lengths(string_list)\nprint(\"Original list of strings:\", string_list)\nprint(\"Lengths of each string:\", lengths)",
   "execution_count": null,
   "outputs": []
  },
  {
   "metadata": {
    "trusted": false
   },
   "cell_type": "code",
   "source": "\"\"\"\nProblem: 317\nWrite a Python program to convert a list of temperatures from Fahrenheit to Celsius using `map()`.\n\"\"\"\n\ndef fahrenheit_to_celsius(temperatures):\n    def to_celsius(f):\n        return (f - 32) * 5 / 9\n    return list(map(to_celsius, temperatures))\n\n# Example usage\nfahrenheit_temps = [32, 68, 100, 212]  # Sample temperatures in Fahrenheit\ncelsius_temps = fahrenheit_to_celsius(fahrenheit_temps)\nprint(\"Temperatures in Fahrenheit:\", fahrenheit_temps)\nprint(\"Temperatures in Celsius:\", celsius_temps)",
   "execution_count": null,
   "outputs": []
  },
  {
   "metadata": {
    "trusted": false
   },
   "cell_type": "code",
   "source": "\"\"\"\nProblem: 319\nWrite a Python program to add 5 to each number in a list using `map()`.\n\"\"\"\n\ndef add_five_to_number(x):\n    return x + 5\n\ndef add_five(lst):\n    return list(map(add_five_to_number, lst))\n\nlst = [1, 2, 3, 4]\nprint(add_five(lst))",
   "execution_count": null,
   "outputs": []
  },
  {
   "metadata": {
    "trusted": false
   },
   "cell_type": "code",
   "source": "\"\"\"\nProblem: 320\nWrite a Python program to compute the square root of each number in a list using `map()`.\n\"\"\"\n\nimport math\ndef square_roots(numbers):\n    def square_root(x):\n        return math.sqrt(x)\n    return list(map(square_root, numbers))\n\n# Example usage\nnumber_list = [1, 4, 9, 16, 25]\nroots = square_roots(number_list)\nprint(\"Original numbers:\", number_list)\nprint(\"Square roots:\", roots)",
   "execution_count": null,
   "outputs": []
  },
  {
   "metadata": {
    "trusted": false
   },
   "cell_type": "code",
   "source": "\"\"\"\nProblem: 321\nWrite a Python program to convert a list of strings to a list of their lengths using `map()`.\n\"\"\"\n\ndef lengths_of_strings(strings):\n    def length(s):\n        return len(s)\n    return list(map(length, strings))\n\n# Example usage\nstring_list = [\"apple\", \"banana\", \"cherry\", \"date\"]\nlengths = lengths_of_strings(string_list)\nprint(\"Original strings:\", string_list)\nprint(\"Lengths of strings:\", lengths)",
   "execution_count": null,
   "outputs": []
  },
  {
   "metadata": {
    "trusted": false
   },
   "cell_type": "code",
   "source": "\"\"\"\nProblem: 322\nWrite a Python program to normalize a list of scores to a range of 0 to 1 using `map()`.\n\"\"\"\n\ndef normalize_scores(scores):\n    def normalize(score):\n        min_score = min(scores)\n        max_score = max(scores)\n        return (score - min_score) / (max_score - min_score)\n    return list(map(normalize, scores))\n\n# Example usage\nscore_list = [50, 60, 70, 80, 90]\nnormalized_scores = normalize_scores(score_list)\nprint(\"Original scores:\", score_list)\nprint(\"Normalized scores:\", normalized_scores)",
   "execution_count": null,
   "outputs": []
  },
  {
   "metadata": {
    "trusted": false
   },
   "cell_type": "code",
   "source": "\"\"\"\nProblem: 323\nWrite a Python program to reverse each string in a list using `map()`.\n\"\"\"\n\ndef reverse_strings(strings):\n    def reverse(s):\n        return s[::-1]\n    return list(map(reverse, strings))\n\n# Example usage\nstring_list = [\"hello\", \"world\", \"python\", \"programming\"]\nreversed_strings = reverse_strings(string_list)\nprint(\"Original strings:\", string_list)\nprint(\"Reversed strings:\", reversed_strings)",
   "execution_count": null,
   "outputs": []
  },
  {
   "metadata": {
    "trusted": false
   },
   "cell_type": "code",
   "source": "\"\"\"\nProblem: 324\nWrite a Python program to double each number in a list using `map()`.\n\"\"\"\n\ndef double_numbers(numbers):\n    def double(x):\n        return x * 2\n    return list(map(double, numbers))\n\n# Example usage\nnumber_list = [1, 2, 3, 4, 5]\ndoubled_numbers = double_numbers(number_list)\nprint(\"Original numbers:\", number_list)\nprint(\"Doubled numbers:\", doubled_numbers)",
   "execution_count": null,
   "outputs": []
  },
  {
   "metadata": {
    "trusted": false
   },
   "cell_type": "code",
   "source": "\"\"\"\nProblem: 325\nWrite a Python program to remove leading and trailing whitespace from each string in a list using `map()`.\n\"\"\"\n\ndef strip_whitespace(strings):\n    def strip(s):\n        return s.strip()\n    return list(map(strip, strings))\n# Example usage\nstring_list = [\"  Hello  \", \"  World  \", \"  Python  \", \"  Programming  \"]\nstripped_strings = strip_whitespace(string_list)\nprint(\"Original strings:\", string_list)\nprint(\"Stripped strings:\", stripped_strings)",
   "execution_count": null,
   "outputs": []
  },
  {
   "metadata": {
    "trusted": false
   },
   "cell_type": "code",
   "source": "\"\"\"\nProblem: 326\nWrite a Python program to create a list of tuples where each tuple contains a number and its square using `map()`.\n\"\"\"\n\ndef number_and_square(numbers):\n    def create_tuple(x):\n        return (x, x * x)\n    return list(map(create_tuple, numbers))\n\n# Example usage\nnumbers_list = [1, 2, 3, 4, 5]\nsquared_tuples = number_and_square(numbers_list)\nprint(\"Numbers and their squares:\", squared_tuples)",
   "execution_count": null,
   "outputs": []
  },
  {
   "metadata": {
    "trusted": false
   },
   "cell_type": "code",
   "source": "\"\"\"\nProblem: 327\nWrite a Python program to convert a list of strings to title case using `map()`.\n\"\"\"\n\ndef to_title_case(strings):\n    def title_case(s):\n        return s.title()\n    return list(map(title_case, strings))\n\n# Example usage\nwords = [\"hello world\", \"python programming\", \"enumerate function\"]\nresult = to_title_case(words)\nprint(result)  # ['Hello World', 'Python Programming', 'Enumerate Function']",
   "execution_count": null,
   "outputs": []
  },
  {
   "metadata": {
    "trusted": false
   },
   "cell_type": "code",
   "source": "\"\"\"\nProblem: 328\nWrite a Python program to find the second largest number in a list. Prompt the user to enter a list of numbers, do not use a for loop, do not use map().\n\"\"\"\n\ndef second_largest_number():\n    user_input = input(\"Type numbers separated by spaces: \").split()\n\n    user_int = []\n    for num in user_input:\n        user_int.append(int(num))\n\n    unique_numbers = set(user_int)\n    unique_numbers = list(unique_numbers)\n    unique_numbers.sort()\n\n    if len(unique_numbers) > 1:\n        second_largest = unique_numbers[-2]\n    else:\n        second_largest = \"Not enough unique numbers\"\n\n    print(second_largest)\n\nsecond_largest_number()",
   "execution_count": null,
   "outputs": []
  },
  {
   "metadata": {
    "trusted": false
   },
   "cell_type": "code",
   "source": "\"\"\"\nProblem 329:\nWrite a function where user types a list of numbers in string and returns a list of numbers from smallest to biggest. Do not use a for loop.\n\"\"\"\n\ndef list_string(numbers):\n    sort = sorted(numbers, key=int)\n    return sort\n   \nlst = [\"377\", \"55\", \"44\"]\nprint(list_string(lst))\n\ndef type_smallest_biggest():\n    user = input(\"type number list: \").split()\n    sort_number = sorted(user, key=int)\n       \n    print(sort_number)\n    \ntype_smallest_biggest()",
   "execution_count": null,
   "outputs": []
  },
  {
   "metadata": {
    "trusted": false
   },
   "cell_type": "code",
   "source": "\"\"\"\nProblem 330:\nWrite a function where user types a list of numbers in string and returns a list of numbers from biggest to smallest. Do not use a for loop.\n\"\"\"\n\ndef list_of_string_numbers(n):\n    sort = sorted(n, key=int)[::-1]\n    \n    return sort\n        \nnumbers = [\"44\", \"66\", \"3\", \"477\"]\nprint(list_of_string_numbers(numbers))\n\ndef type_biggest_smallest():\n    user = input(\"Type numbers: \").split()\n    int_list = list(map(int, user))\n    sorted_list = sorted(int_list, reverse=True)\n    \n    print(sorted_list)\n\ntype_biggest_smallest()",
   "execution_count": null,
   "outputs": []
  },
  {
   "metadata": {
    "trusted": false
   },
   "cell_type": "code",
   "source": "\"\"\"\nProblem: 331\nWrite a Python program to print the index and element of each item in a list using `enumerate()`.\n\"\"\"\n\ndef print_index_and_element(lst):\n    for index, element in enumerate(lst):\n        print(f\"Index: {index}, Element: {element}\")\n\n# Example usage\nlst = ['apple', 'banana', 'cherry']\nprint_index_and_element(lst)\n# Output:\n# Index: 0, Element: apple\n# Index: 1, Element: banana\n# Index: 2, Element: cherry",
   "execution_count": null,
   "outputs": []
  },
  {
   "metadata": {
    "trusted": false
   },
   "cell_type": "code",
   "source": "\"\"\"\nProblem: 332\nWrite a Python program to create a list of tuples where each tuple contains an index and the corresponding element from a list using `enumerate()`.\n\"\"\"\n\ndef create_index_element_tuples(lst):\n    result = []\n    for index, element in enumerate(lst):\n        result.append((index, element))\n    return result\n\n# Example usage\nlst = ['apple', 'banana', 'cherry']\nresult = create_index_element_tuples(lst)\nprint(result)  # [(0, 'apple'), (1, 'banana'), (2, 'cherry')]",
   "execution_count": null,
   "outputs": []
  },
  {
   "metadata": {
    "trusted": false
   },
   "cell_type": "code",
   "source": "\"\"\"\nProblem: 333\nWrite a Python program to print each element with its index in a list of strings using `enumerate()`.\n\"\"\"\n\ndef print_with_index(strings):\n    for index, value in enumerate(strings):\n        print(index, value)\n\nstrings = [\"apple\", \"banana\", \"cherry\", \"date\", \"fig\"]\nprint_with_index(strings)",
   "execution_count": null,
   "outputs": []
  },
  {
   "metadata": {
    "trusted": false
   },
   "cell_type": "code",
   "source": "\"\"\"\nProblem: 334\nWrite a Python program to generate a dictionary where keys are indexes and values are elements from a list using `enumerate()`.\n\"\"\"\n\ndef list_to_dict(lst):\n    result = {}\n    for index, element in enumerate(lst):\n        result[index] = element\n    return result\n\n# Example usage\nlst = ['apple', 'banana', 'cherry']\nresult = list_to_dict(lst)\nprint(result)  # {0: 'apple', 1: 'banana', 2: 'cherry'}",
   "execution_count": null,
   "outputs": []
  },
  {
   "metadata": {
    "trusted": false
   },
   "cell_type": "code",
   "source": "\"\"\"\nProblem: 335\nWrite a Python program to find the index of a specific element in a list using `enumerate()`.\n\"\"\"\n\ndef find_index(lst, element):\n    for index, value in enumerate(lst):\n        if value == element:\n            return index\n    return -1\n\n# Example usage\nlst = ['apple', 'banana', 'cherry']\nindex = find_index(lst, 'banana')\nprint(index)  # 1",
   "execution_count": null,
   "outputs": []
  },
  {
   "metadata": {
    "trusted": false
   },
   "cell_type": "code",
   "source": "\"\"\"\nProblem: 336\nWrite a Python program to print each element of a list with its index separated by a colon using `enumerate()`.\n\"\"\"\n\ndef print_index_and_element_with_colon(lst):\n    for index, element in enumerate(lst):\n        print(f\"{index}: {element}\")\n\n# Example usage\nlst = ['apple', 'banana', 'cherry']\nprint_index_and_element_with_colon(lst)\n# Output:\n# 0: apple\n# 1: banana\n# 2: cherry",
   "execution_count": null,
   "outputs": []
  },
  {
   "metadata": {
    "trusted": false
   },
   "cell_type": "code",
   "source": "\"\"\"\nProblem: 337\nWrite a Python program to create a list of strings where each string includes its index with a custom prefix using `enumerate()`.\n\"\"\"\n\ndef create_indexed_strings(lst, prefix):\n    result = []\n    for index, element in enumerate(lst):\n        result.append(f\"{prefix}{index}: {element}\")\n    return result\n\n# Example usage\nlst = ['apple', 'banana', 'cherry']\nresult = create_indexed_strings(lst, \"Item \")\nprint(result)  # ['Item 0: apple', 'Item 1: banana', 'Item 2: cherry']",
   "execution_count": null,
   "outputs": []
  },
  {
   "metadata": {
    "trusted": false
   },
   "cell_type": "code",
   "source": "\"\"\"\nProblem: 338\nWrite a Python program to modify elements in a list based on their index using `enumerate()`.\n\"\"\"\n\ndef modify_elements(lst):\n    for index, element in enumerate(lst):\n        if index % 2 == 0:  # Modify elements at even indices\n            lst[index] = element.upper()\n    return lst\n\n# Example usage\nlst = ['apple', 'banana', 'cherry', 'date']\nresult = modify_elements(lst)\nprint(result)  # ['APPLE', 'banana', 'CHERRY', 'date']",
   "execution_count": null,
   "outputs": []
  },
  {
   "metadata": {
    "trusted": false
   },
   "cell_type": "code",
   "source": "\"\"\"\n339\nWrite a Python program to compute the sum of elements in a list where each element is multiplied by its index using `enumerate()`.\n\"\"\"\n\ndef sum_of_elements(lst):\n    total_sum = 0\n    \n    for i, num in enumerate(lst):\n        total_sum += i * num  \n    return total_sum\n\nlst = [2, 4, 6, 8]\nprint(sum_of_elements(lst))",
   "execution_count": null,
   "outputs": []
  },
  {
   "metadata": {
    "trusted": false
   },
   "cell_type": "code",
   "source": "\"\"\"\nProblem: 340\nWrite a Python program to print elements from a list that are located at odd indexes using `enumerate()`.\n\"\"\"\n\ndef print_odd_index_elements(lst):\n    for index, element in enumerate(lst):\n        if index % 2 != 0:\n            print(element)\n\n# Example usage\nlst = ['apple', 'banana', 'cherry', 'date']\nprint_odd_index_elements(lst)\n# Output:\n# banana\n# date",
   "execution_count": null,
   "outputs": []
  },
  {
   "metadata": {
    "trusted": false
   },
   "cell_type": "code",
   "source": "\"\"\"\nProblem: 341\nWrite a Python program to create a list of tuples where each tuple contains an index and element from a list, but only if the element starts with a vowel, using `enumerate()`.\n\"\"\"\n\ndef index_element_if_vowel(lst):\n    result = []\n    vowels = 'aeiouAEIOU'\n    for index, element in enumerate(lst):\n        if element[0] in vowels:\n            result.append((index, element))\n    return result\n\n# Example usage\nlst = ['apple', 'banana', 'orange', 'grape']\nresult = index_element_if_vowel(lst)\nprint(result)  # [(0, 'apple'), (2, 'orange')]",
   "execution_count": null,
   "outputs": []
  },
  {
   "metadata": {
    "trusted": false
   },
   "cell_type": "code",
   "source": "\"\"\"\nProblem: 342\nWrite a Python program to find the maximum element in a list and its index using `enumerate()`.\n\"\"\"\n\ndef find_max_and_index(lst):\n    max_element = lst[0]\n    max_index = 0\n    for index, element in enumerate(lst):\n        if element > max_element:\n            max_element = element\n            max_index = index\n    return max_index, max_element\n\n# Example usage\nlst = [10, 20, 30, 25]\nindex, max_element = find_max_and_index(lst)\nprint(f\"Max element: {max_element}, Index: {index}\")\n# Output: Max element: 30, Index: 2",
   "execution_count": null,
   "outputs": []
  },
  {
   "metadata": {
    "trusted": false
   },
   "cell_type": "code",
   "source": "\"\"\"\nProblem: 343\nWrite a Python program to create a list of tuples with index and element, but exclude the first N elements using `enumerate()`.\n\"\"\"\n\ndef index_and_element_excluding_first_n(lst, n):\n    result = []\n    for index, element in enumerate(lst):\n        if index >= n:\n            result.append((index, element))\n    return result\n\n# Example usage\nlst = ['apple', 'banana', 'cherry', 'date', 'elderberry']\nresult = index_and_element_excluding_first_n(lst, 2)\nprint(result)  # [(2, 'cherry'), (3, 'date'), (4, 'elderberry')]",
   "execution_count": null,
   "outputs": []
  },
  {
   "metadata": {
    "trusted": false
   },
   "cell_type": "code",
   "source": "\"\"\"\nProblem: 344\nWrite a Python program to print each number in a list along with its index squared using `enumerate()`.\n\"\"\"\n\ndef print_index_squared(numbers):\n    for index, number in enumerate(numbers):\n        print(f\"Index: {index}, Squared: {number ** 2}\")\n\nlst = [1, 2, 3, 4, 5]\nprint_index_squared(lst)",
   "execution_count": null,
   "outputs": []
  },
  {
   "metadata": {
    "trusted": false
   },
   "cell_type": "code",
   "source": "\"\"\"\nProblem: 345\nWrite a Python program to replace elements in a list based on their index using `enumerate()`. For example, replace even indexed elements with 'Even' and odd indexed elements with 'Odd'.\n\"\"\"\n\ndef replace_based_on_index(lst):\n    for index, element in enumerate(lst):\n        if index % 2 == 0:\n            lst[index] = 'Even'\n        else:\n            lst[index] = 'Odd'\n    return lst\n\nlst = ['a', 'b', 'c', 'd', 'e']\nresult = replace_based_on_index(lst)\nprint(result)",
   "execution_count": null,
   "outputs": []
  },
  {
   "metadata": {
    "trusted": false
   },
   "cell_type": "code",
   "source": "\"\"\"\nProblem: 346\nWrite a Python program that defines a function `sum_of_squares()` which contains a nested function `square()` that squares a number. The `sum_of_squares()` function should sum the squares of two numbers.\n\"\"\"\n\ndef sum_of_squares(a, b):\n    def square(x):\n        return x * x\n    return square(a) + square(b)\n\nresult = sum_of_squares(3, 4)\nprint(result)",
   "execution_count": null,
   "outputs": []
  },
  {
   "metadata": {
    "trusted": false
   },
   "cell_type": "code",
   "source": "\"\"\"\nProblem: 347\nWrite a Python program that defines a function `greet()` which contains a nested function `get_name()` to prompt the user for their name. The `greet()` function should return a greeting message using the name.\n\"\"\"\n\ndef greet():\n    def get_name():\n        return input(\"What is your name? \")\n    name = get_name()\n    return f\"Hello, {name}!\"\n\nresult = greet()\nprint(result)",
   "execution_count": null,
   "outputs": []
  },
  {
   "metadata": {
    "trusted": false
   },
   "cell_type": "code",
   "source": "\"\"\"\nProblem: 348\nWrite a Python program that defines a function `factorial()` which contains a nested recursive function `inner_factorial()` to calculate the factorial of a number.\n\"\"\"\n\ndef factorial(n):\n    def inner_factorial(x):\n        if x == 0:\n            return 1\n        else:\n            return x * inner_factorial(x - 1)\n    return inner_factorial(n)\n\nresult = factorial(5)\nprint(result)",
   "execution_count": null,
   "outputs": []
  },
  {
   "metadata": {
    "trusted": false
   },
   "cell_type": "code",
   "source": "\"\"\"\nProblem: 349\nWrite a Python program that defines a function `add_prefix()` which contains a nested function `prefix_string()` that adds a given prefix to a string. The `add_prefix()` function should return the prefixed string.\n\"\"\"\n\ndef add_prefix(prefix):\n    \n    def prefix_string(string):\n    \n        return prefix + string\n    \n\n    return prefix_string\n\nprefix_func = add_prefix(\"pre-\")\nresult = prefix_func(\"fix\") \nprint(result)\n\ndef add_prefix(prefix):\n    \n    def prefix_string(string):\n        return prefix + string\n    \n    return prefix_string\n\nprefix_func = add_prefix(\"pre-\")\n\nresult1 = prefix_func(\"fix\")\nresult2 = prefix_func(\"view\")\nresult3 = prefix_func(\"dict\")\n\nprint(result1)  # Output: \"pre-fix\"\nprint(result2)  # Output: \"pre-view\"\nprint(result3)  # Output: \"pre-dict\"",
   "execution_count": null,
   "outputs": []
  },
  {
   "metadata": {
    "trusted": false
   },
   "cell_type": "code",
   "source": "\"\"\"\nProblem: 350\nWrite a Python program that defines a function `check_even()` which contains a nested function `is_even()` that checks if a number is even. The `check_even()` function should return whether the number is even.\n\"\"\"\n\ndef check_even(num):\n    def is_even(x):\n        return x % 2 == 0\n    return is_even(num)\n\nresult = check_even(10)\nprint(result)",
   "execution_count": null,
   "outputs": []
  },
  {
   "metadata": {
    "trusted": false
   },
   "cell_type": "code",
   "source": "\"\"\"\nProblem: 351\nWrite a Python program that defines a function `power()` which contains a nested function `calculate_power()` that raises a number to a given power. The `power()` function should return the result.\n\"\"\"\n\ndef power(base, exponent):\n    def calculate_power(b, e):\n        return b ** e\n    return calculate_power(base, exponent)\n\nresult = power(2, 3)\nprint(result)",
   "execution_count": null,
   "outputs": []
  },
  {
   "metadata": {
    "trusted": false
   },
   "cell_type": "code",
   "source": "\"\"\"\nProblem: 352\nWrite a Python program that defines a function `area_circle()` which contains a nested function `calculate_area()` that computes the area of a circle given its radius. The `area_circle()` function should return the area.\n\"\"\"\n\ndef area_circle(radius):\n    def calculate_area(r):\n        return 3.14159 * r * r\n    return calculate_area(radius)\n\nresult = area_circle(5)\nprint(result)",
   "execution_count": null,
   "outputs": []
  },
  {
   "metadata": {
    "trusted": false
   },
   "cell_type": "code",
   "source": "\"\"\"\nProblem: 353\nWrite a Python program that defines a function `capitalize_words()` which contains a nested function `capitalize()` that capitalizes a word. The `capitalize_words()` function should return a string with each word capitalized.\n\"\"\"\n\ndef capitalize_words(sentence):\n    def capitalize(word):\n        return word.capitalize()\n    words = sentence.split()\n    capitalized_words = []\n    for word in words:\n        capitalized_words.append(capitalize(word))\n    return ' '.join(capitalized_words)\n\nresult = capitalize_words(\"hello world from python\")\nprint(result)",
   "execution_count": null,
   "outputs": []
  },
  {
   "metadata": {
    "trusted": false
   },
   "cell_type": "code",
   "source": "\"\"\"\nProblem: 354\nWrite a Python program that defines a function `is_palindrome()` which contains a nested function `reverse_string()` that checks if a string is a palindrome.\n\"\"\"\n\ndef is_palindrome(word):\n    def reverse_string(s):\n        return s[::-1]\n    return word == reverse_string(word)\n\nresult = is_palindrome(\"radar\")\nprint(result)\n",
   "execution_count": null,
   "outputs": []
  },
  {
   "metadata": {
    "trusted": false
   },
   "cell_type": "code",
   "source": "\"\"\"\nProblem: 354\nWrite a Python program that defines a function `is_palindrome()` which contains a nested function `reverse_string()` that checks if a string is a palindrome.\n\"\"\"\n\ndef is_palindrome(word):\n    def reverse_string(s):\n        return s[::-1]\n    return word == reverse_string(word)\n\nresult = is_palindrome(\"radar\")\nprint(result)",
   "execution_count": null,
   "outputs": []
  },
  {
   "metadata": {
    "trusted": false
   },
   "cell_type": "code",
   "source": "\"\"\"\nProblem: 355\nWrite a Python program that defines a function `concatenate_strings()` which contains a nested function `join_strings()` that concatenates two strings.\n\"\"\"\n\ndef concatenate_strings(str1, str2):\n    def join_strings(s1, s2):\n        return s1 + s2\n    return join_strings(str1, str2)\n\nresult = concatenate_strings(\"Hello, \", \"world!\")\nprint(result)",
   "execution_count": null,
   "outputs": []
  },
  {
   "metadata": {
    "trusted": false
   },
   "cell_type": "code",
   "source": "\"\"\"\nProblem: 356\nWrite a Python program that defines a function `fibonacci()` which contains a nested recursive function `fib()` to generate the Fibonacci sequence up to a given number of terms.\n\"\"\"\n\ndef fibonacci(n):\n    def fib(x):\n        if x <= 1:\n            return x\n        else:\n            return fib(x - 1) + fib(x - 2)\n    return [fib(i) for i in range(n)]\n\nresult = fibonacci(10)\nprint(result)",
   "execution_count": null,
   "outputs": []
  },
  {
   "metadata": {
    "trusted": false
   },
   "cell_type": "code",
   "source": "\"\"\"\nProblem: 357\nWrite a Python program that defines a function `to_uppercase()` which contains a nested function `convert()` that converts a string to uppercase.\n\"\"\"\n\ndef to_uppercase(string):\n    def convert(s):\n        return s.upper()\n    return convert(string)\n\nresult = to_uppercase(\"hello world\")\nprint(result)",
   "execution_count": null,
   "outputs": []
  },
  {
   "metadata": {
    "trusted": false
   },
   "cell_type": "code",
   "source": "\"\"\"\nProblem: 358\nWrite a Python program that defines a function `find_largest()` which contains a nested function `compare()` that compares two numbers and returns the larger one.\n\"\"\"\n\ndef find_largest(a, b):\n    def compare(x, y):\n        if x > y:\n            return x\n        else:\n            return y\n    return compare(a, b)\n\nresult = find_largest(10, 20)\nprint(result)",
   "execution_count": null,
   "outputs": []
  },
  {
   "metadata": {
    "trusted": false
   },
   "cell_type": "code",
   "source": "\"\"\"\nProblem: 359\nWrite a Python program that defines a function `calculator()` which contains nested functions for `add()`, `subtract()`, `multiply()`, and `divide()`. The `calculator()` function should perform the selected operation.\n\"\"\"\n\ndef calculator(operation, a, b):\n    def add(x, y):\n        return x + y\n\n    def subtract(x, y):\n        return x - y\n\n    def multiply(x, y):\n        return x * y\n\n    def divide(x, y):\n        if y != 0:\n            return x / y\n        else:\n            return \"Cannot divide by zero\"\n\n    if operation == 'add':\n        return add(a, b)\n    elif operation == 'subtract':\n        return subtract(a, b)\n    elif operation == 'multiply':\n        return multiply(a, b)\n    elif operation == 'divide':\n        return divide(a, b)\n    else:\n        return \"Invalid operation\"\n\nresult = calculator('add', 5, 3)\nprint(result)",
   "execution_count": null,
   "outputs": []
  },
  {
   "metadata": {
    "trusted": false
   },
   "cell_type": "code",
   "source": "\"\"\"\nProblem: 360\nWrite a Python program that defines a function `is_prime()` which contains a nested function `check_divisibility()` to check if a number is prime.\n\"\"\"\n\ndef is_prime(n):\n    def check_divisibility(x):\n        if x < 2:\n            return False\n        for i in range(2, int(x ** 0.5) + 1):\n            if x % i == 0:\n                return False\n        return True\n    return check_divisibility(n)\n\nresult = is_prime(7)\nprint(result)",
   "execution_count": null,
   "outputs": []
  },
  {
   "metadata": {
    "trusted": false
   },
   "cell_type": "code",
   "source": "\"\"\"\nProblem: 361\nWrite a Python program that defines a function `count_vowels()` which contains a nested function `is_vowel()` to count the number of vowels in a string.\n\"\"\"\n\ndef count_vowels(string):\n    def is_vowel(char):\n        return char in 'aeiouAEIOU'\n\n    count = 0\n    for char in string:\n        if is_vowel(char):\n            count += 1\n    return count\n\nresult = count_vowels(\"Hello World\")\nprint(result)",
   "execution_count": null,
   "outputs": []
  },
  {
   "metadata": {
    "trusted": false
   },
   "cell_type": "code",
   "source": "\"\"\"\nProblem: 362\nWrite a Python program that defines a function `calculate_average()` which contains a nested function `sum_numbers()` to calculate the average of a list of numbers.\n\"\"\"\n\ndef calculate_average(numbers):\n    def sum_numbers(nums):\n        total = 0\n        for num in nums:\n            total += num\n        return total\n\n    return sum_numbers(numbers) / len(numbers)\n\nresult = calculate_average([1, 2, 3, 4, 5])\nprint(result)",
   "execution_count": null,
   "outputs": []
  },
  {
   "metadata": {
    "trusted": false
   },
   "cell_type": "code",
   "source": "\"\"\"\nProblem: 363\nWrite a Python program that defines a function `reverse_string()` which contains a nested function `reverse()` that reverses a given string.\n\"\"\"\n\ndef reverse_string(string):\n    def reverse(s):\n        reversed_str = ''\n        for char in s:\n            reversed_str = char + reversed_str\n        return reversed_str\n    return reverse(string)\n\nresult = reverse_string(\"Hello\")\nprint(result)",
   "execution_count": null,
   "outputs": []
  },
  {
   "metadata": {
    "trusted": false
   },
   "cell_type": "code",
   "source": "\"\"\"\nProblem: 364\nWrite a Python program that defines a function `is_sorted()` which contains a nested function `compare_elements()` to check if a list is sorted in ascending order.\n\"\"\"\n\ndef is_sorted(lst):\n    def compare_elements():\n        for i in range(len(lst) - 1):\n            if lst[i] > lst[i + 1]:\n                return False\n        return True\n    return compare_elements()\n\nresult = is_sorted([1, 2, 3, 4, 5])\nprint(result)",
   "execution_count": null,
   "outputs": []
  },
  {
   "metadata": {
    "trusted": false
   },
   "cell_type": "code",
   "source": "\"\"\"\nProblem: 365\nWrite a Python program that defines a function `generate_squares()` which contains a nested function `square()` to generate a list of squares of numbers from 1 to n.\n\"\"\"\n\ndef generate_squares(n):\n    def square(x):\n        return x * x\n    squares = []\n    for i in range(1, n + 1):\n        squares.append(square(i))\n    return squares\n\nresult = generate_squares(5)\nprint(result)",
   "execution_count": null,
   "outputs": []
  },
  {
   "metadata": {
    "trusted": false
   },
   "cell_type": "code",
   "source": "\"\"\"\nProblem: 366\nWrite a Python program that defines a main function `sum_of_two()` and a helper function `add(a, b)` that adds two numbers together. The `sum_of_two()` function should call the helper function and return the result.\n\"\"\"\n\ndef sum_of_two(a, b):\n    def add(x, y):\n        return x + y\n    return add(a, b)\n\nresult = sum_of_two(3, 5)\nprint(result)",
   "execution_count": null,
   "outputs": []
  },
  {
   "metadata": {
    "trusted": false
   },
   "cell_type": "code",
   "source": "\"\"\"\nProblem: 367\nWrite a Python program that defines a main function `even_or_odd()` and a helper function `is_even(n)` that checks if a number is even. The `even_or_odd()` function should use the helper function to print whether the number is even or odd.\n\"\"\"\n\ndef even_or_odd(n):\n    def is_even(x):\n        return x % 2 == 0\n    if is_even(n):\n        print(f\"{n} is even\")\n    else:\n        print(f\"{n} is odd\")\n\neven_or_odd(10)",
   "execution_count": null,
   "outputs": []
  },
  {
   "metadata": {
    "trusted": false
   },
   "cell_type": "code",
   "source": "\"\"\"\nProblem: 368\nWrite a Python program that defines a main function `convert_temperature()` and a helper function `celsius_to_fahrenheit(c)` that converts a temperature from Celsius to Fahrenheit. The `convert_temperature()` function should use the helper function to return the converted temperature.\n\"\"\"\n\ndef convert_temperature(celsius):\n    def celsius_to_fahrenheit(c):\n        return (c * 9/5) + 32\n    return celsius_to_fahrenheit(celsius)\n\nresult = convert_temperature(25)\nprint(result)",
   "execution_count": null,
   "outputs": []
  },
  {
   "metadata": {
    "trusted": false
   },
   "cell_type": "code",
   "source": "\"\"\"\nProblem: 369\nWrite a Python program that defines a main function `rectangle_area()` and a helper function `calculate_area(length, width)` that calculates the area of a rectangle. The `rectangle_area()` function should use the helper function to return the area.\n\"\"\"\n\ndef rectangle_area(length, width):\n    def calculate_area(l, w):\n        return l * w\n    return calculate_area(length, width)\n\nresult = rectangle_area(5, 10)\nprint(result)",
   "execution_count": null,
   "outputs": []
  },
  {
   "metadata": {
    "trusted": false
   },
   "cell_type": "code",
   "source": "\"\"\"\nProblem: 370\nWrite a Python program that defines a main function `check_prime()` and a helper function `is_prime(n)` that checks if a number is prime. The `check_prime()` function should use the helper function to return whether the number is prime.\n\"\"\"\n\ndef check_prime(n):\n    def is_prime(num):\n        if num < 2:\n            return False\n        for i in range(2, int(num ** 0.5) + 1):\n            if num % i == 0:\n                return False\n        return True\n    return is_prime(n)\n\nresult = check_prime(11)\nprint(result)",
   "execution_count": null,
   "outputs": []
  },
  {
   "metadata": {
    "trusted": false
   },
   "cell_type": "code",
   "source": "\"\"\"\nProblem: 371\nWrite a Python program that defines a main function `find_minimum()` and a helper function `min_of_three(a, b, c)` that returns the minimum of three numbers. The `find_minimum()` function should use the helper function to return the minimum value.\n\"\"\"\n\ndef find_minimum(a, b, c):\n    def min_of_three(x, y, z):\n        return min(x, y, z)\n    return min_of_three(a, b, c)\n\nresult = find_minimum(5, 3, 8)\nprint(result)",
   "execution_count": null,
   "outputs": []
  },
  {
   "metadata": {
    "trusted": false
   },
   "cell_type": "code",
   "source": "\"\"\"\n372\nWrite a Python program that defines a main function `greet_user()` and a helper function `get_name()` that prompts the user for their name. The `greet_user()` function should use the helper function to print a greeting message.\n\"\"\"\n\ndef greet_user():\n    name = get_name()\n    print(f\"Hello, {name}! Welcome!\")\n\n\ndef get_name():\n    name = input(\"Type your name: \")\n    return name\n\ngreet_user()",
   "execution_count": null,
   "outputs": []
  },
  {
   "metadata": {
    "trusted": false
   },
   "cell_type": "code",
   "source": "\"\"\"\nProblem: 373\nWrite a Python program that defines a main function `calculate_factorial()` and a helper function `factorial(n)` that calculates the factorial of a number. The `calculate_factorial()` function should use the helper function to return the factorial.\n\"\"\"\n\ndef calculate_factorial(n):\n    def factorial(num):\n        if num == 0 or num == 1:\n            return 1\n        result = 1\n        for i in range(2, num + 1):\n            result *= i\n        return result\n    return factorial(n)\n\nresult = calculate_factorial(5)\nprint(result)",
   "execution_count": null,
   "outputs": []
  },
  {
   "metadata": {
    "trusted": false
   },
   "cell_type": "code",
   "source": "\"\"\"\nProblem: 374\nWrite a Python program that defines a main function `capitalize_words()` and a helper function `capitalize(word)` that capitalizes the first letter of a word. The `capitalize_words()` function should use the helper function to capitalize each word in a sentence.\n\"\"\"\n\ndef capitalize_words(sentence):\n    def capitalize(word):\n        return word[0].upper() + word[1:]\n\n    words = sentence.split()\n    capitalized_words = []\n    for word in words:\n        capitalized_words.append(capitalize(word))\n    return ' '.join(capitalized_words)\n\nresult = capitalize_words(\"hello world from python\")\nprint(result)",
   "execution_count": null,
   "outputs": []
  },
  {
   "metadata": {
    "trusted": false
   },
   "cell_type": "code",
   "source": "\"\"\"\nProblem: 375\nWrite a Python program that defines a main function `find_largest()` and a helper function `max_in_list(lst)` that returns the largest number in a list. The `find_largest()` function should use the helper function to find and return the largest number.\n\"\"\"\n\ndef find_largest(lst):\n    def max_in_list(lst):\n        largest = lst[0]\n        for num in lst:\n            if num > largest:\n                largest = num\n        return largest\n    return max_in_list(lst)\n\nresult = find_largest([3, 1, 4, 1, 5, 9, 2])\nprint(result)",
   "execution_count": null,
   "outputs": []
  },
  {
   "metadata": {
    "trusted": false
   },
   "cell_type": "code",
   "source": "\"\"\"\nProblem: 376\nWrite a Python program that defines a main function `reverse_string()` and a helper function `reverse(s)` that reverses a given string. The `reverse_string()` function should use the helper function to return the reversed string.\n\"\"\"\n\ndef reverse_string(s):\n    def reverse(s):\n        reversed_str = ''\n        for char in s:\n            reversed_str = char + reversed_str\n        return reversed_str\n    return reverse(s)\n\nresult = reverse_string(\"hello\")\nprint(result)",
   "execution_count": null,
   "outputs": []
  },
  {
   "metadata": {
    "trusted": false
   },
   "cell_type": "code",
   "source": "\"\"\"\nProblem: 377\nWrite a Python program that defines a main function `calculate_average()` and a helper function `average(lst)` that calculates the average of a list of numbers. The `calculate_average()` function should use the helper function to return the average.\n\"\"\"\n\ndef calculate_average(lst):\n    def average(lst):\n        total = 0\n        for num in lst:\n            total += num\n        return total / len(lst)\n\n    return average(lst)\n\nresult = calculate_average([10, 20, 30, 40])\nprint(result)",
   "execution_count": null,
   "outputs": []
  },
  {
   "metadata": {
    "trusted": false
   },
   "cell_type": "code",
   "source": "\"\"\"\nProblem: 378\nWrite a Python program that defines a main function `check_palindrome()` and a helper function `is_palindrome(s)` that checks if a string is a palindrome. The `check_palindrome()` function should use the helper function to return whether the string is a palindrome.\n\"\"\"\n\ndef check_palindrome(s):\n    def is_palindrome(s):\n        return s == s[::-1]\n\n    return is_palindrome(s)\n\nresult = check_palindrome(\"racecar\")\nprint(result)",
   "execution_count": null,
   "outputs": []
  },
  {
   "metadata": {
    "trusted": false
   },
   "cell_type": "code",
   "source": "\"\"\"\nProblem: 379\nWrite a Python program to find the number closest to zero in a list of numbers using the `key` parameter in the `min()` function.\n\"\"\"\n\ndef closest_to_zero(numbers):\n    closest = numbers[0]\n    for num in numbers:\n        if abs(num) < abs(closest):\n            closest = num\n    return closest\n\nresult = closest_to_zero([-5, 2, 3, -1, 0, -7])\nprint(result)",
   "execution_count": null,
   "outputs": []
  },
  {
   "metadata": {
    "trusted": false
   },
   "cell_type": "code",
   "source": "\"\"\"\nProblem: 380\nWrite a Python program that defines a main function `check_sorted()` and a helper function `is_sorted(lst)` that checks if a list is sorted in ascending order. The `check_sorted()` function should use the helper function to return whether the list is sorted.\n\"\"\"\n\ndef check_sorted(lst):\n    def is_sorted(lst):\n        for i in range(len(lst) - 1):\n            if lst[i] > lst[i + 1]:\n                return False\n        return True\n\n    return is_sorted(lst)\n\nresult = check_sorted([1, 2, 3, 4])\nprint(result)",
   "execution_count": null,
   "outputs": []
  },
  {
   "metadata": {
    "trusted": false
   },
   "cell_type": "code",
   "source": "\"\"\"\nProblem 381:\nWrite a function where user types a list of numbers in string and returns a list of numbers in integer. Do not use a for loop.\n\"\"\"\n\ndef convert_to_integers(strings):\n    return list(map(int, strings))\n\nnumbers_in_strings = [\"10\", \"20\", \"30\", \"40\"]\n\nprint(convert_to_integers(numbers_in_strings))",
   "execution_count": null,
   "outputs": []
  },
  {
   "metadata": {
    "trusted": false
   },
   "cell_type": "code",
   "source": "\"\"\"\nProblem: 382\nWrite a Python program to sort a list of strings by their length using the `key` parameter in the `sorted()` function.\n\"\"\"\n\ndef sort_strings_by_length(strings):\n    sorted_strings = sorted(strings, key=len)\n    return sorted_strings\n\nresult = sort_strings_by_length([\"apple\", \"fig\", \"banana\", \"kiwi\"])\nprint(result)",
   "execution_count": null,
   "outputs": []
  },
  {
   "metadata": {
    "trusted": false
   },
   "cell_type": "code",
   "source": "\"\"\"\n383\nWrite a Python program to sort a list of strings by their length using the `key` parameter in the `sorted()` function.\n\"\"\"\n\ndef length_strings(lst):\n    sort = sorted(lst, key=len)\n    return sort\n    \nlst = [\"Jonathan\", \"chris\", \"mimi\"]\nprint(length_strings(lst))",
   "execution_count": null,
   "outputs": []
  },
  {
   "metadata": {
    "trusted": false
   },
   "cell_type": "code",
   "source": "\"\"\"\nProblem: 384\nWrite a Python program to sort a list of tuples based on the second element using the `key` parameter in the `sorted()` function.\n\"\"\"\n\ndef sort_tuples_by_second(tuples):\n    sorted_tuples = sorted(tuples, key=lambda x: x[1])\n    return sorted_tuples\n\nresult = sort_tuples_by_second([(1, 3), (2, 1), (3, 2)])\nprint(result)",
   "execution_count": null,
   "outputs": []
  },
  {
   "metadata": {
    "trusted": false
   },
   "cell_type": "code",
   "source": "\"\"\"\nProblem: 385\nWrite a Python program to sort a list of dictionaries based on the value of a specific key using the `key` parameter in the `sorted()` function.\n\"\"\"\n\ndef sort_dicts_by_key(dicts, key_name):\n    sorted_dicts = sorted(dicts, key=lambda x: x[key_name])\n    return sorted_dicts\n\nresult = sort_dicts_by_key([{\"name\": \"Alice\", \"age\": 30}, {\"name\": \"Bob\", \"age\": 25}], \"age\")\nprint(result)",
   "execution_count": null,
   "outputs": []
  },
  {
   "metadata": {
    "trusted": false
   },
   "cell_type": "code",
   "source": "\"\"\"\nProblem: 386\nWrite a Python program to find the longest word in a list of words using the `key` parameter.\n\"\"\"\n\ndef longest_word(words):\n    longest = \"\"\n    for word in words:\n        if len(word) > len(longest):\n            longest = word\n    return longest\n\nresult = longest_word([\"apple\", \"banana\", \"cherry\", \"date\"])\nprint(result)",
   "execution_count": null,
   "outputs": []
  },
  {
   "metadata": {
    "trusted": false
   },
   "cell_type": "code",
   "source": "\"\"\"\nProblem: 387\nWrite a Python program to sort a list of numbers based on their absolute value using the `key` parameter in the `sorted()` function.\n\"\"\"\n\ndef sort_by_absolute_value(numbers):\n    sorted_numbers = sorted(numbers, key=abs)\n    return sorted_numbers\n\nresult = sort_by_absolute_value([-2, -3, 1, 5, -4])\nprint(result)",
   "execution_count": null,
   "outputs": []
  },
  {
   "metadata": {
    "trusted": false
   },
   "cell_type": "code",
   "source": "\"\"\"\nProblem: 388\nWrite a Python program to sort a list of strings by the last character of each string using the `key` parameter in the `sorted()` function.\n\"\"\"\n\ndef sort_strings_by_last_character(strings):\n    sorted_strings = sorted(strings, key=lambda x: x[-1])\n    return sorted_strings\n\nresult = sort_strings_by_last_character([\"banana\", \"apple\", \"grape\", \"kiwi\"])\nprint(result)",
   "execution_count": null,
   "outputs": []
  },
  {
   "metadata": {
    "trusted": false
   },
   "cell_type": "code",
   "source": "\"\"\"\nProblem: 389\nWrite a Python program to find the earliest date in a list of date strings (in 'YYYY-MM-DD' format) using the `key` parameter in the `min()` function.\n\"\"\"\n\ndef earliest_date(dates):\n    earliest = min(dates)\n    return earliest\n\nresult = earliest_date([\"2023-10-01\", \"2024-01-15\", \"2022-12-31\"])\nprint(result)",
   "execution_count": null,
   "outputs": []
  },
  {
   "metadata": {
    "trusted": false
   },
   "cell_type": "code",
   "source": "\"\"\"\nProblem: 390\nWrite a Python program to sort a list of names by surname using the `key` parameter in the `sorted()` function.\n\"\"\"\n\ndef get_surname(name):\n    return name.split()[-1]\n\nnames = [\n    \"John Doe\",\n    \"Jane Smith\",\n    \"Alice Johnson\",\n    \"Bob Brown\",\n    \"Charlie Davis\"\n]\nsorted_names = sorted(names, key=get_surname)\n\nprint(sorted_names)",
   "execution_count": null,
   "outputs": []
  },
  {
   "metadata": {
    "trusted": false
   },
   "cell_type": "code",
   "source": "\"\"\"\nProblem: 391\nWrite a Python program to sort a list of strings alphabetically, ignoring case, using the `key` parameter in the `sorted()` function.\n\"\"\"\n\ndef sort_strings_alphabetically(strings):\n    return sorted(strings, key=str.lower)\n\nstrings = [\"banana\", \"Apple\", \"cherry\", \"Date\", \"fig\", \"Grape\"]\nsorted_strings = sort_strings_alphabetically(strings)\nprint(sorted_strings)",
   "execution_count": null,
   "outputs": []
  },
  {
   "metadata": {
    "trusted": false
   },
   "cell_type": "code",
   "source": "\"\"\"\nProblem: 392\nWrite a Python program to find the word with the highest Scrabble score in a list of words using the `key` parameter.\n\"\"\"\n\ndef scrabble_score(word):\n    score_chart = {\n        'A': 1, 'E': 1, 'I': 1, 'O': 1, 'U': 1,\n        'L': 1, 'N': 1, 'S': 1, 'T': 1, 'R': 1,\n        'D': 2, 'G': 2,\n        'B': 3, 'C': 3, 'M': 3, 'P': 3,\n        'F': 4, 'H': 4, 'V': 4, 'W': 4, 'Y': 4,\n        'K': 5,\n        'J': 8, 'X': 8,\n        'Q': 10, 'Z': 10\n    }\n    total_score = 0\n    for letter in word.upper():\n        total_score += score_chart.get(letter, 0)\n    return total_score\n\ndef find_highest_scrabble_word(words):\n    highest_word = max(words, key=scrabble_score)\n    return highest_word\n\nresult = find_highest_scrabble_word([\"hello\", \"world\", \"python\", \"scrabble\"])\nprint(result)",
   "execution_count": null,
   "outputs": []
  },
  {
   "metadata": {
    "trusted": false
   },
   "cell_type": "code",
   "source": "\"\"\"\nProblem: 393\nWrite a Python program to sort a list of complex numbers by their magnitude using the `key` parameter in the `sorted()` function.\n\"\"\"\n\ndef sort_complex_numbers(complex_numbers):\n    def get_magnitude(c):\n        return abs(c)\n\n    sorted_numbers = sorted(complex_numbers, key=get_magnitude)\n    return sorted_numbers\n\nresult = sort_complex_numbers([3 + 4j, 1 + 1j, 0 + 2j, 5 + 0j])\nprint(result)\n",
   "execution_count": null,
   "outputs": []
  },
  {
   "metadata": {
    "trusted": false
   },
   "cell_type": "code",
   "source": "\"\"\"\nProblem: 394\nWrite a Python program to find the file with the largest size in a list of file paths using the `key` parameter and `os.path.getsize`.\n\"\"\"\n\nimport os\n\ndef find_largest_file(file_paths):\n    def get_file_size(file_path):\n        return os.path.getsize(file_path)\n\n    largest_file = max(file_paths, key=get_file_size)\n    return largest_file\n\n# Note: Update the file paths according to your file system.\n# result = find_largest_file([\"path/to/file1.txt\", \"path/to/file2.txt\"])\n# print(result)  # Uncomment and use real file paths to test.",
   "execution_count": null,
   "outputs": []
  },
  {
   "metadata": {
    "trusted": false
   },
   "cell_type": "code",
   "source": "\"\"\"\nProblem: 395\nWrite a Python program to sort a list of fractions (using the `fractions.Fraction` class) by their value using the `key` parameter in the `sorted()` function.\n\"\"\"\n\nfrom fractions import Fraction\n\ndef sort_fractions(fractions):\n    def get_fraction_value(frac):\n        return float(frac)\n\n    sorted_fractions = sorted(fractions, key=get_fraction_value)\n    return sorted_fractions\n\nresult = sort_fractions([Fraction(1, 2), Fraction(1, 3), Fraction(2, 3), Fraction(1, 4)])\nprint(result)",
   "execution_count": null,
   "outputs": []
  },
  {
   "metadata": {
    "trusted": false
   },
   "cell_type": "code",
   "source": "\"\"\"\nProblem: 396\nWrite a Python program to sort a list of tuples based on the sum of their elements using the `key` parameter in the `sorted()` function.\n\"\"\"\n\ndef sort_tuples_by_sum(tuples):\n    def get_sum(tup):\n        return sum(tup)\n\n    sorted_tuples = sorted(tuples, key=get_sum)\n    return sorted_tuples\n\nresult = sort_tuples_by_sum([(1, 2), (3, 4), (1, 1), (2, 2)])\nprint(result)",
   "execution_count": null,
   "outputs": []
  },
  {
   "metadata": {
    "trusted": false
   },
   "cell_type": "code",
   "source": "\"\"\"\nProblem: 397\nWrite a Python program to find the number closest to zero in a list of numbers using the `key` parameter in the `min()` function.\n\"\"\"\n\ndef closest_to_zero(numbers):\n    closest = min(numbers, key=abs)\n    return closest\n\nresult = closest_to_zero([-5, 2, 3, -1, 0, -7])\nprint(result)",
   "execution_count": null,
   "outputs": []
  },
  {
   "metadata": {
    "trusted": false
   },
   "cell_type": "code",
   "source": "\"\"\"\nProblem: 398\nWrite a Python program to sort a list of 2D points (tuples) by their distance from the origin using the `key` parameter in the `sorted()` function.\n\"\"\"\n\ndef sort_points_by_distance(points):\n    def get_distance(point):\n        return (point[0]**2 + point[1]**2)**0.5\n\n    sorted_points = sorted(points, key=get_distance)\n    return sorted_points\n\nresult = sort_points_by_distance([(3, 4), (1, 1), (0, 2), (5, 0)])\nprint(result)",
   "execution_count": null,
   "outputs": []
  },
  {
   "metadata": {
    "trusted": false
   },
   "cell_type": "code",
   "source": "\"\"\"\nProblem: 399\nWrite a Python program to sort a list of words by the number of distinct letters in each word using the `key` parameter in the `sorted()` function.\n\"\"\"\n\ndef sort_words_by_distinct_letters(words):\n    def distinct_letter_count(word):\n        return len(set(word))\n\n    sorted_words = sorted(words, key=distinct_letter_count)\n    return sorted_words\n\nresult = sort_words_by_distinct_letters([\"apple\", \"banana\", \"cherry\", \"date\"])\nprint(result)",
   "execution_count": null,
   "outputs": []
  },
  {
   "metadata": {
    "trusted": false
   },
   "cell_type": "code",
   "source": "\"\"\"\nProblem: 400\nWrite a Python program to find the word with the highest sum of ASCII values of its characters in a list of words using the `key` parameter.\n\"\"\"\n\ndef ascii_value(word):\n    total_value = 0\n    for char in word:\n        total_value += ord(char)\n    return total_value\n\ndef find_highest_ascii_word(words):\n    highest_word = max(words, key=ascii_value)\n    return highest_word\n\nresult = find_highest_ascii_word([\"hello\", \"world\", \"python\", \"scrabble\"])\nprint(result)",
   "execution_count": null,
   "outputs": []
  }
 ],
 "metadata": {
  "kernelspec": {
   "name": "python3",
   "display_name": "Python 3",
   "language": "python"
  },
  "language_info": {
   "name": "python",
   "version": "3.10.4",
   "mimetype": "text/x-python",
   "codemirror_mode": {
    "name": "ipython",
    "version": 3
   },
   "pygments_lexer": "ipython3",
   "nbconvert_exporter": "python",
   "file_extension": ".py"
  }
 },
 "nbformat": 4,
 "nbformat_minor": 2
}