{
 "cells": [
  {
   "metadata": {
    "trusted": false
   },
   "cell_type": "code",
   "source": "\"\"\"\nProblem: 401\nWrite a Python program to sort a list of strings by the number of vowels in each string using the `key` parameter in the `sorted()` function.\"\n\"\"\"\n\ndef count_vowels(s):\n    vowels = \"aeiou\"\n    count = 0\n    s = s.lower() \n    \n    for char in s:\n        if char in vowels:\n            count += 1\n    return count\n\ndef sort_by_vowel_count(strings):\n    return sorted(strings, key=count_vowels)\n\nstrings = [\"apple\", \"banana\", \"cherry\", \"date\", \"fig\", \"grape\"]\nsorted_strings = sort_by_vowel_count(strings)\nprint(sorted_strings)",
   "execution_count": null,
   "outputs": []
  },
  {
   "metadata": {
    "trusted": false
   },
   "cell_type": "code",
   "source": "\"\"\"\nProblem 402:\nWrite a function where user types a list of integers into a list of strings. Do not use a for loop.\n\"\"\"\n\ndef convert_to_integers(integers):\n    return list(map(str, integers))\n\nnumbers = [4, 24, 66, 25]\nprint(convert_to_integers(numbers))\n",
   "execution_count": null,
   "outputs": []
  },
  {
   "metadata": {
    "trusted": false
   },
   "cell_type": "code",
   "source": "\"\"\"\nProblem: 403\nWrite a Python program to add 5 to each number in a list. Do not use map().\n\"\"\"\n\ndef add_five(lst):\n    result = []\n    \n    for number in lst:\n        result.append(number + 5)\n    return result\n\nlst = [1, 2, 3, 4, 5]\nprint(add_five(lst))\n",
   "execution_count": null,
   "outputs": []
  },
  {
   "metadata": {
    "trusted": false
   },
   "cell_type": "code",
   "source": "\"\"\"\nProblem 404:\nWrite a Python function called `find_min` that takes a list of numbers as input and returns the minimum number in the list. Do not use min().\n\"\"\"\n\ndef find_min(numbers):\n    min_num = numbers[0]\n    \n    for number in numbers:\n        if number < min_num:\n            min_num = number\n    return min_num\n    \nlst = [2, 6, 1, 189]\nprint(find_min(lst))",
   "execution_count": null,
   "outputs": []
  },
  {
   "metadata": {
    "trusted": false
   },
   "cell_type": "code",
   "source": "\"\"\"\nProblem: 405\nWrite a function that converts centimetets to inches. Type a integer as argument.\n\"\"\"\n\ndef converts(cm):\n    \n    inch = cm * 0.39\n    print(inch)\n\nnumber = 5\nprint(converts(number))\n",
   "execution_count": null,
   "outputs": []
  },
  {
   "metadata": {
    "trusted": false
   },
   "cell_type": "code",
   "source": "\"\"\"\nProblem: 406\nWrite a Python program to reverse a list use the reverse() function. Prompt the user to enter a list of elements.\n\"\"\"\n\ndef reverse(lst):\n    lst.reverse()\n    return lst\n    \nlst = [1, 2, 3, 4]\nprint(reverse(lst))",
   "execution_count": null,
   "outputs": []
  },
  {
   "metadata": {
    "trusted": false
   },
   "cell_type": "code",
   "source": "\"\"\"\nProblem 407:\nWrite a Python function called `calculate_average` that takes a list of numbers as input and returns the average of those numbers. Do not use sum() and len().\n\"\"\"\n\ndef calculate_average(lst):\n    length_num = 0\n    for number in lst:\n        length_num += 1\n        \n    add_num = 0\n    for number in lst:\n        add_num += number\n        \n    total = add_num / length_num\n    return total\n           \nlst = [23, 56, 33]\nprint(calculate_average(lst))",
   "execution_count": null,
   "outputs": []
  },
  {
   "metadata": {
    "trusted": false
   },
   "cell_type": "code",
   "source": "\"\"\"\nProblem 408:\nWrite a Python function called remove_duplicates that takes a string as input and returns a new string with duplicate characters removed, with maintaining the original order of characters.\n\"\"\"\n\ndef remove_duplicates(lst):\n    lst = lst.split()\n    unique = []\n    commom = []\n    \n    for word in lst:\n        if word in unique:\n            commom.append(word)\n        else:\n            unique.append(word)\n    return unique\n    \nlst = \" what is you is going is to do\"\nprint(remove_duplicates(lst))",
   "execution_count": null,
   "outputs": []
  },
  {
   "metadata": {
    "trusted": false
   },
   "cell_type": "code",
   "source": "\"\"\"\nProblem 409:\nWrite a program that maps a list of words into a list of integers representing the lengths of the correponding words without using len(). Use a dictionary.\n\"\"\"\n\ndef len_words(lst):\n    result = {}\n    \n    for word in lst:\n        count = 0\n        for char in word:\n            count += 1\n        result[word] = count\n    return result\n               \nlst = [\"Jonathan\", \"Chris\", \"Jeremy\"]\nprint(len_words(lst))\n",
   "execution_count": null,
   "outputs": []
  },
  {
   "metadata": {
    "trusted": false
   },
   "cell_type": "code",
   "source": "\"\"\"\nProblem: 410\nWrite a Python program to determine the len of a string in a list. Do not use filter(). For example if the len is 3 and the list is [\"jon\", \"chris\", \"tom\", \"Jeremy\"] the result should be [\"jon\", \"tom\"].\n\"\"\"\ndef filter_string(lst):\n    result = []\n    for word in lst:\n        if len(word) == 3: \n            result.append(word)\n    return result\n                    \nlst = [\"jon\", \"chris\", \"tom\", \"Jeremy\"]\nprint(filter_string(lst))",
   "execution_count": null,
   "outputs": []
  },
  {
   "metadata": {
    "trusted": false
   },
   "cell_type": "code",
   "source": "\"\"\"\nProblem: 411\nWrite a Python function called calculate_sum that takes two numbers as arguments. Inside this function, define a nested function that returns their sum.\"\n\"\"\"\ndef calculate_sum(a, b):\n    \n    def inner_sum(x, y):\n        return x + y\n    \n    return inner_sum(a, b)\n\nresult = calculate_sum(7, 3)\nprint(result)",
   "execution_count": null,
   "outputs": []
  },
  {
   "metadata": {
    "trusted": false
   },
   "cell_type": "code",
   "source": "\"\"\"\nProblem: 412\nWrite a Python function called calculate_product that takes two numbers as arguments. Inside this function, define a nested function that returns their product.\n\"\"\"\n\ndef calculate_product(a, b):\n    def product():\n        return a * b\n    return product()\n\nresult = calculate_product(3, 5)\nprint(result)",
   "execution_count": null,
   "outputs": []
  },
  {
   "metadata": {
    "trusted": false
   },
   "cell_type": "code",
   "source": "\"\"\"\nProblem: 413\nWrite a Python function called calculate_difference that takes two numbers as arguments. Inside this function, define a nested function that returns their difference.\n\"\"\"\n\ndef calculate_difference(a, b):\n    def difference():\n        return a - b\n    return difference()\n\nresult = calculate_difference(10, 3)\nprint(result)",
   "execution_count": null,
   "outputs": []
  },
  {
   "metadata": {
    "trusted": false
   },
   "cell_type": "code",
   "source": "\"\"\"\nProblem: 414\nWrite a Python function called calculate_quotient that takes two numbers as arguments. Inside this function, define a nested function that returns their quotient.\n\"\"\"\n\ndef calculate_quotient(a, b):\n    def quotient():\n        return a / b\n    return quotient()\n\nresult = calculate_quotient(10, 2)\nprint(result)",
   "execution_count": null,
   "outputs": []
  },
  {
   "metadata": {
    "trusted": false
   },
   "cell_type": "code",
   "source": "\"\"\"\nProblem: 415\nWrite a Python function area_of_rectangle that calculates the area of a rectangle given its length and width. Use a nested function to calculate the area.\n\"\"\"\n\ndef area_of_rectangle(length, width):\n    def area():\n        return length * width\n    return area()\n\nresult = area_of_rectangle(5, 4)\nprint(result)",
   "execution_count": null,
   "outputs": []
  },
  {
   "metadata": {
    "trusted": false
   },
   "cell_type": "code",
   "source": "\"\"\"\nProblem: 416\nWrite a Python function perimeter_of_square that calculates the perimeter of a square given its side length. Use a nested function to calculate the perimeter.\n\"\"\"\n\ndef perimeter_of_square(side_length):\n    def perimeter():\n        return 4 * side_length\n    return perimeter()\n\nresult = perimeter_of_square(5)\nprint(result)",
   "execution_count": null,
   "outputs": []
  },
  {
   "metadata": {
    "trusted": false
   },
   "cell_type": "code",
   "source": "\"\"\"\nProblem: 416\nWrite a Python function perimeter_of_square that calculates the perimeter of a square given its side length. Use a nested function to calculate the perimeter.\n\"\"\"\n\ndef perimeter_of_square(side_length):\n    def perimeter():\n        return 4 * side_length\n    return perimeter()\n\nresult = perimeter_of_square(5)\nprint(result)",
   "execution_count": null,
   "outputs": []
  },
  {
   "metadata": {
    "trusted": false
   },
   "cell_type": "code",
   "source": "\"\"\"\nProblem: 418\nWrite a Python function called celsius_to_fahrenheit that takes a temperature in Celsius and converts it to Fahrenheit. Use a nested function to do the conversion.\n\"\"\"\n\ndef celsius_to_fahrenheit(celsius):\n    def convert():\n        return (celsius * 9 / 5) + 32\n    return convert()\n\nresult = celsius_to_fahrenheit(20)\nprint(result)",
   "execution_count": null,
   "outputs": []
  },
  {
   "metadata": {
    "trusted": false
   },
   "cell_type": "code",
   "source": "\"\"\"\nProblem: 419\nWrite a Python function called even_or_odd that takes a number and returns whether it’s even or odd. Use a nested function to check this condition.\n\"\"\"\n\ndef even_or_odd(number):\n    def check():\n        if number % 2 == 0:\n            return \"Even\"\n        else:\n            return \"Odd\"\n    return check()\n\nresult = even_or_odd(7)\nprint(result)",
   "execution_count": null,
   "outputs": []
  },
  {
   "metadata": {
    "trusted": false
   },
   "cell_type": "code",
   "source": "\"\"\"\nProblem: 420\nWrite a Python function called is_prime that checks if a number is prime. Use a nested function to iterate and check divisibility of numbers.\n\"\"\"\n\ndef is_prime(number):\n    def check_divisibility(n):\n        for i in range(2, int(n**0.5) + 1):\n            if n % i == 0:\n                return False\n        return True\n\n    if number < 2:\n        return False\n    return check_divisibility(number)\n\nresult = is_prime(29)\nprint(result)",
   "execution_count": null,
   "outputs": []
  },
  {
   "metadata": {
    "trusted": false
   },
   "cell_type": "code",
   "source": "\"\"\"\nProblem: 421\nWrite a Python function called list_sum that takes a list of numbers and returns the sum. Inside it, define a nested function that adds the elements.\n\"\"\"\n\ndef list_sum(numbers):\n    def add_elements():\n        total = 0\n        for number in numbers:\n            total += number\n        return total\n    return add_elements()\n\nresult = list_sum([1, 2, 3, 4])\nprint(result)",
   "execution_count": null,
   "outputs": []
  },
  {
   "metadata": {
    "trusted": false
   },
   "cell_type": "code",
   "source": "\"\"\"\nProblem: 422\nWrite a Python function called list_product that takes a list of numbers and returns the product of all elements. Use a nested function to compute the product.\n\"\"\"\n\ndef list_product(numbers):\n    def multiply_elements():\n        product = 1\n        for number in numbers:\n            product *= number\n        return product\n    return multiply_elements()\n\nresult = list_product([1, 2, 3, 4])\nprint(result)",
   "execution_count": null,
   "outputs": []
  },
  {
   "metadata": {
    "trusted": false
   },
   "cell_type": "code",
   "source": "\"\"\"\nProblem: 423\nWrite a Python function greater_than that takes two numbers and returns True if the first is greater than the second. Use a nested function for comparison.\n\"\"\"\n\ndef greater_than(a, b):\n    def compare():\n        return a > b\n    return compare()\n\nresult = greater_than(10, 5)\nprint(result)",
   "execution_count": null,
   "outputs": []
  },
  {
   "metadata": {
    "trusted": false
   },
   "cell_type": "code",
   "source": "\"\"\"\nProblem: 424\nWrite a Python function string_length that takes a string and returns its length. Use a nested function that calculates and returns the length.\n\"\"\"\n\ndef string_length(s):\n    def calculate_length():\n        length = 0\n        for char in s:\n            length += 1\n        return length\n    return calculate_length()\n\nresult = string_length(\"Hello, World!\")\nprint(result)",
   "execution_count": null,
   "outputs": []
  },
  {
   "metadata": {
    "trusted": false
   },
   "cell_type": "code",
   "source": "\"\"\"\nProblem: 425\nWrite a Python function first_and_last that takes a string and returns its first and last characters using a nested function.\n\"\"\"\n\ndef first_and_last(s):\n    def get_first_last():\n        if len(s) > 0:\n            return s[0], s[-1]\n        else:\n            return None, None\n    return get_first_last()\n\nresult = first_and_last(\"Hello\")\nprint(result)",
   "execution_count": null,
   "outputs": []
  },
  {
   "metadata": {
    "trusted": false
   },
   "cell_type": "code",
   "source": "\"\"\"\nProblem: 426\nWrite a Python function count_vowels that takes a string and counts the number of vowels using a nested function.\n\"\"\"\n\ndef count_vowels(s):\n    def is_vowel(char):\n        return char.lower() in 'aeiou'\n\n    count = 0\n    for char in s:\n        if is_vowel(char):\n            count += 1\n    return count\n\nresult = count_vowels(\"Hello, World!\")\nprint(result)",
   "execution_count": null,
   "outputs": []
  },
  {
   "metadata": {
    "trusted": false
   },
   "cell_type": "code",
   "source": "\"\"\"\nProblem: 427\nWrite a Python function reverse_string that takes a string and returns its reverse using a nested function.\n\"\"\"\n\ndef reverse_string(s):\n    def reverse():\n        reversed_s = \"\"\n        for char in s:\n            reversed_s = char + reversed_s\n        return reversed_s\n    return reverse()\n\nresult = reverse_string(\"Hello\")\nprint(result)",
   "execution_count": null,
   "outputs": []
  },
  {
   "metadata": {
    "trusted": false
   },
   "cell_type": "code",
   "source": "\"\"\"\nProblem: 428\nWrite a Python function is_palindrome that takes a string and checks if it’s a palindrome using a nested function.\n\"\"\"\n\ndef is_palindrome(s):\n    def check():\n        return s == s[::-1]\n    return check()\n\nresult = is_palindrome(\"racecar\")\nprint(result)",
   "execution_count": null,
   "outputs": []
  },
  {
   "metadata": {
    "trusted": false
   },
   "cell_type": "code",
   "source": "\"\"\"\nProblem: 429\nWrite a Python function multiply_by_n that takes a number n and returns another function that multiplies a given number by n.\n\"\"\"\n\ndef multiply_by_n(n):\n    def multiply(x):\n        return n * x\n    return multiply\n\nmultiply_by_3 = multiply_by_n(3)\nresult = multiply_by_3(5)\nprint(result)",
   "execution_count": null,
   "outputs": []
  },
  {
   "metadata": {
    "trusted": false
   },
   "cell_type": "code",
   "source": "\"\"\"\nProblem: 430\nWrite a Python function add_tax that takes a price and returns the price after applying a tax percentage using a nested function.\n\"\"\"\n\ndef add_tax(price):\n    def calculate_tax():\n        tax_rate = 0.15\n        return price + (price * tax_rate)\n    return calculate_tax()\n\nresult = add_tax(100)\nprint(result)",
   "execution_count": null,
   "outputs": []
  },
  {
   "metadata": {
    "trusted": false
   },
   "cell_type": "code",
   "source": "\"\"\"\nProblem: 431\nWrite a Python function greet_person that takes a name and returns a greeting using a nested function.\n\"\"\"\n\ndef greet_person(name):\n    def greeting():\n        return f\"Hello, {name}!\"\n    return greeting()\n\nresult = greet_person(\"Alice\")\nprint(result)",
   "execution_count": null,
   "outputs": []
  },
  {
   "metadata": {
    "trusted": false
   },
   "cell_type": "code",
   "source": "\"\"\"\nProblem: 432\nWrite a Python function factorial that calculates the factorial of a number using a nested recursive function.\n\"\"\"\n\ndef factorial(n):\n    def calc_factorial(num):\n        if num == 0 or num == 1:\n            return 1\n        else:\n            return num * calc_factorial(num - 1)\n\n    return calc_factorial(n)\n\nresult = factorial(5)\nprint(result)",
   "execution_count": null,
   "outputs": []
  },
  {
   "metadata": {
    "trusted": false
   },
   "cell_type": "code",
   "source": "\"\"\"\nProblem: 433\nWrite a Python function exponent that calculates the result of raising a number to a power using a nested function.\n\"\"\"\n\ndef exponent(base, power):\n    def calculate():\n        result = 1\n        for _ in range(power):\n            result *= base\n        return result\n    return calculate()\n\nresult = exponent(2, 3)\nprint(result)",
   "execution_count": null,
   "outputs": []
  },
  {
   "metadata": {
    "trusted": false
   },
   "cell_type": "code",
   "source": "\"\"\"\nProblem: 434\nWrite a Python function gcd that calculates the greatest common divisor of two numbers using a nested function.\n\"\"\"\n\ndef gcd(a, b):\n    def calculate_gcd(x, y):\n        while y != 0:\n            (x, y) = (y, x % y)\n        return x\n    return calculate_gcd(a, b)\n\nresult = gcd(48, 18)\nprint(result)",
   "execution_count": null,
   "outputs": []
  },
  {
   "metadata": {
    "trusted": false
   },
   "cell_type": "code",
   "source": "\"\"\"\nProblem: 435\nWrite a Python function lcm that calculates the least common multiple of two numbers using a nested function.\n\"\"\"\n\ndef lcm(a, b):\n    def calculate_lcm(x, y):\n        return abs(x * y) // gcd(x, y)\n\n    def gcd(x, y):\n        while y != 0:\n            (x, y) = (y, x % y)\n        return x\n\n    return calculate_lcm(a, b)\n\nresult = lcm(4, 5)\nprint(result)",
   "execution_count": null,
   "outputs": []
  },
  {
   "metadata": {
    "trusted": false
   },
   "cell_type": "code",
   "source": "\"\"\"\nProblem: 436\nWrite a Python function square_of_number that returns the square of a number using a nested function.\n\"\"\"\n\ndef square_of_number(n):\n    def square():\n        return n * n\n    return square()\n\nresult = square_of_number(5)\nprint(result)",
   "execution_count": null,
   "outputs": []
  },
  {
   "metadata": {
    "trusted": false
   },
   "cell_type": "code",
   "source": "\"\"\"\nProblem: 437\nWrite a Python function cube_of_number that returns the cube of a number using a nested function.\n\"\"\"\n\ndef cube_of_number(n):\n    def cube():\n        return n * n * n\n    return cube()\n\nresult = cube_of_number(3)\nprint(result)",
   "execution_count": null,
   "outputs": []
  },
  {
   "metadata": {
    "trusted": false
   },
   "cell_type": "code",
   "source": "\"\"\"\nProblem: 438\nWrite a Python function sort_list_descending that takes a list and sorts it in descending order using a nested function.\n\"\"\"\n\ndef sort_list_descending(lst):\n    def sort():\n        sorted_list = []\n        while lst:\n            maximum = lst[0]\n            for item in lst:\n                if item > maximum:\n                    maximum = item\n            sorted_list.append(maximum)\n            lst.remove(maximum)\n        return sorted_list\n    return sort()\n\nresult = sort_list_descending([4, 1, 3, 2])\nprint(result)",
   "execution_count": null,
   "outputs": []
  },
  {
   "metadata": {
    "trusted": false
   },
   "cell_type": "code",
   "source": "\"\"\"\nProblem: 439\nWrite a Python function max_of_three that takes three numbers and returns the maximum using a nested function.\n\"\"\"\n\ndef max_of_three(a, b, c):\n    def find_max():\n        max_value = a\n        if b > max_value:\n            max_value = b\n        if c > max_value:\n            max_value = c\n        return max_value\n    return find_max()\n\nresult = max_of_three(10, 20, 15)\nprint(result)",
   "execution_count": null,
   "outputs": []
  },
  {
   "metadata": {
    "trusted": false
   },
   "cell_type": "code",
   "source": "\"\"\"\nProblem: 440\nWrite a Python function average_of_list that calculates the average of a list of numbers using a nested function. Do not use sum() and len()\n\"\"\"\n\ndef average_of_list(lst):\n    def calculate_average():\n        total = 0\n        count = 0\n        for number in lst:\n            total += number\n            count += 1\n        return total / count if count != 0 else 0\n    return calculate_average()\n\nresult = average_of_list([10, 20, 30, 40])\nprint(result)",
   "execution_count": null,
   "outputs": []
  },
  {
   "metadata": {
    "trusted": false
   },
   "cell_type": "code",
   "source": "\"\"\"\nProblem: 441\nWrite a Python function average_of_list that calculates the average of a list of numbers using a nested function.\n\"\"\"\n\ndef average_of_list(lst):\n    def calculate_average():\n        total = 0\n        count = 0\n        for number in lst:\n            total += number\n            count += 1\n        return total / count if count != 0 else 0\n    return calculate_average()\n\nresult = average_of_list([5, 15, 25])\nprint(result)",
   "execution_count": null,
   "outputs": []
  },
  {
   "metadata": {
    "trusted": false
   },
   "cell_type": "code",
   "source": "\"\"\"\nProblem: 442\nWrite a Python function is_uppercase that checks if all characters in a string are uppercase using a nested function.\n\"\"\"\n\ndef is_uppercase(s):\n    def check():\n        for char in s:\n            if not char.isupper():\n                return False\n        return True\n    return check()\n\nresult = is_uppercase(\"HELLO\")\nprint(result)",
   "execution_count": null,
   "outputs": []
  },
  {
   "metadata": {
    "trusted": false
   },
   "cell_type": "code",
   "source": "\"\"\"\nProblem: 443\nWrite a Python function is_lowercase that checks if all characters in a string are lowercase using a nested function.\n\"\"\"\n\ndef is_lowercase(s):\n    def check():\n        for char in s:\n            if not char.islower():\n                return False\n        return True\n    return check()\n\nresult = is_lowercase(\"hello\")\nprint(result)",
   "execution_count": null,
   "outputs": []
  },
  {
   "metadata": {
    "trusted": false
   },
   "cell_type": "code",
   "source": "\"\"\"\nProblem: 444\nWrite a Python function string_contains_digit that checks if a string contains a digit using a nested function.\n\"\"\"\n\ndef string_contains_digit(string):\n    \n    def contains_digit(x):\n        for char in x:\n            if char.isdigit():\n                return True\n        return False\n        \n    return contains_digit(string)\n        \nstring = \"jonathan5\"\nprint(string_contains_digit(string))",
   "execution_count": null,
   "outputs": []
  },
  {
   "metadata": {
    "trusted": false
   },
   "cell_type": "code",
   "source": "\"\"\"\nProblem: 445\nWrite a Python function string_contains_letter that checks if a string contains a letter using a nested function.\n\"\"\"\n\ndef string_contains_letter(string):\n    \n    def contains_letter(x):\n        for char in x:\n            if char.isalpha():\n                return True\n        return False\n        \n    return contains_letter(string)\n        \nstring = \"123455g\"\nprint(string_contains_letter(string))",
   "execution_count": null,
   "outputs": []
  },
  {
   "metadata": {
    "trusted": false
   },
   "cell_type": "code",
   "source": "\"\"\"\nProblem: 446\nWrite a Python function calculate_average that takes three numbers and returns their average using a nested function.\n\"\"\"\n\ndef average_of_list(lst):\n    \n    def average(x):\n        for number in x:\n            count_len = len(x)\n            add_num = sum(x)\n            total = add_num / count_len\n            \n        return total\n        \n    return average(lst)\n\nlst = [34, 67, 667]\nprint(average_of_list(lst))",
   "execution_count": null,
   "outputs": []
  },
  {
   "metadata": {
    "trusted": false
   },
   "cell_type": "code",
   "source": "\"\"\"\nProblem: 447\nWrite a Python function check_multiple_of_n that takes two numbers and checks if the first is a multiple of the second using a nested function.\n\"\"\"\n\ndef check_multiple_of_n(num1, num2):\n    \n    def is_multiple(x, y):\n        return x % y == 0 \n    \n    return is_multiple(num1, num2)\n\nprint(check_multiple_of_n(10, 2))\nprint(check_multiple_of_n(10, 3))",
   "execution_count": null,
   "outputs": []
  },
  {
   "metadata": {
    "trusted": false
   },
   "cell_type": "code",
   "source": "\"\"\"\nProblem: 448\nWrite a Python function longest_string that takes a list of strings and returns the longest one using a nested function.\n\"\"\"\n\ndef longest_string(lst):\n    \n    def longest(x):\n        longest_word = x[0]\n        for word in x:\n            if word > longest_word:\n                longest_word = word\n        return longest_word\n            \n    return longest(lst)\n                    \nlst = [\"jon\", \"zonathan\", \"mimi\"]\nprint(longest_string(lst))\n\n\ndef longest_string(lst):\n\n    def find_longest(strings):\n        return max(strings, key=len)\n    \n    return find_longest(lst)\n    \nlst = [\"jon\", \"zonathan\", \"mimi\"]\nprint(longest_string(lst))",
   "execution_count": null,
   "outputs": []
  },
  {
   "metadata": {
    "trusted": false
   },
   "cell_type": "code",
   "source": "\"\"\"\nProblem: 449\nWrite a Python function shortest_string that takes a list of strings and returns the shortest one using a nested function.\n\"\"\"\n\ndef shortest_string(lst):\n    \n    def shortest(x):\n        return min(x, key=len)\n        \n    return shortest(lst)\n        \nlst = [\"chris\", \"tit\", \"mountain\"]\nprint(shortest_string(lst))",
   "execution_count": null,
   "outputs": []
  },
  {
   "metadata": {
    "trusted": false
   },
   "cell_type": "code",
   "source": "\"\"\"\nProblem: 450\nWrite a Python function remove_duplicates that takes a list and removes duplicates using a nested function.\n\"\"\"\n\ndef remove_duplicates(lst):\n    \n    def duplicates_removed(x):\n        unique = set()\n        \n        for word in x:\n            unique.add(word)\n        return unique\n        \n    return duplicates_removed(lst)\n\nlst = [\"not\", \"not\", \"today\", \"today\"]\nprint(remove_duplicates(lst))",
   "execution_count": null,
   "outputs": []
  },
  {
   "metadata": {
    "trusted": false
   },
   "cell_type": "code",
   "source": "\"\"\"\nProblem: 451\nWrite a Python function fibonacci that generates the nth Fibonacci number using a nested recursive function.\n\"\"\"\n\ndef fibonacci(n):\n\n    def fib_recursive(n):\n        if n <= 1:\n            return n\n        else:\n            return fib_recursive(n - 1) + fib_recursive(n - 2)\n    \n    return fib_recursive(n)\n\nn = 10 \nprint(fibonacci(n))",
   "execution_count": null,
   "outputs": []
  },
  {
   "metadata": {
    "trusted": false
   },
   "cell_type": "code",
   "source": "\"\"\"\nProblem: 452\nWrite a Python function called calculate_sum that takes two numbers as arguments. Inside this function, define a nested function that returns their sum and another function that returns the multiplication.\"\n\"\"\"\ndef calculate_sum(a, b):\n    \n    def inner_sum(x, y):\n        return x + y\n    \n    def inner_mult(x, y):\n        return x * y\n    \n    return inner_sum(a, b), inner_mult(a, b)\n\nprint(calculate_sum(7, 3))",
   "execution_count": null,
   "outputs": []
  },
  {
   "metadata": {
    "trusted": false
   },
   "cell_type": "code",
   "source": "\"\"\"\nProblem: 453\nWrite a Python function called calculate_integers that takes two numbers as arguments. Inside this function, define nested functions that returns their product, sum and division.\n\"\"\"\n\ndef calculate_integers(a, b):\n    \n    def product(x, y):\n        return x * y\n        \n    def sum_int(x, y):\n        return x + y\n        \n    def division(x, y):\n        return x / y\n        \n    return product(a, b), sum_int(a, b), division(a, b)\n    \nprint(calculate_integers(10, 5))",
   "execution_count": null,
   "outputs": []
  },
  {
   "metadata": {
    "trusted": false
   },
   "cell_type": "code",
   "source": "\"\"\"\nProblem: 455\nWrite a Python function average_of_list that calculates the average of a list of numbers using a nested function. Use len() and sum().\n\"\"\"\n\ndef average_of_list(lst):\n    \n    def average(x):\n        for number in x:\n            count_len = len(x)\n            add_num = sum(x)\n            total = add_num / count_len\n            \n        return total\n        \n    return average(lst)\n\nlst = [34, 67, 667]\nprint(average_of_list(lst))",
   "execution_count": null,
   "outputs": []
  },
  {
   "metadata": {
    "trusted": false
   },
   "cell_type": "code",
   "source": "\"\"\"\nProblem: 456\nWrite a Python function that sorts a list of strings by their length using the key parameter.\n\"\"\"\n\ndef len_lst(lst):\n    sort = sorted(lst, key=len)\n    \n    return sort\n    \nlst = [\"Jonathan\", \"chris\", \"Jeremy\"]\nprint(len_lst(lst))",
   "execution_count": null,
   "outputs": []
  },
  {
   "metadata": {
    "trusted": false
   },
   "cell_type": "code",
   "source": "\"\"\"\nProblem: 457\nWrite a Python function to find the minimum string by its length using the min() function with the key parameter.\n\"\"\"\n\ndef min_len(lst):\n    min_string = min(lst, key=len)\n    \n    return min_string\n    \nlst = [\"truck\", \"is\", \"Bethany\"]\nprint(min_len(lst))",
   "execution_count": null,
   "outputs": []
  },
  {
   "metadata": {
    "trusted": false
   },
   "cell_type": "code",
   "source": "\"\"\"\nProblem: 458\nWrite a Python function to find the maximum string alphabetically using the key parameter.\n\"\"\"\ndef max_string_alpha(lst):\n    \n    def max_string(x):\n        return len(x)\n        \n    return max(lst, key=max_string)\n\nlst = [\"hippopotamus\", \"giraffe\", \"monkey\"]\nprint(max_string_alpha(lst))",
   "execution_count": null,
   "outputs": []
  },
  {
   "metadata": {
    "trusted": false
   },
   "cell_type": "code",
   "source": "\"\"\"\nProblem: 459\nWrite a Python function to sort a list of dictionaries by the value associated with a specific key using the key parameter.\n\"\"\"\n\nfrom operator import itemgetter\n\ndef sort_dicts_by_key(dict_list, sort_key):\n    # Use itemgetter \n    return sorted(dict_list, key=itemgetter(sort_key))\n\ndict_list = [\n    {'name': 'John', 'age': 30},\n    {'name': 'Jane', 'age': 25},\n    {'name': 'Doe', 'age': 35}\n]\n\nsorted_list = sort_dicts_by_key(dict_list, 'age')\nprint(sorted_list)",
   "execution_count": null,
   "outputs": []
  },
  {
   "metadata": {
    "trusted": false
   },
   "cell_type": "code",
   "source": "\"\"\"\nProblem: 460\nWrite a Python function to sort a list of integers by their absolute value using the key parameter.\n\"\"\"\n\ndef sort_by_absolute_value(lst):\n    return sorted(lst, key=abs)\n\nlst = [3, -1, -4, 2, 0]\nsorted_lst = sort_by_absolute_value(lst)\nprint(sorted_lst)",
   "execution_count": null,
   "outputs": []
  },
  {
   "metadata": {
    "trusted": false
   },
   "cell_type": "code",
   "source": "\"\"\"\nProblem: 461\nWrite a Python function that sorts a list of words by the number of vowels they contain using the key parameter.\n\"\"\"\n\ndef sort_words_by_vowel_count(lst):\n    \n    def count_vowels(word):\n        vowels = 'aeiou'\n        count = 0\n        for char in word:\n            if char in vowels:\n                count += 1\n        return count\n    \n    return sorted(lst, key=count_vowels)\n\nlst = [\"apple\", \"banana\", \"cherry\", \"date\"]\nprint(sort_words_by_vowel_count(lst))",
   "execution_count": null,
   "outputs": []
  },
  {
   "metadata": {
    "trusted": false
   },
   "cell_type": "code",
   "source": "\"\"\"\nProblem: 462\nWrite a Python function to find the longest word in a list using the max() function with the key parameter.\n\"\"\"\n\ndef longest_word(lst):\n    longest_w = max(lst, key=len)\n    \n    return longest_w\n    \nlst = [\"cheater\", \"lepard\", \"lion\"]\nprint(longest_word(lst))",
   "execution_count": null,
   "outputs": []
  },
  {
   "metadata": {
    "trusted": false
   },
   "cell_type": "code",
   "source": "\"\"\"\nProblem: 463\nWrite a Python function to sort a list of tuples by the sum of the elements in each tuple using the key parameter.\n\"\"\"\n\ndef sum_of_tuple(lst):\n    \n    return sorted(lst, key=sum)\n    \nlst = [(9, 9, 9), (5, 5, 5), (8, 8, 8)]\nprint(sum_of_tuple(lst))",
   "execution_count": null,
   "outputs": []
  },
  {
   "metadata": {
    "trusted": false
   },
   "cell_type": "code",
   "source": "\"\"\"\nProblem: 464\nWrite a Python function to sort a list of strings by the last character of each string using the key parameter.\n\"\"\"\n\ndef list_of_strings_lst(lst):\n    \n    def last_char(s):\n        return s[-1]\n    \n    return sorted(lst, key=last_char)\n\nlst = [\"car\", \"side\", \"beach\"]\nprint(list_of_strings_lst(lst))",
   "execution_count": null,
   "outputs": []
  },
  {
   "metadata": {
    "trusted": false
   },
   "cell_type": "code",
   "source": "\"\"\"\nProblem: 465\nWrite a Python function to sort a list of strings by the number of uppercase letters in each string using the key parameter.\n\"\"\"\n\ndef sort_number_uppercases(lst):\n    \n    def uppercase_count(x):\n        count = 0\n        for char in x:\n            if char.isupper():\n                count += 1\n        return count\n                \n    return sorted(lst,\n    key=uppercase_count)\n\nlst = [\"SNSKEYHG\", \"SlIppery\", \"SNAKEGG\"]\nprint(sort_number_uppercases(lst))",
   "execution_count": null,
   "outputs": []
  },
  {
   "metadata": {
    "trusted": false
   },
   "cell_type": "code",
   "source": "\"\"\"\nProblem: 466\nWrite a Python function to find the tuple with the largest product of its elements using the key parameter.\n\"\"\"\n\ndef tuple_largest_product(lst):\n    \n    def product(x):\n        count = 1\n        for number in x:\n            count *= number\n        return count\n    \n    return max(lst, key=product)\n\nlst = [(2, 2, 2), (4, 4, 4)]\nprint(tuple_largest_product(lst))",
   "execution_count": null,
   "outputs": []
  },
  {
   "metadata": {
    "trusted": false
   },
   "cell_type": "code",
   "source": "\"\"\"\nProblem: 467\nWrite a Python function to sort a list of floating-point numbers by their rounded value using the key parameter.\n\"\"\"\n\ndef floating_point(numbers):\n    return sorted(numbers, key=round)\n    \nnumbers = [3.7, 3.3, 2.7, 1.2, 35.4, 677.9]\nprint(floating_point(numbers))",
   "execution_count": null,
   "outputs": []
  },
  {
   "metadata": {
    "trusted": false
   },
   "cell_type": "code",
   "source": "\"\"\"\nProblem: 468\nWrite a Python function to sort a list of tuples based on the first element in descending order using the key parameter.\n\"\"\"\n\ndef first_element_decending_order(lst):\n    def first_element(x):\n        return x[0] \n    \n    return sorted(lst, key=first_element, reverse=True)\n\nlst = [(\"see\", \"sea\", \"saw\"), (\"zoat\", \"zite\", \"zank\")]\nprint(first_element_decending_order(lst))",
   "execution_count": null,
   "outputs": []
  },
  {
   "metadata": {
    "trusted": false
   },
   "cell_type": "code",
   "source": "\"\"\"\nProblem: 469\nWrite a Python function that sorts a list of words by the number of consonants using the key parameter.\n\"\"\"\n\ndef number_of_consonants(lst):\n    \n    def consonants(word):\n    \n        consonants_set = \"bcdfghjklmnpqrstvwxyz\"\n        \n        count = 0\n\n        for char in word.lower():\n            if char in consonants_set:\n                count += 1\n        return count\n\n    return sorted(lst, key=consonants)\n    \nlst = [\"zzzzzzzzz\", \"yyyyyy\", \"bbb\"]\nprint(number_of_consonants(lst))",
   "execution_count": null,
   "outputs": []
  },
  {
   "metadata": {
    "trusted": false
   },
   "cell_type": "code",
   "source": "\"\"\"\nProblem: 470\nWrite a Python function to find the shortest string in a list using the min() function with the key parameter.\n\"\"\"\n\ndef min_string(lst):\n    return min(lst, key=len)\n    \nlst = [\"down\", \"up\"]\nprint(min_string(lst))",
   "execution_count": null,
   "outputs": []
  },
  {
   "metadata": {
    "trusted": false
   },
   "cell_type": "code",
   "source": "\"\"\"\nProblem: 471\nWrite a Python function to sort a list of dictionaries by the length of the value associated with a specific key using the key parameter.\n\"\"\"\n\ndef length_of_value(lst, key):\n    \n    def length_function(x):\n        return len(x.get(key, \"\"))\n        \n    return sorted(lst, key=length_function)\n\nlst = [{\"a\": \"tree\", \"b\": \"bushen\"}, {\"a\": \"tin\", \"b\": \"bash\"}, {\"a\": \"tumb\", \"b\": \"bat\"}]\nsorted_lst = length_of_value(lst, \"b\")\nprint(sorted_lst)",
   "execution_count": null,
   "outputs": []
  },
  {
   "metadata": {
    "trusted": false
   },
   "cell_type": "code",
   "source": "\"\"\"\nProblem: 472\nWrite a Python function to find the person with the longest name in a list of dictionaries containing ‘name’ as a key using the max() function with the key parameter.\n\"\"\"\n\ndef find_person(lst_dict, key):\n\n    def longest_name(d):\n        return len(d.get(key, \"\"))\n\n    return max(lst_dict, key=longest_name)\n\nlst_dict = [{\"name\": \"Beth\"}, {\"name\": \"Brett\"}, {\"name\": \"Jhonivan\"}, {\"name\": \"Jonathan\"}]\nkey = \"name\"\n\nprint(find_person(lst_dict, key))",
   "execution_count": null,
   "outputs": []
  },
  {
   "metadata": {
    "trusted": false
   },
   "cell_type": "code",
   "source": "\"\"\"\nProblem: 473\nWrite a Python function that sorts a list of integers by their remainder when divided by a given number using the key parameter.\n\"\"\"\n\ndef remainder_key(x, divisor):\n    return x % divisor\n\ndef sort_by_remainder(lst, divisor):\n\n    def key_func(x):\n        return remainder_key(x, divisor)\n    \n    return sorted(lst, key=key_func)\n\nlst = [10, 23, 4, 7, 15]\ndivisor = 5\nprint(sort_by_remainder(lst, divisor))",
   "execution_count": null,
   "outputs": []
  },
  {
   "metadata": {
    "trusted": false
   },
   "cell_type": "code",
   "source": "\"\"\"\nProblem: 474\nWrite a Python function to sort a list of dates by the year using the key parameter.\n\"\"\"\n\nfrom datetime import datetime\n\ndef year_key(date):\n    return date.year\n\ndef sort_by_year(dates):\n\n    date_objects = []\n    \n    for date in dates:\n        date_objects.append(datetime.strptime(date, \"%d.%m.%Y\"))\n    \n    sorted_dates = sorted(date_objects, key=year_key)\n\n    sorted_date_strings = []\n    for date in sorted_dates:\n        sorted_date_strings.append(date.strftime(\"%d.%m.%Y\"))\n    \n    return sorted_date_strings\n\ndates = [\"01.02.1908\", \"12.11.1955\", \"23.04.1989\", \"07.07.1967\"]\nsorted_dates = sort_by_year(dates)\nprint(sorted_dates)",
   "execution_count": null,
   "outputs": []
  },
  {
   "metadata": {
    "trusted": false
   },
   "cell_type": "code",
   "source": "\"\"\"\nProblem: 475\nWrite a Python function to sort a list of names by the number of times the letter ‘a’ appears in each name using the key parameter.\n\"\"\"\n\ndef sort_by_a_count(names):\n    \n    def count_a(name):\n        \n        return name.lower().count('a')\n    \n    return sorted(names, key=count_a)\n\nnames = [\"Anna\", \"Alice\", \"Bob\", \"Amanda\", \"Ava\"]\nsorted_names = sort_by_a_count(names)\nprint(sorted_names)",
   "execution_count": null,
   "outputs": []
  },
  {
   "metadata": {
    "trusted": false
   },
   "cell_type": "code",
   "source": "\"\"\"\nProblem: 476\nWrite a Python function to sort a list of numbers by their square using the key parameter.\n\"\"\"\n\ndef sort_sqaure(lst):\n    \n    def sqaured(x):\n        return x * x\n        \n    return sorted(lst, key=sqaured)\n        \n    \nlst = [9, 5, 4, 1 ]\nprint(sort_sqaure(lst))",
   "execution_count": null,
   "outputs": []
  },
  {
   "metadata": {
    "trusted": false
   },
   "cell_type": "code",
   "source": "\"\"\"\nProblem: 477\nWrite a Python function to find the list element closest to a target value using the key parameter.\n\"\"\"\n\ndef closest_to_target(lst, target):\n\n    def difference_from_target(x):\n        return abs(x - target)\n    \n    return min(lst, key=difference_from_target)\n\nlst = [10, 22, 14, 3, 8]\ntarget = 7\nclosest_value = closest_to_target(lst, target)\nprint(closest_value)",
   "execution_count": null,
   "outputs": []
  },
  {
   "metadata": {
    "trusted": false
   },
   "cell_type": "code",
   "source": "\"\"\"\nProblem: 478\nWrite a Python function that sorts a list of tuples based on the length of the first element in each tuple using the key parameter.\n\"\"\"\n\ndef length_of_first_element(lst):\n    \n    def length_of_first(x):\n        return len(x[0])\n        \n    return sorted(lst, key=length_of_first)\n\nlst = [(\"initiate\", \"love\", \"seat\"), (\"sweet\", \"beat\", \"hell\")]\nsorted_list = length_of_first_element(lst)\nprint(sorted_list)",
   "execution_count": null,
   "outputs": []
  },
  {
   "metadata": {
    "trusted": false
   },
   "cell_type": "code",
   "source": "\"\"\"\nProblem: 479\nWrite a Python function to sort a list of strings by the number of spaces they contain using the key parameter.\n\"\"\"\n\ndef number_of_spaces(lst):\n    \n    def spaces_count(x):\n        return x.count(\" \")\n        \n    return sorted(lst, key=spaces_count)\n    \nlst = [\"what is happening\", \"why all the hate in your brain\", \"stop it\"]\nprint(number_of_spaces(lst))",
   "execution_count": null,
   "outputs": []
  },
  {
   "metadata": {
    "trusted": false
   },
   "cell_type": "code",
   "source": "\"\"\"\nProblem: 480\nWrite a Python function that finds the word with the most vowels in a list using the max() function with the key parameter.\n\"\"\"\n\ndef most_vowels(lst):\n    \n    def count_vowels(word):\n        vowels = \"aeiou\"\n        \n        count = 0\n        for char in word:\n            if char in vowels:\n                count += 1\n        return count\n            \n    return max(lst, key=count_vowels)\n    \nlst = [\"aamost\", \"Aaron\", \"bible\", \"buttom\", \"aeiouthian\"]\nprint(most_vowels(lst))",
   "execution_count": null,
   "outputs": []
  },
  {
   "metadata": {
    "trusted": false
   },
   "cell_type": "code",
   "source": "\"\"\"\nProblem: 481\nWrite a Python function to sort a list of integers by the number of digits they contain using the key parameter.\n\"\"\"\n\ndef sort_lst_integers(lst):\n    \n    def count_digits(n):\n        return len(str(abs(n)))\n    return sorted(lst, key=count_digits)\n        \nlst = [456, 56, 8, 788, 89, 1]\nprint(sort_lst_integers(lst))\n",
   "execution_count": null,
   "outputs": []
  },
  {
   "metadata": {
    "trusted": false
   },
   "cell_type": "code",
   "source": "\"\"\"\nProblem: 482\nWrite a Python function that sorts a list of tuples by the difference between their elements using the key parameter.\n\"\"\"\n\ndef sort_tuples_by_difference(lst):\n\n    def difference(tup):\n        return abs(tup[0] - tup[1]) \n    \n    return sorted(lst, key=difference)\n\nlst = [(3, 8), (1, 7), (5, 5), (9, 2), (6, 10)]\n\nprint(sort_tuples_by_difference(lst))",
   "execution_count": null,
   "outputs": []
  },
  {
   "metadata": {
    "trusted": false
   },
   "cell_type": "code",
   "source": "\"\"\"\nProblem: 483\nWrite a Python function to sort a list of strings by the ASCII value of their first character using the key parameter.\n\"\"\"\n\ndef sort_strings_by_ascii(lst):\n    \n    def ascii_value(s):\n        return ord(s[0])\n        \n    return sorted(lst, key=ascii_value)\n\nlst = [\"banana\", \"apple\", \"cherry\", \"date\", \"elderberry\"]\nprint(sort_strings_by_ascii(lst))",
   "execution_count": null,
   "outputs": []
  },
  {
   "metadata": {
    "trusted": false
   },
   "cell_type": "code",
   "source": "\"\"\"\nProblem: 484\nWrite a Python function to sort a list of lists by the sum of the elements in each sublist using the key parameter.\n\"\"\"\n\ndef sort_lists_by_sum(lst):\n\n    def sum_of_elements(sublist):\n        return sum(sublist)\n        \n    return sorted(lst, key=sum_of_elements)\n\nlst = [[3, 4], [1, 2, 3], [10], [5, 1, 1]]\n\nprint(sort_lists_by_sum(lst))",
   "execution_count": null,
   "outputs": []
  },
  {
   "metadata": {
    "trusted": false
   },
   "cell_type": "code",
   "source": "\"\"\"\nProblem: 485\nWrite a Python function to find the word with the fewest consonants in a list using the min() function with the key parameter.\n\"\"\"\n\ndef number_of_consonants(lst):\n    \n    def consonants(word):\n    \n        consonants_set = \"bcdfghjklmnpqrstvwxyz\"\n        \n        count = 0\n\n        for char in word.lower():\n            if char in consonants_set:\n                count += 1\n        return count\n\n    return min(lst, key=consonants)\n    \nlst = [\"zzzzzzzzz\", \"yyyyyy\", \"bbb\"]\nprint(number_of_consonants(lst))",
   "execution_count": null,
   "outputs": []
  },
  {
   "metadata": {
    "trusted": false
   },
   "cell_type": "code",
   "source": "\"\"\"\nProblem: 486\nWrite a Python function that sorts a list of file names by their file extension using the key parameter.\n\"\"\"\n\ndef sort_files_by_extension(lst):\n    \n    def file_extension(filename):\n        return filename.split('.')[-1]\n        \n    return sorted(lst, key=file_extension)\n\nlst = [\"document.txt\", \"photo.jpeg\", \"music.mp3\", \"video.mp4\", \"archive.zip\"]\n\nprint(sort_files_by_extension(lst))",
   "execution_count": null,
   "outputs": []
  },
  {
   "metadata": {
    "trusted": false
   },
   "cell_type": "code",
   "source": "\"\"\"\nProblem: 487\nWrite a Python function to sort a list of numbers by the square root of each number using the key parameter.\n\"\"\"\n\ndef sqaure_numbers_lst(lst):\n    \n    def sqaure(n):\n        return n * n\n        \n    return sorted(lst, key=sqaure)\n    \nlst = [12, 46, 2, 10]\nprint(sqaure_numbers_lst(lst))",
   "execution_count": null,
   "outputs": []
  },
  {
   "metadata": {
    "trusted": false
   },
   "cell_type": "code",
   "source": "\"\"\"\nProblem: 488\nWrite a Python function to sort a list of words by the number of distinct letters in each word using the key parameter.\n\"\"\"\n\ndef sort_words_by_distinct_letters(words):\n\n    def distinct_letter_count(word):\n        return len(set(word))\n        \n    return sorted(words, key=distinct_letter_count)\n\nwords = [\"apple\", \"banana\", \"cherry\", \"orange\"]\nprint(sort_words_by_distinct_letters(words))",
   "execution_count": null,
   "outputs": []
  },
  {
   "metadata": {
    "trusted": false
   },
   "cell_type": "code",
   "source": "\"\"\"\nProblem: 489\nWrite a Python function that sorts a list of strings by the second letter in each string using the key parameter.\n\"\"\"\n\ndef sort_second_letter(lst):\n    \n    def second_letter(x):\n        return x[1]\n        \n    return sorted(lst, key=second_letter)\n    \nlst = [\"mountain\", \"law\", \"lebany\"]\nprint(sort_second_letter(lst))",
   "execution_count": null,
   "outputs": []
  },
  {
   "metadata": {
    "trusted": false
   },
   "cell_type": "code",
   "source": "\"\"\"\nProblem: 490\nWrite a Python function to sort a list of people by their age stored in a dictionary using the key parameter.\n\"\"\"\n\ndef people_age(dic):\n    \n    def sort_age(person):\n        return dic[person]\n        \n    return sorted(dic, key=sort_age)\n    \ndic = {\"Sam\": 27, \"Tom\": 56, \"Chantelle\": 18}\nprint(people_age(dic))",
   "execution_count": null,
   "outputs": []
  },
  {
   "metadata": {
    "trusted": false
   },
   "cell_type": "code",
   "source": "\"\"\"\nProblem: 491\nWrite a Python function that sorts a list of numbers by their binary representation using the key parameter.\n\"\"\"\n\ndef sort_by_binary_representation(lst):\n    \n    def binary_representation(x):\n        return bin(x)\n        \n    return sorted(lst, key=binary_representation)\n\nlst = [5, 3, 8, 1, 12]\n\nprint(sort_by_binary_representation(lst))",
   "execution_count": null,
   "outputs": []
  },
  {
   "metadata": {
    "trusted": false
   },
   "cell_type": "code",
   "source": "\"\"\"\nProblem: 492\nWrite a Python function to find the person with the shortest name in a list of dictionaries using the min() function with the key parameter.\n\"\"\"\n\ndef sort_keys_by_value(dic):\n\n    def get_value(key):\n        return dic[key]\n        \n    return sorted(dic.keys(), key=get_value)\n   \ndic = {\"Sam\": 27, \"Tommy\": 56, \"Chantelle\": 18}\nprint(sort_keys_by_value(dic))",
   "execution_count": null,
   "outputs": []
  },
  {
   "metadata": {
    "trusted": false
   },
   "cell_type": "code",
   "source": "\"\"\"\nProblem: 493\nWrite a Python function to sort a list of fractions by their decimal value using the key parameter.\n\"\"\"\n\nfrom fractions import Fraction\n\ndef sort_fractions_by_decimal(fractions):\n\n    def decimal_value(fraction):\n        return float(fraction)\n        \n    return sorted(fractions, key=decimal_value)\n\nfractions = [Fraction(1, 3), Fraction(3, 4), Fraction(2, 5), Fraction(7, 10)]\n\nprint(sort_fractions_by_decimal(fractions))",
   "execution_count": null,
   "outputs": []
  },
  {
   "metadata": {
    "trusted": false
   },
   "cell_type": "code",
   "source": "\"\"\"\nProblem: 494\nWrite a Python function to find the longest string that ends with a specific letter using the max() function with the key parameter.\n\"\"\"\n\ndef longest_string_letter(lst, letter):\n    \n    def longest_letter(s):\n        return len(s) if s.endswith(letter) else -1\n    \n    return max(lst, key=longest_letter)\n\nlst = [\"Jonathan\", \"Nathan\", \"Sarah\", \"Martha\"]\n\nprint(longest_string_letter(lst, 'n'))\nprint(longest_string_letter(lst, 'a'))\n\ndef longest_string(string, letter):\n    \n    words = string.split()\n\n    def letter_ends(word):\n        if word.endswith(letter):\n            return len(word)\n        else:\n            return 0\n    \n    longest = None  \n    max_length = 0 \n\n    for word in words:\n        length = letter_ends(word)\n        if length > max_length:\n            max_length = length\n            longest = word\n    \n    return longest\n\ninput_string = \"Jonathan nathan Natas\"\nletter = \"a\"\nprint(longest_string(input_string, letter))",
   "execution_count": null,
   "outputs": []
  },
  {
   "metadata": {
    "trusted": false
   },
   "cell_type": "code",
   "source": "\"\"\"\nProblem: 495\nCreate a base class Animal with a method speak() and a derived class Dog that overrides the speak() method to print “Bark”.\n\"\"\"\n\nclass Animal:\n    def speak(self):\n        return \"Animal sound\"\n\nclass Dog(Animal):\n    def speak(self):\n        return \"Bark\"\n        \nclass Cat(Animal):\n    def speak(self):\n        return \"Meow\"\n        \ndog = Dog()\ncat = Cat()\nprint(dog.speak())\nprint(cat.speak())",
   "execution_count": null,
   "outputs": []
  },
  {
   "metadata": {
    "trusted": false
   },
   "cell_type": "code",
   "source": "\"\"\"\nProblem: 496\nCreate a base class Vehicle with attributes speed and color. Create a derived class Car that adds the model attribute.\n\"\"\"\n\nclass Vehicle:\n    def __init__(self, speed, color):\n        self.speed = speed\n        self.color = color\n\nclass Car(Vehicle):\n    def __init__(self, speed, color, model):\n\n        super().__init__(speed, color)\n        \n        self.model = model\n\nmy_car = Car(120, \"Red\", \"Toyota\")\nprint(f\"Car Model: {my_car.model}, Speed: {my_car.speed}, Color: {my_car.color}\")",
   "execution_count": null,
   "outputs": []
  },
  {
   "metadata": {
    "trusted": false
   },
   "cell_type": "code",
   "source": "\"\"\"\nProblem: 497\nCreate a base class Person with a method introduce(). Create a derived class Student that overrides the introduce() method to include the student’s grade.\n\"\"\"\nclass Person:\n    def __init__(self, name):\n        self.name = name\n\n    def introduce(self):\n        return f\"Hello, my name is {self.name}.\"\n\nclass Student(Person):\n    def __init__(self, name, grade):\n    \n        super().__init__(name)\n    \n        self.grade = grade\n        \n    def introduce(self):\n        return f\"Hello, my name is {self.name} and I am in grade {self.grade}.\"\n\nperson = Person(\"Alice\")\nprint(person.introduce()) \n\nstudent = Student(\"Bob\", 10)\nprint(student.introduce()) ",
   "execution_count": null,
   "outputs": []
  },
  {
   "metadata": {
    "trusted": false
   },
   "cell_type": "code",
   "source": "\"\"\"\nProblem: 498\nCreate a base class Shape with a method area(). Create a derived class Rectangle that calculates the area.\n\"\"\"\n\nclass Shape:\n    def area(self):\n\n        pass\n\nclass Rectangle(Shape):\n    def __init__(self, length, width):\n        self.length = length\n        self.width = width\n\n    def area(self):\n        return self.length * self.width\n\nrectangle = Rectangle(5, 3)\nprint(f\"Area of the rectangle: {rectangle.area()}\")",
   "execution_count": null,
   "outputs": []
  },
  {
   "metadata": {
    "trusted": false
   },
   "cell_type": "code",
   "source": "\"\"\"\nProblem: 499\nCreate a base class Appliance with attributes brand and power. Create a derived class WashingMachine that adds a method wash_clothes().\n\"\"\"\n\nclass Appliance:\n    def __init__(self, brand, power):\n        self.brand = brand\n        self.power = power\n\nclass WashingMachine(Appliance):\n    def __init__(self, brand, power):\n        super().__init__(brand, power)\n\n    def wash_clothes(self):\n        return f\"The {self.brand} washing machine is washing clothes with {self.power} watts of power.\"\n\nwashing_machine = WashingMachine(\"LG\", 1500)\nprint(washing_machine.wash_clothes())",
   "execution_count": null,
   "outputs": []
  },
  {
   "metadata": {
    "trusted": false
   },
   "cell_type": "code",
   "source": "\"\"\"\nProblem: 500\nCreate a base class Employee with attributes name and salary. Create a derived class Manager that adds a method assign_task().\n\"\"\"\n\nclass Employee:\n    def __init__(self, name, salary):\n        self.name = name\n        self.salary = salary\n\nclass Manager(Employee):\n    def __init__(self, name, salary):\n    \n        super().__init__(name, salary)\n\n    def assign_task(self, task):\n        return f\"Manager {self.name} has assigned the task: {task}.\"\n\nmanager = Manager(\"John Doe\", 75000)\nprint(manager.assign_task(\"Prepare a project report\"))",
   "execution_count": null,
   "outputs": []
  }
 ],
 "metadata": {
  "kernelspec": {
   "name": "python3",
   "display_name": "Python 3",
   "language": "python"
  },
  "language_info": {
   "name": "python",
   "version": "3.10.4",
   "mimetype": "text/x-python",
   "codemirror_mode": {
    "name": "ipython",
    "version": 3
   },
   "pygments_lexer": "ipython3",
   "nbconvert_exporter": "python",
   "file_extension": ".py"
  }
 },
 "nbformat": 4,
 "nbformat_minor": 2
}