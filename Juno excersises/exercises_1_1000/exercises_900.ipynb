{
 "cells": [
  {
   "metadata": {
    "trusted": false
   },
   "cell_type": "code",
   "source": "\"\"\"\nProblem: 801\nWrite a Python program to convert a dictionary into a list of tuples, where each tuple contains a key-value pair.\n\"\"\"\n\ndef dic_lst_tuples(dic):\n    return list(dic.items())\n    \ndic = {\n    \"name\": \"Alice\",\n    \"ages\": \"stop\",\n    \"cities\": \"New York\",\n    \"job\": \"Engineer\",\n    \"nickname\": \"Alice\" \n}\nprint(dic_lst_tuples(dic))",
   "execution_count": null,
   "outputs": []
  },
  {
   "metadata": {
    "trusted": true
   },
   "cell_type": "code",
   "source": "\"\"\"\nProblem: 802\nWrite a Python program to find all keys in a dictionary that map to a given value.\n\"\"\"\n\ndef main(dic):\n    result = {}\n    \n    for key, value in dic.items():\n        if value == 1:\n            result[key] = value\n    return tuple(result.keys())\n    \ndic = {\n    \"name\": 1,\n    \"age\": 56,\n    \"city\": 34,\n    \"job\": 1\n}\nprint(main(dic))",
   "execution_count": null,
   "outputs": []
  },
  {
   "metadata": {
    "trusted": true
   },
   "cell_type": "code",
   "source": "def map_value(dic, target_value):\n    result = {}\n    for key, value in dic.items():\n        if value == target_value:\n            result[key] = value\n    return result\n\ndic = {\n    \"name\": \"Alice\",\n    \"ages\": \"Alice\",\n    \"cities\": \"New York\",\n    \"job\": \"Engineer\",\n    \"nickname\": \"Alice\" \n}\ntarget_value = \"Alice\"\nprint(map_value(dic, target_value))",
   "execution_count": null,
   "outputs": []
  },
  {
   "metadata": {
    "trusted": true
   },
   "cell_type": "code",
   "source": "\"\"\"\nProblem: 803\nWrite a Python program to replace the value of a key in a dictionary with a list of values if the value is not already a list.\n\"\"\"\n\ndef replace_value(dic, list_values):\n    for key in dic:\n        if not isinstance(dic[key], list):\n            dic[key] = list_values\n    return dic\n\ndic = {\n    \"name\": \"Alice\",\n    \"ages\": \"Alice\",\n    \"cities\": \"New York\",\n    \"job\": \"Engineer\",\n    \"nickname\": \"Alice\" \n}\nlist_values = [\"one\", \"two\", \"three\", \"four\", \"five\"]\nprint(replace_value(dic, list_values))",
   "execution_count": null,
   "outputs": []
  },
  {
   "metadata": {
    "trusted": true
   },
   "cell_type": "code",
   "source": "\"\"\"\nProblem: 804\nWrite a Python program to create a nested dictionary where keys are numbers and values are dictionaries containing the squares and cubes of the keys.\n\"\"\"\n\ndef nested_dic():\n    result = {}\n    for key in range(1, 6):\n        result[key] = {'square': key ** 2, 'cube': key ** 3}\n    return result\n\nprint(nested_dic())\n\ndef nested_dic():\n    result = {}\n    for key in range(1, 6):\n        result[key] = {'square': key ** 2, 'cube': key ** 3}\n    return result\n\nresult = nested_dic()\nfor key, value in result.items():\n    print(f\"{key}: {value}\")",
   "execution_count": null,
   "outputs": []
  },
  {
   "metadata": {
    "trusted": true
   },
   "cell_type": "code",
   "source": "\"\"\"\nProblem: 805\nWrite a Python program to create a dictionary from a string where the keys are characters and the values are the number of occurrences of each character.\n\"\"\"\n\ndef string_dic(string):\n    result = {}\n    for char in string:\n        if char in result:\n            result[char] += 1\n        else:\n            result[char] = 1\n    return result\n\nstring = \"what's happening today?\"\nprint(string_dic(string))",
   "execution_count": null,
   "outputs": []
  },
  {
   "metadata": {
    "trusted": true
   },
   "cell_type": "code",
   "source": "#new line\ndef string_dic(string):\n    result = {}\n    for char in string:\n        if char in result:\n            result[char] += 1\n        else:\n            result[char] = 1\n    return result\n\nstring = \"what's happening today?\"\nresult = string_dic(string)\n\nfor key, value in result.items():\n    print(f\"{key}: {value}\")\n\n#sort keys    \ndef string_dic(string):\n    result = {}\n    for char in string:\n        if char in result:\n            result[char] += 1\n        else:\n            result[char] = 1\n    return result\n\nstring = \"what's happening today?\"\nresult = string_dic(string)\n\nfor key in sorted(result):\n    print(f\"{key}: {result[key]}\")",
   "execution_count": null,
   "outputs": []
  },
  {
   "metadata": {
    "trusted": true
   },
   "cell_type": "code",
   "source": "\"\"\"\nProblem: 806\nWrite a Python program to sort a dictionary by its values in descending order.\n\"\"\"\n\ndef sort_dic(dic):\n    \n    def value_sort(item):\n        return item[1]\n    \n    return dict(sorted(dic.items(), key=value_sort, reverse=True))\n\ndic = {\n    \"name\": \"Alice\",\n    \"ages\": \"Alice\",\n    \"cities\": \"New York\",\n    \"job\": \"Engineer\",\n    \"nickname\": \"Alice\"\n}\nprint(sort_dic(dic))",
   "execution_count": null,
   "outputs": []
  },
  {
   "metadata": {
    "trusted": true
   },
   "cell_type": "code",
   "source": "\"\"\"\nProblem: 807\nWrite a Python program to create a dictionary from a list of tuples.\n\"\"\"\n\ndef lst_tuples(lst):\n    return dict(lst)\n\nlst = [(\"a\", 1), (\"b\", 2), (\"c\", 3), (\"d\", 4)]\nprint(lst_tuples(lst))",
   "execution_count": null,
   "outputs": []
  },
  {
   "metadata": {
    "trusted": true
   },
   "cell_type": "code",
   "source": "\"\"\"\nProblem: 808\nWrite a Python program to filter out keys from a dictionary that have a value less than 10.\n\"\"\"\n\ndef less_then_10(dic):\n    result = {}\n    for key, value in dic.items():\n        if value >= 10:\n            result[key] = value\n    return result\n    \ndic = {\n    \"name\": 3,\n    \"ages\": 6,\n    \"cities\": 46,\n    \"job\": 12,\n    \"nickname\": 7 \n}\nprint(less_then_10(dic))",
   "execution_count": null,
   "outputs": []
  },
  {
   "metadata": {
    "trusted": true
   },
   "cell_type": "code",
   "source": "\"\"\"\nProblem: 809\nWrite a Python program to print the dictionary in a readable, formatted way (pretty printing).\n\"\"\"\n\ndef print_readable(dic):\n    result = \"\"\n    for key, value in dic.items():\n        result += f\"{key}: {value}\\n\"\n    return result\n\ndic = {\n    \"name\": 3,\n    \"ages\": 6,\n    \"cities\": 46,\n    \"job\": 12,\n    \"nickname\": 7 \n}\nprint(print_readable(dic))",
   "execution_count": null,
   "outputs": []
  },
  {
   "metadata": {
    "trusted": true
   },
   "cell_type": "code",
   "source": "\"\"\"\nProblem: 810\nWrite a Python program to create a dictionary of students and their grades, and print all students who scored more than 75.\n\"\"\"\n\ndef students_grades(dic):\n    result = {}\n    for key, value in dic.items():\n        if value >= 70:\n            result[key] = value\n    return list(result)\n    \ndic = {\n    \"Bob\": 50,\n    \"Alex\": 72,\n    \"Fred\": 87,\n    \"Mike\": 60,\n    \"Liz\": 90 \n}\nprint(students_grades(dic))\n",
   "execution_count": null,
   "outputs": []
  },
  {
   "metadata": {
    "trusted": true
   },
   "cell_type": "code",
   "source": "\"\"\"\nProblem: 811\nWrite a Python program to create a dictionary of words and their lengths from a given sentence.\n\"\"\"\n\ndef word_len(string):\n    words = string.split()\n    result = {}\n    for word in words:\n        result[word] = len(word)\n    return result\n\nstring = \"today we are going to the beach\"\nprint(word_len(string))",
   "execution_count": null,
   "outputs": []
  },
  {
   "metadata": {
    "trusted": true
   },
   "cell_type": "code",
   "source": "\"\"\"\nProblem: 812\nWrite a Python program to create a dictionary of words and their lengths from a given sentence.\n\"\"\"\n\ndef word_len(string):\n    words = string.split()\n    result = {}\n    for word in words:\n        result[word] = len(word)\n    return result\n\nstring = \"today we are going to the beach\"\nprint(word_len(string))",
   "execution_count": null,
   "outputs": []
  },
  {
   "metadata": {
    "trusted": true
   },
   "cell_type": "code",
   "source": "\"\"\"\nProblem: 813\nWrite a Python program to group words in a dictionary based on their starting letter.\n\"\"\"\n\ndef starting_letter(dic):\n    result = {}\n    for key in dic.keys():\n        first_letter = key[0]\n        if first_letter not in result:\n            result[first_letter] = []\n        result[first_letter].append(key)\n    return result\n\ndic = {\n    \"Bob\": 50,\n    \"Alex\": 72,\n    \"Fred\": 87,\n    \"Mike\": 60,\n    \"Liz\": 90 \n}\nprint(starting_letter(dic))",
   "execution_count": null,
   "outputs": []
  },
  {
   "metadata": {
    "trusted": true
   },
   "cell_type": "code",
   "source": "def main(dic):\n    result = {}\n    for key, value in dic.items():\n        first_letter = key[0]\n        result[first_letter] = key\n    return result\n    \ndic = {\n    \"name\": 777,\n    \"age\": 56,\n    \"city\": 34,\n    \"job\": 1\n}\nprint(main(dic))",
   "execution_count": null,
   "outputs": []
  },
  {
   "metadata": {
    "trusted": true
   },
   "cell_type": "code",
   "source": "\"\"\"\nProblem: 814\nWrite a Python program to iterate through a dictionary and change the case of all keys (upper or lower).\n\"\"\"\n\ndef upper_keys(dic):\n    result = {}\n    for key, value in dic.items():\n        result[key.upper()] = value\n    return result\n    \ndic = {\n    \"Bob\": 50,\n    \"Alex\": 72,\n    \"Fred\": 87,\n    \"Mike\": 60,\n    \"Liz\": 90 \n}\nprint(upper_keys(dic))",
   "execution_count": null,
   "outputs": []
  },
  {
   "metadata": {
    "trusted": true
   },
   "cell_type": "code",
   "source": "\"\"\"\nProblem: 815\nWrite a Python program to find the intersection of two dictionaries (i.e., keys that are common in both dictionaries).\n\"\"\"\n\ndef intersection(dic1, dic2):\n    result = {}\n    for key in dic1:\n        if key in dic2:\n            result[key] = dic1[key]\n    return result\n\ndic1 = {\n    \"Bob\": 500,\n    \"Alex\": 72,\n    \"Fred\": 89,\n    \"Mike\": 61,\n    \"Liz\": 90 \n}\n\ndic2 = {\n    \"Bob\": 50,\n    \"Alexander\": 72,\n    \"Freddy\": 87,\n    \"Zac\": 60,\n    \"Liz\": 90 \n}\nprint(intersection(dic1, dic2))",
   "execution_count": null,
   "outputs": []
  },
  {
   "metadata": {
    "trusted": true
   },
   "cell_type": "code",
   "source": "\"\"\"\nProblem: 816\nWrite a Python program to count how many times each vowel occurs in a given sentence using a dictionary.\n\"\"\"\n\ndef count_vowels(string):\n    vowels = \"aeiou\"\n    result = {}\n    \n    for vowel in vowels:\n        result[vowel] = 0\n    \n    for char in string.lower():\n        if char in vowels:\n            result[char] += 1\n    \n    return result\n\nstring = \"word how many times vowels? How many times many times many\"\nprint(count_vowels(string))",
   "execution_count": null,
   "outputs": []
  },
  {
   "metadata": {
    "trusted": true
   },
   "cell_type": "code",
   "source": "\"\"\"\nProblem: 817\nWrite a Python program to remove all key-value pairs from a dictionary where the value is None.\n\"\"\"\n\ndef remove_value_is_none(dic):\n    result = {}\n    for key, value in dic.items():\n        if value is not None:\n            result[key] = value\n    return result\n\ndic1 = {\n    \"Bob\": None,\n    \"Alex\": None,\n    \"Fred\": 89,\n    \"Mike\": 61,\n    \"Liz\": 90 \n}\nprint(remove_value_is_none(dic1))",
   "execution_count": null,
   "outputs": []
  },
  {
   "metadata": {
    "trusted": true
   },
   "cell_type": "code",
   "source": "\"\"\"\nProblem: 818\nWrite a Python program to check if a dictionary contains a specific key and value pair.\n\"\"\"\n\ndef check_key_value(dic, target):\n    for key, value in dic.items():\n        if key in target and dic[key] == target[key]:\n            return True\n    return False\n\ndic1 = {\n    \"Bob\": 500,\n    \"Alex\": 72,\n    \"Fred\": 89,\n    \"Mike\": 61,\n    \"Liz\": 90 \n}\ntarget = {\"Liz\": 90}\nprint(check_key_value(dic1, target))",
   "execution_count": null,
   "outputs": []
  },
  {
   "metadata": {
    "trusted": true
   },
   "cell_type": "code",
   "source": "\"\"\"\nProblem: 819\nWrite a Python program to convert a dictionary to JSON format using `json.dumps()`.\n\"\"\"\n\nimport json\n\ndef dict_to_json(dic):\n    return json.dumps(dic)\n\ndic1 = {\n    \"Bob\": 500,\n    \"Alex\": 72,\n    \"Fred\": 89,\n    \"Mike\": 61,\n    \"Liz\": 90\n}\nprint(dict_to_json(dic1))",
   "execution_count": null,
   "outputs": []
  },
  {
   "metadata": {
    "trusted": true
   },
   "cell_type": "code",
   "source": "\"\"\"\nProblem: 820\nWrite a Python program to merge multiple dictionaries into one.\n\"\"\"\n\ndef merge_dicts(dic1, dic2):\n    merged_dict = {**dic1, **dic2}\n    return merged_dict\n\ndic1 = {\n    \"name\": \"Steven\",\n    \"age\": 56,\n    \"city\": \"New York\",\n    \"job\": \"Engineer\"\n}\ndic2 = {\n    \"named\": \"Alice\",\n    \"aged\": 30,\n    \"cities\": \"New York\",\n    \"jobless\": \"Engineer\"\n}\nprint(merge_dicts(dic1, dic2))",
   "execution_count": null,
   "outputs": []
  },
  {
   "metadata": {
    "trusted": true
   },
   "cell_type": "code",
   "source": "\"\"\"\nProblem: 821\nWrite a Python program to iterate through a dictionary and calculate the product of all its values.\n\"\"\"\n\ndef product_values(dic):\n    product = 1\n    for value in dic.values():\n        product *= value\n    return product\n\ndic = {\n    \"named\": 2,\n    \"aged\": 2,\n    \"cities\": 2,\n    \"jobless\": 2\n}\nprint(product_values(dic))",
   "execution_count": null,
   "outputs": []
  },
  {
   "metadata": {
    "trusted": true
   },
   "cell_type": "code",
   "source": "\"\"\"\nProblem: 822\nWrite a Python program to calculate the average of all values in a dictionary.\n\"\"\"\n\ndef average_values(dic):\n    sum_values = sum(dic.values())\n    len_values = len(dic)\n    average = sum_values / len_values\n    return average\n\ndic = {\n    \"named\": 200,\n    \"aged\": 257,\n    \"cities\": 230,\n    \"jobless\": 280\n}\nprint(average_values(dic))\n",
   "execution_count": null,
   "outputs": []
  },
  {
   "metadata": {
    "trusted": true
   },
   "cell_type": "code",
   "source": "\"\"\"\nProblem: 823\nWrite a Python program to swap the values of two keys in a dictionary.\n\"\"\"\n\ndef main(dic):\n    dic[\"city\"] = 1\n    dic[\"job\"] = 34\n    return dic\n        \ndic = {\n    \"name\": 777,\n    \"age\": 56,\n    \"city\": 34,\n    \"job\": 1\n}\ntarget = (\"city\", \"job\")\nprint(main(dic))\n\ndef main(dic, x, y):\n    result = {}\n    reverse_values = dic[x], dic[y] = dic[y], dic[x]\n\n    for key, value in dic.items():\n        if reverse_values not in result:\n            result[key] = value\n    return result\n        \ndic = {\n    \"name\": 777,\n    \"age\": 56,\n    \"city\": 34,\n    \"job\": 1\n}\nprint(main(dic, \"name\", \"job\"))\n\ndef main(dic, change_keys):\n    result = {}\n    change_keys = dic[\"name\"], dic[\"job\"] = dic[\"job\"], dic[\"name\"]\n\n    for key, value in dic.items():\n        if change_keys not in result:\n            result[key] = value\n    return result\n        \ndic = {\n    \"name\": 777,\n    \"age\": 56,\n    \"city\": 34,\n    \"job\": 1\n}\nchange_keys = {\"name\", \"job\"}\nprint(main(dic, change_keys))\n\ndef swap_values(dic, key1, key2):\n    dic[key1], dic[key2] = dic[key2], dic[key1]\n    return dic\n\ndic = {\n    \"a\": 1,\n    \"b\": 2,\n    \"c\": 3\n}\nprint(swap_values(dic, \"a\", \"c\"))",
   "execution_count": null,
   "outputs": []
  },
  {
   "metadata": {
    "trusted": true
   },
   "cell_type": "code",
   "source": "\"\"\"\nProblem: 824\nWrite a Python program to find the key with the largest value in a dictionary. Do not use max().\n\"\"\"\n\ndef largest_value(dic):\n    largest_key = None\n    largest_val = float('-inf')\n    \n    for key, value in dic.items():\n        if value > largest_val:\n            largest_val = value\n            largest_key = key\n    \n    return largest_key\n\ndic = {\n    \"name\": 777,\n    \"age\": 56,\n    \"city\": 34,\n    \"job\": 1\n}\nprint(largest_value(dic))",
   "execution_count": null,
   "outputs": []
  },
  {
   "metadata": {
    "trusted": true
   },
   "cell_type": "code",
   "source": "\"\"\"\nProblem: 825\nWrite a Python program to find the key with the largest value in a dictionary. Do not use min().\n\"\"\"\n\ndef smallest_value(dic):\n    smallest_key = None\n    smallest_val = float('inf')\n    \n    for key, value in dic.items():\n        if value < smallest_val:\n            smallest_val = value\n            smallest_key = key\n    \n    return smallest_key\n\ndic = {\n    \"name\": 777,\n    \"age\": 56,\n    \"city\": 34,\n    \"job\": 1\n}\nprint(smallest_value(dic))",
   "execution_count": null,
   "outputs": []
  },
  {
   "metadata": {
    "trusted": true
   },
   "cell_type": "code",
   "source": "\"\"\"\nProblem: 826\nWrite a Python program to add multiple new key-value pair to an existing dictionary.\n\"\"\"\n\ndef main(dic):\n    dic[\"first\"] = 1\n    dic[\"second\"] = 2\n    return dic\n    \ndic = {\n    \"name\": 777,\n    \"age\": 56,\n    \"city\": 34,\n    \"job\": 1\n}\nprint(main(dic))\n\ndef add_multiple_pairs(dic, new_pairs):\n    dic.update(new_pairs)\n    return dic\n\ndic = {\n    \"name\": 777,\n    \"age\": 56,\n    \"city\": 34,\n    \"job\": 1\n}\n\nnew_pairs = {\n    \"status\": \"unemployed\",\n    \"country\": \"USA\",\n    \"hobby\": \"coding\"\n}\n\nprint(add_multiple_pairs(dic, new_pairs))",
   "execution_count": null,
   "outputs": []
  }
 ],
 "metadata": {
  "kernelspec": {
   "name": "python3",
   "display_name": "Python 3",
   "language": "python"
  },
  "language_info": {
   "name": "python",
   "version": "3.10.4",
   "mimetype": "text/x-python",
   "codemirror_mode": {
    "name": "ipython",
    "version": 3
   },
   "pygments_lexer": "ipython3",
   "nbconvert_exporter": "python",
   "file_extension": ".py"
  }
 },
 "nbformat": 4,
 "nbformat_minor": 2
}