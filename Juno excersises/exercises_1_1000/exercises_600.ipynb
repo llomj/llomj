{
 "cells": [
  {
   "metadata": {
    "trusted": false
   },
   "cell_type": "code",
   "source": "\"\"\"\nProblem: 501\nCreate a base class Bird with a method fly(). Create a derived class Penguin that overrides the fly() method to print “Cannot fly”.\n\"\"\"\n\nclass Bird:\n    def fly(self):\n        return \"I can fly!\"\n\nclass Penguin(Bird):\n\n    def fly(self):\n        return \"Cannot fly\"\n\ngeneric_bird = Bird()\nprint(generic_bird.fly())\n\npenguin = Penguin()\nprint(penguin.fly())",
   "execution_count": null,
   "outputs": []
  },
  {
   "metadata": {
    "trusted": false
   },
   "cell_type": "code",
   "source": "\"\"\"\nProblem: 502\nCreate a base class Book with attributes title and author. Create a derived class EBook that adds an attribute file_size.\n\"\"\"\n\nclass Book:\n    def __init__(self, title, author):\n        self.title = title\n        self.author = author\n\nclass EBook(Book):\n    def __init__(self, title, author, file_size):\n        \n        super().__init__(title, author)\n    \n        self.file_size = file_size\n\nebook = EBook(\"Python Programming\", \"John Doe\", 2.5)\nprint(f\"Title: {ebook.title}, Author: {ebook.author}, File Size: {ebook.file_size}MB\")",
   "execution_count": null,
   "outputs": []
  },
  {
   "metadata": {
    "trusted": false
   },
   "cell_type": "code",
   "source": "\"\"\"\nProblem: 503\nCreate a base class Instrument with a method play(). Create a derived class Guitar that overrides the play() method to print “Strum”.\n\"\"\"\n\nclass Instrument:\n    def play(self):\n        return \"Playing an instrument.\"\n\nclass Guitar(Instrument):\n    def play(self):\n        return \"Strum\"\n\ngeneric_instrument = Instrument()\nprint(generic_instrument.play())\n\nguitar = Guitar()\nprint(guitar.play()) ",
   "execution_count": null,
   "outputs": []
  },
  {
   "metadata": {
    "trusted": false
   },
   "cell_type": "code",
   "source": "\"\"\"\nProblem: 504\nCreate a base class Game with a method start(). Create a derived class Chess that overrides the start() method to print “Start Chess”.\n\"\"\"\n\nclass Game:\n    def start(self):\n        return \"Starting the game.\"\n\nclass Chess(Game):\n\n    def start(self):\n        return \"Start Chess\"\n\ngeneric_game = Game()\nprint(generic_game.start())\n\nchess_game = Chess()\nprint(chess_game.start())",
   "execution_count": null,
   "outputs": []
  },
  {
   "metadata": {
    "trusted": false
   },
   "cell_type": "code",
   "source": "\"\"\"\nProblem: 505\nCreate a base class Vehicle with a method drive(). Create a derived class Bicycle that overrides the drive() method to print “Pedal”.\n\"\"\"\n\nclass Vehicle:\n    def drive(self):\n        return \"Are you ready to drive?\"\n\nclass Bicycle(Vehicle):\n\n    def drive(self):\n        return \"Pedal\"\n\nbicycle = Bicycle()\nprint(bicycle.drive()) ",
   "execution_count": null,
   "outputs": []
  },
  {
   "metadata": {
    "trusted": false
   },
   "cell_type": "code",
   "source": "\"\"\"\nProblem: 506\nCreate a base class Computer with attributes brand and processor. Create a derived class Laptop that adds an attribute weight.\n\"\"\"\n\nclass Computer:\n    def __init__(self, brand, processor):\n        self.brand = brand\n        self.processor = processor\n\nclass Laptop(Computer):\n    def __init__(self, brand, processor, weight):\n    \n        super().__init__(brand, processor)\n        \n        self.weight = weight\n\nlaptop = Laptop(\"Dell\", \"Intel i7\", 2.3)\nprint(f\"Brand: {laptop.brand}, Processor: {laptop.processor}, Weight: {laptop.weight}kg\")",
   "execution_count": null,
   "outputs": []
  },
  {
   "metadata": {
    "trusted": false
   },
   "cell_type": "code",
   "source": "\"\"\"\nProblem: 507\nCreate a base class Device with a method turn_on(). Create a derived class Smartphone that adds an attribute apps.\n\"\"\"\n\nclass Device:\n    def turn_on(self):\n        return \"Device is now on.\"\n\nclass Smartphone(Device):\n    def __init__(self, apps):\n        self.apps = apps\n\n\nphone = Smartphone([\"WhatsApp\", \"Instagram\", \"Spotify\"])\nprint(phone.turn_on()) \nprint(f\"Installed apps: {', '.join(phone.apps)}\")",
   "execution_count": null,
   "outputs": []
  },
  {
   "metadata": {
    "trusted": false
   },
   "cell_type": "code",
   "source": "\"\"\"\nProblem: 508\nCreate a base class Parent with a method display(). Create a derived class Child that overrides the display() method to print “This is a child”.\n\"\"\"\n\nclass Parent:\n    def display(self):\n        return \"This is the parent.\"\n\nclass Child(Parent):\n    def display(self):\n        return \"This is a child\"\n        \nparent = Parent()\nprint(parent.display()) \n\nchild = Child()\nprint(child.display())",
   "execution_count": null,
   "outputs": []
  },
  {
   "metadata": {
    "trusted": false
   },
   "cell_type": "code",
   "source": "\"\"\"\nProblem: 509\nCreate a base class Building with attributes floors and address. Create a derived class Skyscraper that adds an attribute height.\n\"\"\"\n\nclass Building:\n    def __init__(self, floors, address):\n        self.floors = floors\n        self.address = address\n\nclass Skyscraper(Building):\n    def __init__(self, floors, address, height):\n        # Call the base class (Building) constructor to initialize floors and address\n        super().__init__(floors, address)\n        # Initialize the height attribute specific to Skyscraper\n        self.height = height\n\nskyscraper = Skyscraper(50, \"123 High Street\", 200)\nprint(f\"Floors: {skyscraper.floors}, Address: {skyscraper.address}, Height: {skyscraper.height} meters\")",
   "execution_count": null,
   "outputs": []
  },
  {
   "metadata": {
    "trusted": false
   },
   "cell_type": "code",
   "source": "\"\"\"\nProblem: 510\nCreate a base class Plant with a method grow(). Create a derived class Flower that overrides the grow() method to print “Bloom”.\n\"\"\"\n\nclass Plant:\n    def grow(self):\n        return \"The plant is growing.\"\n\nclass Flower(Plant):\n    \n    def grow(self):\n        return \"Bloom\"\n\nplant = Plant()\nprint(plant.grow())  # Output: The plant is growing.\n\nflower = Flower()\nprint(flower.grow())  # Output: Bloom",
   "execution_count": null,
   "outputs": []
  },
  {
   "metadata": {
    "trusted": false
   },
   "cell_type": "code",
   "source": "\"\"\"\nProblem: 511\nCreate a base class Teacher with attributes name and subject. Create a derived class MathTeacher that adds a method teach_math().\n\"\"\"\n\nclass Teacher:\n    def __init__(self, name, subject):\n        self.name = name\n        self.subject = subject\n\n    def __str__(self):\n        return f\"Name: {self.name}, Subject: {self.subject}\"\n\n\nclass MathTeacher(Teacher):\n    def __init__(self, name):\n    \n        super().__init__(name, \"Math\")\n\n    def teach_math(self):\n        return \"Teaching math concepts.\"\n\n# Example usage\nteacher = Teacher(\"John Doe\", \"Science\")\nprint(teacher)  # Output: Name: John Doe, Subject: Science\n\nmath_teacher = MathTeacher(\"Alice Smith\")\nprint(math_teacher)         # Output: Name: Alice Smith, Subject: Math\nprint(math_teacher.teach_math())  # Output: Teaching math concepts.",
   "execution_count": null,
   "outputs": []
  },
  {
   "metadata": {
    "trusted": false
   },
   "cell_type": "code",
   "source": "\"\"\"\nProblem: 512\nCreate a base class Writer with attributes name and genre. Create a derived class Poet that overrides the genre attribute to “Poetry”.\n\"\"\"\n\nclass Writer:\n    def __init__(self, name, genre):\n        self.name = name\n        self.genre = genre\n\n    def __str__(self):\n        return f\"Name: {self.name}, Genre: {self.genre}\"\n\nclass Poet(Writer):\n    def __init__(self, name):\n        \n        super().__init__(name, \"Poetry\")\n\n# Example usage\nwriter = Writer(\"Jane Austen\", \"Fiction\")\nprint(writer)  # Output: Name: Jane Austen, Genre: Fiction\n\npoet = Poet(\"William Wordsworth\")\nprint(poet)  # Output: Name: William Wordsworth, Genre: Poetry",
   "execution_count": null,
   "outputs": []
  },
  {
   "metadata": {
    "trusted": false
   },
   "cell_type": "code",
   "source": "\"\"\"\nProblem: 513\nCreate a base class Appliance with a method use(). Create a derived class Oven that overrides the use() method to print “Bake”\n\"\"\"\n\nclass Appliance:\n    def use(self):\n        return \"Using the appliance.\"\n\n# Derived class Oven that inherits from Appliance\nclass Oven(Appliance):\n    def use(self):\n        return \"Bake\"\n\nappliance = Appliance()\nprint(appliance.use())\n\noven = Oven()\nprint(oven.use())",
   "execution_count": null,
   "outputs": []
  },
  {
   "metadata": {
    "trusted": false
   },
   "cell_type": "code",
   "source": "\"\"\"\nProblem: 514\nCreate a base class Artist with attributes name and medium. Create a derived class Painter that adds a method paint().\n\"\"\"\n\n# Base class Artist\nclass Artist:\n    def __init__(self, name, medium):\n        self.name = name\n        self.medium = medium\n\n    def __str__(self):\n        return f\"Name: {self.name}, Medium: {self.medium}\"\n\n# Derived class Painter that inherits from Artist\nclass Painter(Artist):\n    def paint(self):\n        return \"Painting with \" + self.medium\n\n# Example usage\nartist = Artist(\"Claude Monet\", \"Watercolor\")\nprint(artist)  # Output: Name: Claude Monet, Medium: Watercolor\n\npainter = Painter(\"Vincent van Gogh\", \"Oil Paint\")\nprint(painter)         # Output: Name: Vincent van Gogh, Medium: Oil Paint\nprint(painter.paint()) # Output: Painting with Oil Paint",
   "execution_count": null,
   "outputs": []
  },
  {
   "metadata": {
    "trusted": false
   },
   "cell_type": "code",
   "source": "\"\"\"\nProblem: 515\nCreate a base class Worker with a method work(). Create a derived class Electrician that overrides the work() method to print “Fix wires”.\n\"\"\"\n\n# Base class Worker\nclass Worker:\n    def work(self):\n        return \"Working on general tasks.\"\n\n# Derived class Electrician that inherits from Worker\nclass Electrician(Worker):\n    def work(self):\n        return \"Fix wires\"\n\n# Example usage\nworker = Worker()\nprint(worker.work())  # Output: Working on general tasks.\n\nelectrician = Electrician()\nprint(electrician.work())  # Output: Fix wires",
   "execution_count": null,
   "outputs": []
  },
  {
   "metadata": {
    "trusted": false
   },
   "cell_type": "code",
   "source": "\"\"\"\nProblem: 516\nCreate a base class Animal with a method eat(). Create a derived class Lion that overrides the eat() method to print “Eat meat”.\n\"\"\"\n\n# Base class Animal\nclass Animal:\n    def eat(self):\n        return \"Eating food.\"\n\n# Derived class Lion that inherits from Animal\nclass Lion(Animal):\n    def eat(self):\n        return \"Eat meat\"\n\n# Example usage\nanimal = Animal()\nprint(animal.eat())  # Output: Eating food.\n\nlion = Lion()\nprint(lion.eat())  # Output: Eat meat",
   "execution_count": null,
   "outputs": []
  },
  {
   "metadata": {
    "trusted": false
   },
   "cell_type": "code",
   "source": "\"\"\"\nProblem: 517\nCreate a base class Appliance with a method run(). Create a derived class Fan that overrides the run() method to print “Spin blades”\n\"\"\"\n\n# Base class Appliance\nclass Appliance:\n    def run(self):\n        return \"Running appliance.\"\n\n# Derived class Fan that inherits from Appliance\nclass Fan(Appliance):\n    def run(self):\n        return \"Spin blades\"\n\n# Example usage\nappliance = Appliance()\nprint(appliance.run())  # Output: Running appliance.\n\nfan = Fan()\nprint(fan.run())  # Output: Spin blades",
   "execution_count": null,
   "outputs": []
  },
  {
   "metadata": {
    "trusted": false
   },
   "cell_type": "code",
   "source": "\"\"\"\nProblem: 518\nCreate a base class Employee with a method get_salary(). Create a derived class Intern that overrides the get_salary() method to return a lower salary.\n\"\"\"\n\n# Base class Employee\nclass Employee:\n    def get_salary(self):\n        return 5000  # Example salary for a general employee\n\n# Derived class Intern that inherits from Employee\nclass Intern(Employee):\n    def get_salary(self):\n        return 2000  # Example lower salary for an intern\n\n# Example usage\nemployee = Employee()\nprint(f\"Employee Salary: ${employee.get_salary()}\")  # Output: Employee Salary: $5000\n\nintern = Intern()\nprint(f\"Intern Salary: ${intern.get_salary()}\")  # Output: Intern Salary: $2000",
   "execution_count": null,
   "outputs": []
  },
  {
   "metadata": {
    "trusted": false
   },
   "cell_type": "code",
   "source": "\"\"\"\nProblem: 519\nCreate a base class Vehicle with an attribute wheels. Create a derived class Motorcycle that overrides wheels to 2.\n\"\"\"\n\n# Base class Vehicle\nclass Vehicle:\n    def __init__(self, wheels):\n        self.wheels = wheels\n\n    def __str__(self):\n        return f\"Wheels: {self.wheels}\"\n\n# Derived class Motorcycle that inherits from Vehicle\nclass Motorcycle(Vehicle):\n    def __init__(self):\n        # Initialize the base class (Vehicle) with wheels set to 2\n        super().__init__(2)\n\n# Example usage\nvehicle = Vehicle(4)  # Example with a generic vehicle\nprint(vehicle)  # Output: Wheels: 4\n\nmotorcycle = Motorcycle()\nprint(motorcycle)  # Output: Wheels: 2",
   "execution_count": null,
   "outputs": []
  },
  {
   "metadata": {
    "trusted": false
   },
   "cell_type": "code",
   "source": "\"\"\"\nProblem: 520\nCreate a base class Tool with a method use(). Create a derived class Hammer that overrides the use() method to print “Hammer nails”.\n\"\"\"\n\n# Base class Tool\nclass Tool:\n    def use(self):\n        return \"Using the tool.\"\n\n# Derived class Hammer that inherits from Tool\nclass Hammer(Tool):\n    def use(self):\n        return \"Hammer nails\"\n\n# Example usage\ntool = Tool()\nprint(tool.use())  # Output: Using the tool.\n\nhammer = Hammer()\nprint(hammer.use())  # Output: Hammer nails",
   "execution_count": null,
   "outputs": []
  },
  {
   "metadata": {
    "trusted": false
   },
   "cell_type": "code",
   "source": "\"\"\"\nProblem: 521\nCreate a base class BankAccount with attributes balance and owner. Create a derived class SavingsAccount that adds an attribute interest_rate.\n\"\"\"\n\n# Base class BankAccount\nclass BankAccount:\n    def __init__(self, balance, owner):\n        self.balance = balance\n        self.owner = owner\n\n    def __str__(self):\n        return f\"Owner: {self.owner}, Balance: ${self.balance}\"\n\n# Derived class SavingsAccount that inherits from BankAccount\nclass SavingsAccount(BankAccount):\n    def __init__(self, balance, owner, interest_rate):\n        # Initialize base class (BankAccount) with balance and owner\n        super().__init__(balance, owner)\n        self.interest_rate = interest_rate\n\n    def __str__(self):\n        return f\"Owner: {self.owner}, Balance: ${self.balance}, Interest Rate: {self.interest_rate}%\"\n\n# Example usage\naccount = BankAccount(1000, \"Alice\")\nprint(account)  # Output: Owner: Alice, Balance: $1000\n\nsavings = SavingsAccount(1500, \"Bob\", 2.5)\nprint(savings)  # Output: Owner: Bob, Balance: $1500, Interest Rate: 2.5%",
   "execution_count": null,
   "outputs": []
  },
  {
   "metadata": {
    "trusted": false
   },
   "cell_type": "code",
   "source": "\"\"\"\nProblem: 522\nCreate a base class Weapon with a method attack(). Create a derived class Sword that overrides the attack() method to print “Slash”.\n\"\"\"\n\n# Base class Weapon\nclass Weapon:\n    def attack(self):\n        return \"Weapon attack\"\n\n# Derived class Sword that inherits from Weapon\nclass Sword(Weapon):\n    def attack(self):\n        return \"Slash\"\n\n# Example usage\nweapon = Weapon()\nprint(weapon.attack())  # Output: Weapon attack\n\nsword = Sword()\nprint(sword.attack())  # Output: Slash",
   "execution_count": null,
   "outputs": []
  },
  {
   "metadata": {
    "trusted": false
   },
   "cell_type": "code",
   "source": "\"\"\"\nProblem: 523\nCreate a base class Appliance with an attribute power. Create a derived class Microwave that adds a method heat_food().\n\"\"\"\n\n# Base class Appliance\nclass Appliance:\n    def __init__(self, power):\n        self.power = power\n\n    def __str__(self):\n        return f\"Power: {self.power} watts\"\n\n# Derived class Microwave that inherits from Appliance\nclass Microwave(Appliance):\n    def __init__(self, power):\n        # Initialize the base class (Appliance) with power\n        super().__init__(power)\n\n    def heat_food(self):\n        return \"Heating food\"\n\n# Example usage\nappliance = Appliance(1500)  # Example with an appliance\nprint(appliance)  # Output: Power: 1500 watts\n\nmicrowave = Microwave(1200)\nprint(microwave)  # Output: Power: 1200 watts\nprint(microwave.heat_food())  # Output: Heating food",
   "execution_count": null,
   "outputs": []
  },
  {
   "metadata": {
    "trusted": false
   },
   "cell_type": "code",
   "source": "\"\"\"\nProblem: 524\nCreate a base class Vehicle with a method start(). Create a derived class ElectricCar that overrides the start() method to print “Silent start”.\n\"\"\"\n\n# Base class Vehicle\nclass Vehicle:\n    def start(self):\n        return \"Starting vehicle\"\n\n# Derived class ElectricCar that inherits from Vehicle\nclass ElectricCar(Vehicle):\n    def start(self):\n        return \"Silent start\"\n\n# Example usage\nvehicle = Vehicle()\nprint(vehicle.start())  # Output: Starting vehicle\n\nelectric_car = ElectricCar()\nprint(electric_car.start())  # Output: Silent start",
   "execution_count": null,
   "outputs": []
  },
  {
   "metadata": {
    "trusted": false
   },
   "cell_type": "code",
   "source": "\"\"\"\nProblem: 525\nCreate a base class Pet with a method make_sound(). Create a derived class Cat that overrides the make_sound() method to print “Meow”.\n\"\"\"\n\n# Base class Pet\nclass Pet:\n    def make_sound(self):\n        return \"Some generic pet sound\"\n\n# Derived class Cat that inherits from Pet\nclass Cat(Pet):\n    def make_sound(self):\n        return \"Meow\"\n\n# Example usage\npet = Pet()\nprint(pet.make_sound())  # Output: Some generic pet sound\n\ncat = Cat()\nprint(cat.make_sound())  # Output: Meow",
   "execution_count": null,
   "outputs": []
  },
  {
   "metadata": {
    "trusted": false
   },
   "cell_type": "code",
   "source": "\"\"\"\nProblem: 526\nCreate a base class Chef with a method cook(). Create a derived class PastryChef that overrides the cook() method to print “Bake cake”.\n\"\"\"\n\n# Base class Chef\nclass Chef:\n    def cook(self):\n        return \"Cook food\"\n\n# Derived class PastryChef that inherits from Chef\nclass PastryChef(Chef):\n    def cook(self):\n        return \"Bake cake\"\n\n# Example usage\nchef = Chef()\nprint(chef.cook())  # Output: Cook food\n\npastry_chef = PastryChef()\nprint(pastry_chef.cook())  # Output: Bake cake",
   "execution_count": null,
   "outputs": []
  },
  {
   "metadata": {
    "trusted": false
   },
   "cell_type": "code",
   "source": "\"\"\"\nProblem: 527\nCreate a base class Furniture with attributes material and color. Create a derived class Chair that adds an attribute legs.\n\"\"\"\n\ndef create_chair(material, color, legs):\n    class Furniture:\n        def __init__(self, material, color):\n            self.material = material\n            self.color = color\n\n    class Chair(Furniture):\n        def __init__(self, material, color, legs):\n            super().__init__(material, color)\n            self.legs = legs\n\n    return Chair(material, color, legs)\n\nmy_chair = create_chair(\"wood\", \"brown\", 4)",
   "execution_count": null,
   "outputs": []
  },
  {
   "metadata": {
    "trusted": false
   },
   "cell_type": "code",
   "source": "\"\"\"\nProblem: 528\nCreate a base class Game with an attribute players. Create a derived class Soccer that overrides the players attribute to 22.\n\"\"\"\n\n# Base class Game\nclass Game:\n    def __init__(self, players):\n        self.players = players\n\n    def __str__(self):\n        return f\"Players: {self.players}\"\n\n# Derived class Soccer that inherits from Game\nclass Soccer(Game):\n    def __init__(self):\n        # Initialize the base class with the specific number of players for Soccer\n        super().__init__(players=22)\n\n# Example usage\ngame = Game(10)\nprint(game)  # Output: Players: 10\n\nsoccer = Soccer()\nprint(soccer)  # Output: Players: 22",
   "execution_count": null,
   "outputs": []
  },
  {
   "metadata": {
    "trusted": false
   },
   "cell_type": "code",
   "source": "\"\"\"\nProblem: 529\nCreate a base class Musician with a method play_instrument(). Create a derived class Pianist that overrides the play_instrument() method to print “Play piano”.\n\"\"\"\n\n# Base class Musician\nclass Musician:\n    def play_instrument(self):\n        return \"Play instrument\"\n\n# Derived class Pianist that inherits from Musician\nclass Pianist(Musician):\n    def play_instrument(self):\n        return \"Play piano\"\n\n# Example usage\nmusician = Musician()\nprint(musician.play_instrument())  # Output: Play instrument\n\npianist = Pianist()\nprint(pianist.play_instrument())  # Output: Play piano",
   "execution_count": null,
   "outputs": []
  },
  {
   "metadata": {
    "trusted": false
   },
   "cell_type": "code",
   "source": "\"\"\"\nProblem: 530\nCreate a base class Company with attributes name and location. Create a derived class TechCompany that adds an attribute products.\n\"\"\"\n\n# Base class Company\nclass Company:\n    def __init__(self, name, location):\n        self.name = name\n        self.location = location\n\n    def __str__(self):\n        return f\"Name: {self.name}, Location: {self.location}\"\n\n# Derived class TechCompany that inherits from Company\nclass TechCompany(Company):\n    def __init__(self, name, location, products):\n        # Initialize the base class (Company) with name and location\n        super().__init__(name, location)\n        self.products = products\n\n    def __str__(self):\n        # Extend the base class string representation to include products\n        return f\"Name: {self.name}, Location: {self.location}, Products: {', '.join(self.products)}\"\n\n# Example usage\ncompany = Company(\"Global Corp\", \"New York\")\nprint(company)  # Output: Name: Global Corp, Location: New York\n\ntech_company = TechCompany(\"Tech Innovators\", \"San Francisco\", [\"Smartphone\", \"Laptop\", \"Tablet\"])\nprint(tech_company)  # Output: Name: Tech Innovators, Location: San Francisco, Products: Smartphone, Laptop, Tablet",
   "execution_count": null,
   "outputs": []
  },
  {
   "metadata": {
    "trusted": false
   },
   "cell_type": "code",
   "source": "\"\"\"\nProblem: 531\nCreate a base class Gadget with a method operate(). Create a derived class Smartwatch that adds an attribute heart_rate_monitor.\n\"\"\"\n# Base class Gadget\nclass Gadget:\n    def operate(self):\n        return \"Operate gadget\"\n\n# Derived class Smartwatch that inherits from Gadget\nclass Smartwatch(Gadget):\n    def __init__(self, heart_rate_monitor):\n        # Initialize the base class (Gadget)\n        super().__init__()\n        self.heart_rate_monitor = heart_rate_monitor\n\n    def __str__(self):\n        # Provide a string representation of the Smartwatch\n        return f\"Heart Rate Monitor: {'Enabled' if self.heart_rate_monitor else 'Disabled'}\"\n\n# Example usage\ngadget = Gadget()\nprint(gadget.operate())  # Output: Operate gadget\n\nsmartwatch = Smartwatch(heart_rate_monitor=True)\nprint(smartwatch.operate())  # Output: Operate gadget\nprint(smartwatch)           # Output: Heart Rate Monitor: Enabled",
   "execution_count": null,
   "outputs": []
  },
  {
   "metadata": {
    "trusted": false
   },
   "cell_type": "code",
   "source": "\"\"\"\nProblem: 532\nCreate a base class Trainer with a method train(). Create a derived class FitnessTrainer that overrides the train() method to print “Train body”.\n\"\"\"\n\n# Base class Trainer\nclass Trainer:\n    def train(self):\n        return \"Training session\"\n\n# Derived class FitnessTrainer that inherits from Trainer\nclass FitnessTrainer(Trainer):\n    def train(self):\n        print(\"Train body\")\n\n# Example usage\ntrainer = Trainer()\nprint(trainer.train())  # Output: Training session\n\nfitness_trainer = FitnessTrainer()\nfitness_trainer.train()  # Output: Train body",
   "execution_count": null,
   "outputs": []
  },
  {
   "metadata": {
    "trusted": false
   },
   "cell_type": "code",
   "source": "\"\"\"\nProblem: 533\nCreate a base class Book with a method read(). Create a derived class ComicBook that overrides the read() method to print “Read with pictures”.\n\"\"\"\n\n# Base class Book\nclass Book:\n    def read(self):\n        return \"Read the book\"\n\n# Derived class ComicBook that inherits from Book\nclass ComicBook(Book):\n    def read(self):\n        print(\"Read with pictures\")\n\n# Example usage\nbook = Book()\nprint(book.read())  # Output: Read the book\n\ncomic_book = ComicBook()\ncomic_book.read()  # Output: Read with pictures",
   "execution_count": null,
   "outputs": []
  },
  {
   "metadata": {
    "trusted": false
   },
   "cell_type": "code",
   "source": "\"\"\"\nProblem: 534\nCreate a base class Software with attributes name and version. Create a derived class GameSoftware that adds an attribute genre.\n\"\"\"\n\n# Base class Software\nclass Software:\n    def __init__(self, name, version):\n        self.name = name\n        self.version = version\n\n    def __str__(self):\n        return f\"Name: {self.name}, Version: {self.version}\"\n\n# Derived class GameSoftware that inherits from Software\nclass GameSoftware(Software):\n    def __init__(self, name, version, genre):\n        # Initialize the base class (Software) with name and version\n        super().__init__(name, version)\n        self.genre = genre\n\n    def __str__(self):\n        # Extend the base class string representation to include genre\n        return f\"Name: {self.name}, Version: {self.version}, Genre: {self.genre}\"\n\n# Example usage\nsoftware = Software(\"BasicApp\", \"1.0\")\nprint(software)  # Output: Name: BasicApp, Version: 1.0\n\ngame_software = GameSoftware(\"EpicQuest\", \"2.5\", \"RPG\")\nprint(game_software)  # Output: Name: EpicQuest, Version: 2.5, Genre: RPG",
   "execution_count": null,
   "outputs": []
  },
  {
   "metadata": {
    "trusted": false
   },
   "cell_type": "code",
   "source": "\"\"\"\nProblem: 535\nWrite a Python program to count the number of times the letter ‘a’ appears in a string. Use count().\n\"\"\"\n\ndef count_letter(s):\n    return s.count(\"a\")\n    \nstring = \"what going on today\"\nprint(count_letter(string))",
   "execution_count": null,
   "outputs": []
  },
  {
   "metadata": {
    "trusted": false
   },
   "cell_type": "code",
   "source": "\"\"\"\nProblem: 536\nWrite a Python function to count the occurrences of the number 5 in a list of integers. Use count().\n\"\"\"\n\ndef count_number(num):\n    return num.count(5)\n\nnumber = [3, 5, 5, 35, 78]\nprint(count_number(number))",
   "execution_count": null,
   "outputs": []
  },
  {
   "metadata": {
    "trusted": false
   },
   "cell_type": "code",
   "source": "\"\"\"\nProblem: 537\nWrite a Python program to count how many times the word “hello” appears in a sentence. Use count().\n\"\"\"\n\ndef count_hello(string):\n    return string.count(\"hello\")\n    \nstring = \"hello, you cunt\"\nprint(count_hello(string))",
   "execution_count": null,
   "outputs": []
  },
  {
   "metadata": {
    "trusted": false
   },
   "cell_type": "code",
   "source": "\"\"\"\nProblem: 538\nWrite a function that counts how many times the character # appears in a string.  Use count().\n\"\"\"\n\ndef count(string):\n    return string.count(\"#\")\n    \nstring = \"hello, you cunt ###\"\nprint(count(string))",
   "execution_count": null,
   "outputs": []
  },
  {
   "metadata": {
    "trusted": false
   },
   "cell_type": "code",
   "source": "\"\"\"\nProblem: 539\nWrite a Python program to count the occurrences of the substring “cat” in a given string. Use count().\n\"\"\"\n\ndef count_substring(s, substring=\"cat\"):\n    return s.count(substring)\n\ninput_string = \"The cat sat on the mat with another cat.\"\ncount = count_substring(input_string)\nprint(f\"The substring 'cat' occurs {count} times.\")",
   "execution_count": null,
   "outputs": []
  },
  {
   "metadata": {
    "trusted": false
   },
   "cell_type": "code",
   "source": "\"\"\"\nProblem: 540\nWrite a Python function to count how many times the digit 0 appears in a list of numbers. Use count().\n\"\"\"\n\ndef count_number(num):\n    return num.count(0)\n    \nnum = [3, 5, 0, 0, 6, 0]\nprint(count_number(num))",
   "execution_count": null,
   "outputs": []
  },
  {
   "metadata": {
    "trusted": false
   },
   "cell_type": "code",
   "source": "\"\"\"\nProblem: 541\nWrite a program to count the number of spaces in a given string. Use count().\n\"\"\"\n\ndef count_spaces(string):\n    return string.count(\" \")\n    \nnum = \"i'm going for a walk today\"\nprint(count_spaces(num))",
   "execution_count": null,
   "outputs": []
  },
  {
   "metadata": {
    "trusted": false
   },
   "cell_type": "code",
   "source": "\"\"\"\nProblem: 542\nWrite a Python function to count the occurrences of a specific character in a string provided by the user. Use count().\n\"\"\"\n\ndef count_occurrences():\n    user_input = input(\"Type a sentence: \")\n    \n    char_to_count = input(\"Enter the character to count: \")\n    \n    if len(char_to_count) != 1:\n        print(\"Please enter exactly one character.\")\n        return\n    \n    count = user_input.count(char_to_count)\n    \n    print(f\"The character '{char_to_count}' occurs {count} times.\")\n\ncount_occurrences()",
   "execution_count": null,
   "outputs": []
  },
  {
   "metadata": {
    "trusted": false
   },
   "cell_type": "code",
   "source": "\"\"\"\nProblem: 543\nWrite a Python program to count how many times a specific word appears in a text file. Use count().\n\"\"\"\n\ndef count_word_in_file(filename, word):\n    try:\n        # Open the file and read its content\n        with open(filename, 'r') as file:\n            content = file.read()\n        \n        # Count the occurrences of the specified word\n        word_count = content.count(word)\n        \n        return word_count\n    except FileNotFoundError:\n        print(f\"The file '{filename}' does not exist.\")\n        return 0\n\n# Example usage\nfilename = 'example.txt'  # Replace with your actual file name\nword_to_count = 'the'     # Replace with the word you want to count\ncount = count_word_in_file(filename, word_to_count)\nprint(f\"The word '{word_to_count}' appears {count} times in the file.\")",
   "execution_count": null,
   "outputs": []
  },
  {
   "metadata": {
    "trusted": false
   },
   "cell_type": "code",
   "source": "\"\"\"\nProblem: 544\nWrite a function to count how many times the letter ‘e’ appears in a list of strings. Use count().\n\"\"\"\n\ndef count_letters(lst):\n    total_count = 0\n    \n    for word in lst:\n        total_count += word.count(\"e\")\n    return total_count\n\nlst = [\"Jonathen\", \"Nathan\", \"Netesha\"]\nprint(count_letters(lst))",
   "execution_count": null,
   "outputs": []
  },
  {
   "metadata": {
    "trusted": false
   },
   "cell_type": "code",
   "source": "\"\"\"\nProblem: 545\nWrite a Python program to count the number of times a certain element appears in a list of mixed types. Use count().\n\"\"\"\n\ndef count_elements_in_lst(lst, element):\n    return lst.count(element)\n\n# Example usage\nlst = [\"tree\", \"sea\", 42, \"world\", \"sea\", 42, 42]\nelement = 42  # Element to count\nprint(count_elements_in_lst(lst, element))",
   "execution_count": null,
   "outputs": []
  },
  {
   "metadata": {
    "trusted": false
   },
   "cell_type": "code",
   "source": "\"\"\"\nProblem: 546\nWrite a function to count the occurrences of the string “test” in a string where multiple “test” substrings might exist. Use count().\n\"\"\"\n\ndef count_test_occurrences(s):\n    return s.count(\"test\")\n\ns = \"This is a test. Test the function with another test. Final test.\"\nprint(count_test_occurrences(s))",
   "execution_count": null,
   "outputs": []
  },
  {
   "metadata": {
    "trusted": false
   },
   "cell_type": "code",
   "source": "\"\"\"\nProblem: 547\nWrite a Python program to count how many times a specific number occurs in a list of floating-point numbers. Use count().\n\"\"\"\n\ndef count_floating_numbers(lst):\n    return float(lst.count())\n    \nlst = [2.3, 5, 6.3, 78, 0.6]\nprint(count_floating_numbers(lst))",
   "execution_count": null,
   "outputs": []
  },
  {
   "metadata": {
    "trusted": false
   },
   "cell_type": "code",
   "source": "\"\"\"\nProblem: 548\nWrite a function to count the number of vowels (a, e, i, o, u) in a given string. Use count().\n\"\"\"\n\ndef count_floating_numbers(lst, number):\n    return lst.count(number)\n\nlst = [2.3, 5.0, 6.3, 78.0, 0.6, 5.0]\nnumber = 5.0\nprint(count_floating_numbers(lst, number))",
   "execution_count": null,
   "outputs": []
  },
  {
   "metadata": {
    "trusted": false
   },
   "cell_type": "code",
   "source": "\"\"\"\nProblem: 549\nWrite a Python program to count the number of uppercase letters in a string. Use count().\n\"\"\"\n\ndef count_uppercase(string):\n    total_uppercase = 0\n    \n    for char in 'ABCDEFGHIJKLMNOPQRSTUVWXYZ':\n        total_uppercase += string.count(char)\n    return total_uppercase\n\nstring = \"AFHHJJ ghgghh\"\nprint(count_uppercase(string))",
   "execution_count": null,
   "outputs": []
  },
  {
   "metadata": {
    "trusted": false
   },
   "cell_type": "code",
   "source": "\"\"\"\nProblem: 550\nWrite a function that counts the occurrences of a specified digit in a number. Use count().\n\"\"\"\n\ndef count_digit(num):\n    return num.count(2)\n\nnum = 1223452\nprint(count_digit(num))",
   "execution_count": null,
   "outputs": []
  },
  {
   "metadata": {
    "trusted": false
   },
   "cell_type": "code",
   "source": "\"\"\"\nProblem: 551\nWrite a Python program to count how many times each letter appears in a given string. Use count().\n\"\"\"\n\ndef count_digit(num, digit):\n    return str(num).count(str(digit))\n\nnum = 1223452\ndigit = 2\nprint(count_digit(num, digit))",
   "execution_count": null,
   "outputs": []
  },
  {
   "metadata": {
    "trusted": false
   },
   "cell_type": "code",
   "source": "\"\"\"\nProblem: 552\nWrite a function to count the number of times the word “Python” appears in a paragraph of text. Use count().\n\"\"\"\n\ndef count_text(string):\n    string = string.lower()\n    \n    return string.count(\"python\")\n\nstring = \"python is python in disguise\"\nprint(count_text(string))",
   "execution_count": null,
   "outputs": []
  },
  {
   "metadata": {
    "trusted": false
   },
   "cell_type": "code",
   "source": "\"\"\"\nProblem: 553\nWrite a Python program to count the occurrences of a specific item in a list of dictionaries. Use count().\n\"\"\"\n\ndef count_item_in_dict_list(dict_list, item):\n    values = []\n    \n    for d in dict_list:\n    \n        for val in d.values():\n            values.append(val)\n\n    return values.count(item)\n\ndict_list = [\n    {\"name\": \"Alice\", \"age\": 30},\n    {\"name\": \"Bob\", \"age\": 25},\n    {\"name\": \"Alice\", \"age\": 30},\n    {\"name\": \"Charlie\", \"age\": 35}\n]\n\nitem = \"Alice\" \nprint(count_item_in_dict_list(dict_list, item))",
   "execution_count": null,
   "outputs": []
  },
  {
   "metadata": {
    "trusted": false
   },
   "cell_type": "code",
   "source": "\"\"\"\nProblem: 554\nWrite a function to count how many times the letter ‘z’ appears in a list of strings. Use count().\n\"\"\"\n\ndef count_letters(lst):\n    total_count = 0\n    for string in lst:\n        total_count += string.count(\"z\")\n    return total_count\n\nlst = [\"z\", \"h\", \"z\", \"gloat\"]\nprint(count_letters(lst))",
   "execution_count": null,
   "outputs": []
  },
  {
   "metadata": {
    "trusted": false
   },
   "cell_type": "code",
   "source": "\"\"\"\nProblem: 555\nWrite a Python program to count the occurrences of the character ‘*’ in a given string. Use count().\n\"\"\"\n\ndef count_asterisks(s):\n    return s.count('*')\n\ns = \"Hello *world* and *everyone*\"\nprint(count_asterisks(s))",
   "execution_count": null,
   "outputs": []
  },
  {
   "metadata": {
    "trusted": false
   },
   "cell_type": "code",
   "source": "\"\"\"\nProblem: 556\nWrite a function to count how many times the substring “123” appears in a string. Use count().\n\"\"\"\n\ndef count_substring(s, substring):\n    return s.count(substring)\n\ns = \"123abc123def123\"\nsubstring = \"123\"\nprint(count_substring(s, substring))",
   "execution_count": null,
   "outputs": []
  },
  {
   "metadata": {
    "trusted": false
   },
   "cell_type": "code",
   "source": "\"\"\"\nProblem: 557\nWrite a Python program to count the number of lines in a text file that contain the word “error”. Use count().\n\"\"\"\n\ndef count_lines_with_word(filename, word):\n    count = 0\n    with open(filename, 'r') as file:\n        for line in file:\n            if line.lower().count(word.lower()) > 0:\n                count += 1\n    return count\n\nfilename = 'example.txt'  # Replace with your actual file path\nword = 'error'\nprint(count_lines_with_word(filename, word))",
   "execution_count": null,
   "outputs": []
  },
  {
   "metadata": {
    "trusted": false
   },
   "cell_type": "code",
   "source": "\"\"\"\nProblem: 558\nWrite a function to count the number of times a particular email domain appears in a list of email addresses. Use count().\n\"\"\"\n\ndef count_email_domain(email_list, domain):\n    \n    count = 0\n    for email in email_list:\n    \n        email_domain = email.split('@')[-1]\n        \n        if email_domain == domain:\n            count += 1\n            \n    return count\n\nemail_list = [\n    \"user1@example.com\",\n    \"user2@example.com\",\n    \"user3@sample.com\",\n    \"user4@example.com\"\n]\ndomain = \"example.com\"\nprint(count_email_domain(email_list, domain))",
   "execution_count": null,
   "outputs": []
  },
  {
   "metadata": {
    "trusted": false
   },
   "cell_type": "code",
   "source": "\"\"\"\nProblem: 559\nWrite a Python program to count the occurrences of the word “happy” in a given list of sentences. Use count().\n\"\"\"\n\ndef count_word(sentences):\n    count = 0\n    for sentence in sentences:\n        count += sentence.count(\"happy\")\n    return count\n\nsentences = [\"I am happy today\", \"She looks very happy\", \"Happy times are here\", \"joy joy happy happy\"]\nprint(count_word(sentences))",
   "execution_count": null,
   "outputs": []
  },
  {
   "metadata": {
    "trusted": false
   },
   "cell_type": "code",
   "source": "\"\"\"\nProblem: 560\nWrite a function to count the number of times the character ‘!’ appears in a list of strings. Use count().\n\"\"\"\n\ndef count_exclamations(lst):\n    count = 0\n    for string in lst:\n        count += string.count('!')\n    return count\n\nlst = [\"Hello!\", \"Wow! Amazing!\", \"No exclamation here\", \"Yes!\"]\nprint(count_exclamations(lst))",
   "execution_count": null,
   "outputs": []
  },
  {
   "metadata": {
    "trusted": false
   },
   "cell_type": "code",
   "source": "\"\"\"\nProblem: 561\nWrite a Python program to count the number of occurrences of a specific phrase in a block of text. Use count().\n\"\"\"\n\ndef count_phrase_occurrences(text, phrase):\n    return text.count(phrase)\n\ntext = \"\"\"The quick brown fox jumps over the lazy dog. The fox is quick and clever.\nQuick thinking by the fox saved the day. Foxes are known to be quick and agile.\"\"\"\nphrase = \"quick\"\nprint(count_phrase_occurrences(text, phrase))",
   "execution_count": null,
   "outputs": []
  },
  {
   "metadata": {
    "trusted": false
   },
   "cell_type": "code",
   "source": "\"\"\"\nProblem: 562\nWrite a function to count the number of occurrences of a word in a list of words. Use count().\n\"\"\"\n\ndef count_word_occurrences(lst, word):\n    return lst.count(word)\n\nwords = [\"apple\", \"banana\", \"apple\", \"orange\", \"banana\", \"apple\"]\nword_to_count = \"apple\"\nprint(count_word_occurrences(words, word_to_count))",
   "execution_count": null,
   "outputs": []
  },
  {
   "metadata": {
    "trusted": false
   },
   "cell_type": "code",
   "source": "\"\"\"\nProblem: 563\nWrite a Python program to count how many times the letter ‘x’ appears in a list of mixed data types. Use count().\n\"\"\"\n\ndef count_x_in_mixed_list(lst):\n    count = 0\n    for item in lst:\n\n        if isinstance(item, str):\n            count += item.count('x')\n    return count\n\nmixed_list = [1, \"xylophone\", 3.5, \"example\", \"box\", 7, \"text\", [\"x\", \"x\"], \"extra\"]\nprint(count_x_in_mixed_list(mixed_list))",
   "execution_count": null,
   "outputs": []
  },
  {
   "metadata": {
    "trusted": false
   },
   "cell_type": "code",
   "source": "\"\"\"\nProblem: 564\nWrite a function to count the occurrences of a specific letter in a string and return a formatted message with the result. Use count().\n\"\"\"\n\ndef count_letter_occurrences(string, letter):\n    count = string.count(letter)\n    \n    return f\"The letter '{letter}' appears {count} times in the given string.\"\n\ntext = \"This is an example sentence with several letters.\"\nletter_to_count = \"e\"\nprint(count_letter_occurrences(text, letter_to_count))",
   "execution_count": null,
   "outputs": []
  },
  {
   "metadata": {
    "trusted": false
   },
   "cell_type": "code",
   "source": "\"\"\"\nProblem: 565\nSquare List Elements: Write a function that takes a list of numbers and returns a list of their squares using map().\n\"\"\"\n\ndef square_lst(lst):\n    return list(map(square, lst))\n\ndef square(num):\n    return num ** 2\n\nlst = [2, 4, 6, 8]\nprint(square_lst(lst))",
   "execution_count": null,
   "outputs": []
  },
  {
   "metadata": {
    "trusted": false
   },
   "cell_type": "code",
   "source": "\"\"\"\nProblem: 566\nFilter Odd Numbers: Write a function that takes a list of numbers and returns only the odd numbers using filter().\n\"\"\"\n\ndef filter_odd_numbers(lst):\n    return list(filter(is_odd, lst))\n\ndef is_odd(x):\n    return x % 2 != 0\n\nlst = [1, 2, 3, 4, 5, 6, 7, 8, 9]\nprint(filter_odd_numbers(lst))",
   "execution_count": null,
   "outputs": []
  },
  {
   "metadata": {
    "trusted": false
   },
   "cell_type": "code",
   "source": "\"\"\"\nProblem: 567\nFilter Even Numbers: Write a function that filters all even numbers from a list using filter().\n\"\"\"\n\ndef filters_even_numbers(lst):\n    return list(filter(even_num, lst))\n\ndef even_num(num):\n    if num % 2 != 0:\n        return num\n\nlst = [4, 67, 2, 78, 3, 1, 466, 7]\nprint(filters_even_numbers(lst))",
   "execution_count": null,
   "outputs": []
  },
  {
   "metadata": {
    "trusted": false
   },
   "cell_type": "code",
   "source": "\"\"\"\nProblem: 568\nConvert to Uppercase: Write a function that takes a list of strings and returns the same list with each string converted to uppercase using map().\n\"\"\"\n\ndef convert_to_uppercase(lst):\n    return list(map(str.upper, lst))\n\nlst = [\"sleep\", \"walk\", \"eat\"]    \nprint(convert_to_uppercase(lst))",
   "execution_count": null,
   "outputs": []
  },
  {
   "metadata": {
    "trusted": false
   },
   "cell_type": "code",
   "source": "\"\"\"\nProblem: 569\nRemove Empty Strings: Write a function that filters out empty strings from a list using filter().\n\"\"\"\n\ndef empty_strings(lst):\n    return list(filter(call_filter, lst))\n    \ndef call_filter(string):\n    return string.strip() != \"\"\n    \nlst = [\"dog\", \"  \", \"cat\"]    \nprint(empty_strings(lst))",
   "execution_count": null,
   "outputs": []
  },
  {
   "metadata": {
    "trusted": false
   },
   "cell_type": "code",
   "source": "\"\"\"\nProblem: 570\nMultiply List Elements: Write a function that takes a list of numbers and returns a list where each number is multiplied by 5 using map().\n\"\"\"\n\ndef multiply_lst(lst):\n    \n    def multiply_by_five(x):\n        return x * 5\n    \n    return list(map(multiply_by_five, lst))\n\nlst = [2, 5, 20]\nprint(multiply_lst(lst))",
   "execution_count": null,
   "outputs": []
  },
  {
   "metadata": {
    "trusted": false
   },
   "cell_type": "code",
   "source": "\"\"\"\nProblem: 571\nString Lengths: Write a function that takes a list of strings and returns their lengths using map().\n\"\"\"\n\ndef lst_of_string(lst):\n    \n    def len_string(word):\n        return len(word)\n    return list(map(len_string, lst))\n        \nlst = [\"hot\", \"cold\", \"giraffe\"]\nprint(lst_of_string(lst))",
   "execution_count": null,
   "outputs": []
  },
  {
   "metadata": {
    "trusted": false
   },
   "cell_type": "code",
   "source": "\"\"\"\nProblem: 572\nFilter Palindromes: Write a function that filters out palindromes (words that read the same backward) from a list using filter().\n\"\"\"\n\ndef palindromes(lst):\n    \n    def filter_palindrome(word):\n        if word != word[::-1]:\n            return word\n            \n    return list(filter(filter_palindrome, lst))\n               \nlst = [\"radar\", \"red\", \"blue\", \"level\", \"noon\"]\nprint(palindromes(lst))",
   "execution_count": null,
   "outputs": []
  },
  {
   "metadata": {
    "trusted": false
   },
   "cell_type": "code",
   "source": "\"\"\"\nProblem: 573\nSum of List: Write a function that calculates the sum of a list of numbers using reduce().\n\"\"\"\n\nfrom functools import reduce\n\ndef sum_of_lst(lst):\n    \n    def add(x, y):\n        return x + y\n        \n    return reduce(add, lst)\n\nlst = [1, 2, 3, 4, 5]\nprint(sum_of_list(lst))\n\ndef add(x, y):\n    return x + y\n\ndef sum_of_list(lst):\n    return reduce(add, lst)\n\nlst = [1, 2, 3, 4, 5]\nprint(sum_of_list(lst))",
   "execution_count": null,
   "outputs": []
  },
  {
   "metadata": {
    "trusted": false
   },
   "cell_type": "code",
   "source": "\"\"\"\nProblem: 574\nProduct of List: Write a function that computes the product of a list of numbers using reduce().\n\"\"\"\n\nfrom functools import reduce\n\ndef sum_of_lst(lst):\n    \n    def add(x, y):\n        return x * y\n        \n    return reduce(add, lst)\n\nlst = [1, 2, 3, 4, 5]\nprint(sum_of_list(lst))\n\ndef multiply(x, y):\n    return x * y\n\ndef product_of_list(lst):\n    return reduce(multiply, lst)\n\nlst = [1, 2, 3, 4, 5]\nprint(product_of_list(lst))",
   "execution_count": null,
   "outputs": []
  },
  {
   "metadata": {
    "trusted": false
   },
   "cell_type": "code",
   "source": "\"\"\"\nProblem: 575\nCapitalize Strings: Write a function that takes a list of strings and returns the list with each string capitalized using map().\n\"\"\"\n\ndef lst_strings(lst):\n    \n    def capitalize_lst(word):\n        word = word.capitalize()\n        return word\n        \n    return list(map(capitalize_lst, lst))\n    \n    \nlst = [\"today\", \"hello\", \"sunshine\"]\nprint(lst_strings(lst))",
   "execution_count": null,
   "outputs": []
  },
  {
   "metadata": {
    "trusted": false
   },
   "cell_type": "code",
   "source": "\"\"\"\nProblem: 576\nFind Minimum: Write a function that finds the minimum number in a list using reduce().\n\"\"\"\n\nfrom functools import reduce\n\ndef min_number(x, y):\n    return x if x < y else y\n\ndef number_lst(lst):\n    return reduce(min_number, lst)\n\nlst = [34, 67, 1, 778]    \nprint(number_lst(lst))",
   "execution_count": null,
   "outputs": []
  },
  {
   "metadata": {
    "trusted": false
   },
   "cell_type": "code",
   "source": "\"\"\"\nProblem: 577\nFind Maximum: Write a function that finds the maximum number in a list using reduce().\n\"\"\"\n\nfrom functools import reduce\n\ndef min_number(x, y):\n    return x if x > y else y\n\ndef number_lst(lst):\n    return reduce(min_number, lst)\n\nlst = [34, 67, 1, 778]    \nprint(number_lst(lst))",
   "execution_count": null,
   "outputs": []
  },
  {
   "metadata": {
    "trusted": false
   },
   "cell_type": "code",
   "source": "\"\"\"\nProblem: 578\nFilter Short Words: Write a function that filters out words shorter than 4 characters from a list using filter().\n\"\"\"\n\ndef list_words(lst):\n    \n    def filter_word(word):\n        if len(word) > 3:\n            return word\n            \n    return list(filter(filter_word, lst))\n    \n    \nlst = [\"bot\", \"not\", \"boat\", \"chop\"]    \nprint(list_words(lst))",
   "execution_count": null,
   "outputs": []
  },
  {
   "metadata": {
    "trusted": false
   },
   "cell_type": "code",
   "source": "\"\"\"\nProblem: 579\nConcatenate Strings: Write a function that concatenates all strings in a list using reduce().\n\"\"\"\n\nfrom functools import reduce\n\ndef lst_strings(lst):\n    \n    def concatenate_lst(x, y):\n        return x + y\n        \n    return reduce(concatenate_lst, lst)\n    \n\nlst = [\"to\", \"day\", \"is\", \"great\"]    \nprint(lst_strings(lst)) ",
   "execution_count": null,
   "outputs": []
  },
  {
   "metadata": {
    "trusted": false
   },
   "cell_type": "code",
   "source": "\"\"\"\nProblem: 580\nFilter Positive Numbers: Write a function that filters only positive numbers from a list using filter().\n\"\"\"\n\ndef num_lst(lst):\n    \n    def filter_num(num):\n        if num > 1:\n            return num\n    return list(filter(filter_num, lst))\n    \nlst = [-45, 4, 5, -56, 6]    \nprint(num_lst(lst))",
   "execution_count": null,
   "outputs": []
  },
  {
   "metadata": {
    "trusted": false
   },
   "cell_type": "code",
   "source": "\"\"\"\nProblem: 581\nCube List Elements: Write a function that returns a list where each element of the input list is cubed using map().\n\"\"\"\n\ndef num_lst(lst):\n    \n    def cubed_num(num):\n        return num ** 3\n            \n    return list(map(cubed_num, lst))\n\nlst = [-45, 4, 5, -56, 6]    \nprint(num_lst(lst))",
   "execution_count": null,
   "outputs": []
  },
  {
   "metadata": {
    "trusted": false
   },
   "cell_type": "code",
   "source": "\"\"\"\nProblem: 582\nSum of Squares: Write a function that returns the sum of squares of a list of numbers using map() and reduce().\n\"\"\"\n\nfrom functools import reduce\n\ndef lst_numbers(lst):\n    \n    def square_number(num):\n        return num ** 2\n\n    def add(x, y):\n        return x + y\n    \n    squared_lst = map(square_number, lst)\n    return reduce(add, squared_lst)\n\nlst = [2, 4, 6, 8]    \nprint(lst_numbers(lst))",
   "execution_count": null,
   "outputs": []
  },
  {
   "metadata": {
    "trusted": false
   },
   "cell_type": "code",
   "source": "\"\"\"\nProblem: 583\nCombine Names: Write a function that takes two lists (first names, last names) and returns a list of full names using map().\n\"\"\"\n\ndef lst_2(lst1, lst2):\n    \n    def combine_names(first_last):\n        return f\"{first_last[0]} {first_last[1]}\"\n        \n    return list(map(combine_names, zip(lst1, lst2)))\n    \nlst1 = [\"Tom\", \"Bob\"]\nlst2 = [\"Dupond\", \"lesnake\"]    \nprint(lst_2(lst1, lst2))",
   "execution_count": null,
   "outputs": []
  },
  {
   "metadata": {
    "trusted": false
   },
   "cell_type": "code",
   "source": "\"\"\"\nProblem: 584\nFilter Non-Alphabetic Strings: Write a function that filters out strings that contain non-alphabetic characters using filter().\n\"\"\"\n\ndef non_alphabetical_string(string):\n    \n    def non_alph(char):\n        return char.isalpha()\n            \n    return ''.join(filter(non_alph, string))\n           \nstring = \"whats up dog !?!@$\"\nprint(non_alphabetical_string(string))",
   "execution_count": null,
   "outputs": []
  },
  {
   "metadata": {
    "trusted": false
   },
   "cell_type": "code",
   "source": "\"\"\"\nProblem: 585\nCount Words: Write a function that counts how many times each word appears in a list using reduce()\n\"\"\"\n\nfrom functools import reduce\n\ndef lst_words(lst):\n    \n    def count_word(counts, word):\n        if word in counts:\n            counts[word] += 1\n        else:\n            counts[word] = 1\n        return counts\n        \n    return reduce(count_word, lst, {})\n\nlst = [\"Jon\", \"Chris\", \"Mike\", \"Chris\", \"Chris\"]    \nprint(lst_words(lst))",
   "execution_count": null,
   "outputs": []
  },
  {
   "metadata": {
    "trusted": false
   },
   "cell_type": "code",
   "source": "\"\"\"\nProblem: 586\nUnique Words: Write a function that filters out only unique words from a list using filter() and a helper function.\n\"\"\"\n\ndef unique_words(lst):\n    \n    def is_unique(word):\n        return lst.count(word) == 1\n        \n    return list(filter(is_unique, lst))\n\nwords = [\"apple\", \"banana\", \"apple\", \"orange\", \"kiwi\", \"banana\"]\nprint(unique_words(words))",
   "execution_count": null,
   "outputs": []
  },
  {
   "metadata": {
    "trusted": false
   },
   "cell_type": "code",
   "source": "\"\"\"\nProblem: 587\nWord Lengths Greater Than N: Write a function that filters words with a length greater than n using filter().\n\"\"\"\n\ndef word_lst(lst):\n    \n    def filter_word(word):\n        if len(word) > n:\n            return word\n            \n    return list(filter(filter_word, lst))\n    \nlst = [\"not\", \"four\", \"September\", \"October\"]\nn = 4\nprint(word_lst(lst))",
   "execution_count": null,
   "outputs": []
  },
  {
   "metadata": {
    "trusted": false
   },
   "cell_type": "code",
   "source": "\"\"\"\nProblem: 588\nApply Multiple Functions: Write a function that applies two different functions to a list, one after another (e.g., first squares the numbers, then filters out even ones).\n\"\"\"\n\ndef apply_lsts(lst):\n    \n    def square_num(num):\n        return num * num\n        \n    def filter_num(num):\n        return num % 2 != 0 \n    \n    squared_lst = list(map(square_num, lst))\n    \n    filtered_lst = list(filter(filter_num, squared_lst))\n    \n    \n    return filtered_lst\n\nlst = [2, 4, 2, 3, 5, 22, 3, 8]    \nprint(apply_lsts(lst))",
   "execution_count": null,
   "outputs": []
  },
  {
   "metadata": {
    "trusted": false
   },
   "cell_type": "code",
   "source": "\"\"\"\nProblem: 589\nSum of Nested Lists: Write a function that flattens and sums all elements of a nested list using map() and reduce().\n\"\"\"\n\nfrom functools import reduce\n\ndef sum_of_nested(lst):\n    \n    def flatten(nested_list):\n        flat_list = []\n        for item in nested_list:\n            if isinstance(item, list):\n                flat_list.extend(flatten(item))\n            else:\n                flat_list.append(item)\n        return flat_list\n\n    flattened_list = flatten(lst)\n    \n    return reduce(lambda x, y: x + y, flattened_list)\n\nnested_list = [[1, 2], [3, [4, 5]], [6, [7, [8, 9]]]]\nprint(sum_of_nested(nested_list))",
   "execution_count": null,
   "outputs": []
  },
  {
   "metadata": {
    "trusted": false
   },
   "cell_type": "code",
   "source": "\"\"\"\nProblem: 590\nFirst N Fibonacci Numbers: Write a function that generates the first N Fibonacci numbers using reduce().\n\"\"\"\n\nfrom functools import reduce\n\ndef fibonacci_n_numbers(n):\n    \n    def fib(acc, _):\n        return acc + [acc[-1] + acc[-2]]\n        \n    return reduce(fib, range(n - 2), [0, 1])[:n]\n\nprint(fibonacci_n_numbers(10))",
   "execution_count": null,
   "outputs": []
  },
  {
   "metadata": {
    "trusted": false
   },
   "cell_type": "code",
   "source": "\"\"\"\nProblem: 591\nCount Vowels in Strings: Write a function that counts how many vowels are present in each string of a list using map() and a helper function.\n\"\"\"\n\ndef lst_string(lst):\n    \n    def count_vowels(word):\n        vowels = \"aeiou\"\n        count = 0\n        for char in word:\n            if char in vowels:\n                count += 1\n        return count\n        \n    return list(map(count_vowels, lst))\n    \n    \nlst = [\"Jonathan\", \"mountain\", \"lion\"]    \nprint(lst_string(lst))",
   "execution_count": null,
   "outputs": []
  },
  {
   "metadata": {
    "trusted": false
   },
   "cell_type": "code",
   "source": "\"\"\"\nProblem: 592\nSum of Even Numbers: Write a function that computes the sum of all even numbers in a list using filter() and reduce().\n\"\"\"\n\nfrom functools import reduce\n\ndef sum_even_numbers(lst):\n    def is_even(num):\n        return num % 2 == 0\n\n    def sum_numbers(x, y):\n        return x + y\n\n    even_numbers = filter(is_even, lst)\n    return reduce(sum_numbers, even_numbers)\n\nlst = [1, 2, 3, 4, 5, 6]\nprint(sum_even_numbers(lst))",
   "execution_count": null,
   "outputs": []
  },
  {
   "metadata": {
    "trusted": false
   },
   "cell_type": "code",
   "source": "\"\"\"\nProblem: 593\nFind Longest String: Write a function that finds the longest string in a list using reduce().\n\"\"\"\n\nfrom functools import reduce\n\ndef lst_string(lst):\n    \n    def longest_string(x, y):\n        if len(x) > len(y):\n            return x\n        else:\n            return y\n        \n    return reduce(longest_string, lst)\n        \nlst = [\"shop\", \"mountain\", \"not\"]\nprint(lst_string(lst))",
   "execution_count": null,
   "outputs": []
  },
  {
   "metadata": {
    "trusted": false
   },
   "cell_type": "code",
   "source": "\"\"\"\nProblem: 594\nCumulative Sum: Write a function that returns a list of cumulative sums of a given list using reduce().\n\"\"\"\n\nfrom functools import reduce\n\ndef lst_num(lst):\n    \n    def cumulative(x, y):\n       return x + y\n        \n    return reduce(cumulative, lst)\n        \nlst = [2, 2, 2, 2, 2]\nprint(lst_num(lst))",
   "execution_count": null,
   "outputs": []
  },
  {
   "metadata": {
    "trusted": false
   },
   "cell_type": "code",
   "source": "\"\"\"\nProblem: 595\nFlatten Nested Lists: Write a function that flattens a list of lists into a single list using reduce().\n\"\"\"\n\nfrom functools import reduce\n\ndef flatten(lst):\n    \n    def concatenate(x, y):\n        return x + y\n    return reduce(concatenate, lst)\n\nnested_list = [[1, 2, 3], [4, 5], [6, 7, 8]]\nflattened_list = flatten(nested_list)\nprint(flattened_list)",
   "execution_count": null,
   "outputs": []
  },
  {
   "metadata": {
    "trusted": false
   },
   "cell_type": "code",
   "source": "\"\"\"\nProblem: 596\nWord Frequency Count: Write a function that counts the frequency of each word in a list using reduce().\n\"\"\"\n\nfrom functools import reduce\n\ndef lst_words(lst):\n    \n    def count_frequency(result, word):\n        if word in result:\n            result[word] += 1\n        else:\n            result[word] = 1\n        return result\n    \n    return reduce(count_frequency, lst, {})\n\nlst = [\"word\", \"sentence\", \"paragraph\", \"word\", \"word\"]    \nprint(lst_words(lst))",
   "execution_count": null,
   "outputs": []
  },
  {
   "metadata": {
    "trusted": false
   },
   "cell_type": "code",
   "source": "\"\"\"\nProblem: 597\nAnagram Filter: Write a function that filters out words that are anagrams of a given word using filter().\n\"\"\"\n\ndef lst_words(lst, target_word):\n    \n    def anagram_filter(word):\n        return sorted(word) != sorted(target_word)\n\n    return list(filter(anagram_filter, lst))\n\nlst = [\"listen\", \"sentence\", \"stop\", \"word\", \"rat\", \"trail\"]\ntarget_word = \"listen\"\nfiltered_words = lst_words(lst, target_word)\nprint(filtered_words)",
   "execution_count": null,
   "outputs": []
  },
  {
   "metadata": {
    "trusted": false
   },
   "cell_type": "code",
   "source": "\"\"\"\nProblem: 598\nCompose Functions: Write a function that takes two functions and composes them (i.e., applies one after another).\n\"\"\"\n\ndef compose(func1, func2):\n    \n    def composed_function(x):\n        return func2(func1(x))\n    return composed_function\n\ndef add_one(x):\n    return x + 1\n\ndef multiply_by_two(x):\n    return x * 2\n\ncomposed_function = compose(add_one, multiply_by_two)\n\nresult = composed_function(5)  # (5 + 1) * 2\nprint(result)  # Output: 12",
   "execution_count": null,
   "outputs": []
  },
  {
   "metadata": {
    "trusted": false
   },
   "cell_type": "code",
   "source": "\"\"\"\nProblem: 599\nGroup By Length: Write a function that groups words by their lengths using reduce().\n\"\"\"\n\nfrom functools import reduce\n\ndef word_string(string):\n    words = string.split()\n    \n    def sort_len_words(x, y):\n        if len(x) == 0:\n            return [y]\n        if len(y) >= len(x[-1]):\n            x.append(y)\n            return x\n        else:\n            x.insert(0, y)\n            return x\n\n    return reduce(sort_len_words, words, [])\n\nstring = \"let's group words by the length\"\nprint(word_string(string))",
   "execution_count": null,
   "outputs": []
  },
  {
   "metadata": {
    "trusted": true
   },
   "cell_type": "code",
   "source": "\"\"\"\nProblem: 600\nFilter Prime Numbers: Write a function that filters prime numbers from a list using filter() and a helper function to check for primality.\n\"\"\"\n\ndef is_prime(n):\n    if n <= 1:\n        return False\n    for i in range(2, int(n**0.5) + 1):\n        if n % i == 0:\n            return False\n    return True\n\ndef filter_primes(lst):\n    return list(filter(is_prime, lst))\n\nnumbers = [1, 2, 3, 4, 5, 6, 7, 8, 9, 10, 11, 12, 13]\nprime_numbers = filter_primes(numbers)\nprint(prime_numbers)",
   "execution_count": null,
   "outputs": []
  }
 ],
 "metadata": {
  "kernelspec": {
   "name": "python3",
   "display_name": "Python 3",
   "language": "python"
  },
  "language_info": {
   "name": "python",
   "version": "3.10.4",
   "mimetype": "text/x-python",
   "codemirror_mode": {
    "name": "ipython",
    "version": 3
   },
   "pygments_lexer": "ipython3",
   "nbconvert_exporter": "python",
   "file_extension": ".py"
  }
 },
 "nbformat": 4,
 "nbformat_minor": 2
}