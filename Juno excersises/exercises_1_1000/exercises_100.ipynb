{
 "cells": [
  {
   "metadata": {
    "trusted": true,
    "collapsed": true
   },
   "cell_type": "code",
   "source": "\"\"\"\nProblem 1:\nWrite a Python function called `add_numbers` that takes two numbers as parameters and returns their sum.\n\"\"\"\n\ndef add_number(a, b):\n    return a + b\n    \nprint(add_number(5, 5))\n    \n#hardcoded\ndef add_num(a, b):\n    result = a + b\n    return result\n    \nprint(add_num(5, 5))",
   "execution_count": 1,
   "outputs": [
    {
     "output_type": "stream",
     "text": "10\n10\n",
     "name": "stdout"
    }
   ]
  },
  {
   "metadata": {
    "trusted": false
   },
   "cell_type": "code",
   "source": "\"\"\"\nProblem 2:\nWrite a Python function called `multiply_numbers` that takes two numbers as parameters and returns their product.\n\"\"\"\n\ndef multiply_numbers(a, b):\n    return a * b\n    \nprint(multiply_numbers(5, 5))",
   "execution_count": null,
   "outputs": []
  },
  {
   "metadata": {
    "trusted": false
   },
   "cell_type": "code",
   "source": "\"\"\"\nProblem 3:\nWrite a Python function called `find_max` that takes a list of numbers as input and returns the maximum number in the list.\n\"\"\"\n\ndef find_max(number):\n    return max(number)\n\nresult = [2, 67, 300]    \nprint(find_max(result))\n        \ndef find_max(numbers):\n    max_number = numbers[0]\n    \n    for num in numbers:\n        if num > max_number:\n            max_number = num\n    return max_number\n    \nnumbers_list = [5, 100, 3, 8, 15]\nprint(\"The maximum number in the list is:\", find_max(numbers_list))",
   "execution_count": null,
   "outputs": []
  },
  {
   "metadata": {
    "trusted": false
   },
   "cell_type": "code",
   "source": "\"\"\"\nProblem 4:\nWrite a Python function called `calculate_average` that takes a list of numbers as input and returns the average of those numbers. Use sum() and len().\n\"\"\"\n\ndef calculate_average(number):\n    result = sum(number) / len(number)\n    return result\n    \nlst = [1, 67, 888]\nprint(calculate_average(lst))\n    \n#hardcoded\ndef cal_average(number):\n    result = sum(number) / len(number)\n    \n    return result\n    \nlst = [44,67,54]    \nprint(cal_average(lst))",
   "execution_count": null,
   "outputs": []
  },
  {
   "metadata": {
    "trusted": false
   },
   "cell_type": "code",
   "source": "\"\"\"\nProblem 5:\nWrite a Python function called `count_vowels` that takes a string as input and returns the count of vowels (a, e, i, o, u) in the string. Ignore case sensitivity.\n\"\"\"\ndef count_vowels(string):\n    count = 0\n    \n    for char in string:\n        if char in \"aeiou\":\n            count += 1\n    return count\n    \nresult = \"Jonathan\"\nprint(count_vowels(result))",
   "execution_count": null,
   "outputs": []
  },
  {
   "metadata": {
    "trusted": false
   },
   "cell_type": "code",
   "source": "\"\"\"\nProblem 6:\nWrite a Python function called `reverse_string` that takes a string as input and returns the reverse of that string.\n\"\"\"\n    \ndef reverse_string(string):\n    string = string[::-1]\n    \n    return string\n    \nresult = \"Jonathan\"\nprint(reverse_string(result))",
   "execution_count": null,
   "outputs": []
  },
  {
   "metadata": {
    "trusted": false
   },
   "cell_type": "code",
   "source": "\"\"\"\nProblem 7:\nWrite a Python function called `is_even` that takes an integer as input and returns True if the number is even, and False otherwise.\n\"\"\"\n\ndef is_even(number):\n    return number % 2 == 0\n               \nresult = 10        \nprint(is_even(result))",
   "execution_count": null,
   "outputs": []
  },
  {
   "metadata": {
    "trusted": false
   },
   "cell_type": "code",
   "source": "\"\"\"\nProblem 8:\nWrite a Python function called `calculate_square` that takes a number as input and returns the square of that number.\n\"\"\"\n\ndef cal_square(number):\n    return number ** number\n       \nnum = 9\nprint(cal_square(num))\n\ndef calculate_sqaure(number):\n    square = number * number\n    \n    return square\n    \nprint(calculate_sqaure(6))",
   "execution_count": null,
   "outputs": []
  },
  {
   "metadata": {
    "trusted": false
   },
   "cell_type": "code",
   "source": "\"\"\"\nProblem 9:\nWrite a Python function called `greet_user` that takes a string `name` as input and prints a greeting message in the format \"Hello, [name]!\".\n\"\"\"\n\ndef greet_user(string):\n    return f\"hello {string}\"\n        \nprint(greet_user(\"Jonathan\"))",
   "execution_count": null,
   "outputs": []
  },
  {
   "metadata": {
    "trusted": false
   },
   "cell_type": "code",
   "source": "\"\"\"\nProblem 10:\nWrite a Python function called `square_list` that takes a list of numbers as input and returns a new list with each number squared.\n\"\"\"\n\ndef square_lst(numbers):\n    squared_numbers = []\n    \n    for number in numbers:\n        squared_numbers.append(number ** 2)\n    return squared_numbers\n    \nresult = [2, 4, 5, 6]\nprint(square_lst(result))",
   "execution_count": null,
   "outputs": []
  },
  {
   "metadata": {
    "trusted": false
   },
   "cell_type": "code",
   "source": "\"\"\"\nProblem 11:\nWrite a Python function called `convert_to_uppercase` that takes a string as input and returns the string with all its characters converted to uppercase.\n\"\"\"\n\ndef covert_uppercase(string):\n    return string.upper()\n    \nprint(covert_uppercase(\"Jonathan\"))",
   "execution_count": null,
   "outputs": []
  },
  {
   "metadata": {
    "trusted": false
   },
   "cell_type": "code",
   "source": "\"\"\"\nProblem 12:\nWrite a Python function called `calculate_sum` that takes a list of numbers as input and returns the sum of all the numbers in the list.\n\"\"\"\n\ndef calculate_sum(number):\n    return sum(number)\n\nlst = [1, 56, 778]    \nprint(calculate_sum(lst))\n\n#hardcoded\ndef cal_sum(numbers):\n    count = 0\n    \n    for number in numbers:\n        count += number\n    return count\n    \nlst = [1, 56, 778]\nprint(cal_sum(lst))",
   "execution_count": null,
   "outputs": []
  },
  {
   "metadata": {
    "trusted": false
   },
   "cell_type": "code",
   "source": "\"\"\"\nProblem 13:\nWrite a Python function called `is_odd` that takes an integer as input and returns True if the number is odd, and False otherwise.\n\"\"\"\ndef is_odd(number):\n    return number % 2 == 0\n\nprint(is_odd(10))",
   "execution_count": null,
   "outputs": []
  },
  {
   "metadata": {
    "trusted": false
   },
   "cell_type": "code",
   "source": "\"\"\"\nProblem 14:\nWrite a Python function called `concatenate_strings` that takes two strings as input and returns a new string that is the concatenation of the two input strings.\n\"\"\"\n\ndef concatenate_strings(string1, string2):\n    concatenate = string1 + string2\n    return concatenate\n       \nlst1 = \"Jonathan\"\nlst2 = \"moll\"\nprint(concatenate_strings(lst1, lst2))\n\ndef concatenate_string(string1, string2):\n    return string1 + string2\n    \nprint(concatenate_string(\"Jonathan\", \"moll\"))",
   "execution_count": null,
   "outputs": []
  },
  {
   "metadata": {
    "trusted": false
   },
   "cell_type": "code",
   "source": "\"\"\"\nProblem 15:\nWrite a Python function called `find_length` that takes a string as input and returns the length of that string.\n\"\"\"\n\ndef find_length(string):\n    return len(string)\n\nprint(find_length(\"Jonathan\"))\n\ndef find_len(string):\n    count = 0\n    \n    for char in string:\n        count += 1\n    return count\n        \nprint(find_len(\"Jonathan\"))",
   "execution_count": null,
   "outputs": []
  },
  {
   "metadata": {
    "trusted": false
   },
   "cell_type": "code",
   "source": "\"\"\"\nProblem 16:\nWrite a Python function called `is_palindrome` that takes a string as input and returns True if the string is a palindrome (reads the same forwards and backwards), and False otherwise.\n\"\"\"\ndef is_palindrome(string):\n    string = string.replace(\" \", \"\").lower()\n    \n    return string == string[::-1]\n    \nprint(is_palindrome(\"rad ar\"))",
   "execution_count": null,
   "outputs": []
  },
  {
   "metadata": {
    "trusted": false
   },
   "cell_type": "code",
   "source": "\"\"\"\nProblem 17:\nWrite a Python function called `count_words` that takes a string as input and returns the number of words in the string. Assume that words are separated by spaces.\n\"\"\"\n\ndef count_words(string):\n    words = string.split()\n    word_count = 0\n    \n    for word in words:\n        word_count += 1\n    \n    return word_count\n\nexample_string = \"This is an example sentence.\"\nprint(count_words(example_string))\n\ndef count_words(string):\n    words = string.split()\n    return len(words)",
   "execution_count": null,
   "outputs": []
  },
  {
   "metadata": {
    "trusted": false
   },
   "cell_type": "code",
   "source": "\"\"\"\nProblem 18:\nWrite a Python function called `find_min` that takes a list of numbers as an input argument and returns the minimum number in the list.\n\"\"\"\n\ndef find_min():\n    user = input(\"type number: \").split()\n    int_number = []\n    for number in user:\n        int_number.append(int(number))\n        \n    min_num = sorted(int_number)[0]\n    for number in int_number:\n        if min_num < 0:\n            min_num = number\n    print(min_num)\n    \nfind_min()\n\ndef find_min(numbers):\n    return min(numbers)\n\nlst = [1, 56, 68]\nprint(find_min(lst))\n\ndef find_minimum(numbers):\n    min_number = numbers[0]\n    \n    for number in numbers:\n        if number < min_number:\n            min_number = number\n    return min_number\n    \nmin_number = [45, 6, 1]\nprint(find_minimum(min_number))",
   "execution_count": null,
   "outputs": []
  },
  {
   "metadata": {
    "trusted": false
   },
   "cell_type": "code",
   "source": "\"\"\"\nProblem 19:\nWrite a Python function called `is_even_index_sum` that takes a list of numbers as input and returns True if the sum of the numbers at even indices is even, and False otherwise. Assume that the first index is considered as index 0.\n\"\"\"\n\ndef is_even_index_sum(numbers):\n    even_index_sum = 0\n    for i in range(len(numbers)):\n        if i % 2 == 0:\n            even_index_sum += numbers[i]\n    \n    return even_index_sum % 2 == 0\n\nlst = [100, 200, 300, 400]\nprint(is_even_index_sum(lst))",
   "execution_count": null,
   "outputs": []
  },
  {
   "metadata": {
    "trusted": false
   },
   "cell_type": "code",
   "source": "\"\"\"\nProblem 20:\nWrite a Python function called `double_elements` that takes a list of numbers as input and returns a new list where each element is doubled.\n\"\"\"\n\ndef double_elements(elements):\n    doubled = []\n    for element in elements:\n        doubled.append(element)\n        doubled.append(element)\n        \n    return doubled\n\nlst = [\"tree\", \"shop\", \"car\"]\nprint(double_elements(lst))\n\ndef double_elements(numbers):\n    doubled_numbers = []\n    for num in numbers:\n        doubled_numbers.append(num * 2)\n    \n    return doubled_numbers\n\nnumbers_list = [1, 2, 3, 4, 5]\nprint(\"The list with doubled elements is:\", double_elements(numbers_list))",
   "execution_count": null,
   "outputs": []
  },
  {
   "metadata": {
    "trusted": false
   },
   "cell_type": "code",
   "source": "\"\"\"\nProblem 21:\nWrite a Python function called `is_all_positive` that takes a list of numbers as input and returns True if all the numbers in the list are positive (greater than zero), and False otherwise.\n\"\"\"\n\ndef is_all_positive(numbers):\n    for number in numbers:\n        if number <= 0:\n            return False\n    return True\n              \nlst = [0, 6, 8]\nprint(is_all_positive(lst))",
   "execution_count": null,
   "outputs": []
  },
  {
   "metadata": {
    "trusted": false
   },
   "cell_type": "code",
   "source": "\"\"\"\nProblem 22:\nWrite a Python function called `find_average` that takes a list of numbers as input and returns the average of those numbers.\n\"\"\"\n\ndef find_average(numbers):\n    total_average = sum(numbers) / len(numbers)\n    return total_average\n    \nlst = [4, 67, 77,]\nprint(find_average(lst))\n\ndef find_average_lst(numbers):\n    total = 0\n    count = 0\n    for number in numbers:\n        total += number\n        count += 1\n        \n    if count > 0:\n        average = total / count\n    return average\n        \n    \nlst = [1, 56, 66]\nprint(find_average_lst(lst))\n\ndef find_average_lst(numbers):\n    total = 0\n    count = 0\n    for number in numbers:\n        total += number\n        count += 1\n        \n    average = total / count\n    return average\n        \n    \nlst = [1, 56, 66]\nprint(find_average_lst(lst))",
   "execution_count": null,
   "outputs": []
  },
  {
   "metadata": {
    "trusted": false
   },
   "cell_type": "code",
   "source": "\"\"\"\nProblem 23:\nWrite a Python function called `contains_negative` that takes a list of numbers as input and returns True if the list contains any negative number, and False otherwise.\n\"\"\"\n\ndef contains_negative(numbers):\n    for number in numbers:\n        if number <= 0:\n            return True\n    return False\n\nlst = [5, -9]    \nprint(contains_negative(lst))",
   "execution_count": null,
   "outputs": []
  },
  {
   "metadata": {
    "trusted": false
   },
   "cell_type": "code",
   "source": "\"\"\"\nProblem 24:\nWrite a Python function called `find_last_element` that takes a list if numbers and returns the last number of the list.\n\"\"\"\n\ndef find_last_element(string):\n    return string[-1]\n    \nlst = [1, 45, 66]\nprint(find_last_element(lst))\n\ndef find_element(elements):\n    last = elements[-1]\n    \n    for element in elements:\n        if element == last:\n            return last\n    \nlst = [1,5]\nprint(find_element(lst))",
   "execution_count": null,
   "outputs": []
  },
  {
   "metadata": {
    "trusted": false
   },
   "cell_type": "code",
   "source": "\"\"\"\nProblem 25:\nWrite a Python function called `multiply_elements` that takes a list of numbers as input and returns the product of all the numbers in the list.\n\"\"\"\n\ndef multiply_elements(numbers):\n    count = 1  \n    for i in range(len(numbers)):\n        count *= numbers[i] \n    return count\n        \narg = [2, 4, 2]\nprint(multiply_elements(arg))\n\ndef multiply_elements(numbers):\n    count = 1\n    for number in numbers:\n        count *= number\n    return count\n    \nlst = [100, 200, 900]\nprint(multiply_elements(lst))\n\ndef multiply_elements(numbers):\n    count = 1\n    for number in numbers:\n        count *= number\n    for number in numbers:\n        count *= number\n    \n    return count\n\narg = [2, 4, 2]\nprint(multiply_elements(arg))",
   "execution_count": null,
   "outputs": []
  },
  {
   "metadata": {
    "trusted": false
   },
   "cell_type": "code",
   "source": "\"\"\"\nProblem 26:\nWrite a Python function called `has_duplicates` that takes a list as input and returns True if the list contains any duplicate elements, and False otherwise.\n\"\"\"\n\ndef has_duplicates(lst):\n    unique = set()\n    common = []\n    for word in lst:\n        if word in unique:\n            common.append(word)\n            return True\n        else:\n            unique.add(word)\n    return False\n                \nlst = [\"it\", \"was\", \"itt\"]\nprint(has_duplicates(lst))\n\ndef has_duplicates():\n    user = input(\"type list: \").split()\n    unique = set()\n    for word in user:\n        if word in unique:\n            print(\"True\")\n            return True\n            \n        unique.add(word)\n        \n    print(\"False\")    \n    return False\nhas_duplicates()\n\ndef has_duplicates():\n    user = input(\"type list: \").split()\n    unique = set()\n\n    for word in user:\n        if word in unique:\n            return True\n        unique.add(word)\n    \n    return False \n\nprint(has_duplicates())\n\ndef has_duplicates(elements):\n    duplicate = set()\n    \n    for element in elements:\n        if element in duplicate:\n            return True\n        duplicate.add(element)\n    return False\n\nlist_with_duplicates = [1, 2, 3, 4, 5, 2]\nlist_without_duplicates = [1, 2, 3, 4, 5]\nprint(\"Does the list have duplicates?\", has_duplicates(list_with_duplicates))",
   "execution_count": null,
   "outputs": []
  },
  {
   "metadata": {
    "trusted": false
   },
   "cell_type": "code",
   "source": "\"\"\"\nProblem 27:\nWrite a Python function called `count_occurrences` that takes a list and an element as input and returns the number of times the element appears in the list.\n\"\"\"\n\ndef count_occurrences(elements, target):\n    count = 0\n    word = \"\"\n    for element in elements:\n        if element == target:\n            word = element\n            count += 1\n    return f\"The word {word} occures {count} times\"\n               \nelements = [\"tree\", \"house\", \"tree\", \"car\"]\ntarget = \"tree\"\nprint(count_occurrences(elements, target))\n\ndef count_occurrences(elements, target):\n    count = 0\n    for element in elements:\n        if element == target:\n            count += 1\n    return count\n\nlist_elements = [1, 2, 3, 4, 5, 2, 2, 3]\ntarget_element = 2\n\nprint(f\"The element {target_element} appears {count_occurrences(list_elements, target_element)} times in the list.\")",
   "execution_count": null,
   "outputs": []
  },
  {
   "metadata": {
    "trusted": false
   },
   "cell_type": "code",
   "source": "\"\"\"\nProblem 28:\nWrite a Python function called `remove_vowels` that takes a string as input and returns a new string with all the vowels (a, e, i, o, u) removed.\n\"\"\"\n\ndef remove_vowels(string):\n    vowels = \"aeiouAEIOU\"\n    result = \"\"\n    for char in string:\n        if char not in vowels:\n            result += char\n\n    return result\n\nlst = \"Jonathan\"\nprint(remove_vowels(lst))\n\ndef remove_vowels(string):\n    vowels = \"aeiou\"\n    vowels_removed = []\n    \n    for char in string:\n        if char not in vowels:\n            vowels_removed.append(char)\n    return \"\".join(vowels_removed)\n            \nlst = \"Jonathan\"\nprint(remove_vowels(lst))",
   "execution_count": null,
   "outputs": []
  },
  {
   "metadata": {
    "trusted": false
   },
   "cell_type": "code",
   "source": "\"\"\"\nProblem 29:\nWrite a Python function called `capitalize_words` that takes a string as input and returns a new string with the first letter of each word capitalized. Assume that words are separated by spaces.\n\"\"\"\n\ndef capitalize_words(sentence):\n    words = sentence.split()  \n    capitalized_words = [] \n    for word in words:\n        capitalized_words.append(word.capitalize())  \n    \n    return \" \".join(capitalized_words) \n\ninput_sentence = \"hello world! this is a test.\"\nprint(\"Capitalized sentence:\", capitalize_words(input_sentence))",
   "execution_count": 4,
   "outputs": [
    {
     "output_type": "stream",
     "text": "Capitalized sentence: HelloWorld!ThisIsATest.\n",
     "name": "stdout"
    }
   ]
  },
  {
   "metadata": {
    "trusted": false
   },
   "cell_type": "code",
   "source": "\"\"\"\nProblem 30:\nWrite a Python function called remove_spaces that takes a string as input and returns a new string with all spaces removed.\n\"\"\"\n\ndef remove_spaces(sentence):\n    return sentence.replace(\" \", \"\")\n    \narg = \"suck me duck Jonathan\"\nprint(remove_spaces(arg))\n\ndef remove_space(string):\n    space_removed = string.replace(\" \", \"\")\n    return space_removed\n    \nlst = \"what just happened\" \nprint(remove_space(lst))\n\ndef remove_spaces(sentence):\n    split_word = sentence.split()\n    result = []\n    for word in split_word:\n        result.append(word)\n    return \"\".join(result)\n    \narg = \"suck me duck Jonathan\"\nprint(remove_spaces(arg))",
   "execution_count": null,
   "outputs": []
  },
  {
   "metadata": {
    "trusted": false
   },
   "cell_type": "code",
   "source": "\"\"\"\nProblem 31:\nWrite a Python function called get_initials that takes a full name (first and last name) as input and returns the initials of the name in uppercase. For example, if the input is “John Doe”, the function should return “J.D.”.\n\"\"\"\n\ndef get_initials(full_name):\n    parts = full_name.split()\n    initials = []\n    for part in parts:\n        initials.append(part[0].upper())\n        \n    return '.'.join(initials) \n\nlst = \"Jonathan moll\"\nprint(get_initials(lst))",
   "execution_count": null,
   "outputs": []
  },
  {
   "metadata": {
    "trusted": false
   },
   "cell_type": "code",
   "source": "\"\"\"\nProblem 32:\nWrite a Python function called reverse_words that takes a string as input and returns a new string with the words reversed. For example, if the input is “hello world”, the function should return “world hello”.\n\"\"\"\ndef reverse_word(string):\n    seperate = string.split()\n    return seperate[::-1]\n    \nlst = \"hello world\"\nprint(reverse_word(lst))\n\ndef reverse_words(words):\n    words = words.split()\n    reversed_words = words[::-1]\n    reversed_sentence = \" \".join(reversed_words)\n    \n    return reversed_sentence\n\nlst = \"Jonathan moll\"\nprint(reverse_words(lst)) ",
   "execution_count": 1,
   "outputs": [
    {
     "output_type": "stream",
     "text": "['world', 'hello']\nmoll Jonathan\n",
     "name": "stdout"
    }
   ]
  },
  {
   "metadata": {
    "trusted": false
   },
   "cell_type": "code",
   "source": "\"\"\"\nProblem 33:\nWrite a Python function called `remove_duplicates` that takes a list as input and returns a new list with duplicate elements removed, while maintaining the original order of elements.\n\"\"\"\n\ndef remove_duplicates(input_list):\n    return list(set(input_list))\n\ninput_list = [1, 2, 3, 1, 4, 2, 5]\nprint(\"List with duplicates removed:\", remove_duplicates(input_list))\n\ndef remove_duplicates(input_list):\n    unique_elements = []\n    for element in input_list:\n        if element not in unique_elements:\n            unique_elements.append(element)\n    return unique_elements\n\ninput_list = [1, 2, 3, 1, 4, 2, 5]\nprint(\"List with duplicates removed:\", remove_duplicates(input_list))",
   "execution_count": null,
   "outputs": []
  },
  {
   "metadata": {
    "trusted": false
   },
   "cell_type": "code",
   "source": "\"\"\"\nProblem 34:\nWrite a Python function called find_longest_word that takes a string of words as input and returns the longest word in the list. If there are multiple longest words, return the first one encountered.\n\"\"\"\n\ndef find_longest_word(words):\n    word_list = words.split()\n\n    return max(word_list, key=len)\n\ninput_string = \"why dont you call Jonathan\"\nprint(\"Longest word:\", find_longest_word(input_string))\n\ndef find_longest_word(words):\n    split_word = words.split()\n    count = 0\n    longest_word = \"\"\n    \n    for word in split_word:\n        if len(word) > count:\n            count = len(word)\n            longest_word = word\n    return longest_word\n\ninput_string = \"why dont Jonathanthebest finds top\"\nprint(\"Longest word:\", find_longest_word(input_string))",
   "execution_count": null,
   "outputs": []
  },
  {
   "metadata": {
    "collapsed": true,
    "trusted": false
   },
   "cell_type": "code",
   "source": "\"\"\"\nProblem 35:\nWrite a Python function called find_vowels that takes a string as input and returns a list of vowels (a, e, i, o, u) present in the string. Ignore case sensitivity, meaning consider both uppercase and lowercase vowels.\n\"\"\"\n\ndef find_vowels(string):\n    vowels = \"aeiou\"\n    return_vowels = []\n    for char in string:\n        if char in vowels:\n            return_vowels += char\n    return return_vowels\n            \nlst = \"Jonathan\"\nprint(find_vowels(lst))\n\ndef find_vowels(string):\n    vowels = \"aeiouAEIOU\"\n    vowel_list = []\n    \n    for char in string:\n        if char in vowels:\n            vowel_list.append(char)\n    return vowel_list\n\nlst = \"Jonathan\"\nprint(find_vowels(lst))",
   "execution_count": 1,
   "outputs": [
    {
     "output_type": "stream",
     "text": "['o', 'a', 'a']\n['o', 'a', 'a']\n",
     "name": "stdout"
    }
   ]
  },
  {
   "metadata": {
    "trusted": false
   },
   "cell_type": "code",
   "source": "\"\"\"\nProblem 36:\nWrite a Python function called `reverse_number` that takes an integer as input and returns the reverse of that number. For example, if the input is 123, the function should return 321.\n\"\"\"\n\ndef reverse_number(number):\n    return int(str(number)[::-1])\n    \nnumber = 123\nprint(reverse_number(number))",
   "execution_count": null,
   "outputs": []
  },
  {
   "metadata": {
    "trusted": false
   },
   "cell_type": "code",
   "source": "\"\"\"\nProblem 37:\nWrite a Python function called remove_duplicates that takes a string as input and returns a new string with duplicate characters removed, while maintaining the original order of characters.\n\"\"\"\n\ndef remove_duplicate(strings):\n    return list(set(strings))\n       \nlst = \"Jonathan\"\nprint(remove_duplicate(lst))\n\ndef remove_duplicates(string):\n    unique_chars = []\n    for char in string:\n        if char not in unique_chars:\n            unique_chars.append(char)\n    return \"\".join(unique_chars)\n\ninput_string = \"Jonathan\"\nprint(remove_duplicates(input_string))\n\ndef remove_dupicates(numbers):\n    duplicates = []\n    for number in numbers:\n        if number not in duplicates:\n            duplicates.append(number)\n    return duplicates\n                 \nlst = [3, 2, 2]\nprint(remove_dupicates(lst))",
   "execution_count": null,
   "outputs": []
  },
  {
   "metadata": {
    "trusted": false
   },
   "cell_type": "code",
   "source": "\"\"\"\nProblem: 38\nWrite a Python function called `sum_of_list` that takes a list of numbers as input and returns the sum of all the numbers in the list.\n\"\"\"\n\ndef sum_of_list():\n    user = input(\"type numbers: \").split()\n    int_number = []\n    for number in user:\n        int_number.append(int(number))\n    \n    count = 0\n    for number in int_number:\n        count += number\n    print(count)\n    \nsum_of_list()",
   "execution_count": null,
   "outputs": []
  },
  {
   "metadata": {
    "trusted": false
   },
   "cell_type": "code",
   "source": "\"\"\"\nProblem 39:\nWrite a Python function called sum_of_list that takes a list of numbers as input and returns the sum of all the numbers in the list.\n\"\"\"        \n\ndef sum_of_list(numbers):\n    count = 0\n    for number in numbers:\n        count += number\n    return count\n\nlst = [2, 2, 2]\nprint(sum_of_list(lst))",
   "execution_count": null,
   "outputs": []
  },
  {
   "metadata": {
    "trusted": false
   },
   "cell_type": "code",
   "source": "\"\"\"\nProblem 40:\nWrite a Python function called find_min_max that takes a list of numbers as input and returns a tuple containing the minimum and maximum numbers in the list.\n\"\"\"\n\ndef find_min_max(numbers):\n    min_number = numbers[0]\n    max_number = numbers[0]\n    for number in numbers:\n        if number < min_number:\n            min_number = number\n        if number > max_number:\n            max_number = number\n    return min_number, max_number \n       \nlst = [10, 90, 45, 55, 222, 2]\nprint(find_min_max(lst))",
   "execution_count": null,
   "outputs": []
  },
  {
   "metadata": {
    "trusted": false
   },
   "cell_type": "code",
   "source": "\"\"\"\nProblem 41:\nWrite a Python function called `find_min` that takes a list of numbers as input and returns the minimum number in the list.\n\"\"\"\n\ndef find_min(numbers):\n    min_number = numbers[0]\n    for number in numbers:\n        if number < min_number:\n            min_number = number\n    return min_number\n                \nnum_lst = [234, 56, 55, 456, 5]\nprint(find_min(num_lst))",
   "execution_count": null,
   "outputs": []
  },
  {
   "metadata": {
    "trusted": false
   },
   "cell_type": "code",
   "source": "\"\"\"\nProblem 42:\nWrite a Python function called `table` that takes an integer `x` as input and prints the multiplication table for `x` from 0 to 10 (inclusive). Each line should show the multiplication of `x` with the number from 0 to 10 in the format `x * number = total`.\" \n\"\"\"\n\ndef table(x):\n    result = \"\"\n    for i in range(1, 11):\n        result += f\"{i} x {x} = {i*x}\\n\"\n    return result\n\nprint(table(6))\n\ndef table(x):\n    for i in range(1, 11):\n        print(f\"{i} x {x} = {i*x}\")\n        \ntable(6)\n\ndef table(x):\n    result = []\n    for number in range(11):\n        total = number * x \n        result.append(f\"{x} x {number} = {total}\")   \n    return \"\\n\".join(result)\n\nprint(table(9))\nfor j in range(1, 11):\n    for i in range(1, 11):\n        product = j * i\n        print(f\"{j} x {i} = {product}\")\n    print(\"-\" * 10)",
   "execution_count": null,
   "outputs": []
  },
  {
   "metadata": {
    "trusted": false
   },
   "cell_type": "code",
   "source": "\"\"\"\nProblem 43:\nWrite a Python function called square_elements that takes a list of numbers as input and returns a new list with each element squared.\n\"\"\"\n\ndef square_elements(numbers):\n    squared_list = []\n    for number in numbers:\n        squared_list.append(number ** number)\n    return squared_list\n               \nlst = [2, 3, 4, 5, 6]\nprint(square_elements(lst))",
   "execution_count": null,
   "outputs": []
  },
  {
   "metadata": {
    "trusted": false
   },
   "cell_type": "code",
   "source": "\"\"\"\nProblem 44:\nWrite a Python function called count_uppercase that takes a string as input and returns the number of uppercase letters in the string.\n\"\"\"\n\ndef count_uppercase(string):\n    count = 0\n    for char in string:\n        if char.isupper():\n            count += 1\n    return count\n                   \nlst = \"Jonathan Moll\"\nprint(count_uppercase(lst))\n\ndef count_uppercase(string):\n    count = 0\n    string = string.replace(\" \", \"\")\n    for char in string:\n        if char == char.upper():\n            count += 1\n    return count\n    \nstring = \"Jonah Is Tbe Best\"\nprint(count_uppercase(string))",
   "execution_count": null,
   "outputs": []
  },
  {
   "metadata": {
    "trusted": false
   },
   "cell_type": "code",
   "source": "\"\"\"\nProblem 45:\nWrite a Python function called remove_spaces that takes a string as input and returns the string with all spaces removed.\n\"\"\"\n\ndef remove_spaces(string):\n    return string.replace(\" \", \"\")\n    \nlst = \"what happening boss man\"\nprint(remove_spaces(lst))\n    \ndef remove_spaces(string):\n    string_removed = []\n    for char in string:\n        if char != \" \":\n            string_removed.append(char)         \n    return \"\".join(string_removed)\n                \nlst = \"what happening boss man\"\nprint(remove_spaces(lst))",
   "execution_count": null,
   "outputs": []
  },
  {
   "metadata": {
    "trusted": false
   },
   "cell_type": "code",
   "source": "\"\"\"\nProblem 46:\nWrite a Python function called merge_lists that takes two sorted lists as input and returns a new sorted list containing all the elements from both input lists.\n\"\"\"\n\ndef merge_lists():\n    lst1 = sorted(input(\"Type the first sorted list: \").split())\n    lst2 = sorted(input(\"Type the second sorted list: \").split())\n    merged_list = sorted(lst1 + lst2)\n    \n    print(merged_list)\n\nmerge_lists()",
   "execution_count": null,
   "outputs": []
  },
  {
   "metadata": {
    "trusted": false
   },
   "cell_type": "code",
   "source": "\"\"\"\nProblem 47:\nWrite a Python function called find_index that takes a list of numbers and a target number as input, and returns the index of the target number in the list. If the target number is not found in the list, the function should return -1.\n\"\"\"\n\ndef find_index(numbers, target):\n    for index, num in enumerate(numbers):\n        if num == target:\n            return index\n    return -1\n\nnumbers = [1, 3, 5, 7, 9]\ntarget = 5\nprint(\"Index of\", target, \"in nums:\", find_index(numbers, target))\n\ntarget = 6\nprint(\"Index of\", target, \"in nums:\", find_index(numbers, target))",
   "execution_count": null,
   "outputs": []
  },
  {
   "metadata": {
    "trusted": false
   },
   "cell_type": "code",
   "source": "\"\"\"\nProblem 48:\nWrite a Python function called sum_even_indices that takes a list of numbers as input and returns the sum of the elements at even indices (0-based) in the list.\n\"\"\"\n\ndef sum_even_indices(nums):\n    total = 0\n    for i in range(len(nums)):\n        if i % 2 == 0:\n            total += nums[i]\n    return total\n\nnumbers = [1, 2, 3, 4, 5, 6]\nprint(\"Sum of elements at even indices:\", sum_even_indices(numbers))\n\ndef sum_even_indices(nums):\n    return sum(nums[i] for i in range(len(nums)) if i % 2 == 0)\n\nnumbers = [1, 2, 3, 4, 5, 6]\nprint(\"Sum of elements at even indices:\", sum_even_indices(numbers))",
   "execution_count": null,
   "outputs": []
  },
  {
   "metadata": {
    "trusted": false
   },
   "cell_type": "code",
   "source": "\"\"\"\nProblem 49:\nWrite a Python function called remove_duplicates_case_insensitive that takes a list of strings as input and returns a new list with duplicate strings removed, ignoring case sensitivity. For example, “hello” and “HELLO” should be considered the same.\n\"\"\"\n\ndef remove_duplicates(lst):\n    unique = set()\n    common = []\n    for word in lst:\n        word_lower = word.lower()\n        if word_lower not in unique:\n            common.append(word_lower)\n            unique.add(word_lower)\n    return common\n            \nlst = [\"not\", \"not\", \"hot\", \"hot\"]\nprint(remove_duplicates(lst))\n\ndef remove_duplicates(lst):\n    unique = set()\n    for word in lst:\n        word_lower = word.lower()\n        if word_lower not in unique:\n            unique.add(word_lower)\n    return unique\n            \nlst = [\"not\", \"not\", \"hot\", \"hot\", \"cold\"]\nprint(remove_duplicates(lst))\n\ndef remove_duplicates(strings):\n    unique_strings = []\n    for string in strings:\n        if string.lower() not in map(str.lower, unique_strings):\n            unique_strings.append(string)\n    return unique_strings\n\ninput_strings = [\"Hello\", \"HELLO\", \"world\", \"World\", \"Python\", \"python\"]\nprint(\"List with case-insensitive duplicates removed:\", remove_duplicates(input_strings))",
   "execution_count": null,
   "outputs": []
  },
  {
   "metadata": {
    "trusted": false
   },
   "cell_type": "code",
   "source": "\"\"\"\nProblem 50:\nWrite a Python function called is_palindrome that takes a string as input and returns True if the string is a palindrome (reads the same forwards and backwards), and False otherwise.\n\"\"\"\n\ndef is_palindrome(s):\n    return s == s[::-1]\n\ninput_string = \"racecar\"\nprint(\"Is\", input_string, \"a palindrome?\", is_palindrome(input_string))\n\ninput_string = \"hello\"\nprint(\"Is\", input_string, \"a palindrome?\", is_palindrome(input_string))",
   "execution_count": null,
   "outputs": []
  },
  {
   "metadata": {
    "trusted": false
   },
   "cell_type": "code",
   "source": "\"\"\"\nProblem 51:\nWrite a Python function called `factorial` that takes a non-negative integer as input and returns its factorial. The factorial of a number `n` is the product of all positive integers less than or equal to `n` (n!). For example, `factorial(5)` should return `120` (since 5 * 4 * 3 * 2 * 1 = 120).\n\"\"\"\n\ndef factorial(n):\n    if n == 0:\n        return 1\n    else:\n        result = 1\n        for i in range(1, n + 1):\n            result *= i\n        return result\n\nprint(factorial(0))\n\ndef factorial(n):\n    if n == 0:\n        return 1\n    else:\n        return n * factorial(n - 1)\n\nprint(factorial(5))\n\ndef factorial(n):\n    if n == 0:\n        return 1\n    else:\n        result = 1 \n        for i in range(n, 0, -1):\n            result *= i \n        return result\n\nprint(factorial(5))",
   "execution_count": null,
   "outputs": []
  },
  {
   "metadata": {
    "trusted": false
   },
   "cell_type": "code",
   "source": "\"\"\"\nProblem 52:\nWrite a Python function called is_anagram that takes two strings as input and returns True if they are anagrams of each other, and False otherwise. Two strings are anagrams if they can be rearranged to form the same word (e.g., “listen” and “silent”).\n\"\"\"\n\ndef is_anagram(str1, str2):\n    str1 = str1.lower()\n    str2 = str2.lower()\n    \n    return sorted(str1) == sorted(str2)\n\nprint(is_anagram(\"listen\", \"silent\"))\nprint(is_anagram(\"hello\", \"world\"))   \nprint(is_anagram(\"Triangle\", \"Integral\"))\n\ndef is_anagram(lst1, lst2):\n    sorted_lst1 = sorted(lst1)\n    sorted_lst2 = sorted(lst2)\n    \n    if sorted_lst1 == sorted_lst2:\n        return True\n    return False\n           \nlst1 = \"qwer\"\nlst2 = \"rewq\"\nprint(is_anagram(lst1, lst2))",
   "execution_count": null,
   "outputs": []
  },
  {
   "metadata": {
    "trusted": false
   },
   "cell_type": "code",
   "source": "\"\"\"\nProblem 53:\nWrite a Python function called count_words that takes a string as input and returns a dictionary where the keys are the words in the string and the values are the counts of each word. Words are separated by spaces, and the function should be case-insensitive.\n\"\"\"\n\ndef count_words(s):\n    s = s.lower()\n    words = s.split()\n    word_count = {}\n    for word in words:\n        if word in word_count:\n            word_count[word] += 1\n        else:\n            word_count[word] = 1\n    return word_count\n\ninput_string = \"This is a test. This test is only a test.\"\nprint(count_words(input_string))",
   "execution_count": null,
   "outputs": []
  },
  {
   "metadata": {
    "trusted": false
   },
   "cell_type": "code",
   "source": "\"\"\"\nProblem 54:\nWrite a Python function called fibonacci that takes an integer n as input and returns a list containing the first n numbers of the Fibonacci sequence. The Fibonacci sequence starts with 0 and 1, and each subsequent number is the sum of the previous two numbers.\n\"\"\"\n\ndef fibonacci(n):\n    if n <= 0:\n        return []\n    elif n == 1:\n        return [0]\n    elif n == 2:\n        return [0, 1]\n\n    # Initialize the first two numbers of the Fibonacci sequence\n    fib_sequence = [0, 1]\n\n    # Generate the remaining Fibonacci numbers\n    for i in range(2, n):\n        next_number = fib_sequence[-1] + fib_sequence[-2]\n        fib_sequence.append(next_number)\n\n    return fib_sequence\n\n# Test the function\nprint(fibonacci(10))  # Should print the first 10 Fibonacci numbers",
   "execution_count": null,
   "outputs": []
  },
  {
   "metadata": {
    "trusted": false
   },
   "cell_type": "code",
   "source": "\"\"\"\nProblem 55:\nWrite a Python program to calculate the area of a rectangle. Prompt the user to enter the length and width.\n\"\"\"\n\ndef area_rectangle():\n    length = float(input(\"type length: \"))\n    width = float(input(\"type width: \"))\n    area = length * width\n    \n    print(area)\n    \narea_rectangle()",
   "execution_count": null,
   "outputs": []
  },
  {
   "metadata": {
    "trusted": false
   },
   "cell_type": "code",
   "source": "\"\"\"\nProblem: 56\nWrite a Python program to check if a given number is even or odd. Prompt the user to enter a number.\n\"\"\"\n\ndef even_odd():\n    user = int(input(\"type number: \"))\n    if user % 2 == 0:\n        print(\"Number is even\")\n    else:\n        print(\"Number is odd\")\n   \neven_odd()",
   "execution_count": null,
   "outputs": []
  },
  {
   "metadata": {
    "trusted": false
   },
   "cell_type": "code",
   "source": "\"\"\"\nProblem 57\nWrite a Python program to print the Fibonacci series up to a given number. Prompt the user to enter the limit using a while loop.\n\"\"\"\n\ndef fibonacci_series():\n    limit = int(input(\"Enter the limit: \"))\n    a, b = 0, 1\n    \n    while a <= limit:\n        print(a, end=' ')\n        a, b = b, a + b\n        \nfibonacci_series()",
   "execution_count": null,
   "outputs": []
  },
  {
   "metadata": {
    "trusted": false
   },
   "cell_type": "code",
   "source": "\"\"\"\nProblem: 58\nWrite a Python program to find the maximum of three numbers. Prompt the user to enter three numbers.\"\n\"\"\"\n\ndef max_number():\n    user = input(\"type 3 numbers: \").split()\n    int_number = []\n    for number in user:\n        int_number.append(int(number))\n    \n    max_num = int_number[0]    \n    for number in int_number:\n        if number > max_num:\n            max_num = number\n    print(max_num)\n           \nmax_number()",
   "execution_count": null,
   "outputs": []
  },
  {
   "metadata": {
    "trusted": false
   },
   "cell_type": "code",
   "source": "\"\"\"\nProblem 59:\nWrite a Python program to reverse a string. Prompt the user to enter a string.\n\"\"\"\n\ndef reverse_string():\n    user = input(\"type string: \")\n    user = user[::-1]\n    \n    print(user)\n    \nreverse_string()\n\ndef reverse_string(string):\n    return string[::-1]\n            \nlst = \"Jonathan\"\n\nprint(reverse_string(lst))",
   "execution_count": null,
   "outputs": []
  },
  {
   "metadata": {
    "trusted": false
   },
   "cell_type": "code",
   "source": "\"\"\"\nProblem: 60\nWrite a Python program to check if a given string is a palindrome. Prompt the user to enter a string.\n\"\"\"\n\ndef is_palindrome():\n    user = input(\"type word: \").lower().replace(\" \", \"\")\n    \n    return user == user[::-1]\n        \nprint(is_palindrome())",
   "execution_count": null,
   "outputs": []
  },
  {
   "metadata": {
    "trusted": false
   },
   "cell_type": "code",
   "source": "\"\"\"\nProblem: 61\nWrite a Python program to count the number of vowels in a given string. Prompt the user to enter a string.\n\"\"\"\n\ndef count_vowels():\n    user = input(\"type string: \").lower()\n    vowels = \"aeiou\"\n    count = 0\n    for char in user:\n        if char in vowels:\n            count +=1\n    print(count)\n    \ncount_vowels()",
   "execution_count": null,
   "outputs": []
  },
  {
   "metadata": {
    "trusted": false
   },
   "cell_type": "code",
   "source": "\"\"\"\nProblem: 62\nWrite a Python program to calculate the factorial of a number. Prompt the user to enter a number.\n\"\"\"\n\ndef factorial():\n    result = 1\n    for i in range(1, 6):\n        result *= i \n        \n    print(f\"{result}\")\n\nfactorial()\n \ndef factorial():\n    number = int(input(\"Enter a number: \")) \n    result = 1\n    for i in range(1, number + 1):\n        result *= i \n        \n    print(f\"The factorial of {number} is {result}\")\n\nfactorial()",
   "execution_count": null,
   "outputs": []
  },
  {
   "metadata": {
    "trusted": false
   },
   "cell_type": "code",
   "source": "\"\"\"\nProblem: 63\nWrite a Python program to calculate the sum of all numbers from 1 to a given number. Prompt the user to enter a number.\n\"\"\"\n\ndef sum_of_all_numbers():\n    user = input(\"type numbers: \").split()\n    int_user = []\n    for number in user:\n        int_user.append(int(number))\n        \n    count = 0\n    for number in int_user:\n        count += number\n    print(count)\n\nsum_of_all_numbers()",
   "execution_count": null,
   "outputs": []
  },
  {
   "metadata": {
    "trusted": false
   },
   "cell_type": "code",
   "source": "\"\"\"\nProblem: 64\nWrite a Python program to find the largest element in a list. Prompt the user to enter a list of numbers.\n\"\"\"\n\ndef find_largest():\n    user = input(\"type number: \").split()\n    int_number = []\n    for number in user:\n        int_number.append(int(number))\n    sort = sorted(int_number)\n    largest = sort[-1]\n    \n    print(largest)\n    \nfind_largest()\n\ndef find_largest():\n    user = input(\"type number: \").split()\n    int_number = []\n    for number in user:\n        int_number.append(int(number))\n    sort = sorted(int_number, reverse=True)\n    largest = sort[0]\n    \n    print(largest)\n    \nfind_largest()\n\ndef largest_element(numbers):\n   return max(numbers)\n                \nnumbers = [2, 56, 75, 4566, 3]\nprint(largest_element(numbers))   \n\ndef largest_element(numbers):\n    largest = numbers[0]\n    for number in numbers:\n        if number > largest:\n            largest = number\n    return largest\n                \nnumbers = [2, 56, 75, 4566, 3]\nprint(largest_element(numbers))",
   "execution_count": null,
   "outputs": []
  },
  {
   "metadata": {
    "trusted": false
   },
   "cell_type": "code",
   "source": "\"\"\"\nProblem: 65\nWrite a Python program to find the largest element in a list (do not use numbers).\n\"\"\"\n\ndef largest_elememt(lst):\n    count = 0\n    largest = \"\"\n    for word in lst:\n        if len(word) > count:\n            count = len(word)\n            largest = word\n    return largest\n            \nlst = [\"house\", \"counter\", \"if\"]\nprint(largest_elememt(lst))\n\ndef largest_elememt(lst):\n    lst = sorted(lst, key=len)\n     \n    return lst[-1]\n    \nlst = [\"house\", \"counter\", \"if\"]\nprint(largest_elememt(lst))",
   "execution_count": null,
   "outputs": []
  },
  {
   "metadata": {
    "trusted": false
   },
   "cell_type": "code",
   "source": "\"\"\"\nProblem 66:\nWrite a Python program to remove duplicates from a list. Prompt the user to enter a list of elements.\n\"\"\"\ndef remove_duplicates(lst):\n    unique = []\n    for element in lst:\n        if element not in unique:\n            unique.append(element)\n    return unique\n\nuser_input = input(\"Enter a list of elements separated by spaces: \")\nlst = user_input.split()\nprint(remove_duplicates(lst))",
   "execution_count": null,
   "outputs": []
  },
  {
   "metadata": {
    "trusted": false
   },
   "cell_type": "code",
   "source": "\"\"\"\nProblem: 67\nWrite a Python program to check if a given year is a leap year. Prompt the user to enter a year.\n\"\"\"\n\ndef is_leap_year():\n    year = int(input(\"Enter a year: \"))\n    \n    if (year % 4 == 0 and year % 100 != 0) or (year % 400 == 0):\n        return True\n    else:\n        return False\n\nprint(is_leap_year())",
   "execution_count": null,
   "outputs": []
  },
  {
   "metadata": {
    "trusted": false
   },
   "cell_type": "code",
   "source": "\"\"\"\nProblem: 68\nWrite a Python program to find the length of a string without using the built-in len() function. Prompt the user to enter a string.\n\"\"\"\n\ndef length_string():\n    user = input(\"entre string: \").replace(\" \", \"\")\n    count = 0\n\n    for char in user:\n        count += 1\n    print(count)\n             \nlength_string()",
   "execution_count": null,
   "outputs": []
  },
  {
   "metadata": {
    "trusted": false
   },
   "cell_type": "code",
   "source": "\"\"\"\nPromblem: 69\nWrite a Python program to check if a string is a palindrome without using any built-in functions. Prompt the user to enter a string.\n\"\"\"\n\ndef palindrome(string):\n    if string == string[::-1]:\n        return True\n    return False\n       \nword = \"juju\"\nprint(palindrome(word)",
   "execution_count": null,
   "outputs": []
  },
  {
   "metadata": {
    "trusted": false
   },
   "cell_type": "code",
   "source": "\"\"\"\nProblem: 70\nWrite a Python program to count the occurrences of each word in a given sentence. Prompt the user to enter a sentence.\n\"\"\"\n\ndef count_each_word(sentence):\n    split_word = sentence.split()\n    count = 0\n    for word in split_word:\n        count += 1\n    return count\n       \nlst = \"Jonathan is the best\"\nprint(count_each_word(lst))",
   "execution_count": 1,
   "outputs": [
    {
     "output_type": "stream",
     "text": "4\n",
     "name": "stdout"
    }
   ]
  },
  {
   "metadata": {
    "trusted": false
   },
   "cell_type": "code",
   "source": "\"\"\"\nProblem: 71\nWrite a Python program to find the second largest number in a list. Prompt the user to enter a list of numbers.\n\"\"\"\ndef sec_lar():\n    numbers = list(map(int, input(\"type: \").split()))\n    unique_numbers = list(set(numbers))\n    unique_numbers.sort()\n    \n    print(unique_numbers[-2])\n\nsec_lar()\n\ndef second_largest_number(numbers):\n    sorted_numbers = sorted(numbers, reverse=True)\n    \n    if len(sorted_numbers) > 1:\n        return sorted_numbers[1]\n    else:\n        return None\n        \narg = [56, 700, 1, 57, 78, 787, 5, 88]\nprint(second_largest_number(arg))\n\n\ndef second_largest_number(numbers):\n    sorted_numbers = sorted(numbers, reverse=True)\n    #if len(numbers) > 1:\n    for number in sorted_numbers:\n        return sorted_numbers[1]\n    return None\n        \narg = [56, 700, 1, 57, 78, 787, 5, 88]\nprint(second_largest_number(arg))\n\ndef second_largest_number(numbers):\n    sorted_numbers = sorted(numbers)\n    for number in sorted_numbers:\n        return sorted_numbers[-2]\n    return None\n        \narg = [56, 700, 1, 57, 78, 787, 5, 88]\nprint(second_largest_number(arg))",
   "execution_count": null,
   "outputs": []
  },
  {
   "metadata": {
    "trusted": false
   },
   "cell_type": "code",
   "source": "\"\"\"\nProblem: 72\nWrite a Python program to check if a given string is a valid email address. Prompt the user to enter an email address.\n\"\"\"\n\ndef is_valid_email():\n    email = input(\"Enter an email address: \")\n    if '@' not in email or '.' not in email:\n        return False\n    \n    local, domain = email.split('@', 1)\n    \n    if not local:\n        return False\n    if '.' not in domain or domain.startswith('.') or domain.endswith('.'):\n        return False\n    \n    domain_parts = domain.split('.')\n    if any(not part for part in domain_parts):\n        return False\n    \n    return True\n\nprint(is_valid_email())",
   "execution_count": null,
   "outputs": []
  },
  {
   "metadata": {
    "trusted": false
   },
   "cell_type": "code",
   "source": "\"\"\"\nProblem: 73\nWrite a Python program to find the factorial of a number using recursion. Prompt the user to enter a number.\"\n\"\"\"\n\ndef factorial(n):\n    if n == 0 or n == 1:\n        return 1\n    else:\n        return n * factorial(n - 1)\n\ndef main():\n    try:\n        number = int(input(\"Enter a number: \"))\n        if number < 0:\n            print(\"Factorial is not defined for negative numbers.\")\n        else:\n            print(f\"The factorial of {number} is {factorial(number)}\")\n    except ValueError:\n        print(\"Please enter a valid integer.\")\n\nmain()",
   "execution_count": null,
   "outputs": []
  },
  {
   "metadata": {
    "trusted": false
   },
   "cell_type": "code",
   "source": "\"\"\"\nProblem: 74\nWrite a Python program to check if two strings are anagrams of each other. Prompt the user to enter two strings\n\"\"\"\n\ndef are_anagrams():\n    str1 = input(\"Enter the first string: \")\n    str2 = input(\"Enter the second string: \")\n    str1 = str1.replace(\" \", \"\").lower()\n    str2 = str2.replace(\" \", \"\").lower()\n    \n    if sorted(str1) == sorted(str2):\n        print(f\"'{str1}' and '{str2}' are anagrams.\")\n    else:\n        print(f\"'{str1}' and '{str2}' are not anagrams.\")\n\nare_anagrams()\n\ndef pal():\n  user = input(\"type: \")\n  \n  if user == user[::-1]:\n      return True\n  return False\n \nprint(pal())",
   "execution_count": null,
   "outputs": []
  },
  {
   "metadata": {
    "trusted": false
   },
   "cell_type": "code",
   "source": "\"\"\"\nProblem: 75\nWrite a Python program to check if a number is a prime number. Prompt the user to enter a number.\n\"\"\"\n\ndef is_prime(n):\n    if n <= 1:\n        return False\n    if n <= 3:\n        return True\n    if n % 2 == 0 or n % 3 == 0:\n        return False\n    i = 5\n    while i * i <= n:\n        if n % i == 0 or n % (i + 2) == 0:\n            return False\n        i += 6\n    return True\n\ndef main():\n    try:\n        number = int(input(\"Enter a number: \"))\n        if is_prime(number):\n            print(f\"{number} is a prime number.\")\n        else:\n            print(f\"{number} is not a prime number.\")\n    except ValueError:\n        print(\"Please enter a valid integer.\")\n\nmain()",
   "execution_count": null,
   "outputs": []
  },
  {
   "metadata": {
    "trusted": false
   },
   "cell_type": "code",
   "source": "\"\"\"\nProblem: 76\nWrite a Python program to find the common elements between two lists. Prompt the user to enter two lists.\n\"\"\"\n\ndef common_elements(lst1, lst2):\n    result = []\n    \n    for i in lst1:\n        for j in lst2:\n            if i == j and i not in result:\n                result.append(i)\n    return result\n    \nlst1 = [\"tree\", \"house\", \"car\", \"rose\"]\nlst2 = [\"house\", \"street\", \"sky\", \"tree\"]\nprint(common_elements(lst1, lst2))\n\ndef common_elements(lst1, lst2):\n    set1 = set(lst1)\n    set2 = set(lst2)\n    elements_commmon = set1.intersection(set2)\n\n    return elements_commmon\n        \narg1 = [\"tree\", \"grass\", \"flower\"]\narg2 = [\"grass\", \"flower\", \"river\"]\nprint(common_elements(arg1, arg2))\n    \ndef find_common_elements():\n    input1 = input(\"Enter elements of the first list, separated by spaces: \")\n    list1 = input1.split()\n    input2 = input(\"Enter elements of the second list, separated by spaces: \")\n    list2 = input2.split()\n    set1 = set(list1)\n    set2 = set(list2)\n    common_elements = set1.intersection(set2)\n    \n    if common_elements:\n        print(f\"Common elements between the two lists: {list(common_elements)}\")\n    else:\n        print(\"There are no common elements between the two lists.\")\n\nfind_common_elements()",
   "execution_count": null,
   "outputs": []
  },
  {
   "metadata": {
    "trusted": false
   },
   "cell_type": "code",
   "source": "\"\"\"\nProblem: 77\nWrite a Python function called `count_uppercase` that takes a string as input and returns the number of uppercase letters in the string.\n\"\"\"\n\ndef uppercase(string):\n    count = 0\n    string = string.replace(\" \", \"\")\n    for word in string:\n        if word == word.upper():\n            count += 1\n    return count\n        \nsentence = \"whAtT healin Gmanbe LLike\"\nprint(uppercase(sentence))",
   "execution_count": null,
   "outputs": []
  },
  {
   "metadata": {
    "trusted": false
   },
   "cell_type": "code",
   "source": "\"\"\"\nProblem: 78\nWrite a Python program to convert a decimal number to binary. Prompt the user to enter a decimal number.\n\"\"\"\n\ndef decimal_to_binary():\n    decimal_number = int(input(\"Enter a decimal number: \"))\n    binary_number = bin(decimal_number)[2:]\n    \n    print(f\"The binary representation of {decimal_number} is {binary_number}\")\n\ndecimal_to_binary()",
   "execution_count": null,
   "outputs": []
  },
  {
   "metadata": {
    "trusted": false
   },
   "cell_type": "code",
   "source": "\"\"\"\nProblem: 79\nWrite a Python program to sort a list of numbers in ascending order. Prompt the user to enter a list of numbers.\n\"\"\"\n\ndef ascending_order_numbers(numbers):\n    sort_numbers = sorted(numbers)\n    \n    return sort_numbers\n    \nnumbers = [56, 23, 677, 6, 1]\nprint(ascending_order_numbers(numbers))",
   "execution_count": null,
   "outputs": []
  },
  {
   "metadata": {
    "trusted": false
   },
   "cell_type": "code",
   "source": "\"\"\"\nProblem: 79\nWrite a Python program to sort a list of numbers in ascending order. Prompt the user to enter a list of numbers.\n\"\"\"\n\ndef ascending_order_numbers(numbers):\n    sort_numbers = sorted(numbers)\n    \n    return sort_numbers\n    \nnumbers = [56, 23, 677, 6, 1]\nprint(ascending_order_numbers(numbers))",
   "execution_count": null,
   "outputs": []
  },
  {
   "metadata": {
    "trusted": false
   },
   "cell_type": "code",
   "source": "\"\"\"\nProblem: 80\nWrite a Python program to generate a random number between a given range. Prompt the user to enter the lower and upper limits.\n\"\"\"\n\nimport random\n\ndef generate_random_number():\n    lower_limit = int(input(\"Enter the lower limit: \"))\n    upper_limit = int(input(\"Enter the upper limit: \"))\n    random_number = random.randint(lower_limit, upper_limit)\n    \n    print(f\"The random number between {lower_limit} and {upper_limit} is: {random_number}\")\ngenerate_random_number()",
   "execution_count": null,
   "outputs": []
  },
  {
   "metadata": {
    "trusted": false
   },
   "cell_type": "code",
   "source": "\"\"\"\nProblem: 81\nWrite a Python program to find the square root of a number. Prompt the user to enter a number.\n\"\"\"\n\ndef square_root():\n    num = float(input(\"type num: \"))\n    return num ** 0.5\n    \nprint(square_root())\n\ndef square_root():\n    num = float(input(\"type num: \"))\n    print(num ** 0.5)\n    \nsquare_root()",
   "execution_count": null,
   "outputs": []
  },
  {
   "metadata": {
    "trusted": false
   },
   "cell_type": "code",
   "source": "\"\"\"\nProblem: 82\nWrite a Python program to find the area of a circle. Prompt the user to enter the radius.\n\"\"\"\n\nimport math\n\ndef circle():\n    radius = float(input(\"type number: \"))\n    area = math.pi * radius ** 2\n    print(area)\n    \ncircle()\n\ndef calculate_circle_area():\n    radius = float(input(\"Enter the radius of the circle: \"))\n    area = math.pi * radius ** 2\n    print(f\"The area of the circle with radius {radius} is {area:.2f}\")\n\ncalculate_circle_area()\n\ndef calculate_circle_area(radius):\n    return math.pi * radius ** 2\n\ndef main():\n    radius = float(input(\"Enter the radius of the circle: \"))\n    area = calculate_circle_area(radius)\n    print(f\"The area of the circle with radius {radius} is {area:.2f}\")\n\nif __name__ == \"__main__\":\n    main()",
   "execution_count": null,
   "outputs": []
  },
  {
   "metadata": {
    "trusted": false
   },
   "cell_type": "code",
   "source": "\"\"\"\nProblem: 83\nWrite a Python program to check if a given string is a palindrome using a recursive function. Prompt the user to enter a string.\n\"\"\"\n\ndef is_palindrome(s):\n    s = s.replace(\" \", \"\").lower()\n    return s == s[::-1]\n\ndef main():\n    user_input = input(\"Enter a string: \")\n    if is_palindrome(user_input):\n        print(f\"{user_input} is a palindrome.\")\n    else:\n        print(f\"{user_input} is not a palindrome.\")\n\nif __name__ == \"__main__\":\n    main()",
   "execution_count": null,
   "outputs": []
  },
  {
   "metadata": {
    "trusted": false
   },
   "cell_type": "code",
   "source": "\"\"\"\nProblem: 84\nWrite a Python program to check if a string is a pangram. A pangram is a sentence that contains every letter of the alphabet at least once. Prompt the user to enter a sentence.\n\"\"\"\n\ndef is_pangram(sentence):\n    alphabet = \"abcdefghijklmnopqrstuvwxyz\"\n    sentence = sentence.lower()\n    for char in alphabet:\n        if char not in sentence:\n            return \"not pangram\"\n    return \"is pangram\"\n   \nsentence = input(\"Enter a sentence: \")\nprint(is_pangram(sentence))\n\n\ndef pangram(sentence):\n    alphabet = \"abcdefghijklmnopqrstuvwxyz\"\n    sentence = sentence.lower()\n    for char in alphabet:\n        if char not in sentence:\n            return \"not pangram\"\n    return \"pangram\"\n            \nsentence = \"abcdefghijklmnopqrstuvwxyz\"\nprint(pangram(sentence))",
   "execution_count": null,
   "outputs": []
  },
  {
   "metadata": {
    "trusted": false
   },
   "cell_type": "code",
   "source": "\"\"\"\nProblem: 85\nWrite a Python program to find the GCD (Greatest Common Divisor) of two numbers. Prompt the user to enter two numbers.\n\"\"\"\n\ndef gcd(a, b):\n    while b != 0:\n        a, b = b, a % b\n    return a\n\ndef main():\n    num1 = int(input(\"Enter the first number: \"))\n    num2 = int(input(\"Enter the second number: \"))\n    \n    result = gcd(num1, num2)\n    print(f\"The GCD of {num1} and {num2} is: {result}\")\n\nif __name__ == \"__main__\":\n    main()",
   "execution_count": null,
   "outputs": []
  },
  {
   "metadata": {
    "trusted": false
   },
   "cell_type": "code",
   "source": "\"\"\"\nProblem: 86\nWrite a Python program to find the LCM (Least Common Multiple) of two numbers. Prompt the user to enter two numbers.\n\"\"\"\n\ndef gcd(a, b):\n    while b != 0:\n        a, b = b, a % b\n    return a\n\ndef lcm(a, b):\n    return abs(a * b) // gcd(a, b)\n\ndef main():\n    num1 = int(input(\"Enter the first number: \"))\n    num2 = int(input(\"Enter the second number: \"))\n    \n    result_lcm = lcm(num1, num2)\n    \n    print(f\"The LCM of {num1} and {num2} is: {result_lcm}\")\n\nif __name__ == \"__main__\":\n    main()",
   "execution_count": null,
   "outputs": []
  },
  {
   "metadata": {
    "trusted": false
   },
   "cell_type": "code",
   "source": "\"\"\"\nProblem: 87\nWrite a Python program to reverse a list without using the reverse() function. Prompt the user to enter a list of elements.\n\"\"\"\n\ndef reverse_lst():\n    user = input(\"Type a list: \")\n    split_lst = user.split()    \n    reversed_lst = []\n    \n    for item in split_lst[::-1]:\n        reversed_lst.append(item)\n    return \" \".join(reversed_lst)\n\nprint(reverse_lst())\n\ndef reverse_list():\n    user_input = input(\"Enter a list: \")\n    elements = user_input.split()\n    reversed_elements = []\n    \n    for i in range(len(elements) - 1, -1, -1):\n        reversed_elements.append(elements[i])\n\n    return f\"Reversed list: {reversed_elements}\"\n\nprint(reverse_list())\n\ndef reverse_list():\n    user_input = input(\"Enter list: \")\n    elements = user_input.split()\n    reversed_elements = []\n    \n    for i in range(len(elements) - 1, -1, -1):\n        reversed_elements.append(elements[i])\n\n    print(\"Reversed list:\", reversed_elements)\n\nreverse_list()\n\ndef reverse_list(items):\n    reverse_items = []\n    \n    for item in range(len(items)-1,-1,-1):\n        reverse_items.append(items[item])\n    return reverse_items\n        \nlst = [\"apple\", \"banana\", \"cunt\"]\nprint(reverse_list(lst))",
   "execution_count": null,
   "outputs": []
  },
  {
   "metadata": {
    "trusted": false
   },
   "cell_type": "code",
   "source": "Problem: 88\nWrite a Python program to find the prime factors of a number. Prompt the user to enter a number.\n\"\"\"\n\ndef prime_factors(n):\n    factors = []\n    divisor = 2\n    while n > 1:\n        while n % divisor == 0:\n            factors.append(divisor)\n            n //= divisor\n        divisor += 1\n    \n    return factors\n\ndef main():\n    number = int(input(\"Enter a number: \"))\n    if number < 2:\n        print(\"Prime factors are only defined for numbers greater than or equal to 2.\")\n    else:\n        result = prime_factors(number)\n        print(f\"The prime factors of {number} are: {result}\")\n\nif __name__ == \"__main__\":\n    main()",
   "execution_count": null,
   "outputs": []
  },
  {
   "metadata": {
    "trusted": false
   },
   "cell_type": "code",
   "source": "\"\"\"\nProblem 89:\nWrite a Python program to generate a random password of a given length. Prompt the user to enter the length.\n\"\"\"\n\nimport random\nimport string\n\ndef generate_password(length):\n    characters = string.ascii_letters + string.digits + string.punctuation\n    password = ''.join(random.choice(characters) for i in range(length))\n    \n    return password\n\nlength = int(input(\"Enter the length of the password: \"))\nprint(\"Generated password:\", generate_password(length))",
   "execution_count": null,
   "outputs": []
  },
  {
   "metadata": {
    "trusted": false
   },
   "cell_type": "code",
   "source": "\"\"\"\nProblem: 90:\nWrite a Python program to count the number of words in a sentence. Prompt the user to enter a sentence.\n\"\"\"\n\ndef count_words(sentence):\n    split_words = sentence.split()\n    count = 0\n    for word in split_words:\n        count += 1\n    return count\n                   \nwords = \"Jonathan is the best ever\"\nprint(count_words(words))",
   "execution_count": null,
   "outputs": []
  },
  {
   "metadata": {
    "trusted": false
   },
   "cell_type": "code",
   "source": "\"\"\"\nProblem 91:\nWrite a Python program to find the largest and smallest elements in a list. Prompt the user to enter a list of numbers without using sorted().\"\n\"\"\"\n\ndef largest_smallest(elements):\n    smallest = elements[0]\n    largest = elements[0]\n    for element in elements:\n        if element < smallest:\n            smallest = element\n        if element > largest:\n            largest = element\n    return smallest, largest\n    \nlst = [4, 5, 100, 6, 1, 10]\nprint(largest_smallest(lst))",
   "execution_count": null,
   "outputs": []
  },
  {
   "metadata": {
    "trusted": false
   },
   "cell_type": "code",
   "source": "\"\"\"\nProblem: 92\nWrite a Python program to check if a number is a perfect number. A perfect number is a positive integer that is equal to the sum of its proper divisors. Prompt the user to enter a number.\n\"\"\"\n\ndef is_perfect_number(n):\n    if n <= 0:\n        return False\n    \n    sum_of_divisors = 0\n    for i in range(1, n):\n        if n % i == 0:\n            sum_of_divisors += i\n    \n    return sum_of_divisors == n\n\ndef main():\n    number = int(input(\"Enter a number: \"))\n    \n    if is_perfect_number(number):\n        print(f\"{number} is a perfect number.\")\n    else:\n        print(f\"{number} is not a perfect number.\")\n\nif __name__ == \"__main__\":\n    main()",
   "execution_count": null,
   "outputs": []
  },
  {
   "metadata": {
    "trusted": false
   },
   "cell_type": "code",
   "source": "\"\"\"\nProblem 93:\nWrite a Python program to find the factorial of a number using a loop. Prompt the user to enter a number.\n\"\"\"\n\ndef factorial():\n    user = int(input(\"type number: \"))\n    result = 1\n    for number in range(1, user + 1):\n        result *= number\n    \n    print(result)\n           \nfactorial()\n\ndef factorial():\n    user = int(input(\"type number: \"))\n    result = 1\n    for number in range(1, user + 1):\n        result *= 1\n    return result\n\nprint(factorial())",
   "execution_count": null,
   "outputs": []
  },
  {
   "metadata": {
    "trusted": false
   },
   "cell_type": "code",
   "source": "\"\"\"\nProblem: 94\nWrite a Python program to check if a given number is a power of two.\n\"\"\"\n\ndef is_power_of_two(number):\n    if number <= 0:\n        return False\n    while number != 1:\n        if number % 2 != 0:\n            return False\n        number = number // 2\n    return True\n\nnumber = int(input(\"Enter a number: \"))\nif is_power_of_two(number):\n    print(f\"{number} is a power of two.\")\nelse:\n    print(f\"{number} is not a power of two.\")",
   "execution_count": null,
   "outputs": []
  },
  {
   "metadata": {
    "trusted": false
   },
   "cell_type": "code",
   "source": "\"\"\"\nProblem: 95\nWrite a Python program to find the intersection of two lists. Prompt the user to enter two lists.\n\"\"\"\ndef get_list(prompt):\n    return input(prompt).split()\n\ndef find_intersection(list1, list2):\n    return list(set(list1) & set(list2))\n\ndef main():\n    list1 = get_list(\"Enter the first list of elements, separated by spaces: \")\n    list2 = get_list(\"Enter the second list of elements, separated by spaces: \")\n\n    intersection = find_intersection(list1, list2)\n\n    print(f\"The intersection of the two lists is: {intersection}\")\n\nmain()\n\ndef find_intersection():\n    list1 = input(\"Enter lst: \").split()\n    list2 = input(\"Enter lst: \").split()\n    intersection = list(set(list1) & set(list2))\n\n    print(f\"The intersection of the two lists is: {intersection}\")\n    \nprint(find_intersection())",
   "execution_count": null,
   "outputs": []
  },
  {
   "metadata": {
    "trusted": false
   },
   "cell_type": "code",
   "source": "\"\"\"\nProblem 96:\nWrite a Python program to remove vowels from a string. Prompt the user to enter a string.\n\"\"\"\n\ndef remove_vowels():\n    user = input(\"type string: \")\n    for char in user:\n        if char not in \"aeiou\":\n            print(char, end= \"\")\n            \nremove_vowels()\n\ndef remove_vowels(string):\n    new_name = []\n    for char in string:\n        if char not in \"aeiou\":\n            new_name.append(char)\n    return \" \".join(new_name)\n               \nname = \"Jonathan\" \nprint(remove_vowels(name))",
   "execution_count": null,
   "outputs": []
  },
  {
   "metadata": {
    "trusted": false
   },
   "cell_type": "code",
   "source": "\"\"\"\nProblem: 97\nWrite a Python program to convert a binary number to decimal. Prompt the user to enter a binary number.\n\"\"\"\n\ndef binary_to_decimal(binary):\n    decimal = 0\n    power = len(binary) - 1  # Start with the highest power of 2\n    for digit in binary:\n        if digit == '1':\n            decimal += 2 ** power\n        power -= 1\n    \n    return decimal\n\ndef main():\n    binary_number = input(\"Enter a binary number: \")\n    # Validate binary input (only 0s and 1s)\n    if all(bit in '01' for bit in binary_number):\n        decimal_number = binary_to_decimal(binary_number)\n        print(f\"The decimal equivalent of {binary_number} is {decimal_number}.\")\n    else:\n        print(\"Invalid binary number. Please enter a valid binary number (consisting of 0s and 1s).\")\n\nif __name__ == \"__main__\":\n    main()",
   "execution_count": null,
   "outputs": []
  },
  {
   "metadata": {
    "trusted": false
   },
   "cell_type": "code",
   "source": "\"\"\"\nProblem: 98\nWrite a Python program to find the sum of the digits in a string. Prompt the user to enter a string containing seperate numbers. eg \"2\", \"8\" should return 10\n\"\"\"\n\ndef digits_string():\n    user = input(\"Type numbers separated by spaces: \").split()\n    total = 0\n    for number in user:\n        total += int(number)\n        \n    print(total)\ndigits_string()\n\ndef digits_string():\n    user = input(\"type numbers: \").split()\n    total = 0\n    int_number = []\n    for number in user:\n        int_number.append(int(number))\n    for number in int_number:\n        total += number\n        \n    print(total)\ndigits_string()",
   "execution_count": null,
   "outputs": []
  },
  {
   "metadata": {
    "trusted": false
   },
   "cell_type": "code",
   "source": "\"\"\"\nProblem: 99\nWrite a Python program to count the number of uppercase and lowercase letters in a string. Prompt the user to enter a string.\n\"\"\"\n\ndef upper_lower(string):\n    count_upper = 0\n    count_lower = 0\n    for char in string:\n        if char.isupper():\n            count_upper += 1\n        else:\n            count_lower += 1\n    return f\"lower = {count_lower} and upper = {count_upper}\"\n            \nstring = \"Jonathan Moll is the Best\"\nprint(upper_lower(string))",
   "execution_count": null,
   "outputs": []
  },
  {
   "metadata": {
    "trusted": false
   },
   "cell_type": "code",
   "source": "\"\"\"\nProblem: 100\nWrite a Python program to find the sum of all prime numbers within a given range. Prompt the user to enter the lower and upper limits.\n\"\"\"\ndef is_prime(num):\n    if num <= 1:\n        return False\n    for i in range(2, int(num**0.5) + 1):\n        if num % i == 0:\n            return False\n    return True\n\ndef sum_of_primes(lower, upper):\n    total = 0\n    for num in range(lower, upper + 1):\n        if is_prime(num):\n            total += num\n    return total\n\ndef main():\n    lower_limit = int(input(\"Enter the lower limit: \"))\n    upper_limit = int(input(\"Enter the upper limit: \"))\n    prime_sum = sum_of_primes(lower_limit, upper_limit)\n    print(f\"The sum of all prime numbers between {lower_limit} and {upper_limit} is: {prime_sum}\")\n\nif __name__ == \"__main__\":\n    main()",
   "execution_count": null,
   "outputs": []
  },
  {
   "metadata": {
    "trusted": false
   },
   "cell_type": "code",
   "source": "",
   "execution_count": null,
   "outputs": []
  }
 ],
 "metadata": {
  "kernelspec": {
   "name": "python3",
   "display_name": "Python 3",
   "language": "python"
  },
  "language_info": {
   "name": "python",
   "version": "3.10.4",
   "mimetype": "text/x-python",
   "codemirror_mode": {
    "name": "ipython",
    "version": 3
   },
   "pygments_lexer": "ipython3",
   "nbconvert_exporter": "python",
   "file_extension": ".py"
  }
 },
 "nbformat": 4,
 "nbformat_minor": 2
}