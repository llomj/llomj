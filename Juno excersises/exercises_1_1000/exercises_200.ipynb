{
 "cells": [
  {
   "metadata": {
    "trusted": false
   },
   "cell_type": "code",
   "source": "\"\"\"\nProblem: 101\nWrite a Python program to calculate the power of a number using recursion. Prompt the user to enter a base number and an exponent.\n\"\"\"\n\ndef power(base, exp):\n    if exp == 0:\n        return 1\n    return base * power(base, exp - 1)\n\nbase = float(input(\"Enter the base number: \"))\nexp = int(input(\"Enter the exponent: \"))\n\nresult = power(base, exp)\nprint(f\"{base} to the power of {exp} is: {result}\")",
   "execution_count": null,
   "outputs": []
  },
  {
   "metadata": {
    "trusted": false
   },
   "cell_type": "code",
   "source": "\"\"\"\nProblem 102:\nWrite a Python program to check if a string is an anagram of another string, ignoring whitespace. Prompt the user to enter two strings.\n\"\"\"\n\ndef is_anagram():\n    string1 = input(\"type string: \").replace(\" \", \"\")\n    string2 = input(\"type string: \").replace(\" \", \"\")\n    sort1 = sorted(string1)\n    sort2 = sorted(string2)\n    \n    if sort1 == sort2:\n        print(\"this is anagram\")\n    else:\n        print(\"this is not anagram\")\n    \nis_anagram()\n        \ndef is_anagram(string1, string2):\n    string1 = string1.replace(\" \", \"\")\n    string2 = string2.replace(\" \", \"\")\n    \n    return sorted(string1) == sorted(string2)\n    \nstring1 = \"listen\"\nstring2 = \"silent\"\n\nprint(is_anagram(string1, string2))",
   "execution_count": null,
   "outputs": []
  },
  {
   "metadata": {
    "trusted": false
   },
   "cell_type": "code",
   "source": "\"\"\"\n103\nWrite a Python program to find the largest and smallest digits in a number. Prompt the user to enter a number.\n\"\"\"\n\ndef largest_smallest():\n    user = input(\"type list of numbers: \").split()\n    int_num = []\n    for number in user:\n        int_num.append(int(number))\n        \n    max_num = max(int_num)\n    min_num = min(int_num)\n    print(max_num, min_num)\n        \nlargest_smallest()",
   "execution_count": null,
   "outputs": []
  },
  {
   "metadata": {
    "trusted": false
   },
   "cell_type": "code",
   "source": "\"\"\"\nProblem: 104\nWrite a Python program to check if a number is a perfect square. Prompt the user to enter a number\"\n\"\"\"\n\nimport math\n\ndef is_perfect_square(num):\n    root = math.isqrt(num)\n    return root * root == num\n\nnum = int(input(\"Enter a number: \"))\n\nif is_perfect_square(num):\n    print(f\"{num} is a perfect square.\")\nelse:\n    print(f\"{num} is not a perfect square.\")",
   "execution_count": null,
   "outputs": []
  },
  {
   "metadata": {
    "trusted": false
   },
   "cell_type": "code",
   "source": "\"\"\"\nProblem 105:\nWrite a Python program to find the sum of all odd numbers in a list. Prompt the user to enter a list of numbers.\n\"\"\"\n\ndef all_odd_numbers(numbers):\n    count = 0\n    for number in numbers:\n        if number % 2 != 0:\n            count += number\n    return count\n\nlst = [2, 10, 3, 7]    \nprint(all_odd_numbers(lst))",
   "execution_count": null,
   "outputs": []
  },
  {
   "metadata": {
    "trusted": false
   },
   "cell_type": "code",
   "source": "\"\"\"\nProblem 106:\nWrite a Python program to find the sum of all odd numbers in a list. Prompt the user to enter a list of numbers.\n\"\"\"\n\ndef sum_of_odd_numbers():\n    user_input = input(\"Enter a list of numbers separated by spaces: \")\n    split_numbers = user_input.split()\n    int_numbers = []\n    \n    for num in split_numbers:\n        int_numbers.append(int(num))\n    \n    odd_sum = 0\n    for num in int_numbers:\n        if num % 2 != 0:\n            odd_sum += num\n    \n    print(\"The sum of all odd numbers is:\", odd_sum)\n\nsum_of_odd_numbers()\n\ndef sum_of_all_odd():\n    user = input(\"Enter numbers separated by spaces: \").split()\n    total = 0\n    for number in user:\n        number = int(number)\n        if number % 2 != 0:\n            total += number\n    \n    print(total)\n            \nsum_of_all_odd()",
   "execution_count": null,
   "outputs": []
  },
  {
   "metadata": {
    "trusted": false
   },
   "cell_type": "code",
   "source": "\"\"\"\nProblem 107:\nWrite a Python program to find the common characters between two strings. Prompt the user to enter two strings.\n\"\"\"\n\ndef common_char():\n    user_input = input(\"Type 2 strings separated by a space: \").split()\n    if len(user_input) != 2:\n        print(\"Please enter exactly two strings.\")\n        return\n    \n    str1, str2 = user_input\n    \n    common = []\n    for char in str1:\n        if char in str2 and char not in common: \n            common.append(char)\n    \n    return common\n\nprint(common_char())\n\ndef common_char(string1, string2):\n    characters = []\n    for char in string1:\n        if char in string2 and char not in characters:\n            characters.append(char)\n    \n    return characters\n    \nname1 = input(\"Enter the first string: \")\nname2 = input(\"Enter the second string: \")\nprint(common_char(name1, name2))",
   "execution_count": null,
   "outputs": []
  },
  {
   "metadata": {
    "trusted": false
   },
   "cell_type": "code",
   "source": "\"\"\"\nProblem: 108\nWrite a Python program to remove duplicates from a string using set(). Prompt the user to enter a string \n\"\"\"\ndef remove_duplicates():\n    user = input(\"type string: \")\n    unique_user = set()\n    \n    for char in user:\n        if char not in unique_user:\n            unique_user.add(char)\n            \n    print(\"\".join(unique_user))\n            \nremove_duplicates()\n\ndef remove_duplicates():\n    user = input(\"type string: \")\n    unique_user = set()\n    result = []\n    \n    for char in user:\n        if char not in unique_user:\n            unique_user.add(char)\n            result.append(char)\n            \n    print(\"\".join(result))\n            \nremove_duplicates()",
   "execution_count": null,
   "outputs": []
  },
  {
   "metadata": {
    "trusted": true
   },
   "cell_type": "code",
   "source": "\"\"\"\nProblem: 109\nWrite a Python program to check if a number is an Armstrong number. An Armstrong number is a number that is equal to the sum of its own digits, each raised to the power of the number of digits. Prompt the user to enter a number.\n\"\"\"\n\ndef is_armstrong(number):\n    digits = []\n    for digit in str(number):\n        digits.append(int(digit))\n    \n    power = len(digits)\n    total = 0\n    for digit in digits:\n        total += digit ** power\n        \n    return total == number\n\nnumber = int(input(\"Enter a number: \"))\n\nif is_armstrong(number):\n    print(f\"{number} is an Armstrong number.\")\nelse:\n    print(f\"{number} is not an Armstrong number.\")\n\nprint(number)",
   "execution_count": null,
   "outputs": []
  },
  {
   "metadata": {
    "trusted": false
   },
   "cell_type": "code",
   "source": "\"\"\"\nProblem 110:\nWrite a Python program to find the number of vowels and consonants in a string. Prompt the user to enter a string.\n\"\"\"\n\ndef vowels_consonates(string):\n    string = string.replace(\" \", \"\")\n    vowels = \"aeiou\"\n    count_vowels = 0\n    consonates = 0\n    \n    for char in string:\n        if char in vowels:\n            count_vowels += 1\n        if char not in vowels:\n            consonates += 1\n    return f\"vowels = {count_vowels}\\nconsonates = {consonates}\"\n            \nlst = \"Jonathan is there next best thing\"\nprint(vowels_consonates(lst))",
   "execution_count": null,
   "outputs": []
  },
  {
   "metadata": {
    "trusted": false
   },
   "cell_type": "code",
   "source": "\"\"\"\nProblem 111:\nWrite a Python program to find the second smallest element in a list.\n\"\"\"\ndef second_smallest_element():\n    user_input = input(\"Enter numbers separated by spaces: \")\n    int_numbers = []\n    for num_str in user_input.split():\n        int_numbers.append(int(num_str))\n\n    sorted_numbers = sorted(int_numbers)\n    \n    if len(sorted_numbers) >= 2:\n        return sorted_numbers[1] \n    else:\n        return \"List should contain at least two numbers.\"\n\nprint(second_smallest_element())\n\ndef second_smallest_element(elements):\n    if len(elements) < 2:\n        return None  \n        \n    sorted_elements = sorted(elements, key=len)\n    \n    return sorted_elements[1]\n\narg = [\"Jonathan\", \"hot\", \"sand\"]\nprint(second_smallest_element(arg))",
   "execution_count": null,
   "outputs": []
  },
  {
   "metadata": {
    "trusted": true
   },
   "cell_type": "code",
   "source": "\"\"\"\nProblem: 112\nWrite a Python program to generate all possible permutations of a given string. Prompt the user to enter a string.\n\"\"\"\n\nfrom itertools import permutations\n\ndef generate_permutations(string):\n    result = []\n    for p in permutations(string):\n        result.append(''.join(p))\n    return result\n\nstring = input(\"Enter a string: \")\nresult = generate_permutations(string)\nprint(\"Permutations:\", result)",
   "execution_count": null,
   "outputs": []
  },
  {
   "metadata": {
    "trusted": true
   },
   "cell_type": "code",
   "source": "\"\"\"\n113\nDefine a function max() that takes two numbers as arguments and returns the largest of them. Use the ifthen-else construct available in Python. (It is true that Python has the max() function built in, but writing it yourself is nevertheless a good exercise.)\n\"\"\"\n\ndef max_num(num1, num2):\n    if num1 > num2:\n        return f\"This is max number:  {num1}\"\n    else:\n        return f\"This is max number: {num2}\"\n    \nnum1 = 10\nnum2 = 20\nprint(max_num(num1, num2))",
   "execution_count": null,
   "outputs": []
  },
  {
   "metadata": {
    "trusted": false
   },
   "cell_type": "code",
   "source": "\"\"\"\nProblem: 114\ndescription\": \"Define a function max_of_three() that takes three numbers as arguments and returns the largest of them.\n\"\"\"\n\ndef is_armstrong(number):\n    digits = []\n    for digit in str(number):\n        digits.append(int(digit))\n    power = len(digits)\n    total = 0\n    for digit in digits:\n        total += digit ** power\n        \n    return total == number\n\nnumber = int(input(\"Enter a number: \"))\n\nif is_armstrong(number):\n    print(f\"{number} is an Armstrong number.\")\nelse:\n    print(f\"{number} is not an Armstrong number.\")",
   "execution_count": null,
   "outputs": []
  },
  {
   "metadata": {
    "trusted": false
   },
   "cell_type": "code",
   "source": "\"\"\"\nProblem: 115\nDefine a function that computes the length of a given list or string. (It is true that Python has the len() function built in, but writing it yourself is nevertheless a good exercise.)\n\"\"\"\n\ndef length_string(string):\n    count = 0\n    for char in string:\n        count += 1\n    return count\n    \nname = \"Jonathan\"\nprint(length_string(name))\n\ndef length_list(string):\n    count = 0\n    for char in string:\n        count += 1\n    return count\n    \nlst = [\"list\", \"it\", \"all\"]\nprint(length_list(lst))",
   "execution_count": null,
   "outputs": []
  },
  {
   "metadata": {
    "trusted": false
   },
   "cell_type": "code",
   "source": "\"\"\"\n116\nWrite a function that takes a character (i.e. a string of length 1) and returns True if it is a vowel, False otherwise.\n\"\"\"\n\ndef is_vowel(string):\n    return string in \"aeiou\"\n\narg1 = \"e\"\narg2 = \"h\"\narg3 = \"a\"\nprint(is_vowel(arg1))\nprint(is_vowel(arg2))\nprint(is_vowel(arg3))\n\ndef is_vowel(char):\n    vowels = \"aeiouAEIOU\"\n    if len(char) == 1 and char.isalpha():  \n        return char.lower() in vowels\n    else:\n        return False\n        \nprint(is_vowel('a'))  \nprint(is_vowel('E')) \nprint(is_vowel('x')) \nprint(is_vowel('9')) \nprint(is_vowel(''))  \nprint(is_vowel('aa'))",
   "execution_count": null,
   "outputs": []
  },
  {
   "metadata": {
    "trusted": false
   },
   "cell_type": "code",
   "source": "\"\"\"\nProblem: 117\nWrite a function translate() that will translate a text into 'rövarspråket'' (Swedish for 'robber's language''). That is, double every consonant and place an occurrence of 'o'' in between. For example, translate('this is fun'') should return the string 'tothohisos isos fofunon'.\n\"\"\"\n\ndef translate(text):\n    vowels = \"aeiouAEIOU\"\n    translated = \"\"\n    for char in text:\n        if char.isalpha() and char not in vowels:\n            translated += char + 'o' + char\n        else:\n            translated += char\n    return translated\n\ntext = input(\"Enter a text: \")\nresult = translate(text)\nprint(result)",
   "execution_count": null,
   "outputs": []
  },
  {
   "metadata": {
    "trusted": false
   },
   "cell_type": "code",
   "source": "\"\"\"\nProblem: 118\nDefine a function sum() and a function multiply() that sums and multiplies (respectively) all the numbers in a list of numbers. For example, sum([1, 2, 3, 4]) should return 10, and multiply([1, 2, 3, 4]) should return 24.\n\"\"\"\n\ndef sum(numbers):\n    total = 0\n    for number in numbers:\n        total += number\n    return total\n\ndef multiply(numbers):\n    result = 1\n    for number in numbers:\n        result *= number\n    return result\n\nnumbers = [1, 2, 3, 4]\nprint(\"Sum:\", sum(numbers)) \nprint(\"Multiply:\", multiply(numbers))",
   "execution_count": null,
   "outputs": []
  },
  {
   "metadata": {
    "trusted": false
   },
   "cell_type": "code",
   "source": "\"\"\"\nProblem: 119\nDefine a function reverse() that computes the reversal of a string. For example, reverse('I am testing'') should return the string 'gnitset ma I'.\n\"\"\"\n\ndef reverse(string):\n    reversed_string = \"\"\n    for char in string:\n        reversed_string = char + reversed_string\n    return reversed_string\n\nstring = input(\"Enter a string: \")\nresult = reverse(string)\nprint(result)",
   "execution_count": null,
   "outputs": []
  },
  {
   "metadata": {
    "trusted": false
   },
   "cell_type": "code",
   "source": "\"\"\"\nProblem: 120\nDefine a function is_palindrome() that recognizes palindromes (i.e. words that look the same written backwards). For example, is_palindrome('radar') should return True.\n\"\"\"\n\ndef palindromes(string):\n    for char in string:\n        if string == string[::-1]:\n            return True\n    return False\n\nstring = \"radarh\"\nprint(palindromes(string))",
   "execution_count": null,
   "outputs": []
  },
  {
   "metadata": {
    "trusted": false
   },
   "cell_type": "code",
   "source": "\"\"\"\nProblem 121:\nDefine a function is_palindrome() that recognizes palindromes (i.e. words that look the same written backwards). For example, is_palindrome('radar') should return True.\n\"\"\"\ndef is_palindrome(string):\n    if string == string[::-1]:\n        return True\n    return False\n     \nname = \"jojj\"\nprint(is_palindrome(name))",
   "execution_count": null,
   "outputs": []
  },
  {
   "metadata": {
    "trusted": false
   },
   "cell_type": "code",
   "source": "\"\"\"\nProblem: 122\nWrite a function is_member() that takes a value (i.e. a number, string, etc) x and a list of values a, and returns True if x is a member of a, False otherwise. (Note that this is exactly what the in operator does, but for the sake of the exercise you should pretend Python did not have this operator.\n\"\"\"\n\ndef is_member(x, a):\n    for item in a:\n        if item == x:\n            return True\n    return False\n\nx = input(\"Enter a value: \")\na = input(\"Enter a list of values (comma-separated): \").split(',')\n\nresult = is_member(x, a)\nprint(result)",
   "execution_count": null,
   "outputs": []
  },
  {
   "metadata": {
    "trusted": false
   },
   "cell_type": "code",
   "source": "\"\"\"\nProblem: 123\nDefine a function overlapping() that takes two lists and returns True if they have at least one member in common, False otherwise. You may use your is_member() function, or the in operator, but for the sake of the exercise, you should (also) write it using two nested forloops.\n\"\"\"\n\ndef overlapping(list1, list2):\n    for item1 in list1:\n        for item2 in list2:\n            if item1 == item2:\n                return True\n    return False\n    \nlist1 = [1, 2, 3, 4]\nlist2 = [4, 5, 6, 7]\nprint(overlapping(list1, list2))  \n\nlist1 = ['apple', 'banana', 'cherry']\nlist2 = ['date', 'elderberry', 'fig']\nprint(overlapping(list1, list2)) \n \ndef is_member(element, lst):\n    for item in lst:\n        if element == item:\n            return True\n    return False\n\ndef overlapping(list1, list2):\n    for item1 in list1:\n        if is_member(item1, list2):\n            return True\n    return False\n\nlist1 = [1, 2, 3, 4]\nlist2 = [4, 5, 6, 7]\nprint(overlapping(list1, list2))\n\nlist1 = ['apple', 'banana', 'cherry']\nlist2 = ['date', 'elderberry', 'fig']\nprint(overlapping(list1, list2))",
   "execution_count": null,
   "outputs": []
  },
  {
   "metadata": {
    "trusted": false
   },
   "cell_type": "code",
   "source": "\"\"\"\nProblem 124:\nDefine a function overlapping() that takes two lists and returns True if they have at least one member in common, False otherwise. You may use your is_member() function, or the in operator, but for the sake of the exercise, you should (also) write it using two nested forloops.\n\"\"\"\n\ndef overlapping(lst1, lst2):\n    for element in lst1:\n        if element in lst2:\n            return True\n    return False\n    \nlst1 = [2, 4, 6, 8, 10]\nlst2 = [99, 66, 66, 16]\nprint(overlapping(lst1, lst2))\n\ndef overlapping(lst1, lst2):\n    for i in lst1:\n        for j in lst2:\n            if i == j:\n                return True\n    return False\n    \nlst1 = [2, 4, 6, 8, 10]\nlst2 = [99, 66, 66, 16]\nprint(overlapping(lst1, lst2))",
   "execution_count": null,
   "outputs": []
  },
  {
   "metadata": {
    "trusted": false
   },
   "cell_type": "code",
   "source": "\"\"\"\nProblem: 125\nDefine a procedure histogram() that takes a list of integers and prints a histogram to the screen. For example, histogram([4, 9, 7]) should print the following:\n\"\"\"\n\ndef histogram(numbers):\n    for number in numbers:\n        print('*' * number)\n\nhistogram([4, 9, 7])\n\ndef histogram(numbers):\n    for number in numbers:\n        print('*' * number)\n        \nnumbers = [4, 9, 7]\nhistogram(numbers)\n\ndef histrogram(numbers):\n    result = \"\"\n    for number in numbers:\n        result += \"*\" * number + \"\\n\"\n    return result\n    \nnumbers = [2, 4, 8]\nprint(histrogram(numbers))",
   "execution_count": null,
   "outputs": []
  },
  {
   "metadata": {
    "trusted": false
   },
   "cell_type": "code",
   "source": "\"\"\"\nProblem 126:\nWrite a program that maps a list of words into a list of integers representing the lengths of the correponding words.\n\"\"\"\n\ndef map_words_to_lengths(words):\n    lengths = []\n    for word in words:\n        lengths.append(len(word))\n    return lengths\n\nwords = [\"apple\", \"banana\", \"cherry\", \"date\"]\nlengths = map_words_to_lengths(words)\nprint(lengths)",
   "execution_count": null,
   "outputs": []
  },
  {
   "metadata": {
    "trusted": false
   },
   "cell_type": "code",
   "source": "\"\"\"\nProblem 127:\nWrite a function find_longest_word() that takes a list of words and returns the length of the longest one.\n\"\"\"\n\ndef find_longest_word(elements):\n    longest_element = elements[0]\n    for element in elements:\n        if element > longest_element:\n            longest_element = element\n    return len(element)\n               \nlst = [\"jo\", \"tre\", \"Jonny\", \"abracadabr\"] \nprint(find_longest_word(lst))",
   "execution_count": null,
   "outputs": []
  },
  {
   "metadata": {
    "trusted": false
   },
   "cell_type": "code",
   "source": "\"\"\"\nProblem 128:\nWrite a function filter_long_words() that takes a list of words and an integer n and returns the list of words that are longer than n.\n\"\"\"\n\ndef filter_long_words(lst, n):\n    longest_words = []\n    for word in lst:\n        if len(word) > n:\n            longest_words.append(word)\n    return longest_words\n           \nlst = [\"three\", \"threebesthorses\" \"hours\", \"Jonathanmollthebestintheworld\"]\nn = 6\nprint(filter_long_words(lst, n))",
   "execution_count": null,
   "outputs": []
  },
  {
   "metadata": {
    "trusted": false
   },
   "cell_type": "code",
   "source": "\"\"\"\nProblem: 129\nA pangram is a sentence that contains all the letters of the English alphabet at least once, for example: The quick brown fox jumps over the lazy dog. Your task here is to write a function to check a sentence to see if it is a pangram or not.\n\"\"\"\n\ndef is_pangram(sentence):\n    alphabet = \"abcdefghijklmnopqrstuvwxyz\"\n    sentence = sentence.lower()\n    for letter in alphabet:\n        if letter not in sentence:\n            return False\n    return True\n\nsentence = input(\"Enter a sentence: \")\nresult = is_pangram(sentence)\nprint(result)",
   "execution_count": null,
   "outputs": []
  },
  {
   "metadata": {
    "trusted": false
   },
   "cell_type": "code",
   "source": "\"\"\"\nProblem: 130\nDefine a simple 'spelling correction' function correct() that takes a string and sees to it that 1) two or more occurrences of the space character is compressed into one, and 2) inserts an extra space after a period if the period is directly followed by a letter. E.g. correct('This is very funny and cool.Indeed!'') should return 'This is very funny and cool. Indeed!'' Tip: Use regular expressions!\n\"\"\"\n\nimport re\n\ndef correct(text):\n    text = re.sub(r'\\s+', ' ', text)\n    text = re.sub(r'\\.(?=[A-Za-z])', '. ', text)\n    return text\n\ntext = input(\"Enter a string: \")\nresult = correct(text)\nprint(result)",
   "execution_count": null,
   "outputs": []
  },
  {
   "metadata": {
    "trusted": true
   },
   "cell_type": "code",
   "source": "\"\"\"\nProblem 131:\nUsing the higher order function reduce(), write a function max_in_list() that takes a list of numbers and returns the largest one. Then ask yourself: why define and call a new function, when I can just as well call the reduce() function directly?\n\"\"\"\nfrom functools import reduce\n\ndef max_func(a, b):\n    if a > b:\n        return a\n    return b\n\ndef max_in_list(numbers):\n    return reduce(max_func, numbers)\n    \nnumbers = [1, 5, 3, 9, 2]\nprint(max_in_list(numbers))",
   "execution_count": null,
   "outputs": []
  },
  {
   "metadata": {
    "trusted": true
   },
   "cell_type": "code",
   "source": "\"\"\"\n132\nWrite a Python program to creat a time table where the user puts a number as a argument.\n\"\"\"\n\ndef time_table(number):\n    result = \"\"\n    for i in range(1, 11):\n        total = number * i\n        result += f\"{i} x {number} = {total}\\n\"\n    return result\n        \nlst = 6\nprint(time_table(lst))",
   "execution_count": null,
   "outputs": []
  },
  {
   "metadata": {
    "trusted": true
   },
   "cell_type": "code",
   "source": "\"\"\"\nProblem: 133\nWrite a program to create a time table using 2 for loops to print the full time table from 1 -10, eg 1 x 1 up to 10 x 10\"\n\"\"\"\n\nfor i in range(1, 11):\n    for j in range(1, 11):\n        print(f\"{i} x {j} = {i * j}\")",
   "execution_count": null,
   "outputs": []
  },
  {
   "metadata": {
    "trusted": true
   },
   "cell_type": "code",
   "source": "\"\"\"\nProblem 135:\nWrite a function that takes numbers string \"123\" and splits the numbers into a string (\"1\", \"2\", \"3\").\n\"\"\"\n\ndef split_number(numbers):\n    numbers_split = numbers.split()\n    number_lst = []\n    for number in numbers:\n        number_lst.append(number)\n    return number_lst\n        \narg = \"123\"\nprint(split_number(arg))",
   "execution_count": null,
   "outputs": []
  },
  {
   "metadata": {
    "trusted": true
   },
   "cell_type": "code",
   "source": "\"\"\"\nProblem 136:\nWrite a function that sorts words in a sentence alphabetically.\n\"\"\"\n\ndef alphabetically_ordered(sentence):\n    return \" \".join(sorted(sentence.split()))\n\nsentence = \"hello caca face\"\nprint(alphabetically_ordered(sentence))",
   "execution_count": null,
   "outputs": []
  },
  {
   "metadata": {
    "trusted": true
   },
   "cell_type": "code",
   "source": "\"\"\"\nProblem 137:\nWrite a function that sorts numbers (int) from smallest number to biggest number.\n\"\"\"\n\ndef smallest_largest(numbers):\n    return sorted(numbers)\n        \nnumbers = [2, 76, 466, 3, 23]\nprint(smallest_largest(numbers))",
   "execution_count": null,
   "outputs": []
  },
  {
   "metadata": {
    "trusted": true
   },
   "cell_type": "code",
   "source": "\"\"\"\nProblem 138:\nWrite a function that sorts number (int) from biggest number to smallest number.\n\"\"\"\n\ndef largest_smallest(numbers):\n    return sorted(numbers)[::-1]\n        \nnumbers = [2, 76, 466, 3, 23]\nprint(largest_smallest(numbers))",
   "execution_count": null,
   "outputs": []
  },
  {
   "metadata": {
    "trusted": true
   },
   "cell_type": "code",
   "source": "\"\"\"\nProblem 139:\nWrite a function using sorted() number int) returning the seconded largest number from that list.\n\"\"\"\n\ndef seconded_largest_number(numbers):\n    return sorted(numbers)[-2]\n        \nnumbers = [2, 76, 466, 3, 23]\nprint(seconded_largest_number(numbers))",
   "execution_count": null,
   "outputs": []
  },
  {
   "metadata": {
    "trusted": true
   },
   "cell_type": "code",
   "source": "\"\"\"\nProblem 140:\nWrite a function using sorted() number int) returning the fourth largest number from that list.\n\"\"\"\n\ndef fourth_largest_number(numbers):\n    return sorted(numbers)[-4]\n        \nnumbers = [2, 76, 466, 3, 23]\nprint(fourth_largest_number(numbers))",
   "execution_count": null,
   "outputs": []
  },
  {
   "metadata": {
    "trusted": true
   },
   "cell_type": "code",
   "source": "\"\"\"\nProblem 141:\nWrite a function using sorted() returning the smallest and third largest number from that list.\n\"\"\"\n\ndef smallest_and_third(numbers):\n    smallest = sorted(numbers)[0]\n    third_largest = sorted(numbers)[-3]\n    return smallest, third_largest\n\nnumbers = [2, 76, 466, 3, 23]\nprint(smallest_and_third(numbers))",
   "execution_count": null,
   "outputs": []
  },
  {
   "metadata": {
    "trusted": true
   },
   "cell_type": "code",
   "source": "\"\"\"\nProblem 142:\nWrite a function that sorts number from smallest number to biggest number using sorted().\n\"\"\"\n\ndef largest_smallest(numbers):\n    return sorted(numbers)[::]\n        \nnumbers = [2, 76, 466, 3, 23]\nprint(largest_smallest(numbers)) \n\ndef smallest_biggest(numbers):\n    return sorted(numbers)\n    \nlst = [2, 24, 23, 27, 2]\nprint(smallest_biggest(lst))",
   "execution_count": null,
   "outputs": []
  },
  {
   "metadata": {
    "trusted": true
   },
   "cell_type": "code",
   "source": "\"\"\"\nProblem 143:\nWrite a function with user input that coverts 1 2 3 (int) into a \"1\" \"2\" \"3\" (str).\n\"\"\"\n\ndef int_str():\n    user_lst = []\n    user = input(\"type: \")\n    split_str = user.split()\n    for word in split_str:\n        user_lst.append(word)\n    print(user_lst)\n    \nint_str()",
   "execution_count": null,
   "outputs": []
  },
  {
   "metadata": {
    "trusted": true
   },
   "cell_type": "code",
   "source": "\"\"\"\nProblem 144:\nWrite a function that coverts 123 (int) into a \"1\" \"2\" \"3\" (str).\n\"\"\"\n\ndef int_to_str_list(number):\n    number_str = str(number)\n    digits_as_strings = []\n    for digit in number_str:\n        digits_as_strings.append(digit)\n    return digits_as_strings\n\nnumber = 123\nprint(int_to_str_list(number))",
   "execution_count": null,
   "outputs": []
  },
  {
   "metadata": {
    "trusted": true
   },
   "cell_type": "code",
   "source": "\"\"\"\nProblem 145:\nWrite a Python program to find the common number between two lists. Prompt the user to enter two lists, for this exercise do not use set.\n\"\"\"\ndef common_numbers(lst1, lst2):\n    result = []\n    for i in lst1:\n        for j in lst2:\n            if i == j and i not in result:\n                result.append(i)\n    return result\n\nlst1 = [2, 24, 23, 27, 2]\nlst2 = [56, 2, 27, 455, 1]\nprint(common_numbers(lst1, lst2))",
   "execution_count": null,
   "outputs": []
  },
  {
   "metadata": {
    "trusted": true
   },
   "cell_type": "code",
   "source": "\"\"\"\nProblem 146:\nWrite a function that sorts numbers as  string from biggest number to smallest number.\n\"\"\"\n\ndef big_small(numbers):\n    number_lst = []\n    for number in numbers:\n        number_lst.append(int(number)) \n              \n    number_lst = sorted(number_lst)[::-1]    \n    shorted_str = []\n    \n    for number in number_lst:\n        shorted_str.append(str(number))\n    return shorted_str\n           \nlst = [\"4\", \"67\", \"6\"]\nprint(big_small(lst))",
   "execution_count": null,
   "outputs": []
  },
  {
   "metadata": {
    "trusted": true
   },
   "cell_type": "code",
   "source": "\"\"\"\nProblem 147:\nWrite a function where user types a list of numbers in string and returns a list of numbers from smallest to biggest.\n\"\"\"\n\ndef type_smallest_biggest():\n    user = input(\"type number list: \").split()\n    sort_number = sorted(user)\n       \n    print(sort_number)\n    \ntype_smallest_biggest()\n\n\ndef small_big():\n    user_string = input(\"type number followed by spaces: \")\n    user_split = user_string.split()\n    int_list = []\n    for number in user_split:\n        int_list.append(int(number))\n    \n    int_list.sort()\n    sorted_str = []\n    for number in int_list:\n        sorted_str.append(str(number)) \n    return \" \".join(sorted_str)\n    \nprint(small_big())",
   "execution_count": null,
   "outputs": []
  },
  {
   "metadata": {
    "trusted": true
   },
   "cell_type": "code",
   "source": "\"\"\"\nProblem 148:\nWrite a Python function called `double_elements` that takes a list of numbers as input and returns a new list where each element is doubled, the list must be side by side eg 1, 2, 3, 1, 2, 3\n\"\"\"\n\ndef double_elements(numbers):\n    doubled = numbers + numbers\n    \n    return doubled\n\nlst = [2, 4, 6, 8]\nprint(double_elements(lst))",
   "execution_count": null,
   "outputs": []
  },
  {
   "metadata": {
    "trusted": true
   },
   "cell_type": "code",
   "source": "\"\"\"\nProblem: 149\nWrite a Python program to find the common elements between two lists. Prompt the user to enter two lists using 2 for loops.\n\"\"\"\n\ndef common():\n    lst1 = input(\"type lst: \").split()\n    lst2 = input(\"type lst: \").split()\n    result = []\n    for i in lst1:\n        for j in lst2:\n            if i == j and i not in result:\n                result.append(i)\n    print(result)\n    \ncommon()",
   "execution_count": null,
   "outputs": []
  },
  {
   "metadata": {
    "trusted": true
   },
   "cell_type": "code",
   "source": "\"\"\"\nProblem: 150\nWrite a Python program to find the common elements between two lists. Prompt the user to enter two lists without using for loops.\n\"\"\"\n\ndef common():\n    lst1 = input(\"type lst: \").split()\n    lst2 = input(\"type lst: \").split()\n    set1 = set(lst1)\n    set2 = set(lst2)\n    common_element = set1.intersection(set2)\n        \n    print(common_element)\n    \ncommon()",
   "execution_count": null,
   "outputs": []
  },
  {
   "metadata": {
    "trusted": true
   },
   "cell_type": "code",
   "source": "\"\"\"\nProblem 151:\nWrite a Python function called find_longest_word that takes a list of words as input and returns the longest word in the list. If there are multiple longest words, return the first one encountered.\n\"\"\"\n\ndef find_longest_word(words):\n    count = 0\n    longest_word = \"\"\n    for word in words:\n        if len(word) > count:\n            count = len(word)\n            longest_word = word\n    return longest_word\n\nwords = [\"tree\", \"mountain\", \"do\", \"Jonathanmollfrency\"]\n    \nprint(find_longest_word(words))",
   "execution_count": null,
   "outputs": []
  },
  {
   "metadata": {
    "trusted": true
   },
   "cell_type": "code",
   "source": "\"\"\"\nProblem 152:\nWrite a Python function called `calculate_average` that takes a list of numbers as input and returns the average of those numbers without using sum() and len()\n\"\"\"\n\ndef average(numbers):\n    length = 0\n    total = 0\n    for number in numbers:\n        length += 1\n        total += number\n        result = total / length\n    return result\n    \nnumbers = [4, 667, 68, 766]\nprint(average(numbers))",
   "execution_count": null,
   "outputs": []
  },
  {
   "metadata": {
    "trusted": true
   },
   "cell_type": "code",
   "source": "\"\"\"\nProblem 153:\nWrite a Python program to find the second smallest element in a list.\n\"\"\"\n\ndef second_smallest_element(lst):\n    sorted_lst = sorted(lst, key=len)\n    if len(sorted_lst) >= 2:\n        return sorted_lst[1]\n    else:\n        return None\n           \nlst = [\"t\", \"hope\", \"Jonathan\", \"it\"]\nprint(second_smallest_element(lst))",
   "execution_count": null,
   "outputs": []
  },
  {
   "metadata": {
    "trusted": true
   },
   "cell_type": "code",
   "source": "\"\"\"\nProblem 154:\nWrite a Python function called `find_second_last_element` that takes a list as input and returns the second last element of the list.\n\"\"\"\n\ndef find_last_element():\n    user_input = input(\"Type list (elements separated by spaces): \").split()\n    if not user_input:\n        return None  \n    return user_input[-2]\n\nprint(find_last_element())",
   "execution_count": null,
   "outputs": []
  },
  {
   "metadata": {
    "trusted": true
   },
   "cell_type": "code",
   "source": "\"\"\"\nProblem 155:\nWrite a Python function called reverse_number that takes an integer as input and returns the reverse of that number. For example, if the input is 123, the function should return 321.\n\"\"\"\n\ndef reverse_number(number):\n    return int(str(number)[::-1])\n\nlst = 456\nprint(reverse_number(lst))\n\ndef reverse_number(number):\n    str_number = str(number)\n    reversed_str_number = str_number[::-1]\n    reversed_number = int(reversed_str_number)\n   \n    return reversed_number\n    \nnumber = 123\nprint(reverse_number(number)) \n\ndef reverse_number(number):\n    str_number = str(number)[::-1]\n    int_number = str_number\n    \n    return int_number\n             \nlst = 1234\nprint(reverse_number(lst))",
   "execution_count": null,
   "outputs": []
  },
  {
   "metadata": {
    "trusted": true
   },
   "cell_type": "code",
   "source": "\"\"\"\nProblem 156:\nWrite a Python function called remove_duplicates that takes a string as input and returns a new string with duplicate characters removed, without maintaining the original order of characters.\n\"\"\"\n\ndef remove_duplicates(string):\n    split_word = string.split()\n    set_word = set(split_word)\n    \n    return \" \".join(set_word)\n    \nlst = \"and here is was and in the\"\nprint(remove_duplicates(lst))",
   "execution_count": null,
   "outputs": []
  },
  {
   "metadata": {
    "trusted": true
   },
   "cell_type": "code",
   "source": "\"\"\"\nProblem 157:\nWrite a Python function called remove_duplicates that takes a string as input and returns the duplicates removed into a string.\n\"\"\"\n\ndef remove_duplicates(string):\n    split_word = string.split()\n    seen = set()\n    duplicates = set()\n    for word in split_word:\n        if word in seen:\n            duplicates.add(word)\n        else:\n            seen.add(word)\n    \n    return ' '.join(duplicates)\n    \nlst = \"and here is was and in the\"\nprint(remove_duplicates(lst))",
   "execution_count": null,
   "outputs": []
  },
  {
   "metadata": {
    "trusted": true
   },
   "cell_type": "code",
   "source": "\"\"\"\nProblem: 158\nWrite a Python program to find the largest element in a list. Prompt the user to enter a list of numbers using sorted.\n\"\"\"\n    \ndef largest_element(numbers):\n   sorted_numbers = sorted(numbers)\n   largest_number = sorted_numbers[-1]\n   \n   return largest_number\n                \nnumbers = [2, 56, 75, 4566, 3]\nprint(largest_element(numbers))",
   "execution_count": null,
   "outputs": []
  },
  {
   "metadata": {
    "trusted": true
   },
   "cell_type": "code",
   "source": "\"\"\"\nProblem: 159\nWrite a Python program to find the largest element in a list. Prompt the user to enter a list of numbers using max().\n\"\"\"\n\ndef largest_element(numbers):\n   return max(numbers)\n                \nnumbers = [2, 56, 75, 4566, 3]\nprint(largest_element(numbers))",
   "execution_count": null,
   "outputs": []
  },
  {
   "metadata": {
    "trusted": true
   },
   "cell_type": "code",
   "source": "\"\"\"\nProblem 160:\nDefine a function that computes the length of a given list or string. (It is true that Python has the len() function built in, but writing it yourself is nevertheless a good exercise.)\n\"\"\"\n\ndef find_length(string):\n    count = 0\n    for char in string:\n        count += 1\n    return count\n    \narg = \"Jonathan\"\nprint(find_length(arg))",
   "execution_count": null,
   "outputs": []
  },
  {
   "metadata": {
    "trusted": true
   },
   "cell_type": "code",
   "source": "\"\"\"\nProblem: 161\nWrite a Python program to find the intersection of two lists. Prompt the user to enter two lists using set.\n\"\"\"\n\ndef intersection():\n    lst1 = input(\"type list: \").split()\n    lst2 = input(\"type list: \").split()\n    sort1 = sorted(lst1)\n    sort2 = sorted(lst2)\n    common = []\n    for word in sort1:\n        if word in sort2:\n            common.append(word)\n    print(common)\n    \nintersection()\n\ndef intersection():\n    lst1 = input(\"type lst1: \").split()\n    lst2 = input(\"type lst2: \").split()\n    set1 = set(lst1)\n    set2 = set(lst2)\n    common = set1.intersection(set2)\n    \n    print(common)\n    \nintersection()\n\ndef intersection_two_list(lst1, lst2):\n    set1 = set(lst1)\n    set2 = set(lst2)\n    result = set1.intersection(set2)\n    \n    return result\n                   \nlst1 = [\"tree\", \"car\", \"house\", \"garden\"]\nlst2 = [\"car\", \"boat\", \"toilet\", \"tree\"]\nprint(intersection_two_list(lst1, lst2))",
   "execution_count": null,
   "outputs": []
  },
  {
   "metadata": {
    "trusted": true
   },
   "cell_type": "code",
   "source": "\"\"\"\nProblem 162:\nWrite a function where user types a list of numbers in string and returns a the third largest number in a list.\n\"\"\"\n\ndef third_largest():\n    user_string = input(\"type number followed by spaces: \")\n    user_split = user_string.split()\n    int_list = []\n    for number in user_split:\n        int_list.append(int(number))\n    \n    int_list.sort()\n    result = int_list[-3]\n    \n    print(result)\n    \nthird_largest()",
   "execution_count": null,
   "outputs": []
  },
  {
   "metadata": {
    "trusted": true
   },
   "cell_type": "code",
   "source": "\"\"\"\nProblem 163:\nWrite a Python function `count_vowels` that takes a string as input and returns a dictionary with the counts of each vowel ('a', 'e', 'i', 'o', 'u') in the string. Ignore case, so 'A' and 'a' should be counted as the same vowel using list comprehension.\n\"\"\"\n\ndef count_vowels(string):\n    vowels = \"aeiou\"\n    result = {}\n    for vowel in vowels:\n        result[vowel] = 0\n    \n    string = string.lower()\n    for char in string:\n        if char in vowels:\n            result[char] += 1\n    \n    return result\n\nstring = \"JOnathAn is the best\"\nprint(count_vowels(string))\n\ndef count_vowels(sentence):\n    sentence = sentence.lower()\n    vowels = \"aeiou\"\n    vowel_counts = {number: 0 for number in vowels}\n    \n    for char in sentence:\n        if char in vowels:\n            vowel_counts[char] += 1\n    return vowel_counts\n    \nstring = \"Jonathan is the best\"    \nprint(count_vowels(string))",
   "execution_count": null,
   "outputs": []
  },
  {
   "metadata": {
    "trusted": true
   },
   "cell_type": "code",
   "source": "\"\"\"\nProblem 164:\nWrite a Python function `count_vowels` that takes a string as input and returns a dictionary with the counts of each vowel ('a', 'e', 'i', 'o', 'u') in the string. Ignore case, so 'A' and 'a' should be counted as the same vowel without using list conprehension.\n\"\"\"\n\ndef count_vowels(sentence):\n    sentence = sentence.lower()\n    vowels = \"aeiou\"\n    vowel_counts = {}\n    for number in vowels:\n        vowel_counts[number] = 0\n    \n    for char in sentence:\n        if char in vowels:\n            vowel_counts[char] += 1\n    \n    return vowel_counts\n\nstring = \"Jonathan is the best\"\nprint(count_vowels(string))",
   "execution_count": null,
   "outputs": []
  },
  {
   "metadata": {
    "trusted": true
   },
   "cell_type": "code",
   "source": "\"\"\"\nProblem 165:\nWrite a function that takes numbers integer 123 and splits the numbers into a string (\"1\", \"2\", \"3\").\n\"\"\"\n\ndef intiger_string(number):\n    return list(str(number))\n    \nnumber = 123\nprint(intiger_string(number))\n\ndef split_number_int(number):\n    number_str = str(number) \n    result = tuple(number_str)\n    \n    return result\n\nnumber = 123\nprint(split_number_int(number))",
   "execution_count": null,
   "outputs": []
  },
  {
   "metadata": {
    "trusted": true
   },
   "cell_type": "code",
   "source": "\"\"\"\nProblem 166:\nWrite a Python function called `double_elements` that takes a list of strings as input and returns a 2 new list where each element is doubled.\n\"\"\"\n\ndef double_elements(lst):\n    doubled = []\n    for word in lst:\n        doubled.append(word)\n    for word in lst:\n        doubled.append(word)\n    return doubled\n    \nlst = [\"tree\", \"house\", \"car\"]\nprint(double_elements(lst))",
   "execution_count": null,
   "outputs": []
  },
  {
   "metadata": {
    "trusted": true
   },
   "cell_type": "code",
   "source": "\"\"\"\nProblem 167:\nWrite a Python program to find the largest and smallest elements in a list. Prompt the user to enter a list of numbers using sorted().\"\n\"\"\"\n\ndef l_s(numbers):\n    sort_number_largest = sorted(numbers)[-1]\n    sort_number_smallest = sorted(numbers)[0]\n    \n    return sort_number_largest, sort_number_smallest \n       \nnumbers = [1, 2, 3, 4, 5]\nprint(l_s(numbers))",
   "execution_count": null,
   "outputs": []
  },
  {
   "metadata": {
    "trusted": true
   },
   "cell_type": "code",
   "source": "\"\"\"\nProblem 168:\nWrite a Python function called count_words that takes a string as input and returns a dictionary where the keys are the words in the string and the values are the counts of each word. Words are separated by spaces, and the function should be case-insensitive, make the keys alphabetical.\n\"\"\"\n\ndef count_words():\n    user = input(\"type words: \").split()\n    sort = sorted(user)\n    result = {}\n    for word in sort:\n        word = word.lower()\n        if word in result:\n            result[word] += 1\n        else:\n            result[word] = 1\n    print(result)\n    \ncount_words()\n\ndef count_words(string):\n    string = string.lower()\n    words = string.split()\n    word_count = {}\n    for word in words:\n        if word in word_count:\n            word_count[word] += 1\n        else:\n            word_count[word] = 1\n    \n    sorted_word_count = dict(sorted(word_count.items()))\n    return sorted_word_count\n\ninput_string = \"This is a test. This test is only a test.\"\nprint(count_words(input_string))",
   "execution_count": null,
   "outputs": []
  },
  {
   "metadata": {
    "trusted": true
   },
   "cell_type": "code",
   "source": "\"\"\"\nProblem: 169\nWrite a function merge_dictionaries that takes two dictionaries as arguments and returns a new dictionary that contains all the key-value pairs from both dictionaries. If a key is present in both dictionaries, the value from the second dictionary should overwrite the value from the first dictionary.\n\"\"\"\n\ndef merge_dictionaries(dict1, dict2):\n    merged = dict1.copy()\n    for key, value in dict2.items():\n        merged[key] = value\n    return merged\n\ndict1 = {'a': 1, 'b': 2}\ndict2 = {'b': 3, 'c': 4}\n\nresult = merge_dictionaries(dict1, dict2)\nprint(result)",
   "execution_count": null,
   "outputs": []
  },
  {
   "metadata": {
    "trusted": true
   },
   "cell_type": "code",
   "source": "\"\"\"\nProblem: 170\n Write a function count_characters that takes a string as input and returns a dictionary where the keys are characters in the string and the values are the counts of those characters.\n\"\"\"\n\ndef count_characters(string):\n    counts = {}\n    for char in string:\n        if char in counts:\n            counts[char] += 1\n        else:\n            counts[char] = 1\n    return counts\n\nstring = input(\"Enter a string: \")\nresult = count_characters(string)\nprint(result)",
   "execution_count": null,
   "outputs": []
  },
  {
   "metadata": {
    "trusted": true
   },
   "cell_type": "code",
   "source": "\"\"\"\nProblem: 171\nWrite a function invert_dictionary that takes a dictionary as input and returns a new dictionary where the keys are the values from the input dictionary, and the values are lists of keys from the input dictionary that had that value.\n\"\"\"\n\ndef invert_dictionary(input_dict):\n    inverted = {}\n    for key, value in input_dict.items():\n        if value not in inverted:\n            inverted[value] = []\n        inverted[value].append(key)\n    return inverted\n\ninput_dict = {'a': 1, 'b': 2, 'c': 1}\nresult = invert_dictionary(input_dict)\nprint(result)",
   "execution_count": null,
   "outputs": []
  },
  {
   "metadata": {
    "trusted": true
   },
   "cell_type": "code",
   "source": "\"\"\"\nProblem: 172\nWrite a function filter_by_value that takes a dictionary and a threshold value as input and returns a new dictionary containing only the key-value pairs where the value is greater than the threshold.\n\"\"\"\n\ndef filter_by_value(input_dict, threshold):\n    filtered = {}\n    for key, value in input_dict.items():\n        if value > threshold:\n            filtered[key] = value\n    return filtered\n\ninput_dict = {'a': 5, 'b': 2, 'c': 8}\nthreshold = 3\nresult = filter_by_value(input_dict, threshold)\nprint(result)",
   "execution_count": null,
   "outputs": []
  },
  {
   "metadata": {
    "trusted": true
   },
   "cell_type": "code",
   "source": "\"\"\"\nProblem: 173\nWrite a function combine_lists_to_dict that takes two lists—one for keys and one for values—as input and returns a dictionary where each key-value pair is taken from corresponding elements in the input lists.\n\"\"\"\n\ndef combine_lists_to_dict(keys, values):\n    combined = {}\n    for i in range(len(keys)):\n        combined[keys[i]] = values[i]\n    return combined\n\nkeys = ['a', 'b', 'c']\nvalues = [1, 2, 3]\nresult = combine_lists_to_dict(keys, values)\nprint(result)",
   "execution_count": null,
   "outputs": []
  },
  {
   "metadata": {
    "trusted": true
   },
   "cell_type": "code",
   "source": "\"\"\"\nProblem: 174\nWrite a function max_value_key that takes a dictionary as input and returns the key associated with the maximum value. If the dictionary is empty, the function should return None.\n\"\"\"\n\ndef max_value_key(input_dict):\n    if not input_dict: \n        return None\n    \n    max_value = max(input_dict.values())  \n    \n    for key, value in input_dict.items():\n        if value == max_value:\n            return key\n\nmy_dict = {'a': 10, 'b': 5, 'c': 20, 'd': 15}\nprint(max_value_key(my_dict))\n\nempty_dict = {}\nprint(max_value_key(empty_dict))",
   "execution_count": null,
   "outputs": []
  },
  {
   "metadata": {
    "trusted": true
   },
   "cell_type": "code",
   "source": "\"\"\"\nProblem: 175\nWrite a function dict_equal that takes two dictionaries as input and returns True if they are equal (i.e., they have the same keys with the same corresponding values), and False otherwise.\n\"\"\"\n\ndef dict_equal(dict1, dict2):\n    return dict1 == dict2\n\ndict1 = {'a': 1, 'b': 2}\ndict2 = {'a': 1, 'b': 2}\nresult = dict_equal(dict1, dict2)\nprint(result)",
   "execution_count": null,
   "outputs": []
  },
  {
   "metadata": {
    "trusted": true
   },
   "cell_type": "code",
   "source": "\"\"\"\nProblem: 176\nWrite a function word_frequency that takes a string as input and returns a dictionary where the keys are words in the string and the values are the counts of those words.\n\"\"\"\n\ndef word_frequency(string):\n    words = string.split()\n    result = {}\n    for word in words:\n        if word in result:\n            result[word] += 1\n        else:\n            result[word] = 1\n    return result\n            \nstring = \"gore why are you here you are gore\"\nprint(word_frequency(string))",
   "execution_count": null,
   "outputs": []
  },
  {
   "metadata": {
    "trusted": true
   },
   "cell_type": "code",
   "source": "\"\"\"\nProblem: 177\nWrite a function merge_list_of_dicts that takes a list of dictionaries as input and returns a single dictionary that merges all dictionaries in the list. If any keys are duplicated across dictionaries, the value from the last dictionary in the list should overwrite the previous ones.\n\"\"\"\n\ndef merge_list_of_dicts(dicts):\n    merged = {}\n    for d in dicts:\n        merged.update(d)\n    return merged\n\ndicts = [{'a': 1, 'b': 2}, {'b': 3, 'c': 4}, {'a': 5}]\nresult = merge_list_of_dicts(dicts)\nprint(result)",
   "execution_count": null,
   "outputs": []
  },
  {
   "metadata": {
    "trusted": true
   },
   "cell_type": "code",
   "source": "\"\"\"\nProblem: 178\nWrite a function remove_duplicates_from_values that takes a dictionary as input and returns a new dictionary where each key-value pair is preserved, but the values are lists with duplicates removed.\n\"\"\"\n\ndef remove_duplicates_from_values(input_dict):\n    new_dict = {}\n    for key, value in input_dict.items():\n        new_dict[key] = list(set(value))\n    return new_dict\n\ninput_dict = {'a': [1, 2, 2, 3], 'b': [3, 4, 4, 5], 'c': [1, 1]}\nresult = remove_duplicates_from_values(input_dict)\nprint(result)",
   "execution_count": null,
   "outputs": []
  },
  {
   "metadata": {
    "trusted": true
   },
   "cell_type": "code",
   "source": "\"\"\"\nProblem: 179\nWrite a function common_keys_max_values that takes two dictionaries as input and returns a new dictionary that contains only the keys that are present in both input dictionaries. The value for each key in the new dictionary should be the maximum of the values from the two input dictionaries.\n\"\"\"\n\ndef common_keys_max_values(dict1, dict2):\n    common_keys = {}\n    for key in dict1.keys() & dict2.keys():\n        common_keys[key] = max(dict1[key], dict2[key])\n    return common_keys\n\ndict1 = {'a': 1, 'b': 2, 'c': 3}\ndict2 = {'b': 3, 'c': 1, 'd': 4}\nresult = common_keys_max_values(dict1, dict2)\nprint(result)",
   "execution_count": null,
   "outputs": []
  },
  {
   "metadata": {
    "trusted": true
   },
   "cell_type": "code",
   "source": "\"\"\"\nProblem: 180\nWrite a function average_values that takes a list of dictionaries as input and returns a new dictionary. The new dictionary should contain the same keys, and the values should be the average of the values associated with each key across all input dictionaries.\n\"\"\"\n\ndef average_values(dicts):\n    averages = {}\n    counts = {}\n    for d in dicts:\n        for key, value in d.items():\n            if key in averages:\n                averages[key] += value\n                counts[key] += 1\n            else:\n                averages[key] = value\n                counts[key] = 1\n    \n    for key in averages:\n        averages[key] /= counts[key]\n    \n    return averages\n\ndicts = [{'a': 1, 'b': 2}, {'a': 3, 'b': 4}, {'a': 5, 'b': 6}]\nresult = average_values(dicts)\nprint(result)",
   "execution_count": null,
   "outputs": []
  },
  {
   "metadata": {
    "trusted": true
   },
   "cell_type": "code",
   "source": "\"\"\"\nProblem: 181\nWrite a function merge_dicts_with_lists that takes a list of dictionaries as input. Each dictionary in the list has keys that are strings and values that are lists of integers. The function should merge these dictionaries into a single dictionary where the keys are preserved, and the values are merged lists containing all unique integers from the input dictionaries for each key.\n\"\"\"\n\ndef merge_dicts_with_lists(dicts):\n    merged = {}\n    for d in dicts:\n        for key, value in d.items():\n            if key in merged:\n                merged[key].update(value)\n            else:\n                merged[key] = set(value)\n    \n    for key in merged:\n        merged[key] = list(merged[key])\n    \n    return merged\n\ndicts = [{'a': [1, 2, 3], 'b': [2, 3]}, {'a': [3, 4], 'b': [4, 5], 'c': [6]}, {'c': [7, 8, 6]}]\nresult = merge_dicts_with_lists(dicts)\nprint(result)",
   "execution_count": null,
   "outputs": []
  },
  {
   "metadata": {
    "trusted": true
   },
   "cell_type": "code",
   "source": "\"\"\"\nProblem: 182\nWrite a function group_by_first_letter that takes a list of strings as input and returns a dictionary. The dictionary should group the strings by their first letter. Each key in the dictionary should be a first letter, and the corresponding value should be a list of strings that start with that letter.\n\"\"\"\n\ndef group_by_first_letter(lst):\n    result = {}\n    for word in lst:\n        first_letter = word[0]\n        if first_letter not in result:\n            result[first_letter] = [word]\n        else:\n            result[first_letter].append(word)\n    \n    return result\n\nlst = [\"apple\", \"banana\", \"orange\", \"cake\"]\nprint(group_by_first_letter(lst))",
   "execution_count": null,
   "outputs": []
  },
  {
   "metadata": {
    "trusted": true
   },
   "cell_type": "code",
   "source": "\"\"\"\nProblem 183:\nWrite a Python program to check if a string is an anagram of another string, ignoring whitespace. Prompt the user to enter two strings without using sorted().\n\"\"\"\n        \ndef is_anagram(string1, string2):\n    string1 = string1.replace(\" \", \"\").lower()\n    string2 = string2.replace(\" \", \"\").lower()\n    if len(string1) != len(string2):\n        return False\n        \n    char_count1 = {}\n    char_count2 = {}\n    for char in string1:\n        if char in char_count1:\n            char_count1[char] += 1\n        else:\n            char_count1[char] = 1\n\n    for char in string2:\n        if char in char_count2:\n            char_count2[char] += 1\n        else:\n            char_count2[char] = 1\n    return char_count1 == char_count2\n\nstring1 = input(\"Enter the first string: \")\nstring2 = input(\"Enter the second string: \")\n\nprint(\"Are the strings anagrams?:\", is_anagram(string1, string2))",
   "execution_count": null,
   "outputs": []
  },
  {
   "metadata": {
    "trusted": true
   },
   "cell_type": "code",
   "source": "\"\"\"\nProblem 184:\nWrite a function that takes numbers integer 123 and return 2.\n\"\"\"\n\ndef int(number):\n    number = str(number)\n    list_number = list(number)[1]\n    \n    return list_number\n        \nnumber = 123\nprint(int(number))",
   "execution_count": null,
   "outputs": []
  },
  {
   "metadata": {
    "trusted": true
   },
   "cell_type": "code",
   "source": "\"\"\"\nProblem 185:\nWrite a function that takes numbers integer 12345678 and return 2, 4, 8.\n\"\"\"\n\ndef int(number):\n    number = str(number)\n    num2 = number[1]\n    num4 = number[3]\n    num8 = number[-1]\n    \n    return num2, num4, num8\n        \nnumber = 12345678\nprint(int(number))",
   "execution_count": null,
   "outputs": []
  },
  {
   "metadata": {
    "trusted": true
   },
   "cell_type": "code",
   "source": "\"\"\"\nProblem 186:\nWrite a function that takes numbers integer 12346778910 and users indexing to return the number 2, 4, 8\n\"\"\"\n\ndef get_digits(number, indices):\n    number_str = str(number)\n    result = []\n    for i in indices:\n        result.append(number_str[i])\n\n    return tuple(result)\n\nnumber = 12345678910\nindices = [1, 3, 7]\nprint(get_digits(number, indices))",
   "execution_count": null,
   "outputs": []
  },
  {
   "metadata": {
    "trusted": true
   },
   "cell_type": "code",
   "source": "\"\"\"\nProblem: 187\nWrite a Python function called `double_elements` that takes a list of strings as input and returns a 2 new list where each element is doubled where each element is doubled side by side eg 'tree', 'tree', 'road', 'road', 'slow', 'slow'.\n\"\"\"\n\ndef double_elements(string1):\n    double = []\n    for word in string1:\n        double.append(word)\n        double.append(word)\n    \n    return double\n            \nstring1 = [\"tree\", \"road\", \"slow\"]\nprint(double_elements(string1))",
   "execution_count": null,
   "outputs": []
  },
  {
   "metadata": {
    "trusted": true
   },
   "cell_type": "code",
   "source": "\"\"\"\nProblem 188:\nWrite a Python function called get_initials that takes a full name (first and last name jonathan moll) as input and returns  \"joNathAn moLL\"\" of the name in uppercase (NALL in jonathan moll).\n\"\"\"\n\ndef get_initials(name):\n    name_list = list(name)\n    \n    name_list[2] = name_list[2].upper()\n    name_list[6] = name_list[6].upper()\n    name_list[11] = name_list[11].upper()\n    name_list[12] = name_list[12].upper()\n    \n    return ''.join(name_list)\n\nname = \"jonathan moll\"\nprint(get_initials(name))\n\ndef get_initials(name):\n    initials = []\n    for char in name:\n        if char in \"nall\":\n            initials.append(char.upper())\n        else:\n            initials.append(char)\n    return ''.join(initials)\n\nname = \"jonathan moll\"\nprint(get_initials(name))",
   "execution_count": null,
   "outputs": []
  },
  {
   "metadata": {
    "trusted": true
   },
   "cell_type": "code",
   "source": "\"\"\"\nProblem: 189\nWrite a Python program to find the sum of the digits in a string. Prompt the user to enter a string containing numbers eg \"1234\" should return 10.\n\"\"\"\n\ndef sum_digits():\n    user = list(input(\"type number: \"))\n    count = 0\n    for number in user:\n        count += int(number)\n    print(count)\n                \nsum_digits()\n\ndef digits_string():\n    user = input(\"Type a string containing numbers: \")\n    total = 0\n    for char in user:\n        if char.isdigit():\n            total += int(char)\n            \n    print(total)\n    \ndigits_string()",
   "execution_count": null,
   "outputs": []
  },
  {
   "metadata": {
    "trusted": true
   },
   "cell_type": "code",
   "source": "\"\"\"\nProblem: 190\nWrite a Python program to remove duplicates from a string and maintain the order of characters. Prompt the user to enter a string\n\"\"\"\n\ndef remove_duplicate():\n    user = input(\"type string: \")\n    duplicate = []\n    for char in user:\n        if char not in duplicate:\n            duplicate.append(char)\n    print(duplicate)\n    \nremove_duplicate()",
   "execution_count": null,
   "outputs": []
  },
  {
   "metadata": {
    "trusted": true
   },
   "cell_type": "code",
   "source": "\"\"\"\nProblem: 191\nWrite a Python function called `find_min` that takes a list of numbers as input and returns the minimum number in the list without sorted().\n\"\"\"\n\ndef find_min():\n    user = input(\"type list: \").split()\n    user_int = []\n    for number in user:\n        user_int.append(int(number))\n    \n    min_number = user_int[0]    \n    for number in user_int:\n        if number < min_number:\n            min_number = number\n    print(min_number)\n    \nfind_min()",
   "execution_count": null,
   "outputs": []
  },
  {
   "metadata": {
    "trusted": true
   },
   "cell_type": "code",
   "source": "\"\"\"\nProblem 192:\nWrite a Python function called count_occurrences that takes a list and an element as input and returns the number of times the element appears in the list.\n\"\"\"\n\ndef count_occurrences(lst, element):\n    count = 0\n    for item in lst:\n        if item == element:\n            count += 1\n    return count\n\ntest_list = [1, 2, 3, 4, 1, 2, 1, 5, 1]\nelement_to_count = 1\nprint(\"Number of occurrences of\", element_to_count, \":\", count_occurrences(test_list, element_to_count))\n\ndef main():\n    user = input(\"type element: \").lower()\n    count = 0\n    for word in lst:\n        if word.lower() == user:\n            count += 1\n            \n    if count == 0:\n        return \"not in lst\"\n    else:\n        return count\n               \nlst = [\"Jonathan\", \"Christopher\", \"Jeremy\", \"Jonathan\", \"bad\"]\nprint(main())",
   "execution_count": null,
   "outputs": []
  },
  {
   "metadata": {
    "trusted": true
   },
   "cell_type": "code",
   "source": "\"\"\"\nProblem: 193\nWrite a Python function called `find_min` that takes a list of numbers as input and returns the minimum number in the list. use sorted().\n\"\"\"\n\ndef find_min_num():\n    user = input(\"type number: \").split()\n    int_number = []\n    for number in user:\n        int_number.append(int(number))\n    \n    min_num = sorted(int_number)[0]\n    \n    print(min_num)\n                  \nfind_min_num()",
   "execution_count": null,
   "outputs": []
  },
  {
   "metadata": {
    "trusted": true
   },
   "cell_type": "code",
   "source": "\"\"\"\nProblem: 194\nWrite a Python program to find the largest element in a list. Prompt the user to enter a list of items using max(). Write a list of words.\n\"\"\"\n\ndef largest_element():\n    user = input(\"type list: \").split()\n    largest_word = max(user, key= len)\n    \n    print(largest_word)\n           \nlargest_element()",
   "execution_count": null,
   "outputs": []
  },
  {
   "metadata": {
    "trusted": true
   },
   "cell_type": "code",
   "source": "\"\"\"\nProblem: 195\nWrite a Python program to find the second largest element in a list. Prompt the user to enter a list of items. Write a list of words.\n\"\"\"\n\ndef second_largest_element():\n    user_input = input(\"Enter a list of words: \").split()\n    if len(user_input) < 2:\n        print(\"The list must contain at least two words.\")\n        return\n\n    sorted_words = sorted(user_input, key=len, reverse=True)\n    print(f\"The second largest word is: {sorted_words[1]}\")\n\nsecond_largest_element()\n\ndef second_largest_element():\n    user_input = input(\"Enter a list of words: \").split()\n    if len(user_input) < 2:\n        print(\"The list must contain at least two words.\")\n        return\n\n    sorted_words = sorted(user_input, key=len)\n    print(f\"The second largest word is: {sorted_words[-2]}\")\n\nsecond_largest_element()\n\ndef second_largest_element():\n    user_input = input(\"Enter a list of words: \").split()\n    if len(user_input) < 2:\n        print(\"less then 2\")\n        return\n        \n    sort = sorted(user_input, key=len)\n    second_largest = sort[-2]\n    \n    print(second_largest)\n        \nsecond_largest_element()",
   "execution_count": null,
   "outputs": []
  },
  {
   "metadata": {
    "trusted": true
   },
   "cell_type": "code",
   "source": "\"\"\"\nProblem: 196\nWrite a Python program to find the maximum of three numbers. Prompt the user to enter three numbers. use max().\n\"\"\"\n\ndef max_of_three(numbers):\n     result = max(list(numbers))\n     return result\n        \nthree_numbers = [567, 56, 6]    \nprint(max_of_three(three_numbers))",
   "execution_count": null,
   "outputs": []
  },
  {
   "metadata": {
    "trusted": true
   },
   "cell_type": "code",
   "source": "\"\"\"\nProblem: 197\nWrite a Python program to find the maximum of three numbers. Enter three numbers in a list. Without using any build in fuctions apart from print().\n\"\"\"\n\ndef max_of_three(numbers):\n    max_number = numbers[0]\n    if numbers[1] > max_number:\n        max_number = numbers[1]\n        \n    if numbers[2] > max_number:\n        max_number = numbers[2]\n        \n    return max_number\n\nthree_numbers = [567, 56, 6]\nprint(max_of_three(three_numbers))",
   "execution_count": null,
   "outputs": []
  },
  {
   "metadata": {
    "trusted": true
   },
   "cell_type": "code",
   "source": "\"\"\"\nProblem: 198\nWrite a function that converts centimetets to inches.\n\"\"\"\n\ndef centimeters_inches():\n    cm = int(input(\"type centimeters: \"))\n    inches = cm * 0.3937\n    \n    print(f\"{cm} cm = {inches} inches\")\n    \ncentimeters_inches()",
   "execution_count": null,
   "outputs": []
  },
  {
   "metadata": {
    "trusted": true
   },
   "cell_type": "code",
   "source": "\"\"\"\nProblem 199:\nWrite a Python function called find_min_max that takes a list of numbers as input and returns a tuple containing the minimum and maximum numbers in the list, dont not call the fuction using print(find_min_max). Do not use sort().\n\"\"\"\n\ndef find_min_max():\n    user = input(\"type list of numbers: \").split()\n    int_num = []\n    for number in user:\n        int_num.append(int(number))\n    \n    min_num = min(int_num)\n    max_num = max(int_num)\n    \n    print(min_num, max_num)\n       \nfind_min_max()\n\ndef find_min_max():\n    user = input(\"type numbers: \").split()\n    int_number = []\n    for number in user:\n        int_number.append(int(number))\n\n    min_number = int_number[0]\n    max_number = int_number[0]\n    \n    for number in int_number:\n        if number < min_number:\n            min_number = number\n        if number > max_number:\n            max_number = number\n    print(min_number, max_number)\n    return min_number, max_number\n\nfind_min_max()",
   "execution_count": null,
   "outputs": []
  },
  {
   "metadata": {
    "trusted": true
   },
   "cell_type": "code",
   "source": "\"\"\"\nProblem 200:\nWrite a Python program to find the common number in a lists. for this exercise do not use set.\n\"\"\"\n\ndef common_numbers(lst):\n    seen = []\n    common = []\n    for number in lst:\n        if number in seen and number not in common:\n            common.append(number)\n        else:\n            seen.append(number)\n    \n    return common\n\nlst = [43, 2, 45, 567, 666, 2, 45]\nprint(common_numbers(lst))",
   "execution_count": null,
   "outputs": []
  },
  {
   "metadata": {
    "trusted": true
   },
   "cell_type": "code",
   "source": "",
   "execution_count": null,
   "outputs": []
  }
 ],
 "metadata": {
  "kernelspec": {
   "name": "python3",
   "display_name": "Python 3",
   "language": "python"
  },
  "language_info": {
   "name": "python",
   "version": "3.10.4",
   "mimetype": "text/x-python",
   "codemirror_mode": {
    "name": "ipython",
    "version": 3
   },
   "pygments_lexer": "ipython3",
   "nbconvert_exporter": "python",
   "file_extension": ".py"
  }
 },
 "nbformat": 4,
 "nbformat_minor": 2
}