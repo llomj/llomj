{
 "cells": [
  {
   "metadata": {
    "trusted": false
   },
   "cell_type": "code",
   "source": "\"\"\"\nProblem 201:\nWrite a Python program to find the common number in a lists. use set().\n\"\"\"\n\ndef common_num(lst):\n    unique = set()\n    commom = []\n    for number in lst:\n        if number in unique:\n            commom.append(number)\n        else:\n            unique.add(number)            \n    return commom\n    \nlst = [2, 5, 6, 2, 4, 5]\nprint(common_num(lst))\n\ndef common_numbers(lst):\n    seen = set()\n    common = set()\n    for number in lst:\n        if number in seen:\n            common.add(number)\n        else:\n            seen.add(number)\n    \n    return common\n\nlst = [43, 2, 45, 567, 666, 2, 45, 43]\nprint(common_numbers(lst))",
   "execution_count": null,
   "outputs": []
  },
  {
   "metadata": {
    "trusted": false
   },
   "cell_type": "code",
   "source": "\"\"\"\nProblem: 202\nWrite a function word_frequency that takes a string as input and returns a dictionary where the keys are the characters in the string and the values are the counts of those characters alphabetically.\n\"\"\"\n\ndef word_frequency(string):\n    string = string.replace(\" \", \"\")\n    sort_char = sorted(string)\n    result = {}\n    for word in sort_char:\n        if word in result:\n            result[word] += 1\n        else:\n            result[word] = 1\n    return result\n            \nstring = \"gore why are you here you are gore\"\nprint(word_frequency(string))",
   "execution_count": null,
   "outputs": []
  },
  {
   "metadata": {
    "trusted": false
   },
   "cell_type": "code",
   "source": "\"\"\"\nProblem: 203\nDefine a function total() that sums and multiplies (respectively) all the numbers in a list of numbers. For example, sum([1, 2, 3, 4]) should return 10, and multiply([1, 2, 3, 4]) should return 24.\n\"\"\"\n\ndef total(numbers):\n    total_numbers = 0\n    multiply_numbers = 1\n    for number in numbers:\n        total_numbers += number\n        multiply_numbers *= number\n    return total_numbers, multiply_numbers\n            \nlst_numbers = [1, 2, 3, 4]\nprint(total(lst_numbers))",
   "execution_count": null,
   "outputs": []
  },
  {
   "metadata": {
    "trusted": false
   },
   "cell_type": "code",
   "source": "\"\"\"\nProblem 204:\nWrite a program that maps a list of words into a list of integers representing the words with the lengths of the correponding words.\n\"\"\"\n\ndef list_integers(lst):\n    result = []\n    for word in lst:\n        result.append(word)\n        result.append(len(word))\n        \n    return result\n    \nlst = [\"join\", \"Jonathan\", \"tree\"]\nprint(list_integers(lst))",
   "execution_count": null,
   "outputs": []
  },
  {
   "metadata": {
    "trusted": false
   },
   "cell_type": "code",
   "source": "\"\"\"\nProblem 205:\nWrite a Python function called `calculate_average` that takes a list of numbers as input and returns the average of those numbers. use len() and sum().\n\"\"\"\n\ndef average(lst):\n    sum_lst = sum(lst)\n    length = len(lst)\n    total = sum_lst / length\n    \n    return total\n               \nlst = [2666, 566, 6777]\nprint(average(lst))",
   "execution_count": null,
   "outputs": []
  },
  {
   "metadata": {
    "trusted": false
   },
   "cell_type": "code",
   "source": "\"\"\"\nProblem: 206\nWrite a Python program to find the maximum of three numbers. Prompt the user to enter three numbers. do not use max().\n\"\"\"\n\ndef max_of_three():\n    user = input(\"type three numbers: \").split()\n    int_numbers = []\n    for number in user:\n        int_numbers.append(int(number))\n    if len(number) != 3:\n        print(\"not enough numbers\")\n        return\n        \n    max_number = int_numbers[0]\n    if int_numbers[1] > max_number:\n        max_number = int_numbers[1]   \n    if int_numbers[2] > max_number:\n        max_number = int_numbers[2]\n        \n    print(max_number)\n    \nmax_of_three()",
   "execution_count": null,
   "outputs": []
  },
  {
   "metadata": {
    "trusted": false
   },
   "cell_type": "code",
   "source": "\"\"\"\nProblem: 207\nWrite a Python program to find the maximum of of list of numbers. Prompt the user to enter three numbers. do not use max().\n\"\"\"\n\ndef max_of_list():\n    user = input(\"type three numbers: \").split()\n    if len(user) != 3:\n        print(\"type more numbers\")\n        return\n    \n    int_numbers = []\n    for number in user:\n        int_numbers.append(int(number))\n    max_number = int_numbers[0]\n    for number in int_numbers:\n        if number > max_number:\n            max_number = number\n            \n    print(max_number)\n           \nmax_of_list()",
   "execution_count": null,
   "outputs": []
  },
  {
   "metadata": {
    "trusted": false
   },
   "cell_type": "code",
   "source": "\"\"\"\nProblem: 208\nWrite a Python program to find the maximum of of list of numbers. Prompt the user to enter three numbers. Use max().\n\"\"\"\n\ndef max_of_list():\n    user = input(\"type three numbers: \").split()\n    int_numbers = []\n    for number in user:\n        int_numbers.append(int(number))\n    \n    max_number = max(int_numbers)\n                   \n    print(max_number)\n           \nmax_of_list()",
   "execution_count": null,
   "outputs": []
  },
  {
   "metadata": {
    "trusted": false
   },
   "cell_type": "code",
   "source": "\"\"\"\nProblem 209:\nWrite a program that maps a list of words into a list of integers representing the lengths of the correponding words with the word eg ['jonathan', 8, 'horse', 5, 'today', 5 ].\n\"\"\"\n\ndef list_words(lst):\n    words_lengths = []\n    for word in lst:\n        words_lengths.append(word)\n        words_lengths.append(len(word))\n        \n    return words_lengths\n        \nlst = [\"Jonathan\", \"horse\", \"today\"]\nprint(list_words(lst))",
   "execution_count": null,
   "outputs": []
  },
  {
   "metadata": {
    "trusted": false
   },
   "cell_type": "code",
   "source": "\"\"\"\nProblem 210:\nWrite a program that maps a list of words into a list of integers representing the lengths of the correponding words with the word eg ['jonathan', 8, 'horse', 5, 'today', 5 ]. Do not use len().\n\"\"\"\n\ndef list_words(lst):\n    words_with_lengths = []\n    for word in lst:\n        count = 0\n        for char in word:\n            count += 1\n        words_with_lengths.append(word)\n        words_with_lengths.append(count)\n    \n    return words_with_lengths\n\nlst = [\"Jonathan\", \"horse\", \"today\"]\nprint(list_words(lst))",
   "execution_count": null,
   "outputs": []
  },
  {
   "metadata": {
    "trusted": false
   },
   "cell_type": "code",
   "source": "\"\"\"\nProblem 211:\nWrite a program that maps a list of words into a list of integers representing the lengths of the correponding words without using len().\n\"\"\"\n\ndef length_words(lst):\n    length = []\n    for word in lst:\n        count = 0\n        for char in word:\n            count += 1\n        length.append(count)\n    \n    return length\n    \nlst = [\"Jonathan\", \"chris\", \"mountain\"]\nprint(length_words(lst))",
   "execution_count": null,
   "outputs": []
  },
  {
   "metadata": {
    "trusted": false
   },
   "cell_type": "code",
   "source": "\"\"\"\nProblem: 212\nWrite a Python program to find the intersection of two lists. Prompt the user to enter two lists without using set() and without using intersection().\n\"\"\"\n\ndef intersection():\n    lst1 = input(\"type lst1: \").split()\n    lst2 = input(\"type lst2: \").split()\n    common = []\n    for word in lst1:\n        if word in lst2:\n            common.append(word)\n    print(common)\n    \nintersection()",
   "execution_count": null,
   "outputs": []
  },
  {
   "metadata": {
    "trusted": false
   },
   "cell_type": "code",
   "source": "\"\"\"\nProblem: 213\nWrite a Python program to print the following pattern:\\n*\\n* *\\n* * *\\n* * * *\\n* * * * *\n\"\"\"\n\nfor i in range(1, 6):\n    print('* ' * i)",
   "execution_count": null,
   "outputs": []
  },
  {
   "metadata": {
    "trusted": false
   },
   "cell_type": "code",
   "source": "\"\"\"\nProblem: 214\nWrite a Python program to print the following number pyramid:\\n1\\n2 2\\n3 3 3\\n4 4 4 4\\n5 5 5 5 5\n\"\"\"\n\nfor i in range(1, 6):\n    print((str(i) + ' ') * i)",
   "execution_count": null,
   "outputs": []
  },
  {
   "metadata": {
    "trusted": false
   },
   "cell_type": "code",
   "source": "\"\"\"\nProblem: 215\nWrite a Python program to print a square pattern of stars with a given side length.\n\"\"\"\n\ndef square_pattern(n):\n    for i in range(n):\n        for j in range(n):\n            print(\"*\", end=\" \")\n        print()\nn = 5    \nprint(square_pattern(n))\n\ndef print_square_pattern(side_length):\n    for i in range(side_length):\n        for j in range(side_length):\n            \n            print(\"*\", end=\" \")\n        print()\n\nside_length = int(input(\"Enter the side length of the square: \"))\nprint_square_pattern(side_length)",
   "execution_count": null,
   "outputs": []
  },
  {
   "metadata": {
    "trusted": false
   },
   "cell_type": "code",
   "source": "\"\"\"\nProblem: 217\nWrite a Python program to print an inverted pyramid pattern:\\n* * * * *\\n* * * *\\n* * *\\n* *\\n*\",\n\"\"\"\n\nfor i in range(5, 0, -1):\n    for j in range(i):\n        print('*', end=' ')\n    print() ",
   "execution_count": null,
   "outputs": []
  },
  {
   "metadata": {
    "trusted": false
   },
   "cell_type": "code",
   "source": "\"\"\"\nProblem: 218\nWrite a Python program to print a checkerboard pattern of given size.\n\"\"\"\n\ndef print_checkerboard(size):\n    for i in range(size):\n        for j in range(size):\n            if (i + j) % 2 == 0:\n                print('*', end=' ')\n            else:\n                print(' ', end=' ')\n        print()\n\nsize = int(input(\"Enter the size of the checkerboard: \"))\nprint_checkerboard(size)",
   "execution_count": null,
   "outputs": []
  },
  {
   "metadata": {
    "trusted": false
   },
   "cell_type": "code",
   "source": "\"\"\"\nProblem: 219\nWrite a Python program to print Floyd's Triangle.\\n1\\n2 3\\n4 5 6\\n7 8 9 10\n\"\"\"\n\ndef print_floyds_triangle(rows):\n    num = 1\n    for i in range(1, rows + 1):\n        for j in range(i):\n            print(num, end=' ')\n            num += 1\n        print()\n\nrows = 4\nprint_floyds_triangle(rows)",
   "execution_count": null,
   "outputs": []
  },
  {
   "metadata": {
    "trusted": false
   },
   "cell_type": "code",
   "source": "\"\"\"\n220\nWrite a Python program to print a diamond pattern of stars for a given number of rows.\\nFor example, for 3 rows:\\n  *\\n ***\\n*****\\n ***\\n  \n\"\"\"\n\ndef print_diamond(rows):\n    for i in range(rows):\n        for j in range(rows - i - 1):\n            print(\" \", end=\"\")\n\n        for k in range(2 * i + 1):\n            print(\"*\", end=\"\")\n        print()\n\n    for i in range(rows - 2, -1, -1):\n        for j in range(rows - i - 1):\n            print(\" \", end=\"\")\n            \n        for k in range(2 * i + 1):\n            print(\"*\", end=\"\"\n        print()\n\nrows = 3\nprint_diamond(rows)",
   "execution_count": null,
   "outputs": []
  },
  {
   "metadata": {
    "trusted": false
   },
   "cell_type": "code",
   "source": "\"\"\"\nProblem: 221\nWrite a Python program to print a hollow square pattern of stars with a given side length.\\nFor example, for side length 5:\\n*****\\n*   *\\n*   *\\n*   *\\n*****\n\"\"\"\n\ndef print_hollow_square(side_length):\n    for i in range(side_length):\n        if i == 0 or i == side_length - 1:\n            print('*' * side_length)\n        else:\n            print('*' + ' ' * (side_length - 2) + '*')\n\nside_length = 5\nprint_hollow_square(side_length)",
   "execution_count": null,
   "outputs": []
  },
  {
   "metadata": {
    "trusted": false
   },
   "cell_type": "code",
   "source": "\"\"\"\nProblem: 222\nWrite a Python program to print a reverse pyramid pattern of numbers:\\n1 2 3 4 5\\n1 2 3 4\\n1 2 3\\n1 2\\n1\"\n\"\"\"\n\ndef print_reverse_pyramid(rows):\n    for i in range(rows, 0, -1):\n        for j in range(1, i + 1):\n            print(j, end=' ')\n        print()\n\nrows = 5\nprint_reverse_pyramid(rows)",
   "execution_count": null,
   "outputs": []
  },
  {
   "metadata": {
    "trusted": false
   },
   "cell_type": "code",
   "source": "\"\"\"\n223\nWrite a Python program to print a mirrored right-angled triangle of stars:\\n    *\\n   **\\n  ***\\n ****\\n*****\n\"\"\"\n\ndef mirrored_right_angled_triangle(rows):\n    for i in range(1, rows+1):\n        for j in range(rows-i):\n            print(\" \", end=\"\")\n            \n        for k in range(i):\n            print(\"*\", end=\" \")\n        print()\n\nrows = 5\nmirrored_right_angled_triangle(rows)",
   "execution_count": null,
   "outputs": []
  },
  {
   "metadata": {
    "trusted": false
   },
   "cell_type": "code",
   "source": "\"\"\"\nProblem: 224\ndescription\": \"Write a Python program to print a triangle pattern of letters:\\nA\\nB B\\nC C C\\nD D D D\\nE E E E E\"\n\"\"\"\n\ndef triangle_pattern(rows):\n    for i in range(rows):\n        letter = chr(65 + i)\n        for j in range(i + 1):\n            \n            print(letter, end=\" \")\n            \n        print()\n\nrows = 5\ntriangle_pattern(rows)\n\ndef triangle_pattern(rows):\n    letters = ['A', 'B', 'C', 'D', 'E', 'F', 'G', 'H', 'I', 'J', 'K', 'L', 'M', \n               'N', 'O', 'P', 'Q', 'R', 'S', 'T', 'U', 'V', 'W', 'X', 'Y', 'Z']\n    \n    for i in range(rows):\n        letter = letters[i]\n        for j in range(i + 1):\n            \n            print(letter, end=\" \")\n            \n        print()\n\nrows = 5\ntriangle_pattern(rows)",
   "execution_count": null,
   "outputs": []
  },
  {
   "metadata": {
    "trusted": false
   },
   "cell_type": "code",
   "source": "\"\"\"\nProblem: 225\nWrite a Python program to print a square pattern of numbers:\\n1 2 3 4 5\\n1 2 3 4 5\\n1 2 3 4 5\\n1 2 3 4 5\\n1 2 3 4 5\n\"\"\"\n\ndef print_square_pattern(size):\n    for i in range(size):\n        for j in range(1, size + 1):\n            print(j, end=' ')\n        print()\n\nsize = 5\nprint_square_pattern(size)",
   "execution_count": null,
   "outputs": []
  },
  {
   "metadata": {
    "trusted": false
   },
   "cell_type": "code",
   "source": "\"\"\"\nProblem: 226\nWrite a Python program to print a hollow right-angled triangle of stars:\\n*\\n* *\\n*  *\\n*   *\\n*****\n\"\"\"\n\ndef print_hollow_right_triangle(height):\n    for i in range(height):\n        if i == height - 1:\n            print('*' * (i + 1))\n        else:\n            print('*' + ' ' * i + '*')\n\nheight = 5\nprint_hollow_right_triangle(height)",
   "execution_count": null,
   "outputs": []
  },
  {
   "metadata": {
    "trusted": false
   },
   "cell_type": "code",
   "source": "\"\"\"\nProblem: 227\nWrite a Python program to print a zigzag pattern of stars for a given number of rows.\\nFor example, for 5 rows:\\n*   *   *\\n * * * *\\n  *   *\\n * * * *\\n*   *   *\n\"\"\"\n\ndef print_zigzag(rows):\n    for i in range(rows):\n        for j in range(rows):\n            if (i % 2 == 0 and j % (rows - 1) == 0) or (i % 2 == 1 and j % (rows - 1) == 1):\n                print('*', end=' ')\n            else:\n                print(' ', end=' ')\n        print()\n\nrows = 5\nprint_zigzag(rows)",
   "execution_count": null,
   "outputs": []
  },
  {
   "metadata": {
    "trusted": false
   },
   "cell_type": "code",
   "source": "\"\"\"\nProblem: 228\nWrite a Python program to print a cross pattern of stars for a given odd number of rows.\\nFor example, for 5 rows:\\n*   *\\n * *\\n  *\\n * *\\n*   *\"\n\"\"\"\n\ndef print_cross(rows):\n    for i in range(rows):\n        for j in range(rows):\n            if j == i or j == (rows - 1 - i):\n                print('*', end='')\n            else:\n                print(' ', end='')\n        print()\n\nrows = 5\nprint_cross(rows)",
   "execution_count": null,
   "outputs": []
  },
  {
   "metadata": {
    "trusted": false
   },
   "cell_type": "code",
   "source": "\"\"\"\nProblem: 229\nWrite a Python program to print an hourglass pattern of stars:\\n*****\\n ***\\n  *\\n ***\\n*****\n\"\"\"\n\ndef print_hourglass(rows):\n    for i in range(rows):\n        print(' ' * i + '*' * (rows - i * 2))\n\nrows = 4\nprint_hourglass(rows)",
   "execution_count": null,
   "outputs": []
  },
  {
   "metadata": {
    "trusted": false
   },
   "cell_type": "code",
   "source": "\"\"\"\nProblem 230:\nWrite a Python function called count_occurrences that takes a list of elements as input and returns the number of times the elements appears in the list.\n\"\"\"\n\ndef count_occurrences(lst):\n    result = {}\n    for word in lst:\n        if word in result:\n            result[word] += 1\n        else:\n            result[word] = 1\n        \n    return result\n\nlst = [\"tom\", \"fred\", \"tom\", \"chris\", \"fred\"]\nprint(count_occurrences(lst))",
   "execution_count": null,
   "outputs": []
  },
  {
   "metadata": {
    "trusted": false
   },
   "cell_type": "code",
   "source": "\"\"\"\nProblem 231:\nWrite a Python program to find the sum of all odd numbers in a list. Prompt the user to enter a list of numbers. Write the function as sort as possible.\n\"\"\"\n\ndef sum_of_odd():\n    user = input(\"type numbers: \").split()\n  \n    count = 0    \n    for number in user:\n        number = int(number)\n        if number % 2 != 0:\n            count += number\n    print(count)\n            \nsum_of_odd()",
   "execution_count": null,
   "outputs": []
  },
  {
   "metadata": {
    "trusted": false
   },
   "cell_type": "code",
   "source": "\"\"\"\nProblem 232:\nWrite a Python program to remove vowels from a string. Prompt the user to enter a string. Do not use append().\n\"\"\"\n\ndef remove_vowels():\n    user = input(\"type string: \")\n    for char in user:\n        if char not in \"aeiou\":\n            print(char, end= \"\")\n            \nremove_vowels()",
   "execution_count": null,
   "outputs": []
  },
  {
   "metadata": {
    "trusted": false
   },
   "cell_type": "code",
   "source": "\"\"\"\nProblem 233:\nWrite a Python function called `find_min` that takes a list of numbers as input and returns the minimum number in the list. Do not use min().\n\"\"\"\n\ndef find_min(lst):\n    min_num = lst[0]\n    for number in lst:\n        if number < min_num:\n            min_num = number\n    return min_num\n            \nlst = [13, 566, 1]\nprint(find_min(lst))",
   "execution_count": null,
   "outputs": []
  },
  {
   "metadata": {
    "trusted": false
   },
   "cell_type": "code",
   "source": "\"\"\"\nProblem: 234\nWrite a Python program to print a square pattern of stars with a given side length. Use a while loop.\n\"\"\"\n\ni = 1\n\nwhile (i < 6):\n    print(\"* \" * 5)\n    i += 1",
   "execution_count": null,
   "outputs": []
  },
  {
   "metadata": {
    "trusted": false
   },
   "cell_type": "code",
   "source": "\"\"\"\nProblem: 235\nWrite a Python program that prints a increasing triangle pattern of stars.\n\"\"\"\n\ndef increasing_triangle():\n    n = 5\n    \n    for i in range(n):\n        for i in range(i+1):\n            print(\"*\", end=\" \")\n        print()\n\nprint(increasing_triangle())",
   "execution_count": null,
   "outputs": []
  },
  {
   "metadata": {
    "trusted": false
   },
   "cell_type": "code",
   "source": "\"\"\"\nProblem: 236\nWrite a Python program that prints a decreasing triangle pattern of stars.\n\"\"\"\n\ndef decreasing_triangle():\n    n = 5\n    for i in range(n):\n        for j in range(i, n):\n            print(\"*\", end=\" \")\n        print()\n\nprint(increasing_triangle())",
   "execution_count": null,
   "outputs": []
  },
  {
   "metadata": {
    "trusted": false
   },
   "cell_type": "code",
   "source": "\"\"\"\nProblem: 237\nWrite a Python program that prints a right triangle pattern of stars.\n\"\"\"\n\ndef right_triangle(n): \n    for i in range(1, n + 1):\n        for j in range(i):\n            print(\"*\", end=\" \")\n        print()\n\nnumber = 5\nright_triangle(number)",
   "execution_count": null,
   "outputs": []
  },
  {
   "metadata": {
    "trusted": false
   },
   "cell_type": "code",
   "source": "\"\"\"\nProblem: 238\nWrite a Python program that prints a left triangle pattern of stars.\n\"\"\"\n\ndef left_triangle():\n    n = 5\n    for i in range(n):\n        for i in range(i, n):\n            print(\" \", end=\" \")\n    for i in range(n):\n        for i in range(i + 1):\n            print(\"*\", end=\" \")\n        print()\n\nprint(increasing_triangle())",
   "execution_count": null,
   "outputs": []
  },
  {
   "metadata": {
    "trusted": false
   },
   "cell_type": "code",
   "source": "\"\"\"\nProblem: 239\nWrite a Python program that prints a hill pattern of stars.\n\"\"\"\n\ndef print_hill_pattern(rows):\n    for i in range(rows):\n        print(' ' * (rows - i - 1) + '*' * (2 * i + 1))\n\nrows = 5\nprint_hill_pattern(rows)",
   "execution_count": null,
   "outputs": []
  },
  {
   "metadata": {
    "trusted": false
   },
   "cell_type": "code",
   "source": "\"\"\"\nProblem: 240\nWrite a Python program that prints a reverse hill pattern of stars.\n\"\"\"\n\ndef print_reverse_hill_pattern(rows):\n    for i in range(rows):\n        print(' ' * i + '*' * (2 * (rows - i) - 1))\n\nrows = 5\nprint_reverse_hill_pattern(rows)",
   "execution_count": null,
   "outputs": []
  },
  {
   "metadata": {
    "trusted": false
   },
   "cell_type": "code",
   "source": "\"\"\"\nProblem: 241\nWrite a Python program to print the index and value of each element in a list using `enumerate()`\n\"\"\"\n\ndef enumerate_lst(lst):\n    for index, word in enumerate(lst):\n        print(f\"index {index} name {word}\")\n    \n    \nlst = [\"Jon\", \"Chris\", \"Nathan\"]\nprint(enumerate_lst(lst)) ",
   "execution_count": null,
   "outputs": []
  },
  {
   "metadata": {
    "trusted": false
   },
   "cell_type": "code",
   "source": "\"\"\"\nProblem: 242\nWrite a Python program to create a list of tuples where each tuple contains the index and the value from a given list using `enumerate()`.\n\"\"\"\n\ndef enumerate_lst(lst):\n    result = []\n    for index, word in enumerate(lst):\n        result.append((index, word))\n        \n    return result\n    \nlst = (\"Jon\", \"Chris\", \"Nathan\")\nprint(enumerate_lst(lst))",
   "execution_count": null,
   "outputs": []
  },
  {
   "metadata": {
    "trusted": false
   },
   "cell_type": "code",
   "source": "\"\"\"\nProblem: 243\nWrite a Python program to find the index of the first occurrence of a specific value in a list using `enumerate()`.\n\"\"\"\n\ndef enumerate_lst(lst, target):\n    for index, word in enumerate(lst):\n        if word == target:\n            return word, index \n    return -1\n        \ntarget = \"Chris\"    \nlst = [\"Jon\", \"Chris\", \"Nathan\"]\nprint(enumerate_lst(lst, target))",
   "execution_count": null,
   "outputs": []
  },
  {
   "metadata": {
    "trusted": false
   },
   "cell_type": "code",
   "source": "\"\"\"\nProblem: 244\nWrite a Python program to print the index and value of each element in a list starting from index 1 using `enumerate()`\n\"\"\"\n\ndef enumerate_lst(lst):\n    for index, word in enumerate(lst, start=1):\n        print(f\"Index {index}, Name {word}\")\n\nlst = [\"Jon\", \"Chris\", \"Nathan\"]\nenumerate_lst(lst)",
   "execution_count": null,
   "outputs": []
  },
  {
   "metadata": {
    "trusted": false
   },
   "cell_type": "code",
   "source": "\"\"\"\nProblem: 245\nWrite a Python program to create a dictionary where keys are the indexes and values are the corresponding elements from a list using `enumerate()`.\n\"\"\"\n\ndef enumerate_lst(lst):\n    result = {}\n    for index, word in enumerate(lst):\n        result[index] = word\n    print(result)\n    \nlst = [\"Jon\", \"Chris\", \"Nathan\"]\nenumerate_lst(lst)",
   "execution_count": null,
   "outputs": []
  },
  {
   "metadata": {
    "trusted": false
   },
   "cell_type": "code",
   "source": "\"\"\"\nProblem: 246\nWrite a Python program to filter and print elements of a list that are at even indexes using `enumerate()`\n\"\"\"\n\ndef enumerate_lst(lst):\n    for index, word in enumerate(lst):\n        if index % 2 != 0:\n            print(index, word)\n        \nlst = [\"Jon\", \"Chris\", \"Nathan\", \"hot\", \"class\", \"shirt\", \"beach\", \"app\", \" board\", \"hit\"]\nenumerate_lst(lst)",
   "execution_count": null,
   "outputs": []
  },
  {
   "metadata": {
    "trusted": false
   },
   "cell_type": "code",
   "source": "\"\"\"\nProblem: 247\nWrite a Python program to print the index and value of each element in a list using a `for` loop with `enumerate()`.\n\"\"\"\n\ndef enumerate_lst(lst):\n    for index, word in enumerate(lst):\n        print(f\"index {index} name {word}\")\n    \nlst = [\"Jon\", \"Chris\", \"Nathan\", \"Sam\", \"Rachel\"]\nenumerate_lst(lst)",
   "execution_count": null,
   "outputs": []
  },
  {
   "metadata": {
    "trusted": false
   },
   "cell_type": "code",
   "source": "\"\"\"\nProblem: 248\nWrite a Python program to replace each element in a list with its index using `enumerate()`\n\"\"\"\n\ndef replace_with_index(lst):\n    for index, _ in enumerate(lst):\n        lst[index] = index\n    return lst\n\nlst = [\"Jon\", \"Chris\", \"Nathan\", \"Sam\", \"Rachel\"]\nprint(replace_with_index(lst))",
   "execution_count": null,
   "outputs": []
  },
  {
   "metadata": {
    "trusted": false
   },
   "cell_type": "code",
   "source": "\"\"\"\nProblem: 249\nWrite a Python program to print the index and values from two lists of equal length side by side using `enumerate()`.\n\"\"\"\n\ndef enumerate_lst(lst1, lst2):\n    for index, word in enumerate(lst1):\n        print(f\"index {index}: {word} and {lst2[index]}\")\n    \nlst1 = [\"Jon\", \"Chris\", \"Nathan\", \"Tom\", \"Sam\", \"Rose\", \"Bliss\", \"Hurt\"]\nlst2 = [\"Jonny\", \"Christopher\", \"Jhovian\", \"Tom\", \"Zack\", \"Rose\", \"Brad\", \"Michael\"]\n\nenumerate_lst(lst1, lst2)",
   "execution_count": null,
   "outputs": []
  },
  {
   "metadata": {
    "trusted": false
   },
   "cell_type": "code",
   "source": "\"\"\"\nProblem: 250\nWrite a Python program to calculate the sum of elements in a list that are located at odd indexes using `enumerate()`.\n\"\"\"\n\ndef sum_odd_indexed_elements(lst):\n    total = 0\n    for index, value in enumerate(lst):\n        if index % 2 != 0:\n            total += value\n    return total\n\nlst = [1, 2, 3, 4, 5, 6]\nresult = sum_odd_indexed_elements(lst)\nprint(result)",
   "execution_count": null,
   "outputs": []
  },
  {
   "metadata": {
    "trusted": false
   },
   "cell_type": "code",
   "source": "\"\"\"\nProblem: 251\nWrite a Python program to pair elements from two lists of equal length using `zip()`.\n\"\"\"\n\ndef pair_elements(lst1, lst2):\n    paired = list(zip(lst1, lst2))\n    return paired\n\nlst1 = [\"Jon\", \"Chris\", \"Nathan\", \"Sam\"]\nlst2 = [\"A\", \"B\", \"C\", \"D\"]\n\nprint(pair_elements(lst1, lst2))",
   "execution_count": null,
   "outputs": []
  },
  {
   "metadata": {
    "trusted": false
   },
   "cell_type": "code",
   "source": "\"\"\"\nProblem: 252\nWrite a Python program to find the sum of corresponding elements from two lists using `zip()`.\n\"\"\"\n\ndef sum_of_2_lst(lst1, lst2):\n    summed_list = []\n    for x, y in zip(lst1, lst2):\n        summed_list.append(x + y)\n    return summed_list\n\nlst1 = [2, 4, 6, 8]\nlst2 = [2, 4, 6, 8]\n\nprint(sum_of_2_lst(lst1, lst2))",
   "execution_count": null,
   "outputs": []
  },
  {
   "metadata": {
    "trusted": false
   },
   "cell_type": "code",
   "source": "\"\"\"\nProblem: 253\nWrite a Python function to sort a list of tuples by the second element in each tuple using the key parameter.\n\"\"\"\n\ndef sort_tuples_by_second(tuples_list):\n    return sorted(tuples_list, key=lambda x: x[1])\n\ntuples_list = [(1, 3), (3, 2), (5, 1)]\nresult = sort_tuples_by_second(tuples_list)\nprint(result)",
   "execution_count": null,
   "outputs": []
  },
  {
   "metadata": {
    "trusted": false
   },
   "cell_type": "code",
   "source": "\"\"\"\nProblem: 254\nWrite a Python program to create a dictionary from two lists, one for keys and one for values, using `zip()`.\n\"\"\"\n\ndef dic_lst(lst1, lst2):\n    result = {}\n    for x, y in zip(lst1, lst2):\n        result[x] = y\n    return result\n    \nlst1 = [1, 2, 3, 4]\nlst2 = [\"Ron\", \"break\", \"tree\", \"son\"]\nprint(dic_lst(lst1, lst2))",
   "execution_count": null,
   "outputs": []
  },
  {
   "metadata": {
    "trusted": false
   },
   "cell_type": "code",
   "source": "\"\"\"\nProblem: 255\nWrite a Python program to combine three lists into a list of tuples using `zip()`.\n\"\"\"\ndef combine_3_lst(lst1, lst2, lst3):\n    result = []\n    for x, y, z in zip(lst1, lst2, lst3):\n         result.append((x, y, z))\n         \n    return result\n     \nlst1 = [\"Sam\", \"Nike\", \"system\"]\nlst2 = [\"Sammy\", \"Mikey\", \"Steven\"]\nlst3 = [\"Son\", \"monkey\", \"star\"]\nprint(combine_3_lst(lst1, lst2, lst3))",
   "execution_count": null,
   "outputs": []
  },
  {
   "metadata": {
    "trusted": false
   },
   "cell_type": "code",
   "source": "\"\"\"\nProblem: 256\nWrite a Python program to transpose a 2D matrix (list of lists) using `zip()`.\n\"\"\"\n\ndef transpose_matrix(matrix):\n    transposed = zip(*matrix)\n    result = []\n    for row in transposed:\n        result.append(list(row))\n    \n    return result\nmatrix = [\n    [1, 2, 3],\n    [4, 5, 6],\n    [7, 8, 9]\n]\n\nprint(transpose_matrix(matrix))",
   "execution_count": null,
   "outputs": []
  },
  {
   "metadata": {
    "trusted": false
   },
   "cell_type": "code",
   "source": "\"\"\"\nProblem: 257\nWrite a Python program to unzip a list of tuples into individual lists using `zip()`.\n\"\"\"\n\ndef list_tuples(lst):\n    unzipped = zip(*lst)\n    result = []\n    for x in unzipped:\n        result.append(list(x))\n    \n    \nlst = [(1, 2, 3), (4, 5, 6), (7, 8, 9)]\nprint(list_tuples(lst))",
   "execution_count": null,
   "outputs": []
  },
  {
   "metadata": {
    "trusted": false
   },
   "cell_type": "code",
   "source": "\"\"\"\nProblem: 258\nWrite a Python program to unzip a list of tuples into individual lists using `zip()`.\n\"\"\"\n\ndef individualists(lst):\n    result = []\n    for num in zip(*lst):\n        result.append(list(num))\n        \n    return result\n\nlst = [(1, 2, 3), (4, 5, 6)]\nprint(individualists(lst))",
   "execution_count": null,
   "outputs": []
  },
  {
   "metadata": {
    "trusted": false
   },
   "cell_type": "code",
   "source": "\"\"\"\nProblem: 259\nWrite a Python program to find the element-wise maximum of two lists using `zip()`.\n\"\"\"\n\ndef maxium_element_wise(lst1, lst2):\n    result = []\n    for x, y in zip(lst1, lst2):\n        result.append(max(x, y))\n    return result\n    \nlst1 = [2, 4, 6]\nlst2 = [7, 8, 9]\nprint(maxium_element_wise(lst1, lst2))",
   "execution_count": null,
   "outputs": []
  },
  {
   "metadata": {
    "trusted": false
   },
   "cell_type": "code",
   "source": "\"\"\"\nProblem: 260\nWrite a Python program to concatenate corresponding strings from two lists using `zip()`\n\"\"\"\n\ndef concatenate(lst1, lst2):\n    result = []\n    for x, y in zip(lst1, lst2):\n        result.append(f\"{x} {y}\")\n    return result\n    \nlst1 = [\"fruite\", \"apple\", \"tomato\"]\nlst2 = [\"orange\", \"banana\", \"carrot\"]\nprint(concatenate(lst1, lst2))",
   "execution_count": null,
   "outputs": []
  },
  {
   "metadata": {
    "trusted": false
   },
   "cell_type": "code",
   "source": "\"\"\"\nProblem: 261\nWrite a Python program to combine two lists into a list of dictionaries using `zip()`. Each dictionary should have keys 'a' and 'b'.\n\"\"\"\n\ndef combine_to_dict(lst1, lst2):\n    result = []\n    for x, y in zip(lst1, lst2):\n        result.append({'a': x, 'b': y})\n    \n    return result\n\nlst1 = [1, 2, 3]\nlst2 = ['one', 'two', 'three']\nprint(combine_to_dict(lst1, lst2))",
   "execution_count": null,
   "outputs": []
  },
  {
   "metadata": {
    "trusted": false
   },
   "cell_type": "code",
   "source": "\"\"\"\nProblem: 262\nWrite a Python program to filter pairs of elements from two lists where the first element is greater than the second using `zip()`.\n\"\"\"\n\ndef filter_pairs(lst1, lst2):\n    result = []\n    for x, y in zip(lst1, lst2):\n        if x > y:\n            result.append((x, y))\n    \n    return result\n\nlst1 = [5, 8, 3, 10]\nlst2 = [4, 7, 6, 2]\nprint(filter_pairs(lst1, lst2))",
   "execution_count": null,
   "outputs": []
  },
  {
   "metadata": {
    "trusted": false
   },
   "cell_type": "code",
   "source": "\"\"\"\nProblem: 263\nWrite a Python program to filter pairs of elements from two lists where the first element is lesser than the second using `zip()`.\n\"\"\"\n\ndef filter_pairs(lst1, lst2):\n    result = []\n    for x, y in zip(lst1, lst2):\n        if x < y:\n            result.append((x, y))\n    \n    return result\n\nlst1 = [5, 8, 3, 10]\nlst2 = [4, 7, 6, 2]\nprint(filter_pairs(lst1, lst2))",
   "execution_count": null,
   "outputs": []
  },
  {
   "metadata": {
    "trusted": false
   },
   "cell_type": "code",
   "source": "\"\"\"\nProblem: 264\nWrite a Python program to add corresponding elements of nested lists using `zip()`.\n\"\"\"\n\ndef add_nested_lists(lst1, lst2):\n    result = []\n    for sublist1, sublist2 in zip(lst1, lst2):\n        added_sublist = []\n        for x, y in zip(sublist1, sublist2):\n            added_sublist.append(x + y)\n        result.append(added_sublist)\n    \n    return result\n\nlst1 = [[1, 2, 3], [4, 5, 6]]\nlst2 = [[7, 8, 9], [10, 11, 12]]\nprint(add_nested_lists(lst1, lst2))",
   "execution_count": null,
   "outputs": []
  },
  {
   "metadata": {
    "trusted": false
   },
   "cell_type": "code",
   "source": "\"\"\"\nProblem: 265\nWrite a Python program to calculate the Euclidean distance between two points in 2D space using `zip()`.\n\"\"\"\n\nimport math\n\ndef euclidean_distance(point1, point2):\n    distance_squared = 0\n    \n    for x1, x2 in zip(point1, point2):\n        distance_squared += (x1 - x2) ** 2\n        \n    return math.sqrt(distance_squared)\n\npoint1 = (3, 4)\npoint2 = (6, 8)\nprint(euclidean_distance(point1, point2))",
   "execution_count": null,
   "outputs": []
  },
  {
   "metadata": {
    "trusted": false
   },
   "cell_type": "code",
   "source": "\"\"\"\nProblem: 266\nWrite a Python program to interleave two lists into a single list using `zip()`.\n\"\"\"\n\ndef interleave(lst1, lst2):\n    result = []\n    for x, y in zip(lst1, lst2):\n        result.append(x)\n        result.append(y)\n    return result\n        \nlst1 = [\"crissy\", \"missy\", \"sissy\"]\nlst2 = [\"spotty\", \"motty\", \"hotty\"]\nprint(interleave(lst1, lst2))",
   "execution_count": null,
   "outputs": []
  },
  {
   "metadata": {
    "trusted": false
   },
   "cell_type": "code",
   "source": "\"\"\"\nProblem: 267\nWrite a Python program to multiply corresponding elements of two lists using `zip()`.\n\"\"\"\n\ndef multiply_2_lst(lst1, lst2):\n    result = []\n    for x, y in zip(lst1, lst2):\n        result.append(x * y)\n    return result\n            \nlst1 = [2, 4, 6]\nlst2 = [3, 6, 9]\nprint(multiply_2_lst(lst1, lst2))",
   "execution_count": null,
   "outputs": []
  },
  {
   "metadata": {
    "trusted": false
   },
   "cell_type": "code",
   "source": "\"\"\"\nProblem: 268\nWrite a Python program to calculate the dot product of two vectors represented as lists using `zip()`.\n\"\"\"\n\ndef dot_product(vector1, vector2):\n    result = 0\n    for x, y in zip(vector1, vector2):\n        result += x * y \n    return result\n    \nvector1 = [1, 2, 3]\nvector2 = [4, 5, 6]\nprint(dot_product(vector1, vector2))\n\ndef sum_odd_index(lst):\n    total = 0\n    for index, value in enumerate(lst):\n        if index % 2 != 0:\n            total += value\n    \n    return total\n\nlst = [10, 20, 30, 40, 50, 60]\nprint(sum_odd_index(lst))",
   "execution_count": null,
   "outputs": []
  },
  {
   "metadata": {
    "trusted": false
   },
   "cell_type": "code",
   "source": "\"\"\"\nProblem: 269\nWrite a Python program to filter out all even numbers from a list using `filter()`.\n\"\"\"\ndef is_odd(x):\n    return x % 2 != 0\n\ndef filter_even_numbers(lst):\n    return list(filter(is_odd, lst))\n\nlst = [1, 2, 3, 4, 5, 6]\nresult = filter_even_numbers(lst)\nprint(result)",
   "execution_count": null,
   "outputs": []
  },
  {
   "metadata": {
    "trusted": false
   },
   "cell_type": "code",
   "source": "\"\"\"\nProblem: 270\nWrite a Python program to filter out all odd numbers from a list using `filter()`.\n\"\"\"\n\ndef is_even(x):\n    return x % 2 == 0\n\ndef filter_odd_numbers(lst):\n    return list(filter(is_even, lst))\n\nlst = [1, 2, 3, 4, 5, 6]\nresult = filter_odd_numbers(lst)\nprint(result)",
   "execution_count": null,
   "outputs": []
  },
  {
   "metadata": {
    "trusted": false
   },
   "cell_type": "code",
   "source": "\"\"\"\nProblem: 271\nWrite a Python program to filter out all positive numbers from a list using `filter()`.\n\"\"\"\n\ndef is_non_positive(x):\n    return x <= 0\n\ndef filter_positive_numbers(lst):\n    return list(filter(is_non_positive, lst))\n\nlst = [-2, -1, 0, 1, 2, 3]\nresult = filter_positive_numbers(lst)\nprint(result)",
   "execution_count": null,
   "outputs": []
  },
  {
   "metadata": {
    "trusted": false
   },
   "cell_type": "code",
   "source": "\"\"\"\nProblem: 272\nWrite a Python program to filter out all negative numbers from a list using `filter()`.\n\n\"\"\"\ndef is_non_negative(x):\n    return x >= 0\n\ndef filter_negative_numbers(lst):\n    return list(filter(is_non_negative, lst))\n\nlst = [-2, -1, 0, 1, 2, 3]\nresult = filter_negative_numbers(lst)\nprint(result)",
   "execution_count": null,
   "outputs": []
  },
  {
   "metadata": {
    "trusted": false
   },
   "cell_type": "code",
   "source": "\"\"\"\n273\nWrite a Python program to filter out all words from a list that start with a specific letter using `filter()`.\n\"\"\"\n\ndef filter_words_starting_with_letter(words, letter):\n    def starts_with(word):\n        return not word.startswith(letter)\n\n    filtered_words = filter(starts_with, words)\n    return list(filtered_words)\n\nwords = [\"apple\", \"banana\", \"cherry\", \"apricot\", \"blueberry\"]\nletter = \"a\"\nfiltered_words = filter_words_starting_with_letter(words, letter)\nprint(filtered_words)",
   "execution_count": null,
   "outputs": []
  },
  {
   "metadata": {
    "trusted": false
   },
   "cell_type": "code",
   "source": "\"\"\"\nProblem: 274\nWrite a Python program to filter out all palindromes from a list of strings using `filter()`.\n\"\"\"\n\ndef is_palindrome(s):\n    return s == s[::-1]\n\ndef filter_palindromes(lst):\n    return list(filter(is_palindrome, lst))\n\nlst = ['madam', 'hello', 'racecar', 'world', 'level']\nresult = filter_palindromes(lst)\nprint(result)",
   "execution_count": null,
   "outputs": []
  },
  {
   "metadata": {
    "trusted": false
   },
   "cell_type": "code",
   "source": "\"\"\"\n275\nWrite a Python program to filter out all strings from a list that have a specific length using `filter()`.\n\"\"\"\n\ndef filter_by_length(strings, length):\n    def check_length(s):\n        return len(s) == length\n    return list(filter(check_length, strings))\n\nstrings = [\"apple\", \"banana\", \"cherry\", \"date\", \"fig\"]\nlength = 5\nresult = filter_by_length(strings, length)\nprint(result)\n\ndef filter_by_length(strings, length):\n    \n    def has_length(s):\n        return len(s) == length\n\n    filtered_strings = filter(has_length, strings)\n\n    return list(filtered_strings)\n\nstrings = [\"apple\", \"banana\", \"cherry\", \"date\", \"fig\"]\nlength = 5\nresult = filter_by_length(strings, length)\n\nprint(result) ",
   "execution_count": null,
   "outputs": []
  },
  {
   "metadata": {
    "trusted": false
   },
   "cell_type": "code",
   "source": "\"\"\"\nProblem: 276\nWrite a Python program to filter out all numbers from a list that are divisible by a given number using `filter()`.\n\"\"\"\n\ndef filter_divisible(numbers, divisor):\n    def is_divisible(n):\n        return n % divisor == 0\n    return list(filter(is_divisible, numbers))\n\nnumbers = [10, 15, 20, 25, 30, 35, 40]\ndivisor = 5\nresult = filter_divisible(numbers, divisor)\nprint(result)",
   "execution_count": null,
   "outputs": []
  },
  {
   "metadata": {
    "trusted": false
   },
   "cell_type": "code",
   "source": "\"\"\"\nProblem: 278\nWrite a Python program to filter out all non-empty strings from a list using `filter()`.\n\"\"\"\n\ndef filter_non_empty(strings):\n    def is_non_empty(s):\n        return s != \"\"\n    return list(filter(is_non_empty, strings))\n\nstrings = [\"apple\", \"\", \"banana\", \"\", \"cherry\", \"date\", \"\"]\nresult = filter_non_empty(strings)\nprint(result)",
   "execution_count": null,
   "outputs": []
  },
  {
   "metadata": {
    "trusted": false
   },
   "cell_type": "code",
   "source": "\"\"\"\nProblem: 279\nWrite a Python program to filter out all prime numbers from a list using `filter()`.\n\"\"\"\n\ndef filter_prime(numbers):\n    def is_prime(n):\n        if n < 2:\n            return False\n        for i in range(2, int(n**0.5) + 1):\n            if n % i == 0:\n                return False\n        return True\n    return list(filter(is_prime, numbers))\nnumbers = [2, 3, 4, 5, 6, 7, 8, 9, 10, 11, 13, 15, 17]\nresult = filter_prime(numbers)\nprint(result)",
   "execution_count": null,
   "outputs": []
  },
  {
   "metadata": {
    "trusted": false
   },
   "cell_type": "code",
   "source": "\"\"\"\nProblem: 280\nWrite a Python program to filter out all floating-point numbers from a list using `filter()`.\n\"\"\"\n\ndef filter_floats(items):\n    def is_not_float(x):\n        return not isinstance(x, float)\n    return list(filter(is_not_float, items))\n\nitems = [1, 2.5, \"apple\", 3.7, 10, 8.9, 7, 4.0]\nresult = filter_floats(items)\nprint(result)",
   "execution_count": null,
   "outputs": []
  },
  {
   "metadata": {
    "trusted": false
   },
   "cell_type": "code",
   "source": "\"\"\"\nProblem: 281\nWrite a Python program to filter out all uppercase strings from a list using `filter()`.\n\"\"\"\n\ndef filter_uppercase(strings):\n    def is_not_uppercase(s):\n        return not s.isupper()\n    return list(filter(is_not_uppercase, strings))\n\nstrings = [\"HELLO\", \"world\", \"PYTHON\", \"code\", \"CHATGPT\", \"example\"]\nresult = filter_uppercase(strings)\nprint(result)",
   "execution_count": null,
   "outputs": []
  },
  {
   "metadata": {
    "trusted": false
   },
   "cell_type": "code",
   "source": "\"\"\"\nProblem: 282\nWrite a Python program to filter out all uppercase strings from a list using `filter()`.\n\"\"\"\n\ndef filter_uppercase_again(strings):\n    def is_not_uppercase(s):\n        return not s.isupper()\n    return list(filter(is_not_uppercase, strings))\n\nstrings = [\"HELLO\", \"WORLD\", \"python\", \"CHATGPT\", \"openai\", \"example\"]\nresult = filter_uppercase_again(strings)\nprint(result)",
   "execution_count": null,
   "outputs": []
  },
  {
   "metadata": {
    "trusted": false
   },
   "cell_type": "code",
   "source": "\"\"\"\nProblem: 283\nWrite a Python program to filter out all non-None values from a list using `filter()`.\n\"\"\"\n\ndef filter_non_none(items):\n    def is_not_none(x):\n        return x is not None\n    return list(filter(is_not_none, items))\n\nitems = [1, None, \"example\", None, 3.14, \"\", None]\nresult = filter_non_none(items)\nprint(result)",
   "execution_count": null,
   "outputs": []
  },
  {
   "metadata": {
    "trusted": false
   },
   "cell_type": "code",
   "source": "\"\"\"\nProblem: 284\nWrite a Python program to filter out all elements from a list that contain a specific substring using `filter()`.\n\"\"\"\n\ndef filter_by_substring(items, substring):\n    def does_not_contain_substring(s):\n        return substring not in s\n    return list(filter(does_not_contain_substring, items))\n\nitems = [\"apple\", \"banana\", \"cherry\", \"pineapple\", \"grape\"]\nsubstring = \"apple\"\nresult = filter_by_substring(items, substring)\nprint(result)",
   "execution_count": null,
   "outputs": []
  },
  {
   "metadata": {
    "trusted": false
   },
   "cell_type": "code",
   "source": "\"\"\"\nProblem: 285\nWrite a Python program to print numbers from 1 to 10 using a `while` loop.\n\"\"\"\n\ndef print_1_to_10():\n    i = 1\n    while i <= 10:\n        print(i)\n        i += 1\n        \nprint_1_to_10()",
   "execution_count": null,
   "outputs": []
  },
  {
   "metadata": {
    "trusted": false
   },
   "cell_type": "code",
   "source": "\"\"\"\nProblem: 286\nWrite a Python program to find the sum of the first 10 natural numbers using a `while` loop.\n\"\"\"\n\ndef sum_first_10_natural_numbers():\n    i = 1\n    total = 0\n    while i <= 10:\n        total += i\n        i += 1\n    return total\n\nresult = sum_first_10_natural_numbers()\nprint(result)\n",
   "execution_count": null,
   "outputs": []
  },
  {
   "metadata": {
    "trusted": false
   },
   "cell_type": "code",
   "source": "\"\"\"\nProblem: 287\nWrite a Python program to print all even numbers between 1 and 20 using a `while` loop.\n\"\"\"\n\ndef print_even_numbers():\n    i = 1\n    while i <= 20:\n        if i % 2 == 0:\n            print(i)\n        i += 1\n\nprint_even_numbers()",
   "execution_count": null,
   "outputs": []
  },
  {
   "metadata": {
    "trusted": false
   },
   "cell_type": "code",
   "source": "\"\"\"\nProblem: 288\nWrite a Python program to print all odd numbers between 1 and 20 using a `while` loop.\n\"\"\"\n\ndef print_odd_numbers():\n    i = 1\n    while i <= 20:\n        if i % 2 != 0:\n            print(i)\n        i += 1\nprint_odd_numbers()",
   "execution_count": null,
   "outputs": []
  },
  {
   "metadata": {
    "trusted": false
   },
   "cell_type": "code",
   "source": "\"\"\"\nProblem: 289\nWrite a Python program to find the sum of the digits of a given number using a `while` loop.\n\"\"\"\n\ndef sum_of_digits(number):\n    total = 0\n    while number > 0:\n        digit = number % 10\n        total += digit\n        number //= 10\n    return total\n\nnumber = 12345\nresult = sum_of_digits(number)\nprint(f\"The sum of the digits of {number} is: {result}\")",
   "execution_count": null,
   "outputs": []
  },
  {
   "metadata": {
    "trusted": false
   },
   "cell_type": "code",
   "source": "\"\"\"\nProblem: 290\nWrite a Python program to find the sum of the digits of a given number using a `while` loop.\n\"\"\"\n\ndef sum_of_digits_again(number):\n    total = 0\n    while number > 0:\n        digit = number % 10\n        total += digit\n        number //= 10\n    return total\nnumber = 6789\nresult = sum_of_digits_again(number)\nprint(f\"The sum of the digits of {number} is: {result}\")",
   "execution_count": null,
   "outputs": []
  },
  {
   "metadata": {
    "trusted": false
   },
   "cell_type": "code",
   "source": "\"\"\"\nProblem: 291\nWrite a Python program to find the factorial of a given number using a `while` loop.\n\"\"\"\n\ndef factorial(number):\n    result = 1\n    while number > 1:\n        result *= number\n        number -= 1\n    return result\n\n# Example usage\nnumber_to_calculate = 5\nresult = factorial(number_to_calculate)\nprint(f\"The factorial of {number_to_calculate} is: {result}\")\n\n# Additional test cases\ntest_numbers = [0, 1, 2, 3, 4, 5, 6, 7, 8, 9, 10]\nfor num in test_numbers:\n    print(f\"The factorial of {num} is: {factorial(num)}\")",
   "execution_count": null,
   "outputs": []
  },
  {
   "metadata": {
    "trusted": false
   },
   "cell_type": "code",
   "source": "\"\"\"\nProblem: 292\nWrite a Python program to print the multiplication table of a given number using a `while` loop.\n\"\"\"\n\ndef multiplication_table(number):\n    i = 1\n    while i <= 10:\n        print(f\"{number} x {i} = {number * i}\")\n        i += 1\n\n# Example usage\nnumber_to_multiply = 5\nprint(f\"Multiplication table for {number_to_multiply}:\")\nmultiplication_table(number_to_multiply)\n\n# Additional test cases\nprint(\"\\nMultiplication tables for numbers 1 to 5:\")\nfor num in range(1, 6):\n    print(f\"\\nMultiplication table for {num}:\")\n    multiplication_table(num)",
   "execution_count": null,
   "outputs": []
  },
  {
   "metadata": {
    "trusted": false
   },
   "cell_type": "code",
   "source": "\"\"\"\nProblem: 293\nWrite a Python program to check if a given number is prime using a `while` loop.\n\"\"\"\n\ndef is_prime(number):\n    if number < 2:\n        return False\n    i = 2\n    while i * i <= number:\n        if number % i == 0:\n            return False\n        i += 1\n    return True\n\n# Example usage\ntest_numbers = [1, 2, 3, 4, 5, 10, 13, 17, 20, 23, 24, 29]\n\nprint(\"Prime number check:\")\nfor num in test_numbers:\n    if is_prime(num):\n        print(f\"{num} is a prime number.\")\n    else:\n        print(f\"{num} is not a prime number.\")",
   "execution_count": null,
   "outputs": []
  },
  {
   "metadata": {
    "trusted": false
   },
   "cell_type": "code",
   "source": "\"\"\"\nProblem: 294\nWrite a Python program to count the number of digits in a given number using a `while` loop.\n\"\"\"\n\ndef count_digits(number):\n    count = 0\n    while number > 0:\n        number //= 10\n        count += 1\n    return count\n\n# Example usage\ntest_numbers = [0, 5, 123, 987654321, 1000000000, -456]\n\nprint(\"Counting digits:\")\nfor num in test_numbers:\n    if num < 0:\n        print(f\"The number of digits in {num} is {count_digits(-num)} (ignoring the negative sign).\")\n    else:\n        print(f\"The number of digits in {num} is {count_digits(num)}.\")",
   "execution_count": null,
   "outputs": []
  },
  {
   "metadata": {
    "trusted": false
   },
   "cell_type": "code",
   "source": "\"\"\"\nProblem: 295\nWrite a Python program to find the GCD (Greatest Common Divisor) of two numbers using a `while` loop.\n\"\"\"\n\ndef gcd(a, b):\n    while b:\n        a, b = b, a % b\n    return a\n\n# Example usage\nnum1 = 56\nnum2 = 98\n\nresult = gcd(num1, num2)\nprint(f\"The GCD of {num1} and {num2} is {result}.\")\n\n# Additional test cases\ntest_cases = [(48, 18), (101, 103), (56, 0), (0, 34), (0, 0)]\n\nprint(\"Testing additional cases:\")\nfor case in test_cases:\n    a, b = case\n    result = gcd(a, b)\n    print(f\"The GCD of {a} and {b} is {result}.\")",
   "execution_count": null,
   "outputs": []
  },
  {
   "metadata": {
    "trusted": false
   },
   "cell_type": "code",
   "source": "\"\"\"\nProblem: 296\nWrite a Python program to print the Fibonacci sequence up to N terms using a `while` loop.\n\"\"\"\n\ndef fibonacci_sequence(n):\n    a, b = 0, 1\n    count = 0\n    while count < n:\n        print(a)\n        a, b = b, a + b\n        count += 1\n# Example usage\nterms = 10\nprint(f\"Fibonacci sequence up to {terms} terms:\")\nfibonacci_sequence(terms)\n\n# Additional test case\nadditional_terms = 15\nprint(f\"\\nFibonacci sequence up to {additional_terms} terms:\")\nfibonacci_sequence(additional_terms)",
   "execution_count": null,
   "outputs": []
  },
  {
   "metadata": {
    "trusted": false
   },
   "cell_type": "code",
   "source": "\"\"\"\nProblem: 297\ndescription\": \"Write a Python program to find the sum of all elements in a list using a `while` loop.\n\"\"\"\n\ndef sum_elements(lst):\n    total = 0\n    index = 0\n    \n    while index < len(lst):\n        total += lst[index]\n        index += 1\n        \n    return total\n\nlst = [1, 2, 3, 4, 5]\nprint(sum_elements(lst))",
   "execution_count": null,
   "outputs": []
  },
  {
   "metadata": {
    "trusted": false
   },
   "cell_type": "code",
   "source": "\"\"\"\nProblem: 298\nWrite a Python program to find the largest element in a list using a `while` loop.\n\"\"\"\n\ndef find_largest_element(numbers):\n    i = 1\n    largest = numbers[0]\n    while i < len(numbers):\n        if numbers[i] > largest:\n            largest = numbers[i]\n        i += 1\n    return largest\n\n# Example usage\nnumbers_list = [5, 12, 3, 8, 20, 15]\nlargest_number = find_largest_element(numbers_list)\nprint(f\"The largest element in the list is: {largest_number}\")\n\n# Additional test case\nadditional_numbers_list = [-1, -5, -3, -8]\nlargest_number_in_negative = find_largest_element(additional_numbers_list)\nprint(f\"The largest element in the list of negatives is: {largest_number_in_negative}\")",
   "execution_count": null,
   "outputs": []
  },
  {
   "metadata": {
    "trusted": false
   },
   "cell_type": "code",
   "source": "\"\"\"\nProblem: 299\nWrite a Python program to find the smallest element in a list using a `while` loop.\n\"\"\"\n\ndef smallest_element(lst):\n    if not lst:\n        return None\n\n    smallest_word = lst[0]\n    i = 1 \n\n    while i < len(lst):\n        if lst[i] < smallest_word:\n            smallest_word = lst[i] \n        i += 1  \n\n    return smallest_word\n\nlst = [\"hot\", \"hotty\", \"hotties\"]\nprint(smallest_element(lst))",
   "execution_count": null,
   "outputs": []
  },
  {
   "metadata": {
    "trusted": false
   },
   "cell_type": "code",
   "source": "\"\"\"\nProblem: 300\nWrite a Python program to remove all occurrences of a specific element from a list using a `while` loop.\n\"\"\"\n\ndef remove_all_occurrences(lst, element):\n    i = 0\n    while i < len(lst):\n        if lst[i] == element:\n            lst.pop(i)\n        else:\n            i += 1\n    return lst\n\n# Example usage\nnumbers_list = [1, 2, 3, 4, 3, 5, 3, 6]\nelement_to_remove = 3\nupdated_list = remove_all_occurrences(numbers_list, element_to_remove)\nprint(f\"Updated list after removing {element_to_remove}: {updated_list}\")\n\n# Additional test case\nfruits_list = ['apple', 'banana', 'cherry', 'banana', 'date']\nfruit_to_remove = 'banana'\nupdated_fruits_list = remove_all_occurrences(fruits_list, fruit_to_remove)\nprint(f\"Updated fruits list after removing '{fruit_to_remove}': {updated_fruits_list}\")",
   "execution_count": null,
   "outputs": []
  }
 ],
 "metadata": {
  "kernelspec": {
   "name": "python3",
   "display_name": "Python 3",
   "language": "python"
  },
  "language_info": {
   "name": "python",
   "version": "3.10.4",
   "mimetype": "text/x-python",
   "codemirror_mode": {
    "name": "ipython",
    "version": 3
   },
   "pygments_lexer": "ipython3",
   "nbconvert_exporter": "python",
   "file_extension": ".py"
  }
 },
 "nbformat": 4,
 "nbformat_minor": 2
}