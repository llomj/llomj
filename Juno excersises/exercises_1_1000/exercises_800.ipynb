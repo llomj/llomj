{
 "cells": [
  {
   "metadata": {
    "trusted": false
   },
   "cell_type": "code",
   "source": "\"\"\"\nProblem: 701\nWrite a program to take a list of strings and return a list of their first characters using `map()`.\n\"\"\"\n\ndef lst_words(lst):\n    \n    def first_char(word):\n        return word[0]\n        \n    return list(map(first_char, lst))\n\nlst = [\"monkey\", \"lizard\", \"hippopotamus\"]\nprint(lst_words(lst))",
   "execution_count": null,
   "outputs": []
  },
  {
   "metadata": {
    "trusted": false
   },
   "cell_type": "code",
   "source": "\"\"\"\nProblem: 702\nUse `map()` to convert a list of binary strings to their decimal equivalents.\n\"\"\"\n\ndef lst_words(lst):\n    \n    def binary(word):\n        return int(word, 2)\n        \n    return list(map(binary, lst))\n\nlst = [\"101\", \"110\", \"1001\"]\nprint(lst_words(lst))",
   "execution_count": null,
   "outputs": []
  },
  {
   "metadata": {
    "trusted": false
   },
   "cell_type": "code",
   "source": "\"\"\"\nProblem: 702\nUse `map()` to convert a list of binary strings to their decimal equivalents.\n\"\"\"\n\ndef lst_words(lst):\n    \n    def binary(word):\n        return int(word, 2)\n        \n    return list(map(binary, lst))\n\nlst = [\"101\", \"110\", \"1001\"]\nprint(lst_words(lst))",
   "execution_count": null,
   "outputs": []
  },
  {
   "metadata": {
    "trusted": false
   },
   "cell_type": "code",
   "source": "\"\"\"\nProblem: 703\nWrite a program that takes a list of mixed-case strings and returns all strings in lowercase using `map()`.\n\"\"\"\n\ndef lst_mixed_case(lst):\n    \n    def lowercase(string):\n        return string.lower()\n        \n    return list(map(lowercase, lst))\n\nlst = [\"LIZARD\", \"hiPpopotamus\", \"FroG\"]\nprint(lst_mixed_case(lst))",
   "execution_count": null,
   "outputs": []
  },
  {
   "metadata": {
    "trusted": false
   },
   "cell_type": "code",
   "source": "\"\"\"\nProblem: 704\nGiven two lists of numbers, use `map()` to multiply each pair of numbers from the two lists together.\n\"\"\"\n\ndef lst_integers(lst1, lst2):\n    \n    def multiply(num1, num2):\n        return num1 * num2 \n        \n    return list(map(multiply, lst1, lst2))\n\nlst1 = [6, 12, 23, 68]\nlst2 = [1, 2, 3, 4]\nprint(lst_integers(lst1, lst2))",
   "execution_count": null,
   "outputs": []
  },
  {
   "metadata": {
    "trusted": false
   },
   "cell_type": "code",
   "source": "\"\"\"\nProblem: 705\nUse `map()` to convert a list of tuples (representing x, y points) into a list of their Euclidean distances from the origin.\n\"\"\"\n\nimport math\n\ndef euclidean_distances(points):\n    \n    def distance(point):\n        return math.sqrt(point[0]**2 + point[1]**2)\n        \n    return list(map(distance, points))\n\npoints = [(3, 4), (1, 1), (0, 0), (6, 8)]\nprint(euclidean_distances(points))",
   "execution_count": null,
   "outputs": []
  },
  {
   "metadata": {
    "trusted": false
   },
   "cell_type": "code",
   "source": "\"\"\"\nProblem: 706\nWrite a function that takes a list of email addresses and extracts the domain names using `map()`.\n\"\"\"\n\ndef lst_emails(lst):\n    \n    def domain(string):\n        return string.split('@')[1]\n        \n    return list(map(domain, lst))\n\nlst = [\"user@example.com\", \"admin@domain.org\", \"info@website.net\"]\nprint(lst_emails(lst))",
   "execution_count": null,
   "outputs": []
  },
  {
   "metadata": {
    "trusted": false
   },
   "cell_type": "code",
   "source": "\"\"\"\nProblem: 707\nUse `map()` to take a list of numbers and return a list indicating whether each number is even or odd.\n\"\"\"\n\ndef lst_integers(lst):\n    \n    def even_odd(number):\n        if number % 2 == 0:\n            return \"Even\"\n        else:\n            return \"Odd\"\n        \n    return list(map(even_odd, lst))\n\nlst = [65, 66, 67, 68, 69, 91, 120]\nprint(lst_integers(lst))",
   "execution_count": null,
   "outputs": []
  },
  {
   "metadata": {
    "trusted": false
   },
   "cell_type": "code",
   "source": "\"\"\"\nProblem: 708\nWrite a program that uses `map()` to convert a list of string representations of numbers to a list of integers.\n\"\"\"\n\ndef lst_strings_to_integers(lst):\n    \n    def to_integer(string):\n        return int(string)\n        \n    return list(map(to_integer, lst))\n\nlst = [\"1\", \"2\", \"3\", \"4\", \"5\"]\nprint(lst_strings_to_integers(lst))\n",
   "execution_count": null,
   "outputs": []
  },
  {
   "metadata": {
    "trusted": false
   },
   "cell_type": "code",
   "source": "\"\"\"\nProblem: 709\nCreate a program that takes a list of Boolean values and negates each value using `map()`.\n\"\"\"\n\ndef lst_strings_to_integers(lst):\n    \n    def booleans(string):\n        return int(string)\n        \n    return list(map(booleans, lst))\n\nlst = [45, -5, 5, -66, 89]\nprint(lst_strings_to_integers(lst))",
   "execution_count": null,
   "outputs": []
  },
  {
   "metadata": {
    "trusted": false
   },
   "cell_type": "code",
   "source": "\"\"\"\nProblem: 710\nWrite a function that takes a list of strings and returns a list of booleans indicating whether each string is a palindrome using `map()`.\n\"\"\"\n\ndef negate_booleans(lst):\n    \n    def negate(value):\n        return not value\n        \n    return list(map(negate, lst))\n\nlst = [True, False, True, False]\nprint(negate_booleans(lst))",
   "execution_count": null,
   "outputs": []
  },
  {
   "metadata": {
    "trusted": false
   },
   "cell_type": "code",
   "source": "\"\"\"\nProblem: 711\nGiven a list of sentences, use `map()` to return a list of the number of words in each sentence.\n\"\"\"\n\ndef lst_sentence(lst):\n    \n    def num_of_words(string):\n        words = string.split()\n        return len(words)\n        \n    return list(map(num_of_words, lst))\n    \nlst = [\"how hot is it\", \"what's up dog\", \"today is the best day of my life\"]    \nprint(lst_sentence(lst))",
   "execution_count": null,
   "outputs": []
  },
  {
   "metadata": {
    "trusted": false
   },
   "cell_type": "code",
   "source": "\"\"\"\nProblem: 712\nUse `map()` to take a list of strings and return a list of strings where each word has its first letter capitalized.\n\"\"\"\n\ndef lst_sentence(lst):\n    \n    def cap(word):\n        word = word.capitalize()\n        return word\n           \n    return list(map(cap, lst))\n    \nlst = [\"mop\", \"sop\", \"dop\"]    \nprint(lst_sentence(lst))",
   "execution_count": null,
   "outputs": []
  },
  {
   "metadata": {
    "trusted": false
   },
   "cell_type": "code",
   "source": "\"\"\"\nProblem: 713\nWrite a program that takes a list of strings and removes all spaces from each string using `map()`.\n\"\"\"\n\ndef lst_sentence(lst):\n    \n    def remove_spaces(word):\n        return word.replace(\" \", \"\")\n           \n    return list(map(remove_spaces, lst))\n    \nlst = [\"mop in tate\", \"sop in tate\", \"dop in tate\"]    \nprint(lst_sentence(lst))",
   "execution_count": null,
   "outputs": []
  },
  {
   "metadata": {
    "trusted": false
   },
   "cell_type": "code",
   "source": "\"\"\"\nProblem: 714\nCreate a program that takes a list of tuples representing (width, height) and returns a list of their areas using `map()`.\n\"\"\"\n\ndef lst_of_tuples(lst):\n    \n    def area_lst(dimensions):\n        width, height = dimensions\n        area = width * height\n        return area\n        \n    return list(map(area_lst, lst))\n            \nlst = [(3, 5), (4, 9), (3, 9)]    \nprint(lst_of_tuples(lst))",
   "execution_count": null,
   "outputs": []
  },
  {
   "metadata": {
    "trusted": false
   },
   "cell_type": "code",
   "source": "\"\"\"\nProblem: 715\nUse `map()` to take a list of URLs and extract the domain name from each one.\n\"\"\"\n\ndef extract_domain(lst):\n    \n    def domain(url):\n        return url.split(\"//\")[-1].split(\"/\")[0]\n        \n    return list(map(domain, lst))\n\nurls = [\n    \"https://www.example.com/page\",\n    \"http://another-domain.org\",\n    \"https://sub.domain.com/path/to/resource\"\n]\n\nprint(extract_domain(urls))",
   "execution_count": null,
   "outputs": []
  },
  {
   "metadata": {
    "trusted": false
   },
   "cell_type": "code",
   "source": "\"\"\"\nProblem: 716\nWrite a function that takes two lists: one of numbers and one of strings, and returns a list of tuples pairing the elements using `map()`.\n\"\"\"\n\ndef pair_elements(numbers, strings):\n    \n    def pair(num, string):\n        return (num, string)\n    \n    return list(map(pair, numbers, strings))\n\nnumbers = [1, 2, 3]\nstrings = [\"apple\", \"banana\", \"cherry\"]\nprint(pair_elements(numbers, strings))",
   "execution_count": null,
   "outputs": []
  },
  {
   "metadata": {
    "trusted": false
   },
   "cell_type": "code",
   "source": "\"\"\"\nProblem: 717\nCreate a program that converts a list of lowercase letters to uppercase using `map()`.\n\"\"\"\n\ndef lowercase_to_uppercase(lst):\n    \n    def to_uppercase(letter):\n        return letter.upper()\n    \n    return list(map(to_uppercase, lst))\n\nlst = ['a', 'b', 'c', 'd']\nprint(lowercase_to_uppercase(lst))",
   "execution_count": null,
   "outputs": []
  },
  {
   "metadata": {
    "trusted": false
   },
   "cell_type": "code",
   "source": "\"\"\"\nProblem: 718\nUse `map()` to calculate the factorial of each number in a list.\n\"\"\"\n\ndef factorial_lst(lst):\n    \n    def factorial(num):\n        result = 1\n        for i in range(1, num + 1):\n            result *= i\n        return result\n    \n    return list(map(factorial, lst))\n\nlst = [3, 4, 5, 6]\nprint(factorial_lst(lst))\n\nimport math\n\ndef factorial_lst(lst):\n    \n    def factorial(num):\n        return math.factorial(num)\n    \n    return list(map(factorial, lst))\n\nlst = [3, 4, 5, 6]\nprint(factorial_lst(lst))",
   "execution_count": null,
   "outputs": []
  },
  {
   "metadata": {
    "trusted": false
   },
   "cell_type": "code",
   "source": "\"\"\"\nProblem: 719\nWrite a program that takes a list of sentences and returns a list of sentences in which each word is reversed using `map()`.\n\"\"\"\n\ndef reverse_words_in_sentences(lst):\n    \n    def reverse_sentence(sentence):\n        words = sentence.split()\n        reversed_words = []\n        for word in words:\n            reversed_words.append(word[::-1])\n        return ' '.join(reversed_words)\n        \n    return list(map(reverse_sentence, lst))\n\nlst = [\"The cat is fast\", \"Hello world\", \"Python is fun\"]\nprint(reverse_words_in_sentences(lst))",
   "execution_count": null,
   "outputs": []
  },
  {
   "metadata": {
    "trusted": false
   },
   "cell_type": "code",
   "source": "\"\"\"\nProblem: 720\nUse `map()` to check whether the elements of a list of strings contain only alphabetic characters.\n\"\"\"\n\ndef lst_strings(lst):\n    \n    def alpha_only(word):\n        if word.isalpha():\n            return True\n        else:\n            return False\n            \n    return list(map(alpha_only, lst))\n                \n\nlst = [\"monkey\", \"tomy&\", \"magic\"]\nprint(lst_strings(lst))",
   "execution_count": null,
   "outputs": []
  },
  {
   "metadata": {
    "trusted": false
   },
   "cell_type": "code",
   "source": "\"\"\"\nProblem: 721\nWrite a function that takes a list of floats and returns a list where each float is squared using `map()`.\n\"\"\"\n\ndef square_floats(lst):\n    \n    def square(num):\n        return num * num\n        \n    return list(map(square, lst))\n\nlst = [2.5, 3.1, 4.8, 6.7]\nprint(square_floats(lst))",
   "execution_count": null,
   "outputs": []
  },
  {
   "metadata": {
    "trusted": false
   },
   "cell_type": "code",
   "source": "\"\"\"\nProblem: 722\nGiven a list of phone numbers, use `map()` to format them as international phone numbers.\n\"\"\"\n\ndef format_phone_numbers(lst):\n    \n    def format_number(number):\n        return f\"+1-{number}\"\n        \n    return list(map(format_number, lst))\n\nlst = [\"5551234567\", \"5559876543\", \"5556789123\"]\nprint(format_phone_numbers(lst))",
   "execution_count": null,
   "outputs": []
  },
  {
   "metadata": {
    "trusted": false
   },
   "cell_type": "code",
   "source": "\"\"\"\nProblem: 723\nUse `map()` to find the absolute value of each number in a list.\n\"\"\"\n\ndef absolute_values(lst):\n    \n    def absolute(num):\n        return abs(num)\n        \n    return list(map(absolute, lst))\n\nlst = [-10, 5, -3.2, 8]\nprint(absolute_values(lst))",
   "execution_count": null,
   "outputs": []
  },
  {
   "metadata": {
    "trusted": false
   },
   "cell_type": "code",
   "source": "\"\"\"\nProblem: 724\nWrite a program that takes two lists of integers and returns a list of tuples pairing corresponding numbers from each list using `map()`.\n\"\"\"\n\ndef pair_lists(lst1, lst2):\n    \n    def pair_numbers(num1, num2):\n        return (num1, num2)\n\n    return list(map(pair_numbers, lst1, lst2))\n\nlst1 = [1, 2, 3]\nlst2 = [4, 5, 6]\nprint(pair_lists(lst1, lst2))",
   "execution_count": null,
   "outputs": []
  },
  {
   "metadata": {
    "trusted": false
   },
   "cell_type": "code",
   "source": "\"\"\"\nProblem: 725\nUse `map()` to convert a list of tuples representing (x, y) coordinates into polar coordinates.\n\"\"\"\n\nimport math\n\ndef cartesian_to_polar(lst):\n    \n    def to_polar(coords):\n        x, y = coords\n        r = math.sqrt(x**2 + y**2)\n        theta = math.atan2(y, x)\n        return (r, theta)\n\n    return list(map(to_polar, lst))\n\ncoordinates = [(1, 1), (0, 0), (3, 4)]\nprint(cartesian_to_polar(coordinates))",
   "execution_count": null,
   "outputs": []
  },
  {
   "metadata": {
    "trusted": false
   },
   "cell_type": "code",
   "source": "\"\"\"\nProblem: 726\nWrite a program that uses `map()` to find the cube of each number in a list.\n\"\"\"\n\ndef lst_cubes(lst):\n    \n    def cube(num):\n        return num ** 3\n        \n    return list(map(cube, lst))\n\nnumbers = [1, 2, 3, 4, 5]\nprint(lst_cubes(numbers))",
   "execution_count": null,
   "outputs": []
  },
  {
   "metadata": {
    "trusted": false
   },
   "cell_type": "code",
   "source": "\"\"\"\nProblem: 727\nUse `map()` to create a program that takes a list of integers and returns a list of their squares and cubes as tuples.\n\"\"\"\n\ndef lst_squares_and_cubes(lst):\n    \n    def square_and_cube(num):\n        return (num ** 2, num ** 3)\n        \n    return list(map(square_and_cube, lst))\n\nlst = [1, 2, 3, 4, 5]\nprint(lst_squares_and_cubes(lst))",
   "execution_count": null,
   "outputs": []
  },
  {
   "metadata": {
    "trusted": false
   },
   "cell_type": "code",
   "source": "\"\"\"\nProblem: 728\nWrite a program that uses `map()` to convert a list of RGB tuples into hexadecimal color codes.\n\"\"\"\n\ndef rgb_to_hex(lst):\n    \n    def to_hex(rgb):\n        return '#{:02x}{:02x}{:02x}'.format(rgb[0], rgb[1], rgb[2])\n        \n    return list(map(to_hex, lst))\n\nlst = [(255, 0, 0), (0, 255, 0), (0, 0, 255)]\nprint(rgb_to_hex(lst))",
   "execution_count": null,
   "outputs": []
  },
  {
   "metadata": {
    "trusted": false
   },
   "cell_type": "code",
   "source": "\"\"\"\nProblem: 729\nGiven a list of mixed-case strings, use `map()` to return a list of strings where every second string is converted to uppercase.\n\"\"\"\n\ndef mixed_case_string(lst):\n    \n    def second_uppercase(word):\n        return word[0] + word[1].upper() + word[2:]\n\n    return list(map(second_uppercase, lst))\n\nlst = [\"first\", \"second\", \"third\", \"fourth\"]\nprint(mixed_case_string(lst))",
   "execution_count": null,
   "outputs": []
  },
  {
   "metadata": {
    "trusted": false
   },
   "cell_type": "code",
   "source": "\"\"\"\nProblem: 730\nWrite a function that uses `map()` to convert a list of dates (in string format) into Python `datetime` objects.\n\"\"\"\n\nfrom datetime import datetime\n\ndef convert_dates(date_list):\n    \n    def parse_date(date_string):\n        return datetime.strptime(date_string, \"%Y-%m-%d\")\n    \n    return list(map(parse_date, date_list))\n\ndate_list = [\"2024-01-01\", \"2023-12-25\", \"2022-07-04\"]\nprint(convert_dates(date_list))",
   "execution_count": null,
   "outputs": []
  },
  {
   "metadata": {
    "trusted": false
   },
   "cell_type": "code",
   "source": "\"\"\"\nProblem: 731\nUse `map()` to calculate the square roots of each number in a list.\n\"\"\"\n\nimport math\n\ndef calculate_square_roots(numbers):\n    def square_root(x):\n        return math.sqrt(x)\n    \n    return list(map(square_root, numbers))\n\nnumbers = [1, 4, 9, 16, 25]\nprint(calculate_square_roots(numbers))\n",
   "execution_count": null,
   "outputs": []
  },
  {
   "metadata": {
    "trusted": false
   },
   "cell_type": "code",
   "source": "\"\"\"\nProblem: 732\nCreate a program that uses `map()` to calculate the percentage of each score in a list of scores based on the maximum score.\n\"\"\"\n\ndef calculate_percentage(scores, max_score):\n    def percentage(score):\n        return (score / max_score) * 100\n    \n    return list(map(percentage, scores))\n\nscores = [50, 75, 100, 80]\nmax_score = 100\nprint(calculate_percentage(scores, max_score))",
   "execution_count": null,
   "outputs": []
  },
  {
   "metadata": {
    "trusted": false
   },
   "cell_type": "code",
   "source": "\"\"\"\nProblem: 733\nWrite a Python program that defines a helper function `add(a, b)` to return the sum of two numbers, and uses it to sum a list of numbers.\n\"\"\"\n\ndef add(a, b):\n    return a + b\n\ndef sum_list(numbers):\n    total = 0\n    for number in numbers:\n        total = add(total, number)\n    return total\n\nnumbers = [1, 2, 3, 4, 5]\nresult = sum_list(numbers)\nprint(result)",
   "execution_count": null,
   "outputs": []
  },
  {
   "metadata": {
    "trusted": false
   },
   "cell_type": "code",
   "source": "\"\"\"\nProblem: 734\nCreate a program with a helper function `is_even(n)` that returns `True` if a number is even and `False` otherwise, and use it to filter a list of numbers.\n\"\"\"\n\ndef is_even(n):\n    return n % 2 == 0\n\ndef filter_even_numbers(numbers):\n    return list(filter(is_even, numbers))\n\nnumbers = [1, 2, 3, 4, 5, 6, 7, 8, 9, 10]\neven_numbers = filter_even_numbers(numbers)\nprint(even_numbers)",
   "execution_count": null,
   "outputs": []
  },
  {
   "metadata": {
    "trusted": false
   },
   "cell_type": "code",
   "source": "\"\"\"\nProblem: 735\nWrite a program that uses a helper function `capitalize_first_letter(word)` to capitalize the first letter of each word in a list of strings.\n\"\"\"\n\ndef capitalize_first_letter(word):\n    return word.capitalize()\n\ndef word_list(lst):\n    return list(map(capitalize_first_letter, lst))\n\nlst = [\"first\", \"letter\", \"word\"]\nprint(word_list(lst))\n\ndef word_list(lst):\n    return list(map(capitalize_first_letter, lst))\n\ndef capitalize_first_letter(word):\n    return word.capitalize()\n\nlst = [\"first\", \"letter\", \"word\"]\nprint(word_list(lst))",
   "execution_count": null,
   "outputs": []
  },
  {
   "metadata": {
    "trusted": false
   },
   "cell_type": "code",
   "source": "\"\"\"\nProblem: 736\nDefine a helper function `find_max(numbers)` that returns the maximum number from a list, and use it in a program to find the largest number.\n\"\"\"\n\ndef lst_numbers(lst):\n    return find_max(lst)\n    \ndef find_max(numbers):\n    return max(numbers)\n    \nlst = [2, 4, 6]\nprint(lst_numbers(lst))",
   "execution_count": null,
   "outputs": []
  },
  {
   "metadata": {
    "trusted": false
   },
   "cell_type": "code",
   "source": "\"\"\"\nProblem: 737\nCreate a helper function `convert_to_celsius(fahrenheit)` that converts a temperature from Fahrenheit to Celsius, and use it to convert a list of temperatures.\n\"\"\"\n\ndef lst_tempertures(lst):\n    return list(map(convert_to_celsius, lst))\n    \ndef convert_to_celsius(fahrenheit):\n    return (fahrenheit - 32) / 1.8\n       \nlst = [1, 16, 20, 27]    \nprint(lst_tempertures(lst))",
   "execution_count": null,
   "outputs": []
  },
  {
   "metadata": {
    "trusted": false
   },
   "cell_type": "code",
   "source": "\"\"\"\nProblem: 738\nWrite a program that defines a helper function `reverse_string(s)` that returns the reversed version of a string, and uses it to reverse all strings in a list.\n\"\"\"\n\ndef string_lst(lst):\n    return list(map(reverse_string, lst))\n\ndef reverse_string(word):\n    return word[::-1]\n\nlst = [\"hello\", \"twice\"]    \nprint(string_lst(lst))",
   "execution_count": null,
   "outputs": []
  },
  {
   "metadata": {
    "trusted": false
   },
   "cell_type": "code",
   "source": "\"\"\"\nProblem: 739\nDefine a helper function `count_vowels(word)` that counts the number of vowels in a word, and use it to find the word with the most vowels in a list.\n\"\"\"\n\ndef lst_words(lst):\n    return max(lst, key=count_vowels)\n\ndef count_vowels(word):\n    vowels = \"aeiou\"\n    count = 0\n    for char in word:\n        if char.lower() in vowels:\n            count += 1\n    return count\n\nlst = [\"word\", \"eerie\"]    \nprint(lst_words(lst))",
   "execution_count": null,
   "outputs": []
  },
  {
   "metadata": {
    "trusted": false
   },
   "cell_type": "code",
   "source": "\"\"\"\nProblem: 740\nCreate a program with a helper function `is_palindrome(word)` that checks if a word is a palindrome and uses it to filter a list of words.\n\"\"\"\n\ndef lst_of_word(lst):\n    return list(filter(is_palindrome, lst)) \n    \ndef is_palindrome(word):\n    return word == word[::-1]\n\nlst = [\"radar\", \"words\", \"level\", \"deed\"]\nprint(lst_of_word(lst))",
   "execution_count": null,
   "outputs": []
  },
  {
   "metadata": {
    "trusted": false
   },
   "cell_type": "code",
   "source": "\"\"\"\nProblem: 741\nWrite a program that defines a helper function `calculate_area(radius)` to calculate the area of a circle given its radius, and uses it for a list of radii.\n\"\"\"\n\ndef lst_of_radii(lst):\n    return list(map(calculate_area, lst))\n\ndef calculate_area(radius):\n    return 3.14159 * radius ** 2\n\nlst = [1, 2, 3, 4, 5]\nprint(lst_of_radii(lst))",
   "execution_count": null,
   "outputs": []
  },
  {
   "metadata": {
    "trusted": false
   },
   "cell_type": "code",
   "source": "\"\"\"\nProblem: 742\nDefine a helper function `square(n)` that returns the square of a number, and use it to square each element in a list.\n\"\"\"\n\ndef lst_numbers(lst):\n    return list(map(sqaure_number, lst))\n\ndef sqaure_number(num):\n    return num * num\n    \nlst = [2, 5, 7]\nprint(lst_numbers(lst))",
   "execution_count": null,
   "outputs": []
  },
  {
   "metadata": {
    "trusted": false
   },
   "cell_type": "code",
   "source": "\"\"\"\nProblem: 743\nCreate a program with a helper function `get_first_n_elements(lst, n)` that returns the first `n` elements of a list, and use it on a sample list.\n\"\"\"\n\ndef get_first_n_elements(lst, num):\n    return lst[:num] \n\ndef main():\n    lst = [1, 2, 3, 4, 5, 6]\n    num = 3\n    return get_first_n_elements(lst, num)\n\nprint(main()) ",
   "execution_count": null,
   "outputs": []
  },
  {
   "metadata": {
    "trusted": false
   },
   "cell_type": "code",
   "source": "\"\"\"\nProblem: 744\nWrite a program that defines a helper function `merge_dicts(dict1, dict2)` that merges two dictionaries, and uses it to combine multiple dictionaries.\n\"\"\"\n\ndef merge_dicts(dict1, dict2):\n    return {**dict1, **dict2} \n\ndef combine_dicts(dicts):\n    result = {}\n    for d in dicts:\n        result = merge_dicts(result, d) \n    return result\n    \ndicts = [\n    {'a': 1, 'b': 2},\n    {'b': 3, 'c': 4},\n    {'d': 5}\n]\n\nprint(combine_dicts(dicts))",
   "execution_count": null,
   "outputs": []
  },
  {
   "metadata": {
    "trusted": false
   },
   "cell_type": "code",
   "source": "\"\"\"\nProblem: 745\nDefine a helper function `format_name(first_name, last_name)` that returns a formatted full name, and use it to format a list of names.\n\"\"\"\n\ndef format_name(first_name, last_name):\n    return f\"{first_name} {last_name}\"\n\ndef format_names(lst):\n    \n    def format_pair(name_pair):\n        return format_name(name_pair[0], name_pair[1])\n    \n    return list(map(format_pair, lst))\n\nnames = [(\"John\", \"Doe\"), (\"Jane\", \"Smith\"), (\"Alice\", \"Johnson\")]\nformatted_names = format_names(names)\nprint(formatted_names)",
   "execution_count": null,
   "outputs": []
  },
  {
   "metadata": {
    "trusted": false
   },
   "cell_type": "code",
   "source": "\"\"\"\nProblem: 746\nCreate a program with a helper function `find_gcd(a, b)` that finds the greatest common divisor of two numbers, and use it to find the GCD of a list of pairs.\n\"\"\"\n\ndef find_gcd(a, b):\n    while b:\n        a, b = b, a % b\n    return a\n\ndef gcd_of_pairs(lst):\n    def gcd_pair(pair):\n        return find_gcd(pair[0], pair[1])\n    \n    return list(map(gcd_pair, lst))\n\npairs = [(48, 18), (56, 98), (100, 10)]\ngcd_results = gcd_of_pairs(pairs)\nprint(gcd_results)",
   "execution_count": null,
   "outputs": []
  },
  {
   "metadata": {
    "trusted": false
   },
   "cell_type": "code",
   "source": "\"\"\"\nProblem: 747\nWrite a program that defines a helper function `count_occurrences(lst, element)` that counts occurrences of an element in a list, and uses it for a given list.\n\"\"\"\n\ndef lst_elements(lst):\n    element = \"tree\" \n    return count_occurrences(lst, element)\n    \ndef count_occurrences(lst, element):\n    count = 0\n    for item in lst:\n        if item == element:\n            count += 1\n    return count\n    \nlst = [\"tree\", \"tree\", \"tree\", \"sand\"]\nprint(lst_elements(lst))",
   "execution_count": null,
   "outputs": []
  },
  {
   "metadata": {
    "trusted": false
   },
   "cell_type": "code",
   "source": "\"\"\"\nProblem: 748\nDefine a helper function `sort_list(lst)` that sorts a list and returns the sorted list, and use it to sort several lists.\n\"\"\"\n\ndef lst_words(lst1, lst2):\n    return sort_lst(lst1), sort_lst(lst2)\n\n\ndef sort_lst(lst):\n    return sorted(lst)\n\n\nlst1 = [\"zebra\", \"frog\", \"toad\", \"anaconda\", \"baboon\"]\nlst2 = [\"ktm\", \"Honda\", \"Suzuki\"]\nsorted_lists = lst_words(lst1, lst2)\nprint(sorted_lists)",
   "execution_count": null,
   "outputs": []
  },
  {
   "metadata": {
    "trusted": false
   },
   "cell_type": "code",
   "source": "\"\"\"\nProblem: 749\nCreate a program with a helper function `extract_domain(url)` that extracts the domain from a URL, and use it on a list of URLs.\n\"\"\"\n\ndef domain_names(lst):\n    return list(map(extract_URL, lst))\n        \ndef extract_URL(url):\n    site_name = url.split(\"//\")[1]\n    return site_name\n\nlst = [\n    \"http://google.com\",\n    \"http://facebook.com\",\n    \"http://twitter.com\",\n    \"http://linkedin.com\",\n    \"http://github.com\",\n    \"http://stackoverflow.com\",\n    \"http://youtube.com\",\n    \"http://amazon.com\",\n    \"http://microsoft.com\",\n    \"http://apple.com\"\n]\n\nprint(domain_names(lst))",
   "execution_count": null,
   "outputs": []
  },
  {
   "metadata": {
    "trusted": false
   },
   "cell_type": "code",
   "source": "\"\"\"\nProblem: 750\nWrite a program that defines a helper function `remove_duplicates(lst)` that removes duplicate elements from a list, and uses it on a sample list.\n\"\"\"\n\ndef lst_sites(lst):\n    return remove_duplicates(lst)\n\n    \ndef remove_duplicates(lst):\n    return list(set(lst))\n    \n\nlst = [\n    \"google\",\n    \"facebook\",\n    \"twitter\",\n    \"linkedin\",\n    \"github\",\n    \"stackoverflow\",\n    \"youtube\",\n    \"amazon\",\n    \"microsoft\",\n    \"apple\",\n    \"twitter\",\n    \"google\"\n]\nprint(lst_sites(lst))",
   "execution_count": null,
   "outputs": []
  },
  {
   "metadata": {
    "trusted": false
   },
   "cell_type": "code",
   "source": "\"\"\"\nProblem: 751\nDefine a helper function `flatten_list(nested_list)` that flattens a nested list, and use it to flatten a list of lists.\n\"\"\"\n\ndef main(lst):\n    result = []\n    for i in lst:\n        for j in i:\n            result.append(j)       \n    return result\n\nlst  = [[\"list1\", \"list2\"], [\"list3\", \"list4\"]]\nprint(main(lst))",
   "execution_count": null,
   "outputs": []
  },
  {
   "metadata": {
    "trusted": false
   },
   "cell_type": "code",
   "source": "def lst_of_lists(nested_list):\n    return flatten_list(nested_list)\n\ndef flatten_list(nested_list):\n    flat_list = []\n    for sublist in nested_list:\n        for item in sublist:\n            flat_list.append(item)\n    return flat_list\n\nnested_list = [\n    [1, 2, 3],\n    [4, 5],\n    [6, 7, 8, 9],\n    [10]\n]\n\nprint(lst_of_lists(nested_list))",
   "execution_count": null,
   "outputs": []
  },
  {
   "metadata": {
    "trusted": false
   },
   "cell_type": "code",
   "source": "\"\"\"\nProblem: 752\nCreate a program with a helper function `is_prime(n)` that checks if a number is prime, and uses it to filter a list of numbers.\n\"\"\"\n\ndef filter_primes(lst):\n    return list(filter(is_prime, lst))\n    \ndef is_prime(n):\n    if n <= 1:\n        return False\n    for i in range(2, int(n**0.5) + 1):\n        if n % i == 0:\n            return False\n    return True\n\nnumbers = [1, 2, 3, 4, 5, 6, 7, 8, 9, 10, 11]\nprint(filter_primes(numbers))",
   "execution_count": null,
   "outputs": []
  },
  {
   "metadata": {
    "trusted": false
   },
   "cell_type": "code",
   "source": "\"\"\"\nProblem: 753\nWrite a program that defines a helper function `calculate_factorial(n)` that calculates the factorial of a number, and uses it for a range of numbers.\n\"\"\"\n\ndef lst_of_numbers(lst):\n    return list(map(calculate_factorial, lst))\n\ndef calculate_factorial(num):\n    factorial = 1\n    for i in range(1, num + 1):\n        factorial *= i\n    return factorial\n\nlst = [2, 4, 7, 8]\nprint(lst_of_numbers(lst))",
   "execution_count": null,
   "outputs": []
  },
  {
   "metadata": {
    "trusted": false
   },
   "cell_type": "code",
   "source": "\"\"\"\nProblem: 754\nDefine a helper function `sort_dict_by_value(d)` that sorts a dictionary by its values, and use it to sort a given dictionary.\n\"\"\"\n\ndef main(dic):\n    return sort_dict_by_value(dic)\n\ndef sort_dict_by_value(d):\n    return dict(sorted(d.items(), key=get_value))\n\ndef get_value(item):\n    return item[1]\n\ndic = {\n    \"name\": 2,\n    \"age\": 5,\n    \"city\": 1,\n    \"job\": 3\n}    \nprint(main(dic))",
   "execution_count": null,
   "outputs": []
  },
  {
   "metadata": {
    "trusted": false
   },
   "cell_type": "code",
   "source": "def main(dic):\n    return sort_dict_by_value(dic)\n\ndef sort_dict_by_value(d):\n    sorted_items = sorted(d.items(), key=get_value)\n\n    result = {}\n    for key, value in sorted_items:\n        result[key] = value\n    return result\n\ndic = {\n    \"name\": 2,\n    \"age\": 5,\n    \"city\": 1,\n    \"job\": 3\n}    \nprint(main(dic))",
   "execution_count": null,
   "outputs": []
  },
  {
   "metadata": {
    "trusted": false
   },
   "cell_type": "code",
   "source": "\"\"\"\nProblem: 755\nCreate a program with a helper function `get_unique_elements(lst)` that returns the unique elements of a list, and uses it on a sample list.\n\"\"\"\n\ndef main(lst):\n    return get_unique_elements(lst)\n    \ndef get_unique_elements(word):\n    return list(set(word))\n\n\nlst = [\n    \"apple\",\n    \"banana\",\n    \"orange\",\n    \"apple\",\n    \"grape\",\n    \"banana\",\n    \"kiwi\",\n    \"mango\",\n    \"peach\",\n    \"kiwi\",\n    \"pear\"\n]\nprint(main(lst))",
   "execution_count": null,
   "outputs": []
  },
  {
   "metadata": {
    "trusted": false
   },
   "cell_type": "code",
   "source": "\"\"\"\nProblem: 756\nWrite a program that defines a helper function `check_anagram(str1, str2)` that checks if two strings are anagrams, and uses it on a list of string pairs.\n\"\"\"\n\ndef main(str1, str2):\n    return check_anagram(str1, str2)\n\ndef check_anagram(x, y):\n    return sorted(x) == sorted(y)\n\nstr1 = \"evil\"\nstr2 = \"vile\"\nprint(main(str1, str2))",
   "execution_count": null,
   "outputs": []
  },
  {
   "metadata": {
    "trusted": false
   },
   "cell_type": "code",
   "source": "\"\"\"\nProblem: 757\nDefine a helper function `find_index(lst, element)` that returns the index of an element in a list, and uses it for a given list.\n\"\"\"\ndef main(lst1, target1):\n    return find_index(lst, target1)\n    \n    \ndef find_index(lst, target):\n    for index, word in enumerate(lst):\n        if word == target:\n            return index        \nlst = [\n    \"apple\",\n    \"banana\",\n    \"cherry\",\n    \"date\",\n    \"elderberry\",\n    \"fig\",\n    \"grape\",\n    \"honeydew\"\n]\ntarget1 = \"date\"\nprint(main(lst1, target1))",
   "execution_count": null,
   "outputs": []
  },
  {
   "metadata": {
    "trusted": false
   },
   "cell_type": "code",
   "source": "\"\"\"\nProblem: 758\nCreate a program with a helper function `generate_fibonacci(n)` that generates the first `n` Fibonacci numbers, and uses it to print Fibonacci sequences.\n\"\"\"\n\ndef main(n):\n    return generate_fibonacci(n)\n\n\ndef generate_fibonacci(n):\n    fibonacci_sequence = []\n    a, b = 0, 1\n    for _ in range(n):\n        fibonacci_sequence.append(a)\n        a, b = b, a + b\n    return fibonacci_sequence\n\nn = 10 \nprint(main(n))",
   "execution_count": null,
   "outputs": []
  },
  {
   "metadata": {
    "trusted": false
   },
   "cell_type": "code",
   "source": "\"\"\"\nProblem: 759\nWrite a program that defines a helper function `calculate_average(lst)` that calculates the average of a list, and uses it on multiple lists.\n\"\"\"\n\ndef main(lst1, lst2):\n    avg1 = calculate_average(lst1)\n    avg2 = calculate_average(lst2)\n    return avg1, avg2\n\ndef calculate_average(lst):\n    length_lst = len(lst)\n    total = sum(lst)\n    average = total / length_lst\n    return average\n\nlist1 = [3, 7, 2, 9, 12, 5]\nlist2 = [14, 6, 8, 11, 3, 10]\nprint(main(list1, list2))",
   "execution_count": null,
   "outputs": []
  },
  {
   "metadata": {
    "trusted": false
   },
   "cell_type": "code",
   "source": "\"\"\"\nProblem: 760\nDefine a helper function `convert_to_kilometers(miles)` that converts miles to kilometers, and uses it to convert a list of distances.\n\"\"\"\n\ndef main(lst):\n    return list(map(convert_to_kilometers, lst))\n\ndef convert_to_kilometers(miles):\n    miles_to_km = 1.60934 \n    kilometers = miles * miles_to_km\n    return kilometers\n\nlst = [34, 67, 157]\nprint(main(lst))",
   "execution_count": null,
   "outputs": []
  },
  {
   "metadata": {
    "trusted": false
   },
   "cell_type": "code",
   "source": "\"\"\"\nProblem: 761\nCreate a program with a helper function `get_last_n_elements(lst, n)` that returns the last `n` elements of a list, and uses it on a sample list.\n\"\"\"\n\ndef main(lst, n):\n    return get_last_n_elements(lst, n)\n    \ndef get_last_n_elements(lst, n):\n    return lst[:n] \n       \nlst = [1, 2, 3, 4, 5, 6]\nn = 3    \nprint(main(lst, n))",
   "execution_count": null,
   "outputs": []
  },
  {
   "metadata": {
    "trusted": false
   },
   "cell_type": "code",
   "source": "\"\"\"\nProblem: 762\nWrite a program that defines a helper function `remove_whitespace(s)` that removes whitespace from a string, and uses it on a list of strings.\n\"\"\"\n\ndef main(string):\n    return remove_whitespace(string)\n\ndef remove_whitespace(s):\n    return s.replace(\" \", \"\")\n\nstring = \"today I'm going to the shopping centre\"\nprint(main(string))",
   "execution_count": null,
   "outputs": []
  },
  {
   "metadata": {
    "trusted": false
   },
   "cell_type": "code",
   "source": "\"\"\"\nProblem: 763\nDefine a helper function `get_positive_numbers(lst)` that returns only the positive numbers from a list, and uses it on a sample list.\n\"\"\"\n\ndef main(lst):\n    return list(filter(get_positive_numbers, lst))\n\ndef get_positive_numbers(number):\n    return number > 0\n\nlst = [1, -2, 2, -3, 3, 4, -4]    \nprint(main(lst))",
   "execution_count": null,
   "outputs": []
  },
  {
   "metadata": {
    "trusted": false
   },
   "cell_type": "code",
   "source": "\"\"\"\nProblem: 763\nDefine a helper function `get_positive_numbers(lst)` that returns only the positive numbers from a list, and uses it on a sample list.\n\"\"\"\n\ndef main(lst):\n    return list(filter(get_positive_numbers, lst))\n\ndef get_positive_numbers(number):\n    return number > 0\n\nlst = [1, -2, 2, -3, 3, 4, -4]    \nprint(main(lst))",
   "execution_count": null,
   "outputs": []
  },
  {
   "metadata": {
    "trusted": false
   },
   "cell_type": "code",
   "source": "\"\"\"\nProblem: 765\nWrite a program that defines a helper function `check_even_odd(n)` that returns \"Even\" or \"Odd\" for a number, and uses it for a list of numbers.\n\"\"\"\n\ndef main(lst):\n    return list(map(check_even_odd, lst))\n\ndef check_even_odd(n):\n    if n % 2 == 0:\n        return \"Even\"\n    else:\n        return \"Odd\"\n\nlst = [45, 7, 2, 3, 68, 36]\nprint(main(lst))",
   "execution_count": null,
   "outputs": []
  },
  {
   "metadata": {
    "trusted": false
   },
   "cell_type": "code",
   "source": "def main(lst):\n    results = []\n    for number in lst:\n        results.append(check_even_odd(number))\n    return results\n\ndef check_even_odd(n):\n    if n % 2 == 0:\n        return \"Even\"\n    else:\n        return \"Odd\"\n\nlst = [45, 7, 2, 3, 68, 36]\nprint(main(lst))",
   "execution_count": null,
   "outputs": []
  },
  {
   "metadata": {
    "trusted": false
   },
   "cell_type": "code",
   "source": "\"\"\"\nProblem: 766\nDefine a helper function `convert_to_uppercase(word)` that converts a word to uppercase, and uses it on a list of words.\n\"\"\"\n\ndef main(lst):\n    return list(map(convert_to_uppercase, lst))  \n\ndef convert_to_uppercase(word):\n    return word.upper()\n\nlst = [\"eorl\", \"sitting\", \"kong\"]\nprint(main(lst))",
   "execution_count": null,
   "outputs": []
  },
  {
   "metadata": {
    "trusted": false
   },
   "cell_type": "code",
   "source": "\"\"\"\nProblem: 767\nCreate a program with a helper function `count_characters(s)` that counts the characters in a string, and uses it on a list of strings.\n\"\"\"\n\ndef main(lst_str):\n    return list(map(count_characters, lst_str))  \n\ndef count_characters(s):\n    return len(s)\n\nlst_str = [\"eorl\", \"sitting\", \"mountain\"]\nprint(count_characters(lst_str))",
   "execution_count": null,
   "outputs": []
  },
  {
   "metadata": {
    "trusted": false
   },
   "cell_type": "code",
   "source": "def main(lst_str):\n    return list(map(count_characters, lst_str))  # Apply count_characters to each string in the list\n\ndef count_characters(s):\n    return len(s)\n\nlst_str = [\"eorl\", \"sitting\", \"mountain\"]\nprint(main(lst_str))",
   "execution_count": null,
   "outputs": []
  },
  {
   "metadata": {
    "trusted": false
   },
   "cell_type": "code",
   "source": "\"\"\"\nProblem: 768\nWrite a program that defines a helper function `remove_special_characters(s)` that removes special characters from a string, and uses it on a sample list of strings.\n\"\"\"\ndef main(lst):\n    return list(map(remove_special_characters, lst))  \n\ndef remove_special_characters(s):\n    s = s.replace('@', '').replace('?', '')\n    return s\n\nlst = [\"eor?@l\", \"s@itting?\", \"@mountain?\"] \nprint(main(lst))",
   "execution_count": null,
   "outputs": []
  },
  {
   "metadata": {
    "trusted": false
   },
   "cell_type": "code",
   "source": "\"\"\"\nProblem: 769\nDefine a helper function `is_substring(s1, s2)` that checks if `s1` is a substring of `s2`, and uses it on a list of string pairs.\n\"\"\"\ndef main(lst):\n    results = []\n    for pair in lst:\n        results.append(is_substring(pair[0], pair[1]))\n    return results\n\ndef is_substring(s1, s2):\n    return s1 in s2\n\nlst = [(\"apple\", \"pineapple\"), (\"dog\", \"doghouse\"), (\"cat\", \"concatenate\")]\nprint(main(lst))",
   "execution_count": null,
   "outputs": []
  },
  {
   "metadata": {
    "trusted": false
   },
   "cell_type": "code",
   "source": "\"\"\"\nProblem: 770\nCreate a program with a helper function `sum_of_list(lst)` that returns the sum of all numbers in a list, and uses it on a sample list.\n\"\"\"\n\ndef main(lst):\n    return sum_of_list(lst)\n    \ndef sum_of_list(n):\n    count = 0\n    for n in lst:\n        count += n\n    return count\n\nlst = [2, 2, 2, 2, 2]\nprint(main(lst))",
   "execution_count": null,
   "outputs": []
  },
  {
   "metadata": {
    "trusted": false
   },
   "cell_type": "code",
   "source": "\"\"\"\nProblem: 771\nWrite a program that defines a helper function `get_even_numbers(lst)` that filters and returns even numbers from a list, and uses it on a sample list.\n\"\"\"\n\ndef main(lst):\n    return list(filter(get_even_numbers, lst))\n\ndef get_even_numbers(n):\n    return n % 2 == 0  #\n\nlst = [46, 22, 7, 4, 8, 13]\nprint(main(lst))",
   "execution_count": null,
   "outputs": []
  },
  {
   "metadata": {
    "trusted": false
   },
   "cell_type": "code",
   "source": "\"\"\"\nProblem: 772\nDefine a helper function `merge_sorted_lists(lst1, lst2)` that merges and sorts two lists, and uses it to combine multiple sorted lists.\n\"\"\"\n\ndef main(lst1, lst2):\n    return merge_sorted_lists(lst1, lst2)\n\ndef merge_sorted_lists(x, y):\n    return sorted(x + y)\n\nlst1 = [1, 2, 3]\nlst2 = [4, 5, 6]   \nprint(main(lst1, lst2))",
   "execution_count": null,
   "outputs": []
  },
  {
   "metadata": {
    "trusted": false
   },
   "cell_type": "code",
   "source": "\"\"\"\nProblem: 773\nWrite a Python program to create a dictionary from two lists, one containing keys and the other containing values.\n\"\"\"\n\ndef lst_to_dic(lst1, lst2):\n    result = {}\n    \n    for x, y in zip(lst1, lst2):\n        result[x] = y\n    return result\n\nlst1 = [1, 2, 3]\nlst2 = [\"start\", \"middle\", \"end\"]\nprint(lst_to_dic(lst1, lst2))\n\ndef lst_to_dic(lst1, lst2):\n    result = {}\n    \n    for i in range(len(lst1)):\n        result[lst1[i]] = lst2[i]\n    return result\n\nlst1 = [1, 2, 3]\nlst2 = [\"start\", \"middle\", \"end\"]\nprint(lst_to_dic(lst1, lst2))",
   "execution_count": null,
   "outputs": []
  },
  {
   "metadata": {
    "trusted": false
   },
   "cell_type": "code",
   "source": "\"\"\"\nProblem: 774\nWrite a Python program to get the value of a specific key from a dictionary, or return a default value if the key is not found.\n\"\"\"\n\ndef main(dic, key_to_find):\n    return dic.get(key_to_find, None)\n\ndic = {\n    \"name\": 777,\n    \"age\": 56,\n    \"city\": 34,\n    \"job\": 1\n}\nkey_to_find = \"job\"\nprint(main(dic, key_to_find))\nkey_to_find = \"unknown\" \nprint(main(dic, key_to_find)) \n\ndef value_of_specific_key(dic, target):\n    return dic.get(target, \"Default value\")\n    \ndic = {\n    \"name\": \"Alice\",\n    \"age\": 30,\n    \"city\": \"New York\",\n    \"job\": \"Engineer\"\n}\ntarget = \"age\"\nprint(value_of_specific_key(dic, target))",
   "execution_count": null,
   "outputs": []
  },
  {
   "metadata": {
    "trusted": false
   },
   "cell_type": "code",
   "source": "def value_of_specific_key(dic, target):\n    for key, value in dic.items():\n        if key == target:\n            return value\n    return None \n    \ndic = {\n    \"name\": \"Alice\",\n    \"age\": 30,\n    \"city\": \"New York\",\n    \"job\": \"Engineer\"\n}\ntarget = \"age\"\nprint(value_of_specific_key(dic, target))",
   "execution_count": null,
   "outputs": []
  },
  {
   "metadata": {
    "trusted": false
   },
   "cell_type": "code",
   "source": "\"\"\"\nProblem: 775\nWrite a Python program to merge two dictionaries into one.\n\"\"\"\n\ndef main(dic1, dic2):\n    merge_dic = dic1.copy()  \n    for key, value in dic2.items():\n        if key in merge_dic:\n            merge_dic[key] = [merge_dic[key], value]\n        else:\n            merge_dic[key] = value\n    return merge_dic\n\ndic1 = {\n    \"name\": 777,\n    \"age\": 56,\n    \"city\": 34,\n    \"job\": 1\n}\n\ndic2 = {\n    \"name\": 2,\n    \"age\": 2,\n    \"cities\": 2,\n    \"jobless\": 2\n}\n\nprint(main(dic1, dic2))",
   "execution_count": null,
   "outputs": []
  },
  {
   "metadata": {
    "trusted": false
   },
   "cell_type": "code",
   "source": "def merge_dicts(dic1, dic2):\n    merged_dict = {**dic1, **dic2}\n    return merged_dict\n\ndic1 = {\n    \"name\": \"Steven\",\n    \"age\": 56,\n    \"city\": \"New York\",\n    \"job\": \"Engineer\"\n}\ndic2 = {\n    \"named\": \"Alice\",\n    \"aged\": 30,\n    \"cities\": \"New York\",\n    \"jobless\": \"Engineer\"\n}\nprint(merge_dicts(dic1, dic2))",
   "execution_count": null,
   "outputs": []
  },
  {
   "metadata": {
    "trusted": false
   },
   "cell_type": "code",
   "source": "\"\"\"\nProblem: 776\nWrite a Python program to remove a key from a dictionary.\n\"\"\"\n\ndef remove_key(dic, key_to_remove):\n    if key_to_remove in dic:\n        del dic[key_to_remove]\n    return dic\n\ndic = {\n    \"name\": \"Steven\",\n    \"age\": 56,\n    \"city\": \"New York\",\n    \"job\": \"Engineer\"\n}\nkey_to_remove = \"age\"\nprint(remove_key(dic, key_to_remove))",
   "execution_count": null,
   "outputs": []
  },
  {
   "metadata": {
    "trusted": false
   },
   "cell_type": "code",
   "source": "def main(dic, target):\n    result = {}\n    for key, value in dic.items():\n        if key != target:\n            result[key] = value\n    return result\n    \ndic = {\n    \"name\": 777,\n    \"age\": 56,\n    \"city\": 34,\n    \"job\": 1\n}\ntarget = \"job\"\nprint(main(dic, target))",
   "execution_count": null,
   "outputs": []
  },
  {
   "metadata": {
    "trusted": false
   },
   "cell_type": "code",
   "source": "\"\"\"\nProblem: 777\nWrite a Python program to iterate over the keys and values of a dictionary and print them in the format `key: value`.\n\"\"\"\n\ndef print_dict_items(dic):\n    for key, value in dic.items():\n        print(f\"{key}: {value}\")\n\ndic = {\n    \"name\": \"Steven\",\n    \"age\": 56,\n    \"city\": \"New York\",\n    \"job\": \"Engineer\"\n}\nprint_dict_items(dic)",
   "execution_count": null,
   "outputs": []
  },
  {
   "metadata": {
    "trusted": false
   },
   "cell_type": "code",
   "source": "\"\"\"\nProblem: 778\nWrite a Python program to check if a given key exists in a dictionary.\n\"\"\"\n\ndef main(dic1):\n    if target in dic1.keys():\n        return True\n    return False\n           \ndic1 = {\n    \"name\": 777,\n    \"age\": 56,\n    \"city\": 34,\n    \"job\": 1\n}\ntarget = \"names\"\nprint(main(dic1))",
   "execution_count": null,
   "outputs": []
  },
  {
   "metadata": {
    "trusted": false
   },
   "cell_type": "code",
   "source": "def does_key_exist(dic, target):\n    for key in dic.keys():\n        if key == target:\n            return \"key exists\" \n    return \"key does not exist\"\n\nprint(does_key_exist({\"name\": \"Steven\", \"age\": 56}, \"job\"))\nprint(does_key_exist({\"name\": \"Steven\", \"age\": 56}, \"name\")) ",
   "execution_count": null,
   "outputs": []
  },
  {
   "metadata": {
    "trusted": false
   },
   "cell_type": "code",
   "source": "\"\"\"\nProblem: 779\nWrite a Python program to sort a dictionary by its keys.\n\"\"\"\n\ndef sort_dic(dic):\n    return dict(sorted(dic.items()))\n\ndic = {\n    \"name\": \"Steven\",\n    \"age\": 56,\n    \"city\": \"New York\",\n    \"job\": \"Engineer\"\n}\nprint(sort_dic(dic))",
   "execution_count": null,
   "outputs": []
  },
  {
   "metadata": {
    "trusted": false
   },
   "cell_type": "code",
   "source": "\"\"\"\nProblem: 780\nWrite a Python program to sort a dictionary by its values.\n\"\"\"\n\ndef main(dic):\n    dic = dic.items()\n\n    def sort_value(item):\n        return item[1]\n        \n    return dict(sorted(dic, key=sort_value))\n    \n         \ndic = {\n    \"name\": 777,\n    \"age\": 56,\n    \"city\": 34,\n    \"job\": 1\n}\nprint(main(dic))\n",
   "execution_count": null,
   "outputs": []
  },
  {
   "metadata": {
    "trusted": false
   },
   "cell_type": "code",
   "source": "def sort_values(dic):\n    sorted_items = sorted(dic.items(), key=sort_key)\n    return dict(sorted_items)\n\ndef sort_key(item):\n    return item[1]\n\ndic = {\n    \"cat\": 34,\n    \"dog\": 56,\n    \"rabbit\": 566,\n    \"fish\": 4\n}\nprint(sort_values(dic))",
   "execution_count": null,
   "outputs": []
  },
  {
   "metadata": {
    "trusted": false
   },
   "cell_type": "code",
   "source": "\"\"\"\nProblem: 781\nWrite a Python program to count the frequency of elements in a list and store the result in a dictionary.\n\"\"\"\n\ndef frequency_elements(lst):\n    result = {}\n    for word in lst:\n        if word in result:\n            result[word] += 1\n        else:\n            result[word] = 1   \n    return result\n    \nlst = [\"tree\", \"tree\", \"flower\", \"flower\"]\nprint(frequency_elements(lst))",
   "execution_count": null,
   "outputs": []
  },
  {
   "metadata": {
    "trusted": false
   },
   "cell_type": "code",
   "source": "\"\"\"\nProblem: 782\nWrite a Python program to create a dictionary where the keys are numbers from 1 to 5, and the values are the squares of the keys.\n\"\"\"\n\ndef square_dic():\n    result = {}\n    for key in range(1, 6):\n        result[key] = key ** 2\n    return result\n        \nprint(square_dic())",
   "execution_count": null,
   "outputs": []
  },
  {
   "metadata": {
    "trusted": false
   },
   "cell_type": "code",
   "source": "\"\"\"\nProblem: 783\nWrite a Python program to update the value of an existing key in a dictionary.\n\"\"\"\n\ndef main(dic, target):\n    key_to_update, new_value = target\n    if key_to_update in dic:\n        dic[key_to_update] = new_value\n    return dic\n\ndic = {\n    \"name\": 777,\n    \"age\": 56,\n    \"city\": 34,\n    \"job\": 1\n}\ntarget = (\"city\", 78)\nprint(main(dic, target))",
   "execution_count": null,
   "outputs": []
  },
  {
   "metadata": {
    "trusted": false
   },
   "cell_type": "code",
   "source": "def update_value(dic, key, new_value):\n    if key in dic:\n        dic[key] = new_value\n    return dic\n\ndic = {\n    \"name\": \"Steven\",\n    \"age\": 56,\n    \"city\": \"New York\",\n    \"job\": \"Engineer\"\n}\n\nupdate_value(dic, \"age\", 60)\nprint(dic)",
   "execution_count": null,
   "outputs": []
  },
  {
   "metadata": {
    "trusted": false
   },
   "cell_type": "code",
   "source": "\"\"\"\nProblem: 784\nWrite a Python program to get all the keys from a dictionary.\n\"\"\"\n\ndef get_keys(dic):\n    return dic.keys()\n\ndic = {\n    \"name\": \"Steven\",\n    \"age\": 56,\n    \"city\": \"New York\",\n    \"job\": \"Engineer\"\n}\nprint(get_keys(dic))\n",
   "execution_count": null,
   "outputs": []
  },
  {
   "metadata": {
    "trusted": false
   },
   "cell_type": "code",
   "source": "def main(dic):\n    for key in dic:\n        print(key)\n        \ndic = {\n    \"name\": 777,\n    \"age\": 56,\n    \"city\": 34,\n    \"job\": 1\n}\nprint(main(dic)) ",
   "execution_count": null,
   "outputs": []
  },
  {
   "metadata": {
    "trusted": false
   },
   "cell_type": "code",
   "source": "\"\"\"\nProblem: 785\nWrite a Python program to get all the values from a dictionary.\n\"\"\"\n\ndef get_keys(dic):\n    return dic.values()\n\ndic = {\n    \"name\": \"Steven\",\n    \"age\": 56,\n    \"city\": \"New York\",\n    \"job\": \"Engineer\"\n}\nprint(get_keys(dic))",
   "execution_count": null,
   "outputs": []
  },
  {
   "metadata": {
    "trusted": false
   },
   "cell_type": "code",
   "source": "\"\"\"\nProblem: 786\nWrite a Python program to get all the values from a dictionary.\n\"\"\"\n\ndef get_keys(dic):\n    return dic.values()\n\ndic = {\n    \"name\": \"Steven\",\n    \"age\": 56,\n    \"city\": \"New York\",\n    \"job\": \"Engineer\"\n}\nprint(get_keys(dic))",
   "execution_count": null,
   "outputs": []
  },
  {
   "metadata": {
    "trusted": false
   },
   "cell_type": "code",
   "source": "\"\"\"\nProblem: 787\nWrite a Python program to find the key with the largest value in a dictionary.\n\"\"\"\n\ndef largest_value(dic):\n    return max(dic.values())\n\ndic = {\n    \"name\": 777,\n    \"age\": 56,\n    \"city\": 34,\n    \"job\": 1\n}\nprint(largest_value(dic))",
   "execution_count": null,
   "outputs": []
  },
  {
   "metadata": {
    "trusted": false
   },
   "cell_type": "code",
   "source": "\"\"\"\nProblem: 788\nWrite a Python program to find the key with the smallest value in a dictionary.\n\"\"\"\n\ndef largest_value(dic):\n    return min(dic.values())\n\ndic = {\n    \"name\": 777,\n    \"age\": 56,\n    \"city\": 34,\n    \"job\": 1\n}\nprint(largest_value(dic))",
   "execution_count": null,
   "outputs": []
  },
  {
   "metadata": {
    "trusted": false
   },
   "cell_type": "code",
   "source": "\"\"\"\nProblem: 789\nWrite a Python program to convert two lists into a dictionary, where one list contains keys and the other contains values, but skip values if the lists are of unequal length.\n\"\"\"\n\ndef lst_dic(lst1, lst2):\n    result = {}\n    min_length = min(len(lst1), len(lst2))\n    \n    for i in range(min_length):\n        result[lst1[i]] = lst2[i]\n    \n    return result\n\nlst1 = [1, 2, 3]\nlst2 = [\"sand\", \"rock\", \"beach\", \"sea\"]\nprint(lst_dic(lst1, lst2))",
   "execution_count": null,
   "outputs": []
  },
  {
   "metadata": {
    "trusted": false
   },
   "cell_type": "code",
   "source": "\"\"\"\nProblem: 790\nWrite a Python program to combine two dictionaries by adding values of common keys.\n\"\"\"\n\ndef combine_dictionaries(dic1, dic2):\n    result = {}\n    for key in dic1:\n        result[key] = dic1[key]\n    for key, value in dic2.items():\n        if key in result:\n            result[key] += value\n        else:\n            result[key] = value\n    return result\n\ndic1 = {\n    \"a\": 1,\n    \"b\": 2,\n    \"c\": 3\n}\n\ndic2 = {\n    \"b\": 3,\n    \"c\": 4,\n    \"d\": 5\n}\nprint(combine_dictionaries(dic1, dic2))",
   "execution_count": null,
   "outputs": []
  },
  {
   "metadata": {
    "trusted": false
   },
   "cell_type": "code",
   "source": "def combine_dictionaries(dic1, dic2):\n    result = dic1.copy()\n    for key, value in dic2.items():\n        if key in result:\n            result[key] += value\n        else:\n            result[key] = value\n    return result\n\ndic1 = {\n    \"a\": 1,\n    \"b\": 2,\n    \"c\": 3\n}\n\ndic2 = {\n    \"b\": 3,\n    \"c\": 4,\n    \"d\": 5\n}\nprint(combine_dictionaries(dic1, dic2))",
   "execution_count": null,
   "outputs": []
  },
  {
   "metadata": {
    "trusted": false
   },
   "cell_type": "code",
   "source": "\"\"\"\nProblem: 791\nWrite a Python program to invert the keys and values of a dictionary (i.e., make the keys the values and the values the keys).\n\"\"\"\n\ndef invert_dictionary(dic):\n    inverted = {}\n    for key, value in dic.items():\n        inverted[value] = key\n    return inverted\n\ndic = {\n    \"name\": \"Alice\",\n    \"age\": 30,\n    \"city\": \"New York\"\n}\nprint(invert_dictionary(dic))",
   "execution_count": null,
   "outputs": []
  },
  {
   "metadata": {
    "trusted": false
   },
   "cell_type": "code",
   "source": "\"\"\"\nProblem: 792\nWrite a Python program to remove duplicate values from a dictionary.\n\"\"\"\n\ndef remove_duplicates_values(dic):\n    unique_values = {}\n    for key, value in dic.items():\n        if value not in unique_values.values():\n            unique_values[key] = value\n    return unique_values\n\ndic = {\n    \"name\": \"Alice\",\n    \"age\": 30,\n    \"city\": \"New York\",\n    \"job\": \"Engineer\",\n    \"nickname\": \"Alice\" \n}\nprint(remove_duplicates_values(dic))",
   "execution_count": null,
   "outputs": []
  },
  {
   "metadata": {
    "trusted": false
   },
   "cell_type": "code",
   "source": "\"\"\"\nProblem: 793\nWrite a Python program to check if two dictionaries have the same keys.\n\"\"\"\n\ndef same_keys(dic1, dic2):\n    return dic1.keys() == dic2.keys()\n\ndic1 = {\n    \"name\": \"Alice\",\n    \"ages\": 30,\n    \"cities\": \"New York\",\n    \"job\": \"Engineer\",\n    \"nickname\": \"Alice\" \n}\n\ndic2 = {\n    \"name\": \"Alice\",\n    \"age\": 30,\n    \"city\": \"New York\",\n    \"job\": \"Engineer\",\n    \"nickname\": \"Alice\" \n}\nprint(same_keys(dic1, dic2))",
   "execution_count": null,
   "outputs": []
  },
  {
   "metadata": {
    "trusted": false
   },
   "cell_type": "code",
   "source": "\"\"\"\nProblem: 794\nWrite a Python program to multiply all the values in a dictionary by 2.\n\"\"\"\n\ndef multiply_by2(dic):\n    result = {}\n    for key, value in dic.items():\n        result[key] = value * 2 \n    return result\n    \ndic = {\"a\": 2, \"b\": 8}    \nprint(multiply_by2(dic))",
   "execution_count": null,
   "outputs": []
  },
  {
   "metadata": {
    "trusted": false
   },
   "cell_type": "code",
   "source": "\"\"\"\nProblem: 795\nWrite a Python program to find the length (i.e., number of key-value pairs) of a dictionary.\n\"\"\"\n\ndef len_key_value_pair(dic):\n    return len(dic)\n\ndic = {\n    \"name\": \"Alice\",\n    \"ages\": \"stop\",\n    \"cities\": \"New York\",\n    \"job\": \"Engineer\",\n    \"nickname\": \"Alice\" \n}\nprint(len_key_value_pair(dic))",
   "execution_count": null,
   "outputs": []
  },
  {
   "metadata": {
    "trusted": false
   },
   "cell_type": "code",
   "source": "\"\"\"\nProblem: 796\nWrite a Python program to map a list of strings to their lengths using a dictionary.\n\"\"\"\n\ndef map_lst_string_dic(lst):\n    result = {}\n    for word in lst:\n        result[word] = len(word)\n    return result\n\nlst = [\"it\", \"shop\", \"jonny\"]\nprint(map_lst_string_dic(lst))\n\ndef len_dic(lst):\n    result = {}\n    for word in lst:\n        count = 0\n        for char in word:\n            count += 1\n        result[word] = count\n    return result\n    \n\nlst = [\"not\", \"house\", \"Jonathan\"]\nprint(len_dic(lst))",
   "execution_count": null,
   "outputs": []
  },
  {
   "metadata": {
    "trusted": false
   },
   "cell_type": "code",
   "source": "\"\"\"\nProblem: 797\nWrite a Python program to add a new key-value pair to an existing dictionary.\n\"\"\"\n\ndef add_key_value_pair(dic):\n    dic[\"new_key\"] = \"new_value\"\n    return dic\n    \ndic = {\n    \"name\": \"Alice\",\n    \"ages\": \"stop\",\n    \"cities\": \"New York\",\n    \"job\": \"Engineer\",\n    \"nickname\": \"Alice\" \n}\nprint(add_key_value_pair(dic))",
   "execution_count": null,
   "outputs": []
  },
  {
   "metadata": {
    "trusted": true
   },
   "cell_type": "code",
   "source": "\"\"\"\nProblem: 798\nWrite a Python program to create a dictionary with keys as numbers from 1 to 10 and values as their cubes.\n\"\"\"\n\ndef value_cubes():\n    result = {}\n    for num in range(1, 6):\n        result[num] = num ** 3\n    return result\n    \nprint(value_cubes())",
   "execution_count": null,
   "outputs": []
  },
  {
   "metadata": {
    "trusted": true
   },
   "cell_type": "code",
   "source": "\"\"\"\nProblem: 799\nWrite a Python program to check if a dictionary is empty.\n\"\"\"\n\ndef check_if_empty(dic):\n    if not dic: \n        return \"Dictionary is empty\"\n    return \"Dictionary is not empty\"\n\ndic = {\n    \"name\": \"Alice\",\n    \"ages\": \"stop\",\n    \"cities\": \"New York\",\n    \"job\": \"Engineer\",\n    \"nickname\": \"Alice\" \n}\nprint(check_if_empty(dic))",
   "execution_count": null,
   "outputs": []
  },
  {
   "metadata": {
    "trusted": true
   },
   "cell_type": "code",
   "source": "\"\"\"\nProblem: 800\nWrite a Python program to remove a set of keys from a dictionary.\n\"\"\"\n\ndef remove_set_keys(dic, keys_to_remove):\n    result = {}\n    for key, value in dic.items():\n        if key not in keys_to_remove:\n            result[key] = value\n    return result\n\ndic = {\n    \"name\": \"Alice\",\n    \"age\": 30,\n    \"city\": \"New York\",\n    \"job\": \"Engineer\",\n    \"nickname\": \"Alice\"\n}\nkeys_to_remove = {\"age\", \"city\"}\nprint(remove_set_keys(dic, keys_to_remove))",
   "execution_count": null,
   "outputs": []
  },
  {
   "metadata": {
    "trusted": false
   },
   "cell_type": "code",
   "source": "\n\"\"\"\nProblem: 800\nWrite a Python program to remove a set of keys from a dictionary.\n\"\"\"\n\ndef remove_set_keys(dic, keys_to_remove):\n    result = {}\n    for key, value in dic.items():\n        if key not in keys_to_remove:\n            result[key] = value\n    return result\n\ndic = {\n    \"name\": \"Alice\",\n    \"age\": 30,\n    \"city\": \"New York\",\n    \"job\": \"Engineer\",\n    \"nickname\": \"Alice\"\n}\nkeys_to_remove = {\"age\", \"city\"}\nprint(remove_set_keys(dic, keys_to_remove))\n",
   "execution_count": null,
   "outputs": []
  }
 ],
 "metadata": {
  "kernelspec": {
   "name": "python3",
   "display_name": "Python 3",
   "language": "python"
  },
  "language_info": {
   "name": "python",
   "version": "3.10.4",
   "mimetype": "text/x-python",
   "codemirror_mode": {
    "name": "ipython",
    "version": 3
   },
   "pygments_lexer": "ipython3",
   "nbconvert_exporter": "python",
   "file_extension": ".py"
  }
 },
 "nbformat": 4,
 "nbformat_minor": 2
}