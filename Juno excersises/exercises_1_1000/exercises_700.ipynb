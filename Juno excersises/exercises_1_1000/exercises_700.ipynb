{
 "cells": [
  {
   "metadata": {
    "trusted": false
   },
   "cell_type": "code",
   "source": "\"\"\"\nProblem: 601\nMap with Index: Write a function that uses map() but passes the index of each element to the mapping function as well.\n\"\"\"\n\ndef map_with_index(lst, func):\n    \n    def indexed_func(indexed_item):\n        index, item = indexed_item\n        return func(index, item)\n\n    return list(map(indexed_func, enumerate(lst)))\n\n\ndef example_func(index, value):\n    return index * value\n\nnumbers = [10, 20, 30, 40]\nresult = map_with_index(numbers, example_func)\nprint(result)",
   "execution_count": null,
   "outputs": []
  },
  {
   "metadata": {
    "trusted": true
   },
   "cell_type": "code",
   "source": "\"\"\"\nProblem: 602\nIntersection of Two Lists: Write a function that finds the intersection of two lists using filter().\n\"\"\"\n\ndef is_in_list(x, list2):\n    return x in list2\n\ndef intersection(list1, list2):\n    \n    def check_in_list(x):\n        return is_in_list(x, list2)\n    \n    return list(filter(check_in_list, list1))\n\nlist1 = [1, 2, 3, 4, 5]\nlist2 = [4, 5, 6, 7, 8]\nresult = intersection(list1, list2)\nprint(result)",
   "execution_count": null,
   "outputs": []
  },
  {
   "metadata": {
    "trusted": true
   },
   "cell_type": "code",
   "source": "\"\"\"\nProblem: 603\nAverage of List: Write a function that calculates the average of a list of numbers using reduce().\n\"\"\"\n\nfrom functools import reduce\n\ndef add(x, y):\n    return x + y\n\ndef average(lst):\n    if not lst:\n        return 0\n    total = reduce(add, lst)\n    return total / len(lst)\n\nnumbers = [10, 20, 30, 40, 50]\nresult = average(numbers)\nprint(result)",
   "execution_count": null,
   "outputs": []
  },
  {
   "metadata": {
    "trusted": true
   },
   "cell_type": "code",
   "source": "\"\"\"\nProblem: 604\nCompose Multiple Functions: Write a function that takes a list of functions and an initial value, and applies the functions sequentially to the value using reduce().\n\"\"\"\n\nfrom functools import reduce\n\ndef compose_functions(functions, initial_value):\n    def apply_functions(x, func):\n        return func(x)\n    \n    return reduce(apply_functions, functions, initial_value)\n\n# Example usage\ndef add_one(x):\n    return x + 1\n\ndef multiply_by_two(x):\n    return x * 2\n\nfunctions = [add_one, multiply_by_two, add_one]\ninitial_value = 5\nresult = compose_functions(functions, initial_value)\nprint(result)",
   "execution_count": null,
   "outputs": []
  },
  {
   "metadata": {
    "trusted": true
   },
   "cell_type": "code",
   "source": "\"\"\"\nProblem: 605\nWrite a program to create a dictionary and retrieve a list of its keys. Use key().\n\"\"\"\n\ndef get_keys(dic):\n    return list(dic.keys())\n\ndic = {\"Sam\": 56, \"Chris\": 34, \"Simon\": 12}\nprint(get_keys(dic)) \n\ndef get_dict_keys():\n    my_dict = {\n        'apple': 3,\n        'banana': 5,\n        'cherry': 2,\n        'date': 7\n    }\n\n    return list(my_dict.keys())\n\nkeys_list = get_dict_keys()\nprint(keys_list)",
   "execution_count": null,
   "outputs": []
  },
  {
   "metadata": {
    "trusted": true
   },
   "cell_type": "code",
   "source": "\"\"\"\nProblem: 606\nWrite a function that sorts a list of strings by their length using the key parameter. Use key().\n\"\"\"\n\ndef sort_string_len(lst):\n    \n    return sorted(lst, key=len)\n\n\nlst = [\"length\", \"lenny\", \"len\"]    \nprint(sort_string_len(lst))",
   "execution_count": null,
   "outputs": []
  },
  {
   "metadata": {
    "trusted": true
   },
   "cell_type": "code",
   "source": "\"\"\"\nProblem: 607\nWrite a Python program to sort a list of tuples based on the second element of each tuple using key().\n\"\"\"\n\ndef lst_tuples_second(lst):\n    \n    def sort_tuples(x):\n        return x[1]\n        \n    return sorted(lst, key=sort_tuples)\n\nlst = [(\"ton\", 54), (\"tron\", 4), (\"zicn\", 1)]    \nprint(lst_tuples_second(lst))",
   "execution_count": null,
   "outputs": []
  },
  {
   "metadata": {
    "trusted": true
   },
   "cell_type": "code",
   "source": "\"\"\"\nProblem: 608\nWrite a function to sort a list of dictionaries by a specific key in each dictionary using key().\n\"\"\"\n\ndef sort_dicts_by_key(lst, target_key):\n    \n    def get_key_value(d):\n        return d[target_key]\n    \n    return sorted(lst, key=get_key_value)\n\ndicts = [\n    {\"id\": 5, \"name\": \"zinc\"},\n    {\"id\": 3, \"name\": \"metal\"},\n    {\"id\": 8, \"name\": \"gold\"},\n    {\"id\": 6, \"name\": \"copper\"},\n    {\"id\": 3, \"name\": \"ruby\"}\n]\n\ntarget_key = \"id\"\nsorted_dicts = sort_dicts_by_key(dicts, target_key)\nprint(sorted_dicts)",
   "execution_count": null,
   "outputs": []
  },
  {
   "metadata": {
    "trusted": true
   },
   "cell_type": "code",
   "source": "\"\"\"\nProblem: 609\nWrite a Python program to sort a list of names by their last name using the key().\n\"\"\" \n\ndef sort_last_names(names):\n    \n    def get_last_name(name):\n        return name.split()[-1]\n    \n    return sorted(names, key=get_last_name)\n\nnames = [\"Tom Simons\", \"Lisa Johnson\", \"Mark Twain\", \"Sarah Connor\", \"Peter Parker\"]\nprint(sort_last_names(names))",
   "execution_count": null,
   "outputs": []
  },
  {
   "metadata": {
    "trusted": true
   },
   "cell_type": "code",
   "source": "\"\"\"\nProblem: 610\nWrite a function that sorts a list of mixed case strings, ignoring case. use key parameter.\n\"\"\"\n\ndef sort_ignore_case(strings):\n    \n    def case_insensitive_key(s):\n        return s.lower()\n    \n    return sorted(strings, key=case_insensitive_key)\n\nmixed_case_strings = [\"banana\", \"Apple\", \"orange\", \"mango\", \"grape\"]\nsorted_strings = sort_ignore_case(mixed_case_strings)\nprint(sorted_strings)",
   "execution_count": null,
   "outputs": []
  },
  {
   "metadata": {
    "trusted": true
   },
   "cell_type": "code",
   "source": "\"\"\"\nProblem: 611\nWrite a Python program to sort a list of floats in descending order. Use key().\n\"\"\"\n\ndef list_floats(lst):\n    \n    def sort(x):\n        return x\n        \n    return sorted(lst, key=sort, reverse=True)\n\n\nlst = [3.6, 56.5, 78.3, 1.5, 0.006]\nprint(list_floats(lst))",
   "execution_count": null,
   "outputs": []
  },
  {
   "metadata": {
    "trusted": true
   },
   "cell_type": "code",
   "source": "\"\"\"\nProblem: 612\nWrite a function that sorts a list of words by the number of vowels they contain using the key parameter.\n\"\"\"\n\ndef lst_words(lst):\n    \n    def sort(x):\n        vowels = \"aeiou\"\n        \n        count = 0\n        for char in x.lower():\n            if char in vowels:\n                count += 1\n        return count\n        \n    return sorted(lst, key=sort)\n    \nlst = [\"jobaeiou\", \"Jo\", \"aei\"]    \nprint(lst_words(lst))",
   "execution_count": null,
   "outputs": []
  },
  {
   "metadata": {
    "trusted": true
   },
   "cell_type": "code",
   "source": "\"\"\"\nProblem: 613\nWrite a Python program to sort a list of people by their age from a list of dictionaries.\n\"\"\"\n\ndef sort_people_by_age(people):\n    \n    def get_age(person):\n        return person['age']\n    \n    return sorted(people, key=get_age)\n\npeople = [\n    {\"name\": \"Jon\", \"age\": 34},\n    {\"name\": \"Sam\", \"age\": 23},\n    {\"name\": \"Bob\", \"age\": 45}\n]\nsorted_people = sort_people_by_age(people)\nprint(sorted_people)",
   "execution_count": null,
   "outputs": []
  },
  {
   "metadata": {
    "trusted": true
   },
   "cell_type": "code",
   "source": "\"\"\"\nProblem: 614\nWrite a function that sorts a list of integers based on the sum of their digits using the key parameter.\n\"\"\"\n\ndef lst_integers(lst):\n    \n    def sort_sum(x):\n        total = 0\n        for digit in str(x):\n            total += int(digit) \n        return total\n    \n    return sorted(lst, key=sort_sum)\n\nlst = [5666, 566, 56, 6]\nsorted_list = lst_integers(lst)\nprint(sorted_list)",
   "execution_count": null,
   "outputs": []
  },
  {
   "metadata": {
    "trusted": true
   },
   "cell_type": "code",
   "source": "\"\"\"\nProblem: 615\nWrite a Python program to sort a list of products by price using the key parameter.\n\"\"\"\n\ndef lst_products(lst):\n    \n    def sort(product):\n        return product['price']\n\n    return sorted(lst, key=sort)\n\nproducts = [\n    {\"name\": \"chocolate\", \"price\": 2.50},\n    {\"name\": \"bread\", \"price\": 1.20},\n    {\"name\": \"milk\", \"price\": 1.50},\n    {\"name\": \"cheese\", \"price\": 3.00}\n]\nsorted_products = lst_products(products)\nprint(sorted_products)",
   "execution_count": null,
   "outputs": []
  },
  {
   "metadata": {
    "trusted": true
   },
   "cell_type": "code",
   "source": "\"\"\"\nProblem: 616\nWrite a function that sorts a list of dates in string format (e.g., “YYYY-MM-DD”) using the key parameter.\n\"\"\"\n\ndef sort_dates(dates):\n    \n    def date_key(date_str):\n        year, month, day = map(int, date_str.split('-'))\n        return (year, month, day) \n\n    return sorted(dates, key=date_key)\n\ndate_list = [\n    \"2022-01-15\",\n    \"2021-12-25\",\n    \"2023-05-05\",\n    \"2020-11-30\"\n]\n\nsorted_dates = sort_dates(date_list)\nprint(sorted_dates)",
   "execution_count": null,
   "outputs": []
  },
  {
   "metadata": {
    "trusted": true
   },
   "cell_type": "code",
   "source": "\"\"\"\nProblem: 617\nWrite a Python program to sort a list of tuples by the first element, then by the second if the first elements are equal using key.\n\"\"\"\n\ndef lst_tuples(lst):\n    def sort(tup):\n        return (tup[0], tup[1]) \n    \n    return sorted(lst, key=sort)\n\nlst = [(\"nice\", \"good\"), (\"evil\", \"bad\"), (\"nice\", \"better\"), (\"evil\", \"worse\")]\nsorted_tuples = lst_tuples(lst)\nprint(sorted_tuples)",
   "execution_count": null,
   "outputs": []
  },
  {
   "metadata": {
    "trusted": true
   },
   "cell_type": "code",
   "source": "\"\"\"\nProblem: 618\nWrite a function that sorts a list of names based on the number of characters in each name using the key parameter.\n\"\"\"\n\ndef lst_names(lst):\n    \n    def sort_len_of_name(name):\n        return len(name)\n        \n    return sorted(lst, key=sort_len_of_name)\n        \n\nlst = [\"Jonathan\", \"Christopher\", \"Chantelle\", \"Bob\", \"Mimi\"]\nprint(lst_names(lst))\n\ndef lst_names(lst):\n    \n    def sort_len_of_name(name):\n        count = 0\n        for char in name:\n            count += 1\n        return count\n        \n    return sorted(lst, key=sort_len_of_name)\n        \nlst = [\"Jonathan\", \"Christopher\", \"Chantelle\", \"Bob\", \"Mimi\"]\nprint(lst_names(lst))",
   "execution_count": null,
   "outputs": []
  },
  {
   "metadata": {
    "trusted": true
   },
   "cell_type": "code",
   "source": "\"\"\"\nProblem: 619\nWrite a Python program to sort a list of employees by their hire date using the key parameter.\n\"\"\"\n\ndef sort_by_hire_date(employees):\n    \n    def get_hire_date(employee):\n        return employee[1]  \n\n    return sorted(employees, key=get_hire_date)\n\nemployees = [\n    (\"Alice\", \"2020-05-15\"),\n    (\"Bob\", \"2019-03-22\"),\n    (\"Charlie\", \"2021-07-30\"),\n    (\"David\", \"2018-12-01\")\n]\n\nsorted_employees = sort_by_hire_date(employees)\nprint(sorted_employees)",
   "execution_count": null,
   "outputs": []
  },
  {
   "metadata": {
    "trusted": true
   },
   "cell_type": "code",
   "source": "\"\"\"\nProblem: 620\nWrite a function that sorts a list of sentences based on their length using the key parameter.\n\"\"\"\n\ndef lst_of_sentences(sentences):\n    \n    def sort(sentence):\n        return len(sentence) \n\n    return sorted(sentences, key=sort)\n\n\nsentences = [\"hey what's happening today?\", \"what is\", \"what about me\"]\nprint(lst_of_sentences(sentences))",
   "execution_count": null,
   "outputs": []
  },
  {
   "metadata": {
    "trusted": true
   },
   "cell_type": "code",
   "source": "\"\"\"\nProblem: 621\nWrite a Python program to sort a list of words based on the frequency of their first letter using the key parameter.\n\"\"\"\n\ndef frequency_first_letter(words):\n    letter_count = {}\n    for word in words:\n        first_letter = word[0]\n        if first_letter in letter_count:\n            letter_count[first_letter] += 1\n        else:\n            letter_count[first_letter] = 1\n    \n    def sort(word):\n        return letter_count[word[0]] \n        \n    return sorted(words, key=sort)\n\nwords = [\"apple\", \"apricot\", \"banana\", \"berry\", \"blueberry\", \"cherry\", \"carrot\"]\nprint(frequency_first_letter(words))\n\n\nfrom collections import Counter\n\ndef frequency_first_letter(words):\n    \n    letter_count = Counter()\n    \n    for word in words:\n        first_letter = word[0] \n        letter_count[first_letter] += 1\n\n    def sort(word):\n        return letter_count[word[0]]\n        \n    return sorted(words, key=sort)\n\nwords = [\"apple\", \"apricot\", \"banana\", \"berry\", \"blueberry\", \"cherry\", \"carrot\"]\nprint(frequency_first_letter(words))",
   "execution_count": null,
   "outputs": []
  },
  {
   "metadata": {
    "trusted": true
   },
   "cell_type": "code",
   "source": "\"\"\"\nProblem: 622\nWrite a function that sorts a list of tuples by the absolute value of the first element using the key parameter.\n\"\"\"\n\ndef lst_of_tuples(lst):\n    \n    def sort(x):\n        return abs((x)[0])\n        \n    return sorted(lst, key=sort)\n\n\nlst = [(2.3, 4.2), (5.3, 7.3), (3.1, 2.4), (5.2, 6.2)]\nprint(lst_of_tuples(lst))",
   "execution_count": null,
   "outputs": []
  },
  {
   "metadata": {
    "trusted": true
   },
   "cell_type": "code",
   "source": "\"\"\"\nProblem: 623\nWrite a Python program to sort a list of strings by their reverse order using the key parameter.\n\"\"\"\n\ndef reverse_order(lst):\n    \n    def sort(word):\n        return word\n        \n    return sorted(lst, key=sort, reverse= True)\n        \nlst = [\"butt\", \"shoulders\", \"legs\"]    \nprint(reverse_order(lst))\n\ndef reverse_order(lst):\n    \n    def sort(word):\n        return word[::-1]\n        \n    return sorted(lst, key=sort)\n        \nlst = [\"butt\", \"shoulders\", \"legs\"]    \nprint(reverse_order(lst))",
   "execution_count": null,
   "outputs": []
  },
  {
   "metadata": {
    "trusted": true
   },
   "cell_type": "code",
   "source": "\"\"\"\nProblem: 624\nWrite a function that sorts a list of temperatures in Celsius, converting them to Fahrenheit for sorting using the key parameter.\n\"\"\"\n\ndef temperture(lst):\n    \n    def sort(celsius):\n        \n        fahrenheit = (9/5) * celsius + 32\n        return fahrenheit\n        \n    return sorted(lst, key=sort)\n            \nlst = [23, 33, 12, 45]    \nprint(temperture(lst))",
   "execution_count": null,
   "outputs": []
  },
  {
   "metadata": {
    "trusted": true
   },
   "cell_type": "code",
   "source": "\"\"\"\nProblem: 625\nWrite a Python program to sort a list of scores from a game, taking into account that some scores may be negative using the key parameter.\n\"\"\"\n\ndef sort_scores(scores):\n    \n    def key_function(x):\n        return x  \n    \n    return sorted(scores, key=key_function)\n\nscores = [10, -5, 20, 0, -15, 5]\nsorted_scores = sort_scores(scores)\nprint(sorted_scores)",
   "execution_count": null,
   "outputs": []
  },
  {
   "metadata": {
    "trusted": true
   },
   "cell_type": "code",
   "source": "\"\"\"\nProblem: 626\nWrite a function that sorts a list of email addresses by the domain part using the key parameter.\n\"\"\"\n\ndef sort_emails(emails):\n    \n    def get_domain(email):\n        return email.split('@')[1] \n    \n    return sorted(emails, key=get_domain)\n\nemails = [\"alice@example.com\", \"bob@test.com\", \"charlie@example.com\", \"dave@sample.com\"]\nsorted_emails = sort_emails(emails)\nprint(sorted_emails)",
   "execution_count": null,
   "outputs": []
  },
  {
   "metadata": {
    "trusted": true
   },
   "cell_type": "code",
   "source": "\"\"\"\nProblem: 627\nWrite a Python program to sort a list of cities by their population using the key parameter.\n\"\"\"\n\ndef sort_cities_by_population(cities):\n    \n    def get_population(city):\n        return city[1] \n    \n    return sorted(cities, key=get_population)\n\n# List of cities with their population\ncities = [(\"New York\", 8419600), (\"Los Angeles\", 3980400), (\"Chicago\", 2716000), (\"Houston\", 2328000), (\"Phoenix\", 1690000)]\n\nsorted_cities = sort_cities_by_population(cities)\nprint(sorted_cities)",
   "execution_count": null,
   "outputs": []
  },
  {
   "metadata": {
    "trusted": true
   },
   "cell_type": "code",
   "source": "\"\"\"\nProblem: 628\nWrite a function that sorts a list of words by the last letter of each word using the key parameter.\n\"\"\"\n\ndef last_letter(lst):\n    \n    def sort(word):\n        return word[-1]\n        \n    return sorted(lst, key=sort)\n    \nlst = [\"house\", \"garden\", \"boat\", \"building\"]\nprint(last_letter(lst))",
   "execution_count": null,
   "outputs": []
  },
  {
   "metadata": {
    "trusted": true
   },
   "cell_type": "code",
   "source": "\"\"\"\nProblem: 629\nWrite a Python program to sort a list of numbers by the number of times they appear in another list using the key parameter.\n\"\"\"\n\ndef lst_of_numbers(lst):\n    frequency = {}\n    for number in lst:\n        if number in frequency:\n            frequency[number] += 1\n        else:\n            frequency[number] = 1\n    \n    def sort(number):\n        return frequency[number]\n    \n    return sorted(lst, key=sort)\n\nlst = [3, 677, 4, 3, 67, 4]\nprint(lst_of_numbers(lst))",
   "execution_count": null,
   "outputs": []
  },
  {
   "metadata": {
    "trusted": true
   },
   "cell_type": "code",
   "source": "\"\"\"\nProblem: 630\nWrite a function that sorts a list of students by their grades using the key parameter.\n\"\"\"\n\ndef sort_students_by_grades(students):\n    \n    def get_grade(student):\n        return student[1] \n        \n    return sorted(students, key=get_grade)\n\nstudents = [(\"Alice\", 85), (\"Bob\", 70), (\"Charlie\", 95), (\"David\", 65)]\nprint(sort_students_by_grades(students))",
   "execution_count": null,
   "outputs": []
  },
  {
   "metadata": {
    "trusted": true
   },
   "cell_type": "code",
   "source": "\"\"\"\nProblem: 631\nWrite a Python program to sort a list of book titles by the year they were published using the key parameter.\n\"\"\"\n\ndef sort_books_by_year(books):\n    \n    def get_year(book):\n        return book[1]\n        \n    return sorted(books, key=get_year)\n\nbooks = [(\"Book A\", 2005), (\"Book B\", 1999), (\"Book C\", 2010), (\"Book D\", 1985)]\nprint(sort_books_by_year(books))",
   "execution_count": null,
   "outputs": []
  },
  {
   "metadata": {
    "trusted": true
   },
   "cell_type": "code",
   "source": "\"\"\"\nProblem: 632\nWrite a function that sorts a list of files based on their file extension using the key parameter.\n\"\"\"\n\ndef sort_files_by_extension(files):\n\n    def get_extension(file):\n        return file.split('.')[-1]\n        \n    return sorted(files, key=get_extension)\n\nfiles = [\"document.pdf\", \"image.png\", \"archive.zip\", \"presentation.pptx\", \"notes.txt\"]\nprint(sort_files_by_extension(files))",
   "execution_count": null,
   "outputs": []
  },
  {
   "metadata": {
    "trusted": true
   },
   "cell_type": "code",
   "source": "\"\"\" \nProblem: 633\nWrite a Python program to sort a list of movies by their release date using the key parameter.\n\"\"\"\n\ndef sort_movies_by_release_date(movies):\n    \n    def get_release_date(movie):\n        return movie['release_date'] \n        \n    return sorted(movies, key=get_release_date)\n\nmovies = [\n    {\"title\": \"Inception\", \"release_date\": \"2010-07-16\"},\n    {\"title\": \"The Matrix\", \"release_date\": \"1999-03-31\"},\n    {\"title\": \"Interstellar\", \"release_date\": \"2014-11-07\"},\n    {\"title\": \"The Godfather\", \"release_date\": \"1972-03-24\"}\n]\nsorted_movies = sort_movies_by_release_date(movies)\nfor movie in sorted_movies:\n    print(f\"{movie['title']} - {movie['release_date']}\")",
   "execution_count": null,
   "outputs": []
  },
  {
   "metadata": {
    "trusted": true
   },
   "cell_type": "code",
   "source": "\"\"\"\nProblem: 634\nWrite a function that sorts a list of sentences based on the number of unique words in each sentence using the key parameter.\n\"\"\"\n\ndef sort_sentences_by_unique_words(sentences):\n\n    def count_unique_words(sentence):\n        words = sentence.split() \n        unique_words = set(words)\n        \n        return len(unique_words)\n        \n    return sorted(sentences, key=count_unique_words)\n\nsentences = [\n    \"This is a test sentence\",\n    \"Hello world\",\n    \"This is a simple sentence\",\n    \"Hello hello world\",\n    \"Unique words are counted here\"\n]\n\nsorted_sentences = sort_sentences_by_unique_words(sentences)\nfor sentence in sorted_sentences:\n    print(sentence)",
   "execution_count": null,
   "outputs": []
  },
  {
   "metadata": {
    "trusted": true
   },
   "cell_type": "code",
   "source": "\"\"\"\nProblem: 635\nWrite a program to create a dictionary and retrieve a list of its keys.\n\"\"\"\n\ndef get_keys_from_dictionary(dic):\n\n    return list(dic.keys())\n\nexample_dict = {\n    \"name\": \"Alice\",\n    \"age\": 30,\n    \"city\": \"New York\"\n}\n\nkeys = get_keys_from_dictionary(example_dict)\nprint(keys)",
   "execution_count": null,
   "outputs": []
  },
  {
   "metadata": {
    "trusted": true
   },
   "cell_type": "code",
   "source": "\"\"\"\nProblem: 636\nWrite a function that takes a dictionary and returns a list of keys that have values greater than 10.\n\"\"\"\n\ndef dic_keys(dic):\n    result = []\n    for key, value in dic.items():\n        if value > 10:\n            result.append(key)\n    return result\n\ndic = {\"a\": 5, \"b\": 34, \"c\": 67, \"d\": 9}\nprint(dic_keys(dic))",
   "execution_count": null,
   "outputs": []
  },
  {
   "metadata": {
    "trusted": true
   },
   "cell_type": "code",
   "source": "\"\"\"\nProblem: 637\nCreate a dictionary of fruits with their prices, and print all the keys.\n\"\"\"\n\ndef print_fruit_keys(fruit_prices):\n    return list(fruit_prices.keys())\n    \nfruit_prices = {\n    \"apple\": 1.2,\n    \"banana\": 0.5,\n    \"orange\": 0.75,\n    \"grape\": 2.0\n}\nprint(print_fruit_keys(fruit_prices))",
   "execution_count": null,
   "outputs": []
  },
  {
   "metadata": {
    "trusted": true
   },
   "cell_type": "code",
   "source": "\"\"\"\nProblem: 638\nWrite a program to find the maximum key in a dictionary.\n\"\"\"\n\ndef max_key(dic):\n    return max(dic.keys())\n\nexample_dict = {\n    1: \"apple\",\n    3: \"banana\",\n    5: \"cherry\",\n    2: \"date\"\n}\nprint(max_key(example_dict))",
   "execution_count": null,
   "outputs": []
  },
  {
   "metadata": {
    "trusted": true
   },
   "cell_type": "code",
   "source": "\"\"\"\nProblem: 639\nCreate a dictionary of names and ages, and return the keys sorted by age.\n\"\"\"\n\ndef name_age(dic):\n    \n    def sort_key(name):\n        return dic[name]\n    \n    sorted_keys = sorted(dic.keys(), key=sort_key)\n    \n    return sorted_keys\n\ndic = {\"Natty\": 78, \"Bob\": 45}\nprint(name_age(dic))",
   "execution_count": null,
   "outputs": []
  },
  {
   "metadata": {
    "trusted": true
   },
   "cell_type": "code",
   "source": "\"\"\"\nProblem: 640\nWrite a function that accepts a dictionary and returns the keys as a single concatenated string.\n\"\"\"\n\ndef concatenate_keys(dic):\n    result = \"\"\n    for key in dic.keys():\n        result += str(key)\n    return result\n    \ndic = {1: 456, 2: 5566, 3: 566}    \nprint(concatenate_keys(dic))",
   "execution_count": null,
   "outputs": []
  },
  {
   "metadata": {
    "trusted": true
   },
   "cell_type": "code",
   "source": "\"\"\"\nProblem: 641\nCreate a dictionary of countries and their capitals, and print each key with its corresponding value.\n\"\"\"\n\ndef print_countries_and_capitals(dic):\n    for country, capital in dic.items():\n        print(f\"{country}: {capital}\")\n\ncountries_capitals = {\n    \"USA\": \"Washington, D.C.\",\n    \"France\": \"Paris\",\n    \"Japan\": \"Tokyo\",\n    \"Germany\": \"Berlin\",\n    \"India\": \"New Delhi\"\n}\nprint_countries_and_capitals(countries_capitals)",
   "execution_count": null,
   "outputs": []
  },
  {
   "metadata": {
    "trusted": true
   },
   "cell_type": "code",
   "source": "\"\"\"\nProblem: 642\nWrite a program to create a dictionary and count how many keys it has.\n\"\"\"\n\ndef count_key(dic):\n    count = 0\n    for key in dic.keys():\n        count += 1\n    return count\n\ndic = {\"a\":1, \"b\": 2, \"c\": 3}\nprint(count_key(dic))",
   "execution_count": null,
   "outputs": []
  },
  {
   "metadata": {
    "trusted": true
   },
   "cell_type": "code",
   "source": "\"\"\"\nProblem: 643\nWrite a function that takes a dictionary and returns only the keys that start with a specific letter.\n\"\"\"\n\ndef count_key(dic, letter):\n    result = []\n    for key in dic.keys():\n        if key.startswith(letter):\n            result.append(key)\n    return result\n\ndic = {\"apple\": 1, \"banana\": 2, \"apricot\": 3, \"berry\": 4}\nprint(count_key(dic, 'a'))",
   "execution_count": null,
   "outputs": []
  },
  {
   "metadata": {
    "trusted": true
   },
   "cell_type": "code",
   "source": "\"\"\"\nProblem: 644\nCreate a dictionary of students and their grades, and print the keys sorted alphabetically.\n\"\"\"\n\ndef sorted_students_grades(dic):\n    return sorted(dic.keys())\n\nstudents_grades = {\n    \"Alice\": 90,\n    \"Bob\": 85,\n    \"Charlie\": 95,\n    \"David\": 88\n}\nprint(sorted_students_grades(students_grades))",
   "execution_count": null,
   "outputs": []
  },
  {
   "metadata": {
    "trusted": true
   },
   "cell_type": "code",
   "source": "\"\"\"\nProblem: 645\nWrite a program to create a dictionary from two lists: one for keys and one for values.\n\"\"\"\n\ndef list_dictionary(lst1, lst2):\n    dic = {}\n    \n    for key, value in zip(lst1, lst2):\n        dic[key] = value \n    \n    return dic\n\nlst1 = [1, 2, 3]    \nlst2 = [\"goat\", \"boat\", \"soap\"]    \nprint(list_dictionary(lst1, lst2))",
   "execution_count": null,
   "outputs": []
  },
  {
   "metadata": {
    "trusted": true
   },
   "cell_type": "code",
   "source": "\"\"\"\nProblem: 646\nCreate a dictionary of colors and their hexadecimal values, and print the keys in reverse order.\n\"\"\"\n\ndef reverse_keys(dic):\n    return list(dic.keys())[::-1] \n\ncolors = {\n    \"red\": \"#FF0000\",\n    \"green\": \"#00FF00\",\n    \"blue\": \"#0000FF\",\n    \"yellow\": \"#FFFF00\"\n}\nprint(reverse_keys(colors))",
   "execution_count": null,
   "outputs": []
  },
  {
   "metadata": {
    "trusted": true
   },
   "cell_type": "code",
   "source": "\"\"\"\nProblem: 647\nWrite a function that returns the first key in a dictionary.\n\"\"\"\n\ndef first_key(dic):\n    return next(iter(dic))  \n\nexample_dict = {\"Nat\": 90, \"Xav\": 70, \"Zac\": 60}\nprint(first_key(example_dict))",
   "execution_count": null,
   "outputs": []
  },
  {
   "metadata": {
    "trusted": true
   },
   "cell_type": "code",
   "source": "\"\"\"\nProblem: 648\nCreate a dictionary representing a shopping cart, and print the keys of the items in the cart.\n\"\"\"\n\ndef shopping_cart_items(cart):\n    for item in cart.keys():\n        \n        print(item)\n\ncart = {\n    \"apple\": 3,\n    \"banana\": 6,\n    \"orange\": 4,\n    \"milk\": 1\n}\nshopping_cart_items(cart)",
   "execution_count": null,
   "outputs": []
  },
  {
   "metadata": {
    "trusted": true
   },
   "cell_type": "code",
   "source": "\"\"\"\nProblem: 649\nWrite a program that checks if a specific key exists in a dictionary.\n\"\"\"\n\ndef check_key_exists(dic, key):\n    if key in dic:\n        return True\n    else:\n        return False\n\nexample_dict = {\"apple\": 3, \"banana\": 6, \"orange\": 4, \"milk\": 1}\n\nkey_to_check = \"banana\"\nprint(check_key_exists(example_dict, key_to_check))  # Output: True\n\nkey_to_check = \"bread\"\nprint(check_key_exists(example_dict, key_to_check))  # Output: False",
   "execution_count": null,
   "outputs": []
  },
  {
   "metadata": {
    "trusted": true
   },
   "cell_type": "code",
   "source": "\"\"\"\nProblem: 650\nCreate a dictionary of items and their quantities, and print keys with quantities greater than 5.\n\"\"\"\n\ndef print_keys_greater_than_five(dic):\n    for item, quantity in dic.items():\n        if quantity > 5:\n            print(item)\n            \nitems_dict = {\n    \"apple\": 3,\n    \"banana\": 6,\n    \"orange\": 4,\n    \"milk\": 8,\n    \"bread\": 2,\n    \"eggs\": 12\n}\nprint_keys_greater_than_five(items_dict)",
   "execution_count": null,
   "outputs": []
  },
  {
   "metadata": {
    "trusted": true
   },
   "cell_type": "code",
   "source": "\"\"\"\nProblem: 651\nWrite a function that accepts a dictionary and returns a list of keys that are strings.\n\"\"\"\n\ndef returns_strings(dic):\n    result = []\n    for key in dic.keys():\n        if isinstance(key, str):\n            result.append(key)\n    return result\n\nexample_dict = {\"Nat\": 90, 56: 70, \"Zac\": 60, 56: 56}\nprint(returns_strings(example_dict))",
   "execution_count": null,
   "outputs": []
  },
  {
   "metadata": {
    "trusted": true
   },
   "cell_type": "code",
   "source": "\"\"\"\nProblem: 652\nCreate a dictionary of sports and their popularity rankings, and return the keys sorted by ranking.\n\"\"\"\n\ndef sports_by_popularity(sports_dict):\n\n    def get_ranking(sport):\n        return sports_dict[sport]\n\n    return sorted(sports_dict, key=get_ranking)\n\nsports_dict = {\n    \"Soccer\": 1,\n    \"Basketball\": 3,\n    \"Cricket\": 2,\n    \"Tennis\": 4\n}\nprint(sports_by_popularity(sports_dict))",
   "execution_count": null,
   "outputs": []
  },
  {
   "metadata": {
    "trusted": true
   },
   "cell_type": "code",
   "source": "\"\"\"\nProblem: 653\nWrite a program that retrieves keys from a dictionary that are of type integer.\n\"\"\"\n\ndef sports_by_popularity(sports_dict):\n\n    def get_ranking(sport):\n        return sports_dict[sport]\n\n    return sorted(sports_dict, key=get_ranking)\n\nsports_dict = {\n    \"Soccer\": 1,\n    \"Basketball\": 3,\n    \"Cricket\": 2,\n    \"Tennis\": 4\n}\nprint(sports_by_popularity(sports_dict))",
   "execution_count": null,
   "outputs": []
  },
  {
   "metadata": {
    "trusted": true
   },
   "cell_type": "code",
   "source": "\"\"\"\nProblem: 654\nCreate a dictionary of books and their authors, and print the keys formatted as a numbered list.\n\"\"\"\n\ndef books_authors(dic):\n    for index, book in enumerate(dic.keys(), start=1):\n        print(f\"{index}. {book}\")\n\ndic = {\n    \"To Kill a Mockingbird\": \"Harper Lee\",\n    \"1984\": \"George Orwell\",\n    \"The Great Gatsby\": \"F. Scott Fitzgerald\",\n    \"Pride and Prejudice\": \"Jane Austen\",\n    \"Moby-Dick\": \"Herman Melville\"\n}\nbooks_authors(dic)",
   "execution_count": null,
   "outputs": []
  },
  {
   "metadata": {
    "trusted": true
   },
   "cell_type": "code",
   "source": "\"\"\"\nProblem: 655\nWrite a function that takes a dictionary and returns a list of keys that are palindromes.\n\"\"\"\n\ndef palindromic_keys(dic):\n    result = []\n    for key in dic.keys():\n        if key == key[::-1]: \n            result.append(key)\n    return result\n\nexample_dict = {\n    \"madam\": 1,\n    \"racecar\": 2,\n    \"hello\": 3,\n    \"world\": 4,\n    \"level\": 5\n}\nprint(palindromic_keys(example_dict))",
   "execution_count": null,
   "outputs": []
  },
  {
   "metadata": {
    "trusted": true
   },
   "cell_type": "code",
   "source": "\"\"\"\nProblem: 656\nCreate a dictionary of pets and their owners, and print all the keys that contain the letter “o”.\n\"\"\"\n\ndef pet_owners(dic):\n    result = []\n    for key in dic.keys():\n        if \"o\" in key: \n            result.append(key)\n    return result\n\ndic = {\n    \"Boudy\": \"Alice\",\n    \"Mittens\": \"Bob\",\n    \"Charlie\": \"Catherine\",\n    \"Monty\": \"David\",\n    \"Bella\": \"Eva\"\n}\nprint(pet_owners(dic))\n\ndef pet_owners(dic):\n    result = []\n    for key in dic.keys():\n        for char in key:\n            if char == \"o\":\n                result.append(key)\n    return result\n    \ndic = {\n    \"Boudy\": \"Alice\",\n    \"Mittens\": \"Bob\",\n    \"Charlie\": \"Catherine\",\n    \"Monty\": \"David\",\n    \"Bella\": \"Eva\"\n}\nprint(pet_owners(dic))",
   "execution_count": null,
   "outputs": []
  },
  {
   "metadata": {
    "trusted": true
   },
   "cell_type": "code",
   "source": "\"\"\"\nProblem: 657\nWrite a program that counts how many keys in a dictionary are of type tuples.\n\"\"\"\n\ndef count_tuple_keys(dic):\n    count = 0\n    for key in dic.keys():\n        if isinstance(key, tuple):\n            count += 1\n    return count\n\ndic = {\n    (1, 2): \"tuple_key_1\",\n    \"string_key\": \"value1\",\n    (3, 4): \"tuple_key_2\",\n    3: \"integer_key\"\n}\nprint(count_tuple_keys(dic))",
   "execution_count": null,
   "outputs": []
  },
  {
   "metadata": {
    "trusted": true
   },
   "cell_type": "code",
   "source": "\"\"\"\nProblem: 658\nCreate a dictionary of movies and their release years, and return the keys as a sorted list.\n\"\"\"\n\ndef movies(dic):\n    return sorted(dic.keys())\n\ndic = {\n    \"The Shawshank Redemption\": 1994,\n    \"The Godfather\": 1972,\n    \"The Dark Knight\": 2008,\n    \"Pulp Fiction\": 1994,\n    \"Forrest Gump\": 1994,\n    \"Inception\": 2010,\n    \"Fight Club\": 1999,\n    \"The Matrix\": 1999,\n    \"Gladiator\": 2000,\n    \"The Lord of the Rings: The Return of the King\": 2003\n}\nprint(movies(dic))",
   "execution_count": null,
   "outputs": []
  },
  {
   "metadata": {
    "trusted": true
   },
   "cell_type": "code",
   "source": "\"\"\"\nProblem: 659\nWrite a function that returns the keys of a dictionary whose values are lists.\n\"\"\"\n\ndef keys_with_list_values(dic):\n    result = []\n    for key, value in dic.items():\n        if isinstance(value, list):\n            result.append(value)\n    return result\n\ndic = {\n    \"fruits\": [\"apple\", \"banana\", \"cherry\"],\n    \"vegetable\": \"carrot\",\n    \"numbers\": [1, 2, 3],\n    \"color\": \"blue\"\n}\nprint(keys_with_list_values(dic))",
   "execution_count": null,
   "outputs": []
  },
  {
   "metadata": {
    "trusted": true
   },
   "cell_type": "code",
   "source": "\"\"\"\nProblem: 660\nCreate a dictionary of car brands and their models, and print the keys in a formatted manner.\n\"\"\"\n\ndef print_car_brands(dic):\n    print(\"Car Brands:\")\n    for index, brand in enumerate(dic.keys(), start=1):\n        print(f\"{index}. {brand}\")\n\ncar_brands = {\n    \"Toyota\": [\"Camry\", \"Corolla\", \"Prius\"],\n    \"Ford\": [\"Mustang\", \"F-150\", \"Explorer\"],\n    \"Honda\": [\"Civic\", \"Accord\", \"CR-V\"],\n    \"Chevrolet\": [\"Malibu\", \"Impala\", \"Silverado\"],\n}\nprint_car_brands(car_brands)",
   "execution_count": null,
   "outputs": []
  },
  {
   "metadata": {
    "trusted": true
   },
   "cell_type": "code",
   "source": "\"\"\"\nProblem: 661\nWrite a program that retrieves the second key from a dictionary.\n\"\"\"\n\ndef second_key(dic):\n    keys_list = list(dic.keys())\n    return keys_list[1] if len(keys_list) > 1 else None\n\ndic = {\"hope\": 12, \"dispel\": 23, \"faith\": 34}\nprint(second_key(dic))\n\ndef second_key(dic):\n    return list(dic.keys())[1]\n  \n\ndic = {\"hope\": 12, \"dispel\": 23, \"faith\": 34}\nprint(second_key(dic))",
   "execution_count": null,
   "outputs": []
  },
  {
   "metadata": {
    "trusted": true
   },
   "cell_type": "code",
   "source": "\"\"\"\nProblem: 662\nCreate a dictionary of temperatures and their units, and return the keys as uppercase strings.\n\"\"\"\n\ndef temperature(dic):\n    upper_keys = []\n    for key in dic.keys():\n        upper_keys.append(key.upper())\n    return upper_keys\n\ndic = {\n    \"Celsius\": [0, 20, 37, 100],\n    \"Fahrenheit\": [32, 68, 98.6, 212],\n    \"Kelvin\": [273.15, 293.15, 310.15, 373.15]\n}\nprint(temperature(dic))",
   "execution_count": null,
   "outputs": []
  },
  {
   "metadata": {
    "trusted": true
   },
   "cell_type": "code",
   "source": "\"\"\"\nProblem: 663\nWrite a function that takes a dictionary and returns keys that are found in a given list.\n\"\"\"\n\ndef keys_in_list(dic, given_list):\n    result = []\n    for key in dic.keys():\n        if key in given_list:\n            result.append(key)\n    return result\n\ndic = {\n    \"apple\": 1,\n    \"banana\": 2,\n    \"cherry\": 3,\n    \"date\": 4\n}\n\ngiven_list = [\"banana\", \"date\", \"grape\"]\nprint(keys_in_list(dic, given_list))",
   "execution_count": null,
   "outputs": []
  },
  {
   "metadata": {
    "trusted": true
   },
   "cell_type": "code",
   "source": "\"\"\"\nProblem: 664\nCreate a dictionary of electronic devices and their prices, and print all keys with a price less than $100.\n\"\"\"\n\ndevices = {\n    \"Phone\": 999,\n    \"Headphones\": 50,\n    \"Keyboard\": 80,\n    \"Mouse\": 25,\n    \"Charger\": 15\n}\n\nfor device, price in devices.items():\n    if price < 100:\n        print(device)\n",
   "execution_count": null,
   "outputs": []
  },
  {
   "metadata": {
    "trusted": true
   },
   "cell_type": "code",
   "source": "\"\"\"\nProblem: 665\nWrite a function that takes a dictionary and returns a list of keys that have values greater than 10.\n\"\"\"\n\ndef keys_with_values_greater_than_10(dic):\n    result = []\n    for key in dic.keys(): \n        if dic[key] > 10: \n            result.append(key)\n    return result\n\ndic = {\"Sam\": 5, \"Chris\": 34, \"Simon\": 12, \"Anna\": 9}\nprint(keys_with_values_greater_than_10(dic)) \n\ndef get_dict_keys(dic):\n    result = []\n    for key, value in dic.items():\n        if value > 10:\n            result.append(key)\n    return result\n\nmy_dict = {'apple': 30, 'banana': 50, 'cherry': 2, 'date': 7}\nprint(get_dict_keys(my_dict))",
   "execution_count": null,
   "outputs": []
  },
  {
   "metadata": {
    "trusted": true
   },
   "cell_type": "code",
   "source": "\"\"\"\nProblem: 666\nCreate a dictionary of fruits with their prices, and print all the keys. Use key().\n\"\"\"\n\ndef print_fruit_keys(fruits):\n    \n    for key in fruits.keys():\n        print(key)\n\nfruits = {\n    \"Apple\": 3,\n    \"Banana\": 1,\n    \"Mango\": 2,\n    \"Orange\": 4\n}\nprint_fruit_keys(fruits)",
   "execution_count": null,
   "outputs": []
  },
  {
   "metadata": {
    "trusted": true
   },
   "cell_type": "code",
   "source": "\"\"\"\nProblem: 667\nCreate a dictionary of names and ages, and return the keys sorted by age.\n\"\"\"\n\ndef name_age(dic):\n    \n    def sort_age(x):\n        for keys, values in x:\n            return values\n    return sorted(dic, key=sort_age)\n    \n\ndic = {\"Tom\": 15, \"Lucka\": 66, \"Bob\": 8}    \nprint(name_age(dic))",
   "execution_count": null,
   "outputs": []
  },
  {
   "metadata": {
    "trusted": true
   },
   "cell_type": "code",
   "source": "\"\"\"\nProblem: 668\nWrite a function that accepts a dictionary and returns the keys as a single concatenated string.\n\"\"\"\n\ndef concatenate(dic):\n    result = \"\"\n    for key in dic.keys():\n        result += str(key)\n    return result\n        \ndic = {1: \"one\", 2: \"two\", 3: \"three\", 4: \"four\"}    \nprint(concatenate(dic))",
   "execution_count": null,
   "outputs": []
  },
  {
   "metadata": {
    "trusted": true
   },
   "cell_type": "code",
   "source": "\"\"\"\nProblem: 669\nCreate a dictionary of countries and their capitals, and print each key with its corresponding value.\n\"\"\"\n\ndef countries_capitals(dic):\n    result = \"\"\n    for key, value in dic.items():\n        result += f\"{key}: {value}\\n\" \n    return result\n    \ndic = {\n    \"United States\": \"Washington, D.C.\",\n    \"Canada\": \"Ottawa\",\n    \"United Kingdom\": \"London\",\n    \"France\": \"Paris\",\n    \"Germany\": \"Berlin\",\n    \"Japan\": \"Tokyo\",\n    \"Australia\": \"Canberra\",\n    \"India\": \"New Delhi\",\n    \"Brazil\": \"Brasilia\",\n    \"South Africa\": \"Pretoria\"\n}\nprint(countries_capitals(dic))",
   "execution_count": null,
   "outputs": []
  },
  {
   "metadata": {
    "trusted": true
   },
   "cell_type": "code",
   "source": "\"\"\"\nProblem: 670\nWrite a program to create a dictionary and count how many keys it has.\n\"\"\"\n\ndef count_keys(dic):\n    return len(dic)\n\ndic = {\n    \"United States\": \"Washington, D.C.\",\n    \"Canada\": \"Ottawa\",\n    \"United Kingdom\": \"London\",\n    \"France\": \"Paris\",\n    \"Germany\": \"Berlin\"\n}\nprint(count_keys(dic))\n",
   "execution_count": null,
   "outputs": []
  },
  {
   "metadata": {
    "trusted": true
   },
   "cell_type": "code",
   "source": "\"\"\"\nProblem: 671\nWrite a function that takes a dictionary and returns only the keys that start with a specific letter.\n\"\"\"\n\ndef keys_starting_with(dic, letter):\n    result = []\n    for key in dic.keys():\n        if key.startswith(letter):\n            result.append(key)\n    return result\n\ndic = {\n    \"apple\": 1,\n    \"banana\": 2,\n    \"apricot\": 3,\n    \"berry\": 4,\n    \"carrot\": 5\n}\nprint(keys_starting_with(dic, \"a\"))",
   "execution_count": null,
   "outputs": []
  },
  {
   "metadata": {
    "trusted": true
   },
   "cell_type": "code",
   "source": "\"\"\"\nProblem: 672\nCreate a dictionary of students and their grades, and print the keys sorted alphabetically.\n\"\"\"\n\ndef students_grades(dic):\n    sorted_keys = sorted(dic.keys())\n\n    for key in sorted_keys:\n        print(key)\n\ndic = {\n    \"John\": 85,\n    \"Alice\": 92,\n    \"Bob\": 78,\n    \"Diana\": 88,\n    \"Charlie\": 90\n}\nstudents_grades(dic)",
   "execution_count": null,
   "outputs": []
  },
  {
   "metadata": {
    "trusted": true
   },
   "cell_type": "code",
   "source": "\"\"\"\nProblem: 673\nWrite a program to create a dictionary from two lists: one for keys and one for values.\n\"\"\"\n\ndef two_lst(lst1, lst2):\n    result = {}\n    for key, value in zip(lst1, lst2):\n        result[key] = value\n        \n    return result\n    \nlst1 = [1, 2, 3, 4]\nlst2 = [\"sand\", \"rock\", \"wood\", \"stone\"]\nprint(two_lst(lst1, lst2))",
   "execution_count": null,
   "outputs": []
  },
  {
   "metadata": {
    "trusted": true
   },
   "cell_type": "code",
   "source": "\"\"\"\nProblem: 674\nCreate a dictionary of colors and their hexadecimal values, and print the keys in reverse order.\n\"\"\"\n\ndef colors_hex(dic):\n    keys_in_reverse = list(dic.keys())[::-1]\n    \n    for key in keys_in_reverse:\n        print(key)\n\ncolors_dict = {\n    \"Red\": \"#FF0000\",\n    \"Green\": \"#00FF00\",\n    \"Blue\": \"#0000FF\",\n    \"Yellow\": \"#FFFF00\",\n    \"Black\": \"#000000\",\n    \"White\": \"#FFFFFF\"\n}\ncolors_hex(colors_dict)",
   "execution_count": null,
   "outputs": []
  },
  {
   "metadata": {
    "trusted": true
   },
   "cell_type": "code",
   "source": "\"\"\"\nProblem: 675\nWrite a function that returns the first key in a dictionary.\n\"\"\"\n\ndef first_key(dic):\n    return next(iter(dic))\n    \nexample_dict = {\n    \"apple\": 1,\n    \"banana\": 2,\n    \"cherry\": 3\n}\nprint(first_key(example_dict))",
   "execution_count": null,
   "outputs": []
  },
  {
   "metadata": {
    "trusted": true
   },
   "cell_type": "code",
   "source": "\"\"\"\nProblem: 676\nCreate a dictionary representing a shopping cart, and print the keys of the items in the cart.\n\"\"\"\n\ndef print_cart_items(cart):\n    for item in cart.keys():\n        print(item)\n\nshopping_cart = {\n    \"apple\": 3,\n    \"banana\": 2,\n    \"bread\": 1,\n    \"milk\": 2\n}\nprint_cart_items(shopping_cart)",
   "execution_count": null,
   "outputs": []
  },
  {
   "metadata": {
    "trusted": true
   },
   "cell_type": "code",
   "source": "\"\"\"\nProblem: 677\nWrite a program that checks if a specific key exists in a dictionary.\n\"\"\"\n\ndef check_key_exists(dic, key):\n    if key in dic:\n        return True\n    else:\n        return False\n\nexample_dict = {\n    \"name\": \"Alice\",\n    \"age\": 30,\n    \"city\": \"New York\"\n}\nkey_to_check = \"age\"\n\nif check_key_exists(example_dict, key_to_check):\n    print(f\"The key '{key_to_check}' exists in the dictionary.\")\nelse:\n    print(f\"The key '{key_to_check}' does not exist in the dictionary.\")",
   "execution_count": null,
   "outputs": []
  },
  {
   "metadata": {
    "trusted": true
   },
   "cell_type": "code",
   "source": "\"\"\"\nProblem: 678\nCreate a dictionary of items and their quantities, and print keys with quantities greater than 5.\n\"\"\"\n\ndef items_with_high_quantity(dic):\n    result = []\n    for item, quantity in dic.items():\n        if quantity > 5:\n            result.append(item)\n    return result\n\ninventory = {\n    \"apples\": 10,\n    \"bananas\": 3,\n    \"oranges\": 7,\n    \"pears\": 5,\n    \"grapes\": 12\n}\nhigh_quantity_items = items_with_high_quantity(inventory)\nprint(\"Items with quantities greater than 5:\")\nfor item in high_quantity_items:\n    print(item)",
   "execution_count": null,
   "outputs": []
  },
  {
   "metadata": {
    "trusted": true
   },
   "cell_type": "code",
   "source": "\"\"\"\nProblem: 679\nWrite a function that accepts a dictionary and returns a list of keys that are strings.\n\"\"\"\n\ndef string_keys(dic):\n    result = []\n    for key in dic.keys():\n        if isinstance(key, str): \n            result.append(key)\n    return result\n\nexample_dict = {\n    \"name\": \"Alice\",\n    42: \"answer\",\n    \"city\": \"Wonderland\",\n    (1, 2): \"tuple_key\",\n    \"age\": 30\n}\nstring_keys_list = string_keys(example_dict)\nprint(\"Keys that are strings:\", string_keys_list)",
   "execution_count": null,
   "outputs": []
  },
  {
   "metadata": {
    "trusted": true
   },
   "cell_type": "code",
   "source": "\"\"\"\nProblem: 680\nCreate a dictionary of sports and their popularity rankings, and return the keys sorted by ranking.\n\"\"\"\n\ndef sports_by_popularity(sports_dict):\n    def get_ranking(sport):\n        return sports_dict[sport]\n\n    return sorted(sports_dict.keys(), key=get_ranking)\n\nsports_dict = {\n    \"Soccer\": 1,\n    \"Basketball\": 3,\n    \"Cricket\": 2,\n    \"Tennis\": 4\n}\nprint(sports_by_popularity(sports_dict))",
   "execution_count": null,
   "outputs": []
  },
  {
   "metadata": {
    "trusted": true
   },
   "cell_type": "code",
   "source": "\"\"\"\nProblem: 681\nWrite a program that retrieves keys from a dictionary that are of type integer.\n\"\"\"\n\ndef retrieve_integer_keys(dic):\n    result = []\n    for key in dic.keys():\n        if isinstance(key, int):\n            result.append(key)\n    return result\n\nexample_dict = {\n    1: \"one\",\n    \"two\": 2,\n    3: \"three\",\n    \"four\": 4\n}\nprint(retrieve_integer_keys(example_dict))",
   "execution_count": null,
   "outputs": []
  },
  {
   "metadata": {
    "trusted": true
   },
   "cell_type": "code",
   "source": "\"\"\"\nProblem: 682\nCreate a dictionary of books and their authors, and print the keys formatted as a numbered list.\n\"\"\"\n\ndef print_numbered_books(dic):\n    for index, key in enumerate(dic.keys(), start=1):\n        print(f\"{index}. {key}\")\n\nbooks = {\n    \"To Kill a Mockingbird\": \"Harper Lee\",\n    \"1984\": \"George Orwell\",\n    \"The Great Gatsby\": \"F. Scott Fitzgerald\",\n    \"Pride and Prejudice\": \"Jane Austen\",\n    \"Moby-Dick\": \"Herman Melville\"\n}\nprint_numbered_books(books)",
   "execution_count": null,
   "outputs": []
  },
  {
   "metadata": {
    "trusted": true
   },
   "cell_type": "code",
   "source": "\"\"\"\nProblem: 683\nWrite a function that takes a dictionary and returns a list of keys that are palindromes.\n\"\"\"\n\ndef palindrome_keys(dic):\n    result = []\n    for key in dic.keys():\n        if str(key) == str(key)[::-1]:\n            result.append(key)\n    return result\n\nexample_dict = {\n    \"racecar\": 1,\n    \"level\": 2,\n    \"hello\": 3,\n    \"madam\": 4,\n    \"world\": 5\n}\nprint(palindrome_keys(example_dict))",
   "execution_count": null,
   "outputs": []
  },
  {
   "metadata": {
    "trusted": true
   },
   "cell_type": "code",
   "source": "\"\"\"\nProblem: 684\nCreate a dictionary of pets and their owners, and print all the keys that contain the letter “o”.\n\"\"\"\n\ndef pets_with_o(dic):\n    result = []\n    for key in dic.keys():\n        if 'o' in key:\n            result.append(key)\n    return result\n\npets_dict = {\n    \"Boudy\": \"Alice\",\n    \"Mittens\": \"Bob\",\n    \"Charlie\": \"Catherine\",\n    \"Monty\": \"David\",\n    \"Bella\": \"Eva\"\n}\nprint(pets_with_o(pets_dict))\n",
   "execution_count": null,
   "outputs": []
  },
  {
   "metadata": {
    "trusted": true
   },
   "cell_type": "code",
   "source": "\"\"\"\nProblem: 685\nWrite a program that counts how many keys in a dictionary are of type list.\n\"\"\"\n\ndef count_list_keys(dic):\n    count = 0\n    for key in dic.keys():\n        if isinstance(key, list):\n            count += 1\n    return count\n\nexample_dict = {\n    (1, 2): \"tuple_key\",\n    \"string_key\": \"value1\",\n    3: \"integer_key\",\n}\nprint(count_list_keys(example_dict))",
   "execution_count": null,
   "outputs": []
  },
  {
   "metadata": {
    "trusted": true
   },
   "cell_type": "code",
   "source": "\"\"\"\nProblem: 686\nCreate a dictionary of movies and their release years, and return the keys as a sorted list.\n\"\"\"\n\ndef sorted_movie_titles(movies):\n    return sorted(movies.keys())\n\nmovies_dict = {\n    \"The Shawshank Redemption\": 1994,\n    \"The Godfather\": 1972,\n    \"The Dark Knight\": 2008,\n    \"Pulp Fiction\": 1994,\n    \"Forrest Gump\": 1994,\n}\nprint(sorted_movie_titles(movies_dict))",
   "execution_count": null,
   "outputs": []
  },
  {
   "metadata": {
    "trusted": true
   },
   "cell_type": "code",
   "source": "\"\"\"\nProblem: 687\nWrite a function that returns the keys of a dictionary whose values are lists.\n\"\"\"\n\ndef keys_with_list_values(dic):\n    result = []\n    for key, value in dic.items():\n        if isinstance(value, list):\n            result.append(key)\n    return result\n\nexample_dict = {\n    \"fruits\": [\"apple\", \"banana\"],\n    \"vegetable\": \"carrot\",\n    \"grains\": [\"rice\", \"wheat\"]\n}\nprint(keys_with_list_values(example_dict))",
   "execution_count": null,
   "outputs": []
  },
  {
   "metadata": {
    "trusted": true
   },
   "cell_type": "code",
   "source": "\"\"\"\nProblem: 688\nCreate a dictionary of car brands and their models, and print the keys in a formatted manner.\n\"\"\"\n\ndef print_car_brands(dic):\n    for brand in dic.keys():\n        print(f\"Brand: {brand}\")\n\ncar_brands = {\n    \"Toyota\": [\"Camry\", \"Corolla\", \"RAV4\"],\n    \"Honda\": [\"Civic\", \"Accord\", \"CR-V\"],\n    \"Ford\": [\"F-150\", \"Mustang\", \"Explorer\"]\n}\nprint_car_brands(car_brands)",
   "execution_count": null,
   "outputs": []
  },
  {
   "metadata": {
    "trusted": true
   },
   "cell_type": "code",
   "source": "\"\"\"\nProblem: 689\nWrite a program that retrieves the second key from a dictionary.\n\"\"\"\n\ndef second_key(dic):\n    return list(dic.keys())[1]\n\nexample_dict = {\"apple\": 1, \"banana\": 2, \"cherry\": 3}\nprint(second_key(example_dict))",
   "execution_count": null,
   "outputs": []
  },
  {
   "metadata": {
    "trusted": true
   },
   "cell_type": "code",
   "source": "\"\"\"\nProblem: 690\nCreate a dictionary of temperatures and their units, and return the keys as uppercase strings.\n\"\"\"\n\ndef uppercase_keys(dic):\n    result = []\n    for key in dic.keys():\n        result.append(key.upper())\n    return result\n\ndic = {\n    \"Celsius\": [0, 20, 37, 100],\n    \"Fahrenheit\": [32, 68, 98.6, 212],\n    \"Kelvin\": [273.15, 293.15, 310.15, 373.15]\n}\nprint(uppercase_keys(dic))",
   "execution_count": null,
   "outputs": []
  },
  {
   "metadata": {
    "trusted": true
   },
   "cell_type": "code",
   "source": "\"\"\"\nProblem: 691\nWrite a program to find the maximum key in a dictionary.\n\"\"\"\n\ndef key_max(dic):\n    \n    return max(dic)\n    \ndic = {\"banana\": 1.50, \"Apple\": 2, \"apricot\": 3.5}    \nprint(key_max(dic))\n\ndef key_max(dic):\n    max_key = None\n    max_key_lower = None\n    \n    for key in dic:\n\n        key_lower = key.lower()\n        \n        if max_key_lower is None or key_lower > max_key_lower:\n            max_key = key\n            max_key_lower = key_lower\n    \n    return max_key\n\ndic = {\"banana\": 1.50, \"Apple\": 2, \"apricot\": 3.5}\n\nprint(key_max(dic))",
   "execution_count": null,
   "outputs": []
  },
  {
   "metadata": {
    "trusted": true
   },
   "cell_type": "code",
   "source": "\"\"\"\nProblem: 692\nWrite a program that takes a list of numbers and returns a new list with each number squared using map().\n\"\"\"\n\ndef square_numbers(lst):\n    \n    def square(num):\n        return num ** 2\n    \n    return list(map(square, lst))\n\nnumbers = [1, 2, 3, 4, 5]\nprint(square_numbers(numbers))",
   "execution_count": null,
   "outputs": []
  },
  {
   "metadata": {
    "trusted": true
   },
   "cell_type": "code",
   "source": "\"\"\"\nProblem: 693\nCreate a program that takes a list of strings and returns a list of their lengths using map().\n\"\"\"\n\ndef string_lengths(lst):\n    \n    def length(string):\n        return len(string)\n    \n    return list(map(length, lst))\n\nstrings = [\"hello\", \"world\", \"python\", \"programming\"]\nprint(string_lengths(strings))",
   "execution_count": null,
   "outputs": []
  },
  {
   "metadata": {
    "trusted": true
   },
   "cell_type": "code",
   "source": "\"\"\"\nProblem: 694\nWrite a function that takes a list of strings and converts all of them to uppercase using `map()`.\n\"\"\"\n\ndef lst_words(lst):\n    \n    def word_len(word):\n        return word.upper()\n        \n    return list(map(word_len, lst))\n\nlst = [\"monkey\", \"lizard\", \"hippopotamus\"]\nprint(lst_words(lst))",
   "execution_count": null,
   "outputs": []
  },
  {
   "metadata": {
    "trusted": true
   },
   "cell_type": "code",
   "source": "\"\"\"\nProblem: 695\nGiven a list of floats, use `map()` to round all the numbers to two decimal places.\n\"\"\"\n\ndef lst_numbers(lst):\n    \n    def round_two_decimals(x):\n        return round(x, 2)\n        \n    return list(map(round_two_decimals, lst))\n\nlst = [2.6666, 4.77, 7.566, 9.55]\nprint(lst_numbers(lst))",
   "execution_count": null,
   "outputs": []
  },
  {
   "metadata": {
    "trusted": true
   },
   "cell_type": "code",
   "source": "\"\"\"\nProblem: 696\nWrite a program that converts a list of temperatures in Celsius to Fahrenheit using `map()`.\n\"\"\"\n\ndef celsius_to_fahrenheit(lst):\n    \n    def convert(celsius):\n        return (celsius * 9/5) + 32\n        \n    return list(map(convert, lst))\n\ncelsius_temps = [0, 20, 37, 100]\nfahrenheit_temps = celsius_to_fahrenheit(celsius_temps)\nprint(fahrenheit_temps)",
   "execution_count": null,
   "outputs": []
  },
  {
   "metadata": {
    "trusted": true
   },
   "cell_type": "code",
   "source": "\"\"\"\nProblem: 697\nUse `map()` to convert a list of numbers into their corresponding ASCII characters.\n\"\"\"\n\ndef numbers_to_ascii(lst):\n    \n    def to_ascii(number):\n        return chr(number)\n        \n    return list(map(to_ascii, lst))\n\nnumbers = [0, 65, 66, 67, 68, 69, 91, 120]\nascii_characters = numbers_to_ascii(numbers)\nprint(ascii_characters)",
   "execution_count": null,
   "outputs": []
  },
  {
   "metadata": {
    "trusted": true
   },
   "cell_type": "code",
   "source": "\"\"\"\nProblem: 698\nWrite a function that takes a list of words and returns the reversed version of each word using `map()`.\n\"\"\"\n\ndef lst_words(lst):\n    \n    def reverse_word(word):\n        return word[::-1]\n        \n    return list(map(reverse_word, lst))\n\nlst = [\"monkey\", \"lizard\", \"hippopotamus\"]\nprint(lst_words(lst))",
   "execution_count": null,
   "outputs": []
  },
  {
   "metadata": {
    "trusted": true
   },
   "cell_type": "code",
   "source": "\"\"\"\nProblem: 700\nCreate a program that takes a list of integers and returns a list where each number is doubled using `map()`.\n\"\"\"\n\ndef lst_integers(lst):\n    \n    def double_num(number):\n        return number * 2 \n        \n    return list(map(double_num, lst))\n\nlst = [0, 65, 66, 67, 68, 69, 91, 120]\nprint(lst_integers(lst))",
   "execution_count": null,
   "outputs": []
  }
 ],
 "metadata": {
  "kernelspec": {
   "name": "python3",
   "display_name": "Python 3",
   "language": "python"
  },
  "language_info": {
   "name": "python",
   "version": "3.10.4",
   "mimetype": "text/x-python",
   "codemirror_mode": {
    "name": "ipython",
    "version": 3
   },
   "pygments_lexer": "ipython3",
   "nbconvert_exporter": "python",
   "file_extension": ".py"
  }
 },
 "nbformat": 4,
 "nbformat_minor": 2
}