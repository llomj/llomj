{
 "cells": [
  {
   "metadata": {
    "trusted": false
   },
   "cell_type": "code",
   "source": "\"\"\"\n- **Definition**: `enumerate` is a built-in function in Python that simplifies iteration over a sequence (like lists, tuples, or strings) while keeping track of the index of each item.\n\n- **Functionality**: It returns an iterator called an \"enumerate object,\" which produces pairs of values:\n  - The first value is the index of the item.\n  - The second value is the item itself from the iterable.\n\n- **Parameters**:\n  - **iterable**: The collection you want to iterate over.\n  - **start** (optional): This parameter specifies the starting index. By default, it starts at 0, but you can change it to any integer.\n\n- **Iterating with `enumerate`**:\n  - When using `enumerate` in a loop, you can directly access both the index and the item in a single iteration.\n\n- **Example Use Case**: When you want to print items along with their index, `enumerate` allows you to do this without needing a separate counter.\n\n- **Benefits**:\n  - **Cleaner Code**: Eliminates the need for manual index management.\n  - **Improved Readability**: Clearly indicates you are iterating over an indexed collection.\n  - **Prevents Errors**: Reduces the chances of off-by-one errors in indexing.\n  - **Flexibility**: Allows for starting index customization, enabling varied counting strategies.\n\n- **Common Scenarios**:\n  - Useful when you need both the item and its index during iterations.\n  - Helpful in applying conditional logic based on the index of items.\n  - Can be used to create dictionaries or other data structures from sequences.\n\n\"\"\"",
   "execution_count": null,
   "outputs": []
  },
  {
   "metadata": {
    "trusted": false
   },
   "cell_type": "code",
   "source": "",
   "execution_count": null,
   "outputs": []
  },
  {
   "metadata": {
    "trusted": false
   },
   "cell_type": "code",
   "source": "",
   "execution_count": null,
   "outputs": []
  },
  {
   "metadata": {
    "trusted": false
   },
   "cell_type": "code",
   "source": "",
   "execution_count": null,
   "outputs": []
  },
  {
   "metadata": {
    "trusted": false
   },
   "cell_type": "code",
   "source": "",
   "execution_count": null,
   "outputs": []
  },
  {
   "metadata": {
    "trusted": false
   },
   "cell_type": "code",
   "source": "",
   "execution_count": null,
   "outputs": []
  },
  {
   "metadata": {
    "trusted": false
   },
   "cell_type": "code",
   "source": "",
   "execution_count": null,
   "outputs": []
  },
  {
   "metadata": {
    "trusted": false
   },
   "cell_type": "code",
   "source": "",
   "execution_count": null,
   "outputs": []
  },
  {
   "metadata": {
    "trusted": false
   },
   "cell_type": "code",
   "source": "",
   "execution_count": null,
   "outputs": []
  },
  {
   "metadata": {
    "trusted": false
   },
   "cell_type": "code",
   "source": "",
   "execution_count": null,
   "outputs": []
  },
  {
   "metadata": {
    "trusted": false
   },
   "cell_type": "code",
   "source": "",
   "execution_count": null,
   "outputs": []
  },
  {
   "metadata": {
    "trusted": false
   },
   "cell_type": "code",
   "source": "\"\"\"\nProblem: 240\nWrite a Python program that prints a reverse hill pattern of stars.\n\"\"\"\n\ndef print_reverse_hill_pattern(rows):\n    for i in range(rows):\n        print(' ' * i + '*' * (2 * (rows - i) - 1))\n\nrows = 5\nprint_reverse_hill_pattern(rows)\n\"\"\"\nProblem: 241\nWrite a Python program to print the index and value of each element in a list using `enumerate()`\n\"\"\"\n\ndef enumerate_lst(lst):\n    for index, word in enumerate(lst):\n        print(f\"index {index} name {word}\")\n    \n    \nlst = [\"Jon\", \"Chris\", \"Nathan\"]\nprint(enumerate_lst(lst)) \n\n\"\"\"\nProblem: 242\nWrite a Python program to create a list of tuples where each tuple contains the index and the value from a given list using `enumerate()`.\n\"\"\"\n\ndef enumerate_lst(lst):\n    result = []\n    for index, word in enumerate(lst):\n        result.append((index, word))\n        \n    return result\n    \nlst = (\"Jon\", \"Chris\", \"Nathan\")\nprint(enumerate_lst(lst)) \n\n\"\"\"\nProblem: 243\nWrite a Python program to find the index of the first occurrence of a specific value in a list using `enumerate()`.\n\"\"\"\n\ndef enumerate_lst(lst, target):\n    for index, word in enumerate(lst):\n        if word == target:\n            return word, index \n    return -1\n        \ntarget = \"Chris\"    \nlst = [\"Jon\", \"Chris\", \"Nathan\"]\nprint(enumerate_lst(lst, target)) \n\n\"\"\"\nProblem: 244\nWrite a Python program to print the index and value of each element in a list starting from index 1 using `enumerate()`\n\"\"\"\n\ndef enumerate_lst(lst):\n    for index, word in enumerate(lst, start=1):\n        print(f\"Index {index}, Name {word}\")\n\nlst = [\"Jon\", \"Chris\", \"Nathan\"]\nenumerate_lst(lst)\n\n\n\"\"\"\nProblem: 245\nWrite a Python program to create a dictionary where keys are the indexes and values are the corresponding elements from a list using `enumerate()`.\n\"\"\"\n\ndef enumerate_lst(lst):\n    result = {}\n    for index, word in enumerate(lst):\n        result[index] = word\n    print(result)\n    \nlst = [\"Jon\", \"Chris\", \"Nathan\"]\nenumerate_lst(lst)\n\n\"\"\"\nProblem: 246\nWrite a Python program to filter and print elements of a list that are at even indexes using `enumerate()`\n\"\"\"\n\ndef enumerate_lst(lst):\n    for index, word in enumerate(lst):\n        if index % 2 != 0:\n            print(index, word)\n        \nlst = [\"Jon\", \"Chris\", \"Nathan\", \"hot\", \"class\", \"shirt\", \"beach\", \"app\", \" board\", \"hit\"]\nenumerate_lst(lst)\n\n\"\"\"\nProblem: 247\nWrite a Python program to print the index and value of each element in a list using a `for` loop with `enumerate()`.\n\"\"\"\n\ndef enumerate_lst(lst):\n    for index, word in enumerate(lst):\n        print(f\"index {index} name {word}\")\n    \nlst = [\"Jon\", \"Chris\", \"Nathan\", \"Sam\", \"Rachel\"]\nenumerate_lst(lst)\n\n\"\"\"\nProblem: 248\nWrite a Python program to replace each element in a list with its index using `enumerate()`\n\"\"\"\n\ndef replace_with_index(lst):\n    for index, _ in enumerate(lst):\n        lst[index] = index\n    return lst\n\nlst = [\"Jon\", \"Chris\", \"Nathan\", \"Sam\", \"Rachel\"]\nprint(replace_with_index(lst)) \n\n\"\"\"\nProblem: 249\nWrite a Python program to print the index and values from two lists of equal length side by side using `enumerate()`.\n\"\"\"\n\ndef enumerate_lst(lst1, lst2):\n    for index, word in enumerate(lst1):\n        print(f\"index {index}: {word} and {lst2[index]}\")\n    \nlst1 = [\"Jon\", \"Chris\", \"Nathan\", \"Tom\", \"Sam\", \"Rose\", \"Bliss\", \"Hurt\"]\nlst2 = [\"Jonny\", \"Christopher\", \"Jhovian\", \"Tom\", \"Zack\", \"Rose\", \"Brad\", \"Michael\"]\n\nenumerate_lst(lst1, lst2)\n\n\"\"\"\nProblem: 250\nWrite a Python program to calculate the sum of elements in a list that are located at odd indexes using `enumerate()`.\n\"\"\"\n\ndef sum_odd_indexed_elements(lst):\n    total = 0\n    for index, value in enumerate(lst):\n        if index % 2 != 0:\n            total += value\n    return total\n\nlst = [1, 2, 3, 4, 5, 6]\nresult = sum_odd_indexed_elements(lst)\nprint(result)\n\n\"\"\"\nProblem: 331\nWrite a Python program to print the index and element of each item in a list using `enumerate()`.\n\"\"\"\n\ndef print_index_and_element(lst):\n    for index, element in enumerate(lst):\n        print(f\"Index: {index}, Element: {element}\")\n\n# Example usage\nlst = ['apple', 'banana', 'cherry']\nprint_index_and_element(lst)\n# Output:\n# Index: 0, Element: apple\n# Index: 1, Element: banana\n# Index: 2, Element: cherry\n\n\"\"\"\nProblem: 332\nWrite a Python program to create a list of tuples where each tuple contains an index and the corresponding element from a list using `enumerate()`.\n\"\"\"\n\ndef create_index_element_tuples(lst):\n    result = []\n    for index, element in enumerate(lst):\n        result.append((index, element))\n    return result\n\n# Example usage\nlst = ['apple', 'banana', 'cherry']\nresult = create_index_element_tuples(lst)\nprint(result)  # [(0, 'apple'), (1, 'banana'), (2, 'cherry')]\n\n\"\"\"\nProblem: 333\nWrite a Python program to print each element with its index in a list of strings using `enumerate()`.\n\"\"\"\n\ndef print_with_index(strings):\n    for index, value in enumerate(strings):\n        print(index, value)\n\nstrings = [\"apple\", \"banana\", \"cherry\", \"date\", \"fig\"]\nprint_with_index(strings)\n\n\"\"\"\nProblem: 334\nWrite a Python program to generate a dictionary where keys are indexes and values are elements from a list using `enumerate()`.\n\"\"\"\n\ndef list_to_dict(lst):\n    result = {}\n    for index, element in enumerate(lst):\n        result[index] = element\n    return result\n\n# Example usage\nlst = ['apple', 'banana', 'cherry']\nresult = list_to_dict(lst)\nprint(result)  # {0: 'apple', 1: 'banana', 2: 'cherry'}\n\n\"\"\"\nProblem: 335\nWrite a Python program to find the index of a specific element in a list using `enumerate()`.\n\"\"\"\n\ndef find_index(lst, element):\n    for index, value in enumerate(lst):\n        if value == element:\n            return index\n    return -1\n\n# Example usage\nlst = ['apple', 'banana', 'cherry']\nindex = find_index(lst, 'banana')\nprint(index)  # 1\n\n\"\"\"\nProblem: 336\nWrite a Python program to print each element of a list with its index separated by a colon using `enumerate()`.\n\"\"\"\n\ndef print_index_and_element_with_colon(lst):\n    for index, element in enumerate(lst):\n        print(f\"{index}: {element}\")\n\n# Example usage\nlst = ['apple', 'banana', 'cherry']\nprint_index_and_element_with_colon(lst)\n# Output:\n# 0: apple\n# 1: banana\n# 2: cherry\n\n\"\"\"\nProblem: 337\nWrite a Python program to create a list of strings where each string includes its index with a custom prefix using `enumerate()`.\n\"\"\"\n\ndef create_indexed_strings(lst, prefix):\n    result = []\n    for index, element in enumerate(lst):\n        result.append(f\"{prefix}{index}: {element}\")\n    return result\n\n# Example usage\nlst = ['apple', 'banana', 'cherry']\nresult = create_indexed_strings(lst, \"Item \")\nprint(result)  # ['Item 0: apple', 'Item 1: banana', 'Item 2: cherry']\n\n\"\"\"\nProblem: 338\nWrite a Python program to modify elements in a list based on their index using `enumerate()`.\n\"\"\"\n\ndef modify_elements(lst):\n    for index, element in enumerate(lst):\n        if index % 2 == 0:  # Modify elements at even indices\n            lst[index] = element.upper()\n    return lst\n\n# Example usage\nlst = ['apple', 'banana', 'cherry', 'date']\nresult = modify_elements(lst)\nprint(result)  # ['APPLE', 'banana', 'CHERRY', 'date']\n\n\"\"\"\n339\nWrite a Python program to compute the sum of elements in a list where each element is multiplied by its index using `enumerate()`.\n\"\"\"\n\ndef sum_of_elements(lst):\n    total_sum = 0\n    \n    for i, num in enumerate(lst):\n        total_sum += i * num  \n    return total_sum\n\nlst = [2, 4, 6, 8]\nprint(sum_of_elements(lst))\n\n\"\"\"\nProblem: 340\nWrite a Python program to print elements from a list that are located at odd indexes using `enumerate()`.\n\"\"\"\n\ndef print_odd_index_elements(lst):\n    for index, element in enumerate(lst):\n        if index % 2 != 0:\n            print(element)\n\n# Example usage\nlst = ['apple', 'banana', 'cherry', 'date']\nprint_odd_index_elements(lst)\n# Output:\n# banana\n# date\n\n\"\"\"\nProblem: 341\nWrite a Python program to create a list of tuples where each tuple contains an index and element from a list, but only if the element starts with a vowel, using `enumerate()`.\n\"\"\"\n\ndef index_element_if_vowel(lst):\n    result = []\n    vowels = 'aeiouAEIOU'\n    for index, element in enumerate(lst):\n        if element[0] in vowels:\n            result.append((index, element))\n    return result\n\n# Example usage\nlst = ['apple', 'banana', 'orange', 'grape']\nresult = index_element_if_vowel(lst)\nprint(result)  # [(0, 'apple'), (2, 'orange')]\n\n\"\"\"\nProblem: 342\nWrite a Python program to find the maximum element in a list and its index using `enumerate()`.\n\"\"\"\n\ndef find_max_and_index(lst):\n    max_element = lst[0]\n    max_index = 0\n    for index, element in enumerate(lst):\n        if element > max_element:\n            max_element = element\n            max_index = index\n    return max_index, max_element\n\n# Example usage\nlst = [10, 20, 30, 25]\nindex, max_element = find_max_and_index(lst)\nprint(f\"Max element: {max_element}, Index: {index}\")\n# Output: Max element: 30, Index: 2\n\n\"\"\"\nProblem: 343\nWrite a Python program to create a list of tuples with index and element, but exclude the first N elements using `enumerate()`.\n\"\"\"\n\ndef index_and_element_excluding_first_n(lst, n):\n    result = []\n    for index, element in enumerate(lst):\n        if index >= n:\n            result.append((index, element))\n    return result\n\n# Example usage\nlst = ['apple', 'banana', 'cherry', 'date', 'elderberry']\nresult = index_and_element_excluding_first_n(lst, 2)\nprint(result)  # [(2, 'cherry'), (3, 'date'), (4, 'elderberry')]\n\n\"\"\"\nProblem: 344\nWrite a Python program to print each number in a list along with its index squared using `enumerate()`.\n\"\"\"\n\ndef print_index_squared(numbers):\n    for index, number in enumerate(numbers):\n        print(f\"Index: {index}, Squared: {number ** 2}\")\n\nlst = [1, 2, 3, 4, 5]\nprint_index_squared(lst)\n\n\"\"\"\nProblem: 345\nWrite a Python program to replace elements in a list based on their index using `enumerate()`. For example, replace even indexed elements with 'Even' and odd indexed elements with 'Odd'.\n\"\"\"\n\ndef replace_based_on_index(lst):\n    for index, element in enumerate(lst):\n        if index % 2 == 0:\n            lst[index] = 'Even'\n        else:\n            lst[index] = 'Odd'\n    return lst\n\nlst = ['a', 'b', 'c', 'd', 'e']\nresult = replace_based_on_index(lst)\nprint(result)",
   "execution_count": null,
   "outputs": []
  }
 ],
 "metadata": {
  "kernelspec": {
   "name": "python3",
   "display_name": "Python 3",
   "language": "python"
  },
  "language_info": {
   "name": "python",
   "version": "3.10.4",
   "mimetype": "text/x-python",
   "codemirror_mode": {
    "name": "ipython",
    "version": 3
   },
   "pygments_lexer": "ipython3",
   "nbconvert_exporter": "python",
   "file_extension": ".py"
  }
 },
 "nbformat": 4,
 "nbformat_minor": 2
}