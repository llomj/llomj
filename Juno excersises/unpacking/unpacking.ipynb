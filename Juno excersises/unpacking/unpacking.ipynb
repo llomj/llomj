{
 "cells": [
  {
   "metadata": {
    "trusted": false
   },
   "cell_type": "code",
   "source": "\"\"\"\nProblem :941\nWrite a Python program to unpack a tuple into three variables.\n\"\"\"\n# Solution\nt = (1, 2, 3)\na, b, c = t\nprint(a, b, c)  # Output: 1 2 3",
   "execution_count": null,
   "outputs": []
  },
  {
   "metadata": {
    "trusted": false
   },
   "cell_type": "code",
   "source": "\"\"\"\nProblem :942\nWrite a Python program to unpack a list of numbers into separate variables.\n\"\"\"\n# Solution\nnumbers = [10, 20, 30]\nx, y, z = numbers\nprint(x, y, z)  # Output: 10 20 30",
   "execution_count": null,
   "outputs": []
  },
  {
   "metadata": {
    "trusted": false
   },
   "cell_type": "code",
   "source": "\"\"\"\nProblem :943\nWrite a Python program that unpacks a list of colors into individual variables and prints each color.\n\"\"\"\n# Solution\ncolors = ['red', 'green', 'blue']\ncolor1, color2, color3 = colors\nprint(color1, color2, color3)  # Output: red green blue",
   "execution_count": null,
   "outputs": []
  },
  {
   "metadata": {
    "trusted": false
   },
   "cell_type": "code",
   "source": "\"\"\"\nProblem :944\nWrite a Python program that takes a tuple of coordinates and unpacks it into x and y variables.\n\"\"\"\n# Solution\ncoordinates = (5, 10)\nx, y = coordinates\nprint(f\"x: {x}, y: {y}\")  # Output: x: 5, y: 10",
   "execution_count": null,
   "outputs": []
  },
  {
   "metadata": {
    "trusted": false
   },
   "cell_type": "code",
   "source": "\"\"\"\nProblem :945\nWrite a Python program that unpacks a dictionary into its keys and values.\n\"\"\"\n# Solution\ndata = {'name': 'Alice', 'age': 25}\nkeys, values = zip(*data.items())\nprint(keys)   # Output: ('name', 'age')\nprint(values) # Output: ('Alice', 25)\n",
   "execution_count": null,
   "outputs": []
  },
  {
   "metadata": {
    "trusted": false
   },
   "cell_type": "code",
   "source": "\"\"\"\nProblem :946\nWrite a Python program that unpacks the first two elements of a list and ignores the rest.\n\"\"\"\n# Solution\nitems = [1, 2, 3, 4, 5]\nfirst, second, *rest = items\nprint(first, second)  # Output: 1 2\n\"\"\"\nSure! Let’s break down the line of code you provided:\n\nitems = [1, 2, 3, 4, 5]\nfirst, second, *rest = items\nprint(first, second)  # Output: 1 2\n\nExplanation\n\n\t1.\tList Definition:\n\t•\tThe line items = [1, 2, 3, 4, 5] creates a list named items containing five integer elements: 1, 2, 3, 4, and 5.\n\t2.\tUnpacking the List:\n\t•\tThe next line first, second, *rest = items is where unpacking occurs. This is a feature in Python that allows you to assign multiple variables at once from an iterable (like a list or tuple).\n\t•\tVariable Assignment:\n\t•\tfirst is assigned the first element of the items list, which is 1.\n\t•\tsecond is assigned the second element of the items list, which is 2.\n\t•\tThe *rest syntax is used to capture all the remaining elements in the list into a new list called rest. In this case, rest will contain [3, 4, 5].\n\t3.\tOutput:\n\t•\tThe print(first, second) statement outputs the values of first and second. Based on the unpacking:\n\t•\tfirst is 1\n\t•\tsecond is 2\n\t•\tThus, the output will be 1 2.\n\nKey Points\n\n\t•\tUnpacking: The unpacking operation can extract individual elements from a list (or tuple) into variables, and the * operator allows you to capture the remaining elements as a list.\n\t•\tFlexibility: The use of * means that rest can capture any number of remaining elements, even if the list has more or fewer than two items. For example:\n\t•\tIf items = [1, 2], then first would be 1, second would be 2, and rest would be an empty list [].\n\t•\tIf items = [1, 2, 3, 4, 5, 6], then first would be 1, second would be 2, and rest would be [3, 4, 5, 6].\n\nExample Variations\n\n\t•\tIf you wanted to capture just the last element as last and ignore the rest, you could write:\n\n*rest, last = items\n\nIn this case, rest would be [1, 2, 3, 4] and last would be 5.\n\n\t•\tYou can also use the unpacking to skip elements. For instance, to get only the first and the last elements while ignoring the middle ones:\n\nfirst, *middle, last = items\n\nHere, first would be 1, last would be 5, and middle would be [2, 3, 4].\n\nConclusion\n\nThe unpacking feature with the * operator provides a powerful and flexible way to work with lists (and other iterables) in Python, allowing for more readable and concise code.\n\"\"\"",
   "execution_count": null,
   "outputs": []
  },
  {
   "metadata": {
    "trusted": false
   },
   "cell_type": "code",
   "source": "\"\"\"\nProblem :947\nWrite a Python program that unpacks a list of student names into separate variables and prints them.\n\"\"\"\n# Solution\nstudents = ['John', 'Jane', 'Doe']\nstudent1, student2, student3 = students\nprint(student1, student2, student3)  # Output: John Jane Doe",
   "execution_count": null,
   "outputs": []
  },
  {
   "metadata": {
    "trusted": false
   },
   "cell_type": "code",
   "source": "\"\"\"\nProblem :948\nWrite a Python program to unpack a nested list into separate variables.\n\"\"\"\n# Solution\nnested_list = [[1, 2], [3, 4]]\n(first, second), (third, fourth) = nested_list\nprint(first, second, third, fourth)  # Output: 1 2 3 4\n",
   "execution_count": null,
   "outputs": []
  },
  {
   "metadata": {
    "trusted": false
   },
   "cell_type": "code",
   "source": "\"\"\"\nProblem :949\nWrite a Python program that uses unpacking to swap two variables.\n\"\"\"\n# Solution\na, b = 5, 10\na, b = b, a\nprint(a, b)  # Output: 10 5\n",
   "execution_count": null,
   "outputs": []
  },
  {
   "metadata": {
    "trusted": false
   },
   "cell_type": "code",
   "source": "\"\"\"\nProblem :950\nWrite a Python program to unpack the values of a dictionary and store them in a list.\n\"\"\"\n# Solution\nperson = {'name': 'Bob', 'age': 30}\nname, age = person.values()\nvalues_list = [name, age]\nprint(values_list)  # Output: ['Bob', 30]\n",
   "execution_count": null,
   "outputs": []
  },
  {
   "metadata": {
    "trusted": false
   },
   "cell_type": "code",
   "source": "\"\"\"\nProblem :951\nWrite a Python program that takes a list of integers and unpacks them to calculate the sum.\n\"\"\"\n# Solution\nnumbers = [1, 2, 3, 4]\nsum_of_numbers = sum(*numbers)\nprint(sum_of_numbers)  # Output: 10",
   "execution_count": null,
   "outputs": []
  },
  {
   "metadata": {
    "trusted": false
   },
   "cell_type": "code",
   "source": "\"\"\"\nProblem :952\nWrite a Python program that unpacks a list of mixed data types into separate variables.\n\"\"\"\n# Solution\nmixed = [1, 'hello', 3.14]\nnum, text, decimal = mixed\nprint(num, text, decimal)  # Output: 1 hello 3.14\n",
   "execution_count": null,
   "outputs": []
  },
  {
   "metadata": {
    "trusted": false
   },
   "cell_type": "code",
   "source": "\"\"\"\nProblem :953\nWrite a Python program that unpacks a tuple containing multiple tuples into separate variables.\n\"\"\"\n# Solution\ndata = ((1, 2), (3, 4))\n((a, b), (c, d)) = data\nprint(a, b, c, d)  # Output: 1 2 3 4",
   "execution_count": null,
   "outputs": []
  },
  {
   "metadata": {
    "trusted": false
   },
   "cell_type": "code",
   "source": "\"\"\"\nProblem :954\nWrite a Python program to unpack a tuple returned by a function.\n\"\"\"\n# Solution\ndef get_coordinates():\n    return (5, 10)\n\nx, y = get_coordinates()\nprint(x, y)  # Output: 5 10",
   "execution_count": null,
   "outputs": []
  },
  {
   "metadata": {
    "trusted": false
   },
   "cell_type": "code",
   "source": "\"\"\"\nProblem :955\nWrite a Python program that uses unpacking to extract the first and last items from a list.\n\"\"\"\n# Solution\nitems = [1, 2, 3, 4, 5]\nfirst, *_, last = items\nprint(first, last)  # Output: 1 5",
   "execution_count": null,
   "outputs": []
  },
  {
   "metadata": {
    "trusted": false
   },
   "cell_type": "code",
   "source": "\"\"\"\nProblem :956\nWrite a Python program to unpack a list of employee data (name, age, position) and print them.\n\"\"\"\n# Solution\nemployees = ['Alice', 30, 'Engineer']\nname, age, position = employees\nprint(name, age, position)  # Output: Alice 30 Engineer",
   "execution_count": null,
   "outputs": []
  },
  {
   "metadata": {
    "trusted": false
   },
   "cell_type": "code",
   "source": "\"\"\"\nProblem :957\nWrite a Python program that unpacks a dictionary to create a list of tuples from its items.\n\"\"\"\n# Solution\nperson = {'name': 'Eve', 'age': 28}\ntuples_list = [(key, value) for key, value in person.items()]\nprint(tuples_list)  # Output: [('name', 'Eve'), ('age', 28)]",
   "execution_count": null,
   "outputs": []
  },
  {
   "metadata": {
    "trusted": false
   },
   "cell_type": "code",
   "source": "\"\"\"\nProblem :958\nWrite a Python program to unpack and print a nested tuple of student information.\n\"\"\"\n# Solution\nstudent_info = (('John', 21), ('Jane', 22))\nfor (name, age) in student_info:\n    print(name, age)  # Output: John 21, Jane 22",
   "execution_count": null,
   "outputs": []
  },
  {
   "metadata": {
    "trusted": false
   },
   "cell_type": "code",
   "source": "\"\"\"\nProblem :959\nWrite a Python program that takes a tuple of two integers and unpacks them to calculate their product.\n\"\"\"\n# Solution\npair = (4, 5)\nx, y = pair\nproduct = x * y\nprint(product)  # Output: 20",
   "execution_count": null,
   "outputs": []
  },
  {
   "metadata": {
    "trusted": false
   },
   "cell_type": "code",
   "source": "\"\"\"\nProblem :960\nWrite a Python program to unpack a string into individual characters.\n\"\"\"\n# Solution\nstring = \"hello\"\na, b, c, d, e = string\nprint(a, b, c, d, e)  # Output: h e l l o",
   "execution_count": null,
   "outputs": []
  },
  {
   "metadata": {
    "trusted": false
   },
   "cell_type": "code",
   "source": "\"\"\"\nProblem :961\nWrite a Python program that unpacks a list of temperatures and calculates the average.\n\"\"\"\n# Solution\ntemperatures = [30, 32, 31, 29]\ntotal = sum(temperatures)\naverage = total / len(temperatures)\nprint(average)  # Output: 30.5",
   "execution_count": null,
   "outputs": []
  },
  {
   "metadata": {
    "trusted": false
   },
   "cell_type": "code",
   "source": "\"\"\"\nProblem :962\nWrite a Python program to unpack a list of book details (title, author, year) and display them.\n\"\"\"\n# Solution\nbook = ['1984', 'George Orwell', 1949]\ntitle, author, year = book\nprint(f\"{title} by {author}, published in {year}\")  # Output: 1984 by George Orwell, published in 1949",
   "execution_count": null,
   "outputs": []
  },
  {
   "metadata": {
    "trusted": false
   },
   "cell_type": "code",
   "source": "\"\"\"\nProblem :963\nWrite a Python program that takes a tuple of RGB values and unpacks them into separate variables.\n\"\"\"\n# Solution\nrgb = (255, 0, 0)\nr, g, b = rgb\nprint(r, g, b)  # Output: 255 0 0",
   "execution_count": null,
   "outputs": []
  },
  {
   "metadata": {
    "trusted": false
   },
   "cell_type": "code",
   "source": "\"\"\"\nProblem :964\nWrite a Python program to unpack a list of dictionaries and print each dictionary’s keys and values.\n\"\"\"\n# Solution\ndicts = [{'name': 'Alice'}, {'age': 25}]\nfor d in dicts:\n    for key, value in d.items():\n        print(f\"{key}: {value}\")  \n# Output: name: Alice, age: 25",
   "execution_count": null,
   "outputs": []
  },
  {
   "metadata": {
    "trusted": false
   },
   "cell_type": "code",
   "source": "\"\"\"\nProblem :965\nWrite a Python program to unpack a list of points (x, y) and print the distance from the origin.\n\"\"\"\n# Solution\npoints = [(3, 4), (1, 1)]\nfor x, y in points:\n    distance = (x**2 + y**2) ** 0.5\n    print(distance)  \n# Output: 5.0, 1.4142135623730951",
   "execution_count": null,
   "outputs": []
  },
  {
   "metadata": {
    "trusted": false
   },
   "cell_type": "code",
   "source": "\"\"\"\nProblem :966\nWrite a Python program that unpacks a list of shopping items into separate variables and prints them.\n\"\"\"\n# Solution\nshopping_items = ['apples', 'bananas', 'oranges']\nitem1, item2, item3 = shopping_items\nprint(item1, item2, item3)  # Output: apples bananas oranges",
   "execution_count": null,
   "outputs": []
  },
  {
   "metadata": {
    "trusted": false
   },
   "cell_type": "code",
   "source": "\"\"\"\nProblem :967\nWrite a Python program that uses unpacking to pass multiple arguments to a function.\n\"\"\"\n# Solution\ndef display_info(name, age):\n    print(f\"Name: {name}, Age: {age}\")\n\ninfo = ('Bob', 40)\ndisplay_info(*info)  # Output: Name: Bob, Age: 40\n\n\"\"\"\nProblem :968\nWrite a Python program to unpack a list of names and concatenate them into a single string.\n\"\"\"\n# Solution\nnames = ['Alice', 'Bob', 'Charlie']\nconcatenated = ' '.join(names)\nprint(concatenated)  # Output: Alice Bob Charlie\n\n\"\"\"\nProblem :969\nWrite a Python program that unpacks a list of prices and calculates the total cost.\n\"\"\"\n# Solution\nprices = [10.5, 20.75, 5.25]\ntotal_cost = sum(prices)\nprint(total_cost)  # Output: 36.5\n\n\"\"\"\nProblem :970\nWrite a Python program to unpack a tuple representing a date and print it in “DD/MM/YYYY” format.\n\"\"\"\n# Solution\ndate = (25, 12, 2021)\nday, month, year = date\nformatted_date = f\"{day:02}/{month:02}/{year}\"\nprint(formatted_date)  # Output: 25/12/2021\n\n",
   "execution_count": null,
   "outputs": []
  }
 ],
 "metadata": {
  "kernelspec": {
   "name": "python3",
   "display_name": "Python 3",
   "language": "python"
  },
  "language_info": {
   "name": "python",
   "version": "3.10.4",
   "mimetype": "text/x-python",
   "codemirror_mode": {
    "name": "ipython",
    "version": 3
   },
   "pygments_lexer": "ipython3",
   "nbconvert_exporter": "python",
   "file_extension": ".py"
  }
 },
 "nbformat": 4,
 "nbformat_minor": 2
}