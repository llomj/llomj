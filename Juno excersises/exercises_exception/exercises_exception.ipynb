{
 "cells": [
  {
   "metadata": {
    "trusted": false
   },
   "cell_type": "code",
   "source": "\"\"\"\nExceptions in Python\n\n- **Definition**:\n  - Exceptions in Python are special events that disrupt the normal flow of program execution. They are typically raised when an error occurs, such as division by zero, accessing a non-existent file, or trying to convert a string into an integer. Python provides a robust framework for handling these exceptions, allowing developers to write more resilient and error-tolerant code.\n\n- **How They Work**:\n  1. **Raising Exceptions**:\n     - Exceptions can be raised explicitly using the `raise` statement. Python has many built-in exceptions, and custom exceptions can also be defined by subclassing the `Exception` class.\n  \n  2. **Catching Exceptions**:\n     - Exceptions can be caught using the `try` and `except` blocks. The code that might raise an exception is placed inside the `try` block, and the handling of the exception occurs in the `except` block.\n\n  3. **Finalizing Code**:\n     - The `finally` block can be used to execute code that must run regardless of whether an exception occurred, such as closing files or releasing resources.\n\n- **Examples**:\n  1. **Basic Exception Handling**:\n     ```python\n     try:\n         result = 10 / 0\n     except ZeroDivisionError:\n         print(\"You cannot divide by zero!\")  # Output: You cannot divide by zero!\n     ```\n\n  2. **Catching Multiple Exceptions**:\n     ```python\n     try:\n         value = int(\"invalid\")\n     except (ValueError, TypeError) as e:\n         print(f\"Error occurred: {e}\")  # Output: Error occurred: invalid literal for int() with base 10: 'invalid'\n     ```\n\n  3. **Using finally**:\n     ```python\n     try:\n         file = open(\"example.txt\", \"r\")\n         content = file.read()\n     except FileNotFoundError:\n         print(\"File not found!\")\n     finally:\n         if 'file' in locals():\n             file.close()  # Ensures the file is closed regardless of an error\n     ```\n\n- **Key Concepts**:\n  1. **Built-in Exceptions**:\n     - Python has numerous built-in exceptions like `TypeError`, `ValueError`, `IndexError`, `KeyError`, and many more. Each exception type indicates a specific error condition.\n  \n  2. **Custom Exceptions**:\n     - Developers can create their own exception types by subclassing the `Exception` class, allowing for tailored error handling.\n     ```python\n     class CustomError(Exception):\n         pass\n     ```\n\n  3. **Error Propagation**:\n     - If an exception is not caught in the current scope, it propagates up the call stack, potentially terminating the program if unhandled.\n\n- **Common Use Cases**:\n  1. **Input Validation**:\n     - Using exceptions to validate user input and handle incorrect data gracefully.\n     ```python\n     def get_positive_number():\n         while True:\n             try:\n                 num = float(input(\"Enter a positive number: \"))\n                 if num <= 0:\n                     raise ValueError(\"Number must be positive!\")\n                 return num\n             except ValueError as e:\n                 print(e)\n     ```\n\n  2. **File Operations**:\n     - Handling file operations with exceptions to manage errors like file not found or permission denied.\n     ```python\n     try:\n         with open(\"data.txt\") as f:\n             data = f.read()\n     except IOError as e:\n         print(f\"An I/O error occurred: {e}\")\n     ```\n\n  3. **Network Operations**:\n     - Managing exceptions in network communications to handle timeouts or connection errors.\n  \n- **Limitations**:\n  1. **Performance Overhead**:\n     - Exception handling can introduce some performance overhead, particularly if exceptions are raised frequently in performance-critical code.\n  \n  2. **Complexity**:\n     - Overusing exceptions for control flow (as opposed to actual error handling) can lead to code that is difficult to read and maintain.\n\n- **Conclusion**:\n  - Exceptions in Python are a powerful mechanism for error handling and can enhance code reliability by allowing developers to anticipate and manage potential errors. By using exception handling, Python programmers can create robust applications that handle unexpected situations gracefully.\n\"\"\"",
   "execution_count": null,
   "outputs": []
  },
  {
   "metadata": {
    "trusted": false
   },
   "cell_type": "code",
   "source": "",
   "execution_count": null,
   "outputs": []
  },
  {
   "metadata": {
    "trusted": false
   },
   "cell_type": "code",
   "source": "",
   "execution_count": null,
   "outputs": []
  },
  {
   "metadata": {
    "trusted": false
   },
   "cell_type": "code",
   "source": "",
   "execution_count": null,
   "outputs": []
  },
  {
   "metadata": {
    "trusted": false
   },
   "cell_type": "code",
   "source": "",
   "execution_count": null,
   "outputs": []
  },
  {
   "metadata": {
    "trusted": false
   },
   "cell_type": "code",
   "source": "",
   "execution_count": null,
   "outputs": []
  },
  {
   "metadata": {
    "trusted": false
   },
   "cell_type": "code",
   "source": "",
   "execution_count": null,
   "outputs": []
  },
  {
   "metadata": {
    "trusted": false
   },
   "cell_type": "code",
   "source": "",
   "execution_count": null,
   "outputs": []
  },
  {
   "metadata": {
    "trusted": false
   },
   "cell_type": "code",
   "source": "",
   "execution_count": null,
   "outputs": []
  },
  {
   "metadata": {
    "trusted": false
   },
   "cell_type": "code",
   "source": "",
   "execution_count": null,
   "outputs": []
  },
  {
   "metadata": {
    "trusted": false
   },
   "cell_type": "code",
   "source": "",
   "execution_count": null,
   "outputs": []
  },
  {
   "metadata": {
    "trusted": false
   },
   "cell_type": "code",
   "source": "",
   "execution_count": null,
   "outputs": []
  },
  {
   "metadata": {
    "trusted": false
   },
   "cell_type": "code",
   "source": "",
   "execution_count": null,
   "outputs": []
  },
  {
   "metadata": {
    "trusted": false
   },
   "cell_type": "code",
   "source": "",
   "execution_count": null,
   "outputs": []
  },
  {
   "metadata": {
    "trusted": false
   },
   "cell_type": "code",
   "source": "",
   "execution_count": null,
   "outputs": []
  },
  {
   "metadata": {
    "trusted": false
   },
   "cell_type": "code",
   "source": "",
   "execution_count": null,
   "outputs": []
  }
 ],
 "metadata": {
  "kernelspec": {
   "name": "python3",
   "display_name": "Python 3",
   "language": "python"
  },
  "language_info": {
   "name": "python",
   "version": "3.10.4",
   "mimetype": "text/x-python",
   "codemirror_mode": {
    "name": "ipython",
    "version": 3
   },
   "pygments_lexer": "ipython3",
   "nbconvert_exporter": "python",
   "file_extension": ".py"
  }
 },
 "nbformat": 4,
 "nbformat_minor": 2
}