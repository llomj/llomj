{
 "cells": [
  {
   "metadata": {
    "trusted": false
   },
   "cell_type": "code",
   "source": "\"\"\"\n- **Definition**:\n  - A `set` in Python is an **unordered collection** of **unique elements**. This means no duplicates are allowed, and the order of elements is not maintained. Sets are useful for performing operations such as membership tests, removing duplicates from a sequence, and performing mathematical set operations like union, intersection, and difference.\n\n- **How It Works**:\n  1. **Unordered**: \n     - The elements are not stored in a specific order and cannot be accessed via indexing.\n  2. **Unique Elements**: \n     - A set automatically removes any duplicate values. If a duplicate is added, the set will ignore it.\n  3. **Mutable**: \n     - Sets themselves are mutable (you can add or remove elements), but the elements they contain must be immutable (like numbers, strings, or tuples).\n\n- **Creating a Set**:\n  - You can create a set using curly braces `{}` or the `set()` constructor:\n    ```python\n    my_set = {1, 2, 3}\n    my_set2 = set([4, 5, 6])\n    ```\n  - Example:\n    ```python\n    fruits = {\"apple\", \"banana\", \"cherry\"}\n    print(fruits)\n    ```\n\n- **Key Concepts**:\n  1. **Eliminating Duplicates**:\n     - Sets are often used to eliminate duplicate items from a list or other collections:\n       ```python\n       numbers = [1, 2, 2, 3, 4, 4]\n       unique_numbers = set(numbers)\n       print(unique_numbers)  # Output: {1, 2, 3, 4}\n       ```\n\n  2. **Adding Elements**:\n     - You can add elements to a set using the `add()` method:\n       ```python\n       my_set = {1, 2, 3}\n       my_set.add(4)\n       print(my_set)  # Output: {1, 2, 3, 4}\n       ```\n\n  3. **Removing Elements**:\n     - Elements can be removed using `remove()` or `discard()`:\n       ```python\n       my_set = {1, 2, 3}\n       my_set.remove(2)\n       print(my_set)  # Output: {1, 3}\n       ```\n     - The difference between `remove()` and `discard()` is that `remove()` will raise an error if the element does not exist, while `discard()` will not raise an error.\n\n  4. **Set Operations**:\n     - **Union** (`|`): Combines elements from two sets, eliminating duplicates.\n     - **Intersection** (`&`): Returns only the elements common to both sets.\n     - **Difference** (`-`): Elements in the first set that are not in the second.\n     - **Symmetric Difference** (`^`): Elements in either set, but not both.\n     \n     Example:\n     ```python\n     set1 = {1, 2, 3}\n     set2 = {3, 4, 5}\n     print(set1 | set2)  # Union: {1, 2, 3, 4, 5}\n     print(set1 & set2)  # Intersection: {3}\n     print(set1 - set2)  # Difference: {1, 2}\n     print(set1 ^ set2)  # Symmetric Difference: {1, 2, 4, 5}\n     ```\n\n  5. **Membership Testing**:\n     - You can test whether an element is in a set using the `in` keyword:\n       ```python\n       my_set = {1, 2, 3}\n       print(2 in my_set)  # Output: True\n       print(4 in my_set)  # Output: False\n       ```\n\n  6. **Frozen Set**:\n     - A `frozenset` is an immutable version of a set. It cannot be modified after creation (no adding or removing elements):\n       ```python\n       frozen = frozenset([1, 2, 3])\n       ```\n\n- **Common Use Cases**:\n  1. **Removing Duplicates**:\n     - Sets are used to automatically remove duplicates from lists or other collections:\n       ```python\n       my_list = [1, 2, 2, 3, 4, 4]\n       unique_set = set(my_list)\n       print(unique_set)  # Output: {1, 2, 3, 4}\n       ```\n\n  2. **Mathematical Set Operations**:\n     - Python sets can perform mathematical operations like union, intersection, and difference:\n       ```python\n       set_a = {1, 2, 3}\n       set_b = {3, 4, 5}\n       union = set_a | set_b\n       intersection = set_a & set_b\n       difference = set_a - set_b\n       ```\n\n  3. **Efficient Membership Testing**:\n     - Sets allow for quick membership checks, which are much faster than lists.\n       ```python\n       my_set = {1, 2, 3, 4}\n       if 3 in my_set:\n           print(\"Found\")\n       ```\n\n  4. **Ensuring Data Uniqueness**:\n     - A set is often used to store data that must remain unique:\n       ```python\n       ids = set()\n       ids.add(\"ID123\")\n       ids.add(\"ID456\")\n       ids.add(\"ID123\")  # Duplicate, ignored\n       ```\n\n  5. **Set Comparisons**:\n     - You can compare sets using subset (`<=`), superset (`>=`), and equality (`==`) operators:\n       ```python\n       set1 = {1, 2, 3}\n       set2 = {1, 2, 3, 4}\n       print(set1 <= set2)  # True (set1 is a subset of set2)\n       ```\n\n- **Limitations**:\n  1. **Unordered**:\n     - Sets do not maintain any order of elements and do not support indexing or slicing.\n  \n  2. **Only Immutable Elements**:\n     - Sets only allow immutable elements like numbers, strings, or tuples. Mutable elements like lists or dictionaries cannot be added.\n  \n  3. **No Duplicates**:\n     - Sets automatically eliminate duplicates, which may not always be desirable.\n\n- **Conclusion**:\n  - A set is a powerful and efficient data structure when working with unique elements, offering built-in functionality for removing duplicates, membership testing, and mathematical operations like union, intersection, and difference.\n\"\"\"",
   "execution_count": null,
   "outputs": []
  },
  {
   "metadata": {
    "trusted": false
   },
   "cell_type": "code",
   "source": "",
   "execution_count": null,
   "outputs": []
  },
  {
   "metadata": {
    "trusted": false
   },
   "cell_type": "code",
   "source": "",
   "execution_count": null,
   "outputs": []
  },
  {
   "metadata": {
    "trusted": false
   },
   "cell_type": "code",
   "source": "",
   "execution_count": null,
   "outputs": []
  },
  {
   "metadata": {
    "trusted": false
   },
   "cell_type": "code",
   "source": "",
   "execution_count": null,
   "outputs": []
  },
  {
   "metadata": {
    "trusted": false
   },
   "cell_type": "code",
   "source": "",
   "execution_count": null,
   "outputs": []
  },
  {
   "metadata": {
    "trusted": false
   },
   "cell_type": "code",
   "source": "",
   "execution_count": null,
   "outputs": []
  },
  {
   "metadata": {
    "trusted": false
   },
   "cell_type": "code",
   "source": "",
   "execution_count": null,
   "outputs": []
  },
  {
   "metadata": {
    "trusted": false
   },
   "cell_type": "code",
   "source": "",
   "execution_count": null,
   "outputs": []
  },
  {
   "metadata": {
    "trusted": false
   },
   "cell_type": "code",
   "source": "",
   "execution_count": null,
   "outputs": []
  },
  {
   "metadata": {
    "trusted": false
   },
   "cell_type": "code",
   "source": "",
   "execution_count": null,
   "outputs": []
  },
  {
   "metadata": {
    "trusted": false
   },
   "cell_type": "code",
   "source": "",
   "execution_count": null,
   "outputs": []
  },
  {
   "metadata": {
    "trusted": false
   },
   "cell_type": "code",
   "source": "",
   "execution_count": null,
   "outputs": []
  },
  {
   "metadata": {
    "trusted": false
   },
   "cell_type": "code",
   "source": "",
   "execution_count": null,
   "outputs": []
  },
  {
   "metadata": {
    "trusted": false
   },
   "cell_type": "code",
   "source": "",
   "execution_count": null,
   "outputs": []
  },
  {
   "metadata": {
    "trusted": false
   },
   "cell_type": "code",
   "source": "",
   "execution_count": null,
   "outputs": []
  },
  {
   "metadata": {
    "trusted": false
   },
   "cell_type": "code",
   "source": "",
   "execution_count": null,
   "outputs": []
  },
  {
   "metadata": {
    "trusted": false
   },
   "cell_type": "code",
   "source": "",
   "execution_count": null,
   "outputs": []
  },
  {
   "metadata": {
    "trusted": false
   },
   "cell_type": "code",
   "source": "",
   "execution_count": null,
   "outputs": []
  },
  {
   "metadata": {
    "trusted": false
   },
   "cell_type": "code",
   "source": "",
   "execution_count": null,
   "outputs": []
  },
  {
   "metadata": {
    "trusted": false
   },
   "cell_type": "code",
   "source": "",
   "execution_count": null,
   "outputs": []
  },
  {
   "metadata": {
    "trusted": false
   },
   "cell_type": "code",
   "source": "",
   "execution_count": null,
   "outputs": []
  },
  {
   "metadata": {
    "trusted": false
   },
   "cell_type": "code",
   "source": "",
   "execution_count": null,
   "outputs": []
  },
  {
   "metadata": {
    "trusted": false
   },
   "cell_type": "code",
   "source": "",
   "execution_count": null,
   "outputs": []
  },
  {
   "metadata": {
    "trusted": false
   },
   "cell_type": "code",
   "source": "",
   "execution_count": null,
   "outputs": []
  },
  {
   "metadata": {
    "trusted": false
   },
   "cell_type": "code",
   "source": "",
   "execution_count": null,
   "outputs": []
  },
  {
   "metadata": {
    "trusted": false
   },
   "cell_type": "code",
   "source": "",
   "execution_count": null,
   "outputs": []
  },
  {
   "metadata": {
    "trusted": false
   },
   "cell_type": "code",
   "source": "",
   "execution_count": null,
   "outputs": []
  },
  {
   "metadata": {
    "trusted": false
   },
   "cell_type": "code",
   "source": "",
   "execution_count": null,
   "outputs": []
  },
  {
   "metadata": {
    "trusted": false
   },
   "cell_type": "code",
   "source": "",
   "execution_count": null,
   "outputs": []
  },
  {
   "metadata": {
    "trusted": false
   },
   "cell_type": "code",
   "source": "",
   "execution_count": null,
   "outputs": []
  }
 ],
 "metadata": {
  "kernelspec": {
   "name": "python3",
   "display_name": "Python 3",
   "language": "python"
  },
  "language_info": {
   "name": "python",
   "version": "3.10.4",
   "mimetype": "text/x-python",
   "codemirror_mode": {
    "name": "ipython",
    "version": 3
   },
   "pygments_lexer": "ipython3",
   "nbconvert_exporter": "python",
   "file_extension": ".py"
  }
 },
 "nbformat": 4,
 "nbformat_minor": 2
}