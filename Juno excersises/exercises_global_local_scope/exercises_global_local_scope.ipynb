{
 "cells": [
  {
   "metadata": {
    "trusted": false
   },
   "cell_type": "code",
   "source": "\"\"\"\nGlobal and Local Scope in Python\n\n- **Definition**:\n  - In Python, **scope** refers to the region of the program where a variable is accessible. Variables can have either **global** or **local** scope, determining their visibility and lifetime. Understanding the difference between these scopes is crucial for effective variable management and preventing naming conflicts.\n\n- **Local Scope**:\n  1. **Definition**:\n     - A **local scope** refers to the area within a function or a block of code where a variable is defined. Variables declared inside a function are local to that function and cannot be accessed outside of it.\n\n  2. **Lifetime**:\n     - Local variables are created when the function is called and are destroyed once the function execution is completed. They exist only for the duration of the function call.\n\n  3. **Example**:\n     ```python\n     def my_function():\n         local_variable = \"I am local\"\n         print(local_variable)  # Accessible within the function\n\n     my_function()\n     # print(local_variable)  # This would raise an error as local_variable is not accessible here\n     ```\n\n- **Global Scope**:\n  1. **Definition**:\n     - A **global scope** refers to variables that are declared outside of any function or class. Global variables can be accessed from anywhere in the module, including inside functions.\n\n  2. **Lifetime**:\n     - Global variables exist for the duration of the program execution and can be accessed until the program terminates.\n\n  3. **Example**:\n     ```python\n     global_variable = \"I am global\"\n\n     def my_function():\n         print(global_variable)  # Accessible within the function\n\n     my_function()  # Output: I am global\n     print(global_variable)  # Output: I am global\n     ```\n\n- **Modifying Global Variables**:\n  1. **Using `global` Keyword**:\n     - To modify a global variable inside a function, you must declare it using the `global` keyword. This tells Python that you want to use the global version of the variable, not create a new local one.\n     ```python\n     count = 0\n\n     def increment():\n         global count  # Declare count as global\n         count += 1\n\n     increment()\n     print(count)  # Output: 1\n     ```\n\n- **Key Concepts**:\n  1. **Name Resolution**:\n     - Python uses the **LEGB Rule** for name resolution, which stands for Local, Enclosing, Global, and Built-in. Python searches for a variable name in the following order:\n       - **Local**: Inside the current function.\n       - **Enclosing**: In any enclosing functions.\n       - **Global**: In the module’s global scope.\n       - **Built-in**: In Python’s built-in functions and names.\n\n  2. **Variable Shadowing**:\n     - A local variable can shadow a global variable if they share the same name. Inside the function, the local variable takes precedence.\n     ```python\n     x = 5  # Global variable\n\n     def my_function():\n         x = 10  # Local variable shadows global\n         print(x)  # Output: 10\n\n     my_function()\n     print(x)  # Output: 5 (global variable remains unchanged)\n     ```\n\n- **Common Use Cases**:\n  1. **Global Constants**:\n     - Using global variables for constants that need to be accessed across multiple functions or modules can help maintain consistent values.\n     ```python\n     PI = 3.14159\n\n     def calculate_area(radius):\n         return PI * (radius ** 2)\n     ```\n\n  2. **State Management**:\n     - Global variables can be used to maintain state or configuration across function calls, but should be used judiciously to avoid complications.\n\n- **Limitations**:\n  1. **Potential for Conflicts**:\n     - Overusing global variables can lead to conflicts and make the code harder to understand and maintain due to potential side effects from modifications.\n\n  2. **Reduced Code Reusability**:\n     - Functions that rely heavily on global variables can be less reusable, as they depend on external state rather than taking parameters.\n\n- **Conclusion**:\n  - Understanding global and local scope in Python is essential for effective variable management and preventing unintended behavior in code. Properly utilizing scope helps in maintaining clean, readable, and maintainable code.\n\"\"\"",
   "execution_count": null,
   "outputs": []
  },
  {
   "metadata": {
    "trusted": true
   },
   "cell_type": "code",
   "source": "",
   "execution_count": null,
   "outputs": []
  },
  {
   "metadata": {
    "trusted": true
   },
   "cell_type": "code",
   "source": "",
   "execution_count": null,
   "outputs": []
  },
  {
   "metadata": {
    "trusted": true
   },
   "cell_type": "code",
   "source": "",
   "execution_count": null,
   "outputs": []
  },
  {
   "metadata": {
    "trusted": true
   },
   "cell_type": "code",
   "source": "",
   "execution_count": null,
   "outputs": []
  },
  {
   "metadata": {
    "trusted": true
   },
   "cell_type": "code",
   "source": "",
   "execution_count": null,
   "outputs": []
  },
  {
   "metadata": {
    "trusted": true
   },
   "cell_type": "code",
   "source": "",
   "execution_count": null,
   "outputs": []
  },
  {
   "metadata": {
    "trusted": true
   },
   "cell_type": "code",
   "source": "",
   "execution_count": null,
   "outputs": []
  },
  {
   "metadata": {
    "trusted": true
   },
   "cell_type": "code",
   "source": "",
   "execution_count": null,
   "outputs": []
  },
  {
   "metadata": {
    "trusted": true
   },
   "cell_type": "code",
   "source": "",
   "execution_count": null,
   "outputs": []
  },
  {
   "metadata": {
    "trusted": true
   },
   "cell_type": "code",
   "source": "",
   "execution_count": null,
   "outputs": []
  },
  {
   "metadata": {
    "trusted": true
   },
   "cell_type": "code",
   "source": "",
   "execution_count": null,
   "outputs": []
  },
  {
   "metadata": {
    "trusted": true
   },
   "cell_type": "code",
   "source": "",
   "execution_count": null,
   "outputs": []
  },
  {
   "metadata": {
    "trusted": true
   },
   "cell_type": "code",
   "source": "",
   "execution_count": null,
   "outputs": []
  },
  {
   "metadata": {
    "trusted": true
   },
   "cell_type": "code",
   "source": "",
   "execution_count": null,
   "outputs": []
  },
  {
   "metadata": {
    "trusted": true
   },
   "cell_type": "code",
   "source": "",
   "execution_count": null,
   "outputs": []
  },
  {
   "metadata": {
    "trusted": true
   },
   "cell_type": "code",
   "source": "",
   "execution_count": null,
   "outputs": []
  },
  {
   "metadata": {
    "trusted": true
   },
   "cell_type": "code",
   "source": "",
   "execution_count": null,
   "outputs": []
  },
  {
   "metadata": {
    "trusted": true
   },
   "cell_type": "code",
   "source": "",
   "execution_count": null,
   "outputs": []
  }
 ],
 "metadata": {
  "kernelspec": {
   "name": "python3",
   "display_name": "Python 3",
   "language": "python"
  },
  "language_info": {
   "name": "python",
   "version": "3.10.4",
   "mimetype": "text/x-python",
   "codemirror_mode": {
    "name": "ipython",
    "version": 3
   },
   "pygments_lexer": "ipython3",
   "nbconvert_exporter": "python",
   "file_extension": ".py"
  }
 },
 "nbformat": 4,
 "nbformat_minor": 2
}