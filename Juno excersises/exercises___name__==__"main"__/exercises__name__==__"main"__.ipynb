{
 "cells": [
  {
   "metadata": {
    "trusted": false
   },
   "cell_type": "code",
   "source": "\"\"\"\nif __name__ == \"__main__\" in Python\n\n- **Definition**:\n  - The expression `if __name__ == \"__main__\":` is a common Python idiom used to determine if a Python script is being run as the main program or if it is being imported as a module in another script. This construct allows for conditional execution of code, enabling scripts to function both as reusable modules and standalone programs.\n\n- **How It Works**:\n  1. **Understanding `__name__`**:\n     - Every Python module has a built-in attribute called `__name__`. When a module is run directly, Python sets `__name__` to `\"__main__\"`. If the module is imported into another script, `__name__` is set to the module’s name.\n\n  2. **Conditional Execution**:\n     - The statement `if __name__ == \"__main__\":` checks if the script is being executed as the main program. If it evaluates to `True`, the code block under this conditional statement will execute. If the script is imported as a module, the code block will not execute.\n\n- **Examples**:\n  1. **Basic Usage**:\n     ```python\n     def main():\n         print(\"This script is running directly.\")\n\n     if __name__ == \"__main__\":\n         main()  # Output: This script is running directly.\n     ```\n\n  2. **Module Example**:\n     - If the above code is saved in a file named `example.py` and imported into another script:\n     ```python\n     import example  # No output will occur because main() is not called\n     ```\n\n  3. **Multiple Functions**:\n     ```python\n     def greet():\n         print(\"Hello!\")\n\n     def main():\n         greet()\n\n     if __name__ == \"__main__\":\n         main()  # Output: Hello!\n     ```\n\n- **Key Concepts**:\n  1. **Modular Code**:\n     - This idiom encourages writing modular code that can be reused across different scripts without executing certain code unintentionally when imported.\n  \n  2. **Testing and Debugging**:\n     - It is a useful structure for testing individual scripts. When writing tests or examples, you can include them within this block, ensuring they only run during direct execution.\n\n  3. **Readability**:\n     - Using `if __name__ == \"__main__\":` enhances code readability, making it clear which parts of the code are intended to execute when the script runs directly versus when it is imported.\n\n- **Common Use Cases**:\n  1. **Script Entry Point**:\n     - Defining a main function to act as the entry point of the script, improving organization and structure.\n  \n  2. **Running Tests**:\n     - Including test cases or demo code within the `if __name__ == \"__main__\":` block to facilitate quick testing of functions without affecting the module when imported.\n\n  3. **Command-Line Interfaces (CLIs)**:\n     - Implementing command-line interfaces that provide different behaviors when run directly versus when imported into another application.\n\n- **Limitations**:\n  1. **Not a Replacement for Functionality**:\n     - While this idiom is powerful, it does not replace the need for proper function definitions and modular programming practices.\n  \n  2. **Misuse in Larger Projects**:\n     - In larger projects, relying heavily on this construct can lead to complex dependencies and unclear execution flows if not properly documented.\n\n- **Conclusion**:\n  - The `if __name__ == \"__main__\":` idiom is an essential pattern in Python that facilitates the development of versatile, reusable modules. It allows scripts to maintain flexibility and clarity, promoting good coding practices in the Python community.\n\"\"\"",
   "execution_count": null,
   "outputs": []
  },
  {
   "metadata": {
    "trusted": true
   },
   "cell_type": "code",
   "source": "",
   "execution_count": null,
   "outputs": []
  },
  {
   "metadata": {
    "trusted": true
   },
   "cell_type": "code",
   "source": "",
   "execution_count": null,
   "outputs": []
  },
  {
   "metadata": {
    "trusted": true
   },
   "cell_type": "code",
   "source": "",
   "execution_count": null,
   "outputs": []
  },
  {
   "metadata": {
    "trusted": true
   },
   "cell_type": "code",
   "source": "",
   "execution_count": null,
   "outputs": []
  },
  {
   "metadata": {
    "trusted": true
   },
   "cell_type": "code",
   "source": "",
   "execution_count": null,
   "outputs": []
  },
  {
   "metadata": {
    "trusted": true
   },
   "cell_type": "code",
   "source": "",
   "execution_count": null,
   "outputs": []
  },
  {
   "metadata": {
    "trusted": true
   },
   "cell_type": "code",
   "source": "",
   "execution_count": null,
   "outputs": []
  },
  {
   "metadata": {
    "trusted": true
   },
   "cell_type": "code",
   "source": "",
   "execution_count": null,
   "outputs": []
  },
  {
   "metadata": {
    "trusted": true
   },
   "cell_type": "code",
   "source": "",
   "execution_count": null,
   "outputs": []
  },
  {
   "metadata": {
    "trusted": true
   },
   "cell_type": "code",
   "source": "",
   "execution_count": null,
   "outputs": []
  },
  {
   "metadata": {
    "trusted": true
   },
   "cell_type": "code",
   "source": "",
   "execution_count": null,
   "outputs": []
  },
  {
   "metadata": {
    "trusted": true
   },
   "cell_type": "code",
   "source": "",
   "execution_count": null,
   "outputs": []
  },
  {
   "metadata": {
    "trusted": true
   },
   "cell_type": "code",
   "source": "",
   "execution_count": null,
   "outputs": []
  },
  {
   "metadata": {
    "trusted": true
   },
   "cell_type": "code",
   "source": "",
   "execution_count": null,
   "outputs": []
  },
  {
   "metadata": {
    "trusted": true
   },
   "cell_type": "code",
   "source": "",
   "execution_count": null,
   "outputs": []
  },
  {
   "metadata": {
    "trusted": true
   },
   "cell_type": "code",
   "source": "",
   "execution_count": null,
   "outputs": []
  },
  {
   "metadata": {
    "trusted": true
   },
   "cell_type": "code",
   "source": "",
   "execution_count": null,
   "outputs": []
  },
  {
   "metadata": {
    "trusted": true
   },
   "cell_type": "code",
   "source": "",
   "execution_count": null,
   "outputs": []
  },
  {
   "metadata": {
    "trusted": true
   },
   "cell_type": "code",
   "source": "",
   "execution_count": null,
   "outputs": []
  },
  {
   "metadata": {
    "trusted": true
   },
   "cell_type": "code",
   "source": "",
   "execution_count": null,
   "outputs": []
  },
  {
   "metadata": {
    "trusted": true
   },
   "cell_type": "code",
   "source": "",
   "execution_count": null,
   "outputs": []
  }
 ],
 "metadata": {
  "kernelspec": {
   "name": "python3",
   "display_name": "Python 3",
   "language": "python"
  },
  "language_info": {
   "name": "python",
   "version": "3.10.4",
   "mimetype": "text/x-python",
   "codemirror_mode": {
    "name": "ipython",
    "version": 3
   },
   "pygments_lexer": "ipython3",
   "nbconvert_exporter": "python",
   "file_extension": ".py"
  }
 },
 "nbformat": 4,
 "nbformat_minor": 2
}