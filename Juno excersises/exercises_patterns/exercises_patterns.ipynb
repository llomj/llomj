{
 "cells": [
  {
   "metadata": {
    "trusted": false
   },
   "cell_type": "code",
   "source": "\"\"\"\n- **Definition**:\n  - In Python, you can use **for loops** to print patterns using characters like `*`, numbers, or other symbols. These patterns are typically printed in shapes like triangles, squares, pyramids, or other geometric forms.\n  - The idea is to print characters in a structured sequence by controlling the number of characters printed on each line, which can be done using nested loops (a loop within a loop).\n\n- **How It Works**:\n  1. **Outer Loop**: This controls the number of rows (lines) that the pattern will have. Each iteration of the outer loop represents one row in the pattern.\n  2. **Inner Loop**: This controls the number of characters (such as stars `*`) printed on each row. The inner loop typically depends on the row number and changes accordingly to create the desired shape.\n  3. **Rows and Columns**: By manipulating the number of iterations of the inner and outer loops, you can control how many rows and columns are printed. The structure of the loops defines the shape of the pattern.\n\n- **Common Patterns**:\n  1. **Right-Angled Triangle Pattern**:\n     - To print a right-angled triangle with stars `*`, you can use nested loops, where the number of stars printed on each line increases incrementally.\n     - Example:\n       ```\n       *\n       **\n       ***\n       ****\n       *****\n       ```\n\n     **How to Achieve This**:\n     - The outer loop controls the rows, and the inner loop prints the corresponding number of stars.\n     ```python\n     rows = 5\n     for i in range(1, rows + 1):  # Outer loop for rows\n         for j in range(i):  # Inner loop for columns\n             print('*', end='')  # Print '*' without newline\n         print()  # Newline after each row\n     ```\n\n  2. **Inverted Triangle Pattern**:\n     - You can reverse the number of stars in each row to print an inverted triangle.\n     - Example:\n       ```\n       *****\n       ****\n       ***\n       **\n       *\n       ```\n\n     **How to Achieve This**:\n     - The outer loop starts with the maximum number of stars and decreases with each iteration.\n     ```python\n     rows = 5\n     for i in range(rows, 0, -1):  # Outer loop starts with maximum stars and decreases\n         for j in range(i):\n             print('*', end='')\n         print()\n     ```\n\n  3. **Pyramid Pattern**:\n     - A pyramid pattern aligns the stars in the center, with the number of stars increasing as you move down the rows.\n     - Example:\n       ```\n           *\n          ***\n         *****\n        *******\n       *********\n       ```\n\n     **How to Achieve This**:\n     - For each row, you print spaces first and then print stars. The number of spaces decreases while the number of stars increases symmetrically.\n     ```python\n     rows = 5\n     for i in range(1, rows + 1):\n         print(' ' * (rows - i) + '*' * (2 * i - 1))  # Print spaces then stars\n     ```\n\n  4. **Diamond Pattern**:\n     - A diamond pattern is a combination of two pyramid patterns: one increasing and one decreasing.\n     - Example:\n       ```\n           *\n          ***\n         *****\n        *******\n         *****\n          ***\n           *\n       ```\n\n     **How to Achieve This**:\n     - First, print the upper pyramid, and then print an inverted pyramid beneath it.\n     ```python\n     rows = 5\n     # Upper pyramid\n     for i in range(1, rows + 1):\n         print(' ' * (rows - i) + '*' * (2 * i - 1))\n     # Lower inverted pyramid\n     for i in range(rows - 1, 0, -1):\n         print(' ' * (rows - i) + '*' * (2 * i - 1))\n     ```\n\n  5. **Square Pattern**:\n     - A square pattern prints the same number of stars in each row and column.\n     - Example:\n       ```\n       *****\n       *****\n       *****\n       *****\n       *****\n       ```\n\n     **How to Achieve This**:\n     - Use a loop where the number of stars remains constant for each row.\n     ```python\n     rows = 5\n     for i in range(rows):\n         for j in range(rows):\n             print('*', end='')\n         print()\n     ```\n\n  6. **Hollow Square Pattern**:\n     - This pattern has stars only at the borders of the square, with spaces in the middle.\n     - Example:\n       ```\n       *****\n       *   *\n       *   *\n       *   *\n       *****\n       ```\n\n     **How to Achieve This**:\n     - You print stars at the first and last row, and in the middle rows, stars only at the beginning and end.\n     ```python\n     rows = 5\n     for i in range(rows):\n         if i == 0 or i == rows - 1:\n             print('*' * rows)\n         else:\n             print('*' + ' ' * (rows - 2) + '*')\n     ```\n\n- **Detailed Explanation of Key Concepts**:\n  1. **Nested Loops**:\n     - In these patterns, the outer loop determines the number of rows, and the inner loop handles the number of symbols printed in each row.\n     - Example: \n       In a right-angled triangle, the outer loop runs from 1 to `rows`, and the inner loop runs from 1 to `i` (where `i` is the current row number).\n\n  2. **Controlling the Number of Symbols**:\n     - You can control how many symbols (like `*`) to print on each line by adjusting the range in the inner loop. The number of iterations of the inner loop typically increases or decreases based on the row number (`i`).\n\n  3. **Print Function**:\n     - By using `print('*', end='')`, you can print stars on the same line without adding a newline after each character. Then, `print()` is used after the inner loop to move to the next line.\n\n  4. **Spaces for Alignment**:\n     - In patterns like pyramids or diamonds, spaces are used to align the stars properly. The number of spaces decreases as the number of stars increases to maintain symmetry.\n\n  5. **Mirroring Patterns**:\n     - For shapes like diamonds, you create a mirror image of the upper half (a pyramid) by decreasing the number of stars after reaching the middle of the pattern.\n\n- **Common Use Cases**:\n  1. **Learning Loops**: Pattern printing is a common exercise for learning how loops work, especially nested loops.\n  2. **Testing Logical Thinking**: These exercises help programmers understand how to think logically about controlling flow and structure in a program.\n  3. **Interview Questions**: Simple pattern printing is often asked in coding interviews to test a candidate’s understanding of loops, conditions, and output formatting.\n\n- **Customizing Patterns**:\n  - You can easily modify the characters used in the pattern. Instead of `*`, you can use numbers, alphabets, or any other symbol.\n  - You can also adjust the size of the patterns dynamically based on user input. For example, allowing the user to specify the number of rows.\n\n- **Conclusion**:\n  - Using `for` loops to print patterns in Python is a practical exercise to understand looping and control flow. By manipulating the outer and inner loops, you can create various geometric shapes like triangles, squares, pyramids, and diamonds. Mastering these concepts is essential for building a solid foundation in Python programming, especially in working with loops and formatting outputs.\n\"\"\"",
   "execution_count": null,
   "outputs": []
  },
  {
   "metadata": {
    "trusted": false
   },
   "cell_type": "code",
   "source": "",
   "execution_count": null,
   "outputs": []
  },
  {
   "metadata": {
    "trusted": false
   },
   "cell_type": "code",
   "source": "",
   "execution_count": null,
   "outputs": []
  },
  {
   "metadata": {
    "trusted": false
   },
   "cell_type": "code",
   "source": "",
   "execution_count": null,
   "outputs": []
  },
  {
   "metadata": {
    "trusted": false
   },
   "cell_type": "code",
   "source": "",
   "execution_count": null,
   "outputs": []
  },
  {
   "metadata": {
    "trusted": false
   },
   "cell_type": "code",
   "source": "",
   "execution_count": null,
   "outputs": []
  },
  {
   "metadata": {
    "trusted": false
   },
   "cell_type": "code",
   "source": "",
   "execution_count": null,
   "outputs": []
  },
  {
   "metadata": {
    "trusted": false
   },
   "cell_type": "code",
   "source": "",
   "execution_count": null,
   "outputs": []
  },
  {
   "metadata": {
    "trusted": false
   },
   "cell_type": "code",
   "source": "",
   "execution_count": null,
   "outputs": []
  },
  {
   "metadata": {
    "trusted": false
   },
   "cell_type": "code",
   "source": "",
   "execution_count": null,
   "outputs": []
  },
  {
   "metadata": {
    "trusted": false
   },
   "cell_type": "code",
   "source": "",
   "execution_count": null,
   "outputs": []
  },
  {
   "metadata": {
    "trusted": false
   },
   "cell_type": "code",
   "source": "",
   "execution_count": null,
   "outputs": []
  },
  {
   "metadata": {
    "trusted": false
   },
   "cell_type": "code",
   "source": "",
   "execution_count": null,
   "outputs": []
  },
  {
   "metadata": {
    "trusted": false
   },
   "cell_type": "code",
   "source": "",
   "execution_count": null,
   "outputs": []
  },
  {
   "metadata": {
    "trusted": false
   },
   "cell_type": "code",
   "source": "",
   "execution_count": null,
   "outputs": []
  },
  {
   "metadata": {
    "trusted": false
   },
   "cell_type": "code",
   "source": "",
   "execution_count": null,
   "outputs": []
  },
  {
   "metadata": {
    "trusted": false
   },
   "cell_type": "code",
   "source": "",
   "execution_count": null,
   "outputs": []
  },
  {
   "metadata": {
    "trusted": false
   },
   "cell_type": "code",
   "source": "",
   "execution_count": null,
   "outputs": []
  },
  {
   "metadata": {
    "trusted": false
   },
   "cell_type": "code",
   "source": "",
   "execution_count": null,
   "outputs": []
  },
  {
   "metadata": {
    "trusted": false
   },
   "cell_type": "code",
   "source": "",
   "execution_count": null,
   "outputs": []
  },
  {
   "metadata": {
    "trusted": false
   },
   "cell_type": "code",
   "source": "",
   "execution_count": null,
   "outputs": []
  },
  {
   "metadata": {
    "trusted": false
   },
   "cell_type": "code",
   "source": "",
   "execution_count": null,
   "outputs": []
  },
  {
   "metadata": {
    "trusted": false
   },
   "cell_type": "code",
   "source": "",
   "execution_count": null,
   "outputs": []
  },
  {
   "metadata": {
    "trusted": false
   },
   "cell_type": "code",
   "source": "",
   "execution_count": null,
   "outputs": []
  },
  {
   "metadata": {
    "trusted": false
   },
   "cell_type": "code",
   "source": "",
   "execution_count": null,
   "outputs": []
  },
  {
   "metadata": {
    "trusted": false
   },
   "cell_type": "code",
   "source": "",
   "execution_count": null,
   "outputs": []
  },
  {
   "metadata": {
    "trusted": false
   },
   "cell_type": "code",
   "source": "",
   "execution_count": null,
   "outputs": []
  },
  {
   "metadata": {
    "trusted": false
   },
   "cell_type": "code",
   "source": "",
   "execution_count": null,
   "outputs": []
  },
  {
   "metadata": {
    "trusted": false
   },
   "cell_type": "code",
   "source": "",
   "execution_count": null,
   "outputs": []
  },
  {
   "metadata": {
    "trusted": false
   },
   "cell_type": "code",
   "source": "",
   "execution_count": null,
   "outputs": []
  },
  {
   "metadata": {
    "trusted": false
   },
   "cell_type": "code",
   "source": "",
   "execution_count": null,
   "outputs": []
  },
  {
   "metadata": {
    "trusted": false
   },
   "cell_type": "code",
   "source": "",
   "execution_count": null,
   "outputs": []
  },
  {
   "metadata": {
    "trusted": false
   },
   "cell_type": "code",
   "source": "",
   "execution_count": null,
   "outputs": []
  },
  {
   "metadata": {
    "trusted": false
   },
   "cell_type": "code",
   "source": "",
   "execution_count": null,
   "outputs": []
  },
  {
   "metadata": {
    "trusted": false
   },
   "cell_type": "code",
   "source": "",
   "execution_count": null,
   "outputs": []
  },
  {
   "metadata": {
    "trusted": false
   },
   "cell_type": "code",
   "source": "",
   "execution_count": null,
   "outputs": []
  },
  {
   "metadata": {
    "trusted": false
   },
   "cell_type": "code",
   "source": "",
   "execution_count": null,
   "outputs": []
  },
  {
   "metadata": {
    "trusted": false
   },
   "cell_type": "code",
   "source": "",
   "execution_count": null,
   "outputs": []
  },
  {
   "metadata": {
    "trusted": false
   },
   "cell_type": "code",
   "source": "",
   "execution_count": null,
   "outputs": []
  },
  {
   "metadata": {
    "trusted": false
   },
   "cell_type": "code",
   "source": "",
   "execution_count": null,
   "outputs": []
  },
  {
   "metadata": {
    "trusted": false
   },
   "cell_type": "code",
   "source": "",
   "execution_count": null,
   "outputs": []
  },
  {
   "metadata": {
    "trusted": false
   },
   "cell_type": "code",
   "source": "",
   "execution_count": null,
   "outputs": []
  },
  {
   "metadata": {
    "trusted": false
   },
   "cell_type": "code",
   "source": "",
   "execution_count": null,
   "outputs": []
  },
  {
   "metadata": {
    "trusted": false
   },
   "cell_type": "code",
   "source": "",
   "execution_count": null,
   "outputs": []
  },
  {
   "metadata": {
    "trusted": false
   },
   "cell_type": "code",
   "source": "\"\"\"\nProblem: 213\nWrite a Python program to print the following pattern:\\n*\\n* *\\n* * *\\n* * * *\\n* * * * *\n\"\"\"\n\nfor i in range(1, 6):\n    print('* ' * i)\n    \n\"\"\"\nProblem: 214\nWrite a Python program to print the following number pyramid:\\n1\\n2 2\\n3 3 3\\n4 4 4 4\\n5 5 5 5 5\n\"\"\"\n\nfor i in range(1, 6):\n    print((str(i) + ' ') * i)\n\n\"\"\"\nProblem: 215\nWrite a Python program to print a square pattern of stars with a given side length.\n\"\"\"\n\ndef square_pattern(n):\n    for i in range(n):\n        for j in range(n):\n            print(\"*\", end=\" \")\n        print()\nn = 5    \nprint(square_pattern(n))\n\ndef print_square_pattern(side_length):\n    for i in range(side_length):\n        for j in range(side_length):\n            \n            print(\"*\", end=\" \")\n        print()\n\nside_length = int(input(\"Enter the side length of the square: \"))\nprint_square_pattern(side_length)\n\n\"\"\"\nProblem: 216\nWrite a Python program to print a right-angled triangle of numbers:\\n1\\n1 2\\n1 2 3\\n1 2 3 4\\n1 2 3 4 5\n\"\"\"\n\nfor i in range(1, 6):\n    print(' '.join(str(num) for num in range(1, i + 1)))\n\n\"\"\"\nProblem: 217\nWrite a Python program to print an inverted pyramid pattern:\\n* * * * *\\n* * * *\\n* * *\\n* *\\n*\",\n\"\"\"\n\nfor i in range(5, 0, -1):\n    for j in range(i):\n        print('*', end=' ')\n    print() \n\n\"\"\"\nProblem: 218\nWrite a Python program to print a checkerboard pattern of given size.\n\"\"\"\n\ndef print_checkerboard(size):\n    for i in range(size):\n        for j in range(size):\n            if (i + j) % 2 == 0:\n                print('*', end=' ')\n            else:\n                print(' ', end=' ')\n        print()\n\nsize = int(input(\"Enter the size of the checkerboard: \"))\nprint_checkerboard(size)\n\n\"\"\"\nProblem: 219\nWrite a Python program to print Floyd's Triangle.\\n1\\n2 3\\n4 5 6\\n7 8 9 10\n\"\"\"\n\ndef print_floyds_triangle(rows):\n    num = 1\n    for i in range(1, rows + 1):\n        for j in range(i):\n            print(num, end=' ')\n            num += 1\n        print()\n\nrows = 4\nprint_floyds_triangle(rows)\n\n\"\"\"\n220\nWrite a Python program to print a diamond pattern of stars for a given number of rows.\\nFor example, for 3 rows:\\n  *\\n ***\\n*****\\n ***\\n  \n\"\"\"\n\ndef print_diamond(rows):\n    for i in range(rows):\n        for j in range(rows - i - 1):\n            print(\" \", end=\"\")\n\n        for k in range(2 * i + 1):\n            print(\"*\", end=\"\")\n        print()\n\n    for i in range(rows - 2, -1, -1):\n        for j in range(rows - i - 1):\n            print(\" \", end=\"\")\n            \n        for k in range(2 * i + 1):\n            print(\"*\", end=\"\"\n        print()\n\nrows = 3\nprint_diamond(rows)\n\n\"\"\"\nProblem: 221\nWrite a Python program to print a hollow square pattern of stars with a given side length.\\nFor example, for side length 5:\\n*****\\n*   *\\n*   *\\n*   *\\n*****\n\"\"\"\n\ndef print_hollow_square(side_length):\n    for i in range(side_length):\n        if i == 0 or i == side_length - 1:\n            print('*' * side_length)\n        else:\n            print('*' + ' ' * (side_length - 2) + '*')\n\nside_length = 5\nprint_hollow_square(side_length)\n\n\"\"\"\nProblem: 222\nWrite a Python program to print a reverse pyramid pattern of numbers:\\n1 2 3 4 5\\n1 2 3 4\\n1 2 3\\n1 2\\n1\"\n\"\"\"\n\ndef print_reverse_pyramid(rows):\n    for i in range(rows, 0, -1):\n        for j in range(1, i + 1):\n            print(j, end=' ')\n        print()\n\nrows = 5\nprint_reverse_pyramid(rows)\n\n\"\"\"\n223\nWrite a Python program to print a mirrored right-angled triangle of stars:\\n    *\\n   **\\n  ***\\n ****\\n*****\n\"\"\"\n\ndef mirrored_right_angled_triangle(rows):\n    for i in range(1, rows+1):\n        for j in range(rows-i):\n            print(\" \", end=\"\")\n            \n        for k in range(i):\n            print(\"*\", end=\" \")\n        print()\n\nrows = 5\nmirrored_right_angled_triangle(rows)\n\n\"\"\"\nProblem: 224\ndescription\": \"Write a Python program to print a triangle pattern of letters:\\nA\\nB B\\nC C C\\nD D D D\\nE E E E E\"\n\"\"\"\n\ndef triangle_pattern(rows):\n    for i in range(rows):\n        letter = chr(65 + i)\n        for j in range(i + 1):\n            \n            print(letter, end=\" \")\n            \n        print()\n\nrows = 5\ntriangle_pattern(rows)\n\ndef triangle_pattern(rows):\n    letters = ['A', 'B', 'C', 'D', 'E', 'F', 'G', 'H', 'I', 'J', 'K', 'L', 'M', \n               'N', 'O', 'P', 'Q', 'R', 'S', 'T', 'U', 'V', 'W', 'X', 'Y', 'Z']\n    \n    for i in range(rows):\n        letter = letters[i]\n        for j in range(i + 1):\n            \n            print(letter, end=\" \")\n            \n        print()\n\nrows = 5\ntriangle_pattern(rows)\n\n\"\"\"\nProblem: 225\nWrite a Python program to print a square pattern of numbers:\\n1 2 3 4 5\\n1 2 3 4 5\\n1 2 3 4 5\\n1 2 3 4 5\\n1 2 3 4 5\n\"\"\"\n\ndef print_square_pattern(size):\n    for i in range(size):\n        for j in range(1, size + 1):\n            print(j, end=' ')\n        print()\n\nsize = 5\nprint_square_pattern(size)\n\n\"\"\"\nProblem: 226\nWrite a Python program to print a hollow right-angled triangle of stars:\\n*\\n* *\\n*  *\\n*   *\\n*****\n\"\"\"\n\ndef print_hollow_right_triangle(height):\n    for i in range(height):\n        if i == height - 1:\n            print('*' * (i + 1))\n        else:\n            print('*' + ' ' * i + '*')\n\nheight = 5\nprint_hollow_right_triangle(height)\n\n\"\"\"\nProblem: 226\nWrite a Python program to print a hollow right-angled triangle of stars:\\n*\\n* *\\n*  *\\n*   *\\n*****\n\"\"\"\n\ndef print_hollow_right_triangle(height):\n    for i in range(height):\n        if i == height - 1:\n            print('*' * (i + 1))\n        else:\n            print('*' + ' ' * i + '*')\n\nheight = 5\nprint_hollow_right_triangle(height)\n\n\"\"\"\nProblem: 227\nWrite a Python program to print a zigzag pattern of stars for a given number of rows.\\nFor example, for 5 rows:\\n*   *   *\\n * * * *\\n  *   *\\n * * * *\\n*   *   *\n\"\"\"\n\ndef print_zigzag(rows):\n    for i in range(rows):\n        for j in range(rows):\n            if (i % 2 == 0 and j % (rows - 1) == 0) or (i % 2 == 1 and j % (rows - 1) == 1):\n                print('*', end=' ')\n            else:\n                print(' ', end=' ')\n        print()\n\nrows = 5\nprint_zigzag(rows)\n\n\"\"\"\nProblem: 228\nWrite a Python program to print a cross pattern of stars for a given odd number of rows.\\nFor example, for 5 rows:\\n*   *\\n * *\\n  *\\n * *\\n*   *\"\n\"\"\"\n\ndef print_cross(rows):\n    for i in range(rows):\n        for j in range(rows):\n            if j == i or j == (rows - 1 - i):\n                print('*', end='')\n            else:\n                print(' ', end='')\n        print()\n\nrows = 5\nprint_cross(rows)\n\n\"\"\"\nProblem: 229\nWrite a Python program to print an hourglass pattern of stars:\\n*****\\n ***\\n  *\\n ***\\n*****\n\"\"\"\n\ndef print_hourglass(rows):\n    for i in range(rows):\n        print(' ' * i + '*' * (rows - i * 2))\n\nrows = 4\nprint_hourglass(rows)\n\n\"\"\"\nProblem 230:\nWrite a Python function called count_occurrences that takes a list of elements as input and returns the number of times the elements appears in the list.\n\"\"\"\n\ndef count_occurrences(lst):\n    result = {}\n    for word in lst:\n        if word in result:\n            result[word] += 1\n        else:\n            result[word] = 1\n        \n    return result\n\nlst = [\"tom\", \"fred\", \"tom\", \"chris\", \"fred\"]\nprint(count_occurrences(lst))\n\n\"\"\"\nProblem 231:\nWrite a Python program to find the sum of all odd numbers in a list. Prompt the user to enter a list of numbers. Write the function as sort as possible.\n\"\"\"\n\ndef sum_of_odd():\n    user = input(\"type numbers: \").split()\n  \n    count = 0    \n    for number in user:\n        number = int(number)\n        if number % 2 != 0:\n            count += number\n    print(count)\n            \nsum_of_odd()\n\n\"\"\"\nProblem 232:\nWrite a Python program to remove vowels from a string. Prompt the user to enter a string. Do not use append().\n\"\"\"\n\ndef remove_vowels():\n    user = input(\"type string: \")\n    for char in user:\n        if char not in \"aeiou\":\n            print(char, end= \"\")\n            \nremove_vowels()\n\n\"\"\"\nProblem 233:\nWrite a Python function called `find_min` that takes a list of numbers as input and returns the minimum number in the list. Do not use min().\n\"\"\"\n\ndef find_min(lst):\n    min_num = lst[0]\n    for number in lst:\n        if number < min_num:\n            min_num = number\n    return min_num\n            \nlst = [13, 566, 1]\nprint(find_min(lst))\n\n\"\"\"\nProblem: 234\nWrite a Python program to print a square pattern of stars with a given side length. Use a while loop.\n\"\"\"\n\ni = 1\n\nwhile (i < 6):\n    print(\"* \" * 5)\n    i += 1\n\n\"\"\"\nProblem: 235\nWrite a Python program that prints a increasing triangle pattern of stars.\n\"\"\"\n\ndef increasing_triangle():\n    n = 5\n    \n    for i in range(n):\n        for i in range(i+1):\n            print(\"*\", end=\" \")\n        print()\n\nprint(increasing_triangle())\n\n\"\"\"\nProblem: 236\nWrite a Python program that prints a decreasing triangle pattern of stars.\n\"\"\"\n\ndef decreasing_triangle():\n    n = 5\n    for i in range(n):\n        for j in range(i, n):\n            print(\"*\", end=\" \")\n        print()\n\nprint(increasing_triangle())\n\n\"\"\"\nProblem: 237\nWrite a Python program that prints a right triangle pattern of stars.\n\"\"\"\n\ndef right_triangle(n): \n    for i in range(1, n + 1):\n        for j in range(i):\n            print(\"*\", end=\" \")\n        print()\n\nnumber = 5\nright_triangle(number)\n\n\n\"\"\"\nProblem: 238\nWrite a Python program that prints a left triangle pattern of stars.\n\"\"\"\n\ndef left_triangle():\n    n = 5\n    for i in range(n):\n        for i in range(i, n):\n            print(\" \", end=\" \")\n    for i in range(n):\n        for i in range(i + 1):\n            print(\"*\", end=\" \")\n        print()\n\nprint(increasing_triangle())\n\n\"\"\"\nProblem: 239\nWrite a Python program that prints a hill pattern of stars.\n\"\"\"\n\ndef print_hill_pattern(rows):\n    for i in range(rows):\n        print(' ' * (rows - i - 1) + '*' * (2 * i + 1))\n\nrows = 5\nprint_hill_pattern(rows)\n\n\"\"\"\nProblem: 240\nWrite a Python program that prints a reverse hill pattern of stars.\n\"\"\"\n\ndef print_reverse_hill_pattern(rows):\n    for i in range(rows):\n        print(' ' * i + '*' * (2 * (rows - i) - 1))\n\nrows = 5\nprint_reverse_hill_pattern(rows)",
   "execution_count": null,
   "outputs": []
  }
 ],
 "metadata": {
  "kernelspec": {
   "name": "python3",
   "display_name": "Python 3",
   "language": "python"
  },
  "language_info": {
   "name": "python",
   "version": "3.10.4",
   "mimetype": "text/x-python",
   "codemirror_mode": {
    "name": "ipython",
    "version": 3
   },
   "pygments_lexer": "ipython3",
   "nbconvert_exporter": "python",
   "file_extension": ".py"
  }
 },
 "nbformat": 4,
 "nbformat_minor": 2
}