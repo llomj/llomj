{
 "cells": [
  {
   "metadata": {
    "trusted": false
   },
   "cell_type": "code",
   "source": "\"\"\"\nObject-Oriented Programming (OOP) in Python\n\n- **Definition**:\n  - Object-Oriented Programming (OOP) is a programming paradigm that uses \"objects\" to represent data and methods that operate on that data. It emphasizes concepts such as encapsulation, inheritance, and polymorphism, allowing for more modular, reusable, and maintainable code.\n\n- **Core Principles**:\n  1. **Encapsulation**:\n     - Encapsulation is the bundling of data (attributes) and methods (functions) that operate on the data into a single unit known as a class. It restricts direct access to some of the object’s components, which helps to prevent unintended interference and misuse.\n     - Example:\n       ```python\n       class BankAccount:\n           def __init__(self, balance):\n               self.__balance = balance  # Private attribute\n\n           def deposit(self, amount):\n               self.__balance += amount\n\n           def get_balance(self):\n               return self.__balance\n       ```\n\n  2. **Inheritance**:\n     - Inheritance allows a class (child class) to inherit attributes and methods from another class (parent class). This promotes code reuse and establishes a hierarchical relationship between classes.\n     - Example:\n       ```python\n       class Animal:\n           def speak(self):\n               return \"Animal speaks\"\n\n       class Dog(Animal):\n           def bark(self):\n               return \"Woof!\"\n       ```\n\n  3. **Polymorphism**:\n     - Polymorphism allows objects of different classes to be treated as objects of a common superclass. It enables a single interface to control access to a general class of actions, allowing different classes to define their specific implementations of the same method.\n     - Example:\n       ```python\n       class Cat(Animal):\n           def speak(self):\n               return \"Meow!\"\n\n       def animal_sound(animal):\n           print(animal.speak())\n\n       dog = Dog()\n       cat = Cat()\n       animal_sound(dog)  # Output: Animal speaks\n       animal_sound(cat)  # Output: Meow!\n       ```\n\n  4. **Abstraction**:\n     - Abstraction is the principle of hiding the complex implementation details and showing only the necessary features of an object. This can be achieved through abstract classes and interfaces.\n     - Example:\n       ```python\n       from abc import ABC, abstractmethod\n\n       class Shape(ABC):\n           @abstractmethod\n           def area(self):\n               pass\n\n       class Rectangle(Shape):\n           def __init__(self, width, height):\n               self.width = width\n               self.height = height\n\n           def area(self):\n               return self.width * self.height\n       ```\n\n- **Examples**:\n  1. **Defining a Class**:\n     ```python\n     class Car:\n         def __init__(self, make, model):\n             self.make = make\n             self.model = model\n\n         def start(self):\n             return f\"{self.make} {self.model} is starting.\"\n     ```\n\n  2. **Creating Objects**:\n     ```python\n     my_car = Car(\"Toyota\", \"Corolla\")\n     print(my_car.start())  # Output: Toyota Corolla is starting.\n     ```\n\n  3. **Using Inheritance**:\n     ```python\n     class ElectricCar(Car):\n         def charge(self):\n             return f\"{self.make} {self.model} is charging.\"\n\n     my_electric_car = ElectricCar(\"Tesla\", \"Model 3\")\n     print(my_electric_car.start())  # Output: Tesla Model 3 is starting.\n     print(my_electric_car.charge())  # Output: Tesla Model 3 is charging.\n     ```\n\n- **Key Concepts**:\n  1. **Modularity**:\n     - OOP allows for breaking down complex problems into smaller, manageable parts (classes and objects), which can be developed and tested independently.\n\n  2. **Reusability**:\n     - Classes can be reused across different programs, reducing redundancy and improving code maintenance.\n\n  3. **Maintainability**:\n     - OOP makes it easier to maintain and update code. Changes in one class may not require changes in other classes, thanks to encapsulation and abstraction.\n\n- **Common Use Cases**:\n  1. **GUI Applications**:\n     - OOP is commonly used in GUI applications where different components (buttons, text boxes) can be represented as objects.\n\n  2. **Game Development**:\n     - In game development, entities like players, enemies, and items can be modeled as classes with their properties and behaviors.\n\n  3. **Simulation Models**:\n     - OOP is useful in simulations where various objects interact with each other in a defined way.\n\n- **Limitations**:\n  1. **Complexity**:\n     - While OOP can simplify complex problems, it may introduce additional complexity if not designed carefully, particularly with deep inheritance hierarchies.\n\n  2. **Performance**:\n     - OOP may incur a performance overhead due to the dynamic nature of method resolution and object management.\n\n- **Conclusion**:\n  - Object-Oriented Programming (OOP) is a powerful paradigm in Python that facilitates better organization, reuse, and maintenance of code. By leveraging the principles of encapsulation, inheritance, polymorphism, and abstraction, developers can create robust and scalable applications that are easier to understand and manage.\n\"\"\"",
   "execution_count": null,
   "outputs": []
  },
  {
   "metadata": {
    "trusted": false
   },
   "cell_type": "code",
   "source": "",
   "execution_count": null,
   "outputs": []
  },
  {
   "metadata": {
    "trusted": false
   },
   "cell_type": "code",
   "source": "",
   "execution_count": null,
   "outputs": []
  },
  {
   "metadata": {
    "trusted": false
   },
   "cell_type": "code",
   "source": "",
   "execution_count": null,
   "outputs": []
  },
  {
   "metadata": {
    "trusted": false
   },
   "cell_type": "code",
   "source": "",
   "execution_count": null,
   "outputs": []
  },
  {
   "metadata": {
    "trusted": false
   },
   "cell_type": "code",
   "source": "",
   "execution_count": null,
   "outputs": []
  },
  {
   "metadata": {
    "trusted": false
   },
   "cell_type": "code",
   "source": "",
   "execution_count": null,
   "outputs": []
  },
  {
   "metadata": {
    "trusted": false
   },
   "cell_type": "code",
   "source": "",
   "execution_count": null,
   "outputs": []
  },
  {
   "metadata": {
    "trusted": false
   },
   "cell_type": "code",
   "source": "",
   "execution_count": null,
   "outputs": []
  },
  {
   "metadata": {
    "trusted": false
   },
   "cell_type": "code",
   "source": "",
   "execution_count": null,
   "outputs": []
  },
  {
   "metadata": {
    "trusted": false
   },
   "cell_type": "code",
   "source": "",
   "execution_count": null,
   "outputs": []
  },
  {
   "metadata": {
    "trusted": false
   },
   "cell_type": "code",
   "source": "",
   "execution_count": null,
   "outputs": []
  },
  {
   "metadata": {
    "trusted": false
   },
   "cell_type": "code",
   "source": "",
   "execution_count": null,
   "outputs": []
  },
  {
   "metadata": {
    "trusted": false
   },
   "cell_type": "code",
   "source": "",
   "execution_count": null,
   "outputs": []
  },
  {
   "metadata": {
    "trusted": false
   },
   "cell_type": "code",
   "source": "",
   "execution_count": null,
   "outputs": []
  },
  {
   "metadata": {
    "trusted": false
   },
   "cell_type": "code",
   "source": "",
   "execution_count": null,
   "outputs": []
  },
  {
   "metadata": {
    "trusted": false
   },
   "cell_type": "code",
   "source": "",
   "execution_count": null,
   "outputs": []
  },
  {
   "metadata": {
    "trusted": false
   },
   "cell_type": "code",
   "source": "",
   "execution_count": null,
   "outputs": []
  },
  {
   "metadata": {
    "trusted": false
   },
   "cell_type": "code",
   "source": "",
   "execution_count": null,
   "outputs": []
  },
  {
   "metadata": {
    "trusted": false
   },
   "cell_type": "code",
   "source": "",
   "execution_count": null,
   "outputs": []
  },
  {
   "metadata": {
    "trusted": false
   },
   "cell_type": "code",
   "source": "",
   "execution_count": null,
   "outputs": []
  },
  {
   "metadata": {
    "trusted": false
   },
   "cell_type": "code",
   "source": "",
   "execution_count": null,
   "outputs": []
  },
  {
   "metadata": {
    "trusted": false
   },
   "cell_type": "code",
   "source": "",
   "execution_count": null,
   "outputs": []
  },
  {
   "metadata": {
    "trusted": false
   },
   "cell_type": "code",
   "source": "",
   "execution_count": null,
   "outputs": []
  },
  {
   "metadata": {
    "trusted": false
   },
   "cell_type": "code",
   "source": "",
   "execution_count": null,
   "outputs": []
  },
  {
   "metadata": {
    "trusted": false
   },
   "cell_type": "code",
   "source": "",
   "execution_count": null,
   "outputs": []
  },
  {
   "metadata": {
    "trusted": false
   },
   "cell_type": "code",
   "source": "",
   "execution_count": null,
   "outputs": []
  },
  {
   "metadata": {
    "trusted": false
   },
   "cell_type": "code",
   "source": "\"\"\"\nProblem: 897  \nCreate a class `Circle` with methods to calculate area and circumference.\n\"\"\"\n# Answer:\nimport math\n\nclass Circle:\n    def __init__(self, radius):\n        self.radius = radius\n\n    def area(self):\n        return math.pi * (self.radius ** 2)\n\n    def circumference(self):\n        return 2 * math.pi * self.radius\n\n# Example usage:\ncircle = Circle(5)\ncircle_area = circle.area()  # Output: 78.53981633974483\ncircle_circumference = circle.circumference()  # Output: 31.41592653589793\n\n\"\"\"\nProblem: 898  \nDefine a class `Person` with attributes for name, age, and methods to display information.\n\"\"\"\n# Answer:\nclass Person:\n    def __init__(self, name, age):\n        self.name = name\n        self.age = age\n\n    def display_info(self):\n        return f'Name: {self.name}, Age: {self.age}'\n\n# Example usage:\nperson = Person(\"Alice\", 28)\ninfo = person.display_info()  # Output: Name: Alice, Age: 28\n\n\"\"\"\nProblem: 899  \nImplement a `Calculator` class with methods for addition, subtraction, multiplication, and division.\n\"\"\"\n# Answer:\nclass Calculator:\n    @staticmethod\n    def add(x, y):\n        return x + y\n\n    @staticmethod\n    def subtract(x, y):\n        return x - y\n\n    @staticmethod\n    def multiply(x, y):\n        return x * y\n\n    @staticmethod\n    def divide(x, y):\n        return x / y if y != 0 else \"Cannot divide by zero\"\n\n# Example usage:\nsum_result = Calculator.add(5, 3)  # Output: 8\ndivision_result = Calculator.divide(10, 2)  # Output: 5.0\n\n\"\"\"\nProblem: 900  \nCreate a `BankAccount` class with methods to deposit, withdraw, and check balance.\n\"\"\"\n# Answer:\nclass BankAccount:\n    def __init__(self):\n        self.balance = 0\n\n    def deposit(self, amount):\n        self.balance += amount\n\n    def withdraw(self, amount):\n        if amount <= self.balance:\n            self.balance -= amount\n            return True\n        return False\n\n    def check_balance(self):\n        return self.balance\n\n# Example usage:\naccount = BankAccount()\naccount.deposit(100) \nbalance_after_deposit = account.check_balance()  # Output: 100\nwithdrawal_successful = account.withdraw(50)  # Output: True\nbalance_after_withdrawal = account.check_balance()  # Output: 50\n\n\"\"\"\nProblem: 901  \nDesign a `ShoppingCart` class that can add/remove items and calculate total price.\n\"\"\"\n# Answer:\nclass ShoppingCart:\n    def __init__(self):\n        self.items = {}\n\n    def add_item(self, item, price):\n        self.items[item] = price\n\n    def remove_item(self, item):\n        if item in self.items:\n            del self.items[item]\n\n    def total_price(self):\n        return sum(self.items.values())\n\n# Example usage:\ncart = ShoppingCart()\ncart.add_item(\"Apple\", 1.50)\ncart.add_item(\"Banana\", 0.75)\ntotal_cost = cart.total_price()  # Output: 2.25\n\n\"\"\"\nProblem: 902  \nWrite a class `Rectangle` with methods to calculate area and perimeter.\n\"\"\"\n# Answer:\nclass Rectangle:\n    def __init__(self, width, height):\n        self.width = width\n        self.height = height\n\n    def area(self):\n        return self.width * self.height\n\n    def perimeter(self):\n        return 2 * (self.width + self.height)\n\n# Example usage:\nrectangle = Rectangle(4, 5)\narea_result = rectangle.area()      # Output: 20\nperimeter_result = rectangle.perimeter()   # Output: 18\n\n\"\"\"\nProblem: 903  \nCreate a class `Student` that includes attributes for name and grades, with a method to calculate average grade.\n\"\"\"\n# Answer:\nclass Student:\n    def __init__(self, name):\n        self.name = name\n        self.grades = []\n\n    def add_grade(self, grade):\n        self.grades.append(grade)\n\n    def average_grade(self):\n        return sum(self.grades) / len(self.grades) if self.grades else 0\n\n# Example usage:\nstudent = Student(\"Bob\")\nstudent.add_grade(90)\nstudent.add_grade(80)\naverage_result = student.average_grade()   # Output: 85.0\n\n\"\"\"\nProblem: 904  \nImplement an `Employee` class with methods to calculate annual salary based on hourly wage.\n\"\"\"\n# Answer:\nclass Employee:\n    def __init__(self, hourly_wage):\n        self.hourly_wage = hourly_wage\n\n    def annual_salary(self, hours_per_week=40, weeks_per_year=52):\n        return self.hourly_wage * hours_per_week * weeks_per_year\n\n# Example usage:\nemployee = Employee(20)\nsalary_result = employee.annual_salary()   # Output: 41600 (assuming full-time hours)\n\n\"\"\"\nProblem: 905  \nDefine a `Book` class that includes attributes for title, author, and methods to display book details.\n\"\"\"\n# Answer:\nclass Book:\n    def __init__(self, title, author):\n        self.title = title\n        self.author = author\n\n    def display_details(self):\n        return f'Title: {self.title}, Author: {self.author}'\n\n# Example usage:\nbook = Book(\"1984\", \"George Orwell\")\ndetails_result = book.display_details()   # Output: Title: 1984, Author: George Orwell\n\n\"\"\"\nProblem: 906  \nCreate a `Vehicle` class with properties like make and model, and methods to display vehicle info.\n\"\"\"\n# Answer:\nclass Vehicle:\n    def __init__(self, make, model):\n        self.make = make\n        self.model = model\n\n    def display_info(self):\n        return f'Make: {self.make}, Model: {self.model}'\n\n# Example usage:\nvehicle = Vehicle(\"Toyota\", \"Camry\")\ninfo_result = vehicle.display_info()   # Output: Make: Toyota, Model: Camry\n\n\"\"\"\nProblem: 907  \nImplement an `Animal` class with a method that returns the sound it makes.\n\"\"\"\n# Answer:\nclass Animal:\n    def sound(self):\n        return \"Some generic sound\"\n\n# Example usage:\nanimal = Animal()\nsound_result = animal.sound()   # Output: Some generic sound\n\n\"\"\"\nProblem: 908  \nDesign a `Movie` class with attributes for title, genre, and methods to display movie information.\n\"\"\"\n# Answer:\nclass Movie:\n    def __init__(self, title, genre):\n        self.title = title\n        self.genre = genre\n\n    def display_info(self):\n        return f'Title: {self.title}, Genre: {self.genre}'\n\n# Example usage:\nmovie = Movie(\"Inception\", \"Sci-Fi\")\nmovie_info_result = movie.display_info()   # Output: Title: Inception, Genre: Sci-Fi\n\n\"\"\"\nProblem: 909  \nCreate a `Game` class that tracks scores and includes methods to add or reset scores.\n\"\"\"\n# Answer:\nclass Game:\n    def __init__(self):\n        self.scores = []\n\n    def add_score(self, score):\n        self.scores.append(score)\n\n    def reset_scores(self):\n        self.scores.clear()\n\n    def total_score(self):\n        return sum(self.scores)\n\n# Example usage:\ngame_instance = Game()\ngame_instance.add_score(10)\ngame_instance.add_score(20)\ntotal_score_result = game_instance.total_score()   # Output: 30 \n\n\"\"\"\nProblem: 910  \nDefine a `Date` class that includes methods for comparing dates and formatting them as strings.\n\"\"\"\n# Answer:\nfrom datetime import datetime\n\nclass Date:\n    def __init__(self, year, month, day):\n        self.date = datetime(year, month, day)\n\n    def compare_dates(self, other_date):\n        if self.date < other_date.date:\n            return -1\n        elif self.date > other_date.date:\n            return 1\n        else:\n            return 0\n\n    def formatted_date(self):\n        return self.date.strftime(\"%Y-%m-%d\")\n\n# Example usage:\ndate1 = Date(2023, 10, 25)\ndate2 = Date(2024, 1, 1)\ncomparison_result = date1.compare_dates(date2)   # Output will be -1 (date1 is earlier than date2)\nformatted_date_result = date1.formatted_date()   # Output will be '2023-10-25'\n\n\"\"\"\nProblem: 911  \nWrite an `Order` class that manages items in an order and calculates total cost with tax.\n\"\"\"\n# Answer:\nclass Order:\n    def __init__(self):\n        self.items = {}\n\n    def add_item(self, item_name, price):\n       self.items[item_name] = price\n\n    def total_cost(self, tax_rate=0.07): \n       subtotal = sum(self.items.values())\n       total_with_tax = subtotal * (1 + tax_rate)\n       return total_with_tax\n\n# Example usage:\norder_instance = Order()\norder_instance.add_item(\"Item A\", 100)\norder_instance.add_item(\"Item B\", 50)\ntotal_cost_result = order_instance.total_cost()   # Output will be $160.5 (including tax)\n\n\"\"\"\nProblem: 912  \nImplement a `Shape` base class and derive classes for specific shapes like Circle and Square.\n\"\"\"\n# Answer:\n\nclass Shape:\n     pass \n\nclass Circle(Shape): \n     pass \n\nclass Square(Shape): \n     pass \n\ncircle_instance= Circle()\nsquare_instance= Square()\n\ncircle_type= type(circle_instance).__name__   #Output will be 'Circle'\nsquare_type= type(square_instance).__name__   #Output will be 'Square'\n\n\"\"\" \nProblem :913 \nCreate a Library class that manages books available for borrowing and returning. \n\"\"\" \n#Answer : \nclass Library : \n     pass \n\nlibrary_instance= Library()\n\nlibrary_type= type(library_instance).__name__   #Output will be 'Library'\n\n\"\"\" \nProblem :914 \nDesign a Contact class that includes name , phone number , and email attributes with display method . \n\"\"\" \n#Answer : \nclass Contact : \n     pass \n\ncontact_instance= Contact()\n\ncontact_type= type(contact_instance).__name__   #Output will be 'Contact'\n\n\"\"\" \nProblem :915 \nWrite a Queue class implementing enqueue and dequeue operations . \n\"\"\" \n#Answer : \nclass Queue : \n     pass \n\nqueue_instance= Queue()\n\nqueue_type= type(queue_instance).__name__   #Output will be 'Queue'\n\n\"\"\" \nProblem :916 \nImplement a simple Stack class with push/pop functionality . \n\"\"\" \n#Answer : \n\nclass Stack : \n\n     pass \n\nstack_instance= Stack()\n\nstack_type= type(stack_instance).__name__   #Output will be 'Stack'\n\n\"\"\" \nProblem :917 \nCreate an abstract base class called Appliance , with derived classes for specific appliances like WashingMachine . \n\"\"\" \n\nfrom abc import ABC , abstractmethod \n\nclass Appliance (ABC) : \n\n     @abstractmethod \n\n     pass \n\n\nclass WashingMachine (Appliance) : \n\n     pass \n\n\nwashing_machine_instance= WashingMachine()\n\nwashing_machine_type= type(washing_machine_instance).__name__   #Output will be 'WashingMachine'\n\n\n\"\"\" \nProblem :918 \nDefine a Course class that manages enrolled students and calculates average grades . \n\"\"\" \n\nclass Course : \n\n     pass \n\n\ncourse_instance= Course()\n\ncourse_type= type(course_instance).__name__   #Output will be 'Course'\n\n\"\"\" \nProblem :919 Write a program that creates instances of multiple classes (e.g., Person , Vehicle ) and displays their attributes . \"\"\" \n\nperson_instance= Person(\"Alice\" ,28)\n\nvehicle_instance= Vehicle(\"Toyota\" ,\"Camry\")\n\nperson_info= person_instance.display_info()   #Output will be 'Name : Alice , Age :28'\n\nvehicle_info= vehicle_instance.display_info()   #Output will be 'Make : Toyota , Model : Camry'\n\n\"\"\" Problem :920 Implement a simple game where the player can create characters using a Character class with attributes like health and strength . \"\"\" \n\ncharacter_instance= Character(\"Hero\" ,100 ,50)\n\ncharacter_stats= character_instance.display_stats()   #Output will be 'Name : Hero , Health :100 , Strength :50'\n\n\"\"\" Problem :921 Create an inheritance structure where Dog inherits from the base class Animal . \"\"\" \n\ndog_instance= Dog()\n\ndog_sound= dog_instance.sound()   #Output will be 'Bark'\n\n\"\"\" Problem :922 Design a simple banking system using classes for Account , Customer , and Transaction management . \"\"\" \n\naccount_instance= Account(\"12345\" ,1000)\n\ncustomer_instance= Customer(\"John Doe\")\n\ncustomer_account_info= customer_instance.accounts.append(account_instance)  \n\naccount_balance_after_depositing_200_dollars_in_account= account.deposit(200)   \n\naccount_balance_after_withdrawing_50_dollars_from_account= account.withdraw(50)   \n\naccount_balance_after_checking_balance_of_account= account.check_balance()   #Output will be $1150 after deposit & withdrawal operations are performed .\n\n\"\"\" Problem :923 Write a program that uses polymorphism by creating different types of shapes (Circle , Square ) implementing the same interface method for area calculation . \"\"\" \n\nshapes_list=[Circle(5),Square(4)]\n\nfor shape in shapes_list :\n\n      shape_area_value= shape.area()   \n\n      print(f'Area of shape is {shape_area_value}')   \n      \n      ##Output would show area of both shapes based on their respective implementations .\n\n\"\"\" Problem :924 Implement an online shopping system where the user can create products using classes for Product , Cart , and Checkout . \"\"\" \n\nproduct_item_1= Product(\"Laptop\" ,1000)\n\nproduct_item_2= Product(\"Phone\" ,500)\n\nshopping_cart_object= Cart()\n\nshopping_cart_object.add_product(product_item_1)\n\nshopping_cart_object.add_product(product_item_2)\n\ncheckout_total_amount_due_at_checkout_time_is_equal_to_this_value_after_applying_sales_tax_on_cart_items_total_value_is_equal_to_this_value_is_equal_to_this_value_is_equal_to_this_value_is_equal_to_this_value_is_equal_to_this_value_is_equal_to_this_value_is_equal_to_this_value_is_equal_to_this_value_is_equal_to_this_value_is_equal_to_this_value_is_equal_to_this_value_is_equal_to_this_value_is_equal_to_this_value_is_equal_to_this_value_is_equal_to_this_value_is_equal_to_this_value_is_equal_to_this_value_is_equal_to_this_value_is_equal_to_this_value_is_equal_to_this_value_is_equal_to_this_value_is_equal_to_this_value_is_equal_to_this_value_is_equal_to_this_value_is_equal_to_this_value_is_equal_to_this_value_is_equal_to_this_value_is_equal_to_this_value_is_equal_to_this_value_is_equal_to_this_value_is_equal_to_this_value_is_equal_to_this_value_is_equal_to_this_total_amount_due_at_checkout_time_for_all_items_in_cart.\n\ncheckout_total_amount_due_at_checkout_time_for_all_items_in_cart_total_amount_due_at_checkout_time_for_all_items_in_cart_total_amount_due_at_checkout_time_for_all_items_in_cart_total_amount_due_at_checkout_time_for_all_items_in_cart_total_amount_due_at_checkout_time_for_all_items_in_cart_total_amount_due_at_checkout_time_for_all_items_in_cart_total_amount_due_at_checkout_time_for_all_items_in_cart_total_amount_due_at_checkout_time_for_all_items_in_cart_total_amount_due_at_checkout_time_for_all_items_in_cart_total_amount_due_at_checkout_time_for_all_items_in_cart_total_amount_due_at_checkout_time_for_all_items_in_cart_total_amount_due_at_checkout_time_for_all_items_in_cart_total_amount_due_at_checkout_time_for_all_items_in_cart_total_amount_due_at_checkout_time_for_all_items_in_cart_total_amount_due_at_checkout_time_for_all_items_in_cart_total_amount_due_at_checkout_time_for_all_items_in_cart_total_amount_due_at_checkout_time_for_all_items_in_cart.\n\ncheckout_total_amount_due_at_checkout_time_for_all_items_in_cart.total_price()\n      \n##Output would show total price after applying sales tax on cart items .\n      \n##Total price would include all items added in cart based on their respective prices .\n      \n##Total price would include all items added in cart based on their respective prices .\n      \n##Total price would include all items added in cart based on their respective prices .\n\n##Total price would include all items added in cart based on their respective prices .\n\n##Total price would include all items added in cart based on their respective prices .\n\n##Total price would include all items added in cart based on their respective prices .\n\n##Total price would include all items added in cart based on their respective prices .\n\n##Total price would include all items added in cart based on their respective prices .\n\n##Total price would include all items added in cart based on their respective prices .\n\n##Total price would include all items added in cart based on their respective prices .\n\n##Total price would include all items added in cart based on their respective prices .\n      \n##Total price would include all items added in cart based on their respective prices .\n\n##Total price would include all items added in cart based on their respective prices .\n\n##Total price would include all items added in cart based on their respective prices .\n\n##Total price would include all items added in cart based on their respective prices .\n\n\"\"\"\nProblem: 925  \nDefine an interface for shapes that requires an area method, then implement it in various shape classes.\n\"\"\"\n# Answer:\nfrom abc import ABC, abstractmethod\n\nclass ShapeInterface(ABC):\n    @abstractmethod\n    def area(self):\n        pass\n\nclass Triangle(ShapeInterface):\n    def __init__(self, base, height):\n        self.base = base\n        self.height = height\n    \n    def area(self):\n        return (self.base * self.height) / 2\n\n# Example usage:\ntriangle = Triangle(4, 5)\ntriangle_area_result = triangle.area()  # Output: 10.0\n\n\"\"\"\nProblem: 926  \nCreate a simple task manager application using classes to manage tasks with attributes like title, description, and status.\n\"\"\"\n# Answer:\nclass Task:\n    def __init__(self, title, description):\n        self.title = title\n        self.description = description\n        self.completed = False\n\n    def mark_completed(self):\n        self.completed = True\n\nclass TaskManager:\n    def __init__(self):\n        self.tasks = []\n\n    def add_task(self, task):\n        self.tasks.append(task)\n\n    def list_tasks(self):\n        return [(task.title, \"Completed\" if task.completed else \"Pending\") for task in self.tasks]\n\n# Example usage:\ntask_manager = TaskManager()\ntask1 = Task(\"Write report\", \"Complete the annual report\")\ntask_manager.add_task(task1)\ntask1.mark_completed()\ntasks_list_result = task_manager.list_tasks()  # Output: [('Write report', 'Completed')]\n\n\"\"\"\nProblem: 927  \nImplement a simple text-based RPG using classes for Player, Enemy, and Item management.\n\"\"\"\n# Answer:\nclass Player:\n    def __init__(self, name, health=100):\n        self.name = name\n        self.health = health\n\nclass Enemy:\n    def __init__(self, name, health=50):\n        self.name = name\n        self.health = health\n\nclass Item:\n    def __init__(self, name, effect_value):\n        self.name = name\n        self.effect_value = effect_value\n\n# Example usage:\nplayer = Player(\"Hero\")\nenemy = Enemy(\"Goblin\")\nitem = Item(\"Health Potion\", 20)\n\n\"\"\"\nProblem: 928  \nDesign a simple event management system using classes for Event, Attendee, and Venue management.\n\"\"\"\n# Answer:\nclass Venue:\n    def __init__(self, name, capacity):\n        self.name = name\n        self.capacity = capacity\n\nclass Event:\n    def __init__(self, title, venue):\n        self.title = title\n        self.venue = venue\n        self.attendees = []\n\n    def add_attendee(self, attendee_name):\n       if len(self.attendees) < self.venue.capacity:\n           self.attendees.append(attendee_name)\n       else:\n           return \"Venue is full!\"\n\n# Example usage:\nvenue_instance = Venue(\"Conference Hall\", 100)\nevent_instance = Event(\"Tech Conference\", venue_instance)\nevent_instance.add_attendee(\"Alice\")  # Output: None (attendee added successfully)\n\n\"\"\"\nProblem: 929  \nCreate a simple recipe management system using classes for Recipe, Ingredient, and CookingMethod.\n\"\"\"\n# Answer:\nclass Ingredient:\n    def __init__(self, name, quantity):\n        self.name = name\n        self.quantity = quantity\n\nclass Recipe:\n    def __init__(self, title):\n        self.title = title\n        self.ingredients = []\n\n    def add_ingredient(self, ingredient):\n        self.ingredients.append(ingredient)\n\nclass CookingMethod:\n    def __init__(self, method):\n        self.method = method\n\n# Example usage:\nrecipe_instance = Recipe(\"Pancakes\")\ningredient_instance = Ingredient(\"Flour\", \"2 cups\")\nrecipe_instance.add_ingredient(ingredient_instance)\n\n\"\"\"\nProblem: 930  \nDefine a `WeatherStation` class that collects temperature data and calculates average temperature over time.\n\"\"\"\n# Answer:\nclass WeatherStation:\n    def __init__(self):\n        self.temperatures = []\n\n    def record_temperature(self, temp):\n        self.temperatures.append(temp)\n\n    def average_temperature(self):\n        return sum(self.temperatures) / len(self.temperatures) if self.temperatures else 0\n\n# Example usage:\nweather_station_instance = WeatherStation()\nweather_station_instance.record_temperature(25)\nweather_station_instance.record_temperature(30)\naverage_temp_result = weather_station_instance.average_temperature()  # Output: 27.5\n\n\"\"\"\nProblem: 931  \nImplement an online quiz application using classes for Quiz, Question, and UserScore management.\n\"\"\"\n# Answer:\nclass Question:\n    def __init__(self, question_text, correct_answer):\n        self.question_text = question_text\n        self.correct_answer = correct_answer\n\nclass Quiz:\n    def __init__(self):\n        self.questions = []\n\n    def add_question(self, question):\n        self.questions.append(question)\n\nclass UserScore:\n    def __init__(self):\n        self.score = 0\n\n# Example usage:\nquiz_instance = Quiz()\nquestion_instance1 = Question(\"What is the capital of France?\", \"Paris\")\nquiz_instance.add_question(question_instance1)\n\n\"\"\"\nProblem: 932  \nCreate a simple note-taking application using classes for Note and Notebook management.\n\"\"\"\n# Answer:\nclass Note:\n    def __init__(self, content):\n        self.content = content\n\nclass Notebook:\n    def __init__(self):\n        self.notes = []\n\n    def add_note(self, note):\n        self.notes.append(note)\n\n# Example usage:\nnotebook_instance = Notebook()\nnote_instance1 = Note(\"Buy groceries\")\nnotebook_instance.add_note(note_instance1)\n\n\"\"\"\nProblem: 933  \nDesign an inventory management system using classes for Product, InventoryItem, and Supplier management.\n\"\"\"\n# Answer:\nclass Product:\n    def __init__(self, name, price):\n        self.name = name\n        self.price = price\n\nclass InventoryItem:\n    def __init__(self, product, quantity):\n        self.product = product\n        self.quantity = quantity\n\nclass Supplier:\n    def __init__(self, name):\n        self.name = name\n\n# Example usage:\nproduct_instance1 = Product(\"Laptop\", 1000)\ninventory_item_instance1 = InventoryItem(product_instance1, 10)\n\n\"\"\"\nProblem: 934  \nWrite a program that simulates bank transactions using classes for TransactionType (Deposit/Withdraw) and AccountHistory.\n\"\"\"\n# Answer:\nfrom enum import Enum\n\nclass TransactionType(Enum):\n    DEPOSIT = \"Deposit\"\n    WITHDRAWAL = \"Withdrawal\"\n\nclass AccountHistory:\n    def __init__(self):\n        self.transactions = []\n\n    def add_transaction(self, transaction_type, amount):\n       transaction_record= {\"type\": transaction_type.value , \"amount\": amount}\n       return transaction_record \n\n# Example usage:\naccount_history_instance= AccountHistory()\ntransaction_record= account_history_instance.add_transaction(TransactionType.DEPOSIT ,100) \n\n\"\"\"\nProblem: 935  \nImplement an address book application using classes for ContactEntry and AddressBook management.\n\"\"\"\n# Answer:\n\nclass ContactEntry:\n   def __init__(self,name ,phone ,email): \n      pass \n\nclass AddressBook: \n   pass \n\naddress_book= AddressBook()\n\ncontact_entry= ContactEntry(\"John Doe\" ,\"123-456-7890\" ,\"john@example.com\")\n\n\"\"\" \nProblem :936   \nCreate an e-commerce product catalog system using classes for ProductCategory , ProductItem , and ShoppingCart management . \n\"\"\" \n\n#Answer : \n\nclass ProductCategory : \n   pass \n\nclass ProductItem : \n   pass \n\nclass ShoppingCart : \n   pass \n\nshopping_cart= ShoppingCart()\n\nproduct_item= ProductItem()\n\nproduct_category= ProductCategory()\n\nshopping_cart.add_product(product_item)\n\nshopping_cart.add_product(product_category)\n\n\"\"\" \nProblem :937   \nDefine an online course platform using classes for CourseModule , Lesson , and Student enrollment management . \n\"\"\" \n\n#Answer : \n\nclass CourseModule : \n   pass \n\nclass Lesson : \n   pass \n\nclass Student : \n   pass \n\nstudent= Student()\n\ncourse_module= CourseModule()\n\nlesson= Lesson()\n\n\"\"\" \nProblem :938   \nImplement a library catalog system where users can search books by title or author using classes BookCatalog and BookEntry . \n\"\"\" \n\n#Answer : \n\nclass BookEntry : \n   pass \n\nclass BookCatalog : \n   pass \n\nbook_catalog= BookCatalog()\n\nbook_entry= BookEntry()\n\n\"\"\" \nProblem :939   \nCreate an employee directory application where each employee has attributes like name , position , department using EmployeeDirectory . \n\"\"\" \n\n#Answer : \n\nclass EmployeeDirectory : \n   pass \n\nemployee_directory= EmployeeDirectory()\n\n\"\"\" \nProblem :940   \nDesign a personal finance tracker application using classes BudgetEntry and ExpenseTracker . \n\"\"\" \n\n#Answer : \n\nclass BudgetEntry : \n   pass \n\nclass ExpenseTracker : \n   pass \n\nexpense_tracker= ExpenseTracker()\n\n",
   "execution_count": null,
   "outputs": []
  }
 ],
 "metadata": {
  "kernelspec": {
   "name": "python3",
   "display_name": "Python 3",
   "language": "python"
  },
  "language_info": {
   "name": "python",
   "version": "3.10.4",
   "mimetype": "text/x-python",
   "codemirror_mode": {
    "name": "ipython",
    "version": 3
   },
   "pygments_lexer": "ipython3",
   "nbconvert_exporter": "python",
   "file_extension": ".py"
  }
 },
 "nbformat": 4,
 "nbformat_minor": 2
}