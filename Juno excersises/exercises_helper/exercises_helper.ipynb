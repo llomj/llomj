{
 "cells": [
  {
   "metadata": {
    "trusted": false
   },
   "cell_type": "code",
   "source": "\"\"\"\n- **Definition**:\n  - A helper function is a smaller, often private function designed to perform a specific task or operation that supports the main function or logic of a program. Helper functions simplify complex tasks by breaking them down into manageable components, making code more readable and maintainable.\n\n- **Purpose**:\n  - The primary purpose of helper functions is to enhance code organization and modularity. They allow developers to reuse code, reduce redundancy, and isolate functionality within a program. This modular approach makes it easier to debug and test specific parts of a program without affecting the overall logic.\n\n- **Characteristics**:\n  - **Specificity**: Helper functions typically perform a narrow, well-defined task, unlike main functions that may handle broader operations.\n  - **Encapsulation**: They encapsulate functionality, allowing complex operations to be broken down into simpler steps.\n  - **Reusability**: Once defined, helper functions can be reused in multiple places within the same program, promoting code reuse.\n  - **Readability**: By breaking down code into smaller functions, the overall readability of the code improves, as each function can be understood independently.\n\n- **Common Use Cases**:\n  - **Data Processing**: Helper functions can be used to perform common data transformations or calculations that are needed in various places throughout an application.\n    - Example: A helper function to convert temperature from Celsius to Fahrenheit could be reused in different parts of a weather application.\n  \n  - **Validation**: They can validate input data, ensuring that only correctly formatted data is processed.\n    - Example: A function that checks if a given string is a valid email format could be a helper function used in user registration logic.\n\n  - **Formatting**: Helper functions can format outputs consistently across different functions or modules.\n    - Example: A function that formats dates in a specific way can be used in multiple places throughout an application.\n\n- **Example of a Helper Function**:\n  ```python\n  def calculate_area(length, width):\n      return length * width\n\n  def display_area(length, width):\n      area = calculate_area(length, width)\n      print(f\"The area of the rectangle is: {area} square units.\")",
   "execution_count": null,
   "outputs": []
  },
  {
   "metadata": {
    "trusted": false
   },
   "cell_type": "code",
   "source": "",
   "execution_count": null,
   "outputs": []
  },
  {
   "metadata": {
    "trusted": false
   },
   "cell_type": "code",
   "source": "",
   "execution_count": null,
   "outputs": []
  },
  {
   "metadata": {
    "trusted": false
   },
   "cell_type": "code",
   "source": "",
   "execution_count": null,
   "outputs": []
  },
  {
   "metadata": {
    "trusted": false
   },
   "cell_type": "code",
   "source": "",
   "execution_count": null,
   "outputs": []
  },
  {
   "metadata": {
    "trusted": false
   },
   "cell_type": "code",
   "source": "",
   "execution_count": null,
   "outputs": []
  },
  {
   "metadata": {
    "trusted": false
   },
   "cell_type": "code",
   "source": "",
   "execution_count": null,
   "outputs": []
  },
  {
   "metadata": {
    "trusted": false
   },
   "cell_type": "code",
   "source": "",
   "execution_count": null,
   "outputs": []
  },
  {
   "metadata": {
    "trusted": false
   },
   "cell_type": "code",
   "source": "",
   "execution_count": null,
   "outputs": []
  },
  {
   "metadata": {
    "trusted": false
   },
   "cell_type": "code",
   "source": "",
   "execution_count": null,
   "outputs": []
  },
  {
   "metadata": {
    "trusted": false
   },
   "cell_type": "code",
   "source": "",
   "execution_count": null,
   "outputs": []
  },
  {
   "metadata": {
    "trusted": false
   },
   "cell_type": "code",
   "source": "",
   "execution_count": null,
   "outputs": []
  },
  {
   "metadata": {
    "trusted": false
   },
   "cell_type": "code",
   "source": "",
   "execution_count": null,
   "outputs": []
  },
  {
   "metadata": {
    "trusted": false
   },
   "cell_type": "code",
   "source": "",
   "execution_count": null,
   "outputs": []
  },
  {
   "metadata": {
    "trusted": false
   },
   "cell_type": "code",
   "source": "",
   "execution_count": null,
   "outputs": []
  },
  {
   "metadata": {
    "trusted": false
   },
   "cell_type": "code",
   "source": "",
   "execution_count": null,
   "outputs": []
  },
  {
   "metadata": {
    "trusted": false
   },
   "cell_type": "code",
   "source": "",
   "execution_count": null,
   "outputs": []
  },
  {
   "metadata": {
    "trusted": false
   },
   "cell_type": "code",
   "source": "",
   "execution_count": null,
   "outputs": []
  },
  {
   "metadata": {
    "trusted": false
   },
   "cell_type": "code",
   "source": "",
   "execution_count": null,
   "outputs": []
  },
  {
   "metadata": {
    "trusted": false
   },
   "cell_type": "code",
   "source": "",
   "execution_count": null,
   "outputs": []
  },
  {
   "metadata": {
    "trusted": false
   },
   "cell_type": "code",
   "source": "",
   "execution_count": null,
   "outputs": []
  },
  {
   "metadata": {
    "trusted": false
   },
   "cell_type": "code",
   "source": "",
   "execution_count": null,
   "outputs": []
  },
  {
   "metadata": {
    "trusted": false
   },
   "cell_type": "code",
   "source": "",
   "execution_count": null,
   "outputs": []
  },
  {
   "metadata": {
    "trusted": false
   },
   "cell_type": "code",
   "source": "",
   "execution_count": null,
   "outputs": []
  },
  {
   "metadata": {
    "trusted": false
   },
   "cell_type": "code",
   "source": "",
   "execution_count": null,
   "outputs": []
  },
  {
   "metadata": {
    "trusted": false
   },
   "cell_type": "code",
   "source": "",
   "execution_count": null,
   "outputs": []
  },
  {
   "metadata": {
    "trusted": false
   },
   "cell_type": "code",
   "source": "",
   "execution_count": null,
   "outputs": []
  },
  {
   "metadata": {
    "trusted": false
   },
   "cell_type": "code",
   "source": "",
   "execution_count": null,
   "outputs": []
  },
  {
   "metadata": {
    "trusted": false
   },
   "cell_type": "code",
   "source": "",
   "execution_count": null,
   "outputs": []
  },
  {
   "metadata": {
    "trusted": false
   },
   "cell_type": "code",
   "source": "",
   "execution_count": null,
   "outputs": []
  },
  {
   "metadata": {
    "trusted": false
   },
   "cell_type": "code",
   "source": "",
   "execution_count": null,
   "outputs": []
  },
  {
   "metadata": {
    "trusted": false
   },
   "cell_type": "code",
   "source": "",
   "execution_count": null,
   "outputs": []
  },
  {
   "metadata": {
    "trusted": false
   },
   "cell_type": "code",
   "source": "",
   "execution_count": null,
   "outputs": []
  },
  {
   "metadata": {
    "trusted": false
   },
   "cell_type": "code",
   "source": "",
   "execution_count": null,
   "outputs": []
  },
  {
   "metadata": {
    "trusted": false
   },
   "cell_type": "code",
   "source": "",
   "execution_count": null,
   "outputs": []
  },
  {
   "metadata": {
    "trusted": false
   },
   "cell_type": "code",
   "source": "",
   "execution_count": null,
   "outputs": []
  },
  {
   "metadata": {
    "trusted": false
   },
   "cell_type": "code",
   "source": "",
   "execution_count": null,
   "outputs": []
  },
  {
   "metadata": {
    "trusted": false
   },
   "cell_type": "code",
   "source": "\"\"\"\nProblem: 733\nWrite a Python program that defines a helper function `add(a, b)` to return the sum of two numbers, and uses it to sum a list of numbers.\n\"\"\"\n\ndef add(a, b):\n    return a + b\n\ndef sum_list(numbers):\n    total = 0\n    for number in numbers:\n        total = add(total, number)\n    return total\n\nnumbers = [1, 2, 3, 4, 5]\nresult = sum_list(numbers)\nprint(result)\n\n\"\"\"\nProblem: 734\nCreate a program with a helper function `is_even(n)` that returns `True` if a number is even and `False` otherwise, and use it to filter a list of numbers.\n\"\"\"\n\ndef is_even(n):\n    return n % 2 == 0\n\ndef filter_even_numbers(numbers):\n    return list(filter(is_even, numbers))\n\nnumbers = [1, 2, 3, 4, 5, 6, 7, 8, 9, 10]\neven_numbers = filter_even_numbers(numbers)\nprint(even_numbers)\n\n\"\"\"\nProblem: 735\nWrite a program that uses a helper function `capitalize_first_letter(word)` to capitalize the first letter of each word in a list of strings.\n\"\"\"\n\ndef capitalize_first_letter(word):\n    return word.capitalize()\n\ndef word_list(lst):\n    return list(map(capitalize_first_letter, lst))\n\nlst = [\"first\", \"letter\", \"word\"]\nprint(word_list(lst))\n\n\ndef word_list(lst):\n    return list(map(capitalize_first_letter, lst))\n\ndef capitalize_first_letter(word):\n    return word.capitalize()\n\nlst = [\"first\", \"letter\", \"word\"]\nprint(word_list(lst))\n\n\"\"\"\nProblem: 736\nDefine a helper function `find_max(numbers)` that returns the maximum number from a list, and use it in a program to find the largest number.\n\"\"\"\n\ndef lst_numbers(lst):\n    return find_max(lst)\n    \ndef find_max(numbers):\n    return max(numbers)\n    \nlst = [2, 4, 6]\nprint(lst_numbers(lst))\n\n\"\"\"\nProblem: 737\nCreate a helper function `convert_to_celsius(fahrenheit)` that converts a temperature from Fahrenheit to Celsius, and use it to convert a list of temperatures.\n\"\"\"\n\ndef lst_tempertures(lst):\n    return list(map(convert_to_celsius, lst))\n    \ndef convert_to_celsius(fahrenheit):\n    return (fahrenheit - 32) / 1.8\n       \nlst = [1, 16, 20, 27]    \nprint(lst_tempertures(lst))\n\n\"\"\"\nProblem: 738\nWrite a program that defines a helper function `reverse_string(s)` that returns the reversed version of a string, and uses it to reverse all strings in a list.\n\"\"\"\n\ndef string_lst(lst):\n    return list(map(reverse_string, lst))\n\ndef reverse_string(word):\n    return word[::-1]\n\nlst = [\"hello\", \"twice\"]    \nprint(string_lst(lst))\n\n\"\"\"\nProblem: 739\nDefine a helper function `count_vowels(word)` that counts the number of vowels in a word, and use it to find the word with the most vowels in a list.\n\"\"\"\n\ndef lst_words(lst):\n    return max(lst, key=count_vowels)\n\ndef count_vowels(word):\n    vowels = \"aeiou\"\n    count = 0\n    for char in word:\n        if char.lower() in vowels:\n            count += 1\n    return count\n\nlst = [\"word\", \"eerie\"]    \nprint(lst_words(lst))\n\n\"\"\"\nProblem: 740\nCreate a program with a helper function `is_palindrome(word)` that checks if a word is a palindrome and uses it to filter a list of words.\n\"\"\"\n\ndef lst_of_word(lst):\n    return list(filter(is_palindrome, lst)) \n    \ndef is_palindrome(word):\n    return word == word[::-1]\n\nlst = [\"radar\", \"words\", \"level\", \"deed\"]\nprint(lst_of_word(lst))\n\n\"\"\"\nProblem: 741\nWrite a program that defines a helper function `calculate_area(radius)` to calculate the area of a circle given its radius, and uses it for a list of radii.\n\"\"\"\n\ndef lst_of_radii(lst):\n    return list(map(calculate_area, lst))\n\ndef calculate_area(radius):\n    return 3.14159 * radius ** 2\n\nlst = [1, 2, 3, 4, 5]\nprint(lst_of_radii(lst))\n\n\"\"\"\nProblem: 742\nDefine a helper function `square(n)` that returns the square of a number, and use it to square each element in a list.\n\"\"\"\n\ndef lst_numbers(lst):\n    return list(map(sqaure_number, lst))\n\ndef sqaure_number(num):\n    return num * num\n    \nlst = [2, 5, 7]\nprint(lst_numbers(lst))\n\n\"\"\"\nProblem: 743\nCreate a program with a helper function `get_first_n_elements(lst, n)` that returns the first `n` elements of a list, and use it on a sample list.\n\"\"\"\n\ndef get_first_n_elements(lst, num):\n    return lst[:num] \n\ndef main():\n    lst = [1, 2, 3, 4, 5, 6]\n    num = 3\n    return get_first_n_elements(lst, num)\n\nprint(main()) \n\n\"\"\"\nProblem: 744\nWrite a program that defines a helper function `merge_dicts(dict1, dict2)` that merges two dictionaries, and uses it to combine multiple dictionaries.\n\"\"\"\n\ndef merge_dicts(dict1, dict2):\n    return {**dict1, **dict2} \n\ndef combine_dicts(dicts):\n    result = {}\n    for d in dicts:\n        result = merge_dicts(result, d) \n    return result\n    \ndicts = [\n    {'a': 1, 'b': 2},\n    {'b': 3, 'c': 4},\n    {'d': 5}\n]\n\nprint(combine_dicts(dicts)) \n\n\"\"\"\nProblem: 745\nDefine a helper function `format_name(first_name, last_name)` that returns a formatted full name, and use it to format a list of names.\n\"\"\"\n\ndef format_name(first_name, last_name):\n    return f\"{first_name} {last_name}\"\n\ndef format_names(lst):\n    \n    def format_pair(name_pair):\n        return format_name(name_pair[0], name_pair[1])\n    \n    return list(map(format_pair, lst))\n\nnames = [(\"John\", \"Doe\"), (\"Jane\", \"Smith\"), (\"Alice\", \"Johnson\")]\nformatted_names = format_names(names)\nprint(formatted_names)\n\n\"\"\"\nProblem: 746\nCreate a program with a helper function `find_gcd(a, b)` that finds the greatest common divisor of two numbers, and use it to find the GCD of a list of pairs.\n\"\"\"\n\ndef find_gcd(a, b):\n    while b:\n        a, b = b, a % b\n    return a\n\ndef gcd_of_pairs(lst):\n    def gcd_pair(pair):\n        return find_gcd(pair[0], pair[1])\n    \n    return list(map(gcd_pair, lst))\n\npairs = [(48, 18), (56, 98), (100, 10)]\ngcd_results = gcd_of_pairs(pairs)\nprint(gcd_results)\n\n\"\"\"\nProblem: 747\nWrite a program that defines a helper function `count_occurrences(lst, element)` that counts occurrences of an element in a list, and uses it for a given list.\n\"\"\"\n\ndef lst_elements(lst):\n    element = \"tree\" \n    return count_occurrences(lst, element)\n    \ndef count_occurrences(lst, element):\n    count = 0\n    for item in lst:\n        if item == element:\n            count += 1\n    return count\n    \nlst = [\"tree\", \"tree\", \"tree\", \"sand\"]\nprint(lst_elements(lst))\n\n\"\"\"\nProblem: 748\nDefine a helper function `sort_list(lst)` that sorts a list and returns the sorted list, and use it to sort several lists.\n\"\"\"\n\ndef lst_words(lst1, lst2):\n    return sort_lst(lst1), sort_lst(lst2)\n\n\ndef sort_lst(lst):\n    return sorted(lst)\n\n\nlst1 = [\"zebra\", \"frog\", \"toad\", \"anaconda\", \"baboon\"]\nlst2 = [\"ktm\", \"Honda\", \"Suzuki\"]\nsorted_lists = lst_words(lst1, lst2)\nprint(sorted_lists)\n\n\"\"\"\nProblem: 749\nCreate a program with a helper function `extract_domain(url)` that extracts the domain from a URL, and use it on a list of URLs.\n\"\"\"\n\ndef domain_names(lst):\n    return list(map(extract_URL, lst))\n        \ndef extract_URL(url):\n    site_name = url.split(\"//\")[1]\n    return site_name\n\nlst = [\n    \"http://google.com\",\n    \"http://facebook.com\",\n    \"http://twitter.com\",\n    \"http://linkedin.com\",\n    \"http://github.com\",\n    \"http://stackoverflow.com\",\n    \"http://youtube.com\",\n    \"http://amazon.com\",\n    \"http://microsoft.com\",\n    \"http://apple.com\"\n]\n\nprint(domain_names(lst))\n \n\"\"\"\nProblem: 750\nWrite a program that defines a helper function `remove_duplicates(lst)` that removes duplicate elements from a list, and uses it on a sample list.\n\"\"\"\n\ndef lst_sites(lst):\n    return remove_duplicates(lst)\n\n    \ndef remove_duplicates(lst):\n    return list(set(lst))\n    \n\nlst = [\n    \"google\",\n    \"facebook\",\n    \"twitter\",\n    \"linkedin\",\n    \"github\",\n    \"stackoverflow\",\n    \"youtube\",\n    \"amazon\",\n    \"microsoft\",\n    \"apple\",\n    \"twitter\",\n    \"google\"\n]\nprint(lst_sites(lst))\n\n\"\"\"\nProblem: 751\nDefine a helper function `flatten_list(nested_list)` that flattens a nested list, and use it to flatten a list of lists.\n\"\"\"\n\ndef main(lst):\n    result = []\n    for i in lst:\n        for j in i:\n            result.append(j)       \n    return result\n\nlst  = [[\"list1\", \"list2\"], [\"list3\", \"list4\"]]\nprint(main(lst))\n\ndef lst_of_lists(nested_list):\n    return flatten_list(nested_list)\n\ndef flatten_list(nested_list):\n    flat_list = []\n    for sublist in nested_list:\n        for item in sublist:\n            flat_list.append(item)\n    return flat_list\n\nnested_list = [\n    [1, 2, 3],\n    [4, 5],\n    [6, 7, 8, 9],\n    [10]\n]\n\nprint(lst_of_lists(nested_list))\n\n\"\"\"\nProblem: 752\nCreate a program with a helper function `is_prime(n)` that checks if a number is prime, and uses it to filter a list of numbers.\n\"\"\"\n\ndef filter_primes(lst):\n    return list(filter(is_prime, lst))\n    \ndef is_prime(n):\n    if n <= 1:\n        return False\n    for i in range(2, int(n**0.5) + 1):\n        if n % i == 0:\n            return False\n    return True\n\nnumbers = [1, 2, 3, 4, 5, 6, 7, 8, 9, 10, 11]\nprint(filter_primes(numbers))\n\n\"\"\"\nProblem: 753\nWrite a program that defines a helper function `calculate_factorial(n)` that calculates the factorial of a number, and uses it for a range of numbers.\n\"\"\"\n\ndef lst_of_numbers(lst):\n    return list(map(calculate_factorial, lst))\n\ndef calculate_factorial(num):\n    factorial = 1\n    for i in range(1, num + 1):\n        factorial *= i\n    return factorial\n\nlst = [2, 4, 7, 8]\nprint(lst_of_numbers(lst))\n\n\"\"\"\nProblem: 754\nDefine a helper function `sort_dict_by_value(d)` that sorts a dictionary by its values, and use it to sort a given dictionary.\n\"\"\"\n\ndef main(dic):\n    return sort_dict_by_value(dic)\n\ndef sort_dict_by_value(d):\n    return dict(sorted(d.items(), key=get_value))\n\ndef get_value(item):\n    return item[1]\n\ndic = {\n    \"name\": 2,\n    \"age\": 5,\n    \"city\": 1,\n    \"job\": 3\n}    \nprint(main(dic))\n\ndef main(dic):\n    return sort_dict_by_value(dic)\n\ndef sort_dict_by_value(d):\n    sorted_items = sorted(d.items(), key=get_value)\n\n    result = {}\n    for key, value in sorted_items:\n        result[key] = value\n    return result\n\ndic = {\n    \"name\": 2,\n    \"age\": 5,\n    \"city\": 1,\n    \"job\": 3\n}    \nprint(main(dic))\n\n\"\"\"\nProblem: 755\nCreate a program with a helper function `get_unique_elements(lst)` that returns the unique elements of a list, and uses it on a sample list.\n\"\"\"\n\ndef main(lst):\n    return get_unique_elements(lst)\n    \ndef get_unique_elements(word):\n    return list(set(word))\n\n\nlst = [\n    \"apple\",\n    \"banana\",\n    \"orange\",\n    \"apple\",\n    \"grape\",\n    \"banana\",\n    \"kiwi\",\n    \"mango\",\n    \"peach\",\n    \"kiwi\",\n    \"pear\"\n]\nprint(main(lst))\n\n\"\"\"\nProblem: 756\nWrite a program that defines a helper function `check_anagram(str1, str2)` that checks if two strings are anagrams, and uses it on a list of string pairs.\n\"\"\"\n\ndef main(str1, str2):\n    return check_anagram(str1, str2)\n\ndef check_anagram(x, y):\n    return sorted(x) == sorted(y)\n\nstr1 = \"evil\"\nstr2 = \"vile\"\nprint(main(str1, str2))\n\n\"\"\"\nProblem: 757\nDefine a helper function `find_index(lst, element)` that returns the index of an element in a list, and uses it for a given list.\n\"\"\"\ndef main(lst1, target1):\n    return find_index(lst, target1)\n    \n    \ndef find_index(lst, target):\n    for index, word in enumerate(lst):\n        if word == target:\n            return index        \nlst = [\n    \"apple\",\n    \"banana\",\n    \"cherry\",\n    \"date\",\n    \"elderberry\",\n    \"fig\",\n    \"grape\",\n    \"honeydew\"\n]\ntarget1 = \"date\"\nprint(main(lst1, target1))\n\n\"\"\"\nProblem: 758\nCreate a program with a helper function `generate_fibonacci(n)` that generates the first `n` Fibonacci numbers, and uses it to print Fibonacci sequences.\n\"\"\"\n\ndef main(n):\n    return generate_fibonacci(n)\n\n\ndef generate_fibonacci(n):\n    fibonacci_sequence = []\n    a, b = 0, 1\n    for _ in range(n):\n        fibonacci_sequence.append(a)\n        a, b = b, a + b\n    return fibonacci_sequence\n\nn = 10 \nprint(main(n))\n\n\"\"\"\nProblem: 759\nWrite a program that defines a helper function `calculate_average(lst)` that calculates the average of a list, and uses it on multiple lists.\n\"\"\"\n\ndef main(lst1, lst2):\n    avg1 = calculate_average(lst1)\n    avg2 = calculate_average(lst2)\n    return avg1, avg2\n\ndef calculate_average(lst):\n    length_lst = len(lst)\n    total = sum(lst)\n    average = total / length_lst\n    return average\n\nlist1 = [3, 7, 2, 9, 12, 5]\nlist2 = [14, 6, 8, 11, 3, 10]\nprint(main(list1, list2))\n\n\"\"\"\nProblem: 760\nDefine a helper function `convert_to_kilometers(miles)` that converts miles to kilometers, and uses it to convert a list of distances.\n\"\"\"\n\ndef main(lst):\n    return list(map(convert_to_kilometers, lst))\n\ndef convert_to_kilometers(miles):\n    miles_to_km = 1.60934 \n    kilometers = miles * miles_to_km\n    return kilometers\n\nlst = [34, 67, 157]\nprint(main(lst))\n\n\"\"\"\nProblem: 761\nCreate a program with a helper function `get_last_n_elements(lst, n)` that returns the last `n` elements of a list, and uses it on a sample list.\n\"\"\"\n\ndef main(lst, n):\n    return get_last_n_elements(lst, n)\n    \ndef get_last_n_elements(lst, n):\n    return lst[:n] \n       \nlst = [1, 2, 3, 4, 5, 6]\nn = 3    \nprint(main(lst, n))\n\n\"\"\"\nProblem: 762\nWrite a program that defines a helper function `remove_whitespace(s)` that removes whitespace from a string, and uses it on a list of strings.\n\"\"\"\n\ndef main(string):\n    return remove_whitespace(string)\n\ndef remove_whitespace(s):\n    return s.replace(\" \", \"\")\n\nstring = \"today I'm going to the shopping centre\"\nprint(main(string))\n\n\"\"\"\nProblem: 763\nDefine a helper function `get_positive_numbers(lst)` that returns only the positive numbers from a list, and uses it on a sample list.\n\"\"\"\n\ndef main(lst):\n    return list(filter(get_positive_numbers, lst))\n\ndef get_positive_numbers(number):\n    return number > 0\n\nlst = [1, -2, 2, -3, 3, 4, -4]    \nprint(main(lst))\n\n\"\"\"\nProblem: 764\nCreate a program with a helper function `get_common_elements(lst1, lst2)` that returns common elements between two lists, and uses it on two sample lists.\n\"\"\"\n\ndef get_common_elements(lst1, lst2):\n    common_word = []\n    for word in lst1:\n        if word in lst2:\n            common_word.append(word)\n    return common_word\n  \nlst1 = [\"tree\", \"boat\", \"sea\", \"dog\"]\nlst2 = [\"boat\", \"cat\", \"sea\"]\nprint(get_common_elements(lst1, lst2))\n\ndef main(lst1, lst2):\n    return get_common_elements(lst1, lst2)\n\ndef get_common_elements(x, y):\n    duplicates = []\n    for item in x:\n        if item in y and item not in duplicates:\n            duplicates.append(item)\n    return duplicates\n\nlst1 = [\"tree\", \"boat\", \"sea\", \"dog\"]\nlst2 = [\"boat\", \"cat\", \"sea\"]\nprint(main(lst1, lst2))\n\n\"\"\"\nProblem: 765\nWrite a program that defines a helper function `check_even_odd(n)` that returns \"Even\" or \"Odd\" for a number, and uses it for a list of numbers.\n\"\"\"\n\ndef main(lst):\n    return list(map(check_even_odd, lst))\n\ndef check_even_odd(n):\n    if n % 2 == 0:\n        return \"Even\"\n    else:\n        return \"Odd\"\n\nlst = [45, 7, 2, 3, 68, 36]\nprint(main(lst))\n\ndef main(lst):\n    results = []\n    for number in lst:\n        results.append(check_even_odd(number))\n    return results\n\ndef check_even_odd(n):\n    if n % 2 == 0:\n        return \"Even\"\n    else:\n        return \"Odd\"\n\nlst = [45, 7, 2, 3, 68, 36]\nprint(main(lst))\n\n\"\"\"\nProblem: 766\nDefine a helper function `convert_to_uppercase(word)` that converts a word to uppercase, and uses it on a list of words.\n\"\"\"\n\ndef main(lst):\n    return list(map(convert_to_uppercase, lst))  \n\ndef convert_to_uppercase(word):\n    return word.upper()\n\nlst = [\"eorl\", \"sitting\", \"kong\"]\nprint(main(lst))\n\n\"\"\"\nProblem: 767\nCreate a program with a helper function `count_characters(s)` that counts the characters in a string, and uses it on a list of strings.\n\"\"\"\n\ndef main(lst_str):\n    return list(map(count_characters, lst_str))  \n\ndef count_characters(s):\n    return len(s)\n\nlst_str = [\"eorl\", \"sitting\", \"mountain\"]\nprint(count_characters(lst_str))\n\n\ndef main(lst_str):\n    return list(map(count_characters, lst_str))  # Apply count_characters to each string in the list\n\ndef count_characters(s):\n    return len(s)\n\nlst_str = [\"eorl\", \"sitting\", \"mountain\"]\nprint(main(lst_str))\n\n\"\"\"\nProblem: 768\nWrite a program that defines a helper function `remove_special_characters(s)` that removes special characters from a string, and uses it on a sample list of strings.\n\"\"\"\ndef main(lst):\n    return list(map(remove_special_characters, lst))  \n\ndef remove_special_characters(s):\n    s = s.replace('@', '').replace('?', '')\n    return s\n\nlst = [\"eor?@l\", \"s@itting?\", \"@mountain?\"] \nprint(main(lst))\n\n\"\"\"\nProblem: 769\nDefine a helper function `is_substring(s1, s2)` that checks if `s1` is a substring of `s2`, and uses it on a list of string pairs.\n\"\"\"\ndef main(lst):\n    results = []\n    for pair in lst:\n        results.append(is_substring(pair[0], pair[1]))\n    return results\n\ndef is_substring(s1, s2):\n    return s1 in s2\n\nlst = [(\"apple\", \"pineapple\"), (\"dog\", \"doghouse\"), (\"cat\", \"concatenate\")]\nprint(main(lst))\n\n\"\"\"\nProblem: 770\nCreate a program with a helper function `sum_of_list(lst)` that returns the sum of all numbers in a list, and uses it on a sample list.\n\"\"\"\n\ndef main(lst):\n    return sum_of_list(lst)\n    \ndef sum_of_list(n):\n    count = 0\n    for n in lst:\n        count += n\n    return count\n\nlst = [2, 2, 2, 2, 2]\nprint(main(lst))\n\n\"\"\"\nProblem: 771\nWrite a program that defines a helper function `get_even_numbers(lst)` that filters and returns even numbers from a list, and uses it on a sample list.\n\"\"\"\n\ndef main(lst):\n    return list(filter(get_even_numbers, lst))\n\ndef get_even_numbers(n):\n    return n % 2 == 0  #\n\nlst = [46, 22, 7, 4, 8, 13]\nprint(main(lst))\n\n\"\"\"\nProblem: 772\nDefine a helper function `merge_sorted_lists(lst1, lst2)` that merges and sorts two lists, and uses it to combine multiple sorted lists.\n\"\"\"\n\ndef main(lst1, lst2):\n    return merge_sorted_lists(lst1, lst2)\n\ndef merge_sorted_lists(x, y):\n    return sorted(x + y)\n\nlst1 = [1, 2, 3]\nlst2 = [4, 5, 6]   \nprint(main(lst1, lst2))",
   "execution_count": null,
   "outputs": []
  }
 ],
 "metadata": {
  "kernelspec": {
   "name": "python3",
   "display_name": "Python 3",
   "language": "python"
  },
  "language_info": {
   "name": "python",
   "version": "3.10.4",
   "mimetype": "text/x-python",
   "codemirror_mode": {
    "name": "ipython",
    "version": 3
   },
   "pygments_lexer": "ipython3",
   "nbconvert_exporter": "python",
   "file_extension": ".py"
  }
 },
 "nbformat": 4,
 "nbformat_minor": 2
}