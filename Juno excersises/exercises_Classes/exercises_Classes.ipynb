{
 "cells": [
  {
   "metadata": {
    "trusted": false
   },
   "cell_type": "code",
   "source": "\"\"\"\n- **Definition**: \n  - A class in Python is a fundamental construct in Object-Oriented Programming (OOP) that serves as a blueprint for creating objects (instances). It defines a new data type that encapsulates both data (attributes) and functionality (methods) relevant to that type.\n\n- **Purpose**:\n  - The primary purpose of a class is to enable the creation of reusable and organized code. Classes help in modeling real-world entities, allowing developers to structure their code in a way that reflects the problem domain.\n\n- **Components of a Class**:\n  \n  - **Attributes**:\n    - Attributes are the variables associated with a class. They store the state or properties of an object created from the class.\n    - **Instance Attributes**: These are attributes unique to each instance of a class. They are typically defined within methods, often in the constructor (`__init__` method).\n    - **Class Attributes**: These are shared across all instances of a class. They are defined within the class but outside of any instance methods. Any changes made to a class attribute will reflect across all instances unless overridden in a specific instance.\n    \n  - **Methods**:\n    - Methods are functions defined within a class that describe the behaviors or actions that an object can perform. They can manipulate an object's attributes or perform operations relevant to that object.\n    - **Instance Methods**: These are the most common type of methods that operate on instance attributes. They take `self` as the first parameter to reference the instance.\n    - **Class Methods**: Defined using the `@classmethod` decorator, these methods take `cls` as the first parameter and can access class attributes.\n    - **Static Methods**: Defined using the `@staticmethod` decorator, these methods do not take `self` or `cls` as the first parameter and can be called on the class itself, independent of instance attributes.\n\n- **Creating a Class**:\n  - A class is defined using the `class` keyword followed by the class name (following the CamelCase naming convention) and a colon. The body of the class contains the definitions of attributes and methods.\n  \n    Example:\n    ```python\n    class Car:\n        wheels = 4  # Class attribute\n\n        def __init__(self, color, model):  # Constructor\n            self.color = color  # Instance attribute\n            self.model = model  # Instance attribute\n\n        def start(self):  # Method\n            print(f\"{self.model} is starting.\")\n\n    ```\n\n- **Instantiating Objects**:\n  - Once a class is defined, you can create instances (or objects) of that class. Each object created has its own unique set of instance attributes, while sharing the methods defined by the class.\n  \n    Example:\n    ```python\n    car1 = Car(\"red\", \"Toyota\")\n    car2 = Car(\"blue\", \"Honda\")\n    ```\n\n- **Accessing Attributes and Methods**:\n  - You can access an object’s attributes and methods using the dot (`.`) notation:\n  \n    Example:\n    ```python\n    print(car1.color)  # Accessing an instance attribute\n    car1.start()  # Calling a method\n    ```\n\n- **Benefits**:\n  - **Encapsulation**: Classes encapsulate data and methods, promoting modularity and preventing external interference. This allows for better data protection and manipulation.\n  - **Inheritance**: Classes can inherit from other classes, allowing for the creation of a hierarchy of classes. This feature promotes code reuse, enabling derived classes to inherit attributes and methods from base classes.\n    Example:\n    ```python\n    class ElectricCar(Car):  # Inheriting from Car\n        def charge(self):\n            print(\"Charging the electric car.\")\n    ```\n  - **Polymorphism**: Polymorphism allows methods to be called on different objects, enabling the same method name to behave differently based on the object that calls it. This enhances flexibility and ease of maintenance.\n  \n- **Common Scenarios**:\n  - Classes are used in applications that require a clear representation of data entities and their behaviors, such as in GUI applications, game development, and simulations.\n  - They are also essential in frameworks and libraries where custom data types are needed.\n\n- **Conclusion**:\n  - In summary, classes are a core concept in Python that facilitate the organization, reuse, and maintenance of code. By encapsulating data and behavior, they provide a powerful way to model complex systems and promote cleaner, more understandable code.\n\n\"\"\"",
   "execution_count": null,
   "outputs": []
  },
  {
   "metadata": {
    "trusted": false
   },
   "cell_type": "code",
   "source": "\"\"\"\nProblem: 495\nCreate a base class Animal with a method speak() and a derived class Dog that overrides the speak() method to print “Bark”.\n\"\"\"\n\nclass Animal:\n    def speak(self):\n        return \"Animal sound\"\n\nclass Dog(Animal):\n    def speak(self):\n        return \"Bark\"\n        \nclass Cat(Animal):\n    def speak(self):\n        return \"Meow\"\n        \ndog = Dog()\ncat = Cat()\nprint(dog.speak())\nprint(cat.speak())",
   "execution_count": null,
   "outputs": []
  },
  {
   "metadata": {
    "trusted": false
   },
   "cell_type": "code",
   "source": "\"\"\"\nProblem: 496\nCreate a base class Vehicle with attributes speed and color. Create a derived class Car that adds the model attribute.\n\"\"\"\n\nclass Vehicle:\n    def __init__(self, speed, color):\n        self.speed = speed\n        self.color = color\n\nclass Car(Vehicle):\n    def __init__(self, speed, color, model):\n\n        super().__init__(speed, color)\n        \n        self.model = model\n\nmy_car = Car(120, \"Red\", \"Toyota\")\nprint(f\"Car Model: {my_car.model}, Speed: {my_car.speed}, Color: {my_car.color}\")",
   "execution_count": null,
   "outputs": []
  },
  {
   "metadata": {
    "trusted": false
   },
   "cell_type": "code",
   "source": "\"\"\"\nProblem: 497\nCreate a base class Person with a method introduce(). Create a derived class Student that overrides the introduce() method to include the student’s grade.\n\"\"\"\nclass Person:\n    def __init__(self, name):\n        self.name = name\n\n    def introduce(self):\n        return f\"Hello, my name is {self.name}.\"\n\nclass Student(Person):\n    def __init__(self, name, grade):\n    \n        super().__init__(name)\n    \n        self.grade = grade\n        \n    def introduce(self):\n        return f\"Hello, my name is {self.name} and I am in grade {self.grade}.\"\n\nperson = Person(\"Alice\")\nprint(person.introduce()) \n\nstudent = Student(\"Bob\", 10)\nprint(student.introduce()) ",
   "execution_count": null,
   "outputs": []
  },
  {
   "metadata": {
    "trusted": false
   },
   "cell_type": "code",
   "source": "\"\"\"\nProblem: 498\nCreate a base class Shape with a method area(). Create a derived class Rectangle that calculates the area.\n\"\"\"\n\nclass Shape:\n    def area(self):\n\n        pass\n\nclass Rectangle(Shape):\n    def __init__(self, length, width):\n        self.length = length\n        self.width = width\n\n    def area(self):\n        return self.length * self.width\n\nrectangle = Rectangle(5, 3)\nprint(f\"Area of the rectangle: {rectangle.area()}\") ",
   "execution_count": null,
   "outputs": []
  },
  {
   "metadata": {
    "trusted": false
   },
   "cell_type": "code",
   "source": "\"\"\"\nProblem: 499\nCreate a base class Appliance with attributes brand and power. Create a derived class WashingMachine that adds a method wash_clothes().\n\"\"\"\n\nclass Appliance:\n    def __init__(self, brand, power):\n        self.brand = brand\n        self.power = power\n\nclass WashingMachine(Appliance):\n    def __init__(self, brand, power):\n        super().__init__(brand, power)\n\n    def wash_clothes(self):\n        return f\"The {self.brand} washing machine is washing clothes with {self.power} watts of power.\"\n\nwashing_machine = WashingMachine(\"LG\", 1500)\nprint(washing_machine.wash_clothes())",
   "execution_count": null,
   "outputs": []
  },
  {
   "metadata": {
    "trusted": false
   },
   "cell_type": "code",
   "source": "\"\"\"\nProblem: 500\nCreate a base class Employee with attributes name and salary. Create a derived class Manager that adds a method assign_task().\n\"\"\"\n\nclass Employee:\n    def __init__(self, name, salary):\n        self.name = name\n        self.salary = salary\n\nclass Manager(Employee):\n    def __init__(self, name, salary):\n    \n        super().__init__(name, salary)\n\n    def assign_task(self, task):\n        return f\"Manager {self.name} has assigned the task: {task}.\"\n\nmanager = Manager(\"John Doe\", 75000)\nprint(manager.assign_task(\"Prepare a project report\"))",
   "execution_count": null,
   "outputs": []
  },
  {
   "metadata": {
    "trusted": false
   },
   "cell_type": "code",
   "source": "\"\"\"\nProblem: 501\nCreate a base class Bird with a method fly(). Create a derived class Penguin that overrides the fly() method to print “Cannot fly”.\n\"\"\"\n\nclass Bird:\n    def fly(self):\n        return \"I can fly!\"\n\nclass Penguin(Bird):\n    def fly(self):\n        return \"Cannot fly\"\n\ngeneric_bird = Bird()\nprint(generic_bird.fly())\n\npenguin = Penguin()\nprint(penguin.fly())\n",
   "execution_count": null,
   "outputs": []
  },
  {
   "metadata": {
    "trusted": false
   },
   "cell_type": "code",
   "source": "\"\"\"\nProblem: 502\nCreate a base class Book with attributes title and author. Create a derived class EBook that adds an attribute file_size.\n\"\"\"\n\nclass Book:\n    def __init__(self, title, author):\n        self.title = title\n        self.author = author\n\nclass EBook(Book):\n    def __init__(self, title, author, file_size):\n        \n        super().__init__(title, author)\n    \n        self.file_size = file_size\n\nebook = EBook(\"Python Programming\", \"John Doe\", 2.5)\nprint(f\"Title: {ebook.title}, Author: {ebook.author}, File Size: {ebook.file_size}MB\")\n",
   "execution_count": null,
   "outputs": []
  },
  {
   "metadata": {
    "trusted": false
   },
   "cell_type": "code",
   "source": "\"\"\"\nProblem: 503\nCreate a base class Instrument with a method play(). Create a derived class Guitar that overrides the play() method to print “Strum”.\n\"\"\"\n\nclass Instrument:\n    def play(self):\n        return \"Playing an instrument.\"\n\nclass Guitar(Instrument):\n    def play(self):\n        return \"Strum\"\n\ngeneric_instrument = Instrument()\nprint(generic_instrument.play())\n\nguitar = Guitar()\nprint(guitar.play()) ",
   "execution_count": null,
   "outputs": []
  },
  {
   "metadata": {
    "trusted": false
   },
   "cell_type": "code",
   "source": "\"\"\"\nProblem: 504\nCreate a base class Game with a method start(). Create a derived class Chess that overrides the start() method to print “Start Chess”.\n\"\"\"\n\nclass Game:\n    def start(self):\n        return \"Starting the game.\"\n\nclass Chess(Game):\n\n    def start(self):\n        return \"Start Chess\"\n\ngeneric_game = Game()\nprint(generic_game.start())\n\nchess_game = Chess()\nprint(chess_game.start())",
   "execution_count": null,
   "outputs": []
  },
  {
   "metadata": {
    "trusted": false
   },
   "cell_type": "code",
   "source": "\"\"\"\nProblem: 505\nCreate a base class Vehicle with a method drive(). Create a derived class Bicycle that overrides the drive() method to print “Pedal”.\n\"\"\"\n\nclass Vehicle:\n    def drive(self):\n        return \"Are you ready to drive?\"\n\nclass Bicycle(Vehicle):\n    def drive(self):\n        return \"Pedal\"\n\nbicycle = Bicycle()\nprint(bicycle.drive()) ",
   "execution_count": null,
   "outputs": []
  },
  {
   "metadata": {
    "trusted": false
   },
   "cell_type": "code",
   "source": "\"\"\"\nProblem: 506\nCreate a base class Computer with attributes brand and processor. Create a derived class Laptop that adds an attribute weight.\n\"\"\"\n\nclass Computer:\n    def __init__(self, brand, processor):\n        self.brand = brand\n        self.processor = processor\n\nclass Laptop(Computer):\n    def __init__(self, brand, processor, weight):\n    \n        super().__init__(brand, processor)\n        \n        self.weight = weight\n\nlaptop = Laptop(\"Dell\", \"Intel i7\", 2.3)\nprint(f\"Brand: {laptop.brand}, Processor: {laptop.processor}, Weight: {laptop.weight}kg\")",
   "execution_count": null,
   "outputs": []
  },
  {
   "metadata": {
    "trusted": false
   },
   "cell_type": "code",
   "source": "\"\"\"\nProblem: 507\nCreate a base class Device with a method turn_on(). Create a derived class Smartphone that adds an attribute apps.\n\"\"\"\n\nclass Device:\n    def turn_on(self):\n        return \"Device is now on.\"\n\nclass Smartphone(Device):\n    def __init__(self, apps):\n        self.apps = apps\n\n\nphone = Smartphone([\"WhatsApp\", \"Instagram\", \"Spotify\"])\nprint(phone.turn_on()) \nprint(f\"Installed apps: {', '.join(phone.apps)}\")\n",
   "execution_count": null,
   "outputs": []
  },
  {
   "metadata": {
    "trusted": false
   },
   "cell_type": "code",
   "source": "\"\"\"\nProblem: 508\nCreate a base class Parent with a method display(). Create a derived class Child that overrides the display() method to print “This is a child”.\n\"\"\"\n\nclass Parent:\n    def display(self):\n        return \"This is the parent.\"\n\nclass Child(Parent):\n    def display(self):\n        return \"This is a child\"\n        \nparent = Parent()\nprint(parent.display()) \n\nchild = Child()\nprint(child.display())  ",
   "execution_count": null,
   "outputs": []
  },
  {
   "metadata": {
    "trusted": false
   },
   "cell_type": "code",
   "source": "\"\"\"\nProblem: 509\nCreate a base class Building with attributes floors and address. Create a derived class Skyscraper that adds an attribute height.\n\"\"\"\n\nclass Building:\n    def __init__(self, floors, address):\n        self.floors = floors\n        self.address = address\n\nclass Skyscraper(Building):\n    def __init__(self, floors, address, height):\n        # Call the base class (Building) constructor to initialize floors and address\n        super().__init__(floors, address)\n        # Initialize the height attribute specific to Skyscraper\n        self.height = height\n\nskyscraper = Skyscraper(50, \"123 High Street\", 200)\nprint(f\"Floors: {skyscraper.floors}, Address: {skyscraper.address}, Height: {skyscraper.height} meters\")",
   "execution_count": null,
   "outputs": []
  },
  {
   "metadata": {
    "trusted": false
   },
   "cell_type": "code",
   "source": "\"\"\"\nProblem: 510\nCreate a base class Plant with a method grow(). Create a derived class Flower that overrides the grow() method to print “Bloom”.\n\"\"\"\n\nclass Plant:\n    def grow(self):\n        return \"The plant is growing.\"\n\nclass Flower(Plant):\n    \n    def grow(self):\n        return \"Bloom\"\n\nplant = Plant()\nprint(plant.grow())  # Output: The plant is growing.\n\nflower = Flower()\nprint(flower.grow())  # Output: Bloom",
   "execution_count": null,
   "outputs": []
  },
  {
   "metadata": {
    "trusted": false
   },
   "cell_type": "code",
   "source": "\"\"\"\nProblem: 511\nCreate a base class Teacher with attributes name and subject. Create a derived class MathTeacher that adds a method teach_math().\n\"\"\"\n\nclass Teacher:\n    def __init__(self, name, subject):\n        self.name = name\n        self.subject = subject\n\n    def __str__(self):\n        return f\"Name: {self.name}, Subject: {self.subject}\"\n\n\nclass MathTeacher(Teacher):\n    def __init__(self, name):\n    \n        super().__init__(name, \"Math\")\n\n    def teach_math(self):\n        return \"Teaching math concepts.\"\n\n# Example usage\nteacher = Teacher(\"John Doe\", \"Science\")\nprint(teacher)  # Output: Name: John Doe, Subject: Science\n\nmath_teacher = MathTeacher(\"Alice Smith\")\nprint(math_teacher)         # Output: Name: Alice Smith, Subject: Math\nprint(math_teacher.teach_math())  # Output: Teaching math concepts.\n",
   "execution_count": null,
   "outputs": []
  },
  {
   "metadata": {
    "trusted": false
   },
   "cell_type": "code",
   "source": "\"\"\"\nProblem: 512\nCreate a base class Writer with attributes name and genre. Create a derived class Poet that overrides the genre attribute to “Poetry”.\n\"\"\"\n\nclass Writer:\n    def __init__(self, name, genre):\n        self.name = name\n        self.genre = genre\n\n    def __str__(self):\n        return f\"Name: {self.name}, Genre: {self.genre}\"\n\nclass Poet(Writer):\n    def __init__(self, name):\n        \n        super().__init__(name, \"Poetry\")\n\n# Example usage\nwriter = Writer(\"Jane Austen\", \"Fiction\")\nprint(writer)  # Output: Name: Jane Austen, Genre: Fiction\n\npoet = Poet(\"William Wordsworth\")\nprint(poet)  # Output: Name: William Wordsworth, Genre: Poetry",
   "execution_count": null,
   "outputs": []
  },
  {
   "metadata": {
    "trusted": false
   },
   "cell_type": "code",
   "source": "\"\"\"\nProblem: 513\nCreate a base class Appliance with a method use(). Create a derived class Oven that overrides the use() method to print “Bake”\n\"\"\"\n\nclass Appliance:\n    def use(self):\n        return \"Using the appliance.\"\n\n# Derived class Oven that inherits from Appliance\nclass Oven(Appliance):\n    def use(self):\n        return \"Bake\"\n\nappliance = Appliance()\nprint(appliance.use())\n\noven = Oven()\nprint(oven.use()) ",
   "execution_count": null,
   "outputs": []
  },
  {
   "metadata": {
    "trusted": true
   },
   "cell_type": "code",
   "source": "\"\"\"\nProblem: 514\nCreate a base class Artist with attributes name and medium. Create a derived class Painter that adds a method paint().\n\"\"\"\n\n# Base class Artist\nclass Artist:\n    def __init__(self, name, medium):\n        self.name = name\n        self.medium = medium\n\n    def __str__(self):\n        return f\"Name: {self.name}, Medium: {self.medium}\"\n\n# Derived class Painter that inherits from Artist\nclass Painter(Artist):\n    def paint(self):\n        return \"Painting with \" + self.medium\n\n# Example usage\nartist = Artist(\"Claude Monet\", \"Watercolor\")\nprint(artist)  # Output: Name: Claude Monet, Medium: Watercolor\n\npainter = Painter(\"Vincent van Gogh\", \"Oil Paint\")\nprint(painter)         # Output: Name: Vincent van Gogh, Medium: Oil Paint\nprint(painter.paint()) # Output: Painting with Oil Paint",
   "execution_count": 1,
   "outputs": [
    {
     "output_type": "stream",
     "text": "Name: Claude Monet, Medium: Watercolor\nName: Vincent van Gogh, Medium: Oil Paint\nPainting with Oil Paint\n",
     "name": "stdout"
    }
   ]
  },
  {
   "metadata": {
    "trusted": false
   },
   "cell_type": "code",
   "source": "\"\"\"\nProblem: 515\nCreate a base class Worker with a method work(). Create a derived class Electrician that overrides the work() method to print “Fix wires”.\n\"\"\"\n\n# Base class Worker\nclass Worker:\n    def work(self):\n        return \"Working on general tasks.\"\n\n# Derived class Electrician that inherits from Worker\nclass Electrician(Worker):\n    def work(self):\n        return \"Fix wires\"\n\n# Example usage\nworker = Worker()\nprint(worker.work())  # Output: Working on general tasks.\n\nelectrician = Electrician()\nprint(electrician.work())  # Output: Fix wires",
   "execution_count": null,
   "outputs": []
  },
  {
   "metadata": {
    "trusted": false
   },
   "cell_type": "code",
   "source": "\"\"\"\nProblem: 516\nCreate a base class Animal with a method eat(). Create a derived class Lion that overrides the eat() method to print “Eat meat”.\n\"\"\"\n\n# Base class Animal\nclass Animal:\n    def eat(self):\n        return \"Eating food.\"\n\n# Derived class Lion that inherits from Animal\nclass Lion(Animal):\n    def eat(self):\n        return \"Eat meat\"\n\n# Example usage\nanimal = Animal()\nprint(animal.eat())  # Output: Eating food.\n\nlion = Lion()\nprint(lion.eat())  # Output: Eat meat",
   "execution_count": null,
   "outputs": []
  },
  {
   "metadata": {
    "trusted": false
   },
   "cell_type": "code",
   "source": "\"\"\"\nProblem: 517\nCreate a base class Appliance with a method run(). Create a derived class Fan that overrides the run() method to print “Spin blades”\n\"\"\"\n\n# Base class Appliance\nclass Appliance:\n    def run(self):\n        return \"Running appliance.\"\n\n# Derived class Fan that inherits from Appliance\nclass Fan(Appliance):\n    def run(self):\n        return \"Spin blades\"\n\n# Example usage\nappliance = Appliance()\nprint(appliance.run())  # Output: Running appliance.\n\nfan = Fan()\nprint(fan.run())  # Output: Spin blades",
   "execution_count": null,
   "outputs": []
  },
  {
   "metadata": {
    "trusted": false
   },
   "cell_type": "code",
   "source": "",
   "execution_count": null,
   "outputs": []
  },
  {
   "metadata": {
    "trusted": false
   },
   "cell_type": "code",
   "source": "",
   "execution_count": null,
   "outputs": []
  },
  {
   "metadata": {
    "trusted": false
   },
   "cell_type": "code",
   "source": "",
   "execution_count": null,
   "outputs": []
  },
  {
   "metadata": {
    "trusted": false
   },
   "cell_type": "code",
   "source": "",
   "execution_count": null,
   "outputs": []
  },
  {
   "metadata": {
    "trusted": false
   },
   "cell_type": "code",
   "source": "",
   "execution_count": null,
   "outputs": []
  },
  {
   "metadata": {
    "trusted": false
   },
   "cell_type": "code",
   "source": "",
   "execution_count": null,
   "outputs": []
  },
  {
   "metadata": {
    "trusted": false
   },
   "cell_type": "code",
   "source": "",
   "execution_count": null,
   "outputs": []
  },
  {
   "metadata": {
    "trusted": false
   },
   "cell_type": "code",
   "source": "",
   "execution_count": null,
   "outputs": []
  },
  {
   "metadata": {
    "trusted": false
   },
   "cell_type": "code",
   "source": "",
   "execution_count": null,
   "outputs": []
  },
  {
   "metadata": {
    "trusted": false
   },
   "cell_type": "code",
   "source": "",
   "execution_count": null,
   "outputs": []
  },
  {
   "metadata": {
    "trusted": false
   },
   "cell_type": "code",
   "source": "",
   "execution_count": null,
   "outputs": []
  },
  {
   "metadata": {
    "trusted": false
   },
   "cell_type": "code",
   "source": "",
   "execution_count": null,
   "outputs": []
  },
  {
   "metadata": {
    "trusted": false
   },
   "cell_type": "code",
   "source": "",
   "execution_count": null,
   "outputs": []
  },
  {
   "metadata": {
    "trusted": false
   },
   "cell_type": "code",
   "source": "",
   "execution_count": null,
   "outputs": []
  },
  {
   "metadata": {
    "trusted": false
   },
   "cell_type": "code",
   "source": "",
   "execution_count": null,
   "outputs": []
  },
  {
   "metadata": {
    "trusted": false
   },
   "cell_type": "code",
   "source": "\n\"\"\"\nProblem: 518\nCreate a base class Employee with a method get_salary(). Create a derived class Intern that overrides the get_salary() method to return a lower salary.\n\"\"\"\n\n# Base class Employee\nclass Employee:\n    def get_salary(self):\n        return 5000  # Example salary for a general employee\n\n# Derived class Intern that inherits from Employee\nclass Intern(Employee):\n    def get_salary(self):\n        return 2000  # Example lower salary for an intern\n\n# Example usage\nemployee = Employee()\nprint(f\"Employee Salary: ${employee.get_salary()}\")  # Output: Employee Salary: $5000\n\nintern = Intern()\nprint(f\"Intern Salary: ${intern.get_salary()}\")  # Output: Intern Salary: $2000\n\n\"\"\"\nProblem: 519\nCreate a base class Vehicle with an attribute wheels. Create a derived class Motorcycle that overrides wheels to 2.\n\"\"\"\n\n# Base class Vehicle\nclass Vehicle:\n    def __init__(self, wheels):\n        self.wheels = wheels\n\n    def __str__(self):\n        return f\"Wheels: {self.wheels}\"\n\n# Derived class Motorcycle that inherits from Vehicle\nclass Motorcycle(Vehicle):\n    def __init__(self):\n        # Initialize the base class (Vehicle) with wheels set to 2\n        super().__init__(2)\n\n# Example usage\nvehicle = Vehicle(4)  # Example with a generic vehicle\nprint(vehicle)  # Output: Wheels: 4\n\nmotorcycle = Motorcycle()\nprint(motorcycle)  # Output: Wheels: 2\n\n\"\"\"\nProblem: 520\nCreate a base class Tool with a method use(). Create a derived class Hammer that overrides the use() method to print “Hammer nails”.\n\"\"\"\n\n# Base class Tool\nclass Tool:\n    def use(self):\n        return \"Using the tool.\"\n\n# Derived class Hammer that inherits from Tool\nclass Hammer(Tool):\n    def use(self):\n        return \"Hammer nails\"\n\n# Example usage\ntool = Tool()\nprint(tool.use())  # Output: Using the tool.\n\nhammer = Hammer()\nprint(hammer.use())  # Output: Hammer nails\n\n\"\"\"\nProblem: 521\nCreate a base class BankAccount with attributes balance and owner. Create a derived class SavingsAccount that adds an attribute interest_rate.\n\"\"\"\n\n# Base class BankAccount\nclass BankAccount:\n    def __init__(self, balance, owner):\n        self.balance = balance\n        self.owner = owner\n\n    def __str__(self):\n        return f\"Owner: {self.owner}, Balance: ${self.balance}\"\n\n# Derived class SavingsAccount that inherits from BankAccount\nclass SavingsAccount(BankAccount):\n    def __init__(self, balance, owner, interest_rate):\n        # Initialize base class (BankAccount) with balance and owner\n        super().__init__(balance, owner)\n        self.interest_rate = interest_rate\n\n    def __str__(self):\n        return f\"Owner: {self.owner}, Balance: ${self.balance}, Interest Rate: {self.interest_rate}%\"\n\n# Example usage\naccount = BankAccount(1000, \"Alice\")\nprint(account)  # Output: Owner: Alice, Balance: $1000\n\nsavings = SavingsAccount(1500, \"Bob\", 2.5)\nprint(savings)  # Output: Owner: Bob, Balance: $1500, Interest Rate: 2.5%\n\n\"\"\"\nProblem: 522\nCreate a base class Weapon with a method attack(). Create a derived class Sword that overrides the attack() method to print “Slash”.\n\"\"\"\n\n# Base class Weapon\nclass Weapon:\n    def attack(self):\n        return \"Weapon attack\"\n\n# Derived class Sword that inherits from Weapon\nclass Sword(Weapon):\n    def attack(self):\n        return \"Slash\"\n\n# Example usage\nweapon = Weapon()\nprint(weapon.attack())  # Output: Weapon attack\n\nsword = Sword()\nprint(sword.attack())  # Output: Slash\n\n\"\"\"\nProblem: 523\nCreate a base class Appliance with an attribute power. Create a derived class Microwave that adds a method heat_food().\n\"\"\"\n\n# Base class Appliance\nclass Appliance:\n    def __init__(self, power):\n        self.power = power\n\n    def __str__(self):\n        return f\"Power: {self.power} watts\"\n\n# Derived class Microwave that inherits from Appliance\nclass Microwave(Appliance):\n    def __init__(self, power):\n        # Initialize the base class (Appliance) with power\n        super().__init__(power)\n\n    def heat_food(self):\n        return \"Heating food\"\n\n# Example usage\nappliance = Appliance(1500)  # Example with an appliance\nprint(appliance)  # Output: Power: 1500 watts\n\nmicrowave = Microwave(1200)\nprint(microwave)  # Output: Power: 1200 watts\nprint(microwave.heat_food())  # Output: Heating food\n\n\"\"\"\nProblem: 524\nCreate a base class Vehicle with a method start(). Create a derived class ElectricCar that overrides the start() method to print “Silent start”.\n\"\"\"\n\n# Base class Vehicle\nclass Vehicle:\n    def start(self):\n        return \"Starting vehicle\"\n\n# Derived class ElectricCar that inherits from Vehicle\nclass ElectricCar(Vehicle):\n    def start(self):\n        return \"Silent start\"\n\n# Example usage\nvehicle = Vehicle()\nprint(vehicle.start())  # Output: Starting vehicle\n\nelectric_car = ElectricCar()\nprint(electric_car.start())  # Output: Silent start\n\n\"\"\"\nProblem: 525\nCreate a base class Pet with a method make_sound(). Create a derived class Cat that overrides the make_sound() method to print “Meow”.\n\"\"\"\n\n# Base class Pet\nclass Pet:\n    def make_sound(self):\n        return \"Some generic pet sound\"\n\n# Derived class Cat that inherits from Pet\nclass Cat(Pet):\n    def make_sound(self):\n        return \"Meow\"\n\n# Example usage\npet = Pet()\nprint(pet.make_sound())  # Output: Some generic pet sound\n\ncat = Cat()\nprint(cat.make_sound())  # Output: Meow\n\n\"\"\"\nProblem: 526\nCreate a base class Chef with a method cook(). Create a derived class PastryChef that overrides the cook() method to print “Bake cake”.\n\"\"\"\n\n# Base class Chef\nclass Chef:\n    def cook(self):\n        return \"Cook food\"\n\n# Derived class PastryChef that inherits from Chef\nclass PastryChef(Chef):\n    def cook(self):\n        return \"Bake cake\"\n\n# Example usage\nchef = Chef()\nprint(chef.cook())  # Output: Cook food\n\npastry_chef = PastryChef()\nprint(pastry_chef.cook())  # Output: Bake cake\n\n\"\"\"\nProblem: 527\nCreate a base class Furniture with attributes material and color. Create a derived class Chair that adds an attribute legs.\n\"\"\"\n\ndef create_chair(material, color, legs):\n    class Furniture:\n        def __init__(self, material, color):\n            self.material = material\n            self.color = color\n\n    class Chair(Furniture):\n        def __init__(self, material, color, legs):\n            super().__init__(material, color)\n            self.legs = legs\n\n    return Chair(material, color, legs)\n\nmy_chair = create_chair(\"wood\", \"brown\", 4)\n\n\"\"\"\nProblem: 528\nCreate a base class Game with an attribute players. Create a derived class Soccer that overrides the players attribute to 22.\n\"\"\"\n\n# Base class Game\nclass Game:\n    def __init__(self, players):\n        self.players = players\n\n    def __str__(self):\n        return f\"Players: {self.players}\"\n\n# Derived class Soccer that inherits from Game\nclass Soccer(Game):\n    def __init__(self):\n        # Initialize the base class with the specific number of players for Soccer\n        super().__init__(players=22)\n\n# Example usage\ngame = Game(10)\nprint(game)  # Output: Players: 10\n\nsoccer = Soccer()\nprint(soccer)  # Output: Players: 22\n\n\"\"\"\nProblem: 529\nCreate a base class Musician with a method play_instrument(). Create a derived class Pianist that overrides the play_instrument() method to print “Play piano”.\n\"\"\"\n\n# Base class Musician\nclass Musician:\n    def play_instrument(self):\n        return \"Play instrument\"\n\n# Derived class Pianist that inherits from Musician\nclass Pianist(Musician):\n    def play_instrument(self):\n        return \"Play piano\"\n\n# Example usage\nmusician = Musician()\nprint(musician.play_instrument())  # Output: Play instrument\n\npianist = Pianist()\nprint(pianist.play_instrument())  # Output: Play piano\n\n\"\"\"\nProblem: 530\nCreate a base class Company with attributes name and location. Create a derived class TechCompany that adds an attribute products.\n\"\"\"\n\n# Base class Company\nclass Company:\n    def __init__(self, name, location):\n        self.name = name\n        self.location = location\n\n    def __str__(self):\n        return f\"Name: {self.name}, Location: {self.location}\"\n\n# Derived class TechCompany that inherits from Company\nclass TechCompany(Company):\n    def __init__(self, name, location, products):\n        # Initialize the base class (Company) with name and location\n        super().__init__(name, location)\n        self.products = products\n\n    def __str__(self):\n        # Extend the base class string representation to include products\n        return f\"Name: {self.name}, Location: {self.location}, Products: {', '.join(self.products)}\"\n\n# Example usage\ncompany = Company(\"Global Corp\", \"New York\")\nprint(company)  # Output: Name: Global Corp, Location: New York\n\ntech_company = TechCompany(\"Tech Innovators\", \"San Francisco\", [\"Smartphone\", \"Laptop\", \"Tablet\"])\nprint(tech_company)  # Output: Name: Tech Innovators, Location: San Francisco, Products: Smartphone, Laptop, Tablet\n\n\"\"\"\nProblem: 531\nCreate a base class Gadget with a method operate(). Create a derived class Smartwatch that adds an attribute heart_rate_monitor.\n\"\"\"\n# Base class Gadget\nclass Gadget:\n    def operate(self):\n        return \"Operate gadget\"\n\n# Derived class Smartwatch that inherits from Gadget\nclass Smartwatch(Gadget):\n    def __init__(self, heart_rate_monitor):\n        # Initialize the base class (Gadget)\n        super().__init__()\n        self.heart_rate_monitor = heart_rate_monitor\n\n    def __str__(self):\n        # Provide a string representation of the Smartwatch\n        return f\"Heart Rate Monitor: {'Enabled' if self.heart_rate_monitor else 'Disabled'}\"\n\n# Example usage\ngadget = Gadget()\nprint(gadget.operate())  # Output: Operate gadget\n\nsmartwatch = Smartwatch(heart_rate_monitor=True)\nprint(smartwatch.operate())  # Output: Operate gadget\nprint(smartwatch)           # Output: Heart Rate Monitor: Enabled\n\n\"\"\"\nProblem: 532\nCreate a base class Trainer with a method train(). Create a derived class FitnessTrainer that overrides the train() method to print “Train body”.\n\"\"\"\n\n# Base class Trainer\nclass Trainer:\n    def train(self):\n        return \"Training session\"\n\n# Derived class FitnessTrainer that inherits from Trainer\nclass FitnessTrainer(Trainer):\n    def train(self):\n        print(\"Train body\")\n\n# Example usage\ntrainer = Trainer()\nprint(trainer.train())  # Output: Training session\n\nfitness_trainer = FitnessTrainer()\nfitness_trainer.train()  # Output: Train body\n\n\"\"\"\nProblem: 533\nCreate a base class Book with a method read(). Create a derived class ComicBook that overrides the read() method to print “Read with pictures”.\n\"\"\"\n\n# Base class Book\nclass Book:\n    def read(self):\n        return \"Read the book\"\n\n# Derived class ComicBook that inherits from Book\nclass ComicBook(Book):\n    def read(self):\n        print(\"Read with pictures\")\n\n# Example usage\nbook = Book()\nprint(book.read())  # Output: Read the book\n\ncomic_book = ComicBook()\ncomic_book.read()  # Output: Read with pictures\n\n\"\"\"\nProblem: 534\nCreate a base class Software with attributes name and version. Create a derived class GameSoftware that adds an attribute genre.\n\"\"\"\n\n# Base class Software\nclass Software:\n    def __init__(self, name, version):\n        self.name = name\n        self.version = version\n\n    def __str__(self):\n        return f\"Name: {self.name}, Version: {self.version}\"\n\n# Derived class GameSoftware that inherits from Software\nclass GameSoftware(Software):\n    def __init__(self, name, version, genre):\n        # Initialize the base class (Software) with name and version\n        super().__init__(name, version)\n        self.genre = genre\n\n    def __str__(self):\n        # Extend the base class string representation to include genre\n        return f\"Name: {self.name}, Version: {self.version}, Genre: {self.genre}\"\n\n# Example usage\nsoftware = Software(\"BasicApp\", \"1.0\")\nprint(software)  # Output: Name: BasicApp, Version: 1.0\n\ngame_software = GameSoftware(\"EpicQuest\", \"2.5\", \"RPG\")\nprint(game_software)  # Output: Name: EpicQuest, Version: 2.5, Genre: RPG\n",
   "execution_count": null,
   "outputs": []
  }
 ],
 "metadata": {
  "kernelspec": {
   "name": "python3",
   "display_name": "Python 3",
   "language": "python"
  },
  "language_info": {
   "name": "python",
   "version": "3.10.4",
   "mimetype": "text/x-python",
   "codemirror_mode": {
    "name": "ipython",
    "version": 3
   },
   "pygments_lexer": "ipython3",
   "nbconvert_exporter": "python",
   "file_extension": ".py"
  }
 },
 "nbformat": 4,
 "nbformat_minor": 2
}